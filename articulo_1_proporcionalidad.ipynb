{
 "cells": [
  {
   "cell_type": "markdown",
   "metadata": {},
   "source": []
  },
  {
   "cell_type": "markdown",
   "metadata": {},
   "source": []
  },
  {
   "cell_type": "markdown",
   "metadata": {},
   "source": [
    "# Artículo de proporcionalidad  "
   ]
  },
  {
   "cell_type": "markdown",
   "metadata": {},
   "source": [
    "## Clasificación hasta aquí\n",
    "\n",
    "* Tendencias_categoriales: Se entederan como las principales categorias (desarrollos teoricos) que se evidencian en la trayectoria del grupo.  \n",
    "\n",
    "* Tendencias_conceptuales: Se entenderán como las principales nociones o coceptos que han sido producidas/adoptados o discutidos en un campo específico y que influyen en la manera como se desarrollan nuevas prácticas. Palabras claves: nociones, conceptos. \n",
    "\n",
    "* Aportes_Educación_Curriculares: Se refiere a las contribuciones y enfoques relacionados con la estructura, secuencia y organización de los contenidos y experiencias de aprendizaje en un plan de estudios. (Evaluación, Desarrollo del currículo, planeación).  \n",
    "  \n",
    "* Aportes_Educación_Formación: Se refiere a la contribución en los procesos formativos de las personas. Puede estar enfocado en la adquisición de conocimientos y habilidades/entrenamiento, en las experiencias de aprendizaje, en el uso de recursos educativos, en el desarrollo personal y profesional. Tener en cuenta la formación al interior del grupo. \n",
    "\n",
    "* Aportes_Educación_Evaluación: Aportes de la investigación evaluativa y la evaluación educativa en el campo de la educación. \n",
    "* Aportes_Educación_Investigación: Aportes que se general desde la investigación formativa en la educación."
   ]
  },
  {
   "cell_type": "code",
   "execution_count": null,
   "metadata": {},
   "outputs": [],
   "source": []
  },
  {
   "cell_type": "code",
   "execution_count": null,
   "metadata": {},
   "outputs": [],
   "source": []
  },
  {
   "cell_type": "code",
   "execution_count": null,
   "metadata": {},
   "outputs": [],
   "source": []
  },
  {
   "cell_type": "code",
   "execution_count": null,
   "metadata": {},
   "outputs": [],
   "source": []
  }
 ],
 "metadata": {
  "language_info": {
   "name": "python"
  },
  "orig_nbformat": 4
 },
 "nbformat": 4,
 "nbformat_minor": 2
}
