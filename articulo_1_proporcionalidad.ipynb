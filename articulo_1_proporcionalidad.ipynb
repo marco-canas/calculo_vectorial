{
 "cells": [
  {
   "cell_type": "markdown",
   "metadata": {},
   "source": []
  },
  {
   "cell_type": "markdown",
   "metadata": {},
   "source": []
  },
  {
   "cell_type": "markdown",
   "metadata": {},
   "source": [
    "# Artículo de proporcionalidad  "
   ]
  },
  {
   "cell_type": "markdown",
   "metadata": {},
   "source": [
    "# Necesidad de la conjugación de las aproximaciones aritmética y algebraica al concepto de\n",
    "proporcionalidad  \n",
    "\n",
    "Marco Julio Cañas C.1  \n",
    "\n",
    "Universidad de Antioquia – Colombia  \n",
    "\n",
    "Una de las nociones fundamentales en educación superior y en el ejercicio profesional es la proporcionalidad (Mochón, 2012), sin embargo, los estudiantes presentan serias dificultades para su aplicación en contextos matemáticos y reales ya que solo tienen presente el esquema de la regla de tres, el cual es insuficiente para la adquisición y utilización comprensiva del concepto de proporcionalidad. Se considera que la presencia de este solo esquema en los estudiantes, es debido a la línea de enseñanza básica, media y superior seguida o implementada. Como una alternativa para este problema se presenta aquí una reflexión sobre la necesidad de conjugar una aproximación aritmética y una aproximación algebraica al concepto de proporcionalidad fundamentando esta propuesta en la hipótesis de que la adquisición de un concepto matemático requiere de vincular múltiples representaciones de él, lo que precisamente permite la conjugación de estas dos perspectivas."
   ]
  },
  {
   "cell_type": "markdown",
   "metadata": {},
   "source": [
    "## Clasificación hasta aquí\n",
    "\n",
    "* Tendencias_conceptuales: Se entenderán como las principales nociones o coceptos que han sido producidas/adoptados o discutidos en un campo específico y que influyen en la manera como se desarrollan nuevas prácticas. Palabras claves: nociones, conceptos. \n",
    "\n",
    "* Aportes_Educación_Curriculares: Se refiere a las contribuciones y enfoques relacionados con la estructura, secuencia y organización de los contenidos y experiencias de aprendizaje en un plan de estudios. (Evaluación, Desarrollo del currículo, planeación).  \n",
    "  \n",
    "* Aportes_Educación_Formación: Se refiere a la contribución en los procesos formativos de las personas. Puede estar enfocado en la adquisición de conocimientos y habilidades/entrenamiento, en las experiencias de aprendizaje, en el uso de recursos educativos, en el desarrollo personal y profesional. Tener en cuenta la formación al interior del grupo. \n",
    "\n",
    "* Aportes_Educación_Evaluación: Aportes de la investigación evaluativa y la evaluación educativa en el campo de la educación. \n",
    "* Aportes_Educación_Investigación: Aportes que se general desde la investigación formativa en la educación."
   ]
  },
  {
   "cell_type": "code",
   "execution_count": null,
   "metadata": {},
   "outputs": [],
   "source": []
  },
  {
   "cell_type": "code",
   "execution_count": null,
   "metadata": {},
   "outputs": [],
   "source": []
  },
  {
   "cell_type": "code",
   "execution_count": null,
   "metadata": {},
   "outputs": [],
   "source": []
  },
  {
   "cell_type": "code",
   "execution_count": null,
   "metadata": {},
   "outputs": [],
   "source": []
  }
 ],
 "metadata": {
  "language_info": {
   "name": "python"
  },
  "orig_nbformat": 4
 },
 "nbformat": 4,
 "nbformat_minor": 2
}
