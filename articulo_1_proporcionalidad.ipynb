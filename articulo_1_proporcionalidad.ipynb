{
 "cells": [
  {
   "cell_type": "markdown",
   "metadata": {},
   "source": []
  },
  {
   "cell_type": "markdown",
   "metadata": {},
   "source": []
  },
  {
   "cell_type": "markdown",
   "metadata": {},
   "source": [
    "# Artículo de proporcionalidad  "
   ]
  },
  {
   "cell_type": "markdown",
   "metadata": {},
   "source": [
    "# Necesidad de la conjugación de las aproximaciones aritmética y algebraica al concepto de\n",
    "proporcionalidad  \n",
    "\n",
    "Marco Julio Cañas C.1  \n",
    "\n",
    "Universidad de Antioquia – Colombia  \n",
    "\n",
    "Una de las nociones fundamentales en educación superior y en el ejercicio profesional es la proporcionalidad (Mochón, 2012), sin embargo, los estudiantes presentan serias dificultades para su aplicación en contextos matemáticos y reales ya que solo tienen presente el esquema de la regla de tres, el cual es insuficiente para la adquisición y utilización comprensiva del concepto de proporcionalidad. Se considera que la presencia de este solo esquema en los estudiantes, es debido a la línea de enseñanza básica, media y superior seguida o implementada. Como una alternativa para este problema se presenta aquí una reflexión sobre la necesidad de conjugar una aproximación aritmética y una aproximación algebraica al concepto de proporcionalidad fundamentando esta propuesta en la hipótesis de que la adquisición de un concepto matemático requiere de vincular múltiples representaciones de él, lo que precisamente permite la conjugación de estas dos perspectivas."
   ]
  },
  {
   "cell_type": "markdown",
   "metadata": {},
   "source": [
    "## Clasificación hasta aquí\n",
    "\n",
    "* Tendencias_conceptuales: Se entenderán como las principales nociones o coceptos que han sido producidas/adoptados o discutidos en un campo específico y que influyen en la manera como se desarrollan nuevas prácticas. Palabras claves: nociones, conceptos. \n",
    "\n",
    "* Aportes_Educación_Curriculares: Se refiere a las contribuciones y enfoques relacionados con la estructura, secuencia y organización de los contenidos y experiencias de aprendizaje en un plan de estudios. (Evaluación, Desarrollo del currículo, planeación).  \n",
    "  \n",
    "* Aportes_Educación_Formación: Se refiere a la contribución en los procesos formativos de las personas. Puede estar enfocado en la adquisición de conocimientos y habilidades/entrenamiento, en las experiencias de aprendizaje, en el uso de recursos educativos, en el desarrollo personal y profesional. Tener en cuenta la formación al interior del grupo. \n",
    "\n",
    "* Aportes_Educación_Evaluación: Aportes de la investigación evaluativa y la evaluación educativa en el campo de la educación. \n",
    "* Aportes_Educación_Investigación: Aportes que se general desde la investigación formativa en la educación."
   ]
  },
  {
   "cell_type": "markdown",
   "metadata": {},
   "source": [
    "1. INTRODUCCIÓN  \n",
    "\n",
    "Las concepciones erróneas de los estudiantes, acerca de las propiedades de las relaciones de proporcionalidad, y el bajo desempeño académico en cuanto a la aplicabilidad del concepto de proporcionalidad, es el punto de partida de este capítulo reflexivo, debido a que en la aproximación al concepto de proporcionalidad solo se utilice la completación de tablas y el esquema de regla de tres. Con base en lo anterior se argumenta aquí la pertinencia de la articulación de dos perspectivas para la adquisición comprensiva de la noción de proporcionalidad en educación media y superior. Se reconoce que en la educación básica solo es aplicable una aproximación aritmética al desarrollo\n",
    "del razonamiento proporcional. En primera instancia se reflexiona sobre los hechos de aula que motivaron este trabajo. Hice un diagnóstico de las dificultades de los estudiantes desde una perspectiva algebraica, es decir, desde una perspectiva que define a las relaciones de proporcionalidad como relaciones multiplicativas representadas por funciones lineales que pasan por el origen ($y = f(x) = kx$) o por funciones racionales del tipo en la ecuación (1).\n",
    "\n",
    "$$ y = f(x) = \\frac{k}{x} $$"
   ]
  },
  {
   "cell_type": "markdown",
   "metadata": {},
   "source": [
    "Seguidamente, se realizó una revisión de textos escolares en educación media y superior y las conclusiones de este trabajo. Este diagnóstico del estado general de conceptualización y desarrollo de las competencias para aplicar los conceptos de proporcionalidad en la cotidianidad, en contextos académicos y profesionales llevó a considerar que el proceso de enseñanza del concepto de proporcionalidad requiere cuestionar la enseñanza del mismo. Así, este trabajo, enmarcado en la línea de investigación en educación matemática, busca el crecimiento profesional de los profesores y la mejora de la práctica en el aula. La constitución mundial de esta línea de investigación ha implicado la creación de revistas especializadas para el profesorado que representan algunas de las altas investigaciones que en esta área se realizan.\n",
    "Zamorano (2015) destaca que la demanda de la enseñanza de la matemática en los últimos tiempos es muy alta debido a la masificación de la escuela en todo el mundo, lo que exige aprender matemática de calidad. Este aprendizaje pide preparación de los profesores y la investigación sobre su enseñanza. Este mismo autor argumenta también la necesidad de determinar qué conocimientos necesita el profesor para enseñar. Se requiere pues diseñar formas adecuadas para representar y formular los contenidos y conceptos de tal manera que sean comprensibles para que puedan hacerse dueños del concepto que se les presente. Es por ello que he pensado que la representación y formulación del concepto de proporcionalidad desde una sinergia entre dos perspectivas: la aritmética, donde se representan las relaciones de proporcionalidad a través de tablas e igualdad de razones y esquema de regla de tres, y la algebraica, donde se representan las relaciones de proporcionalidad a través de funciones lineales y racionales, lleva a la adquisición comprensiva del concepto de proporcionalidad.\n",
    "Comparto con Duval (2004) que el mayor conocimiento de la matemática y la articulación de diferentes perspectivas, enriquece los procesos de conceptualización con múltiples sistemas de representación. Y es la riqueza de sistemas de representación y la conversión entre ellos la que contribuye a la adquisición significativa y competente de los conceptos. Es así como esta propuesta está basada en el vínculo del concepto de proporcionalidad con el de función lineal y función racional, de tal manera que se pueda valer de las múltiples representaciones y propiedades que tienen para aportar a la conceptualización adecuada y desarrollo potencial del razonamiento proporcional."
   ]
  },
  {
   "cell_type": "markdown",
   "metadata": {},
   "source": [
    "## Clasificación hasta aquí\n",
    "\n",
    "* Tendencias_conceptuales: Se entenderán como las principales nociones o coceptos que han sido producidas/adoptados o discutidos en un campo específico y que influyen en la manera como se desarrollan nuevas prácticas. Palabras claves: nociones, conceptos. \n",
    "\n",
    "* Aportes_Educación_Curriculares: Se refiere a las contribuciones y enfoques relacionados con la estructura, secuencia y organización de los contenidos y experiencias de aprendizaje en un plan de estudios. (Evaluación, Desarrollo del currículo, planeación).  \n",
    "  \n",
    "* Aportes_Educación_Formación: Se refiere a la contribución en los procesos formativos de las personas. Puede estar enfocado en la adquisición de conocimientos y habilidades/entrenamiento, en las experiencias de aprendizaje, en el uso de recursos educativos, en el desarrollo personal y profesional. Tener en cuenta la formación al interior del grupo. \n",
    "\n",
    "* Aportes_Educación_Evaluación: Aportes de la investigación evaluativa y la evaluación educativa en el campo de la educación. \n",
    "* Aportes_Educación_Investigación: Aportes que se general desde la investigación formativa en la educación."
   ]
  },
  {
   "cell_type": "markdown",
   "metadata": {},
   "source": [
    "Vamos a ejemplificar con funciones $y = f(p)$ donde $p$ representará el precio de algún artículo y denotaré con la letra $r$ a los porcentajes, y utilizaré la representación decimal de estos, por ejemplo: $r = 0.5$ se refiere al $50 \\%$. Esto lo hago con una intención didáctica que facilite la lectura. Los hechos que describiré son inspirados por texto universitario de Álgebra y trigonometría de (Buriticá, 2009)."
   ]
  },
  {
   "cell_type": "markdown",
   "metadata": {},
   "source": []
  },
  {
   "cell_type": "markdown",
   "metadata": {},
   "source": [
    "2. HECHOS DE AULA  \n",
    "   \n",
    "Esta reflexión didáctica nació de mi actividad como profesor en los cursos de fundamentación matemática de los programas de Administración de Empresas, Tecnología en Saneamiento Ambiental e Ingeniería Agropecuaria en la Universidad de Antioquia Seccional Bajo Cauca durante el periodo comprendido entre los años 2015 a 2019. Al orientar el proceso de aproximación al concepto de proporcionalidad y a la temática asociada de porcentajes, y\n",
    "evaluarla, observé deficiencias o falta de competencia en las siguientes situaciones que presento numeradas ordinalmente:  \n",
    "\n",
    "1. Razonar o hacer inferencias utilizando objetos algebraicos que representan magnitudes relacionadas de una situación real\n",
    "Ejemplo: determine el porcentaje de descuento neto cuando se aplica dos porcentajes de descuentos sucesivos 𝑟1 y 𝑟2 a\n",
    "un precio p dado. En esta situación se presentan tres dificultades:  \n",
    "\n",
    "1. El razonar sin un precio p particular, y dos porcentajes 0 < 𝑟1 , 𝑟2 < 1 particulares.\n",
    "2. Considerar que el porcentaje equivalente ∆ 𝑟 es la suma de los porcentajes −(𝑟1 + 𝑟2 ) (el signo indica descuento).\n",
    "1. No diferenciar entre descuento y porcentaje de descuento.\n",
    "Generalmente, el estudiante para resolver la situación, pide al profesor el poder asignar valores particulares a las variables relacionadas. Por ejemplo: Si el precio p es de 60 pesos, 𝑟1 es 50% y 𝑟2 es 50%, entonces el precio obtenido,\n",
    "después de aplicado el primer descuento, es de 30 pesos; y el precio después de aplicar a este el segundo descuento es de 15 pesos. Así, el descuento neto fue de 45 pesos (45 = 30 + 15) y el porcentaje de descuento equivalente fue de\n",
    "75% no del 100%, (100 = 50 + 50) como el estudiante erróneamente dice. Análogamente, en la Figura 1 se observa que, si a la región circular se le elimina el 50% de ella, obtenemos una región semicircular; y si a esta última se le elimina el 50%, entonces obtenemos una región que es el 25 % de la región original, por tanto, el porcentaje de región neta eliminada es de 75%."
   ]
  },
  {
   "cell_type": "markdown",
   "metadata": {},
   "source": [
    "figura 1\n",
    "\n",
    "<img src = ''>"
   ]
  },
  {
   "cell_type": "code",
   "execution_count": null,
   "metadata": {},
   "outputs": [],
   "source": []
  },
  {
   "cell_type": "code",
   "execution_count": null,
   "metadata": {},
   "outputs": [],
   "source": []
  }
 ],
 "metadata": {
  "language_info": {
   "name": "python"
  },
  "orig_nbformat": 4
 },
 "nbformat": 4,
 "nbformat_minor": 2
}
