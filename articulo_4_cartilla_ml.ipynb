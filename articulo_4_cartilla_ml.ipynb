{
 "cells": [
  {
   "cell_type": "code",
   "execution_count": null,
   "metadata": {},
   "outputs": [],
   "source": []
  },
  {
   "cell_type": "code",
   "execution_count": null,
   "metadata": {},
   "outputs": [],
   "source": []
  },
  {
   "cell_type": "markdown",
   "metadata": {},
   "source": [
    "# Aprendiendo Machine learning en la UdeA"
   ]
  },
  {
   "cell_type": "markdown",
   "metadata": {},
   "source": [
    "## Título de la estrategia:   \n",
    "\n",
    "Estrategia didáctica para la enseñanza del Machine Learning con Python aplicada a estudiantes de los programas de Biología, Química, Estadística y Matemáticas"
   ]
  },
  {
   "cell_type": "markdown",
   "metadata": {},
   "source": [
    "### Unidad académica: Facultad de Ciencias Exactas y Naturales (Biología, Estadística, Química y Matemáticas)"
   ]
  },
  {
   "cell_type": "markdown",
   "metadata": {},
   "source": [
    "### Investigador principal\n",
    "Marco Julio Cañas Campillo\n",
    "Licenciado en Matemáticas y Física, magíster en Ciencias Matemáticas,\n",
    "docente ocasional en la Seccional Bajo Cauca e investigador del Grupo de\n",
    "Investigación Interdisciplinaria Bajo Cauca y sur de Córdoba (GIBACC).  \n",
    "\n",
    "### Coinvestigadores\n",
    "Luz Mariela López Nohava\n",
    "Bibliotecóloga, magíster en Educación, coordinadora de la Biblioteca Bajo\n",
    "Cauca, investigadora del Grupo de Investigación Interdisciplinaria Bajo\n",
    "Cauca y sur de Córdoba (GIBACC), y coordinadora del Semillero\n",
    "Interdisciplinario de Investigación del Bajo Cauca y sur de Córdoba\n",
    "(SIGIBACC) adscrito al GIBACC."
   ]
  },
  {
   "cell_type": "markdown",
   "metadata": {},
   "source": [
    "Agradecimientos especiales a Yuber Hernany Tapias Arboleda,  \n",
    "licenciado en Matemáticas Básicas, magíster en Matemáticas y docente\n",
    "de cátedra, por el apoyo y los aportes a la estrategia didáctica\n",
    "innovadora.  \n",
    "Estudiante de apoyo  \n",
    "Janis Zúñiga Ortega  \n",
    "Estudiante de sexto nivel de Biología e integrante del Semillero  \n",
    "Interdisciplinario de Investigación del Bajo Cauca y sur de Córdoba  \n",
    "(SIGIBACC)."
   ]
  },
  {
   "cell_type": "markdown",
   "metadata": {},
   "source": [
    "Glosario                               6    \n",
    "Resumen                                8    \n",
    "1. Contexto de la estrategia           9   \n",
    "2. Metodología de aprendizaje         13\n",
    "3. Rol del docente y del estudiante   15\n",
    "4. Factor diferenciador               16\n",
    "5. Evidencias                         17\n",
    "6. Plan de evaluación                 18\n",
    "7. Factores críticos                  21\n",
    "8. Referencias bibliográﬁcas          22"
   ]
  },
  {
   "cell_type": "markdown",
   "metadata": {},
   "source": [
    "GitHub de Microsoft: plataforma de desarrollo colaborativo en línea que  \n",
    "permite alojar y controlar versiones de proyectos de software. Es\n",
    "especialmente popular entre los desarrolladores de software y otros\n",
    "profesionales de tecnología, y se utiliza ampliamente para el\n",
    "almacenamiento y la gestión de código fuente y proyectos de software.\n",
    "Machine Learning: campo de estudio que le otorga a las computadoras la\n",
    "capacidad de aprender sin ser programadas explícitamente. Se dice que un\n",
    "programa de computadora aprende de la experiencia $E$ con respecto a\n",
    "alguna tarea T y alguna medida de desempeño P, si su desempeño en T,\n",
    "medido por P, mejora con la experiencia E (Mitchell et al., 1997).\n",
    "Python: lenguaje de programación de propósito general y alto nivel. Su\n",
    "ﬁlosofía de diseño enfatiza la legibilidad del código con el uso de sangría\n",
    "signiﬁcativa. Este lenguaje facilita la gestión y manipulación de datos, y la\n",
    "construcción de modelos predictivos de Machine Learning y Deep Learning.\n"
   ]
  },
  {
   "cell_type": "markdown",
   "metadata": {},
   "source": [
    "Representación geométrica para datos: son formas geométricas de representar los datos y los modelos predictivos que aprenden de ellos.  \n",
    "\n",
    "Algunas de las representaciones más comunes para datos incluyen:  \n",
    "\n",
    "\n",
    "* Diagramas de barras: útiles para comparar valores absolutos o relativos de distintas categorías.\n",
    "* Gráﬁcos de línea: adecuados para visualizar los cambios en una variable a lo largo del tiempo.\n",
    "* Gráﬁcos de dispersión: Gráficos de puntos útiles para mostrar la relación entre dos\n",
    "variables.\n",
    "* Gráﬁcos de torta: útiles para mostrar la relación de partes de un todo.\n",
    "* Diagramas de árbol: útiles para mostrar relaciones jerárquicas entre diferentes elementos."
   ]
  },
  {
   "cell_type": "markdown",
   "metadata": {},
   "source": [
    "## Clasificación hasta aquí\n",
    "\n",
    "* Aportes_Educación_Curriculares: Se refiere a las contribuciones y enfoques relacionados con la estructura, secuencia y organización de los contenidos y experiencias de aprendizaje en un plan de estudios. (Evaluación, Desarrollo del currículo, planeación).  \n",
    "  \n",
    "* Aportes_Educación_Formación: Se refiere a la contribución en los procesos formativos de las personas. Puede estar enfocado en la adquisición de conocimientos y habilidades/entrenamiento, en las experiencias de aprendizaje, en el uso de recursos educativos, en el desarrollo personal y profesional. Tener en cuenta la formación al interior del grupo. \n",
    "\n",
    "* Aportes_Educación_Evaluación: Aportes de la investigación evaluativa y la evaluación educativa en el campo de la educación. \n"
   ]
  },
  {
   "cell_type": "code",
   "execution_count": null,
   "metadata": {},
   "outputs": [],
   "source": []
  },
  {
   "cell_type": "code",
   "execution_count": null,
   "metadata": {},
   "outputs": [],
   "source": []
  },
  {
   "cell_type": "code",
   "execution_count": null,
   "metadata": {},
   "outputs": [],
   "source": []
  },
  {
   "cell_type": "code",
   "execution_count": null,
   "metadata": {},
   "outputs": [],
   "source": []
  },
  {
   "cell_type": "code",
   "execution_count": null,
   "metadata": {},
   "outputs": [],
   "source": []
  }
 ],
 "metadata": {
  "language_info": {
   "name": "python"
  },
  "orig_nbformat": 4
 },
 "nbformat": 4,
 "nbformat_minor": 2
}
