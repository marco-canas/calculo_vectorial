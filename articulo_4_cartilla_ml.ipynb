{
 "cells": [
  {
   "cell_type": "markdown",
   "metadata": {},
   "source": [
    "<table align=\"left\">\n",
    "  <td>\n",
    "    <a href=\"https://colab.research.google.com/github/marco-canas/clasificacion_mis_articulos/blob/main/articulo_4_cartilla_ml.ipynb\" target=\"_parent\"><img src=\"https://colab.research.google.com/assets/colab-badge.svg\" alt=\"Open In Colab\"/></a>\n",
    "  </td>\n",
    "</table>"
   ]
  },
  {
   "cell_type": "markdown",
   "metadata": {},
   "source": [
    "### [Video de apoyo]()"
   ]
  },
  {
   "cell_type": "markdown",
   "metadata": {},
   "source": [
    "# Aprendiendo Machine learning en la UdeA"
   ]
  },
  {
   "cell_type": "markdown",
   "metadata": {},
   "source": [
    "## Título de la estrategia:   \n",
    "\n",
    "Estrategia didáctica para la enseñanza del Machine Learning con Python aplicada a estudiantes de los programas de Biología, Química, Estadística y Matemáticas"
   ]
  },
  {
   "cell_type": "markdown",
   "metadata": {},
   "source": [
    "### Unidad académica: Facultad de Ciencias Exactas y Naturales (Biología, Estadística, Química y Matemáticas)"
   ]
  },
  {
   "cell_type": "markdown",
   "metadata": {},
   "source": [
    "### Investigador principal\n",
    "Marco Julio Cañas Campillo\n",
    "Licenciado en Matemáticas y Física, magíster en Ciencias Matemáticas,\n",
    "docente ocasional en la Seccional Bajo Cauca e investigador del Grupo de\n",
    "Investigación Interdisciplinaria Bajo Cauca y sur de Córdoba (GIBACC).  \n",
    "\n",
    "### Coinvestigadores\n",
    "Luz Mariela López Nohava\n",
    "Bibliotecóloga, magíster en Educación, coordinadora de la Biblioteca Bajo\n",
    "Cauca, investigadora del Grupo de Investigación Interdisciplinaria Bajo\n",
    "Cauca y sur de Córdoba (GIBACC), y coordinadora del Semillero\n",
    "Interdisciplinario de Investigación del Bajo Cauca y sur de Córdoba\n",
    "(SIGIBACC) adscrito al GIBACC."
   ]
  },
  {
   "cell_type": "markdown",
   "metadata": {},
   "source": [
    "Agradecimientos especiales a Yuber Hernany Tapias Arboleda,  \n",
    "licenciado en Matemáticas Básicas, magíster en Matemáticas y docente\n",
    "de cátedra, por el apoyo y los aportes a la estrategia didáctica\n",
    "innovadora.  \n"
   ]
  },
  {
   "cell_type": "markdown",
   "metadata": {},
   "source": [
    "## Estudiante de apoyo  \n",
    "Janis Zúñiga Ortega  \n",
    "Estudiante de septimo nivel de Biología e integrante del Semillero   Interdisciplinario de Investigación del Bajo Cauca y sur de Córdoba  (SIGIBACC)."
   ]
  },
  {
   "cell_type": "markdown",
   "metadata": {},
   "source": [
    "# Contenido"
   ]
  },
  {
   "cell_type": "markdown",
   "metadata": {},
   "source": [
    "Glosario                               6    \n",
    "Resumen                                8    \n",
    "1. Contexto de la estrategia           9   \n",
    "2. Metodología de aprendizaje         13\n",
    "3. Rol del docente y del estudiante   15\n",
    "4. Factor diferenciador               16\n",
    "5. Evidencias                         17\n",
    "6. Plan de evaluación                 18\n",
    "7. Factores críticos                  21\n",
    "8. Referencias bibliográﬁcas          22"
   ]
  },
  {
   "cell_type": "markdown",
   "metadata": {},
   "source": [
    "# Glosario"
   ]
  },
  {
   "cell_type": "markdown",
   "metadata": {},
   "source": [
    "* GitHub de Microsoft: plataforma de desarrollo colaborativo en línea que  permite alojar y controlar versiones de proyectos de software. Es especialmente popular entre los desarrolladores de software y otros profesionales de tecnología, y se utiliza ampliamente para el almacenamiento y la gestión de código fuente y proyectos de software.  \n"
   ]
  },
  {
   "cell_type": "markdown",
   "metadata": {},
   "source": [
    "\n",
    "* Machine Learning: campo de estudio que le otorga a las computadoras la capacidad de aprender sin ser programadas explícitamente. Se dice que un programa de computadora aprende de la experiencia $E$ con respecto a alguna tarea T y alguna medida de desempeño P, si su desempeño en T,\n",
    "medido por P, mejora con la experiencia E (Mitchell et al., 1997).  \n"
   ]
  },
  {
   "cell_type": "markdown",
   "metadata": {},
   "source": [
    "\n",
    "* Python: lenguaje de programación de propósito general y alto nivel. Su ﬁlosofía de diseño enfatiza la legibilidad del código con el uso de sangría signiﬁcativa. Este lenguaje facilita la gestión y manipulación de datos, y la construcción de modelos predictivos de Machine Learning y Deep Learning.\n"
   ]
  },
  {
   "cell_type": "markdown",
   "metadata": {},
   "source": [
    "Guido Van Rosen\n",
    "\n",
    "<img src = 'https://upload.wikimedia.org/wikipedia/commons/thumb/6/66/Guido_van_Rossum_OSCON_2006.jpg/200px-Guido_van_Rossum_OSCON_2006.jpg'>"
   ]
  },
  {
   "cell_type": "markdown",
   "metadata": {},
   "source": [
    "Representación geométrica para datos: son formas geométricas de representar los datos y los modelos predictivos que aprenden de ellos.  \n",
    "\n",
    "Algunas de las representaciones más comunes para datos incluyen:  \n",
    "\n",
    "\n",
    "* Diagramas de barras: útiles para comparar valores absolutos o relativos de distintas categorías.\n",
    "* Gráﬁcos de línea: adecuados para visualizar los cambios en una variable a lo largo del tiempo.\n",
    "* Gráﬁcos de dispersión: Gráficos de puntos útiles para mostrar la relación entre dos\n",
    "variables.\n",
    "* Gráﬁcos de torta: útiles para mostrar la relación de partes de un todo.\n",
    "* Diagramas de árbol: útiles para mostrar relaciones jerárquicas entre diferentes elementos."
   ]
  },
  {
   "cell_type": "markdown",
   "metadata": {},
   "source": [
    "## Clasificación hasta aquí\n",
    "\n",
    "\n",
    "* Aportes_Educación_Formación: Se refiere a la contribución en los procesos formativos de las personas. Puede estar enfocado en la adquisición de conocimientos y habilidades/entrenamiento, en las experiencias de aprendizaje, en el uso de recursos educativos, en el desarrollo personal y profesional. Tener en cuenta la formación al interior del grupo. \n",
    "\n",
    "* Aportes_Educación_Evaluación: Aportes de la investigación evaluativa y la evaluación educativa en el campo de la educación. \n"
   ]
  },
  {
   "cell_type": "markdown",
   "metadata": {},
   "source": [
    "Antes de elegir una representación gráﬁca para tus datos es importante considerar el tipo de información que quieres mostrar y el público al que va dirigida. Algunos gráﬁcos pueden ser más\n",
    "fáciles de interpretar que otros dependiendo del contexto y del conocimiento previo del público.   \n",
    " \n",
    "* SciKit Learn: biblioteca de aprendizaje automático de software libre para el lenguaje de programación Python. Cuenta con varios algoritmos de clasiﬁcación, regresión y agrupamiento que incluyen máquinas de vectores de soporte, bosques aleatorios, aumento de gradiente, k-means y DBSCAN,\n",
    "y está diseñado para interactuar con las bibliotecas numéricas y cientíﬁcas\n",
    "de Python NumPy y SciPy."
   ]
  },
  {
   "cell_type": "markdown",
   "metadata": {},
   "source": [
    "# Resumen  \n",
    "\n",
    "Esta propuesta recoge la experiencia didáctica para la enseñanza de la ciencia de datos a través de dos cursos, Machine Learning e Introducción al Machine Learning, aplicada a estudiantes de noveno y décimo semestre de la Facultad de Ciencias Exactas y Naturales de la Universidad de Antioquia. Se presenta como una estrategia innovadora en la educación superior porque, ante la nueva realidad de educación virtual que potencia el uso de los recursos digitales, se estableció como un proceso basado en la constitución de un sistema articulado de recursos de enseñanza, apropiación del conocimiento y evaluación que facilitó la interacción en el aprendizaje y el desarrollo de habilidades, e involucró plataformas como GitHub de Microsoft, Google Colab, YouTube, Kaggle de Google y Jupyter, y Spyder\n",
    "de Anaconda. En consecuencia, se considera una propuesta exitosa que se podría replicar transversalmente en varios programas regionalizados de la Universidad."
   ]
  },
  {
   "cell_type": "markdown",
   "metadata": {},
   "source": [
    "## Clasificación hasta aquí\n",
    "\n",
    "* Aportes_Educación_Curriculares: Se refiere a las contribuciones y enfoques relacionados con la estructura, secuencia y organización de los contenidos y experiencias de aprendizaje en un plan de estudios. (Evaluación, Desarrollo del currículo, planeación).  \n",
    "  \n",
    "* Aportes_Educación_Formación: Se refiere a la contribución en los procesos formativos de las personas. Puede estar enfocado en la adquisición de conocimientos y habilidades/entrenamiento, en las experiencias de aprendizaje, en el uso de recursos educativos, en el desarrollo personal y profesional. Tener en cuenta la formación al interior del grupo. \n",
    "\n",
    "* Aportes_Educación_Evaluación: Aportes de la investigación evaluativa y la evaluación educativa en el campo de la educación. \n"
   ]
  },
  {
   "cell_type": "markdown",
   "metadata": {},
   "source": [
    "El lenguaje de programación Python está orientado a la ciencia de datos. Las librerías Numpy, Pandas, Matplotlib y SciKit Learn de Python se consideran herramientas de manipulación, procesamiento, visualización y modelamiento."
   ]
  },
  {
   "cell_type": "markdown",
   "metadata": {},
   "source": [
    "Nota: Te invitamos a acompañar la lectura de esta cartilla con el canal de [YouTube\n",
    "DiMathData en la lista de reproducción Didactica_ciencia_datos](https://www.youtube.com/watch?v=azQi_uc6Rgo&list=PLbk60veMSVKs_6Q8vQr5YPmLbPytab5_-) y los cuadernos Jupyter en la red social [GitHub](https://github.com/marco-canas/didactica_ciencia_datos/tree/main/1_propuesta/unidad_didac), donde encuentras todos los contenidos utilizados en el desarrollo de la estrategia didáctica."
   ]
  },
  {
   "cell_type": "markdown",
   "metadata": {},
   "source": [
    "# Contexto de la estrategia\n"
   ]
  },
  {
   "cell_type": "markdown",
   "metadata": {},
   "source": [
    "\n",
    "En el marco de la cuarta revolución industrial, las universidades incursionan en la formación\n",
    "curricular de los estudiantes hacia la apropiación de conocimientos y el desarrollo de habilidades en la ciencia de datos; estos últimos son necesarios para la toma de decisiones acertadas en el mundo científico, industrial y empresarial. Dice Schwab que en esta revolución millones de los empleos nuevos serán para quienes tengan la formación y las competencias acordes a estas nuevas tendencias, por lo que el mayor desafío es “formar la fuerza laboral del futuro y, al mismo tiempo, ayudar a los trabajadores de hoy a hacer la transición a esta nueva economía” (2016, p. 6).\n"
   ]
  },
  {
   "cell_type": "markdown",
   "metadata": {},
   "source": [
    "Asimismo, la Universidad de Antioquia (2017; 2021), plantea la innovación como un pilar\n",
    "fundamental que permite la asimilación y la adaptación a las tendencias globales de la\n",
    "ciencia y la tecnología para resolver problemáticas en clave de desarrollo territorial. En\n",
    "esa medida, los docentes deben formar a los estudiantes hacia la capacidad de diversificar\n",
    "la estructura productiva en el ámbito económico para responder a los retos de la\n",
    "transformación digital y generar nuevos conocimientos que demanda el país.\n",
    "De acuerdo con lo anterior, la Universidad de Antioquia oferta asignaturas que apalancan\n",
    "los saberes de la ciencia de datos; no obstante, es a partir de la contingencia por el Covid-19\n",
    "que el uso de las tecnologías para la modalidad de educación virtual se impone como una opción ante la problemática del encierro obligatorio, pero, también, como una oportunidad\n",
    "de innovación didáctica que obligó al docente a reinventarse y a diseñar estrategias en\n",
    "la formación de los estudiantes para alcanzar objetivos concretos en el desarrollo de\n",
    "habilidades de pensamiento y competencias computacionales, las cuales facilitarán, de\n",
    "forma creativa, la apropiación de los conocimientos, el análisis de la información y la\n",
    "automatización de los datos (Wu, Li, Chandru y Daniel, 2022; Salas, Ramírez, Eslava, et al.,\n",
    "2022).\n"
   ]
  },
  {
   "cell_type": "markdown",
   "metadata": {},
   "source": [
    "Es en este contexto del uso de los lenguajes computacionales, de la educación virtual y\n",
    "de las tecnologías digitales, un docente ubicado en la región del Bajo Cauca desarrolla\n",
    "la estrategia didáctica para ofrecer los cursos Machine Learning e Introducción al Machine\n",
    "Learning a los estudiantes de octavo, noveno y décimo semestre de los programas de\n",
    "Biología, Química, Estadística y Matemáticas de la Facultad de Ciencias Exactas y Naturales\n",
    "de la Universidad de Antioquia durante el semestre 2021-2.\n",
    "Estos cursos se impartieron con la metodología de dinamización a través de la virtualidad,\n",
    "utilizando las plataformas Meet y Teams, y los cuadernos Jupyter como espacios de\n",
    "presentación de contenido y de experimentación activa de los mismos. Dicen Wu, Li, Chandru\n",
    "y Daniel que “los apoyos didácticos basados en multimedia son cada vez más populares\n",
    "en muchas disciplinas académicas” (2022, p. 2), y sabemos que en esos multimedios están\n",
    "incluidos todos los recursos digitales de las plataformas en Internet.\n",
    "Si bien ante estas estrategias los estudiantes, por ser de semestre avanzandos, tenían\n",
    "grandes conocimientos previos en el área de las asignaturas trabajadas en el aula, fue\n",
    "mediante las evaluaciones aplicadas en los cursos que se pudo percibir que las técnicas\n",
    "aportadas por el docente les generó inquietud y gran avidez, por lo que fácilmente pudieron\n",
    "articular esos saberes para desarrollar aún más sus habilidades como científicos de datos\n",
    "con capacidad para desenvolverse exitosamente en los retos laborales que exige el mundo\n",
    "industrial, científico y social.\n",
    "Igualmente, se espera que estos cursos puedan ser replicados en los programas\n",
    "regionalizados con el fin de brindar las mismas opciones de educación vanguardista a\n",
    "todos los estudiantes de la Universidad, independiente de la sede en donde se encuentren."
   ]
  },
  {
   "cell_type": "markdown",
   "metadata": {},
   "source": [
    "## Clasificación hasta aquí\n",
    "\n",
    "* Tendencias_conceptuales: Se entenderán como las principales nociones o coceptos que han sido producidas/adoptados o discutidos en un campo específico y que influyen en la manera como se desarrollan nuevas prácticas. Palabras claves: nociones, conceptos. \n",
    "\n",
    "* Aportes_Educación_Curriculares: Se refiere a las contribuciones y enfoques relacionados con la estructura, secuencia y organización de los contenidos y experiencias de aprendizaje en un plan de estudios. (Evaluación, Desarrollo del currículo, planeación).  \n",
    "  \n",
    "* Aportes_Educación_Formación: Se refiere a la contribución en los procesos formativos de las personas. Puede estar enfocado en la adquisición de conocimientos y habilidades/entrenamiento, en las experiencias de aprendizaje, en el uso de recursos educativos, en el desarrollo personal y profesional. Tener en cuenta la formación al interior del grupo. \n",
    "\n",
    "\n",
    "* Aportes_Educación_Investigación: Aportes que se general desde la investigación formativa en la educación."
   ]
  },
  {
   "cell_type": "markdown",
   "metadata": {},
   "source": [
    "# Objetivos de aprendizaje\n",
    "\n",
    "## Objetivo general  \n",
    "\n",
    "Desarrollar habilidades en ciencia de datos en el contexto de los estudiantes de los programas de Biología, Estadística, Química y Matemáticas de la Facultad de Ciencias Exactas y Naturales de la\n",
    "Universidad de Antioquia para la enseñanza y el aprendizaje de la ciencia de datos con el lenguaje Python."
   ]
  },
  {
   "cell_type": "markdown",
   "metadata": {},
   "source": [
    "### Objetivos especíﬁcos\n",
    "\n",
    "* Socializar el potencial del uso de herramientas tecnológicas, como los tutoriales de YouTube y los cuadernos Jupyter y de GitHub, en el aprendizaje de los estudiantes universitarios\n",
    "de semestres avanzados.\n",
    "\n",
    "* Identiﬁcar cómo el uso del lenguaje Python facilita el análisis y la automatización de la información en los estudiantes de la Facultad de Ciencias Exactas y Naturales.\n",
    "\n",
    "* Mejorar el conocimiento de las nuevas realidades, pero conﬁgurando una estructura de contenido interconectada que permita la interactividad del estudiante con los recursos de aprendizaje."
   ]
  },
  {
   "cell_type": "markdown",
   "metadata": {},
   "source": [
    "## Clasificación hasta aquí\n",
    "\n",
    "* Tendencias_conceptuales: Se entenderán como las principales nociones o coceptos que han sido producidas/adoptados o discutidos en un campo específico y que influyen en la manera como se desarrollan nuevas prácticas. Palabras claves: nociones, conceptos. \n",
    "\n",
    "* Aportes_Educación_Curriculares: Se refiere a las contribuciones y enfoques relacionados con la estructura, secuencia y organización de los contenidos y experiencias de aprendizaje en un plan de estudios. (Evaluación, Desarrollo del currículo, planeación).  \n",
    "  \n",
    "* Aportes_Educación_Formación: Se refiere a la contribución en los procesos formativos de las personas. Puede estar enfocado en la adquisición de conocimientos y habilidades/entrenamiento, en las experiencias de aprendizaje, en el uso de recursos educativos, en el desarrollo personal y profesional. Tener en cuenta la formación al interior del grupo. \n",
    "\n",
    "* Aportes_Educación_Evaluación: Aportes de la investigación evaluativa y la evaluación educativa en el campo de la educación. \n",
    "* Aportes_Educación_Investigación: Aportes que se general desde la investigación formativa en la educación."
   ]
  },
  {
   "cell_type": "markdown",
   "metadata": {},
   "source": [
    "# Resultados de aprendizaje  \n",
    "\n",
    "Como resultado de esta estrategia didáctica, los estudiantes:\n",
    "\n",
    "* Desarrollaron habilidades para obtener un dataset asociado a un problema investigativo o empresarial.\n",
    "\n",
    "* Constituyen un modelo predictivo de Machine Learning para realizar una tarea de clasiﬁcación o de regresión, estimando su desempeño o poder de generalización.\n",
    "\n",
    "* Están en capacidad de justiﬁcar la forma en que conﬁguran su modelo.\n",
    "\n",
    "* Presentan el proceso de su construcción y lo exponen con las interpretaciones\n",
    "de las predicciones, limitaciones y potencialidades que hacen del modelo propuesto.\n",
    "\n",
    "* Podrán acceder a estos conocimientos desde otras sedes porque se espera que los productos de aprendizaje se puedan ofertar como cursos en los programas regionalizados."
   ]
  },
  {
   "cell_type": "markdown",
   "metadata": {},
   "source": [
    "## Clasificación hasta aquí\n",
    "\n",
    "* Aportes_Educación_Curriculares: Se refiere a las contribuciones y enfoques relacionados con la estructura, secuencia y organización de los contenidos y experiencias de aprendizaje en un plan de estudios. (Evaluación, Desarrollo del currículo, planeación).  \n",
    "  \n",
    "* Aportes_Educación_Formación: Se refiere a la contribución en los procesos formativos de las personas. Puede estar enfocado en la adquisición de conocimientos y habilidades/entrenamiento, en las experiencias de aprendizaje, en el uso de recursos educativos, en el desarrollo personal y profesional. Tener en cuenta la formación al interior del grupo. \n",
    "\n",
    "* Aportes_Educación_Evaluación: Aportes de la investigación evaluativa y la evaluación educativa en el campo de la educación. \n",
    "* Aportes_Educación_Investigación: Aportes que se general desde la investigación formativa en la educación."
   ]
  },
  {
   "cell_type": "markdown",
   "metadata": {},
   "source": [
    "# Metodología de aprendizaje  \n",
    "\n",
    "La estructura conceptual estuvo enmarcada en la cuarta revolución industrial desde el big\n",
    "data, el Internet de las cosas (IoT), la automatización y la ciencia de datos que, en general,\n",
    "permiten el trabajo y el uso de diferentes técnicas y tecnologías en el aula de clase para la\n",
    "articulación del mundo real, social y empresarial con los aprendizajes de los profesionales\n",
    "en formación.\n",
    "Se implementó la siguiente secuencia didáctica:\n",
    "\n",
    "<img src = 'https://github.com/marco-canas/didactica_ciencia_datos/blob/main/4_images/metodologia_de_ense%C3%B1anza_ml.png?raw=true' width = 500>"
   ]
  },
  {
   "cell_type": "markdown",
   "metadata": {},
   "source": [
    "## Clasificación hasta aquí\n",
    "\n",
    "* Aportes_Educación_Curriculares: Se refiere a las contribuciones y enfoques relacionados con la estructura, secuencia y organización de los contenidos y experiencias de aprendizaje en un plan de estudios. (Evaluación, Desarrollo del currículo, planeación).  \n",
    "  \n",
    "* Aportes_Educación_Formación: Se refiere a la contribución en los procesos formativos de las personas. Puede estar enfocado en la adquisición de conocimientos y habilidades/entrenamiento, en las experiencias de aprendizaje, en el uso de recursos educativos, en el desarrollo personal y profesional. Tener en cuenta la formación al interior del grupo. \n",
    "\n",
    "* Aportes_Educación_Evaluación: Aportes de la investigación evaluativa y la evaluación educativa en el campo de la educación. \n",
    "* Aportes_Educación_Investigación: Aportes que se general desde la investigación formativa en la educación."
   ]
  },
  {
   "cell_type": "code",
   "execution_count": null,
   "metadata": {},
   "outputs": [],
   "source": []
  },
  {
   "cell_type": "code",
   "execution_count": null,
   "metadata": {},
   "outputs": [],
   "source": []
  },
  {
   "cell_type": "code",
   "execution_count": null,
   "metadata": {},
   "outputs": [],
   "source": []
  },
  {
   "cell_type": "code",
   "execution_count": null,
   "metadata": {},
   "outputs": [],
   "source": []
  },
  {
   "cell_type": "code",
   "execution_count": null,
   "metadata": {},
   "outputs": [],
   "source": []
  }
 ],
 "metadata": {
  "language_info": {
   "name": "python"
  },
  "orig_nbformat": 4
 },
 "nbformat": 4,
 "nbformat_minor": 2
}
