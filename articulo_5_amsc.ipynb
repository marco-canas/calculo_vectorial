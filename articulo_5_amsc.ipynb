{
 "cells": [
  {
   "cell_type": "markdown",
   "metadata": {},
   "source": []
  },
  {
   "cell_type": "markdown",
   "metadata": {},
   "source": []
  },
  {
   "cell_type": "markdown",
   "metadata": {},
   "source": [
    "# Antioquia mira su cielo Caracterización del cielo a través de monitoreo y análisis de variables climáticas esenciales"
   ]
  },
  {
   "cell_type": "markdown",
   "metadata": {},
   "source": [
    "Por:  \n",
    "Esteban Silva Villa  \n",
    "Instituto de Física  \n",
    "Leidy De La Ossa V  \n",
    "Ciencias Económicas Sede Caucasia  \n",
    "Marco Cañas  \n",
    "Instituto de Matemáticas Sede Caucasia  \n",
    "Verónica Muñoz  \n",
    "Ingeniería Agropecuaria Sede Santa Fé de Antioquia  \n",
    "Carlos Gutierrez  \n",
    "Ciencias del Mar Sede Urabá  \n",
    "John Alejandro Martínez  \n",
    "Escuela Ambiental Ciudad Universitaria  \n",
    "Daniel Arbeláez Cardona  \n",
    "Instituto de Física Ciudad Universitaria  "
   ]
  },
  {
   "cell_type": "markdown",
   "metadata": {},
   "source": []
  },
  {
   "cell_type": "code",
   "execution_count": null,
   "metadata": {},
   "outputs": [],
   "source": []
  },
  {
   "cell_type": "code",
   "execution_count": null,
   "metadata": {},
   "outputs": [],
   "source": []
  },
  {
   "cell_type": "code",
   "execution_count": null,
   "metadata": {},
   "outputs": [],
   "source": []
  },
  {
   "cell_type": "code",
   "execution_count": null,
   "metadata": {},
   "outputs": [],
   "source": []
  },
  {
   "cell_type": "code",
   "execution_count": null,
   "metadata": {},
   "outputs": [],
   "source": []
  },
  {
   "cell_type": "code",
   "execution_count": null,
   "metadata": {},
   "outputs": [],
   "source": []
  },
  {
   "cell_type": "code",
   "execution_count": null,
   "metadata": {},
   "outputs": [],
   "source": []
  },
  {
   "cell_type": "code",
   "execution_count": null,
   "metadata": {},
   "outputs": [],
   "source": []
  },
  {
   "cell_type": "code",
   "execution_count": null,
   "metadata": {},
   "outputs": [],
   "source": []
  }
 ],
 "metadata": {
  "language_info": {
   "name": "python"
  },
  "orig_nbformat": 4
 },
 "nbformat": 4,
 "nbformat_minor": 2
}
