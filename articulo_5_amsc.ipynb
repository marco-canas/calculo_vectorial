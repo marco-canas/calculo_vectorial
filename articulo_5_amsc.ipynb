{
 "cells": [
  {
   "cell_type": "markdown",
   "metadata": {},
   "source": [
    "<table align=\"left\">\n",
    "  <td>\n",
    "    <a href=\"https://colab.research.google.com/github/marco-canas/4_didactica_aritmetica/blob/main/modelo_general_clase_aula_invertida.ipynb\" target=\"_parent\"><img src=\"https://colab.research.google.com/assets/colab-badge.svg\" alt=\"Open In Colab\"/></a>\n",
    "  </td>\n",
    "</table>"
   ]
  },
  {
   "cell_type": "markdown",
   "metadata": {},
   "source": [
    "### [Video de apoyo]()"
   ]
  },
  {
   "cell_type": "markdown",
   "metadata": {},
   "source": [
    "# Antioquia mira su cielo Caracterización del cielo a través de monitoreo y análisis de variables climáticas esenciales"
   ]
  },
  {
   "cell_type": "markdown",
   "metadata": {},
   "source": [
    "Por:  \n",
    "Esteban Silva Villa  \n",
    "Instituto de Física  \n",
    "Leidy De La Ossa V  \n",
    "Ciencias Económicas Sede Caucasia  \n",
    "Marco Cañas  \n",
    "Instituto de Matemáticas Sede Caucasia  \n",
    "Verónica Muñoz  \n",
    "Ingeniería Agropecuaria Sede Santa Fé de Antioquia  \n",
    "Carlos Gutierrez  \n",
    "Ciencias del Mar Sede Urabá  \n",
    "John Alejandro Martínez  \n",
    "Escuela Ambiental Ciudad Universitaria  \n",
    "Daniel Arbeláez Cardona  \n",
    "Instituto de Física Ciudad Universitaria  \n",
    "\n",
    "Carlos A. Palacio T.  \n",
    "Escuela Ambiental Ciudad Universitaria  \n",
    "Germán Chaparro  \n",
    "Instituto de Física Ciudad Universitaria  \n",
    "Pablo Cuartas Restrepo  \n",
    "Instituto de Física Ciudad Universitaria  \n",
    "León Alexander Valencia  \n",
    "Instituto de Matemáticas Ciudad Universitaria  "
   ]
  },
  {
   "cell_type": "markdown",
   "metadata": {},
   "source": [
    "# RESUMEN  \n",
    "\n",
    "La estacionalidad y los ciclos de las variables climáticas esenciales tales como la temperatura, el agua precipitable, la irradiancia, entre otras, tienen un comportamiento turbulento y caótico por naturaleza. Dicho comportamiento hace que su estudio a pequeña escala, tanto temporal como\n",
    "espacial, no pueda hacerse de una forma directa. \n",
    "A través del uso de estaciones de monitoreo permanente, imágenes satelitales y modelos teóricos computacionales, estudiaremos el comportamiento de la atmósfera sobre el Departamento de Antioquia.\n",
    "Este estudio se enfocará en los cielos de las sedes regionales de la Universidad de Antioquia, tratando de maximizar el área de cobertura territorial. Una máxima cobertura, con una alta resolución tanto espacial como temporal, permitirá que los estudios que se realicen tengan resultados únicos.\n",
    "Usaremos estaciones meteorológicas y cámaras Allsky para medir los parámetros atmosféricos y del cielo, que serán corroborados con imágenes del satélite GOES-16. Una vez corroborados los datos, se compararán con modelos teóricos computacionales, que nos permitirán realizar pronósticos a\n",
    "pequeñas escalas de tiempo (~1 día). Para realizar este proyecto, se reunió un conjunto de profesionales que han trabajado en el área, favoreciendo la viabilidad del mismo.  \n"
   ]
  },
  {
   "cell_type": "markdown",
   "metadata": {},
   "source": [
    "\n",
    "Al finalizar este proyecto se logrará lo siguiente: \n",
    " \n",
    "* Haber involucrado 3 estudiantes de las sedes regionales de la Universidad.\n",
    "* La instalación de 3 estaciones meteorológicas de monitoreo permanente funcionando plenamente.\n",
    "* Un producto de divulgación.\n",
    "* Un programa de charlas públicas para escuelas y colegios de las sedes regionales usando los datos del proyecto.\n",
    "* Una página web en un servidor de la Universidad donde se ofrecerá acceso a todos los datos obtenidos.\n",
    "* Las condiciones y herramientas mínimas para que el conjunto de estaciones de monitoreo continúe funcionando una vez termine el proyecto."
   ]
  },
  {
   "cell_type": "markdown",
   "metadata": {},
   "source": [
    "## Clasificación hasta aquí\n",
    "\n",
    "* Tendencias_conceptuales: Se entenderán como las principales nociones o coceptos que han sido producidas/adoptados o discutidos en un campo específico y que influyen en la manera como se desarrollan nuevas prácticas. Palabras claves: nociones, conceptos. \n",
    "\n",
    "* Aportes_Educación_Curriculares: Se refiere a las contribuciones y enfoques relacionados con la estructura, secuencia y organización de los contenidos y experiencias de aprendizaje en un plan de estudios. (Evaluación, Desarrollo del currículo, planeación).  \n",
    "  \n",
    "* Aportes_Educación_Formación: Se refiere a la contribución en los procesos formativos de las personas. Puede estar enfocado en la adquisición de conocimientos y habilidades/entrenamiento, en las experiencias de aprendizaje, en el uso de recursos educativos, en el desarrollo personal y profesional. Tener en cuenta la formación al interior del grupo. \n",
    "\n",
    "* Aportes_Educación_Evaluación: Aportes de la investigación evaluativa y la evaluación educativa en el campo de la educación. \n",
    "* Aportes_Educación_Investigación: Aportes que se general desde la investigación formativa en la educación."
   ]
  },
  {
   "cell_type": "markdown",
   "metadata": {},
   "source": []
  },
  {
   "cell_type": "markdown",
   "metadata": {},
   "source": [
    "## Clasificación hasta aquí\n",
    "\n",
    "* Tendencias_conceptuales: Se entenderán como las principales nociones o coceptos que han sido producidas/adoptados o discutidos en un campo específico y que influyen en la manera como se desarrollan nuevas prácticas. Palabras claves: nociones, conceptos. \n",
    "\n",
    "* Aportes_Educación_Curriculares: Se refiere a las contribuciones y enfoques relacionados con la estructura, secuencia y organización de los contenidos y experiencias de aprendizaje en un plan de estudios. (Evaluación, Desarrollo del currículo, planeación).  \n",
    "  \n",
    "* Aportes_Educación_Formación: Se refiere a la contribución en los procesos formativos de las personas. Puede estar enfocado en la adquisición de conocimientos y habilidades/entrenamiento, en las experiencias de aprendizaje, en el uso de recursos educativos, en el desarrollo personal y profesional. Tener en cuenta la formación al interior del grupo. \n",
    "\n",
    "* Aportes_Educación_Evaluación: Aportes de la investigación evaluativa y la evaluación educativa en el campo de la educación. \n",
    "* Aportes_Educación_Investigación: Aportes que se general desde la investigación formativa en la educación."
   ]
  },
  {
   "cell_type": "code",
   "execution_count": null,
   "metadata": {},
   "outputs": [],
   "source": []
  },
  {
   "cell_type": "code",
   "execution_count": null,
   "metadata": {},
   "outputs": [],
   "source": []
  },
  {
   "cell_type": "code",
   "execution_count": null,
   "metadata": {},
   "outputs": [],
   "source": []
  },
  {
   "cell_type": "code",
   "execution_count": null,
   "metadata": {},
   "outputs": [],
   "source": []
  },
  {
   "cell_type": "code",
   "execution_count": null,
   "metadata": {},
   "outputs": [],
   "source": []
  },
  {
   "cell_type": "code",
   "execution_count": null,
   "metadata": {},
   "outputs": [],
   "source": []
  }
 ],
 "metadata": {
  "language_info": {
   "name": "python"
  },
  "orig_nbformat": 4
 },
 "nbformat": 4,
 "nbformat_minor": 2
}
