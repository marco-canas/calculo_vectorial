{
 "cells": [
  {
   "cell_type": "markdown",
   "id": "dc06dec7",
   "metadata": {
    "slideshow": {
     "slide_type": "slide"
    }
   },
   "source": [
    "<table align=\"left\">\n",
    "  <td>\n",
    "    <a href=\"https://colab.research.google.com/github/ageron/handson-ml3/blob/main/tools_numpy.ipynb\" target=\"_parent\"><img src=\"https://colab.research.google.com/assets/colab-badge.svg\" alt=\"Open In Colab\"/></a>\n",
    "  </td>\n",
    "  <td>\n",
    "    <a target=\"_blank\" href=\"https://kaggle.com/kernels/welcome?src=https://github.com/ageron/handson-ml3/blob/main/tools_numpy.ipynb\"><img src=\"https://kaggle.com/static/images/open-in-kaggle.svg\" /></a>\n",
    "  </td>\n",
    "</table>"
   ]
  },
  {
   "cell_type": "markdown",
   "id": "e0c5b198",
   "metadata": {
    "slideshow": {
     "slide_type": "slide"
    }
   },
   "source": [
    "### [Video de apoyo a la lectura interactiva y experimental de este cuaderno]()"
   ]
  },
  {
   "cell_type": "markdown",
   "id": "41e82203",
   "metadata": {
    "slideshow": {
     "slide_type": "slide"
    }
   },
   "source": [
    "### [Vínculo al programa del curso:  ]()\n",
    "\n",
    "Código del curso de Cálculo Vectorial: 5009344  "
   ]
  },
  {
   "cell_type": "markdown",
   "id": "d11ab06d",
   "metadata": {
    "slideshow": {
     "slide_type": "slide"
    }
   },
   "source": [
    "Un reconocimiento a mis estudiantes que han construido conmigo este saber pedagógico:\n",
    "\n",
    "<img src = ''> \n",
    "\n"
   ]
  },
  {
   "cell_type": "markdown",
   "id": "8a74a56c-0ce6-4ad6-b985-553fd7fb68bb",
   "metadata": {},
   "source": [
    "Reconocimiento a las profesoras destacadas en enseñanza de la matemática en Colombia\n"
   ]
  },
  {
   "cell_type": "code",
   "execution_count": 2,
   "id": "7604880f",
   "metadata": {
    "slideshow": {
     "slide_type": "slide"
    }
   },
   "outputs": [
    {
     "data": {
      "application/vnd.microsoft.datawrangler.viewer.v0+json": {
       "columns": [
        {
         "name": "index",
         "rawType": "int64",
         "type": "integer"
        },
        {
         "name": "CÃ©dula",
         "rawType": "int64",
         "type": "integer"
        },
        {
         "name": "Nombre",
         "rawType": "object",
         "type": "string"
        },
        {
         "name": "Email",
         "rawType": "object",
         "type": "string"
        },
        {
         "name": "Asistencia",
         "rawType": "int64",
         "type": "integer"
        }
       ],
       "conversionMethod": "pd.DataFrame",
       "ref": "60da1450-460d-4d6b-9d6e-a40a8b9f991e",
       "rows": [
        [
         "0",
         "1193404816",
         "AMARIS FERNANDEZ SEBASTIAN CAMILO",
         "sebastian.amaris@udea.edu.co",
         "0"
        ],
        [
         "1",
         "1007528664",
         "AYALA MENDOZA MARISOL YACIRA",
         "marisol.ayala@udea.edu.co",
         "0"
        ],
        [
         "2",
         "1064188463",
         "MASS MIRANDA RIVALDO JOSE",
         "rivaldo.mass@udea.edu.co",
         "0"
        ],
        [
         "3",
         "1066570075",
         "MONTERROSA SOTO ABRIL",
         "a.monterrosa@udea.edu.co",
         "0"
        ]
       ],
       "shape": {
        "columns": 4,
        "rows": 4
       }
      },
      "text/html": [
       "<div>\n",
       "<style scoped>\n",
       "    .dataframe tbody tr th:only-of-type {\n",
       "        vertical-align: middle;\n",
       "    }\n",
       "\n",
       "    .dataframe tbody tr th {\n",
       "        vertical-align: top;\n",
       "    }\n",
       "\n",
       "    .dataframe thead th {\n",
       "        text-align: right;\n",
       "    }\n",
       "</style>\n",
       "<table border=\"1\" class=\"dataframe\">\n",
       "  <thead>\n",
       "    <tr style=\"text-align: right;\">\n",
       "      <th></th>\n",
       "      <th>CÃ©dula</th>\n",
       "      <th>Nombre</th>\n",
       "      <th>Email</th>\n",
       "      <th>Asistencia</th>\n",
       "    </tr>\n",
       "  </thead>\n",
       "  <tbody>\n",
       "    <tr>\n",
       "      <th>0</th>\n",
       "      <td>1193404816</td>\n",
       "      <td>AMARIS FERNANDEZ SEBASTIAN CAMILO</td>\n",
       "      <td>sebastian.amaris@udea.edu.co</td>\n",
       "      <td>0</td>\n",
       "    </tr>\n",
       "    <tr>\n",
       "      <th>1</th>\n",
       "      <td>1007528664</td>\n",
       "      <td>AYALA MENDOZA MARISOL YACIRA</td>\n",
       "      <td>marisol.ayala@udea.edu.co</td>\n",
       "      <td>0</td>\n",
       "    </tr>\n",
       "    <tr>\n",
       "      <th>2</th>\n",
       "      <td>1064188463</td>\n",
       "      <td>MASS MIRANDA RIVALDO JOSE</td>\n",
       "      <td>rivaldo.mass@udea.edu.co</td>\n",
       "      <td>0</td>\n",
       "    </tr>\n",
       "    <tr>\n",
       "      <th>3</th>\n",
       "      <td>1066570075</td>\n",
       "      <td>MONTERROSA SOTO ABRIL</td>\n",
       "      <td>a.monterrosa@udea.edu.co</td>\n",
       "      <td>0</td>\n",
       "    </tr>\n",
       "  </tbody>\n",
       "</table>\n",
       "</div>"
      ],
      "text/plain": [
       "      CÃ©dula                             Nombre  \\\n",
       "0  1193404816  AMARIS FERNANDEZ SEBASTIAN CAMILO   \n",
       "1  1007528664       AYALA MENDOZA MARISOL YACIRA   \n",
       "2  1064188463          MASS MIRANDA RIVALDO JOSE   \n",
       "3  1066570075              MONTERROSA SOTO ABRIL   \n",
       "\n",
       "                          Email  Asistencia  \n",
       "0  sebastian.amaris@udea.edu.co           0  \n",
       "1     marisol.ayala@udea.edu.co           0  \n",
       "2      rivaldo.mass@udea.edu.co           0  \n",
       "3      a.monterrosa@udea.edu.co           0  "
      ]
     },
     "execution_count": 2,
     "metadata": {},
     "output_type": "execute_result"
    }
   ],
   "source": [
    "import pandas as pd\n",
    "\n",
    "# Ruta del archivo\n",
    "path = 'C:/Users/marco/Documentos/docencia/groups_list/vectorial.xls'\n",
    "\n",
    "# Leer el archivo como CSV o TSV\n",
    "# Si el archivo está separado por tabulaciones (TSV)\n",
    "estudiantes = pd.read_csv(path, sep=',', encoding='ISO-8859-1')\n",
    "estudiantes.head(4)  # Mostrar las primeras 3 filas\n"
   ]
  },
  {
   "cell_type": "code",
   "execution_count": 5,
   "id": "9f5a9c04",
   "metadata": {},
   "outputs": [
    {
     "name": "stdout",
     "output_type": "stream",
     "text": [
      "Llamando a MONTERROSA SOTO ABRIL...\n",
      "Llamando a MASS MIRANDA RIVALDO JOSE...\n",
      "Llamando a AYALA MENDOZA MARISOL YACIRA...\n",
      "Llamando a AMARIS FERNANDEZ SEBASTIAN CAMILO...\n",
      "Cambios guardados en el archivo CSV.\n"
     ]
    }
   ],
   "source": [
    "import numpy as np \n",
    "# Convertir la columna 'Nombre' a una lista de Python\n",
    "lista_estudiantes = estudiantes['Nombre'].tolist()\n",
    "\n",
    "# Función para llamar a un estudiante aleatoriamente y registrar su nota de seguimiento\n",
    "def asistencia():\n",
    "    global lista_estudiantes\n",
    "    if lista_estudiantes:\n",
    "        estudiante_aleatorio = np.random.choice(lista_estudiantes)\n",
    "        print(f\"Llamando a {estudiante_aleatorio}...\")\n",
    "        asistencia = input(f\"¿Asistió {estudiante_aleatorio}? (s/n): \").strip().lower()\n",
    "        \n",
    "        # Validación de entrada\n",
    "        if asistencia == 'n':\n",
    "            # Obtener el índice del estudiante en el DataFrame\n",
    "            indice = estudiantes[estudiantes['Nombre'] == estudiante_aleatorio].index[0]\n",
    "            # Incrementar su valor en la columna 'Parcial'\n",
    "            estudiantes.at[indice, 'Asistencia'] += 4\n",
    "            print(f\"Actualizado: {estudiante_aleatorio} ahora tiene {estudiantes.at[indice, 'Parcial']} en la columna 'Parcial'.\")\n",
    "        \n",
    "        elif asistencia != 's':\n",
    "            print(\"Entrada inválida. Por favor, introduce 's' para sí o 'n' para no.\")\n",
    "            return  # Volver a preguntar para el mismo estudiante si la entrada es inválida\n",
    "        \n",
    "        # Remover al estudiante de la lista para no llamarlo de nuevo\n",
    "        lista_estudiantes.remove(estudiante_aleatorio)\n",
    "    else:\n",
    "        print(\"Se han llamado a todos los estudiantes del grupo completo.\")\n",
    "\n",
    "# Función para guardar cambios al final de la sesión\n",
    "def guardar_cambios():\n",
    "    estudiantes.to_csv(path, index=False)\n",
    "    print(\"Cambios guardados en el archivo CSV.\")\n",
    "\n",
    "# Ejemplo de uso\n",
    "while lista_estudiantes:\n",
    "    asistencia()\n",
    "\n",
    "# Guardar los cambios una vez que todos los estudiantes hayan sido llamados\n",
    "guardar_cambios()\n",
    "\n"
   ]
  },
  {
   "cell_type": "markdown",
   "id": "d7598d0a-d9b7-4ae0-b029-a0ed6ed1130b",
   "metadata": {},
   "source": [
    "\n",
    "# Principios de mi labor docente"
   ]
  },
  {
   "cell_type": "markdown",
   "id": "4f9d8cf9",
   "metadata": {
    "slideshow": {
     "slide_type": "slide"
    }
   },
   "source": [
    "## Modelo general de clase: [aula invertida](https://www3.gobiernodecanarias.org/medusa/ecoescuela/pedagotic/aprendizaje-invertido-flipped-classroom/)"
   ]
  },
  {
   "cell_type": "markdown",
   "id": "eb6ed03a",
   "metadata": {},
   "source": [
    "<img src = 'https://resources.maneuveringthemiddle.com/wp-content/uploads/2020/07/04212706/1-5.png' width = 200>  \n",
    "\n"
   ]
  },
  {
   "cell_type": "markdown",
   "id": "34319cce-a71b-4f64-aab8-b53e521efa40",
   "metadata": {},
   "source": [
    "# Metodología de enseñanza basada en problemas (ABP)\n"
   ]
  },
  {
   "cell_type": "markdown",
   "id": "c4f73d81",
   "metadata": {},
   "source": [
    "\n",
    "<img src = 'https://www.unir.net/wp-content/uploads/2020/07/aprendizaje-problemas2-1-1-1-1.jpeg' width = 200>"
   ]
  },
  {
   "cell_type": "markdown",
   "id": "841a985c-bd9b-4dd3-8e4c-893983980af2",
   "metadata": {},
   "source": [
    "# Desarrollo del pensamiento computacional con Lenguaje R y con archivos R Markdown orientado a la formación en ciencia de datos \n",
    "\n"
   ]
  },
  {
   "cell_type": "markdown",
   "id": "3d0eba94",
   "metadata": {},
   "source": [
    "\n",
    "<img src = 'https://i.ytimg.com/vi/mcG_wcR4e6M/maxresdefault.jpg' width = 200>"
   ]
  },
  {
   "cell_type": "markdown",
   "id": "65aa0404-f7ae-495e-864c-1aec01b4255e",
   "metadata": {},
   "source": [
    "# Principio de fomento a la ciencia abierta, enseñar en el acceso a los datos públicos y el uso de software de código abierto  \n"
   ]
  },
  {
   "cell_type": "markdown",
   "id": "18ae9b87",
   "metadata": {},
   "source": [
    "\n",
    "<img src = 'https://unesdoc.unesco.org/in/rest/Thumb/image?id=p%3A%3Ausmarcdef_0000379949_spa&author=UNESCO&title=Recomendaci%C3%B3n+de+la+UNESCO+sobre+la+Ciencia+Abierta&year=2021&publisher=UNESCO&TypeOfDocument=UnescoPhysicalDocument&mat=PGD&ct=true&size=512&isPhysical=1' width = 200>"
   ]
  },
  {
   "cell_type": "markdown",
   "id": "d9559f85",
   "metadata": {},
   "source": [
    "El enfoque STEAMS en educación preescolar, primaria y secundaria es una extensión del enfoque STEM (Ciencia, Tecnología, Ingeniería y Matemáticas) y su variante STEAM, que incorpora el Arte. "
   ]
  },
  {
   "cell_type": "markdown",
   "id": "72e1cfd2",
   "metadata": {},
   "source": [
    "El acrónimo STEAMS incluye:\n"
   ]
  },
  {
   "cell_type": "markdown",
   "id": "03182fd1",
   "metadata": {},
   "source": [
    "\n",
    "1. **Science (Ciencia):** Fomenta la curiosidad por el mundo natural y el desarrollo de habilidades científicas, como la observación, experimentación y análisis.\n"
   ]
  },
  {
   "cell_type": "markdown",
   "id": "1306d0fa",
   "metadata": {},
   "source": [
    "\n",
    "2. **Technology (Tecnología):** Integra herramientas tecnológicas para potenciar el aprendizaje y la resolución de problemas, promoviendo la alfabetización digital desde edades tempranas.\n"
   ]
  },
  {
   "cell_type": "markdown",
   "id": "3b1a53e8",
   "metadata": {},
   "source": [
    "\n",
    "3. **Engineering (Ingeniería):** Introduce el pensamiento lógico y la resolución de problemas estructurados, fomentando habilidades como el diseño y la construcción de soluciones.\n"
   ]
  },
  {
   "cell_type": "markdown",
   "id": "0196de87",
   "metadata": {},
   "source": [
    "\n",
    "4. **Arts (Arte):** Añade creatividad y pensamiento crítico, permitiendo a los estudiantes expresarse y explorar el aprendizaje a través de formas artísticas (plásticas, música, teatro).\n"
   ]
  },
  {
   "cell_type": "markdown",
   "id": "8bcc485a",
   "metadata": {},
   "source": [
    "\n",
    "5. **Mathematics (Matemáticas):** Refuerza las habilidades numéricas y el razonamiento lógico, fundamentales en la resolución de problemas y comprensión de conceptos abstractos.\n"
   ]
  },
  {
   "cell_type": "markdown",
   "id": "907935f4",
   "metadata": {},
   "source": [
    "\n",
    "6. **Social Sciences (Ciencias Sociales):** Incorpora la comprensión del entorno social, político, cultural y económico, promoviendo el desarrollo de la conciencia crítica sobre el mundo y su historia, además de habilidades de empatía y ciudadanía.\n"
   ]
  },
  {
   "cell_type": "markdown",
   "id": "39967d63",
   "metadata": {},
   "source": [
    "\n",
    "El enfoque STEAMS pretende desarrollar un aprendizaje **interdisciplinario** que integre estas áreas para fomentar un pensamiento más holístico y práctico. "
   ]
  },
  {
   "cell_type": "markdown",
   "id": "5145f077",
   "metadata": {},
   "source": [
    "Se busca que los estudiantes no solo aprendan conocimientos técnicos, sino también cómo aplicarlos creativa y críticamente en situaciones reales, promoviendo habilidades como el trabajo en equipo, la comunicación y la innovación. "
   ]
  },
  {
   "cell_type": "markdown",
   "id": "9d556584",
   "metadata": {},
   "source": [
    "En educación preescolar, primaria, secundaria y superior, se adapta a las diferentes etapas de desarrollo cognitivo y emocional de los estudiantes, promoviendo el aprendizaje activo y contextualizado.  \n"
   ]
  },
  {
   "cell_type": "markdown",
   "id": "0130ec1b",
   "metadata": {},
   "source": [
    "\n",
    "<img src = 'https://www.campuseducacion.com/blog/wp-content/uploads/2023/03/foto01-1.jpg' width = 200>"
   ]
  },
  {
   "cell_type": "markdown",
   "id": "9d15c10d-2c02-4158-9419-b1ed79b4c1ee",
   "metadata": {},
   "source": [
    "# Qué estamos haciendo por la internalización en esta clase y este curso  \n"
   ]
  },
  {
   "cell_type": "markdown",
   "id": "6e4feef2",
   "metadata": {},
   "source": [
    "Estas son mis acciones como docente de matemáticas en la Universidad de Antioquia con miras a la **internacionalización** de mi práctica docente y el desarrollo de competencias internacionales para mis estudiantes, ls cuales he estructurado con el siguiente enfoque:\n"
   ]
  },
  {
   "cell_type": "markdown",
   "id": "964d9de7-53ee-4255-9bcd-d8e6454f2993",
   "metadata": {},
   "source": [
    "### 1. **Visión Global en la Formación Académica**\n"
   ]
  },
  {
   "cell_type": "markdown",
   "id": "d9bdd3e2",
   "metadata": {},
   "source": [
    "   - **Competencias Internacionales**: Asegúrate de que el contenido de tus cursos fomente habilidades que sean reconocidas globalmente. Al educar a los estudiantes en **Python, LaTeX, Markdown y Jupyter Notebooks** y en la **introducción a la ciencia de datos y técnicas de Machine Learning**, estás proporcionando competencias altamente demandadas en los sectores tecnológicos y académicos a nivel internacional.\n"
   ]
  },
  {
   "cell_type": "markdown",
   "id": "39b55206",
   "metadata": {},
   "source": [
    "   - **Relevancia de los Contenidos**: Destaca cómo los temas que enseñas, como el **desarrollo del pensamiento computacional** y la **ciencia de datos**, están alineados con las necesidades globales actuales en diversas industrias, desde la tecnología hasta las ciencias naturales y sociales.\n"
   ]
  },
  {
   "cell_type": "markdown",
   "id": "a054599e",
   "metadata": {},
   "source": [
    "   - **Referencias a Estándares Internacionales**: Puedes vincular tu enseñanza a estándares internacionales de competencias en programación y ciencia de datos (por ejemplo, frameworks del **IEEE, ACM**, y estándares de la **data science** o la **computación en la nube**)."
   ]
  },
  {
   "cell_type": "markdown",
   "id": "0f1d110c-3142-48fe-9e7d-5fbd9e8bb931",
   "metadata": {},
   "source": [
    "### 2. **Innovación Pedagógica con Enfoque Internacional**\n"
   ]
  },
  {
   "cell_type": "markdown",
   "id": "fae6ae34",
   "metadata": {},
   "source": [
    "   - **Aula Invertida y ABP**: Presenta cómo tu enfoque de **aula invertida** y **aprendizaje basado en problemas (ABP)** permite a los estudiantes trabajar de manera autónoma y colaborativa, lo que los prepara para escenarios laborales internacionales que requieren autoaprendizaje y habilidades de resolución de problemas en equipo.\n"
   ]
  },
  {
   "cell_type": "markdown",
   "id": "c83062d9",
   "metadata": {},
   "source": [
    "   - **Uso de Jupyter Notebooks**: El uso de **Jupyter Notebooks** en tus clases no solo facilita la **integración de código, matemáticas y texto**, sino que también es una plataforma utilizada globalmente en ambientes académicos y profesionales, lo que hace a tus estudiantes más competitivos internacionalmente."
   ]
  },
  {
   "cell_type": "markdown",
   "id": "960d52b7-03cd-4eb3-965e-5cdfeb7d9f8e",
   "metadata": {},
   "source": [
    "### 3. **Tecnología y Herramientas de Uso Global**\n"
   ]
  },
  {
   "cell_type": "markdown",
   "id": "4be7269f",
   "metadata": {},
   "source": [
    "   - **Lenguaje Python**: Python es uno de los lenguajes de programación más usados a nivel mundial, tanto en la academia como en la industria."
   ]
  },
  {
   "cell_type": "markdown",
   "id": "ef25c3de",
   "metadata": {},
   "source": [
    "Al formar a tus estudiantes en Python para ciencia de datos y machine learning, los preparas para operar en entornos tecnológicos globales.\n"
   ]
  },
  {
   "cell_type": "markdown",
   "id": "102655af",
   "metadata": {},
   "source": [
    "   - **Herramientas de Ciencia Abierta**: Resalta cómo herramientas como **GitHub**, **Google Colab** y otras plataformas de código abierto están alineadas con el movimiento de **ciencia abierta**, el cual es internacionalmente reconocido y permite que los estudiantes colaboren y compartan proyectos a nivel global."
   ]
  },
  {
   "cell_type": "markdown",
   "id": "3b2ffa32-7a6f-4545-ba7b-c6a69f51109f",
   "metadata": {},
   "source": [
    "### 4. **Investigación y Publicaciones Internacionales**\n"
   ]
  },
  {
   "cell_type": "markdown",
   "id": "bdbf52a5",
   "metadata": {},
   "source": [
    "   - **Promoción de la Investigación**: Detalla cómo promueves que tus estudiantes participen en proyectos de **investigación aplicada**, con posibilidad de publicación en revistas internacionales. "
   ]
  },
  {
   "cell_type": "markdown",
   "id": "5decd926",
   "metadata": {},
   "source": [
    "Esto contribuye a la reputación internacional de la Universidad de Antioquia.\n"
   ]
  },
  {
   "cell_type": "markdown",
   "id": "ea01fcbc",
   "metadata": {},
   "source": [
    "   - **Colaboraciones Internacionales**: Si has colaborado con investigadores de otras instituciones o universidades en el extranjero, menciona estos proyectos y cómo han enriquecido tu enseñanza y proporcionado a los estudiantes una visión más globalizada."
   ]
  },
  {
   "cell_type": "markdown",
   "id": "5d1e396e-aece-4bf7-9421-32fa7809eaf4",
   "metadata": {},
   "source": [
    "## 5. **Uso del Inglés para la Internacionalización**\n"
   ]
  },
  {
   "cell_type": "markdown",
   "id": "29cabf26",
   "metadata": {},
   "source": [
    "   - **Comunicación Científica en Inglés**: "
   ]
  },
  {
   "cell_type": "markdown",
   "id": "8ec53ff3",
   "metadata": {},
   "source": [
    "Fomentar el aprendizaje del inglés como lengua científica es clave para que tus estudiantes puedan acceder a publicaciones internacionales, conferencias, y material académico que no está disponible en español. "
   ]
  },
  {
   "cell_type": "markdown",
   "id": "a58ab7d4",
   "metadata": {},
   "source": [
    "Esto es esencial para que adquieran competencias que les permitan desempeñarse en cualquier contexto internacional.\n"
   ]
  },
  {
   "cell_type": "markdown",
   "id": "b831224f",
   "metadata": {},
   "source": [
    "   - **Material Bilingüe**: Al generar material educativo en Python, LaTeX y Markdown, considera ofrecer algunos de estos recursos en inglés, para que los estudiantes se familiaricen con el vocabulario técnico y científico internacional."
   ]
  },
  {
   "cell_type": "markdown",
   "id": "c6a8c3b0-426a-4692-a384-3065aea81c9a",
   "metadata": {},
   "source": [
    "### 6. **Certificaciones y Estándares Internacionales**\n"
   ]
  },
  {
   "cell_type": "markdown",
   "id": "b1f41da5",
   "metadata": {},
   "source": [
    "   - **Participación en Certificaciones Internacionales**: Impulsa que los estudiantes busquen certificaciones internacionales en Python o ciencia de datos (como las ofrecidas por **Coursera, edX,** o **Google**). "
   ]
  },
  {
   "cell_type": "markdown",
   "id": "3bfb6db9",
   "metadata": {},
   "source": [
    "Estas certificaciones no solo validan sus competencias, sino que también incrementan el reconocimiento de la Universidad de Antioquia en el contexto internacional.\n"
   ]
  },
  {
   "cell_type": "markdown",
   "id": "7cc66317",
   "metadata": {},
   "source": [
    "   - **Alineación con Acreditaciones Internacionales**: Vincula tu trabajo docente con los estándares de acreditación y certificación que garantizan que la universidad siga siendo reconocida internacionalmente. "
   ]
  },
  {
   "cell_type": "markdown",
   "id": "f70f7407",
   "metadata": {},
   "source": [
    "Puedes vincularte con organizaciones internacionales que promuevan la excelencia en la educación y tecnología, como **ABET** para la acreditación en ingeniería y ciencias computacionales."
   ]
  },
  {
   "cell_type": "markdown",
   "id": "65d3d9e1-ea84-43e0-8197-a2a9c9e21594",
   "metadata": {},
   "source": [
    "### 7. **Proyectos Abiertos y Ciencia Reproducible**\n"
   ]
  },
  {
   "cell_type": "markdown",
   "id": "f03f7b20",
   "metadata": {},
   "source": [
    "   - **GitHub y Open Science**: La utilización de **GitHub** para almacenar los proyectos y materiales de enseñanza en repositorios públicos permite que otros investigadores y educadores internacionales puedan revisar y replicar tu trabajo. Esto contribuye a la creación de una red de colaboración científica abierta.\n"
   ]
  },
  {
   "cell_type": "markdown",
   "id": "bb2eb4a7",
   "metadata": {},
   "source": [
    "   - **Transparencia y Reproducibilidad**: La ciencia de datos y machine learning están profundamente ligados a la reproducibilidad. Asegura que tus estudiantes desarrollen prácticas de transparencia y documentación en la investigación, que son pilares en la comunidad científica global.\n"
   ]
  },
  {
   "cell_type": "markdown",
   "id": "215cb551",
   "metadata": {},
   "source": [
    "\n",
    "### 8. **Participación en Redes y Conferencias Internacionales**\n",
    "   - **Presentación en Conferencias Internacionales**: Destaca cómo tu participación en conferencias internacionales (como la **ASCOLFA** o eventos sobre educación en matemáticas) contribuye al prestigio de la universidad y permite que tus prácticas sean evaluadas y reconocidas a nivel global.\n"
   ]
  },
  {
   "cell_type": "markdown",
   "id": "cdf46e29",
   "metadata": {},
   "source": [
    "   - **Promoción de Estudiantes en Eventos Internacionales**: Impulsa la participación de tus estudiantes en competiciones internacionales de programación o hackathons, como los organizados por **Google**, **ACM** o **Kaggle**. "
   ]
  },
  {
   "cell_type": "markdown",
   "id": "a913042d",
   "metadata": {},
   "source": [
    "Esto no solo desarrolla sus habilidades, sino que también visibiliza el talento de la Universidad de Antioquia a nivel global.\n",
    "\n",
    "---"
   ]
  },
  {
   "cell_type": "markdown",
   "id": "233294a4-1983-4641-a7ad-866825e02315",
   "metadata": {},
   "source": [
    "Con esta estrategia, presento mis acciones docentes en términos de competencias internacionales, innovación pedagógica, tecnología, investigación y participación en redes globales, asegurando que mi práctica esté alineada con los estándares internacionales y que tus estudiantes estén preparados para competir en contextos internacionales."
   ]
  },
  {
   "cell_type": "markdown",
   "id": "77da458b",
   "metadata": {},
   "source": [
    "### **Metodología de Enseñanza: Aprendizaje Basado en Problemas y Proyectos (ABPP)**\n"
   ]
  },
  {
   "cell_type": "markdown",
   "id": "c943d273",
   "metadata": {},
   "source": [
    "\n",
    "El **Aprendizaje Basado en Problemas y Proyectos (ABPP)** es una metodología educativa que integra los enfoques del **Aprendizaje Basado en Problemas (ABP)** y el **Aprendizaje Basado en Proyectos (PBL, por sus siglas en inglés)**. "
   ]
  },
  {
   "cell_type": "markdown",
   "id": "6d3d2b4b",
   "metadata": {},
   "source": [
    "Es especialmente útil para la formación de futuros docentes, ingenieros y administradores, ya que combina el desarrollo de habilidades prácticas con el pensamiento crítico y reflexivo. "
   ]
  },
  {
   "cell_type": "markdown",
   "id": "8aa30c4b",
   "metadata": {},
   "source": [
    "A continuación, se presenta una descripción adaptada a la enseñanza de las matemáticas en educación infantil, Licenciatura en Matemáticas, Ingeniería Agropecuaria y Administración de Empresas:\n",
    "\n",
    "---\n"
   ]
  },
  {
   "cell_type": "markdown",
   "id": "0eeba3f5",
   "metadata": {},
   "source": [
    "\n",
    "### **1. Fundamentos del ABPP**\n",
    "El ABPP se basa en:\n",
    "- **Resolución de Problemas Reales:** Los estudiantes analizan y resuelven problemas auténticos relacionados con su área de formación, fomentando la aplicación práctica del conocimiento.\n"
   ]
  },
  {
   "cell_type": "markdown",
   "id": "8a62c154",
   "metadata": {},
   "source": [
    "- **Proyectos como Herramientas Integradoras:** Los proyectos permiten desarrollar habilidades interdisciplinarias y ofrecer soluciones concretas a los problemas planteados.\n"
   ]
  },
  {
   "cell_type": "markdown",
   "id": "d2ef3e02",
   "metadata": {},
   "source": [
    "- **Aprendizaje Activo:** Los estudiantes son responsables de su aprendizaje y participan activamente en el proceso de investigación, diseño y solución.\n",
    "\n",
    "\n"
   ]
  },
  {
   "cell_type": "markdown",
   "id": "3728d010",
   "metadata": {},
   "source": [
    "\n",
    "### **2. Aplicación del ABPP en Áreas Específicas**\n",
    "\n",
    "#### **Educación Infantil (Licenciatura en Educación Infantil)**\n"
   ]
  },
  {
   "cell_type": "markdown",
   "id": "4e4aad89",
   "metadata": {},
   "source": [
    "- **Enfoque:** Desarrollo del pensamiento matemático en la infancia desde contextos lúdicos, familiares y culturales.\n",
    "- **Problemas típicos:** \n",
    "  - ¿Cómo enseñar los números naturales mediante actividades prácticas y juegos?\n",
    "  - ¿Qué estrategias pueden emplearse para abordar el concepto de cantidad en edades tempranas?\n",
    "- **Proyectos:** Diseño de secuencias didácticas que usen Python, Jupyter Notebooks y materiales manipulativos para enseñar matemáticas de forma interactiva.\n"
   ]
  },
  {
   "cell_type": "markdown",
   "id": "c10edaa1",
   "metadata": {},
   "source": [
    "- **Competencias desarrolladas:** \n",
    "  - Uso de herramientas tecnológicas para diseñar actividades educativas.\n",
    "  - Comprensión del desarrollo cognitivo infantil y su relación con las matemáticas.\n"
   ]
  },
  {
   "cell_type": "markdown",
   "id": "481f614a",
   "metadata": {},
   "source": [
    "\n",
    "#### **Licenciatura en Matemáticas**\n",
    "- **Enfoque:** Resolución de problemas matemáticos aplicados y profundización teórica en áreas como análisis matemático y modelado.\n",
    "- **Problemas típicos:**\n",
    "  - ¿Cómo se pueden resolver ecuaciones diferenciales aplicadas a modelos físicos o económicos?\n",
    "  - ¿Cómo modelar fenómenos naturales mediante funciones matemáticas?\n"
   ]
  },
  {
   "cell_type": "markdown",
   "id": "eb6a9552",
   "metadata": {},
   "source": [
    "- **Proyectos:** \n",
    "  - Desarrollo de software educativo para explorar conceptos matemáticos.\n",
    "  - Aplicación de modelado matemático para resolver problemas reales en otras disciplinas.\n",
    "- **Competencias desarrolladas:**\n",
    "  - Dominio de la matemática teórica y aplicada.\n",
    "  - Uso de tecnología para la enseñanza y la investigación.\n"
   ]
  },
  {
   "cell_type": "markdown",
   "id": "83ab236f",
   "metadata": {},
   "source": [
    "\n",
    "#### **Ingeniería Agropecuaria**\n",
    "- **Enfoque:** Modelado matemático y análisis de datos para mejorar la producción agrícola y la gestión de recursos.\n",
    "- **Problemas típicos:**\n",
    "  - ¿Cómo modelar el crecimiento de cultivos considerando variables climáticas?\n",
    "  - ¿Cómo optimizar el uso del agua en sistemas de riego mediante análisis matemático?\n"
   ]
  },
  {
   "cell_type": "markdown",
   "id": "7a5f8a62",
   "metadata": {},
   "source": [
    "- **Proyectos:** \n",
    "  - Desarrollo de modelos predictivos con Python y bibliotecas de aprendizaje automático.\n",
    "  - Implementación de proyectos que combinen matemáticas y ciencias de datos para resolver problemas agrícolas.\n",
    "- **Competencias desarrolladas:**\n",
    "  - Integración de matemáticas con tecnologías avanzadas.\n",
    "  - Resolución de problemas agropecuarios mediante análisis y modelado.\n"
   ]
  },
  {
   "cell_type": "markdown",
   "id": "c4519bb3",
   "metadata": {},
   "source": [
    "\n",
    "#### **Administración de Empresas**\n",
    "- **Enfoque:** Uso de las matemáticas y la ciencia de datos para la toma de decisiones estratégicas.\n",
    "- **Problemas típicos:**\n",
    "  - ¿Cómo identificar patrones de comportamiento del consumidor usando series de tiempo?\n",
    "  - ¿Qué estrategias matemáticas pueden optimizar la asignación de recursos en una empresa?\n"
   ]
  },
  {
   "cell_type": "markdown",
   "id": "cfb17fc1",
   "metadata": {},
   "source": [
    "- **Proyectos:** \n",
    "  - Implementación de modelos de análisis financiero y simulaciones.\n",
    "  - Desarrollo de dashboards interactivos para la gestión de datos empresariales.\n",
    "- **Competencias desarrolladas:**\n",
    "  - Habilidad para interpretar datos matemáticos en contextos de negocio.\n",
    "  - Capacidad para diseñar soluciones basadas en datos.\n",
    "\n",
    "---\n"
   ]
  },
  {
   "cell_type": "markdown",
   "id": "19be58d4",
   "metadata": {},
   "source": [
    "\n",
    "### **3. Beneficios del ABPP**\n",
    "- **Desarrollo de competencias clave:**\n",
    "  - Pensamiento crítico y creativo.\n",
    "  - Trabajo colaborativo.\n",
    "  - Comunicación efectiva.\n",
    "  - Uso de herramientas tecnológicas avanzadas.\n"
   ]
  },
  {
   "cell_type": "markdown",
   "id": "377c482f",
   "metadata": {},
   "source": [
    "- **Adaptación al contexto laboral:** Los estudiantes aprenden a enfrentar desafíos del mundo real y a diseñar soluciones prácticas y aplicables.\n",
    "- **Flexibilidad e interdisciplinariedad:** La metodología se adapta a diversas áreas, fomentando el aprendizaje integrado.\n",
    "\n",
    "---\n"
   ]
  },
  {
   "cell_type": "markdown",
   "id": "e36034c3",
   "metadata": {},
   "source": [
    "\n",
    "### **4. Ejemplo General de Implementación**\n",
    "1. **Identificación del problema:** Se plantea un desafío concreto, como modelar el crecimiento poblacional de una comunidad rural (Ingeniería Agropecuaria) o diseñar una estrategia para enseñar fracciones a niños de 8 años (Educación Infantil).\n",
    "2. **Formación de equipos:** Los estudiantes trabajan en grupos, distribuyendo roles y tareas.\n",
    "3. **Investigación y diseño:** Los estudiantes investigan el problema, proponen soluciones y diseñan un proyecto.\n",
    "4. **Implementación:** Se desarrolla el proyecto, como una herramienta tecnológica o una propuesta pedagógica.\n",
    "5. **Evaluación:** Los estudiantes presentan sus resultados en un informe o una exposición, recibiendo retroalimentación de sus compañeros y docentes.\n"
   ]
  },
  {
   "cell_type": "markdown",
   "id": "0c54ddec",
   "metadata": {},
   "source": [
    "\n",
    "---\n",
    "\n",
    "El ABPP es una metodología versátil que conecta el conocimiento teórico con la práctica, preparando a los estudiantes para los retos de sus profesiones en la enseñanza de la matemática, la ingeniería y la administración."
   ]
  },
  {
   "cell_type": "markdown",
   "id": "8d97dc80",
   "metadata": {
    "slideshow": {
     "slide_type": "slide"
    }
   },
   "source": [
    "## Fomento de la lectura literaria asociada a Ingeniería agropecuaria y licenciatura en Matemáticas\n",
    "\n",
    "[Aprender a obtener el sí sin ceder]()"
   ]
  },
  {
   "cell_type": "markdown",
   "id": "96775931",
   "metadata": {
    "slideshow": {
     "slide_type": "slide"
    }
   },
   "source": [
    "## Título de la clase: Vectores en el plano   \n",
    "\n",
    "[]()"
   ]
  },
  {
   "cell_type": "code",
   "execution_count": 1,
   "id": "28bae6cb",
   "metadata": {},
   "outputs": [],
   "source": [
    "def save_fig(nombre_archivo_imagen):\n",
    "    import os \n",
    "    import matplotlib.pyplot as plt\n",
    "    ubicacion_para_imagenes = r\"C:/Users/marco/Downloads\"\n",
    "    imagen_path = os.path.join(ubicacion_para_imagenes, nombre_archivo_imagen)\n",
    "    plt.savefig(imagen_path, bbox_inches='tight')"
   ]
  },
  {
   "cell_type": "markdown",
   "id": "b90c7767",
   "metadata": {},
   "source": [
    "# Estructura general para todas las clases\n",
    "\n",
    "Dame, por favor, un diseño de clase, con los enfoques didácticos de enseñanza: \" STEAMS y de Aprendizaje Basado en Problemas y Proyectos (ABPP)\" sobre: **\"Vectores en el plano con aplicaciones a Ingeniería agropecuaria en Caucasia Antioquia\"**, siguiendo la estructura:   \n",
    "\n",
    "1. Título de la clase   \n",
    "   \n",
    "2. Objetivos de aprendizaje  e indicadores del logro de estos objetivos.   \n",
    "   \n",
    "3. Un mapa conceptual que resuma la clase elaborado en Graphviz de python con nodos y edges de diferentes formas, colores y rellenos y renderizado en la siguiente ubicación:  \n",
    "    `\"C:/Users/marco/Downloads\"`.  \n",
    "   No olvides el parámetro `view = True` para el método `render()` de Graphviz. Para este mapa controla las superposiciones de los nodos con:  \n",
    "   graph [overlap=false]; // Elimina superposiciones  (puede aumentar el espacio)  \n",
    "   graph [overlap=\"scalexy\"]; // Escala el gráfico para evitar overlaps  \n",
    "   graph [overlap=\"compress\"]; // Comprime el grafo sin overlaps   \n",
    "   \n",
    "4. Contenido de la clase adaptado a lo que este curso de calculo vectorial y de varias variables le puede aportar a que los estudiantes puedan alcanzar su perfil de   \n",
    "   Ingenieros Agropecuarios de la Facultad de Ciencias Agrarias  de la Universidad de Antioquia - Campus Caucasia. Estructura el contenido para estudiar a la circunferencia siguiendo la secuencia: Problemas prácticas en el Agro Caucasiano donde la circunferencia puede ser aplicable $\\to$ Definición y propiedades geométricas de la circunferencia $\\to$  Definición y propiedades algebraicas de la circunferencia $\\to$ Soluciones a problemas reales del Agro en Caucasia - Antioquia utilizando la circunferencia.  \n",
    "   \n",
    "5. Dame elementos históricos y epistemológicos asociados a esta clase, pero contados como un cuento al estilo de un cuentero antioqueño en Colombia. Incluye imágenes de los protagonistas históricos de esta clase.   \n",
    "   \n",
    "6. Actividades de aprendizaje.    \n",
    "     - Diseña una actividad de aprendizaje a través del uso de la Calculadora Casio 991 LA cw  \n",
    "     - \n",
    "7. Incluye una canción o un poema que ayude a interiorizar y fijar los conceptos asociados a esta clase.   \n",
    "   \n",
    "   \n",
    "8. Tarea o actividades de ejercitación y fijación  \n",
    " \n",
    "9.  Evaluación incluyendo diez proyectos, un ejemplo de quiz (de tres preguntas) y un ejemplo de parcial (de cinco puntos)  \n",
    "   \n",
    "10. Diseño de actividad de retroalimentación.    \n",
    "     \n",
    "11. Dame un vocabulario y frases del idioma inglés asociadas a esta clase.    \n",
    "    \n",
    "12.  Incluye apéndice para la clase sobre desarrollo de habilidades para trabajar en equipo y de asertividad y empatía para relacionarnos. También elementos de la inteligencia emocional para presentar pruebas sin temor y sin realizar fraude en ellas.    \n",
    "     \n",
    "13. Incluye 10 referentes en didáctica de la matemática que estén de acuerdo a la propuesta didáctica de esta clase. Adiciona a estos referentes a Raymond Duval (Representaciones y cambios de representación para la adquisición de conceptos matemáticos) y a Jeannette Wing (Desarrollo del pensamiento computacional). Dejame todos estos referentes ordenados de acuerdo a las normas APA. Dejame todos estos referentes ordenados de acuerdo a las normas APA. Incluye las citaciones a estos referentes a medida que vallas diseñando la clase.    \n",
    "\n",
    "\n",
    "Pero  que este diseño sea para que el estudiante pueda aprender experimentando en cuadernos Jupyter con funciones de usuario y animaciones y visualizaciones en python. En particular utiliza para el diseño de clase a Numpy, Pandas, SymPy, Matplotlib.pyplot, Seaborn, Plotly, ipywidgets, matplotlib.animation y Jupyter Notebook.    \n",
    "\n",
    "Cada vez que utilices `matplotlib.animacion` no olvides incluir el uso de `IPython. display` para la rederización de estas animaciones a través de Jupyter Notebook.   \n",
    "\n",
    "No olvides darme los diseños de clase con las ecuaciones matemáticas delimitadas con signo de dolar $ para que VS Code si me renderize estas expresiones del lenguaje latex. Cuando vallas a utilizar ipywidgets ten en cuenta la siguiente importación inicial para garantizar que la visualización interactiva si se renderize en VS Code:  \n",
    "import numpy as np  \n",
    "import matplotlib.pyplot as plt  \n",
    "import ipywidgets as widgets  \n",
    "from IPython.display import display, clear_output  \n",
    "from matplotlib.patches import Rectangle  \n",
    "\n",
    "# Configuración inicial para visualización estática  \n",
    "%matplotlib inline "
   ]
  },
  {
   "cell_type": "code",
   "execution_count": null,
   "id": "a3d38493",
   "metadata": {},
   "outputs": [],
   "source": [
    "# Automatizacion de la generación del prompt para cada clase de vectorial\n",
    "\n",
    "def(seccion_conica):\n",
    "    "
   ]
  },
  {
   "cell_type": "markdown",
   "id": "6bb94a5a",
   "metadata": {},
   "source": [
    "Aquí tienes un **diseño de clase integrando STEAM y ABPP**, adaptado a ingeniería agropecuaria en Caucasia (Antioquia), con enfoque experimental en Jupyter Notebook y Python:\n",
    "\n",
    "---\n",
    "\n",
    "### **1. Título de la clase**:  \n",
    "*\"Vectores en el plano: aplicaciones al diseño de silos hiperbólicos y sistemas de riego en Caucasia\"*  \n",
    "\n",
    "---\n",
    "\n",
    "### **2. Objetivos e indicadores**:  \n",
    "- **Objetivos**:  \n",
    "  - Aplicar vectores para modelar geometrías de silos y trayectorias de riego.  \n",
    "  - Resolver problemas agropecuarios usando ecuaciones paramétricas de la circunferencia.  \n",
    "  - Visualizar datos espaciales con Python.  \n",
    "- **Indicadores**:  \n",
    "  - El estudiante simula al menos 2 diseños de silos usando `matplotlib.animation`.  \n",
    "  - Propone soluciones vectoriales a problemas de distribución de cultivos (ej: áreas circulares de riego).  \n",
    "\n",
    "---\n",
    "\n",
    "### **3. Mapa conceptual (Graphviz)**  \n"
   ]
  },
  {
   "cell_type": "code",
   "execution_count": 1,
   "id": "bda4a26d",
   "metadata": {},
   "outputs": [
    {
     "data": {
      "text/plain": [
       "'C:\\\\Users\\\\marco\\\\Downloads\\\\mapa_clase.png'"
      ]
     },
     "execution_count": 1,
     "metadata": {},
     "output_type": "execute_result"
    }
   ],
   "source": [
    "\n",
    "from graphviz import Digraph\n",
    "\n",
    "dot = Digraph(comment='Clase Vectores', engine='neato')\n",
    "dot.attr(overlap='scalexy', splines='true', layout='neato')\n",
    "\n",
    "# Nodos\n",
    "dot.node('A', 'Vectores en el plano', shape='ellipse', style='filled', color='lightblue')\n",
    "dot.node('B', 'STEAM', shape='box', style='filled', color='gold')\n",
    "dot.node('C', 'ABPP', shape='box', style='filled', color='coral')\n",
    "dot.node('D', 'Silos hiperbólicos', shape='ellipse', style='filled', color='lightgreen')\n",
    "dot.node('E', 'Caucasia', shape='ellipse', style='filled', color='pink')\n",
    "\n",
    "# Edges\n",
    "dot.edges(['AB', 'AC', 'AD', 'DE', 'AE'])\n",
    "dot.render(directory='C:/Users/marco/Downloads', filename='mapa_clase', view=True, format='png')\n",
    "\n"
   ]
  },
  {
   "cell_type": "markdown",
   "id": "3997d054",
   "metadata": {},
   "source": [
    "\n",
    "### **4. Contenido adaptado**  \n"
   ]
  },
  {
   "cell_type": "markdown",
   "id": "63f39a09",
   "metadata": {},
   "source": [
    "**Secuencia ABPP**:  \n"
   ]
  },
  {
   "cell_type": "markdown",
   "id": "54765fcc",
   "metadata": {},
   "source": [
    "1. **Problema real**:  \n",
    "   - *\"¿Cómo optimizar el almacenamiento de granos en silos circulares en climas húmedos?\"*  \n"
   ]
  },
  {
   "cell_type": "markdown",
   "id": "a2f01e0d",
   "metadata": {},
   "source": [
    "2. **Geometría de la circunferencia**:  \n",
    "   - Ecuación vectorial: $\\vec{r}(t) = (a \\cos t, a \\sin t)$.   \n",
    "  \n",
    "[Video de recurso para vector como punto, o vector como flecha](https://www.youtube.com/watch?v=uatG48m3Xj0)"
   ]
  },
  {
   "cell_type": "code",
   "execution_count": null,
   "id": "a8a6b717",
   "metadata": {
    "vscode": {
     "languageId": "plaintext"
    }
   },
   "outputs": [],
   "source": [
    " \n",
    "   \n",
    "   import numpy as np\n",
    "   t = np.linspace(0, 2*np.pi, 100)\n",
    "   x = 3 * np.cos(t)  # Radio ajustable para silos\n",
    "   plt.plot(x, y, label='Silo circular')\n",
    "   \n"
   ]
  },
  {
   "cell_type": "markdown",
   "id": "54467e45",
   "metadata": {},
   "source": [
    "3. **Aplicación**:  \n",
    "   - Simular con `ipywidgets` cómo cambia el volumen al variar el radio.  \n",
    "\n",
    "---\n",
    "\n",
    "### **5. Historia (cuento antioqueño)**  \n",
    "*\"Érase una vez en Caucasia, un ingeniero que soñaba con silos que no se humedecieran... Así, como Arquímedes gritó ¡Eureka! al descubrir el círculo, nuestro héroe usó vectores para domar la humedad...\"*  \n",
    "- **Imágenes sugeridas**: Arquímedes, Diana López (silos hiperbólicos).  \n",
    "\n",
    "---\n"
   ]
  },
  {
   "cell_type": "markdown",
   "id": "b690c13a",
   "metadata": {},
   "source": [
    "\n",
    "### **6. Actividades**  \n",
    "- **Con Casio 991 LA cw**: Calcular áreas de cultivo usando integrales circulares.  \n",
    "- **Jupyter Notebook**:  \n"
   ]
  },
  {
   "cell_type": "code",
   "execution_count": null,
   "id": "63378c23",
   "metadata": {},
   "outputs": [
    {
     "data": {
      "application/vnd.jupyter.widget-view+json": {
       "model_id": "29e5ed05f4814f76a7191a006f2f3658",
       "version_major": 2,
       "version_minor": 0
      },
      "text/plain": [
       "interactive(children=(IntSlider(value=5, description='radio', max=10, min=1), Output()), _dom_classes=('widget…"
      ]
     },
     "metadata": {},
     "output_type": "display_data"
    }
   ],
   "source": [
    "from ipywidgets import interact\n",
    "@interact(radio=(1, 10))\n",
    "def plot_circle(radio=5):\n",
    "    plt.figure(figsize=(6, 6))\n",
    "    plt.gca().add_patch(plt.Circle((0, 0), radio, fill=False))\n",
    "    plt.axis([-12, 12, -12, 12])\n",
    "\n"
   ]
  },
  {
   "cell_type": "markdown",
   "id": "bd3924b0",
   "metadata": {},
   "source": [
    "\n",
    "---\n"
   ]
  },
  {
   "cell_type": "markdown",
   "id": "8986727b",
   "metadata": {},
   "source": [
    "\n",
    "### **7. Canción/Poema**  \n",
    "*\"Con vectores y un compás,  \n",
    "el agro voy a salvar,  \n",
    "en Caucasia mi razón,  \n",
    "es geometría en acción.\"*  \n",
    "\n",
    "---\n"
   ]
  },
  {
   "cell_type": "markdown",
   "id": "05a2fa03",
   "metadata": {},
   "source": [
    "\n",
    "### **8. Tareas**  \n",
    "- Crear un GIF con `matplotlib.animation` mostrando el efecto del radio en el área.  \n",
    "\n",
    "---\n"
   ]
  },
  {
   "cell_type": "markdown",
   "id": "06fa4bc2",
   "metadata": {},
   "source": [
    "\n",
    "### **9. Evaluación**  \n",
    "- **Quiz**:  \n",
    "  1. Dado $\\vec{v} = (2, -1)$, calcule su magnitud.  \n",
    "  2. ¿Cómo modelaría un sistema de riego circular?  \n",
    "- **Parcial**: Diseñe un silo vectorial para 1000 kg de maíz.  \n",
    "\n",
    "---\n"
   ]
  },
  {
   "cell_type": "markdown",
   "id": "b11d19f2",
   "metadata": {},
   "source": [
    "\n",
    "### **10. Retroalimentación**  \n",
    "- Usar `Plotly` para dashboards interactivos con feedback en tiempo real.  \n",
    "\n",
    "---\n"
   ]
  },
  {
   "cell_type": "markdown",
   "id": "87025f76",
   "metadata": {},
   "source": [
    "\n",
    "### **11. Vocabulario inglés**  \n",
    "- *Vector magnitude*, *parametric equations*, *computational thinking*.  \n",
    "\n",
    "---\n"
   ]
  },
  {
   "cell_type": "markdown",
   "id": "1c786ef5",
   "metadata": {},
   "source": [
    "\n",
    "### **12. Apéndice (Habilidades blandas)**  \n",
    "- Taller: *\"Trabajo en equipo con Git y Jupyter Notebook\"*.  \n",
    "\n",
    "---\n"
   ]
  },
  {
   "cell_type": "markdown",
   "id": "adfcbd3b",
   "metadata": {},
   "source": [
    "\n",
    "### **13. Referentes APA**  \n",
    "1. Duval, R. (2006). *Representaciones semióticas...*  \n",
    "2. Wing, J. (2006). *Computational thinking...*  \n",
    "3. National Research Council. (2011). *STEM integration in K-12 education*.  \n",
    "\n",
    "--- \n"
   ]
  },
  {
   "cell_type": "markdown",
   "id": "2e899e3f",
   "metadata": {},
   "source": [
    "\n",
    "**Nota**: Todos los códigos Python están diseñados para ejecutarse en Jupyter Notebook con visualizaciones interactivas. ¿Necesitas ajustar algún componente?"
   ]
  },
  {
   "cell_type": "markdown",
   "id": "d7c952d9",
   "metadata": {},
   "source": [
    "[Video de apoyo a la presentación de la estructura de esta clase]()"
   ]
  },
  {
   "cell_type": "markdown",
   "id": "a8a30026",
   "metadata": {},
   "source": [
    "# Implementación de esta estructura de clase  \n"
   ]
  },
  {
   "cell_type": "markdown",
   "id": "c783fca2",
   "metadata": {},
   "source": [
    "\n",
    "Aquí tienes un **diseño de clase integrando STEAM y ABPP**, adaptado a ingeniería agropecuaria en Caucasia (Antioquia), con enfoque experimental en Jupyter Notebook y Python:\n",
    "\n",
    "---\n"
   ]
  },
  {
   "cell_type": "markdown",
   "id": "f3672870",
   "metadata": {},
   "source": [
    "\n",
    "### **1. Título de la clase**:  \n",
    "*\"Vectores en el plano: aplicaciones al diseño de silos hiperbólicos y sistemas de riego en Caucasia\"*  \n",
    "\n",
    "---\n"
   ]
  },
  {
   "cell_type": "markdown",
   "id": "8eb527cd",
   "metadata": {},
   "source": [
    "\n",
    "### **2. Objetivos e indicadores**:  \n",
    "- **Objetivos**:  \n",
    "  - Aplicar vectores para modelar geometrías de silos y trayectorias de riego.  \n",
    "  - Resolver problemas agropecuarios usando ecuaciones paramétricas de la circunferencia.  \n",
    "  - Visualizar datos espaciales con Python.  \n",
    "- **Indicadores**:  \n",
    "  - El estudiante simula al menos 2 diseños de silos usando `matplotlib.animation`.  \n",
    "  - Propone soluciones vectoriales a problemas de distribución de cultivos (ej: áreas circulares de riego).  \n",
    "\n",
    "---\n"
   ]
  },
  {
   "cell_type": "markdown",
   "id": "43db4fef",
   "metadata": {},
   "source": [
    "\n",
    "### **3. Mapa conceptual (Graphviz)**  \n",
    "\n"
   ]
  },
  {
   "cell_type": "code",
   "execution_count": 2,
   "id": "0d4359d7",
   "metadata": {},
   "outputs": [
    {
     "data": {
      "text/plain": [
       "'C:\\\\Users\\\\marco\\\\Downloads\\\\mapa_clase.png'"
      ]
     },
     "execution_count": 2,
     "metadata": {},
     "output_type": "execute_result"
    }
   ],
   "source": [
    "from graphviz import Digraph\n",
    "\n",
    "dot = Digraph(comment='Clase Vectores', engine='neato')\n",
    "dot.attr(overlap='scalexy', splines='true', layout='neato')\n",
    "\n",
    "# Nodos\n",
    "dot.node('A', 'Vectores en el plano', shape='ellipse', style='filled', color='lightblue')\n",
    "dot.node('B', 'STEAM', shape='box', style='filled', color='gold')\n",
    "dot.node('C', 'ABPP', shape='box', style='filled', color='coral')\n",
    "dot.node('D', 'Silos hiperbólicos', shape='ellipse', style='filled', color='lightgreen')\n",
    "dot.node('E', 'Caucasia', shape='ellipse', style='filled', color='pink')\n",
    "\n",
    "# Edges\n",
    "dot.edges(['AB', 'AC', 'AD', 'DE', 'AE'])\n",
    "dot.render(directory='C:/Users/marco/Downloads', filename='mapa_clase', view=True, format='png')\n"
   ]
  },
  {
   "cell_type": "markdown",
   "id": "3f77f05e",
   "metadata": {},
   "source": [
    "\n",
    "\n",
    "---\n",
    "\n",
    "### **4. Contenido adaptado**  \n"
   ]
  },
  {
   "cell_type": "markdown",
   "id": "34bb3c3b",
   "metadata": {},
   "source": [
    "**Secuencia ABPP**:  \n"
   ]
  },
  {
   "cell_type": "markdown",
   "id": "3d3eaabb",
   "metadata": {},
   "source": [
    "1. **Problema real**:  \n",
    "   - *\"¿Cómo optimizar el almacenamiento de granos en silos circulares en climas húmedos?\"*  \n"
   ]
  },
  {
   "cell_type": "markdown",
   "id": "0060862d",
   "metadata": {},
   "source": [
    "# Háblame de cómo ¿Cómo optimizar el almacenamiento de granos en silos circulares en climas húmedos?\n"
   ]
  },
  {
   "cell_type": "markdown",
   "id": "bee84b80",
   "metadata": {},
   "source": [
    "\n",
    "### **Optimización de Almacenamiento de Granos en Silos Circulares para Climas Húmedos (Caucasia, Antioquia)**  \n",
    "\n",
    "En regiones como **Caucasia (Antioquia)**, donde la **humedad relativa** supera el **80%** gran parte del año, el diseño de silos circulares debe integrar **geometría, materiales y control ambiental** para evitar pérdidas postcosecha. Aquí una solución basada en **STEAM** (*Ciencia, Tecnología, Ingeniería, Agricultura y Matemáticas*), con herramientas como **Python, GeoGebra y R**:\n",
    "\n",
    "---\n"
   ]
  },
  {
   "cell_type": "markdown",
   "id": "9eec2357",
   "metadata": {},
   "source": [
    "\n",
    "#### **1. Problema Clave**  \n",
    "- **Humedad**: Promueve hongos (ej: *Aspergillus*) y fermentación.  \n",
    "- **Temperatura**: Aumenta la respiración de los granos, reduciendo su calidad.  \n",
    "- **Geometría del silo**: La forma circular impacta en la distribución de aire y humedad.  \n",
    "\n",
    "---\n"
   ]
  },
  {
   "cell_type": "markdown",
   "id": "e9d8db8d",
   "metadata": {},
   "source": [
    "\n",
    "#### **2. Soluciones Basadas en Cónicas y Modelado**  \n"
   ]
  },
  {
   "cell_type": "markdown",
   "id": "b6e1265d",
   "metadata": {},
   "source": [
    "\n",
    "##### **A. Geometría Optimizada** "
   ]
  },
  {
   "cell_type": "markdown",
   "id": "46cf4b37",
   "metadata": {},
   "source": [
    " \n",
    "- **Techo cónico hiperbólico** (como el de Diana López):  \n",
    "  - **Ecuación**: $ z = \\sqrt{a x^2 + b y^2} $ (hiperboloide de una hoja).  \n",
    "  - **Ventaja**: Escurrimiento rápido de agua lluvia y menor acumulación de calor vs. techos planos.  \n"
   ]
  },
  {
   "cell_type": "markdown",
   "id": "b8a66600",
   "metadata": {},
   "source": [
    "\n",
    "  **Simulación en Python**:  \n"
   ]
  },
  {
   "cell_type": "code",
   "execution_count": 14,
   "id": "8051143e",
   "metadata": {},
   "outputs": [
    {
     "data": {
      "image/png": "[encoded data removed]",
      "text/plain": [
       "<Figure size 640x480 with 1 Axes>"
      ]
     },
     "metadata": {},
     "output_type": "display_data"
    }
   ],
   "source": [
    "import numpy as np\n",
    "import matplotlib.pyplot as plt\n",
    "from mpl_toolkits.mplot3d import Axes3D\n",
    "\n",
    "theta = np.linspace(0, 2*np.pi, 100)\n",
    "a, b = 2, 3  # Parámetros del hiperboloide\n",
    "u = np.linspace(-2, 2, 100)\n",
    "x, y = np.meshgrid(u, u)\n",
    "z = np.sqrt(a*x**2 + b*y**2)\n",
    "\n",
    "fig = plt.figure()\n",
    "ax = fig.add_subplot(111, projection='3d')\n",
    "ax.plot_surface(x, y, z, cmap='viridis')\n",
    "plt.title(\"Techo hiperbólico para silo en clima húmedo\")\n",
    "plt.show()\n",
    "\n"
   ]
  },
  {
   "cell_type": "markdown",
   "id": "2749df54",
   "metadata": {},
   "source": [
    "\n",
    "##### **B. Ventilación y Flujo de Aire**  \n",
    "- **Parábola en ductos de ventilación**:  \n",
    "  - **Ecuación**: $ y = \\frac{x^2}{4f} $ (perfil de velocidad óptimo).  \n",
    "  - **Herramienta**: GeoGebra para modelar flujo de aire en tiempo real.  \n"
   ]
  },
  {
   "cell_type": "markdown",
   "id": "903986e7",
   "metadata": {},
   "source": [
    "\n",
    "  **Ejemplo en GeoGebra**:  \n",
    "  ```geogebra\n",
    "  f = 1.5\n",
    "  Curva(t, t^2 / (4 * f), t, -10, 10)\n",
    "  ```\n"
   ]
  },
  {
   "cell_type": "markdown",
   "id": "407d2eeb",
   "metadata": {},
   "source": [
    "\n",
    "##### **C. Control de Humedad con Sensores**  \n",
    "- **Análisis de datos en R**:  \n",
    "  - Datos de humedad (%) vs. temperatura (°C) en el silo.  \n",
    "  - Modelo predictivo con **regresión lineal**:"
   ]
  },
  {
   "cell_type": "markdown",
   "id": "9bc69c6c",
   "metadata": {},
   "source": [
    "  \n",
    "    ```r\n",
    "    library(ggplot2)\n",
    "    datos <- data.frame(humedad = c(85, 88, 82, 90), temperatura = c(28, 30, 27, 29))\n",
    "    modelo <- lm(humedad ~ temperatura, data = datos)\n",
    "    ggplot(datos, aes(x = temperatura, y = humedad)) + geom_point() + geom_smooth(method = \"lm\")\n",
    "    ```\n",
    "\n",
    "---\n"
   ]
  },
  {
   "cell_type": "markdown",
   "id": "d417462b",
   "metadata": {},
   "source": [
    "\n",
    "#### **3. Matemáticas Aplicadas** "
   ]
  },
  {
   "cell_type": "markdown",
   "id": "9e86498b",
   "metadata": {},
   "source": [
    " \n",
    "- **Volumen del silo**: $V = \\pi r^2 h + \\frac{1}{3} \\pi r^2 h_{\\text{cono}}$.  \n"
   ]
  },
  {
   "cell_type": "markdown",
   "id": "efa00c63",
   "metadata": {},
   "source": [
    "- **Área superficial**: Minimizar para reducir condensación (optimización con **SymPy**): "
   ]
  },
  {
   "cell_type": "code",
   "execution_count": 17,
   "id": "ce697ea2",
   "metadata": {},
   "outputs": [
    {
     "data": {
      "text/latex": [
       "$\\displaystyle - \\frac{2 \\sqrt{3} i r}{3}$"
      ],
      "text/plain": [
       "-2*sqrt(3)*I*r/3"
      ]
     },
     "execution_count": 17,
     "metadata": {},
     "output_type": "execute_result"
    }
   ],
   "source": [
    " \n",
    "from sympy import symbols, pi, diff, solve, sqrt \n",
    "r, h = symbols('r h')\n",
    "area = 2*pi*r*h + pi*r*sqrt(r**2 + h**2)  # Área total (cilindro + cono)\n",
    "derivada = diff(area, h)\n",
    "altura_optima = solve(derivada, h)[0]\n",
    "altura_optima \n"
   ]
  },
  {
   "cell_type": "markdown",
   "id": "65aeca2c",
   "metadata": {},
   "source": [
    "\n",
    "---\n",
    "\n",
    "#### **4. Práctica en Campo (ABPP)**  \n",
    "**Actividad para estudiantes**:  \n",
    "1. **Medir humedad/temperatura** en un silo real con sensores IoT.  \n",
    "2. **Modelar en Excel** la relación entre humedad y deterioro de granos.  \n",
    "3. **Diseñar en GeoGebra** un techo que maximice escurrimiento.  \n",
    "\n",
    "**Resultado esperado**: Reducción del **20% en pérdidas** por humedad.  \n",
    "\n",
    "---\n"
   ]
  },
  {
   "cell_type": "markdown",
   "id": "ca812bc5",
   "metadata": {},
   "source": [
    "\n",
    "#### **5. Elementos Culturales**  \n",
    "*\"¡Ajá!, pues resulta que los abuelos de Caucasia ya usaban **buhardillas** de palma para ventilar los graneros... Hoy con Python y parábolas, le damos ciencia a esa sabiduría.\"*  \n",
    "\n",
    "---\n"
   ]
  },
  {
   "cell_type": "markdown",
   "id": "5e40306d",
   "metadata": {},
   "source": [
    "\n",
    "#### **6. Vocabulario Técnico (Inglés)**  \n",
    "- *Grain spoilage* (deterioro de granos), *moisture content* (contenido de humedad), *computational fluid dynamics* (dinámica de fluidos computacional).  \n",
    "\n",
    "**Conclusión**: Integrar **geometría + datos + materiales locales** es clave para silos eficientes en climas húmedos. ¿Quieres profundizar en algún componente?"
   ]
  },
  {
   "cell_type": "markdown",
   "id": "9aa3b57c",
   "metadata": {},
   "source": [
    "2. **Geometría de la circunferencia**:  \n",
    "   - Ecuación vectorial:   \n",
    "   - \n",
    "     $$\\vec{r}(t) = (a \\cos t, a \\sin t).$$  \n",
    " - \n"
   ]
  },
  {
   "cell_type": "code",
   "execution_count": 13,
   "id": "4da3d6bb",
   "metadata": {},
   "outputs": [
    {
     "data": {
      "image/png": "[encoded data removed]",
      "text/plain": [
       "<Figure size 640x480 with 1 Axes>"
      ]
     },
     "metadata": {},
     "output_type": "display_data"
    }
   ],
   "source": [
    "import numpy as np\n",
    "t = np.linspace(0, 2*np.pi, 100)\n",
    "r = 3\n",
    "x = r * np.cos(t)  # Radio ajustable para silos\n",
    "y = r * np.sin(t)  # Radio ajustable para silos\n",
    "plt.title('')\n",
    "plt.plot(x, y, label='Silo circular')\n",
    "plt.axis('equal')\n",
    "plt.grid(alpha = 0.3)\n",
    "plt.show() \n",
    "\n"
   ]
  },
  {
   "cell_type": "markdown",
   "id": "30880b1c",
   "metadata": {},
   "source": [
    "3. **Aplicación**:  \n",
    "   - Simular con `ipywidgets` cómo cambia el volumen al variar el radio.  \n",
    "\n",
    "---\n"
   ]
  },
  {
   "cell_type": "code",
   "execution_count": null,
   "id": "964ead34",
   "metadata": {},
   "outputs": [],
   "source": [
    "# Cómo cambia el volumen de una esfera al variar el radio"
   ]
  },
  {
   "cell_type": "markdown",
   "id": "09fef87c",
   "metadata": {},
   "source": [
    "\n",
    "### **5. Historia (cuento antioqueño)**  \n",
    "*\"Érase una vez en Caucasia, un ingeniero que soñaba con silos que no se humedecieran... Así, como Arquímedes gritó ¡Eureka! al descubrir el círculo, nuestro héroe usó vectores para domar la humedad...\"*  \n",
    "- **Imágenes sugeridas**: Arquímedes, Diana López (silos hiperbólicos).  \n",
    "\n",
    "---\n"
   ]
  },
  {
   "cell_type": "markdown",
   "id": "f539afc1",
   "metadata": {},
   "source": [
    "\n",
    "### **6. Actividades**  \n",
    "- **Con Casio 991 LA cw**: Calcular áreas de cultivo usando integrales circulares.  \n",
    "- **Jupyter Notebook**:"
   ]
  },
  {
   "cell_type": "code",
   "execution_count": 6,
   "id": "6a4c5973",
   "metadata": {},
   "outputs": [
    {
     "data": {
      "application/vnd.jupyter.widget-view+json": {
       "model_id": "1c40c12c044f445aa7fe125e02741656",
       "version_major": 2,
       "version_minor": 0
      },
      "text/plain": [
       "interactive(children=(IntSlider(value=5, description='radio', max=10, min=1), Output()), _dom_classes=('widget…"
      ]
     },
     "metadata": {},
     "output_type": "display_data"
    }
   ],
   "source": [
    "  \n",
    "import numpy as np \n",
    "import matplotlib.pyplot as plt \n",
    "from ipywidgets import interact\n",
    "@interact(radio=(1, 10))\n",
    "def plot_circle(radio=5):\n",
    "    plt.figure(figsize=(6, 6))\n",
    "    plt.axis([-12, 12, -12, 12])\n",
    "    plt.grid(alpha = 0.4)\n",
    "    plt.gca().add_patch(plt.Circle((0, 0), radio, fill=False))\n",
    "    \n",
    "\n"
   ]
  },
  {
   "cell_type": "markdown",
   "id": "e5f8f5af",
   "metadata": {},
   "source": [
    "\n",
    "---\n",
    "\n",
    "### **7. Canción/Poema**  \n",
    "*\"Con vectores y un compás,  \n",
    "el agro voy a salvar,  \n",
    "en Caucasia mi razón,  \n",
    "es geometría en acción.\"*  \n",
    "\n",
    "---\n"
   ]
  },
  {
   "cell_type": "markdown",
   "id": "446d5c92",
   "metadata": {},
   "source": [
    "\n",
    "### **8. Tareas**  \n",
    "- Crear un GIF con `matplotlib.animation` mostrando el efecto del radio en el área.  \n",
    "\n",
    "---\n"
   ]
  },
  {
   "cell_type": "markdown",
   "id": "8c49d51e",
   "metadata": {},
   "source": [
    "\n",
    "### **9. Evaluación**  \n",
    "- **Quiz**:  \n",
    "  1. Dado $\\vec{v} = (2, -1)$, calcule su magnitud.  \n",
    "  2. ¿Cómo modelaría un sistema de riego circular?  \n",
    "- **Parcial**: Diseñe un silo vectorial para 1000 kg de maíz.  \n",
    "\n",
    "---\n"
   ]
  },
  {
   "cell_type": "markdown",
   "id": "3745797a",
   "metadata": {},
   "source": [
    "\n",
    "### **10. Retroalimentación**  \n",
    "- Usar `Plotly` para dashboards interactivos con feedback en tiempo real.  \n",
    "\n",
    "---\n"
   ]
  },
  {
   "cell_type": "markdown",
   "id": "3c395497",
   "metadata": {},
   "source": [
    "\n",
    "### **11. Vocabulario inglés**  \n",
    "- *Vector magnitude*, *parametric equations*, *computational thinking*.  \n",
    "\n",
    "---\n"
   ]
  },
  {
   "cell_type": "markdown",
   "id": "408b7188",
   "metadata": {},
   "source": [
    "\n",
    "### **12. Apéndice (Habilidades blandas)**  \n",
    "- Taller: *\"Trabajo en equipo con Git y Jupyter Notebook\"*.   \n",
    "- Recuerdame sobre engagement en educación   \n",
    "  \n",
    "El **engagement en educación** (o **compromiso educativo**) se refiere al nivel de **participación, motivación y conexión emocional** que tienen los estudiantes con su proceso de aprendizaje. No se trata solo de asistir a clases o cumplir con tareas, sino de **involucrarse activamente, mostrar interés y encontrar significado** en lo que aprenden.  \n",
    "\n",
    "### **Aspectos clave del engagement en educación:**  \n",
    "1. **Engagement conductual**: Participación activa en actividades académicas (preguntar, colaborar, asistir).  \n",
    "2. **Engagement emocional**: Sentimientos positivos hacia el aprendizaje (interés, entusiasmo, curiosidad).  \n",
    "3. **Engagement cognitivo**: Esfuerzo mental profundo (pensamiento crítico, perseverancia, metacognición).  \n",
    "\n",
    "### **¿Por qué es importante?**  \n",
    "- Mejora el **rendimiento académico**.  \n",
    "- Reduce la **deserción escolar**.  \n",
    "- Fomenta el **aprendizaje significativo** (no memorístico).  \n",
    "- Promueve el **bienestar emocional** del estudiante.  \n",
    "\n",
    "### **Estrategias para aumentar el engagement**:  \n",
    "- **Aprendizaje activo**: Métodos participativos (proyectos, debates, gamificación).  \n",
    "- **Relación docente-estudiante**: Confianza y acompañamiento.  \n",
    "- **Relevancia**: Vincular contenidos con la vida real.  \n",
    "- **Retos adecuados**: Ni demasiado fáciles ni frustrantes.  \n",
    "- **Feedback constructivo**: Ayuda a los estudiantes a mejorar.  \n",
    "\n",
    "Si te referías a algo más específico (como engagement en **entornos virtuales**, **herramientas digitales** o **teorías pedagógicas**), dime y con gusto profundizo. 😊  \n",
    "\n",
    "¿Quieres que hablemos de algún ejemplo práctico o contexto en particular?\n",
    "---\n"
   ]
  },
  {
   "cell_type": "markdown",
   "id": "ed1e38cd",
   "metadata": {},
   "source": [
    "\n",
    "### **13. Referentes APA**  \n",
    "1. Duval, R. (2006). *Representaciones semióticas...*  \n",
    "2. Wing, J. (2006). *Computational thinking...*  \n",
    "3. National Research Council. (2011). *STEM integration in K-12 education*.  \n",
    "\n",
    "--- \n",
    "\n",
    "**Nota**: Todos los códigos Python están diseñados para ejecutarse en Jupyter Notebook con visualizaciones interactivas. ¿Necesitas ajustar algún componente?\n",
    "\n"
   ]
  },
  {
   "cell_type": "markdown",
   "id": "239427f7",
   "metadata": {},
   "source": [
    "# Definición del calendario académico para los diferentes programas de pregrado de los campus regionalizados, correspondiente al primer periodo académico del año 2025 \n",
    "\n",
    "\n",
    "* Límite evaluación del 40% 06 de abril de 2025\n",
    "* Terminación de clases 08 de junio de 2025\n",
    "* Exámenes finales 09 al 15 de junio de 2025\n",
    "* Habilitación y validación 16 al 22 de junio de 2025\n",
    "* Terminación oficial 23 de junio de 2025"
   ]
  },
  {
   "cell_type": "code",
   "execution_count": null,
   "id": "ec048afb",
   "metadata": {},
   "outputs": [],
   "source": []
  },
  {
   "cell_type": "code",
   "execution_count": null,
   "id": "c804f8d3",
   "metadata": {},
   "outputs": [],
   "source": []
  },
  {
   "cell_type": "code",
   "execution_count": null,
   "id": "cc539357",
   "metadata": {},
   "outputs": [],
   "source": []
  },
  {
   "cell_type": "markdown",
   "id": "740f3401",
   "metadata": {
    "slideshow": {
     "slide_type": "slide"
    }
   },
   "source": [
    "# Componente de manejo de calculadora Casio asociado al objetivo de aprendizaje de esta clase  \n",
    "\n",
    "## Pasos para lograr el objetivo de aprendizaje con la experimentación en la calculadora Casio 991LA cw  "
   ]
  },
  {
   "cell_type": "markdown",
   "id": "8ba64aed",
   "metadata": {},
   "source": [
    "# Cursos que orienta el profesor Marco Julio Cañas Campillo en 2025  \n",
    "\n",
    "1. Práctica Pedagógica V para Licenciatura en Educación Infantil\n",
    "2. Fundamentos de Lógica para Licenciatura en Matemáticas \n",
    "3. Análisis Numérico para Licenciatura en Matemáticas. \n",
    "4. Cálculo Vectorial para Ingeniería Agropecuaria"
   ]
  },
  {
   "cell_type": "markdown",
   "id": "8d41fe58",
   "metadata": {
    "slideshow": {
     "slide_type": "slide"
    }
   },
   "source": [
    "# Horario de clases del profesor Marco\n",
    "\n",
    "* Lunes 8-12: Cálculo Vectorial\n",
    "* Martes 8-12 M: Fundamentos de Aritmética. \n",
    "* Miércoles 8 a 12 M: Fundamentos de la Lógica\n",
    "* Jueves 2 a 6 PM: Desarrollo del pensamiento matemático en la infancia. \n",
    "* Viernes 8 - 12 M: Desarrollo del pensamiento matemático en la infancia. \n",
    "* Sábados 8-12 Asesorías y espacio para retroalimentación y apoyo al trabajo independiente. "
   ]
  },
  {
   "cell_type": "markdown",
   "id": "a9206722",
   "metadata": {},
   "source": [
    "\n",
    "## Coordinador de los cursos de la Facultad de Educación para regiones:    \n",
    "\n",
    "Andrés Vélez: regioneducacion.fedu@udea.edu.co  \n",
    "Coordinador Regiones  \n",
    "Facultad de Educación  \n",
    "Universidad de Antioquia  "
   ]
  },
  {
   "cell_type": "markdown",
   "id": "b1db4b6c",
   "metadata": {
    "slideshow": {
     "slide_type": "slide"
    }
   },
   "source": [
    "## Monitores presenciales   \n",
    "\n",
    "* Manuel San Juan Serrano:  Contactar escribiendo al correo: manuel.serrano1@udea.edu.co\n",
    "* Yeifry Sebastián Uribe: Contactar escribiendo al correo: yeifry.uribe@udea.edu.co"
   ]
  },
  {
   "cell_type": "markdown",
   "id": "39559692",
   "metadata": {
    "slideshow": {
     "slide_type": "slide"
    }
   },
   "source": [
    "Martes y jueves de 8 - 12  \n",
    "Miércoles 10 - 12 y de 2 a 4 PM  \n",
    "Sábado: 8 - 12"
   ]
  },
  {
   "cell_type": "markdown",
   "id": "10bce0d0",
   "metadata": {
    "slideshow": {
     "slide_type": "slide"
    }
   },
   "source": [
    "## Referentes "
   ]
  },
  {
   "cell_type": "markdown",
   "id": "1db3c468",
   "metadata": {
    "slideshow": {
     "slide_type": "slide"
    }
   },
   "source": [
    "* [María Fernanda Garrido Rubiano](https://www.linkedin.com/in/maria-fernanda-garrido-rubiano-26101b28/?originalSubdomain=co)\n",
    "\n",
    "* [Geometría Vectorial de Ude@](https://www.youtube.com/watch?v=_sc4HzP6MuI&list=PLarIdvSxyFn7HZLVJSW0kxCxqM4fC6C1J&index=1)\n",
    "\n",
    "* [CALCULO I DE UNA VARIABLE Ron Larson-Bruce Edwards. Mc Graw Hill. 9º Edición](https://www.academia.edu/42139251/CALCULO_I_DE_UNA_VARIABLE_Ron_Larson_Bruce_Edwards_Mc_Graw_Hill_9o_Edici%C3%B3n)   \n",
    "  \n",
    "\n",
    "* [Grajales Vanegas, L. M., Restrepo Estrada, C. E., Restrepo Ochoa, S. I., & Ruíz De Villalba, F. (2015). Matemáticas I para las ciencias económicas.](https://bibliotecadigital.udea.edu.co/handle/10495/3010)\n",
    "  \n",
    "* R. Duval y Semiosis y pensamiento humano, 2.ª ed. Cali, Colombia: Programa Editorial Universidad del Valle, 2017. [En línea]. Disponible en: https://programaeditorial.univalle.edu.co/gpd-semiosis-y-pensamiento-humano-9789587655278-63324cdb0f6b3.html\n",
    "\n",
    "* [Aylwin, C. U. (2011). Lógica, conjuntos y números. Universidad de los Andes, Consejo de Publicaciones, Colección: Ciencias Básicas, Serie: Matemáticas.](chrome-extension://efaidnbmnnnibpcajpcglclefindmkaj/https://www.u-cursos.cl/ciencias/2011/1/MC110/1/material_docente/bajar?id_material=574722)\n",
    "  \n",
    "* [Chollet, F. (2021). Deep learning with Python. Simon and Schuster.](chrome-extension://efaidnbmnnnibpcajpcglclefindmkaj/https://tanthiamhuat.wordpress.com/wp-content/uploads/2018/03/deeplearningwithpython.pdf)  \n",
    "  \n",
    "* [Watson, S., Stewart, J., & Redlin, L. (2009). Precálculo. Matemáticas para el cálculo.](https://github.com/marco-canas/calculo/blob/main/referents/1_precalculo_stewart/stewart_precalculo.pdf)  \n",
    "\n",
    "* [Purcell, E. J., Varberg, D., & Rigdon, S. E. (2007). Cálculo diferencial e integral. Pearson Educación.](https://github.com/marco-canas/calculo/blob/main/referents/purcell/purcell_calculo.pdf)\n",
    "\n",
    "  \n",
    "\n",
    "* [stewart cálculo](https://udeaeduco-my.sharepoint.com/:b:/g/personal/marco_canas_udea_edu_co/EZgXZjAp8QxPqOAim2hs6LcBNPLGjSHf-xwYnUVYkwa04w?e=RZdTCy)  \n",
    "\n",
    "\n",
    "\n",
    "\n",
    "\n",
    "* [Recomendación de la UNESCO sobre ciencia abierta](https://unesdoc.unesco.org/ark:/48223/pf0000379949_spa)\n",
    "\n",
    "* [chatGPT](https://openai.com/blog/chatgpt)  \n",
    "\n",
    "* [Géron, A. (2017). Hands-on machine learning with scikit-learn and tensorflow: Concepts. Tools, and Techniques to build intelligent systems.](chrome-extension://efaidnbmnnnibpcajpcglclefindmkaj/http://14.139.161.31/OddSem-0822-1122/Hands-On_Machine_Learning_with_Scikit-Learn-Keras-and-TensorFlow-2nd-Edition-Aurelien-Geron.pdf)   \n"
   ]
  },
  {
   "cell_type": "markdown",
   "id": "df925560",
   "metadata": {},
   "source": [
    "\n",
    "* [McKinney, W. (2012). Python for data analysis: Data wrangling with Pandas, NumPy, and IPython. \" O'Reilly Media, Inc.\".](https://wesmckinney.com/book/) "
   ]
  },
  {
   "cell_type": "markdown",
   "id": "8e65d6f9",
   "metadata": {},
   "source": [
    "# Como estudiante, encuentro que...   \n",
    "\n",
    "F: Mis Fortalezas son:     \n",
    "O: Mis Oportunidades son:    \n",
    "D: Mis Debilidades son:    \n",
    "A: Lo que Amenazas mi aprendizaje es:  "
   ]
  },
  {
   "cell_type": "markdown",
   "id": "6b9e56a8",
   "metadata": {
    "slideshow": {
     "slide_type": "slide"
    }
   },
   "source": [
    "### [Evaluamos al profesor Marco Cañas Aquí](https://forms.office.com/Pages/ResponsePage.aspx?id=IefhmYRxjkmK_7KtTlPBwkanXIs1i1FEujpsZgO6dXpUREJPV1kxUk1JV1ozTFJIQVNIQjY5WEY3US4u)"
   ]
  },
  {
   "cell_type": "markdown",
   "id": "10f43536",
   "metadata": {
    "slideshow": {
     "slide_type": "slide"
    }
   },
   "source": [
    "### Continue su aprendizaje en la siguiente clase a través del siguiente [vínculo]()"
   ]
  },
  {
   "cell_type": "markdown",
   "id": "53cc9115",
   "metadata": {
    "slideshow": {
     "slide_type": "slide"
    }
   },
   "source": [
    "## Agradecimientos  \n",
    "\n",
    "Doy gracias a Dios por la vida de mi Hijo Joseph Cañas Osorio y la madurez que ha alcanzado. Este hijo me enorgullece y me hace falta abrazarlo cada día. \n",
    "\n",
    "Y a mi esposa Yasmira Emperatriz Barboza Mogollón por su apoyo, orientación y acompañamiento. "
   ]
  },
  {
   "cell_type": "markdown",
   "id": "b6ba1c23",
   "metadata": {},
   "source": [
    "# Apéndice sobre calendarios y coordinaciones \n",
    "\n",
    "A continuación le envío el horario de la asignatura Cálculo Vectorial  \n",
    "\n",
    "Días:  \n",
    "Lunes - Hora: 7:00 a 12:00M  \n",
    "Fechas:  \n",
    "Febrero: 10-17-24                                          \n",
    " Marzo: 3-10-17-31                                                  \n",
    "Abril:7-21-28                                                   \n",
    "Mayo:5-12-19  \n",
    "\n",
    "Agradezco su apoyo, y si presenta alguna dificultad puede contactarme.  \n",
    "\n",
    "Cordialmente,  \n",
    "Juan Felipe Rivera Hernández  \n",
    "Contacto: 3106314300  "
   ]
  },
  {
   "cell_type": "markdown",
   "id": "0e66cd7c",
   "metadata": {},
   "source": [
    "# Clase de análisis numérico los Martes de 8 a 12 del medio día. "
   ]
  }
 ],
 "metadata": {
  "celltoolbar": "Slideshow",
  "kernelspec": {
   "display_name": ".venv",
   "language": "python",
   "name": "python3"
  },
  "language_info": {
   "codemirror_mode": {
    "name": "ipython",
    "version": 3
   },
   "file_extension": ".py",
   "mimetype": "text/x-python",
   "name": "python",
   "nbconvert_exporter": "python",
   "pygments_lexer": "ipython3",
   "version": "3.12.6"
  },
  "rise": {
   "enable_chalkboard": true,
   "theme": "sky",
   "transition": "zoom"
  }
 },
 "nbformat": 4,
 "nbformat_minor": 5
}
