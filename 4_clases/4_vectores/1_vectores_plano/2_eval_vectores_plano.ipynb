{
 "cells": [
  {
   "cell_type": "markdown",
   "id": "dc06dec7",
   "metadata": {
    "slideshow": {
     "slide_type": "slide"
    }
   },
   "source": [
    "<table align=\"left\">\n",
    "  <td>\n",
    "    <a href=\"https://colab.research.google.com/github/marco-canas/calculo_vectorial/blob/main/4_clases/4_vectores/1_vectores_plano/2_eval_vectores_plano.ipynb\" target=\"_parent\"><img src=\"https://colab.research.google.com/assets/colab-badge.svg\" alt=\"Open In Colab\"/></a>\n",
    "  </td>\n",
    "  <td>\n",
    "    <a target=\"_blank\" href=\"https://kaggle.com/kernels/welcome?src=https://github.com/marco-canas/calculo_vectorial/blob/main/4_clases/4_vectores/1_vectores_plano/2_eval_vectores_plano.ipynb\"><img src=\"https://kaggle.com/static/images/open-in-kaggle.svg\" /></a>\n",
    "  </td>\n",
    "</table>"
   ]
  },
  {
   "cell_type": "markdown",
   "id": "e0c5b198",
   "metadata": {
    "slideshow": {
     "slide_type": "slide"
    }
   },
   "source": [
    "### [Video de apoyo a la lectura interactiva y experimental de este cuaderno]()"
   ]
  },
  {
   "cell_type": "markdown",
   "id": "41e82203",
   "metadata": {
    "slideshow": {
     "slide_type": "slide"
    }
   },
   "source": [
    "## [Vínculo al programa del curso:  ]()"
   ]
  },
  {
   "cell_type": "markdown",
   "id": "ca46c23b",
   "metadata": {
    "slideshow": {
     "slide_type": "slide"
    }
   },
   "source": [
    "# Modelo general de clase: [aula invertida](https://www3.gobiernodecanarias.org/medusa/ecoescuela/pedagotic/aprendizaje-invertido-flipped-classroom/)\n"
   ]
  },
  {
   "cell_type": "markdown",
   "id": "96775931",
   "metadata": {
    "slideshow": {
     "slide_type": "slide"
    }
   },
   "source": [
    "# Título de la clase: Evaluación vectores en el plano\n"
   ]
  },
  {
   "cell_type": "markdown",
   "id": "cf101603",
   "metadata": {},
   "source": [
    "# Prompt para pedir el diseño de evaluación de acuerdo a la metodología de \"Enseñanza basada en proyectos\"  \n"
   ]
  },
  {
   "cell_type": "markdown",
   "id": "60253fd6",
   "metadata": {},
   "source": [
    "\n",
    "Dame, por favor, un diseño de clase, con los enfoques didácticos de enseñanza: \" STEAMS y de Aprendizaje Basado en Problemas y Proyectos (ABPP)\" sobre: **\"Vectores en el plano con aplicaciones a Ingeniería agropecuaria en Caucasia Antioquia\"**, siguiendo la estructura:   \n",
    "\n",
    "1. Título de la clase   \n",
    "   \n",
    "2. Objetivos de aprendizaje  e indicadores del logro de estos objetivos.   \n",
    "   \n",
    "3. Un mapa conceptual que resuma la clase elaborado en Graphviz de python con nodos y edges de diferentes formas, colores y rellenos y renderizado en la siguiente ubicación:  \n",
    "    `\"C:/Users/marco/Downloads\"`.  \n",
    "   No olvides el parámetro `view = True` para el método `render()` de Graphviz. Para este mapa controla las superposiciones de los nodos con:  \n",
    "   graph [overlap=false]; // Elimina superposiciones  (puede aumentar el espacio)  \n",
    "   graph [overlap=\"scalexy\"]; // Escala el gráfico para evitar overlaps  \n",
    "   graph [overlap=\"compress\"]; // Comprime el grafo sin overlaps   \n",
    "   \n",
    "4. Contenido de la clase adaptado a lo que este curso de calculo vectorial y de varias variables le puede aportar a que los estudiantes puedan alcanzar su perfil de   \n",
    "   Ingenieros Agropecuarios de la Facultad de Ciencias Agrarias  de la Universidad de Antioquia - Campus Caucasia. Estructura el contenido para estudiar a la circunferencia siguiendo la secuencia: Problemas prácticas en el Agro Caucasiano donde la circunferencia puede ser aplicable $\\to$ Definición y propiedades geométricas de la circunferencia $\\to$  Definición y propiedades algebraicas de la circunferencia $\\to$ Soluciones a problemas reales del Agro en Caucasia - Antioquia utilizando la circunferencia.  \n",
    "   \n",
    "5. Dame elementos históricos y epistemológicos asociados a esta clase, pero contados como un cuento al estilo de un cuentero antioqueño en Colombia. Incluye imágenes de los protagonistas históricos de esta clase.   \n",
    "   \n",
    "6. Actividades de aprendizaje.    \n",
    "     - Diseña una actividad de aprendizaje a través del uso de la Calculadora Casio 991 LA cw  \n",
    "     - \n",
    "7. Incluye una canción o un poema que ayude a interiorizar y fijar los conceptos asociados a esta clase.   \n",
    "   \n",
    "   \n",
    "8. Tarea o actividades de ejercitación y fijación  \n",
    " \n",
    "9.  Evaluación incluyendo diez proyectos, un ejemplo de quiz (de tres preguntas) y un ejemplo de parcial (de cinco puntos)  \n",
    "   \n",
    "10. Diseño de actividad de retroalimentación.    \n",
    "     \n",
    "11. Dame un vocabulario y frases del idioma inglés asociadas a esta clase.    \n",
    "    \n",
    "12.  Incluye apéndice para la clase sobre desarrollo de habilidades para trabajar en equipo y de asertividad y empatía para relacionarnos. También elementos de la inteligencia emocional para presentar pruebas sin temor y sin realizar fraude en ellas.    \n",
    "     \n",
    "13. Incluye 10 referentes en didáctica de la matemática que estén de acuerdo a la propuesta didáctica de esta clase. Adiciona a estos referentes a Raymond Duval (Representaciones y cambios de representación para la adquisición de conceptos matemáticos) y a Jeannette Wing (Desarrollo del pensamiento computacional). Dejame todos estos referentes ordenados de acuerdo a las normas APA. Dejame todos estos referentes ordenados de acuerdo a las normas APA. Incluye las citaciones a estos referentes a medida que vallas diseñando la clase.    \n",
    "\n",
    "\n",
    "Pero  que este diseño sea para que el estudiante pueda aprender experimentando en cuadernos Jupyter con funciones de usuario y animaciones y visualizaciones en python. En particular utiliza para el diseño de clase a Numpy, Pandas, SymPy, Matplotlib.pyplot, Seaborn, Plotly, ipywidgets, matplotlib.animation y Jupyter Notebook.    \n",
    "\n",
    "Cada vez que utilices `matplotlib.animacion` no olvides incluir el uso de `IPython. display` para la rederización de estas animaciones a través de Jupyter Notebook.   \n",
    "\n",
    "No olvides darme los diseños de clase con las ecuaciones matemáticas delimitadas con signo de dolar $ para que VS Code si me renderize estas expresiones del lenguaje latex. Cuando vallas a utilizar ipywidgets ten en cuenta la siguiente importación inicial para garantizar que la visualización interactiva si se renderize en VS Code:  \n",
    "import numpy as np  \n",
    "import matplotlib.pyplot as plt  \n",
    "import ipywidgets as widgets  \n",
    "from IPython.display import display, clear_output  \n",
    "from matplotlib.patches import Rectangle  \n",
    "\n",
    "# Configuración inicial para visualización estática  \n",
    "%matplotlib inline "
   ]
  },
  {
   "cell_type": "markdown",
   "id": "42797498",
   "metadata": {},
   "source": [
    "Este es un **diseño de clase integrando STEAM y ABPP**, adaptado a ingeniería agropecuaria en Caucasia (Antioquia), con enfoque experimental en Jupyter Notebook y Python:\n",
    "\n",
    "---\n"
   ]
  },
  {
   "cell_type": "markdown",
   "id": "cafc2f84",
   "metadata": {},
   "source": [
    "\n",
    "### **1. Título de la clase**:  \n",
    "*\"Vectores en el plano: aplicaciones al diseño de silos hiperbólicos y sistemas de riego en Caucasia\"*  \n",
    "\n",
    "---\n"
   ]
  },
  {
   "cell_type": "markdown",
   "id": "01f37961",
   "metadata": {},
   "source": [
    "\n",
    "### **2. Objetivos e indicadores**:  \n",
    "- **Objetivos**:  \n",
    "  - Aplicar vectores para modelar geometrías de silos y trayectorias de riego.  \n",
    "  - Resolver problemas agropecuarios usando ecuaciones paramétricas de la circunferencia.  \n",
    "  - Visualizar datos espaciales con Python.  \n",
    "- **Indicadores**:  \n",
    "  - El estudiante simula al menos 2 diseños de silos usando `matplotlib.animation`.  \n",
    "  - Propone soluciones vectoriales a problemas de distribución de cultivos (ej: áreas circulares de riego).  \n",
    "\n",
    "---\n"
   ]
  },
  {
   "cell_type": "markdown",
   "id": "b6c06744",
   "metadata": {},
   "source": [
    "\n",
    "### **3. Mapa conceptual (Graphviz)**  \n"
   ]
  },
  {
   "cell_type": "code",
   "execution_count": null,
   "id": "05025ba2",
   "metadata": {
    "vscode": {
     "languageId": "plaintext"
    }
   },
   "outputs": [],
   "source": [
    "\n",
    "from graphviz import Digraph\n",
    "\n",
    "dot = Digraph(comment='Clase Vectores', engine='neato')\n",
    "dot.attr(overlap='scalexy', splines='true', layout='neato')\n",
    "\n",
    "# Nodos\n",
    "dot.node('A', 'Vectores en el plano', shape='ellipse', style='filled', color='lightblue')\n",
    "dot.node('B', 'STEAM', shape='box', style='filled', color='gold')\n",
    "dot.node('C', 'ABPP', shape='box', style='filled', color='coral')\n",
    "dot.node('D', 'Silos hiperbólicos', shape='ellipse', style='filled', color='lightgreen')\n",
    "dot.node('E', 'Caucasia', shape='ellipse', style='filled', color='pink')\n",
    "\n",
    "# Edges\n",
    "dot.edges(['AB', 'AC', 'AD', 'DE', 'AE'])\n",
    "dot.render(directory='C:/Users/marco/Downloads', filename='mapa_clase', view=True, format='png')\n",
    "\n"
   ]
  },
  {
   "cell_type": "markdown",
   "id": "2ba64db6",
   "metadata": {},
   "source": [
    "\n",
    "---\n",
    "\n",
    "### **4. Contenido adaptado**  \n",
    "**Secuencia ABPP**:  \n",
    "1. **Problema real**:  \n",
    "   - *\"¿Cómo optimizar el almacenamiento de granos en silos circulares en climas húmedos?\"*  \n",
    "2. **Geometría de la circunferencia**:  \n",
    "   - Ecuación vectorial: $\\vec{r}(t) = (a \\cos t, b \\sin t)$.  \n"
   ]
  },
  {
   "cell_type": "code",
   "execution_count": null,
   "id": "51e1d40f",
   "metadata": {
    "vscode": {
     "languageId": "plaintext"
    }
   },
   "outputs": [],
   "source": [
    "   ```python\n",
    "   import numpy as np\n",
    "   t = np.linspace(0, 2*np.pi, 100)\n",
    "   x = 3 * np.cos(t)  # Radio ajustable para silos\n",
    "   plt.plot(x, y, label='Silo circular')\n",
    "   ```\n"
   ]
  },
  {
   "cell_type": "markdown",
   "id": "59c322ec",
   "metadata": {},
   "source": [
    "3. **Aplicación**:  \n",
    "   - Simular con `ipywidgets` cómo cambia el volumen al variar el radio.  \n",
    "\n",
    "---\n"
   ]
  },
  {
   "cell_type": "markdown",
   "id": "419ee26c",
   "metadata": {},
   "source": [
    "\n",
    "### **5. Historia (cuento antioqueño)**  \n",
    "*\"Érase una vez en Caucasia, un ingeniero que soñaba con silos que no se humedecieran... Así, como Arquímedes gritó ¡Eureka! al descubrir el círculo, nuestro héroe usó vectores para domar la humedad...\"*  \n",
    "- **Imágenes sugeridas**: Arquímedes, Diana López (silos hiperbólicos).  \n",
    "\n",
    "---\n"
   ]
  },
  {
   "cell_type": "markdown",
   "id": "25bd61b0",
   "metadata": {},
   "source": [
    "\n",
    "### **6. Actividades**  \n",
    "- **Con Casio 991 LA cw**: Calcular áreas de cultivo usando integrales circulares.  \n",
    "- **Jupyter Notebook**:  \n"
   ]
  },
  {
   "cell_type": "code",
   "execution_count": null,
   "id": "0c46a578",
   "metadata": {
    "vscode": {
     "languageId": "plaintext"
    }
   },
   "outputs": [],
   "source": [
    "\n",
    "  from ipywidgets import interact\n",
    "  @interact(radio=(1, 10))\n",
    "  def plot_circle(radio=5):\n",
    "      plt.figure(figsize=(6, 6))\n",
    "      plt.gca().add_patch(plt.Circle((0, 0), radio, fill=False))\n",
    "      plt.axis('scaled')\n",
    "  "
   ]
  },
  {
   "cell_type": "markdown",
   "id": "71886e42",
   "metadata": {},
   "source": [
    "\n",
    "---\n",
    "\n",
    "### **7. Canción/Poema**  \n",
    "*\"Con vectores y un compás,  \n",
    "el agro voy a salvar,  \n",
    "en Caucasia mi razón,  \n",
    "es geometría en acción.\"*  \n",
    "\n",
    "---\n"
   ]
  },
  {
   "cell_type": "markdown",
   "id": "1458f555",
   "metadata": {},
   "source": [
    "\n",
    "### **8. Tareas**  \n",
    "- Crear un GIF con `matplotlib.animation` mostrando el efecto del radio en el área.  \n",
    "\n",
    "---\n"
   ]
  },
  {
   "cell_type": "markdown",
   "id": "1b752911",
   "metadata": {},
   "source": [
    "\n",
    "### **9. Evaluación**  \n",
    "- **Quiz**:  \n",
    "  1. Dado $\\vec{v} = (2, -1)$, calcule su magnitud.  \n",
    "  2. ¿Cómo modelaría un sistema de riego circular?  \n"
   ]
  },
  {
   "cell_type": "markdown",
   "id": "1eae960e",
   "metadata": {},
   "source": [
    "- **Parcial**: Diseñe un silo vectorial para 1000 kg de maíz.  \n",
    "\n",
    "---\n",
    "## Prompt para pedir el diseño de evaluación de acuerdo a la metodología de \"Enseñanza basada en proyectos\" \n",
    "\n",
    "Dame, por favor, un diseño de parcial sobre: Secciones Cónicas y su aplicación al agro y sobre vectores en el plano y su aplicación al agro\", según los enfoques pedagógicos de mi enseñanza como docente de matemáticas. Este diseño en para la estudiante **Marisol Yacira Ayala Mendoza **. Este parcial lo deben presentar resuelto a través de un cuaderno Jupyter en video grabado con OBS y publicado en el canal de YouTube del estudiante. "
   ]
  },
  {
   "cell_type": "markdown",
   "id": "60b95c28",
   "metadata": {},
   "source": [
    "### Parcial 1 para Abril Monterrosa Soto  \n",
    "\n",
    "Este es un diseño de parcial estructurado según enfoques pedagógicos activos y aplicados. El diseño integra **secciones cónicas** y **vectores en el plano** con aplicaciones al agro, promoviendo aprendizaje significativo y contextualizado.\n",
    "\n",
    "---\n",
    "\n",
    "### **Diseño de Parcial: Secciones Cónicas y Vectores en el Plano con Aplicaciones al Agro**  \n",
    "**Estudiante:** Abril Monterrosa Soto  \n",
    "**Nivel:** Estudiante de sexto semestre de Ingeniería Agropecuaria \n",
    "**Duración máxima del video:** 90 minutos  \n",
    "**Enfoques pedagógicos:** Aprendizaje basado en problemas (ABP), contextualización en entornos reales, trabajo colaborativo y pensamiento crítico.  \n",
    "\n",
    "---\n",
    "\n",
    "#### **Objetivos de Evaluación:**  \n",
    "1. Analizar las propiedades de las secciones cónicas (circunferencia, parábola, elipse, hipérbola) y su relación con problemas agropecuarios.  \n",
    "2. Aplicar vectores en el plano para modelar fuerzas, desplazamientos o distribuciones en contextos agrícolas.  \n",
    "3. Integrar herramientas matemáticas para resolver situaciones reales (ej.: diseño de riego, trayectorias de maquinaria, optimización de terrenos).  \n",
    "\n",
    "---\n",
    "\n",
    "### **Estructura del Parcial:**  \n",
    "\n",
    "#### **Sección 1: Conceptos Básicos (20 puntos)**  \n",
    "**Preguntas cortas** – Evaluar comprensión teórica:  \n",
    "1. Defina con sus palabras una **elipse** y mencione un ejemplo de su aplicación en el diseño de un silo agrícola. *(Contextualización)*  \n",
    "2. Calcule el módulo o norma del vector **v = (3, -4)** que representa la fuerza aplicada para arrastrar un arado. *(Conexión con agro)*  \n",
    "\n",
    "#### **Sección 2: Problemas Aplicados (50 puntos)**  \n",
    "**Problema 1 (Secciones Cónicas – 25 pts):**  \n",
    "- *Enunciado:* Un agricultor necesita construir un sistema de riego por aspersión. Los aspersores tienen un alcance máximo de 10 metros, describiendo una circunferencia. Si se colocan dos aspersores en los puntos **A(0, 0)** y **B(6, 0)**, determine la ecuación de cada circunferencia y grafique la zona de overlap (intersección) para evitar sequías o encharcamientos. *(ABPP + visualización)*  \n",
    "\n",
    "**Problema 2 (Vectores – 25 pts):**  \n",
    "- *Enunciado:* Un tractor aplica dos fuerzas simultáneas: **F₁ = (200 N, 30°)** y **F₂ = (150 N, -45°)**. Calcule la fuerza resultante en forma vectorial y su dirección. Luego, interprete cómo afecta esta resultante al consumo de combustible si la dirección óptima es a 0°. *(Conexión con eficiencia agrícola)*  \n",
    "\n",
    "#### **Sección 3: Análisis Crítico (30 puntos)**  \n",
    "**Pregunta abierta:**  \n",
    "- *Consigna:* Imagine que debe diseñar un invernadero con techo parabólico. Explique:  \n",
    "  a) Cómo aprovechar la propiedad de reflexión de la parábola para distribuir luz solar.  \n",
    "  b) Use vectores para proponer la orientación del invernadero según vientos predominantes en su región. *(Creatividad + transferencia de conocimiento)*  \n",
    "\n",
    "---\n",
    "\n",
    "### **Rúbrica de Evaluación:**  \n",
    "| **Criterio**               | **Excelente (10 pts)** | **Satisfactorio (7 pts)** | **En desarrollo (4 pts)** |  \n",
    "|----------------------------|-----------------------|---------------------------|--------------------------|  \n",
    "| **Precisión matemática**   | Soluciones sin errores | Errores menores           | Errores conceptuales     |  \n",
    "| **Conexión con el agro**   | Aplicación clara y relevante | Conexión genérica | Falta de contextualización |  \n",
    "| **Argumentación**          | Explicación detallada y lógica | Justificación básica | Respuestas incompletas |  \n",
    "\n",
    "---\n",
    "\n",
    "### **Metodología Sugerida:**  \n",
    "- **Pre-parcial:** Trabajo en clase con ejemplos reales (ej.: usar geogebra para simular trayectorias de aspersores).  \n",
    "- **Durante el parcial:** Permitir uso de fórmulas y calculadoras, pero no dispositivos con internet.  \n",
    "- **Post-parcial:** Retroalimentación con discusión grupal sobre soluciones óptimas.  \n",
    "\n",
    "---\n",
    "\n",
    "### **Notas Adicionales:**  \n",
    "- **Diferencial pedagógico:** Las preguntas vinculan habilidades matemáticas con toma de decisiones en el agro.  \n",
    "- **Adaptabilidad:** Si el grupo tiene perfil técnico-agrícola, se puede profundizar en cálculos de pendientes o diseño de curvas de nivel.  \n",
    "\n",
    "Este diseño fomenta la **articulación teoría-práctica** y refleja un enfoque docente centrado en la aplicabilidad. \n",
    "\n",
    "\n"
   ]
  },
  {
   "cell_type": "markdown",
   "id": "edf08f0b",
   "metadata": {},
   "source": [
    "## Parcial para Marisol Yacira Ayala Mendoza  \n",
    "\n",
    "\n",
    "### **Diseño de Parcial: Secciones Cónicas y Vectores en el Agro**  \n",
    "**Estudiante:** Marisol Yacira Ayala Mendoza  \n",
    "**Formato de Entrega:** Cuaderno Jupyter Notebook + video explicativo (grabado con OBS, subido a YouTube).  \n",
    "**Duración del video:** 15-20 minutos máximo.  \n",
    "**Enfoques pedagógicos:** Aprendizaje basado en proyectos (ABP), flipped classroom, competencias digitales y aplicación práctica.  \n",
    "\n",
    "---\n",
    "\n",
    "### **Instrucciones Generales:**  \n",
    "1. **Estructura del Jupyter Notebook:**  \n",
    "   - Celdas de código (Python con librerías como `matplotlib`, `numpy`, `sympy`).  \n",
    "   - Celdas Markdown con explicaciones teóricas y conclusiones.  \n",
    "   - Gráficos interactivos (opcional si usa `plotly`).  \n",
    "2. **Video en YouTube:**  \n",
    "   - Explicación clara de cada problema (audio y pantalla compartida del Notebook).  \n",
    "   - Introducción breve y conclusión aplicada al agro.  \n",
    "\n",
    "---\n",
    "\n",
    "### **Parte 1: Secciones Cónicas en el Agro (50 pts)**  \n",
    "#### **Problema 1: Diseño de un Silio Elíptico (25 pts)**  \n",
    "- **Consigna:** Un silo para almacenar granos debe tener base elíptica (semiejes mayor = 8m, menor = 5m).  \n",
    "  - **En el Notebook:**  \n",
    "    - Calcular la ecuación de la elipse y graficarla.  \n",
    "    - Usar integración numérica (`scipy.integrate`) para hallar el área de la base.  \n",
    "  - **En el video:** Explicar cómo la forma elíptica optimiza la distribución de presión en el silo.  \n",
    "\n",
    "#### **Problema 2: Trayectoria Parabólica de Riego (25 pts)**  \n",
    "- **Consigna:** Un aspersor lanza agua con trayectoria parabólica (vértice en (0, 10), pasa por (15, 5)).  \n",
    "  - **En el Notebook:**  \n",
    "    - Determinar la ecuación de la parábola.  \n",
    "    - Simular la trayectoria con `matplotlib.animation`.  \n",
    "  - **En el video:** Relacionar la parábola con el alcance máximo del riego.  \n",
    "\n",
    "---\n",
    "\n",
    "### **Parte 2: Vectores en el Agro (50 pts)**  \n",
    "#### **Problema 3: Fuerza Resultante en un Tractor (25 pts)**  \n",
    "- **Consigna:** Un tractor es jalado por dos fuerzas: **F₁ = (300 N, 20°)** y **F₂ = (200 N, -30°)**.  \n",
    "  - **En el Notebook:**  \n",
    "    - Calcular la fuerza resultante (usar `numpy` para descomposición vectorial).  \n",
    "    - Graficar los vectores con `quiver`.  \n",
    "  - **En el video:** Explicar cómo afecta la resultante al consumo de combustible.  \n",
    "\n",
    "#### **Problema 4: Diseño de Terreno con Vectores (25 pts)**  \n",
    "- **Consigna:** Un terreno se modela con vectores **A = (2 km, 3 km)** y **B = (-1 km, 4 km)** (linderos).  \n",
    "  - **En el Notebook:**  \n",
    "    - Calcular el área usando producto cruz.  \n",
    "    - Crear un mapa interactivo con `folium`.  \n",
    "  - **En el video:** Proponer cómo orientar cultivos según la forma del terreno.  \n",
    "\n",
    "---\n",
    "\n",
    "### **Rúbrica de Evaluación:**  \n",
    "| **Criterio**               | **Excelente (20 pts)** | **Satisfactorio (15 pts)** | **En desarrollo (10 pts)** |  \n",
    "|----------------------------|------------------------|----------------------------|---------------------------|  \n",
    "| **Exactitud matemática**   | Código y cálculos sin errores | Pequeños errores corregibles | Errores graves |  \n",
    "| **Creatividad en la aplicación al agro** | Soluciones innovadoras y bien justificadas | Conexiones básicas | Aplicación genérica |  \n",
    "| **Calidad del video**      | Audio claro, explicación fluida, edición profesional | Audio aceptable, explicación clara | Video poco pulido |  \n",
    "| **Organización del Notebook** | Celdas lógicas, comentarios útiles, gráficos claros | Estructura básica | Falta de orden |  \n",
    "\n",
    "---\n",
    "\n",
    "### **Recursos Sugeridos:**  \n",
    "- **Librerías Python:**  \n",
    "  ```python\n",
    "  import numpy as np\n",
    "  import matplotlib.pyplot as plt\n",
    "  from matplotlib.animation import FuncAnimation\n",
    "  from scipy.integrate import quad\n",
    "  ```  \n",
    "- **Ejemplo de gráfico animado (Problema 2):**  \n",
    "  ```python\n",
    "  fig, ax = plt.subplots()\n",
    "  def update(frame):\n",
    "      ax.clear()\n",
    "      ax.plot(x[:frame], y[:frame], 'b-')  # Trayectoria parabólica\n",
    "  ani = FuncAnimation(fig, update, frames=len(x), repeat=False)\n",
    "  ```  \n",
    "\n",
    "---\n",
    "\n",
    "### **Recomendaciones Pedagógicas:**  \n",
    "1. **Antes del parcial:**  \n",
    "   - Realizar una sesión práctica con Jupyter Notebook para familiarizar a los estudiantes.  \n",
    "   - Proporcionar una plantilla base del Notebook con celdas predefinidas.  \n",
    "2. **Durante el parcial:**  \n",
    "   - Permitir el uso de documentación en línea (ej.: Stack Overflow) para depurar código.  \n",
    "3. **Después del parcial:**  \n",
    "   - Compartir los videos en un foro para peer review (evaluación entre pares).  \n",
    "\n",
    "---\n",
    "\n",
    "### **Nota Final:**  \n",
    "Este diseño evalúa **habilidades matemáticas**, **competencia digital** y **capacidad de comunicación científica**, clave en la educación moderna. ¿Necesitas ajustar la dificultad de los problemas o agregar una rúbrica específica para la narrativa del video?  \n",
    "\n",
    "**Ejemplo de título para el video:**  \n",
    "*\"Matemáticas en el Agro: Secciones Cónicas y Vectores con Python – Marisol Yacira Ayala Mendoza\"*."
   ]
  },
  {
   "cell_type": "markdown",
   "id": "48bff9c3",
   "metadata": {},
   "source": [
    "## Parcial 1 para Sebastian Camilo Amaris Fernandez \n",
    "\n",
    "### **Diseño de Parcial: Secciones Cónicas y Vectores en el Agro**  \n",
    "**Estudiante:** Sebastián Camilo Amaris Fernández  \n",
    "**Modalidad:** Evaluación práctica con **Jupyter Notebook** + **Video explicativo** (grabado con OBS, subido a YouTube).  \n",
    "**Duración del video:** **15-20 minutos** (explicación clara y concisa).  \n",
    "**Enfoques pedagógicos:**  \n",
    "- **Aprendizaje basado en proyectos (ABP)**  \n",
    "- **Flipped Classroom** (el estudiante investiga y aplica).  \n",
    "- **Competencias digitales** (manejo de Python, graficación, edición de video).  \n",
    "- **Contextualización agropecuaria** (aplicaciones reales en agricultura).  \n",
    "\n",
    "---\n",
    "\n",
    "## **📌 Estructura del Parcial**  \n",
    "### **🔹 Parte 1: Secciones Cónicas en el Agro (50 puntos)**  \n",
    "#### **Problema 1: Diseño de un Tanque de Riego Parabólico (25 pts)**  \n",
    "- **Consigna:**  \n",
    "  Un agricultor necesita construir un tanque de agua cuya sección transversal sea una **parábola** con vértice en **(0, 10)** y que pase por el punto **(5, 5)**.  \n",
    "  - **En el Notebook:**  \n",
    "    - Calcular la ecuación de la parábola.  \n",
    "    - Graficarla con `matplotlib`.  \n",
    "    - Usar `scipy.integrate` para calcular el área bajo la curva (simulando capacidad del tanque).  \n",
    "  - **En el video:**  \n",
    "    - Explicar por qué una forma parabólica es eficiente para distribución de agua.  \n",
    "\n",
    "#### **Problema 2: Trayectoria de un Aspersor (25 pts)**  \n",
    "- **Consigna:**  \n",
    "  Un aspersor sigue una trayectoria **elíptica** con semiejes **6m (horizontal) y 4m (vertical)**.  \n",
    "  - **En el Notebook:**  \n",
    "    - Graficar la elipse.  \n",
    "    - Calcular su perímetro aproximado con `numpy`.  \n",
    "  - **En el video:**  \n",
    "    - Relacionar la forma elíptica con el alcance óptimo de riego.  \n",
    "\n",
    "---\n",
    "\n",
    "### **🔹 Parte 2: Vectores en el Agro (50 puntos)**  \n",
    "#### **Problema 3: Fuerza Resultante en un Tractor (25 pts)**  \n",
    "- **Consigna:**  \n",
    "  Un tractor es jalado por dos fuerzas:  \n",
    "  - **F₁ = 400 N, 30°**  \n",
    "  - **F₂ = 300 N, -45°**  \n",
    "  - **En el Notebook:**  \n",
    "    - Descomponer los vectores en componentes $x$ e $y$.  \n",
    "    - Calcular la fuerza resultante.  \n",
    "    - Graficar los vectores con `quiver`.  \n",
    "  - **En el video:**  \n",
    "    - Explicar cómo afecta la dirección de la fuerza al consumo de combustible.  \n",
    "\n",
    "#### **Problema 4: Optimización de Cultivos con Vectores (25 pts)**  \n",
    "- **Consigna:**  \n",
    "  Un terreno está delimitado por los vectores **A = (2 km, 1 km)** y **B = (-1 km, 3 km)**.  \n",
    "  - **En el Notebook:**  \n",
    "    - Calcular el área usando el **producto cruz**.  \n",
    "    - Graficar el terreno con `matplotlib`.  \n",
    "  - **En el video:**  \n",
    "    - Proponer cómo distribuir cultivos según la forma del terreno.  \n",
    "\n",
    "---\n",
    "\n",
    "## **📌 Instrucciones Técnicas**  \n",
    "### **🔹 Requisitos del Jupyter Notebook:**  \n",
    "✅ **Celdas de código en Python** (usando `numpy`, `matplotlib`, `scipy`).  \n",
    "✅ **Explicaciones en Markdown** (teoría, procedimientos, conclusiones).  \n",
    "✅ **Gráficos interactivos** (opcional: `plotly` o `folium` para mapas).  \n",
    "\n",
    "### **🔹 Requisitos del Video:**  \n",
    "🎥 **Grabación con OBS** (pantalla + voz).  \n",
    "📢 **Explicación clara y estructurada** (introducción, desarrollo, conclusión).  \n",
    "📌 **Publicación en YouTube** (enlace enviado al docente).  \n",
    "\n",
    "---\n",
    "\n",
    "## **📌 Rúbrica de Evaluación**  \n",
    "| **Criterio**               | **Excelente (20 pts)** | **Satisfactorio (15 pts)** | **En desarrollo (10 pts)** |  \n",
    "|----------------------------|------------------------|----------------------------|---------------------------|  \n",
    "| **Precisión matemática**   | Código y cálculos sin errores | Pequeños errores | Errores graves |  \n",
    "| **Aplicación al agro**     | Soluciones innovadoras y bien justificadas | Conexión básica | Aplicación genérica |  \n",
    "| **Calidad del video**      | Audio claro, edición profesional | Explicación aceptable | Video poco pulido |  \n",
    "| **Organización del Notebook** | Código bien estructurado, gráficos claros | Estructura básica | Falta de orden |  \n",
    "\n",
    "---\n",
    "\n",
    "## **Ejemplo de Código en Python**  \n",
    "### **Problema 1 (Parábola de Riego):**  \n",
    "```python\n",
    "import numpy as np\n",
    "import matplotlib.pyplot as plt\n",
    "\n",
    "# Ecuación de la parábola: y = ax² + bx + c\n",
    "# Vértice en (0, 10) => y = ax² + 10\n",
    "# Pasa por (5, 5) => 5 = a(25) + 10 => a = -0.2\n",
    "x = np.linspace(-10, 10, 100)\n",
    "y = -0.2 * x**2 + 10\n",
    "\n",
    "plt.plot(x, y, label=\"Tanque de riego parabólico\")\n",
    "plt.xlabel(\"Distancia (m)\")\n",
    "plt.ylabel(\"Altura (m)\")\n",
    "plt.legend()\n",
    "plt.grid()\n",
    "plt.show()\n",
    "```\n",
    "\n",
    "---\n",
    "\n",
    "## ** Conclusión**  \n",
    "Este diseño de parcial:  \n",
    "✔ **Evalúa competencias matemáticas y digitales.**  \n",
    "✔ **Fomenta la creatividad y aplicación real en agricultura.**  \n",
    "✔ **Integra tecnología (Python, OBS, YouTube) en la evaluación.**  \n",
    "\n",
    "**Ejemplo de título para el video:**  \n",
    "*\"Matemáticas Agrícolas: Cónicas y Vectores con Python – Sebastián Camilo Amaris Fernández\"* \n",
    "\n"
   ]
  },
  {
   "cell_type": "markdown",
   "id": "07a37ce1",
   "metadata": {},
   "source": [
    "# Parcial 1 para Rivaldo José Masss Miranda  \n",
    "\n",
    "### **📝 Diseño de Parcial: \"Secciones Cónicas y Vectores en el Agro con Python\"**  \n",
    "**Estudiante:** Rivaldo José Mass Miranda  \n",
    "**Modalidad:** **Evaluación STEM** (Matemáticas + Tecnología + Aplicación Práctica)  \n",
    "**Formato de Entrega:**  \n",
    "- 🖥️ **Jupyter Notebook** (código Python + explicaciones en Markdown)  \n",
    "- 🎥 **Video explicativo** (15-20 min, grabado con OBS, subido a YouTube)  \n",
    "**Enfoques Pedagógicos:**  \n",
    "✅ **Aprendizaje Basado en Proyectos (ABP)**  \n",
    "✅ **Flipped Classroom** (investigación autónoma + aplicación)  \n",
    "✅ **Competencias Digitales** (programación, visualización de datos, edición multimedia)  \n",
    "✅ **Conexión Agroindustrial** (problemas reales del sector agrícola)  \n",
    "\n",
    "---\n",
    "\n",
    "## **🌾 Parte 1: Secciones Cónicas en el Agro (50 Puntos)**  \n",
    "### **Problema 1: Diseño de un Invernadero Parabólico (25 pts)**  \n",
    "**Contexto:** Un invernadero debe tener techo parabólico para optimizar la luz solar.  \n",
    "- **Consignas:**  \n",
    "  - Ecuación de la parábola con vértice en (0, 8) y que pasa por (4, 6).  \n",
    "  - Calcular el área bajo la curva (integración numérica con `scipy`).  \n",
    "  - Graficar en 3D usando `matplotlib` (opcional: `plotly` para interactividad).  \n",
    "**Video:** Explicar cómo la forma parabólica mejora la distribución de luz.  \n",
    "\n",
    "### **Problema 2: Trayectoria de un Drone Agrícola (25 pts)**  \n",
    "**Contexto:** Un drone sigue una trayectoria elíptica para monitorear cultivos.  \n",
    "- **Consignas:**  \n",
    "  - Graficar la elipse con semiejes 100m (horizontal) y 60m (vertical).  \n",
    "  - Calcular la excentricidad y explicar su impacto en la cobertura del drone.  \n",
    "**Video:** Relacionar la geometría con la eficiencia en el mapeo de cultivos.  \n",
    "\n",
    "---\n",
    "\n",
    "## **➗ Parte 2: Vectores en el Agro (50 Puntos)**  \n",
    "### **Problema 3: Análisis de Fuerzas en un Arado (25 pts)**  \n",
    "**Contexto:** Un arado es tirado por dos tractores con fuerzas:  \n",
    "- **F₁ = 500 N, 25°**  \n",
    "- **F₂ = 400 N, -15°**  \n",
    "- **Consignas:**  \n",
    "  - Calcular la fuerza resultante (usar `numpy` para descomposición).  \n",
    "  - Graficar vectores con `quiver` y la resultante en rojo.  \n",
    "**Video:** Explicar cómo afecta la dirección al desgaste del equipo.  \n",
    "\n",
    "### **Problema 4: Delimitación Óptima de Terrenos (25 pts)**  \n",
    "**Contexto:** Un terreno se define por los vectores **A = (3 km, 2 km)** y **B = (-1 km, 4 km)**.  \n",
    "- **Consignas:**  \n",
    "  - Calcular el área con producto vectorial.  \n",
    "  - Crear un mapa interactivo con `folium` (georreferenciación).  \n",
    "**Video:** Proponer distribución de cultivos según pendientes.  \n",
    "\n",
    "---\n",
    "\n",
    "## **⚙️ Instrucciones Técnicas**  \n",
    "### **📌 Jupyter Notebook:**  \n",
    "```python\n",
    "# Librerías obligatorias\n",
    "import numpy as np\n",
    "import matplotlib.pyplot as plt\n",
    "from scipy import integrate\n",
    "# Opcionales: plotly, folium, sympy\n",
    "```  \n",
    "**Estructura:**  \n",
    "1. **Celdas de código** comentadas.  \n",
    "2. **Markdown** con teoría, procedimientos y conclusiones.  \n",
    "3. **Gráficos interactivos** (bonus).  \n",
    "\n",
    "### **🎥 Video en YouTube:**  \n",
    "- **Introducción:** Presentación del problema y objetivos (1 min).  \n",
    "- **Desarrollo:** Explicación paso a paso del código y aplicaciones (12-15 min).  \n",
    "- **Conclusión:** Reflexión sobre la importancia en el agro (2 min).  \n",
    "**Requisitos:**  \n",
    "✔ Pantalla compartida del Notebook + voz clara.  \n",
    "✔ Enlace enviado al docente (visibilidad: \"Oculto\" o \"Público\").  \n",
    "\n",
    "---\n",
    "\n",
    "## **📊 Rúbrica de Evaluación**  \n",
    "| **Criterio**               | **Excelente (20 pts)**      | **Satisfactorio (15 pts)** | **En desarrollo (10 pts)** |  \n",
    "|----------------------------|----------------------------|----------------------------|---------------------------|  \n",
    "| **Exactitud Matemática**   | Código sin errores, cálculos precisos | Pequeños errores corregibles | Errores graves |  \n",
    "| **Aplicación al Agro**     | Soluciones innovadoras y justificadas | Conexión básica con el agro | Aplicación genérica |  \n",
    "| **Calidad Técnica**        | Notebook organizado, gráficos profesionales | Código funcional pero simple | Falta de pulido |  \n",
    "| **Comunicación en Video**  | Explicación clara, edición cuidada | Audio comprensible | Dificultades de comprensión |  \n",
    "\n",
    "---\n",
    "\n",
    "## **💡 Ejemplo de Código (Problema 1)**  \n",
    "```python\n",
    "# Parábola: y = -ax² + k (vértice en (0, k))\n",
    "a = (8 - 6) / (4**2)  # Cálculo de 'a' usando el punto (4,6)\n",
    "x = np.linspace(-10, 10, 100)\n",
    "y = -a * x**2 + 8\n",
    "\n",
    "# Gráfico\n",
    "plt.figure(figsize=(8, 6))\n",
    "plt.plot(x, y, label=\"Techo del invernadero\", color=\"green\")\n",
    "plt.fill_between(x, y, alpha=0.3, color=\"lightgreen\")\n",
    "plt.title(\"Diseño Óptimo para Invernadero\")\n",
    "plt.grid()\n",
    "plt.legend()\n",
    "plt.show()\n",
    "```\n",
    "\n",
    "---\n",
    "\n",
    "## **🔍 Retroalimentación Personalizada**  \n",
    "**Para Rivaldo:**  \n",
    "- **Bonus:** Si incluye una simulación de cómo la luz solar incide en la parábola (usando `matplotlib.animation`).  \n",
    "- **Diferencial:** Comparar con otras formas (ej: techo circular) usando gráficos superpuestos.  \n",
    "\n",
    "**Título Sugerido para el Video:**  \n",
    "*\"Matemáticas para el Agro: Optimizando Recursos con Python – Rivaldo Mass Miranda\"*  \n",
    "\n",
    "---\n",
    "\n",
    "### **Nota Final:**  \n",
    "Este diseño promueve:  \n",
    "🔹 **Pensamiento crítico** (análisis de soluciones óptimas).  \n",
    "🔹 **Habilidades transversales** (programación, comunicación audiovisual).  \n",
    "🔹 **Conexión con ODS 2** (Hambre Cero + Agricultura Sostenible).  \n"
   ]
  },
  {
   "cell_type": "markdown",
   "id": "13e20424",
   "metadata": {},
   "source": [
    "# Parcial 1 desarrollado a manera de ejemplo por el profe Marco Julio Cañas\n",
    "\n",
    "### **Diseño de Parcial Modelo para Docentes: \"Secciones Cónicas y Vectores Aplicados al Agro\"**  \n",
    "**Docente:** Marco Julio Cañas Campillo  \n",
    "**Modalidad:** **Ejemplo Guía** para resolver el parcial en Jupyter Notebook + Video (OBS/YouTube)  \n",
    "**Objetivo Pedagógico:**  \n",
    "• Modelar la resolución de problemas con **enfoque aplicado** al agro.  \n",
    "• Integrar **herramientas digitales** (Python, visualización de datos).  \n",
    "• Promover **metodologías activas** (ABP, flipped classroom).  \n",
    "\n",
    "---\n",
    "\n",
    "## **🌱 Estructura del Parcial Modelo**  \n",
    "### **1. Encabezado del Notebook (Plantilla)**  \n",
    "```python \n",
    "# -*- coding: utf-8 -*-\n",
    "\"\"\"\n",
    "Parcial Matemáticas Aplicadas al Agro - Secciones Cónicas y Vectores\n",
    "Estudiante: [Nombre] \n",
    "Docente: Marco Julio Cañas Campillo\n",
    "Fecha: [Fecha]\n",
    "\"\"\"\n",
    "# Librerías básicas\n",
    "import numpy as np\n",
    "import matplotlib.pyplot as plt\n",
    "from scipy.integrate import quad\n",
    "```\n",
    "\n",
    "---\n",
    "\n",
    "## **📐 Problema 1: Diseño de Riego Parabólico (Secciones Cónicas)**  \n",
    "**Consigna para Estudiantes:**  \n",
    "*\"Un sistema de riego debe lanzar agua con trayectoria parabólica que pase por los puntos (0,0), (5,3) y (10,0). Determine la ecuación y grafique el flujo.\"*  \n",
    "\n",
    "### **Solución Modelo (Docente):**  \n",
    "```python\n",
    "# Cálculo de coeficientes\n",
    "points = [(0,0), (5,3), (10,0)]\n",
    "A = np.array([[0, 0, 1], [25, 5, 1], [100, 10, 1]])\n",
    "b = np.array([0, 3, 0])\n",
    "a, b, c = np.linalg.solve(A, b)\n",
    "\n",
    "# Gráfico\n",
    "x = np.linspace(0, 10, 100)\n",
    "y = a*x**2 + b*x + c\n",
    "plt.plot(x, y, 'r-', label=f\"y = {round(a,2)}x² + {round(b,2)}x + {c}\")\n",
    "plt.scatter([p[0] for p in points], [p[1] for p in points], color='blue')\n",
    "plt.title(\"Trayectoria de Riego Parabólico\")\n",
    "plt.legend()\n",
    "plt.grid()\n",
    "plt.show()\n",
    "```\n",
    "**Explicación en Video (Ejemplo Docente):**  \n",
    "• **Min 0-2:** Contexto agrícola (por qué usar parábolas en riego).  \n",
    "• **Min 2-7:** Resolución matemática (sistema de ecuaciones).  \n",
    "• **Min 7-10:** Visualización y análisis (área de cobertura).  \n",
    "\n",
    "---\n",
    "\n",
    "## **➗ Problema 2: Fuerzas en Maquinaria Agrícola (Vectores)**  \n",
    "**Consigna para Estudiantes:**  \n",
    "*\"Un tractor experimenta dos fuerzas: F₁ = 200N a 30° y F₂ = 150N a -20°. Calcule la fuerza resultante y su dirección.\"*  \n",
    "\n",
    "### **Solución Modelo (Docente):**  \n",
    "```python\n",
    "# Descomposición vectorial\n",
    "def polar_to_cart(magnitude, angle):\n",
    "    angle_rad = np.deg2rad(angle)\n",
    "    return magnitude * np.array([np.cos(angle_rad), np.sin(angle_rad)])\n",
    "\n",
    "F1 = polar_to_cart(200, 30)\n",
    "F2 = polar_to_cart(150, -20)\n",
    "resultante = F1 + F2\n",
    "\n",
    "# Gráfico\n",
    "plt.quiver(0, 0, F1[0], F1[1], angles='xy', scale_units='xy', scale=1, color='r', label='F₁')\n",
    "plt.quiver(0, 0, F2[0], F2[1], angles='xy', scale_units='xy', scale=1, color='b', label='F₂')\n",
    "plt.quiver(0, 0, resultante[0], resultante[1], angles='xy', scale_units='xy', scale=1, color='g', label='Resultante')\n",
    "plt.xlim(-50, 250)\n",
    "plt.ylim(-50, 200)\n",
    "plt.legend()\n",
    "plt.grid()\n",
    "plt.title(\"Diagrama de Fuerzas en Tractor\")\n",
    "plt.show()\n",
    "```\n",
    "**Explicación en Video (Ejemplo Docente):**  \n",
    "• **Min 0-3:** Importancia de vectores en diseño de maquinaria.  \n",
    "• **Min 3-8:** Cálculo paso a paso (transformación polar a cartesiano).  \n",
    "• **Min 8-12:** Análisis de eficiencia energética basada en la resultante.  \n",
    "\n",
    "---\n",
    "\n",
    "## **📌 Rúbrica de Evaluación (Ejemplo)**  \n",
    "| **Criterio**       | **Nivel Avanzado** (5 pts) | **Nivel Intermedio** (3 pts) | **Nivel Básico** (1 pt) |\n",
    "|--------------------|---------------------------|-----------------------------|-------------------------|\n",
    "| **Exactitud Matemática** | Soluciones sin errores y optimizadas | Soluciones correctas con código redundante | Errores en cálculos o gráficos |\n",
    "| **Creatividad en Aplicación** | Conexiones innovadoras con problemas agrícolas reales | Aplicaciones estándar | Falta de contextualización |\n",
    "| **Claridad en Video** | Explicación estructurada y edición profesional | Explicación clara pero sin edición | Dificultades de comprensión |\n",
    "\n",
    "---\n",
    "\n",
    "## **🎥 Guía para Estudiantes (Publicar en YouTube)**  \n",
    "1. **Introducción:**  \n",
    "   - Presentar el problema y su relevancia en el agro (30 seg).  \n",
    "2. **Desarrollo:**  \n",
    "   - Mostrar el Notebook en pantalla completa.  \n",
    "   - Explicar cada celda de código y su lógica (evitar leer directamente).  \n",
    "3. **Conclusión:**  \n",
    "   - Resumir aprendizajes y proponer mejoras (ej: \"¿Cómo optimizaría el riego usando hipérbolas?\").  \n",
    "\n",
    "**Recomendaciones Técnicas:**  \n",
    "✔ Usar **OBS** con configuración:  \n",
    "   - Fuente de pantalla (Jupyter Notebook).  \n",
    "   - Webcam en esquina inferior derecha (opcional).  \n",
    "✔ Publicar video como **\"No listado\"** y compartir enlace privado.  \n",
    "\n",
    "---\n",
    "\n",
    "## **🌾 Extensión Pedagógica (Para el Docente)**  \n",
    "• **Variante 1:** Incluir un problema adicional con **hipérbolas** para calcular ángulos de sombra en invernaderos.  \n",
    "• **Variante 2:** Usar **geopandas** para analizar distribución de cultivos con vectores georreferenciados.  \n",
    "\n",
    "**Título Sugerido para Video Modelo:**  \n",
    "*\"Resolución Guiada: Matemáticas Agrícolas con Python - Prof. Marco Cañas\"*  \n",
    "\n",
    "Este diseño permite al docente:  \n",
    "1) **Modelar estándares de calidad** para los trabajos.  \n",
    "2) **Fomentar autonomía** con herramientas digitales.  \n",
    "3) **Evaluar competencias** técnicas y comunicativas.  \n",
    "\n",
    "¿Necesitas ajustar la complejidad o agregar una sección de autoevaluación?"
   ]
  },
  {
   "cell_type": "markdown",
   "id": "124bb539",
   "metadata": {},
   "source": [
    "\n",
    "### **10. Retroalimentación**  \n",
    "- Usar `Plotly` para dashboards interactivos con feedback en tiempo real.  \n",
    "\n",
    "---\n"
   ]
  },
  {
   "cell_type": "markdown",
   "id": "ad75f993",
   "metadata": {},
   "source": [
    "\n",
    "### **11. Vocabulario inglés**  \n",
    "- *Vector magnitude*, *parametric equations*, *computational thinking*.  \n",
    "\n",
    "---\n",
    "\n",
    "### **12. Apéndice (Habilidades blandas)**  \n",
    "- Taller: *\"Trabajo en equipo con Git y Jupyter Notebook\"*.  \n",
    "\n",
    "---\n",
    "\n",
    "### **13. Referentes APA**  \n",
    "1. Duval, R. (2006). *Representaciones semióticas...*  \n",
    "2. Wing, J. (2006). *Computational thinking...*  \n",
    "3. National Research Council. (2011). *STEM integration in K-12 education*.  \n",
    "\n",
    "--- \n",
    "\n",
    "**Nota**: Todos los códigos Python están diseñados para ejecutarse en Jupyter Notebook con visualizaciones interactivas. ¿Necesitas ajustar algún componente?"
   ]
  },
  {
   "cell_type": "markdown",
   "id": "fb9402bb",
   "metadata": {
    "slideshow": {
     "slide_type": "slide"
    }
   },
   "source": [
    "## Estrategias propuestas para la solución de las dificultades de aprendizaje detectadas"
   ]
  },
  {
   "cell_type": "markdown",
   "id": "2dd3bd5c",
   "metadata": {
    "slideshow": {
     "slide_type": "slide"
    }
   },
   "source": []
  },
  {
   "cell_type": "markdown",
   "id": "c6236d5d",
   "metadata": {},
   "source": [
    "# FODA del grupo y del profesor  \n",
    "\n",
    "* F: Fortalezas\n",
    "* O: Oportunidades\n",
    "* D: Dificultades\n",
    "* A: Amenazas."
   ]
  },
  {
   "cell_type": "markdown",
   "id": "b48f9542",
   "metadata": {},
   "source": [
    "## ¿Cómo se sintió en este espacio de enseñanza y aprendizaje?\n",
    "\n",
    "!Dios te bendiga¡"
   ]
  },
  {
   "cell_type": "markdown",
   "id": "10bce0d0",
   "metadata": {
    "slideshow": {
     "slide_type": "slide"
    }
   },
   "source": [
    "## Referentes "
   ]
  },
  {
   "cell_type": "markdown",
   "id": "d204c917",
   "metadata": {},
   "source": [
    "* [Geometría Vectorial de Ude@](https://www.youtube.com/watch?v=_sc4HzP6MuI&list=PLarIdvSxyFn7HZLVJSW0kxCxqM4fC6C1J&index=1)\n",
    "\n",
    "* [Grajales Vanegas, L. M., Restrepo Estrada, C. E., Restrepo Ochoa, S. I., & Ruíz De Villalba, F. (2015). Matemáticas I para las ciencias económicas.](https://github.com/marco-canas/fundamentos_de_la_aritmetica/blob/main/referentes/2_grajales_logica/grajales_lina_matemticas.pdf)\n",
    "  \n",
    "* Duval, R. (2004). Semiosis y pensamiento humano: registros semióticos y aprendizajes intelectuales. Universidad del Valle.\n",
    "\n",
    "* [Aylwin, C. U. (2011). Lógica, conjuntos y números. Universidad de los Andes, Consejo de Publicaciones, Colección: Ciencias Básicas, Serie: Matemáticas.](https://github.com/marco-canas/fundamentos_logica/blob/main/referentes/2_uzcategui/uscategui.pdf)\n",
    "  \n",
    "* [Chollet, F. (2021). Deep learning with Python. Simon and Schuster.](https://github.com/marco-canas/didactica_ciencia_datos/blob/main/2_referentes/chollet/Fran%C3%A7ois%20Chollet%20-%20Deep%20Learning%20with%20Python-Manning%20(2018).pdf)  \n",
    "  \n",
    "* [Watson, S., Stewart, J., & Redlin, L. (2009). Precálculo. Matemáticas para el cálculo.](https://github.com/marco-canas/calculo/blob/main/referents/1_precalculo_stewart/stewart_precalculo.pdf)  \n",
    "\n",
    "* [Purcell, E. J., Varberg, D., & Rigdon, S. E. (2007). Cálculo diferencial e integral. Pearson Educación.](https://github.com/marco-canas/calculo/blob/main/referents/purcell/purcell_calculo.pdf)\n",
    "\n",
    "  \n",
    "\n",
    "* [stewart cálculo](https://udeaeduco-my.sharepoint.com/:b:/g/personal/marco_canas_udea_edu_co/EZgXZjAp8QxPqOAim2hs6LcBNPLGjSHf-xwYnUVYkwa04w?e=RZdTCy)  \n",
    "\n",
    "* [larson](https://udeaeduco-my.sharepoint.com/:b:/g/personal/marco_canas_udea_edu_co/ES71ChFeO9ZDhW3TwC5Ijk8BjxUK3Pdqz_fjHxTTFAfIAg?e=VDEjfu)\n",
    "\n",
    "\n",
    "\n",
    "* [Recomendación de la UNESCO sobre ciencia abierta](https://unesdoc.unesco.org/ark:/48223/pf0000379949_spa)\n",
    "\n",
    "* [chatGPT](https://openai.com/blog/chatgpt)  \n",
    "\n",
    "* [Géron, A. (2017). Hands-on machine learning with scikit-learn and tensorflow: Concepts. Tools, and Techniques to build intelligent systems.](chrome-extension://efaidnbmnnnibpcajpcglclefindmkaj/http://14.139.161.31/OddSem-0822-1122/Hands-On_Machine_Learning_with_Scikit-Learn-Keras-and-TensorFlow-2nd-Edition-Aurelien-Geron.pdf)   \n"
   ]
  },
  {
   "cell_type": "markdown",
   "id": "6b9e56a8",
   "metadata": {
    "slideshow": {
     "slide_type": "slide"
    }
   },
   "source": [
    "### [Evaluamos al profesor Marco Cañas Aquí](https://forms.office.com/Pages/ResponsePage.aspx?id=IefhmYRxjkmK_7KtTlPBwkanXIs1i1FEujpsZgO6dXpUREJPV1kxUk1JV1ozTFJIQVNIQjY5WEY3US4u)"
   ]
  },
  {
   "cell_type": "markdown",
   "id": "071afa04",
   "metadata": {
    "slideshow": {
     "slide_type": "slide"
    }
   },
   "source": [
    "## [Evaluación luego de alcanzar estos objetivos de aprendizaje]()"
   ]
  },
  {
   "cell_type": "markdown",
   "id": "10f43536",
   "metadata": {
    "slideshow": {
     "slide_type": "slide"
    }
   },
   "source": [
    "### Continue su aprendizaje en la siguiente clase a través del siguiente [vínculo]()"
   ]
  },
  {
   "cell_type": "markdown",
   "id": "af751e30",
   "metadata": {
    "slideshow": {
     "slide_type": "slide"
    }
   },
   "source": [
    "# Conjeturas pedagógicas fruto de la aplicación del modelo de aprendizaje invertido y del enfoque hacia la ciencia de datos con python\n",
    "\n",
    "1. Todo cálculo o resultado debe ser interpretado en una línea markdown del cuaderno Jupyter, inmediatamente después de la enunciación del resultado y después de la presentación de una tabla o gráfico bidimensional, de tal menera que el estudiante explicite la comprensión verbal del resultado y las inferencias o estrategias que este resultado le sugieren.   "
   ]
  }
 ],
 "metadata": {
  "celltoolbar": "Slideshow",
  "kernelspec": {
   "display_name": "Python 3 (ipykernel)",
   "language": "python",
   "name": "python3"
  },
  "language_info": {
   "codemirror_mode": {
    "name": "ipython",
    "version": 3
   },
   "file_extension": ".py",
   "mimetype": "text/x-python",
   "name": "python",
   "nbconvert_exporter": "python",
   "pygments_lexer": "ipython3",
   "version": "3.10.12"
  },
  "rise": {
   "enable_chalkboard": true,
   "theme": "sky",
   "transition": "zoom"
  }
 },
 "nbformat": 4,
 "nbformat_minor": 5
}
