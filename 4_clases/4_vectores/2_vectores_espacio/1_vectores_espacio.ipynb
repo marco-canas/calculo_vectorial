{
 "cells": [
  {
   "cell_type": "markdown",
   "id": "dc06dec7",
   "metadata": {
    "slideshow": {
     "slide_type": "slide"
    }
   },
   "source": [
    "<table align=\"left\">\n",
    "  <td>\n",
    "    <a href=\"https://colab.research.google.com/github/marco-canas/calculo_vectorial/blob/main/4_clases/4_vectores/2_vectores_espacio/1_vectores_espacio.ipynb\" target=\"_parent\"><img src=\"https://colab.research.google.com/assets/colab-badge.svg\" alt=\"Open In Colab\"/></a>\n",
    "  </td>\n",
    "  <td>\n",
    "    <a target=\"_blank\" href=\"https://kaggle.com/kernels/welcome?src=https://github.com/marco-canas/calculo_vectorial/blob/main/4_clases/4_vectores/2_vectores_espacio/1_vectores_espacio.ipynb\"><img src=\"https://kaggle.com/static/images/open-in-kaggle.svg\" /></a>\n",
    "  </td>\n",
    "</table>"
   ]
  },
  {
   "cell_type": "markdown",
   "id": "e0c5b198",
   "metadata": {
    "slideshow": {
     "slide_type": "slide"
    }
   },
   "source": [
    "### [Video de apoyo a la lectura interactiva y experimental de este cuaderno]()"
   ]
  },
  {
   "cell_type": "code",
   "execution_count": 2,
   "id": "7604880f",
   "metadata": {
    "slideshow": {
     "slide_type": "slide"
    }
   },
   "outputs": [
    {
     "data": {
      "application/vnd.microsoft.datawrangler.viewer.v0+json": {
       "columns": [
        {
         "name": "index",
         "rawType": "int64",
         "type": "integer"
        },
        {
         "name": "CÃ©dula",
         "rawType": "int64",
         "type": "integer"
        },
        {
         "name": "Nombre",
         "rawType": "object",
         "type": "string"
        },
        {
         "name": "Email",
         "rawType": "object",
         "type": "string"
        },
        {
         "name": "Asistencia",
         "rawType": "int64",
         "type": "integer"
        }
       ],
       "conversionMethod": "pd.DataFrame",
       "ref": "60da1450-460d-4d6b-9d6e-a40a8b9f991e",
       "rows": [
        [
         "0",
         "1193404816",
         "AMARIS FERNANDEZ SEBASTIAN CAMILO",
         "sebastian.amaris@udea.edu.co",
         "0"
        ],
        [
         "1",
         "1007528664",
         "AYALA MENDOZA MARISOL YACIRA",
         "marisol.ayala@udea.edu.co",
         "0"
        ],
        [
         "2",
         "1064188463",
         "MASS MIRANDA RIVALDO JOSE",
         "rivaldo.mass@udea.edu.co",
         "0"
        ],
        [
         "3",
         "1066570075",
         "MONTERROSA SOTO ABRIL",
         "a.monterrosa@udea.edu.co",
         "0"
        ]
       ],
       "shape": {
        "columns": 4,
        "rows": 4
       }
      },
      "text/html": [
       "<div>\n",
       "<style scoped>\n",
       "    .dataframe tbody tr th:only-of-type {\n",
       "        vertical-align: middle;\n",
       "    }\n",
       "\n",
       "    .dataframe tbody tr th {\n",
       "        vertical-align: top;\n",
       "    }\n",
       "\n",
       "    .dataframe thead th {\n",
       "        text-align: right;\n",
       "    }\n",
       "</style>\n",
       "<table border=\"1\" class=\"dataframe\">\n",
       "  <thead>\n",
       "    <tr style=\"text-align: right;\">\n",
       "      <th></th>\n",
       "      <th>CÃ©dula</th>\n",
       "      <th>Nombre</th>\n",
       "      <th>Email</th>\n",
       "      <th>Asistencia</th>\n",
       "    </tr>\n",
       "  </thead>\n",
       "  <tbody>\n",
       "    <tr>\n",
       "      <th>0</th>\n",
       "      <td>1193404816</td>\n",
       "      <td>AMARIS FERNANDEZ SEBASTIAN CAMILO</td>\n",
       "      <td>sebastian.amaris@udea.edu.co</td>\n",
       "      <td>0</td>\n",
       "    </tr>\n",
       "    <tr>\n",
       "      <th>1</th>\n",
       "      <td>1007528664</td>\n",
       "      <td>AYALA MENDOZA MARISOL YACIRA</td>\n",
       "      <td>marisol.ayala@udea.edu.co</td>\n",
       "      <td>0</td>\n",
       "    </tr>\n",
       "    <tr>\n",
       "      <th>2</th>\n",
       "      <td>1064188463</td>\n",
       "      <td>MASS MIRANDA RIVALDO JOSE</td>\n",
       "      <td>rivaldo.mass@udea.edu.co</td>\n",
       "      <td>0</td>\n",
       "    </tr>\n",
       "    <tr>\n",
       "      <th>3</th>\n",
       "      <td>1066570075</td>\n",
       "      <td>MONTERROSA SOTO ABRIL</td>\n",
       "      <td>a.monterrosa@udea.edu.co</td>\n",
       "      <td>0</td>\n",
       "    </tr>\n",
       "  </tbody>\n",
       "</table>\n",
       "</div>"
      ],
      "text/plain": [
       "      CÃ©dula                             Nombre  \\\n",
       "0  1193404816  AMARIS FERNANDEZ SEBASTIAN CAMILO   \n",
       "1  1007528664       AYALA MENDOZA MARISOL YACIRA   \n",
       "2  1064188463          MASS MIRANDA RIVALDO JOSE   \n",
       "3  1066570075              MONTERROSA SOTO ABRIL   \n",
       "\n",
       "                          Email  Asistencia  \n",
       "0  sebastian.amaris@udea.edu.co           0  \n",
       "1     marisol.ayala@udea.edu.co           0  \n",
       "2      rivaldo.mass@udea.edu.co           0  \n",
       "3      a.monterrosa@udea.edu.co           0  "
      ]
     },
     "execution_count": 2,
     "metadata": {},
     "output_type": "execute_result"
    }
   ],
   "source": [
    "import pandas as pd\n",
    "\n",
    "# Ruta del archivo\n",
    "path = 'C:/Users/marco/Documentos/docencia/groups_list/vectorial.xls'\n",
    "\n",
    "# Leer el archivo como CSV o TSV\n",
    "# Si el archivo está separado por tabulaciones (TSV)\n",
    "estudiantes = pd.read_csv(path, sep=',', encoding='ISO-8859-1')\n",
    "estudiantes.head(4)  # Mostrar las primeras 3 filas\n"
   ]
  },
  {
   "cell_type": "markdown",
   "id": "d7598d0a-d9b7-4ae0-b029-a0ed6ed1130b",
   "metadata": {},
   "source": [
    "\n",
    "# Principios de mi labor docente"
   ]
  },
  {
   "cell_type": "markdown",
   "id": "4f9d8cf9",
   "metadata": {
    "slideshow": {
     "slide_type": "slide"
    }
   },
   "source": [
    "## Modelo general de clase: [aula invertida](https://www3.gobiernodecanarias.org/medusa/ecoescuela/pedagotic/aprendizaje-invertido-flipped-classroom/)"
   ]
  },
  {
   "cell_type": "markdown",
   "id": "eb6ed03a",
   "metadata": {},
   "source": [
    "<img src = 'https://resources.maneuveringthemiddle.com/wp-content/uploads/2020/07/04212706/1-5.png' width = 200>  \n",
    "\n"
   ]
  },
  {
   "cell_type": "markdown",
   "id": "34319cce-a71b-4f64-aab8-b53e521efa40",
   "metadata": {},
   "source": [
    "# Metodología de Aprendizaje Basado en Problemas y Proyectos (ABPP)\n"
   ]
  },
  {
   "cell_type": "markdown",
   "id": "c4f73d81",
   "metadata": {},
   "source": [
    "\n",
    "<img src = 'https://www.unir.net/wp-content/uploads/2020/07/aprendizaje-problemas2-1-1-1-1.jpeg' width = 200>"
   ]
  },
  {
   "cell_type": "markdown",
   "id": "841a985c-bd9b-4dd3-8e4c-893983980af2",
   "metadata": {},
   "source": [
    "# Desarrollo del pensamiento computacional con Lenguajes Python, y R; y con archivos Markdown orientado a la formación en ciencia de datos \n",
    "\n"
   ]
  },
  {
   "cell_type": "markdown",
   "id": "3d0eba94",
   "metadata": {},
   "source": [
    "\n",
    "<img src = 'https://i.ytimg.com/vi/mcG_wcR4e6M/maxresdefault.jpg' width = 200>"
   ]
  },
  {
   "cell_type": "markdown",
   "id": "65aa0404-f7ae-495e-864c-1aec01b4255e",
   "metadata": {},
   "source": [
    "# Principio de fomento a la ciencia abierta, enseñar en el acceso a los datos públicos y el uso de software de código abierto  \n"
   ]
  },
  {
   "cell_type": "markdown",
   "id": "18ae9b87",
   "metadata": {},
   "source": [
    "\n",
    "<img src = 'https://unesdoc.unesco.org/in/rest/Thumb/image?id=p%3A%3Ausmarcdef_0000379949_spa&author=UNESCO&title=Recomendaci%C3%B3n+de+la+UNESCO+sobre+la+Ciencia+Abierta&year=2021&publisher=UNESCO&TypeOfDocument=UnescoPhysicalDocument&mat=PGD&ct=true&size=512&isPhysical=1' width = 200>"
   ]
  },
  {
   "cell_type": "markdown",
   "id": "d9559f85",
   "metadata": {},
   "source": [
    "El enfoque STEAMS en educación preescolar, primaria y secundaria es una extensión del enfoque STEM (Ciencia, Tecnología, Ingeniería y Matemáticas) y su variante STEAM, que incorpora el Arte. "
   ]
  },
  {
   "cell_type": "markdown",
   "id": "96775931",
   "metadata": {
    "slideshow": {
     "slide_type": "slide"
    }
   },
   "source": [
    "## Vectores en el espacio tridimensional y su aplicación a las ciencias agrarias en el Bajo Cauca Antioqueño.   \n"
   ]
  },
  {
   "cell_type": "markdown",
   "id": "53af2b47",
   "metadata": {},
   "source": [
    "\n",
    "[Página 775 del libro de Cálculo de Larson. Sección 11.2]()"
   ]
  },
  {
   "cell_type": "code",
   "execution_count": 1,
   "id": "28bae6cb",
   "metadata": {},
   "outputs": [],
   "source": [
    "def save_fig(nombre_archivo_imagen):\n",
    "    import os \n",
    "    import matplotlib.pyplot as plt\n",
    "    ubicacion_para_imagenes = r\"C:/Users/marco/Downloads\"\n",
    "    imagen_path = os.path.join(ubicacion_para_imagenes, nombre_archivo_imagen)\n",
    "    plt.savefig(imagen_path, bbox_inches='tight')"
   ]
  },
  {
   "cell_type": "markdown",
   "id": "b90c7767",
   "metadata": {},
   "source": [
    "# Estructura general para todas las clases\n",
    "\n",
    "Dame, por favor, un diseño de clase, con los enfoques didácticos de enseñanza: \" STEAMS y de Aprendizaje Basado en Problemas y Proyectos (ABPP)\" sobre: **\"Vectores en el espacio tridimensional y su aplicación a las ciencias agrarias en el Bajo Cauca Antioqueño.\"**, siguiendo la estructura:   \n",
    "\n",
    "1. Título de la clase   \n",
    "   \n",
    "2. Objetivos de aprendizaje  e indicadores del logro de estos objetivos.   \n",
    "   \n",
    "3. Un mapa conceptual que resuma la clase elaborado en Graphviz de python con nodos y edges de diferentes formas, colores y rellenos y renderizado en la siguiente ubicación:  \n",
    "    `\"C:/Users/marco/Downloads\"`.  \n",
    "   No olvides el parámetro `view = True` para el método `render()` de Graphviz. Para este mapa controla las superposiciones de los nodos con:  \n",
    "   graph [overlap=false]; // Elimina superposiciones  (puede aumentar el espacio)  \n",
    "   graph [overlap=\"scalexy\"]; // Escala el gráfico para evitar overlaps  \n",
    "   graph [overlap=\"compress\"]; // Comprime el grafo sin overlaps   \n",
    "   \n",
    "4. Contenido de la clase adaptado a lo que este curso de calculo vectorial y de varias variables le puede aportar a que los estudiantes puedan alcanzar su perfil de   \n",
    "   Ingenieros Agropecuarios de la Facultad de Ciencias Agrarias  de la Universidad de Antioquia - Campus Caucasia. Estructura el contenido para estudiar \"Los Vectores en el Espacio\" siguiendo la secuencia: Problemas prácticas en el Agro Caucasiano donde el concepto de vector tridimensional puede ser aplicable $\\to$ Definición y propiedades geométricas de los vectores 3D $\\to$  Definición y propiedades algebraicas de los vectores 3D $\\to$ Soluciones a problemas reales del Agro en Caucasia - Antioquia utilizando vectores 3D.  \n",
    "   \n",
    "5. Dame elementos históricos y epistemológicos asociados a esta clase, pero contados como un cuento al estilo de un cuentero antioqueño en Colombia. Incluye imágenes de los protagonistas históricos de esta clase.   \n",
    "   \n",
    "6. Actividades de aprendizaje.    \n",
    "     - Diseña una actividad de aprendizaje a través del uso de la Calculadora Casio 991 LA cw  \n",
    "     - Diseña una actividad de aprendizaje a través del uso de GeoGebra.\n",
    "     - Diseña una actividad de aprendizaje a través del uso de Python y Jupyter Notebook.  \n",
    "7. Incluye una canción o un poema que ayude a interiorizar y fijar los conceptos asociados a esta clase.   \n",
    "   \n",
    "   \n",
    "8. Tarea o actividades de ejercitación y fijación  \n",
    " \n",
    "9.  Evaluación incluyendo diez proyectos, un ejemplo de quiz (de tres preguntas) y un ejemplo de parcial (de cinco puntos). Diseña la clase un proyectos como:  \n",
    "      1. Un proyecto donde apliquemos el concepto de **Vectores 3D** para el diseño de silos en Ingeniería Agropecuaria para el control térmico.  \n",
    "      2. Uso de **Vectores 3D** para comunicación en Ingeniería agropecuaria. \n",
    "      3. Un proyecto sobre uso de los vectores 3D para Sistema de riego con GeoGebra o con Python.  \n",
    "      4. Un proyecto sobre Estructuras agrarias donde el concepto de **Vectores 3D** esté relacionado.\n",
    "      5. Aplicación de **Vectores 3D** en la navegación de drones para monitoreo agrícola.\n",
    "      6. Un proyecto sobre Hivernaderos donde el concepto de **Vectores 3D** esté relacionado. \n",
    "      7. Proyecto sobre **La silvicultura** (el manejo científico de bosques para producción sostenible de madera, biodiversidad y servicios ecosistémicos), donde el concepto de vector **Vectores 3D** este relacionado. \n",
    "      8. Proyecto de ciencia de datos con python o R para el servicio y desarrollo agrario que muestre el uso de vectores. \n",
    "\n",
    "   \n",
    "10. Diseño de actividad de retroalimentación.    \n",
    "     \n",
    "11. Dame un vocabulario y frases del idioma inglés asociadas a esta clase.    \n",
    "    \n",
    "12.  Incluye apéndice para la clase sobre desarrollo de habilidades para trabajar en equipo y de asertividad y empatía para relacionarnos. También elementos de la inteligencia emocional para presentar pruebas sin temor y sin realizar fraude en ellas.    \n",
    "     \n",
    "13. Incluye 10 referentes en didáctica de la matemática que estén de acuerdo a la propuesta didáctica de esta clase. Adiciona a estos referentes a Raymond Duval (Representaciones y cambios de representación para la adquisición de conceptos matemáticos) y a Jeannette Wing (Desarrollo del pensamiento computacional). Dejame todos estos referentes ordenados de acuerdo a las normas APA. Dejame todos estos referentes ordenados de acuerdo a las normas APA. Incluye las citaciones a estos referentes a medida que vallas diseñando la clase.    \n",
    "\n",
    "\n",
    "Pero  que este diseño sea para que el estudiante pueda aprender experimentando en cuadernos Jupyter con funciones de usuario y animaciones y visualizaciones en python. En particular utiliza para el diseño de clase a Numpy, Pandas, SymPy, Matplotlib.pyplot, Seaborn, Plotly, ipywidgets, matplotlib.animation y Jupyter Notebook.    \n",
    "\n",
    "Cada vez que utilices `matplotlib.animacion` no olvides incluir el uso de `IPython. display` para la rederización de estas animaciones a través de Jupyter Notebook.   \n",
    "\n",
    "No olvides darme los diseños de clase con las ecuaciones matemáticas delimitadas con signo de dolar $ para que VS Code si me renderize estas expresiones del lenguaje latex. Cuando vallas a utilizar ipywidgets ten en cuenta la siguiente importación inicial para garantizar que la visualización interactiva si se renderize en VS Code:  \n",
    "import numpy as np  \n",
    "import matplotlib.pyplot as plt  \n",
    "import ipywidgets as widgets  \n",
    "from IPython.display import display, clear_output  \n",
    "from matplotlib.patches import Rectangle  \n",
    "\n",
    "# Configuración inicial para visualización estática  \n",
    "%matplotlib inline "
   ]
  },
  {
   "cell_type": "markdown",
   "id": "6bb94a5a",
   "metadata": {},
   "source": [
    "# **Diseño de Clase: \"Vectores en el Espacio Tridimensional y su Aplicación a las Ciencias Agrarias en el Bajo Cauca Antioqueño\"**  \n"
   ]
  },
  {
   "cell_type": "markdown",
   "id": "daaab47c",
   "metadata": {},
   "source": [
    "\n",
    "**Enfoques Didácticos:**   \n",
    "\n",
    "* STEAMS (Ciencia, Tecnología, Ingeniería, Arte, Matemáticas y Sostenibilidad y Inteligencia Emocional) +\n",
    "* ABPP (Aprendizaje Basado en Problemas y Proyectos). \n",
    "* Aula Invertida\n",
    "* Teoría de Registros de Representación Semiótica de Raymond Duval. \n",
    "\n",
    "---\n"
   ]
  },
  {
   "cell_type": "markdown",
   "id": "b2a23a2b",
   "metadata": {},
   "source": [
    "\n",
    "## **1. Título de la Clase**  \n",
    "**\"Vectores 3D en el Agro: Optimizando Cultivos y Silvicultura en el Bajo Cauca con Python\"**  \n",
    "\n",
    "---\n"
   ]
  },
  {
   "cell_type": "markdown",
   "id": "70ec0fa2",
   "metadata": {},
   "source": [
    "\n",
    "## **2. Objetivos de Aprendizaje e Indicadores**  \n",
    "### **Objetivos:**  \n",
    "- Comprender las propiedades geométricas y algebraicas de los vectores en 3D.  \n",
    "- Aplicar vectores 3D a problemas reales del sector agrario (riego, topografía, maquinaria).  \n",
    "- Desarrollar habilidades computacionales con Python (visualización, animación, simulación).  \n"
   ]
  },
  {
   "cell_type": "markdown",
   "id": "79d21b44",
   "metadata": {},
   "source": [
    "\n",
    "### **Indicadores de Logro:**  \n",
    "- El estudiante modela sistemas de riego usando vectores 3D en Python.  \n",
    "- Resuelve problemas de topografía con operaciones vectoriales (producto cruz, norma).  \n",
    "- Diseña un prototipo virtual (GeoGebra/Python) para optimizar rutas de tractores.  \n",
    "\n",
    "\n"
   ]
  },
  {
   "cell_type": "markdown",
   "id": "4f0a6dca",
   "metadata": {},
   "source": [
    "\n",
    "## **3. Mapa Conceptual (Graphviz)**  \n"
   ]
  },
  {
   "cell_type": "code",
   "execution_count": 2,
   "id": "9811ae22",
   "metadata": {},
   "outputs": [
    {
     "data": {
      "text/plain": [
       "'C:\\\\Users\\\\marco\\\\Downloads\\\\mapa_vectores.png'"
      ]
     },
     "execution_count": 2,
     "metadata": {},
     "output_type": "execute_result"
    }
   ],
   "source": [
    "\n",
    "from graphviz import Digraph\n",
    "\n",
    "# Crear grafo\n",
    "dot = Digraph(comment='Vectores 3D en el Agro', \n",
    "              graph_attr={'overlap': 'scalexy', 'rankdir': 'TB', 'splines': 'true'})\n",
    "\n",
    "# Nodos (con formas y colores)\n",
    "dot.node('A', 'Vectores 3D en el Agro', shape='ellipse', style='filled', fillcolor='#FFD700')\n",
    "dot.node('B', 'Definición Geométrica', shape='box', fillcolor='#ADD8E6')\n",
    "dot.node('C', 'Propiedades Algebraicas', shape='box', fillcolor='#90EE90')\n",
    "dot.node('D', 'Aplicaciones en el Bajo Cauca', shape='diamond', fillcolor='#FFA07A')\n",
    "\n",
    "# Edges (conexiones)\n",
    "dot.edges(['AB', 'AC', 'AD'])\n",
    "dot.edge('B', 'D', label='Modelado de Terrenos', color='red')\n",
    "dot.edge('C', 'D', label='Optimización de Riego', color='blue')\n",
    "\n",
    "# Renderizar y guardar\n",
    "dot.render(directory='C:/Users/marco/Downloads', filename='mapa_vectores', format='png', view=True)\n"
   ]
  },
  {
   "cell_type": "markdown",
   "id": "7f65e3a5",
   "metadata": {},
   "source": [
    " \n",
    "**Salida:** Un mapa visual con nodos interconectados que destacan la relación entre teoría y aplicaciones agrarias.  \n",
    "\n",
    "---\n"
   ]
  },
  {
   "cell_type": "markdown",
   "id": "eb173278",
   "metadata": {},
   "source": [
    "\n",
    "## **4. Contenido de la Clase**  \n",
    "### **Secuencia Didáctica:**  \n",
    "1. **Problemas Prácticos en el Agro Caucasiano:**  \n",
    "   - Ejemplo: *\"¿Cómo calcular la pendiente óptima para evitar erosión en cultivos de plátano usando vectores 3D?\"*  \n"
   ]
  },
  {
   "cell_type": "markdown",
   "id": "9d6e806d",
   "metadata": {},
   "source": [
    "\n",
    "2. **Definición Geométrica de Vectores 3D:**  \n",
    "   - Representación en Python: "
   ]
  },
  {
   "cell_type": "code",
   "execution_count": 11,
   "id": "36407858",
   "metadata": {},
   "outputs": [
    {
     "data": {
      "text/plain": [
       "array([ 2, -1,  3])"
      ]
     },
     "execution_count": 11,
     "metadata": {},
     "output_type": "execute_result"
    }
   ],
   "source": [
    " \n",
    "\n",
    "import numpy as np\n",
    "vector_suelo = np.array([2, -1, 3])  # [Pendiente_x, Pendiente_y, Altura]\n",
    "vector_suelo\n"
   ]
  },
  {
   "cell_type": "markdown",
   "id": "94be8645",
   "metadata": {},
   "source": [
    "\n",
    "3. **Propiedades Algebraicas:**  \n",
    "   - Norma (magnitud del vector para pendientes):  \n",
    "     $$ \\|\\vec{v}\\| = \\sqrt{v_x^2 + v_y^2 + v_z^2} $$  \n"
   ]
  },
  {
   "cell_type": "markdown",
   "id": "2dac39b3",
   "metadata": {},
   "source": [
    "# Desarrollo del contenido según Larson: 11.2 Coordenadas y vectores en el espacio  \n",
    "\n",
    "Página del Libro de Larson: 775. Sección 11.2. (Págian del PDF 99)  \n",
    "\n",
    " * Entender el sistema de coordenadas rectangulares tridimensional.\n",
    " * Analizar vectores en el espacio.\n",
    " * Utilizar vectores tridimensionales para resolver problemas de tipografía para Ingeniería Agropecuaria."
   ]
  },
  {
   "cell_type": "markdown",
   "id": "aaa48d67",
   "metadata": {},
   "source": [
    "Hasta este punto del texto ha interesado principalmente el sistema de coordenadas bidimensional. "
   ]
  },
  {
   "cell_type": "markdown",
   "id": "1cc0439d",
   "metadata": {},
   "source": [
    "En buena parte de lo que resta del estudio del cálculo se emplea el sis\n",
    "tema de coordenadas tridimensional.\n"
   ]
  },
  {
   "cell_type": "markdown",
   "id": "e7bf4cdd",
   "metadata": {},
   "source": [
    " Antes de extender el concepto de vector a tres dimensiones, se debe poder identificar puntos en el sistema de coordenadas tridimensional. "
   ]
  },
  {
   "cell_type": "markdown",
   "id": "551096ba",
   "metadata": {},
   "source": [
    "Se puede construir este sistema trazando en el origen un eje z perpendicular al eje x y al eje y. "
   ]
  },
  {
   "cell_type": "markdown",
   "id": "e8a5f8eb",
   "metadata": {},
   "source": [
    "La figura 11.14 muestra la porción positiva de cada eje de coordenadas. "
   ]
  },
  {
   "cell_type": "markdown",
   "id": "41f1249a",
   "metadata": {},
   "source": [
    "Tomados por pares, los ejes determinan tres planos coordenados: el plano xy, el plano xz y el plano yz. "
   ]
  },
  {
   "cell_type": "markdown",
   "id": "21f41eb9",
   "metadata": {},
   "source": [
    "Estos tres planos coordenados dividen el espacio tridimensional en ocho octantes. "
   ]
  },
  {
   "cell_type": "markdown",
   "id": "725b0e2e",
   "metadata": {},
   "source": [
    "El primer octante es en el que todas las coordenadas son positivas. "
   ]
  },
  {
   "cell_type": "markdown",
   "id": "be8b731a",
   "metadata": {},
   "source": [
    "En este sistema tridimensional, un punto $P$ en el espacio está determinado por una terna ordenada $(x, y, z)$ donde $x$, $y$ y $z$ son:  \n",
    "\n",
    " $x$ distancia dirigida que va del plano $yz$ a $P$  \n",
    " $y$ distancia dirigida que va del plano $xz$ a $P$  \n",
    " $z$ distancia dirigida que va del plano $xy$ a $P$  \n",
    " \n"
   ]
  },
  {
   "cell_type": "markdown",
   "id": "2d3b68c3",
   "metadata": {},
   "source": [
    " \n",
    " \n",
    " En la figura 11.15 se muestran varios puntos."
   ]
  },
  {
   "cell_type": "code",
   "execution_count": 3,
   "id": "635b121c",
   "metadata": {},
   "outputs": [
    {
     "data": {
      "image/png": "[encoded data removed]",
      "text/plain": [
       "<Figure size 1000x800 with 1 Axes>"
      ]
     },
     "metadata": {},
     "output_type": "display_data"
    }
   ],
   "source": [
    "import numpy as np\n",
    "from mpl_toolkits.mplot3d import Axes3D\n",
    "\n",
    "import matplotlib.pyplot as plt\n",
    "\n",
    "# Coordenadas del punto\n",
    "punto = np.array([3, 4, 5])\n",
    "\n",
    "# Crear la figura y el eje 3D\n",
    "fig = plt.figure(figsize=(10, 8))\n",
    "ax = fig.add_subplot(111, projection='3d')\n",
    "\n",
    "# Dibujar el punto en el espacio\n",
    "ax.scatter(punto[0], punto[1], punto[2], color='red', s=100, label=f'Punto ({punto[0]}, {punto[1]}, {punto[2]})')\n",
    "\n",
    "# Dibujar los segmentos de distancia a los planos coordenados\n",
    "ax.plot([punto[0], punto[0]], [punto[1], punto[1]], [0, punto[2]], color='blue', linestyle='--', label='Distancia al plano XY')\n",
    "ax.plot([punto[0], punto[0]], [0, punto[1]], [punto[2], punto[2]], color='green', linestyle='--', label='Distancia al plano XZ')\n",
    "ax.plot([0, punto[0]], [punto[1], punto[1]], [punto[2], punto[2]], color='purple', linestyle='--', label='Distancia al plano YZ')\n",
    "\n",
    "# Sombrear los planos coordenados\n",
    "x = np.linspace(0, 6, 10)\n",
    "y = np.linspace(0, 6, 10)\n",
    "X, Y = np.meshgrid(x, y)\n",
    "\n",
    "# Plano XY\n",
    "ax.plot_surface(X, Y, np.zeros_like(X), alpha=0.3, color='cyan', label='Plano XY')\n",
    "\n",
    "# Plano XZ\n",
    "ax.plot_surface(X, np.zeros_like(X), Y, alpha=0.3, color='yellow', label='Plano XZ')\n",
    "\n",
    "# Plano YZ\n",
    "ax.plot_surface(np.zeros_like(X), X, Y, alpha=0.3, color='magenta', label='Plano YZ')\n",
    "\n",
    "# Configurar etiquetas y leyenda\n",
    "ax.set_xlabel('X')\n",
    "ax.set_ylabel('Y')\n",
    "ax.set_zlabel('Z')\n",
    "ax.legend(loc='upper left')\n",
    "\n",
    "# Mostrar el gráfico\n",
    "plt.show()"
   ]
  },
  {
   "cell_type": "code",
   "execution_count": 4,
   "id": "89af0021",
   "metadata": {},
   "outputs": [
    {
     "data": {
      "application/vnd.plotly.v1+json": {
       "config": {
        "plotlyServerURL": "https://plot.ly"
       },
       "data": [
        {
         "marker": {
          "color": "red",
          "size": 8
         },
         "mode": "markers",
         "name": "Punto (3, 4, 5)",
         "type": "scatter3d",
         "x": [
          3
         ],
         "y": [
          4
         ],
         "z": [
          5
         ]
        },
        {
         "line": {
          "color": "blue",
          "dash": "dash"
         },
         "mode": "lines",
         "name": "Distancia al plano XY",
         "type": "scatter3d",
         "x": [
          3,
          3
         ],
         "y": [
          4,
          4
         ],
         "z": [
          0,
          5
         ]
        },
        {
         "line": {
          "color": "green",
          "dash": "dash"
         },
         "mode": "lines",
         "name": "Distancia al plano XZ",
         "type": "scatter3d",
         "x": [
          3,
          3
         ],
         "y": [
          0,
          4
         ],
         "z": [
          5,
          5
         ]
        },
        {
         "line": {
          "color": "purple",
          "dash": "dash"
         },
         "mode": "lines",
         "name": "Distancia al plano YZ",
         "type": "scatter3d",
         "x": [
          0,
          3
         ],
         "y": [
          4,
          4
         ],
         "z": [
          5,
          5
         ]
        },
        {
         "colorscale": [
          [
           0,
           "rgb(247,251,255)"
          ],
          [
           0.125,
           "rgb(222,235,247)"
          ],
          [
           0.25,
           "rgb(198,219,239)"
          ],
          [
           0.375,
           "rgb(158,202,225)"
          ],
          [
           0.5,
           "rgb(107,174,214)"
          ],
          [
           0.625,
           "rgb(66,146,198)"
          ],
          [
           0.75,
           "rgb(33,113,181)"
          ],
          [
           0.875,
           "rgb(8,81,156)"
          ],
          [
           1,
           "rgb(8,48,107)"
          ]
         ],
         "name": "Plano XY",
         "opacity": 0.3,
         "type": "surface",
         "x": {
          "bdata": "AAAAAAAAAABVVVVVVVXlP1VVVVVVVfU/AAAAAAAAAEBVVVVVVVUFQKqqqqqqqgpAAAAAAAAAEECqqqqqqqoSQFVVVVVVVRVAAAAAAAAAGEAAAAAAAAAAAFVVVVVVVeU/VVVVVVVV9T8AAAAAAAAAQFVVVVVVVQVAqqqqqqqqCkAAAAAAAAAQQKqqqqqqqhJAVVVVVVVVFUAAAAAAAAAYQAAAAAAAAAAAVVVVVVVV5T9VVVVVVVX1PwAAAAAAAABAVVVVVVVVBUCqqqqqqqoKQAAAAAAAABBAqqqqqqqqEkBVVVVVVVUVQAAAAAAAABhAAAAAAAAAAABVVVVVVVXlP1VVVVVVVfU/AAAAAAAAAEBVVVVVVVUFQKqqqqqqqgpAAAAAAAAAEECqqqqqqqoSQFVVVVVVVRVAAAAAAAAAGEAAAAAAAAAAAFVVVVVVVeU/VVVVVVVV9T8AAAAAAAAAQFVVVVVVVQVAqqqqqqqqCkAAAAAAAAAQQKqqqqqqqhJAVVVVVVVVFUAAAAAAAAAYQAAAAAAAAAAAVVVVVVVV5T9VVVVVVVX1PwAAAAAAAABAVVVVVVVVBUCqqqqqqqoKQAAAAAAAABBAqqqqqqqqEkBVVVVVVVUVQAAAAAAAABhAAAAAAAAAAABVVVVVVVXlP1VVVVVVVfU/AAAAAAAAAEBVVVVVVVUFQKqqqqqqqgpAAAAAAAAAEECqqqqqqqoSQFVVVVVVVRVAAAAAAAAAGEAAAAAAAAAAAFVVVVVVVeU/VVVVVVVV9T8AAAAAAAAAQFVVVVVVVQVAqqqqqqqqCkAAAAAAAAAQQKqqqqqqqhJAVVVVVVVVFUAAAAAAAAAYQAAAAAAAAAAAVVVVVVVV5T9VVVVVVVX1PwAAAAAAAABAVVVVVVVVBUCqqqqqqqoKQAAAAAAAABBAqqqqqqqqEkBVVVVVVVUVQAAAAAAAABhAAAAAAAAAAABVVVVVVVXlP1VVVVVVVfU/AAAAAAAAAEBVVVVVVVUFQKqqqqqqqgpAAAAAAAAAEECqqqqqqqoSQFVVVVVVVRVAAAAAAAAAGEA=",
          "dtype": "f8",
          "shape": "10, 10"
         },
         "y": {
          "bdata": "AAAAAAAAAAAAAAAAAAAAAAAAAAAAAAAAAAAAAAAAAAAAAAAAAAAAAAAAAAAAAAAAAAAAAAAAAAAAAAAAAAAAAAAAAAAAAAAAAAAAAAAAAABVVVVVVVXlP1VVVVVVVeU/VVVVVVVV5T9VVVVVVVXlP1VVVVVVVeU/VVVVVVVV5T9VVVVVVVXlP1VVVVVVVeU/VVVVVVVV5T9VVVVVVVXlP1VVVVVVVfU/VVVVVVVV9T9VVVVVVVX1P1VVVVVVVfU/VVVVVVVV9T9VVVVVVVX1P1VVVVVVVfU/VVVVVVVV9T9VVVVVVVX1P1VVVVVVVfU/AAAAAAAAAEAAAAAAAAAAQAAAAAAAAABAAAAAAAAAAEAAAAAAAAAAQAAAAAAAAABAAAAAAAAAAEAAAAAAAAAAQAAAAAAAAABAAAAAAAAAAEBVVVVVVVUFQFVVVVVVVQVAVVVVVVVVBUBVVVVVVVUFQFVVVVVVVQVAVVVVVVVVBUBVVVVVVVUFQFVVVVVVVQVAVVVVVVVVBUBVVVVVVVUFQKqqqqqqqgpAqqqqqqqqCkCqqqqqqqoKQKqqqqqqqgpAqqqqqqqqCkCqqqqqqqoKQKqqqqqqqgpAqqqqqqqqCkCqqqqqqqoKQKqqqqqqqgpAAAAAAAAAEEAAAAAAAAAQQAAAAAAAABBAAAAAAAAAEEAAAAAAAAAQQAAAAAAAABBAAAAAAAAAEEAAAAAAAAAQQAAAAAAAABBAAAAAAAAAEECqqqqqqqoSQKqqqqqqqhJAqqqqqqqqEkCqqqqqqqoSQKqqqqqqqhJAqqqqqqqqEkCqqqqqqqoSQKqqqqqqqhJAqqqqqqqqEkCqqqqqqqoSQFVVVVVVVRVAVVVVVVVVFUBVVVVVVVUVQFVVVVVVVRVAVVVVVVVVFUBVVVVVVVUVQFVVVVVVVRVAVVVVVVVVFUBVVVVVVVUVQFVVVVVVVRVAAAAAAAAAGEAAAAAAAAAYQAAAAAAAABhAAAAAAAAAGEAAAAAAAAAYQAAAAAAAABhAAAAAAAAAGEAAAAAAAAAYQAAAAAAAABhAAAAAAAAAGEA=",
          "dtype": "f8",
          "shape": "10, 10"
         },
         "z": {
          "bdata": "AAAAAAAAAAAAAAAAAAAAAAAAAAAAAAAAAAAAAAAAAAAAAAAAAAAAAAAAAAAAAAAAAAAAAAAAAAAAAAAAAAAAAAAAAAAAAAAAAAAAAAAAAAAAAAAAAAAAAAAAAAAAAAAAAAAAAAAAAAAAAAAAAAAAAAAAAAAAAAAAAAAAAAAAAAAAAAAAAAAAAAAAAAAAAAAAAAAAAAAAAAAAAAAAAAAAAAAAAAAAAAAAAAAAAAAAAAAAAAAAAAAAAAAAAAAAAAAAAAAAAAAAAAAAAAAAAAAAAAAAAAAAAAAAAAAAAAAAAAAAAAAAAAAAAAAAAAAAAAAAAAAAAAAAAAAAAAAAAAAAAAAAAAAAAAAAAAAAAAAAAAAAAAAAAAAAAAAAAAAAAAAAAAAAAAAAAAAAAAAAAAAAAAAAAAAAAAAAAAAAAAAAAAAAAAAAAAAAAAAAAAAAAAAAAAAAAAAAAAAAAAAAAAAAAAAAAAAAAAAAAAAAAAAAAAAAAAAAAAAAAAAAAAAAAAAAAAAAAAAAAAAAAAAAAAAAAAAAAAAAAAAAAAAAAAAAAAAAAAAAAAAAAAAAAAAAAAAAAAAAAAAAAAAAAAAAAAAAAAAAAAAAAAAAAAAAAAAAAAAAAAAAAAAAAAAAAAAAAAAAAAAAAAAAAAAAAAAAAAAAAAAAAAAAAAAAAAAAAAAAAAAAAAAAAAAAAAAAAAAAAAAAAAAAAAAAAAAAAAAAAAAAAAAAAAAAAAAAAAAAAAAAAAAAAAAAAAAAAAAAAAAAAAAAAAAAAAAAAAAAAAAAAAAAAAAAAAAAAAAAAAAAAAAAAAAAAAAAAAAAAAAAAAAAAAAAAAAAAAAAAAAAAAAAAAAAAAAAAAAAAAAAAAAAAAAAAAAAAAAAAAAAAAAAAAAAAAAAAAAAAAAAAAAAAAAAAAAAAAAAAAAAAAAAAAAAAAAAAAAAAAAAAAAAAAAAAAAAAAAAAAAAAAAAAAAAAAAAAAAAAAAAAAAAAAAAAAAAAAAAAAAAAAAAAAAAAAAAAAAAAAAAAAAAAAAAAAAAAAAAAAAAAAAAAAAAAAAAAAAAAAAAAAA=",
          "dtype": "f8",
          "shape": "10, 10"
         }
        },
        {
         "colorscale": [
          [
           0,
           "rgb(255,255,229)"
          ],
          [
           0.125,
           "rgb(255,247,188)"
          ],
          [
           0.25,
           "rgb(254,227,145)"
          ],
          [
           0.375,
           "rgb(254,196,79)"
          ],
          [
           0.5,
           "rgb(254,153,41)"
          ],
          [
           0.625,
           "rgb(236,112,20)"
          ],
          [
           0.75,
           "rgb(204,76,2)"
          ],
          [
           0.875,
           "rgb(153,52,4)"
          ],
          [
           1,
           "rgb(102,37,6)"
          ]
         ],
         "name": "Plano XZ",
         "opacity": 0.3,
         "type": "surface",
         "x": {
          "bdata": "AAAAAAAAAABVVVVVVVXlP1VVVVVVVfU/AAAAAAAAAEBVVVVVVVUFQKqqqqqqqgpAAAAAAAAAEECqqqqqqqoSQFVVVVVVVRVAAAAAAAAAGEAAAAAAAAAAAFVVVVVVVeU/VVVVVVVV9T8AAAAAAAAAQFVVVVVVVQVAqqqqqqqqCkAAAAAAAAAQQKqqqqqqqhJAVVVVVVVVFUAAAAAAAAAYQAAAAAAAAAAAVVVVVVVV5T9VVVVVVVX1PwAAAAAAAABAVVVVVVVVBUCqqqqqqqoKQAAAAAAAABBAqqqqqqqqEkBVVVVVVVUVQAAAAAAAABhAAAAAAAAAAABVVVVVVVXlP1VVVVVVVfU/AAAAAAAAAEBVVVVVVVUFQKqqqqqqqgpAAAAAAAAAEECqqqqqqqoSQFVVVVVVVRVAAAAAAAAAGEAAAAAAAAAAAFVVVVVVVeU/VVVVVVVV9T8AAAAAAAAAQFVVVVVVVQVAqqqqqqqqCkAAAAAAAAAQQKqqqqqqqhJAVVVVVVVVFUAAAAAAAAAYQAAAAAAAAAAAVVVVVVVV5T9VVVVVVVX1PwAAAAAAAABAVVVVVVVVBUCqqqqqqqoKQAAAAAAAABBAqqqqqqqqEkBVVVVVVVUVQAAAAAAAABhAAAAAAAAAAABVVVVVVVXlP1VVVVVVVfU/AAAAAAAAAEBVVVVVVVUFQKqqqqqqqgpAAAAAAAAAEECqqqqqqqoSQFVVVVVVVRVAAAAAAAAAGEAAAAAAAAAAAFVVVVVVVeU/VVVVVVVV9T8AAAAAAAAAQFVVVVVVVQVAqqqqqqqqCkAAAAAAAAAQQKqqqqqqqhJAVVVVVVVVFUAAAAAAAAAYQAAAAAAAAAAAVVVVVVVV5T9VVVVVVVX1PwAAAAAAAABAVVVVVVVVBUCqqqqqqqoKQAAAAAAAABBAqqqqqqqqEkBVVVVVVVUVQAAAAAAAABhAAAAAAAAAAABVVVVVVVXlP1VVVVVVVfU/AAAAAAAAAEBVVVVVVVUFQKqqqqqqqgpAAAAAAAAAEECqqqqqqqoSQFVVVVVVVRVAAAAAAAAAGEA=",
          "dtype": "f8",
          "shape": "10, 10"
         },
         "y": {
          "bdata": "AAAAAAAAAAAAAAAAAAAAAAAAAAAAAAAAAAAAAAAAAAAAAAAAAAAAAAAAAAAAAAAAAAAAAAAAAAAAAAAAAAAAAAAAAAAAAAAAAAAAAAAAAAAAAAAAAAAAAAAAAAAAAAAAAAAAAAAAAAAAAAAAAAAAAAAAAAAAAAAAAAAAAAAAAAAAAAAAAAAAAAAAAAAAAAAAAAAAAAAAAAAAAAAAAAAAAAAAAAAAAAAAAAAAAAAAAAAAAAAAAAAAAAAAAAAAAAAAAAAAAAAAAAAAAAAAAAAAAAAAAAAAAAAAAAAAAAAAAAAAAAAAAAAAAAAAAAAAAAAAAAAAAAAAAAAAAAAAAAAAAAAAAAAAAAAAAAAAAAAAAAAAAAAAAAAAAAAAAAAAAAAAAAAAAAAAAAAAAAAAAAAAAAAAAAAAAAAAAAAAAAAAAAAAAAAAAAAAAAAAAAAAAAAAAAAAAAAAAAAAAAAAAAAAAAAAAAAAAAAAAAAAAAAAAAAAAAAAAAAAAAAAAAAAAAAAAAAAAAAAAAAAAAAAAAAAAAAAAAAAAAAAAAAAAAAAAAAAAAAAAAAAAAAAAAAAAAAAAAAAAAAAAAAAAAAAAAAAAAAAAAAAAAAAAAAAAAAAAAAAAAAAAAAAAAAAAAAAAAAAAAAAAAAAAAAAAAAAAAAAAAAAAAAAAAAAAAAAAAAAAAAAAAAAAAAAAAAAAAAAAAAAAAAAAAAAAAAAAAAAAAAAAAAAAAAAAAAAAAAAAAAAAAAAAAAAAAAAAAAAAAAAAAAAAAAAAAAAAAAAAAAAAAAAAAAAAAAAAAAAAAAAAAAAAAAAAAAAAAAAAAAAAAAAAAAAAAAAAAAAAAAAAAAAAAAAAAAAAAAAAAAAAAAAAAAAAAAAAAAAAAAAAAAAAAAAAAAAAAAAAAAAAAAAAAAAAAAAAAAAAAAAAAAAAAAAAAAAAAAAAAAAAAAAAAAAAAAAAAAAAAAAAAAAAAAAAAAAAAAAAAAAAAAAAAAAAAAAAAAAAAAAAAAAAAAAAAAAAAAAAAAAAAAAAAAAAAAAAAAAAAAAAAAAAAAAAAAAAAAAAAAAAAA=",
          "dtype": "f8",
          "shape": "10, 10"
         },
         "z": {
          "bdata": "AAAAAAAAAAAAAAAAAAAAAAAAAAAAAAAAAAAAAAAAAAAAAAAAAAAAAAAAAAAAAAAAAAAAAAAAAAAAAAAAAAAAAAAAAAAAAAAAAAAAAAAAAABVVVVVVVXlP1VVVVVVVeU/VVVVVVVV5T9VVVVVVVXlP1VVVVVVVeU/VVVVVVVV5T9VVVVVVVXlP1VVVVVVVeU/VVVVVVVV5T9VVVVVVVXlP1VVVVVVVfU/VVVVVVVV9T9VVVVVVVX1P1VVVVVVVfU/VVVVVVVV9T9VVVVVVVX1P1VVVVVVVfU/VVVVVVVV9T9VVVVVVVX1P1VVVVVVVfU/AAAAAAAAAEAAAAAAAAAAQAAAAAAAAABAAAAAAAAAAEAAAAAAAAAAQAAAAAAAAABAAAAAAAAAAEAAAAAAAAAAQAAAAAAAAABAAAAAAAAAAEBVVVVVVVUFQFVVVVVVVQVAVVVVVVVVBUBVVVVVVVUFQFVVVVVVVQVAVVVVVVVVBUBVVVVVVVUFQFVVVVVVVQVAVVVVVVVVBUBVVVVVVVUFQKqqqqqqqgpAqqqqqqqqCkCqqqqqqqoKQKqqqqqqqgpAqqqqqqqqCkCqqqqqqqoKQKqqqqqqqgpAqqqqqqqqCkCqqqqqqqoKQKqqqqqqqgpAAAAAAAAAEEAAAAAAAAAQQAAAAAAAABBAAAAAAAAAEEAAAAAAAAAQQAAAAAAAABBAAAAAAAAAEEAAAAAAAAAQQAAAAAAAABBAAAAAAAAAEECqqqqqqqoSQKqqqqqqqhJAqqqqqqqqEkCqqqqqqqoSQKqqqqqqqhJAqqqqqqqqEkCqqqqqqqoSQKqqqqqqqhJAqqqqqqqqEkCqqqqqqqoSQFVVVVVVVRVAVVVVVVVVFUBVVVVVVVUVQFVVVVVVVRVAVVVVVVVVFUBVVVVVVVUVQFVVVVVVVRVAVVVVVVVVFUBVVVVVVVUVQFVVVVVVVRVAAAAAAAAAGEAAAAAAAAAYQAAAAAAAABhAAAAAAAAAGEAAAAAAAAAYQAAAAAAAABhAAAAAAAAAGEAAAAAAAAAYQAAAAAAAABhAAAAAAAAAGEA=",
          "dtype": "f8",
          "shape": "10, 10"
         }
        },
        {
         "colorscale": [
          [
           0,
           "rgb(252,251,253)"
          ],
          [
           0.125,
           "rgb(239,237,245)"
          ],
          [
           0.25,
           "rgb(218,218,235)"
          ],
          [
           0.375,
           "rgb(188,189,220)"
          ],
          [
           0.5,
           "rgb(158,154,200)"
          ],
          [
           0.625,
           "rgb(128,125,186)"
          ],
          [
           0.75,
           "rgb(106,81,163)"
          ],
          [
           0.875,
           "rgb(84,39,143)"
          ],
          [
           1,
           "rgb(63,0,125)"
          ]
         ],
         "name": "Plano YZ",
         "opacity": 0.3,
         "type": "surface",
         "x": {
          "bdata": "AAAAAAAAAAAAAAAAAAAAAAAAAAAAAAAAAAAAAAAAAAAAAAAAAAAAAAAAAAAAAAAAAAAAAAAAAAAAAAAAAAAAAAAAAAAAAAAAAAAAAAAAAAAAAAAAAAAAAAAAAAAAAAAAAAAAAAAAAAAAAAAAAAAAAAAAAAAAAAAAAAAAAAAAAAAAAAAAAAAAAAAAAAAAAAAAAAAAAAAAAAAAAAAAAAAAAAAAAAAAAAAAAAAAAAAAAAAAAAAAAAAAAAAAAAAAAAAAAAAAAAAAAAAAAAAAAAAAAAAAAAAAAAAAAAAAAAAAAAAAAAAAAAAAAAAAAAAAAAAAAAAAAAAAAAAAAAAAAAAAAAAAAAAAAAAAAAAAAAAAAAAAAAAAAAAAAAAAAAAAAAAAAAAAAAAAAAAAAAAAAAAAAAAAAAAAAAAAAAAAAAAAAAAAAAAAAAAAAAAAAAAAAAAAAAAAAAAAAAAAAAAAAAAAAAAAAAAAAAAAAAAAAAAAAAAAAAAAAAAAAAAAAAAAAAAAAAAAAAAAAAAAAAAAAAAAAAAAAAAAAAAAAAAAAAAAAAAAAAAAAAAAAAAAAAAAAAAAAAAAAAAAAAAAAAAAAAAAAAAAAAAAAAAAAAAAAAAAAAAAAAAAAAAAAAAAAAAAAAAAAAAAAAAAAAAAAAAAAAAAAAAAAAAAAAAAAAAAAAAAAAAAAAAAAAAAAAAAAAAAAAAAAAAAAAAAAAAAAAAAAAAAAAAAAAAAAAAAAAAAAAAAAAAAAAAAAAAAAAAAAAAAAAAAAAAAAAAAAAAAAAAAAAAAAAAAAAAAAAAAAAAAAAAAAAAAAAAAAAAAAAAAAAAAAAAAAAAAAAAAAAAAAAAAAAAAAAAAAAAAAAAAAAAAAAAAAAAAAAAAAAAAAAAAAAAAAAAAAAAAAAAAAAAAAAAAAAAAAAAAAAAAAAAAAAAAAAAAAAAAAAAAAAAAAAAAAAAAAAAAAAAAAAAAAAAAAAAAAAAAAAAAAAAAAAAAAAAAAAAAAAAAAAAAAAAAAAAAAAAAAAAAAAAAAAAAAAAAAAAAAAAAAAAAAAAAAAAAAAAAAAAAAAA=",
          "dtype": "f8",
          "shape": "10, 10"
         },
         "y": {
          "bdata": "AAAAAAAAAABVVVVVVVXlP1VVVVVVVfU/AAAAAAAAAEBVVVVVVVUFQKqqqqqqqgpAAAAAAAAAEECqqqqqqqoSQFVVVVVVVRVAAAAAAAAAGEAAAAAAAAAAAFVVVVVVVeU/VVVVVVVV9T8AAAAAAAAAQFVVVVVVVQVAqqqqqqqqCkAAAAAAAAAQQKqqqqqqqhJAVVVVVVVVFUAAAAAAAAAYQAAAAAAAAAAAVVVVVVVV5T9VVVVVVVX1PwAAAAAAAABAVVVVVVVVBUCqqqqqqqoKQAAAAAAAABBAqqqqqqqqEkBVVVVVVVUVQAAAAAAAABhAAAAAAAAAAABVVVVVVVXlP1VVVVVVVfU/AAAAAAAAAEBVVVVVVVUFQKqqqqqqqgpAAAAAAAAAEECqqqqqqqoSQFVVVVVVVRVAAAAAAAAAGEAAAAAAAAAAAFVVVVVVVeU/VVVVVVVV9T8AAAAAAAAAQFVVVVVVVQVAqqqqqqqqCkAAAAAAAAAQQKqqqqqqqhJAVVVVVVVVFUAAAAAAAAAYQAAAAAAAAAAAVVVVVVVV5T9VVVVVVVX1PwAAAAAAAABAVVVVVVVVBUCqqqqqqqoKQAAAAAAAABBAqqqqqqqqEkBVVVVVVVUVQAAAAAAAABhAAAAAAAAAAABVVVVVVVXlP1VVVVVVVfU/AAAAAAAAAEBVVVVVVVUFQKqqqqqqqgpAAAAAAAAAEECqqqqqqqoSQFVVVVVVVRVAAAAAAAAAGEAAAAAAAAAAAFVVVVVVVeU/VVVVVVVV9T8AAAAAAAAAQFVVVVVVVQVAqqqqqqqqCkAAAAAAAAAQQKqqqqqqqhJAVVVVVVVVFUAAAAAAAAAYQAAAAAAAAAAAVVVVVVVV5T9VVVVVVVX1PwAAAAAAAABAVVVVVVVVBUCqqqqqqqoKQAAAAAAAABBAqqqqqqqqEkBVVVVVVVUVQAAAAAAAABhAAAAAAAAAAABVVVVVVVXlP1VVVVVVVfU/AAAAAAAAAEBVVVVVVVUFQKqqqqqqqgpAAAAAAAAAEECqqqqqqqoSQFVVVVVVVRVAAAAAAAAAGEA=",
          "dtype": "f8",
          "shape": "10, 10"
         },
         "z": {
          "bdata": "AAAAAAAAAAAAAAAAAAAAAAAAAAAAAAAAAAAAAAAAAAAAAAAAAAAAAAAAAAAAAAAAAAAAAAAAAAAAAAAAAAAAAAAAAAAAAAAAAAAAAAAAAABVVVVVVVXlP1VVVVVVVeU/VVVVVVVV5T9VVVVVVVXlP1VVVVVVVeU/VVVVVVVV5T9VVVVVVVXlP1VVVVVVVeU/VVVVVVVV5T9VVVVVVVXlP1VVVVVVVfU/VVVVVVVV9T9VVVVVVVX1P1VVVVVVVfU/VVVVVVVV9T9VVVVVVVX1P1VVVVVVVfU/VVVVVVVV9T9VVVVVVVX1P1VVVVVVVfU/AAAAAAAAAEAAAAAAAAAAQAAAAAAAAABAAAAAAAAAAEAAAAAAAAAAQAAAAAAAAABAAAAAAAAAAEAAAAAAAAAAQAAAAAAAAABAAAAAAAAAAEBVVVVVVVUFQFVVVVVVVQVAVVVVVVVVBUBVVVVVVVUFQFVVVVVVVQVAVVVVVVVVBUBVVVVVVVUFQFVVVVVVVQVAVVVVVVVVBUBVVVVVVVUFQKqqqqqqqgpAqqqqqqqqCkCqqqqqqqoKQKqqqqqqqgpAqqqqqqqqCkCqqqqqqqoKQKqqqqqqqgpAqqqqqqqqCkCqqqqqqqoKQKqqqqqqqgpAAAAAAAAAEEAAAAAAAAAQQAAAAAAAABBAAAAAAAAAEEAAAAAAAAAQQAAAAAAAABBAAAAAAAAAEEAAAAAAAAAQQAAAAAAAABBAAAAAAAAAEECqqqqqqqoSQKqqqqqqqhJAqqqqqqqqEkCqqqqqqqoSQKqqqqqqqhJAqqqqqqqqEkCqqqqqqqoSQKqqqqqqqhJAqqqqqqqqEkCqqqqqqqoSQFVVVVVVVRVAVVVVVVVVFUBVVVVVVVUVQFVVVVVVVRVAVVVVVVVVFUBVVVVVVVUVQFVVVVVVVRVAVVVVVVVVFUBVVVVVVVUVQFVVVVVVVRVAAAAAAAAAGEAAAAAAAAAYQAAAAAAAABhAAAAAAAAAGEAAAAAAAAAYQAAAAAAAABhAAAAAAAAAGEAAAAAAAAAYQAAAAAAAABhAAAAAAAAAGEA=",
          "dtype": "f8",
          "shape": "10, 10"
         }
        }
       ],
       "layout": {
        "margin": {
         "b": 0,
         "l": 0,
         "r": 0,
         "t": 40
        },
        "scene": {
         "xaxis": {
          "title": {
           "text": "X"
          }
         },
         "yaxis": {
          "title": {
           "text": "Y"
          }
         },
         "zaxis": {
          "title": {
           "text": "Z"
          }
         }
        },
        "template": {
         "data": {
          "bar": [
           {
            "error_x": {
             "color": "#2a3f5f"
            },
            "error_y": {
             "color": "#2a3f5f"
            },
            "marker": {
             "line": {
              "color": "#E5ECF6",
              "width": 0.5
             },
             "pattern": {
              "fillmode": "overlay",
              "size": 10,
              "solidity": 0.2
             }
            },
            "type": "bar"
           }
          ],
          "barpolar": [
           {
            "marker": {
             "line": {
              "color": "#E5ECF6",
              "width": 0.5
             },
             "pattern": {
              "fillmode": "overlay",
              "size": 10,
              "solidity": 0.2
             }
            },
            "type": "barpolar"
           }
          ],
          "carpet": [
           {
            "aaxis": {
             "endlinecolor": "#2a3f5f",
             "gridcolor": "white",
             "linecolor": "white",
             "minorgridcolor": "white",
             "startlinecolor": "#2a3f5f"
            },
            "baxis": {
             "endlinecolor": "#2a3f5f",
             "gridcolor": "white",
             "linecolor": "white",
             "minorgridcolor": "white",
             "startlinecolor": "#2a3f5f"
            },
            "type": "carpet"
           }
          ],
          "choropleth": [
           {
            "colorbar": {
             "outlinewidth": 0,
             "ticks": ""
            },
            "type": "choropleth"
           }
          ],
          "contour": [
           {
            "colorbar": {
             "outlinewidth": 0,
             "ticks": ""
            },
            "colorscale": [
             [
              0,
              "#0d0887"
             ],
             [
              0.1111111111111111,
              "#46039f"
             ],
             [
              0.2222222222222222,
              "#7201a8"
             ],
             [
              0.3333333333333333,
              "#9c179e"
             ],
             [
              0.4444444444444444,
              "#bd3786"
             ],
             [
              0.5555555555555556,
              "#d8576b"
             ],
             [
              0.6666666666666666,
              "#ed7953"
             ],
             [
              0.7777777777777778,
              "#fb9f3a"
             ],
             [
              0.8888888888888888,
              "#fdca26"
             ],
             [
              1,
              "#f0f921"
             ]
            ],
            "type": "contour"
           }
          ],
          "contourcarpet": [
           {
            "colorbar": {
             "outlinewidth": 0,
             "ticks": ""
            },
            "type": "contourcarpet"
           }
          ],
          "heatmap": [
           {
            "colorbar": {
             "outlinewidth": 0,
             "ticks": ""
            },
            "colorscale": [
             [
              0,
              "#0d0887"
             ],
             [
              0.1111111111111111,
              "#46039f"
             ],
             [
              0.2222222222222222,
              "#7201a8"
             ],
             [
              0.3333333333333333,
              "#9c179e"
             ],
             [
              0.4444444444444444,
              "#bd3786"
             ],
             [
              0.5555555555555556,
              "#d8576b"
             ],
             [
              0.6666666666666666,
              "#ed7953"
             ],
             [
              0.7777777777777778,
              "#fb9f3a"
             ],
             [
              0.8888888888888888,
              "#fdca26"
             ],
             [
              1,
              "#f0f921"
             ]
            ],
            "type": "heatmap"
           }
          ],
          "histogram": [
           {
            "marker": {
             "pattern": {
              "fillmode": "overlay",
              "size": 10,
              "solidity": 0.2
             }
            },
            "type": "histogram"
           }
          ],
          "histogram2d": [
           {
            "colorbar": {
             "outlinewidth": 0,
             "ticks": ""
            },
            "colorscale": [
             [
              0,
              "#0d0887"
             ],
             [
              0.1111111111111111,
              "#46039f"
             ],
             [
              0.2222222222222222,
              "#7201a8"
             ],
             [
              0.3333333333333333,
              "#9c179e"
             ],
             [
              0.4444444444444444,
              "#bd3786"
             ],
             [
              0.5555555555555556,
              "#d8576b"
             ],
             [
              0.6666666666666666,
              "#ed7953"
             ],
             [
              0.7777777777777778,
              "#fb9f3a"
             ],
             [
              0.8888888888888888,
              "#fdca26"
             ],
             [
              1,
              "#f0f921"
             ]
            ],
            "type": "histogram2d"
           }
          ],
          "histogram2dcontour": [
           {
            "colorbar": {
             "outlinewidth": 0,
             "ticks": ""
            },
            "colorscale": [
             [
              0,
              "#0d0887"
             ],
             [
              0.1111111111111111,
              "#46039f"
             ],
             [
              0.2222222222222222,
              "#7201a8"
             ],
             [
              0.3333333333333333,
              "#9c179e"
             ],
             [
              0.4444444444444444,
              "#bd3786"
             ],
             [
              0.5555555555555556,
              "#d8576b"
             ],
             [
              0.6666666666666666,
              "#ed7953"
             ],
             [
              0.7777777777777778,
              "#fb9f3a"
             ],
             [
              0.8888888888888888,
              "#fdca26"
             ],
             [
              1,
              "#f0f921"
             ]
            ],
            "type": "histogram2dcontour"
           }
          ],
          "mesh3d": [
           {
            "colorbar": {
             "outlinewidth": 0,
             "ticks": ""
            },
            "type": "mesh3d"
           }
          ],
          "parcoords": [
           {
            "line": {
             "colorbar": {
              "outlinewidth": 0,
              "ticks": ""
             }
            },
            "type": "parcoords"
           }
          ],
          "pie": [
           {
            "automargin": true,
            "type": "pie"
           }
          ],
          "scatter": [
           {
            "fillpattern": {
             "fillmode": "overlay",
             "size": 10,
             "solidity": 0.2
            },
            "type": "scatter"
           }
          ],
          "scatter3d": [
           {
            "line": {
             "colorbar": {
              "outlinewidth": 0,
              "ticks": ""
             }
            },
            "marker": {
             "colorbar": {
              "outlinewidth": 0,
              "ticks": ""
             }
            },
            "type": "scatter3d"
           }
          ],
          "scattercarpet": [
           {
            "marker": {
             "colorbar": {
              "outlinewidth": 0,
              "ticks": ""
             }
            },
            "type": "scattercarpet"
           }
          ],
          "scattergeo": [
           {
            "marker": {
             "colorbar": {
              "outlinewidth": 0,
              "ticks": ""
             }
            },
            "type": "scattergeo"
           }
          ],
          "scattergl": [
           {
            "marker": {
             "colorbar": {
              "outlinewidth": 0,
              "ticks": ""
             }
            },
            "type": "scattergl"
           }
          ],
          "scattermap": [
           {
            "marker": {
             "colorbar": {
              "outlinewidth": 0,
              "ticks": ""
             }
            },
            "type": "scattermap"
           }
          ],
          "scattermapbox": [
           {
            "marker": {
             "colorbar": {
              "outlinewidth": 0,
              "ticks": ""
             }
            },
            "type": "scattermapbox"
           }
          ],
          "scatterpolar": [
           {
            "marker": {
             "colorbar": {
              "outlinewidth": 0,
              "ticks": ""
             }
            },
            "type": "scatterpolar"
           }
          ],
          "scatterpolargl": [
           {
            "marker": {
             "colorbar": {
              "outlinewidth": 0,
              "ticks": ""
             }
            },
            "type": "scatterpolargl"
           }
          ],
          "scatterternary": [
           {
            "marker": {
             "colorbar": {
              "outlinewidth": 0,
              "ticks": ""
             }
            },
            "type": "scatterternary"
           }
          ],
          "surface": [
           {
            "colorbar": {
             "outlinewidth": 0,
             "ticks": ""
            },
            "colorscale": [
             [
              0,
              "#0d0887"
             ],
             [
              0.1111111111111111,
              "#46039f"
             ],
             [
              0.2222222222222222,
              "#7201a8"
             ],
             [
              0.3333333333333333,
              "#9c179e"
             ],
             [
              0.4444444444444444,
              "#bd3786"
             ],
             [
              0.5555555555555556,
              "#d8576b"
             ],
             [
              0.6666666666666666,
              "#ed7953"
             ],
             [
              0.7777777777777778,
              "#fb9f3a"
             ],
             [
              0.8888888888888888,
              "#fdca26"
             ],
             [
              1,
              "#f0f921"
             ]
            ],
            "type": "surface"
           }
          ],
          "table": [
           {
            "cells": {
             "fill": {
              "color": "#EBF0F8"
             },
             "line": {
              "color": "white"
             }
            },
            "header": {
             "fill": {
              "color": "#C8D4E3"
             },
             "line": {
              "color": "white"
             }
            },
            "type": "table"
           }
          ]
         },
         "layout": {
          "annotationdefaults": {
           "arrowcolor": "#2a3f5f",
           "arrowhead": 0,
           "arrowwidth": 1
          },
          "autotypenumbers": "strict",
          "coloraxis": {
           "colorbar": {
            "outlinewidth": 0,
            "ticks": ""
           }
          },
          "colorscale": {
           "diverging": [
            [
             0,
             "#8e0152"
            ],
            [
             0.1,
             "#c51b7d"
            ],
            [
             0.2,
             "#de77ae"
            ],
            [
             0.3,
             "#f1b6da"
            ],
            [
             0.4,
             "#fde0ef"
            ],
            [
             0.5,
             "#f7f7f7"
            ],
            [
             0.6,
             "#e6f5d0"
            ],
            [
             0.7,
             "#b8e186"
            ],
            [
             0.8,
             "#7fbc41"
            ],
            [
             0.9,
             "#4d9221"
            ],
            [
             1,
             "#276419"
            ]
           ],
           "sequential": [
            [
             0,
             "#0d0887"
            ],
            [
             0.1111111111111111,
             "#46039f"
            ],
            [
             0.2222222222222222,
             "#7201a8"
            ],
            [
             0.3333333333333333,
             "#9c179e"
            ],
            [
             0.4444444444444444,
             "#bd3786"
            ],
            [
             0.5555555555555556,
             "#d8576b"
            ],
            [
             0.6666666666666666,
             "#ed7953"
            ],
            [
             0.7777777777777778,
             "#fb9f3a"
            ],
            [
             0.8888888888888888,
             "#fdca26"
            ],
            [
             1,
             "#f0f921"
            ]
           ],
           "sequentialminus": [
            [
             0,
             "#0d0887"
            ],
            [
             0.1111111111111111,
             "#46039f"
            ],
            [
             0.2222222222222222,
             "#7201a8"
            ],
            [
             0.3333333333333333,
             "#9c179e"
            ],
            [
             0.4444444444444444,
             "#bd3786"
            ],
            [
             0.5555555555555556,
             "#d8576b"
            ],
            [
             0.6666666666666666,
             "#ed7953"
            ],
            [
             0.7777777777777778,
             "#fb9f3a"
            ],
            [
             0.8888888888888888,
             "#fdca26"
            ],
            [
             1,
             "#f0f921"
            ]
           ]
          },
          "colorway": [
           "#636efa",
           "#EF553B",
           "#00cc96",
           "#ab63fa",
           "#FFA15A",
           "#19d3f3",
           "#FF6692",
           "#B6E880",
           "#FF97FF",
           "#FECB52"
          ],
          "font": {
           "color": "#2a3f5f"
          },
          "geo": {
           "bgcolor": "white",
           "lakecolor": "white",
           "landcolor": "#E5ECF6",
           "showlakes": true,
           "showland": true,
           "subunitcolor": "white"
          },
          "hoverlabel": {
           "align": "left"
          },
          "hovermode": "closest",
          "mapbox": {
           "style": "light"
          },
          "paper_bgcolor": "white",
          "plot_bgcolor": "#E5ECF6",
          "polar": {
           "angularaxis": {
            "gridcolor": "white",
            "linecolor": "white",
            "ticks": ""
           },
           "bgcolor": "#E5ECF6",
           "radialaxis": {
            "gridcolor": "white",
            "linecolor": "white",
            "ticks": ""
           }
          },
          "scene": {
           "xaxis": {
            "backgroundcolor": "#E5ECF6",
            "gridcolor": "white",
            "gridwidth": 2,
            "linecolor": "white",
            "showbackground": true,
            "ticks": "",
            "zerolinecolor": "white"
           },
           "yaxis": {
            "backgroundcolor": "#E5ECF6",
            "gridcolor": "white",
            "gridwidth": 2,
            "linecolor": "white",
            "showbackground": true,
            "ticks": "",
            "zerolinecolor": "white"
           },
           "zaxis": {
            "backgroundcolor": "#E5ECF6",
            "gridcolor": "white",
            "gridwidth": 2,
            "linecolor": "white",
            "showbackground": true,
            "ticks": "",
            "zerolinecolor": "white"
           }
          },
          "shapedefaults": {
           "line": {
            "color": "#2a3f5f"
           }
          },
          "ternary": {
           "aaxis": {
            "gridcolor": "white",
            "linecolor": "white",
            "ticks": ""
           },
           "baxis": {
            "gridcolor": "white",
            "linecolor": "white",
            "ticks": ""
           },
           "bgcolor": "#E5ECF6",
           "caxis": {
            "gridcolor": "white",
            "linecolor": "white",
            "ticks": ""
           }
          },
          "title": {
           "x": 0.05
          },
          "xaxis": {
           "automargin": true,
           "gridcolor": "white",
           "linecolor": "white",
           "ticks": "",
           "title": {
            "standoff": 15
           },
           "zerolinecolor": "white",
           "zerolinewidth": 2
          },
          "yaxis": {
           "automargin": true,
           "gridcolor": "white",
           "linecolor": "white",
           "ticks": "",
           "title": {
            "standoff": 15
           },
           "zerolinecolor": "white",
           "zerolinewidth": 2
          }
         }
        },
        "title": {
         "text": "Representación Interactiva de un Punto en el Espacio 3D"
        }
       }
      }
     },
     "metadata": {},
     "output_type": "display_data"
    }
   ],
   "source": [
    "import numpy as np\n",
    "\n",
    "import plotly.graph_objects as go\n",
    "\n",
    "# Coordenadas del punto\n",
    "punto = np.array([3, 4, 5])\n",
    "\n",
    "# Crear la figura\n",
    "fig = go.Figure()\n",
    "\n",
    "# Agregar el punto en el espacio\n",
    "fig.add_trace(go.Scatter3d(\n",
    "    x=[punto[0]],\n",
    "    y=[punto[1]],\n",
    "    z=[punto[2]],\n",
    "    mode='markers',\n",
    "    marker=dict(size=8, color='red'),\n",
    "    name=f'Punto ({punto[0]}, {punto[1]}, {punto[2]})'\n",
    "))\n",
    "\n",
    "# Agregar los segmentos de distancia a los planos coordenados\n",
    "fig.add_trace(go.Scatter3d(\n",
    "    x=[punto[0], punto[0]],\n",
    "    y=[punto[1], punto[1]],\n",
    "    z=[0, punto[2]],\n",
    "    mode='lines',\n",
    "    line=dict(color='blue', dash='dash'),\n",
    "    name='Distancia al plano XY'\n",
    "))\n",
    "fig.add_trace(go.Scatter3d(\n",
    "    x=[punto[0], punto[0]],\n",
    "    y=[0, punto[1]],\n",
    "    z=[punto[2], punto[2]],\n",
    "    mode='lines',\n",
    "    line=dict(color='green', dash='dash'),\n",
    "    name='Distancia al plano XZ'\n",
    "))\n",
    "fig.add_trace(go.Scatter3d(\n",
    "    x=[0, punto[0]],\n",
    "    y=[punto[1], punto[1]],\n",
    "    z=[punto[2], punto[2]],\n",
    "    mode='lines',\n",
    "    line=dict(color='purple', dash='dash'),\n",
    "    name='Distancia al plano YZ'\n",
    "))\n",
    "\n",
    "# Agregar los planos coordenados\n",
    "x_plane = np.linspace(0, 6, 10)\n",
    "y_plane = np.linspace(0, 6, 10)\n",
    "X_plane, Y_plane = np.meshgrid(x_plane, y_plane)\n",
    "\n",
    "# Plano XY\n",
    "fig.add_trace(go.Surface(\n",
    "    z=np.zeros_like(X_plane),\n",
    "    x=X_plane,\n",
    "    y=Y_plane,\n",
    "    opacity=0.3,\n",
    "    colorscale='Blues',\n",
    "    name='Plano XY'\n",
    "))\n",
    "\n",
    "# Plano XZ\n",
    "fig.add_trace(go.Surface(\n",
    "    z=Y_plane,\n",
    "    x=X_plane,\n",
    "    y=np.zeros_like(X_plane),\n",
    "    opacity=0.3,\n",
    "    colorscale='YlOrBr',\n",
    "    name='Plano XZ'\n",
    "))\n",
    "\n",
    "# Plano YZ\n",
    "fig.add_trace(go.Surface(\n",
    "    z=Y_plane,\n",
    "    x=np.zeros_like(X_plane),\n",
    "    y=X_plane,\n",
    "    opacity=0.3,\n",
    "    colorscale='Purples',\n",
    "    name='Plano YZ'\n",
    "))\n",
    "\n",
    "# Configurar etiquetas y diseño\n",
    "fig.update_layout(\n",
    "    scene=dict(\n",
    "        xaxis_title='X',\n",
    "        yaxis_title='Y',\n",
    "        zaxis_title='Z',\n",
    "    ),\n",
    "    title='Representación Interactiva de un Punto en el Espacio 3D',\n",
    "    margin=dict(l=0, r=0, b=0, t=40)\n",
    ")\n",
    "\n",
    "# Mostrar la figura\n",
    "fig.show()"
   ]
  },
  {
   "cell_type": "code",
   "execution_count": null,
   "id": "95d4fdd5",
   "metadata": {},
   "outputs": [],
   "source": []
  },
  {
   "cell_type": "markdown",
   "id": "79bce458",
   "metadata": {},
   "source": [
    "\n",
    "## **5. Historia y Epistemología (Cuento Antioqueño)**  \n",
    "*\"¡Oiga, pues! En las montañas de Antioquia, un día llegó el sabio Hamilton con sus 'flechas matemáticas' (vectores) y le dijo al campesino Juan: 'Mire, compadre, con esto podemos medir hasta el vuelo de las mariposas en su cafetal'. Y así, con vectores y Python, Juan optimizó su riego y hasta le ganó al Niño Costeño en sequías.\"*  \n"
   ]
  },
  {
   "cell_type": "markdown",
   "id": "95e3f848",
   "metadata": {},
   "source": [
    "\n",
    "Prompt:\n",
    "Genérame, por favor, una imagen caricaturizada de **William Rowan Hamilton** (vectores) y **Carl Friedrich Gauss** (geometría 3D).  en un contexto agrario Caucasiano o de Caucasia Antioquia.   \n",
    "\n",
    "\n",
    "<img src = \"hamilton_gauss.png\" alt = \"William Rowan Hamilton y Carl Friedrich Gauss en un contexto agrario Caucasiano\" width=\"500\" height=\"500\">  \n",
    "\n",
    "Para crear una imagen caricaturizada de William Rowan Hamilton y Carl Friedrich Gauss en un contexto agrario de Caucasia, Antioquia, aquí tienes la escena que voy a generar:\n",
    "\n",
    "Descripción para la imagen:\n",
    "\n",
    "William Rowan Hamilton aparece con una libreta de cuero y una pluma, señalando con entusiasmo un grupo de vectores representados como flechas flotando en el aire sobre una plantación de arroz.\n",
    "\n",
    "Carl Friedrich Gauss está junto a él, usando un sombrero vueltiao (estilo colombiano), trazando con un bastón unas formas geométricas tridimensionales sobre la tierra: una esfera, un cubo y una elipse, hechas de surcos y hileras de cultivo.\n",
    "\n",
    "Ambos están en una finca típica de Caucasia, con montañas al fondo, gallinas caminando cerca, un burro observando curioso y una casita rural detrás.\n",
    "\n",
    "El cielo es brillante, el sol alto, y se ven palmas, árboles de mango y plátano, típicos del paisaje de Antioquia.\n",
    "\n",
    "El estilo es caricaturesco, colorido y amigable, como una viñeta educativa.\n",
    "\n",
    "\n",
    "\n",
    "\n"
   ]
  },
  {
   "cell_type": "markdown",
   "id": "1f01e21c",
   "metadata": {},
   "source": [
    "\n",
    "## **6. Actividades de Aprendizaje**  \n"
   ]
  },
  {
   "cell_type": "markdown",
   "id": "9693287c",
   "metadata": {},
   "source": [
    "### **a. Calculadora Casio 991 LA cw:**  \n"
   ]
  },
  {
   "cell_type": "markdown",
   "id": "be7b539e",
   "metadata": {},
   "source": [
    "- Calcular el ángulo entre surcos de cultivo usando producto punto: "
   ]
  },
  {
   "cell_type": "markdown",
   "id": "c4e2f85a",
   "metadata": {},
   "source": [
    " \n",
    "  $$ \\theta = \\cos^{-1}\\left(\\frac{\\vec{a} \\cdot \\vec{b}}{\\|\\vec{a}\\|\\|\\vec{b}\\|}\\right) $$  \n"
   ]
  },
  {
   "cell_type": "markdown",
   "id": "fd571db5",
   "metadata": {},
   "source": [
    "\n",
    "### **b. GeoGebra:**  \n",
    "- Graficar vectores de viento que afectan un cultivo de cacao.  \n",
    "\n",
    "Pedir a DeepSeek que me de la secuencia para graficar vectores de viento que afecten un cultivo de cacao en GeoGebra."
   ]
  },
  {
   "cell_type": "code",
   "execution_count": 5,
   "id": "ef87a77b",
   "metadata": {},
   "outputs": [
    {
     "data": {
      "application/vnd.plotly.v1+json": {
       "config": {
        "plotlyServerURL": "https://plot.ly"
       },
       "data": [
        {
         "hovertemplate": "x=%{x}<br>y=%{y}<br>z=%{z}<extra></extra>",
         "legendgroup": "",
         "marker": {
          "color": "#636efa",
          "symbol": "circle"
         },
         "mode": "markers",
         "name": "",
         "scene": "scene",
         "showlegend": false,
         "type": "scatter3d",
         "x": {
          "bdata": "AQI=",
          "dtype": "i1"
         },
         "y": {
          "bdata": "AwQ=",
          "dtype": "i1"
         },
         "z": {
          "bdata": "AAU=",
          "dtype": "i1"
         }
        }
       ],
       "layout": {
        "legend": {
         "tracegroupgap": 0
        },
        "scene": {
         "domain": {
          "x": [
           0,
           1
          ],
          "y": [
           0,
           1
          ]
         },
         "xaxis": {
          "title": {
           "text": "x"
          }
         },
         "yaxis": {
          "title": {
           "text": "y"
          }
         },
         "zaxis": {
          "title": {
           "text": "z"
          }
         }
        },
        "template": {
         "data": {
          "bar": [
           {
            "error_x": {
             "color": "#2a3f5f"
            },
            "error_y": {
             "color": "#2a3f5f"
            },
            "marker": {
             "line": {
              "color": "#E5ECF6",
              "width": 0.5
             },
             "pattern": {
              "fillmode": "overlay",
              "size": 10,
              "solidity": 0.2
             }
            },
            "type": "bar"
           }
          ],
          "barpolar": [
           {
            "marker": {
             "line": {
              "color": "#E5ECF6",
              "width": 0.5
             },
             "pattern": {
              "fillmode": "overlay",
              "size": 10,
              "solidity": 0.2
             }
            },
            "type": "barpolar"
           }
          ],
          "carpet": [
           {
            "aaxis": {
             "endlinecolor": "#2a3f5f",
             "gridcolor": "white",
             "linecolor": "white",
             "minorgridcolor": "white",
             "startlinecolor": "#2a3f5f"
            },
            "baxis": {
             "endlinecolor": "#2a3f5f",
             "gridcolor": "white",
             "linecolor": "white",
             "minorgridcolor": "white",
             "startlinecolor": "#2a3f5f"
            },
            "type": "carpet"
           }
          ],
          "choropleth": [
           {
            "colorbar": {
             "outlinewidth": 0,
             "ticks": ""
            },
            "type": "choropleth"
           }
          ],
          "contour": [
           {
            "colorbar": {
             "outlinewidth": 0,
             "ticks": ""
            },
            "colorscale": [
             [
              0,
              "#0d0887"
             ],
             [
              0.1111111111111111,
              "#46039f"
             ],
             [
              0.2222222222222222,
              "#7201a8"
             ],
             [
              0.3333333333333333,
              "#9c179e"
             ],
             [
              0.4444444444444444,
              "#bd3786"
             ],
             [
              0.5555555555555556,
              "#d8576b"
             ],
             [
              0.6666666666666666,
              "#ed7953"
             ],
             [
              0.7777777777777778,
              "#fb9f3a"
             ],
             [
              0.8888888888888888,
              "#fdca26"
             ],
             [
              1,
              "#f0f921"
             ]
            ],
            "type": "contour"
           }
          ],
          "contourcarpet": [
           {
            "colorbar": {
             "outlinewidth": 0,
             "ticks": ""
            },
            "type": "contourcarpet"
           }
          ],
          "heatmap": [
           {
            "colorbar": {
             "outlinewidth": 0,
             "ticks": ""
            },
            "colorscale": [
             [
              0,
              "#0d0887"
             ],
             [
              0.1111111111111111,
              "#46039f"
             ],
             [
              0.2222222222222222,
              "#7201a8"
             ],
             [
              0.3333333333333333,
              "#9c179e"
             ],
             [
              0.4444444444444444,
              "#bd3786"
             ],
             [
              0.5555555555555556,
              "#d8576b"
             ],
             [
              0.6666666666666666,
              "#ed7953"
             ],
             [
              0.7777777777777778,
              "#fb9f3a"
             ],
             [
              0.8888888888888888,
              "#fdca26"
             ],
             [
              1,
              "#f0f921"
             ]
            ],
            "type": "heatmap"
           }
          ],
          "histogram": [
           {
            "marker": {
             "pattern": {
              "fillmode": "overlay",
              "size": 10,
              "solidity": 0.2
             }
            },
            "type": "histogram"
           }
          ],
          "histogram2d": [
           {
            "colorbar": {
             "outlinewidth": 0,
             "ticks": ""
            },
            "colorscale": [
             [
              0,
              "#0d0887"
             ],
             [
              0.1111111111111111,
              "#46039f"
             ],
             [
              0.2222222222222222,
              "#7201a8"
             ],
             [
              0.3333333333333333,
              "#9c179e"
             ],
             [
              0.4444444444444444,
              "#bd3786"
             ],
             [
              0.5555555555555556,
              "#d8576b"
             ],
             [
              0.6666666666666666,
              "#ed7953"
             ],
             [
              0.7777777777777778,
              "#fb9f3a"
             ],
             [
              0.8888888888888888,
              "#fdca26"
             ],
             [
              1,
              "#f0f921"
             ]
            ],
            "type": "histogram2d"
           }
          ],
          "histogram2dcontour": [
           {
            "colorbar": {
             "outlinewidth": 0,
             "ticks": ""
            },
            "colorscale": [
             [
              0,
              "#0d0887"
             ],
             [
              0.1111111111111111,
              "#46039f"
             ],
             [
              0.2222222222222222,
              "#7201a8"
             ],
             [
              0.3333333333333333,
              "#9c179e"
             ],
             [
              0.4444444444444444,
              "#bd3786"
             ],
             [
              0.5555555555555556,
              "#d8576b"
             ],
             [
              0.6666666666666666,
              "#ed7953"
             ],
             [
              0.7777777777777778,
              "#fb9f3a"
             ],
             [
              0.8888888888888888,
              "#fdca26"
             ],
             [
              1,
              "#f0f921"
             ]
            ],
            "type": "histogram2dcontour"
           }
          ],
          "mesh3d": [
           {
            "colorbar": {
             "outlinewidth": 0,
             "ticks": ""
            },
            "type": "mesh3d"
           }
          ],
          "parcoords": [
           {
            "line": {
             "colorbar": {
              "outlinewidth": 0,
              "ticks": ""
             }
            },
            "type": "parcoords"
           }
          ],
          "pie": [
           {
            "automargin": true,
            "type": "pie"
           }
          ],
          "scatter": [
           {
            "fillpattern": {
             "fillmode": "overlay",
             "size": 10,
             "solidity": 0.2
            },
            "type": "scatter"
           }
          ],
          "scatter3d": [
           {
            "line": {
             "colorbar": {
              "outlinewidth": 0,
              "ticks": ""
             }
            },
            "marker": {
             "colorbar": {
              "outlinewidth": 0,
              "ticks": ""
             }
            },
            "type": "scatter3d"
           }
          ],
          "scattercarpet": [
           {
            "marker": {
             "colorbar": {
              "outlinewidth": 0,
              "ticks": ""
             }
            },
            "type": "scattercarpet"
           }
          ],
          "scattergeo": [
           {
            "marker": {
             "colorbar": {
              "outlinewidth": 0,
              "ticks": ""
             }
            },
            "type": "scattergeo"
           }
          ],
          "scattergl": [
           {
            "marker": {
             "colorbar": {
              "outlinewidth": 0,
              "ticks": ""
             }
            },
            "type": "scattergl"
           }
          ],
          "scattermap": [
           {
            "marker": {
             "colorbar": {
              "outlinewidth": 0,
              "ticks": ""
             }
            },
            "type": "scattermap"
           }
          ],
          "scattermapbox": [
           {
            "marker": {
             "colorbar": {
              "outlinewidth": 0,
              "ticks": ""
             }
            },
            "type": "scattermapbox"
           }
          ],
          "scatterpolar": [
           {
            "marker": {
             "colorbar": {
              "outlinewidth": 0,
              "ticks": ""
             }
            },
            "type": "scatterpolar"
           }
          ],
          "scatterpolargl": [
           {
            "marker": {
             "colorbar": {
              "outlinewidth": 0,
              "ticks": ""
             }
            },
            "type": "scatterpolargl"
           }
          ],
          "scatterternary": [
           {
            "marker": {
             "colorbar": {
              "outlinewidth": 0,
              "ticks": ""
             }
            },
            "type": "scatterternary"
           }
          ],
          "surface": [
           {
            "colorbar": {
             "outlinewidth": 0,
             "ticks": ""
            },
            "colorscale": [
             [
              0,
              "#0d0887"
             ],
             [
              0.1111111111111111,
              "#46039f"
             ],
             [
              0.2222222222222222,
              "#7201a8"
             ],
             [
              0.3333333333333333,
              "#9c179e"
             ],
             [
              0.4444444444444444,
              "#bd3786"
             ],
             [
              0.5555555555555556,
              "#d8576b"
             ],
             [
              0.6666666666666666,
              "#ed7953"
             ],
             [
              0.7777777777777778,
              "#fb9f3a"
             ],
             [
              0.8888888888888888,
              "#fdca26"
             ],
             [
              1,
              "#f0f921"
             ]
            ],
            "type": "surface"
           }
          ],
          "table": [
           {
            "cells": {
             "fill": {
              "color": "#EBF0F8"
             },
             "line": {
              "color": "white"
             }
            },
            "header": {
             "fill": {
              "color": "#C8D4E3"
             },
             "line": {
              "color": "white"
             }
            },
            "type": "table"
           }
          ]
         },
         "layout": {
          "annotationdefaults": {
           "arrowcolor": "#2a3f5f",
           "arrowhead": 0,
           "arrowwidth": 1
          },
          "autotypenumbers": "strict",
          "coloraxis": {
           "colorbar": {
            "outlinewidth": 0,
            "ticks": ""
           }
          },
          "colorscale": {
           "diverging": [
            [
             0,
             "#8e0152"
            ],
            [
             0.1,
             "#c51b7d"
            ],
            [
             0.2,
             "#de77ae"
            ],
            [
             0.3,
             "#f1b6da"
            ],
            [
             0.4,
             "#fde0ef"
            ],
            [
             0.5,
             "#f7f7f7"
            ],
            [
             0.6,
             "#e6f5d0"
            ],
            [
             0.7,
             "#b8e186"
            ],
            [
             0.8,
             "#7fbc41"
            ],
            [
             0.9,
             "#4d9221"
            ],
            [
             1,
             "#276419"
            ]
           ],
           "sequential": [
            [
             0,
             "#0d0887"
            ],
            [
             0.1111111111111111,
             "#46039f"
            ],
            [
             0.2222222222222222,
             "#7201a8"
            ],
            [
             0.3333333333333333,
             "#9c179e"
            ],
            [
             0.4444444444444444,
             "#bd3786"
            ],
            [
             0.5555555555555556,
             "#d8576b"
            ],
            [
             0.6666666666666666,
             "#ed7953"
            ],
            [
             0.7777777777777778,
             "#fb9f3a"
            ],
            [
             0.8888888888888888,
             "#fdca26"
            ],
            [
             1,
             "#f0f921"
            ]
           ],
           "sequentialminus": [
            [
             0,
             "#0d0887"
            ],
            [
             0.1111111111111111,
             "#46039f"
            ],
            [
             0.2222222222222222,
             "#7201a8"
            ],
            [
             0.3333333333333333,
             "#9c179e"
            ],
            [
             0.4444444444444444,
             "#bd3786"
            ],
            [
             0.5555555555555556,
             "#d8576b"
            ],
            [
             0.6666666666666666,
             "#ed7953"
            ],
            [
             0.7777777777777778,
             "#fb9f3a"
            ],
            [
             0.8888888888888888,
             "#fdca26"
            ],
            [
             1,
             "#f0f921"
            ]
           ]
          },
          "colorway": [
           "#636efa",
           "#EF553B",
           "#00cc96",
           "#ab63fa",
           "#FFA15A",
           "#19d3f3",
           "#FF6692",
           "#B6E880",
           "#FF97FF",
           "#FECB52"
          ],
          "font": {
           "color": "#2a3f5f"
          },
          "geo": {
           "bgcolor": "white",
           "lakecolor": "white",
           "landcolor": "#E5ECF6",
           "showlakes": true,
           "showland": true,
           "subunitcolor": "white"
          },
          "hoverlabel": {
           "align": "left"
          },
          "hovermode": "closest",
          "mapbox": {
           "style": "light"
          },
          "paper_bgcolor": "white",
          "plot_bgcolor": "#E5ECF6",
          "polar": {
           "angularaxis": {
            "gridcolor": "white",
            "linecolor": "white",
            "ticks": ""
           },
           "bgcolor": "#E5ECF6",
           "radialaxis": {
            "gridcolor": "white",
            "linecolor": "white",
            "ticks": ""
           }
          },
          "scene": {
           "xaxis": {
            "backgroundcolor": "#E5ECF6",
            "gridcolor": "white",
            "gridwidth": 2,
            "linecolor": "white",
            "showbackground": true,
            "ticks": "",
            "zerolinecolor": "white"
           },
           "yaxis": {
            "backgroundcolor": "#E5ECF6",
            "gridcolor": "white",
            "gridwidth": 2,
            "linecolor": "white",
            "showbackground": true,
            "ticks": "",
            "zerolinecolor": "white"
           },
           "zaxis": {
            "backgroundcolor": "#E5ECF6",
            "gridcolor": "white",
            "gridwidth": 2,
            "linecolor": "white",
            "showbackground": true,
            "ticks": "",
            "zerolinecolor": "white"
           }
          },
          "shapedefaults": {
           "line": {
            "color": "#2a3f5f"
           }
          },
          "ternary": {
           "aaxis": {
            "gridcolor": "white",
            "linecolor": "white",
            "ticks": ""
           },
           "baxis": {
            "gridcolor": "white",
            "linecolor": "white",
            "ticks": ""
           },
           "bgcolor": "#E5ECF6",
           "caxis": {
            "gridcolor": "white",
            "linecolor": "white",
            "ticks": ""
           }
          },
          "title": {
           "x": 0.05
          },
          "xaxis": {
           "automargin": true,
           "gridcolor": "white",
           "linecolor": "white",
           "ticks": "",
           "title": {
            "standoff": 15
           },
           "zerolinecolor": "white",
           "zerolinewidth": 2
          },
          "yaxis": {
           "automargin": true,
           "gridcolor": "white",
           "linecolor": "white",
           "ticks": "",
           "title": {
            "standoff": 15
           },
           "zerolinecolor": "white",
           "zerolinewidth": 2
          }
         }
        },
        "title": {
         "text": "Vectores en Terreno Agrícola"
        }
       }
      }
     },
     "metadata": {},
     "output_type": "display_data"
    }
   ],
   "source": [
    "import matplotlib.pyplot as plt\n",
    "import numpy as np\n",
    "import pandas as pd \n",
    "import ipywidgets as widgets\n",
    "from IPython.display import display\n",
    "import plotly.express as px\n",
    "df = pd.DataFrame({'x': [1, 2], 'y': [3, 4], 'z': [0, 5]})\n",
    "fig = px.scatter_3d(df, x='x', y='y', z='z', title='Vectores en Terreno Agrícola')\n",
    "fig.show()\n",
    "\n"
   ]
  },
  {
   "cell_type": "markdown",
   "id": "4e2fd61d",
   "metadata": {},
   "source": [
    "\n",
    "Este código en particular tiene **tres objetivos didácticos clave**, todos alineados con la aplicación de vectores 3D en ingeniería agropecuaria:\n",
    "\n"
   ]
  },
  {
   "cell_type": "markdown",
   "id": "4008e4df",
   "metadata": {},
   "source": [
    "\n",
    "\n",
    "### **1. Representación Gráfica de Vectores 3D en Contexto Agrícola**  \n",
    "**Qué muestra:**  \n",
    "- Dos puntos en el espacio 3D:  \n",
    "  - Punto 1: Coordenadas `(x=1, y=3, z=0)` → Podría representar:  \n",
    "    - La posición inicial de un tractor.  \n",
    "    - Un punto de medición de humedad en el suelo (donde `z=0` es el nivel del terreno).  \n",
    "  - Punto 2: Coordenadas `(x=2, y=4, z=5)` → Podría ser:  \n",
    "    - La posición final de un sistema de riego por aspersión (con `z=5` metros de altura).  \n",
    "    - Un árbol cuya copa está a 5m de altura.  \n",
    "\n",
    "**Por qué es relevante:**  \n",
    "- Los estudiantes **vinculan la abstracción matemática** (coordenadas 3D) con **elementos físicos** en el agro (maquinaria, cultivos, topografía).  \n",
    "\n"
   ]
  },
  {
   "cell_type": "markdown",
   "id": "3974515f",
   "metadata": {},
   "source": [
    "\n",
    "\n",
    "### **2. Introducción a Herramientas Profesionales para Análisis Espacial**  \n",
    "**Qué enseña técnicamente:**  \n",
    "- Uso de `pandas` para estructurar datos espaciales (columnas `x, y, z`).  \n",
    "- Visualización interactiva con `plotly.express`, que permite:  \n",
    "  - Rotar el gráfico 3D para analizar ángulos (útil para estudiar pendientes o direcciones de riego).  \n",
    "  - Hacer zoom en áreas específicas.  \n",
    "\n",
    "**Ejemplo de pregunta para estudiantes:**  \n",
    "*\"Si `z` representa la altura de un pesticida rociado, ¿cómo afecta la distancia entre estos puntos a la cobertura del químico?\"*  \n",
    "\n"
   ]
  },
  {
   "cell_type": "markdown",
   "id": "95e96ada",
   "metadata": {},
   "source": [
    "\n",
    "\n",
    "### **3. Base para Extender hacia Problemas Complejos**  \n",
    "**Cómo se escala:**  \n",
    "Este código minimalista es la **semilla** para proyectos más elaborados, como:  \n",
    "- **Modelar trayectorias:** Añadir más puntos para simular la ruta de un drone agrícola. "
   ]
  },
  {
   "cell_type": "code",
   "execution_count": 10,
   "id": "cac610d6",
   "metadata": {},
   "outputs": [
    {
     "data": {
      "application/vnd.microsoft.datawrangler.viewer.v0+json": {
       "columns": [
        {
         "name": "index",
         "rawType": "int64",
         "type": "integer"
        },
        {
         "name": "x",
         "rawType": "int64",
         "type": "integer"
        },
        {
         "name": "y",
         "rawType": "int64",
         "type": "integer"
        },
        {
         "name": "z",
         "rawType": "int64",
         "type": "integer"
        }
       ],
       "conversionMethod": "pd.DataFrame",
       "ref": "64cf9645-da13-4564-8cf1-f5891cc2199c",
       "rows": [
        [
         "0",
         "1",
         "3",
         "0"
        ],
        [
         "1",
         "2",
         "4",
         "5"
        ],
        [
         "2",
         "3",
         "5",
         "3"
        ]
       ],
       "shape": {
        "columns": 3,
        "rows": 3
       }
      },
      "text/html": [
       "<div>\n",
       "<style scoped>\n",
       "    .dataframe tbody tr th:only-of-type {\n",
       "        vertical-align: middle;\n",
       "    }\n",
       "\n",
       "    .dataframe tbody tr th {\n",
       "        vertical-align: top;\n",
       "    }\n",
       "\n",
       "    .dataframe thead th {\n",
       "        text-align: right;\n",
       "    }\n",
       "</style>\n",
       "<table border=\"1\" class=\"dataframe\">\n",
       "  <thead>\n",
       "    <tr style=\"text-align: right;\">\n",
       "      <th></th>\n",
       "      <th>x</th>\n",
       "      <th>y</th>\n",
       "      <th>z</th>\n",
       "    </tr>\n",
       "  </thead>\n",
       "  <tbody>\n",
       "    <tr>\n",
       "      <th>0</th>\n",
       "      <td>1</td>\n",
       "      <td>3</td>\n",
       "      <td>0</td>\n",
       "    </tr>\n",
       "    <tr>\n",
       "      <th>1</th>\n",
       "      <td>2</td>\n",
       "      <td>4</td>\n",
       "      <td>5</td>\n",
       "    </tr>\n",
       "    <tr>\n",
       "      <th>2</th>\n",
       "      <td>3</td>\n",
       "      <td>5</td>\n",
       "      <td>3</td>\n",
       "    </tr>\n",
       "  </tbody>\n",
       "</table>\n",
       "</div>"
      ],
      "text/plain": [
       "   x  y  z\n",
       "0  1  3  0\n",
       "1  2  4  5\n",
       "2  3  5  3"
      ]
     },
     "execution_count": 10,
     "metadata": {},
     "output_type": "execute_result"
    }
   ],
   "source": [
    "import pandas as pd \n",
    "df = pd.DataFrame({\n",
    "      'x': [1, 2, 3], \n",
    "      'y': [3, 4, 5], \n",
    "      'z': [0, 5, 3]  # Alturas variables\n",
    "})\n",
    "df"
   ]
  },
  {
   "cell_type": "code",
   "execution_count": 11,
   "id": "5698fd1a",
   "metadata": {},
   "outputs": [
    {
     "data": {
      "application/vnd.plotly.v1+json": {
       "config": {
        "plotlyServerURL": "https://plot.ly"
       },
       "data": [
        {
         "hovertemplate": "x=%{x}<br>y=%{y}<br>z=%{z}<extra></extra>",
         "legendgroup": "",
         "marker": {
          "color": "#636efa",
          "symbol": "circle"
         },
         "mode": "markers",
         "name": "",
         "scene": "scene",
         "showlegend": false,
         "type": "scatter3d",
         "x": {
          "bdata": "AQID",
          "dtype": "i1"
         },
         "y": {
          "bdata": "AwQF",
          "dtype": "i1"
         },
         "z": {
          "bdata": "AAUD",
          "dtype": "i1"
         }
        }
       ],
       "layout": {
        "legend": {
         "tracegroupgap": 0
        },
        "scene": {
         "domain": {
          "x": [
           0,
           1
          ],
          "y": [
           0,
           1
          ]
         },
         "xaxis": {
          "title": {
           "text": "x"
          }
         },
         "yaxis": {
          "title": {
           "text": "y"
          }
         },
         "zaxis": {
          "title": {
           "text": "z"
          }
         }
        },
        "template": {
         "data": {
          "bar": [
           {
            "error_x": {
             "color": "#2a3f5f"
            },
            "error_y": {
             "color": "#2a3f5f"
            },
            "marker": {
             "line": {
              "color": "#E5ECF6",
              "width": 0.5
             },
             "pattern": {
              "fillmode": "overlay",
              "size": 10,
              "solidity": 0.2
             }
            },
            "type": "bar"
           }
          ],
          "barpolar": [
           {
            "marker": {
             "line": {
              "color": "#E5ECF6",
              "width": 0.5
             },
             "pattern": {
              "fillmode": "overlay",
              "size": 10,
              "solidity": 0.2
             }
            },
            "type": "barpolar"
           }
          ],
          "carpet": [
           {
            "aaxis": {
             "endlinecolor": "#2a3f5f",
             "gridcolor": "white",
             "linecolor": "white",
             "minorgridcolor": "white",
             "startlinecolor": "#2a3f5f"
            },
            "baxis": {
             "endlinecolor": "#2a3f5f",
             "gridcolor": "white",
             "linecolor": "white",
             "minorgridcolor": "white",
             "startlinecolor": "#2a3f5f"
            },
            "type": "carpet"
           }
          ],
          "choropleth": [
           {
            "colorbar": {
             "outlinewidth": 0,
             "ticks": ""
            },
            "type": "choropleth"
           }
          ],
          "contour": [
           {
            "colorbar": {
             "outlinewidth": 0,
             "ticks": ""
            },
            "colorscale": [
             [
              0,
              "#0d0887"
             ],
             [
              0.1111111111111111,
              "#46039f"
             ],
             [
              0.2222222222222222,
              "#7201a8"
             ],
             [
              0.3333333333333333,
              "#9c179e"
             ],
             [
              0.4444444444444444,
              "#bd3786"
             ],
             [
              0.5555555555555556,
              "#d8576b"
             ],
             [
              0.6666666666666666,
              "#ed7953"
             ],
             [
              0.7777777777777778,
              "#fb9f3a"
             ],
             [
              0.8888888888888888,
              "#fdca26"
             ],
             [
              1,
              "#f0f921"
             ]
            ],
            "type": "contour"
           }
          ],
          "contourcarpet": [
           {
            "colorbar": {
             "outlinewidth": 0,
             "ticks": ""
            },
            "type": "contourcarpet"
           }
          ],
          "heatmap": [
           {
            "colorbar": {
             "outlinewidth": 0,
             "ticks": ""
            },
            "colorscale": [
             [
              0,
              "#0d0887"
             ],
             [
              0.1111111111111111,
              "#46039f"
             ],
             [
              0.2222222222222222,
              "#7201a8"
             ],
             [
              0.3333333333333333,
              "#9c179e"
             ],
             [
              0.4444444444444444,
              "#bd3786"
             ],
             [
              0.5555555555555556,
              "#d8576b"
             ],
             [
              0.6666666666666666,
              "#ed7953"
             ],
             [
              0.7777777777777778,
              "#fb9f3a"
             ],
             [
              0.8888888888888888,
              "#fdca26"
             ],
             [
              1,
              "#f0f921"
             ]
            ],
            "type": "heatmap"
           }
          ],
          "histogram": [
           {
            "marker": {
             "pattern": {
              "fillmode": "overlay",
              "size": 10,
              "solidity": 0.2
             }
            },
            "type": "histogram"
           }
          ],
          "histogram2d": [
           {
            "colorbar": {
             "outlinewidth": 0,
             "ticks": ""
            },
            "colorscale": [
             [
              0,
              "#0d0887"
             ],
             [
              0.1111111111111111,
              "#46039f"
             ],
             [
              0.2222222222222222,
              "#7201a8"
             ],
             [
              0.3333333333333333,
              "#9c179e"
             ],
             [
              0.4444444444444444,
              "#bd3786"
             ],
             [
              0.5555555555555556,
              "#d8576b"
             ],
             [
              0.6666666666666666,
              "#ed7953"
             ],
             [
              0.7777777777777778,
              "#fb9f3a"
             ],
             [
              0.8888888888888888,
              "#fdca26"
             ],
             [
              1,
              "#f0f921"
             ]
            ],
            "type": "histogram2d"
           }
          ],
          "histogram2dcontour": [
           {
            "colorbar": {
             "outlinewidth": 0,
             "ticks": ""
            },
            "colorscale": [
             [
              0,
              "#0d0887"
             ],
             [
              0.1111111111111111,
              "#46039f"
             ],
             [
              0.2222222222222222,
              "#7201a8"
             ],
             [
              0.3333333333333333,
              "#9c179e"
             ],
             [
              0.4444444444444444,
              "#bd3786"
             ],
             [
              0.5555555555555556,
              "#d8576b"
             ],
             [
              0.6666666666666666,
              "#ed7953"
             ],
             [
              0.7777777777777778,
              "#fb9f3a"
             ],
             [
              0.8888888888888888,
              "#fdca26"
             ],
             [
              1,
              "#f0f921"
             ]
            ],
            "type": "histogram2dcontour"
           }
          ],
          "mesh3d": [
           {
            "colorbar": {
             "outlinewidth": 0,
             "ticks": ""
            },
            "type": "mesh3d"
           }
          ],
          "parcoords": [
           {
            "line": {
             "colorbar": {
              "outlinewidth": 0,
              "ticks": ""
             }
            },
            "type": "parcoords"
           }
          ],
          "pie": [
           {
            "automargin": true,
            "type": "pie"
           }
          ],
          "scatter": [
           {
            "fillpattern": {
             "fillmode": "overlay",
             "size": 10,
             "solidity": 0.2
            },
            "type": "scatter"
           }
          ],
          "scatter3d": [
           {
            "line": {
             "colorbar": {
              "outlinewidth": 0,
              "ticks": ""
             }
            },
            "marker": {
             "colorbar": {
              "outlinewidth": 0,
              "ticks": ""
             }
            },
            "type": "scatter3d"
           }
          ],
          "scattercarpet": [
           {
            "marker": {
             "colorbar": {
              "outlinewidth": 0,
              "ticks": ""
             }
            },
            "type": "scattercarpet"
           }
          ],
          "scattergeo": [
           {
            "marker": {
             "colorbar": {
              "outlinewidth": 0,
              "ticks": ""
             }
            },
            "type": "scattergeo"
           }
          ],
          "scattergl": [
           {
            "marker": {
             "colorbar": {
              "outlinewidth": 0,
              "ticks": ""
             }
            },
            "type": "scattergl"
           }
          ],
          "scattermap": [
           {
            "marker": {
             "colorbar": {
              "outlinewidth": 0,
              "ticks": ""
             }
            },
            "type": "scattermap"
           }
          ],
          "scattermapbox": [
           {
            "marker": {
             "colorbar": {
              "outlinewidth": 0,
              "ticks": ""
             }
            },
            "type": "scattermapbox"
           }
          ],
          "scatterpolar": [
           {
            "marker": {
             "colorbar": {
              "outlinewidth": 0,
              "ticks": ""
             }
            },
            "type": "scatterpolar"
           }
          ],
          "scatterpolargl": [
           {
            "marker": {
             "colorbar": {
              "outlinewidth": 0,
              "ticks": ""
             }
            },
            "type": "scatterpolargl"
           }
          ],
          "scatterternary": [
           {
            "marker": {
             "colorbar": {
              "outlinewidth": 0,
              "ticks": ""
             }
            },
            "type": "scatterternary"
           }
          ],
          "surface": [
           {
            "colorbar": {
             "outlinewidth": 0,
             "ticks": ""
            },
            "colorscale": [
             [
              0,
              "#0d0887"
             ],
             [
              0.1111111111111111,
              "#46039f"
             ],
             [
              0.2222222222222222,
              "#7201a8"
             ],
             [
              0.3333333333333333,
              "#9c179e"
             ],
             [
              0.4444444444444444,
              "#bd3786"
             ],
             [
              0.5555555555555556,
              "#d8576b"
             ],
             [
              0.6666666666666666,
              "#ed7953"
             ],
             [
              0.7777777777777778,
              "#fb9f3a"
             ],
             [
              0.8888888888888888,
              "#fdca26"
             ],
             [
              1,
              "#f0f921"
             ]
            ],
            "type": "surface"
           }
          ],
          "table": [
           {
            "cells": {
             "fill": {
              "color": "#EBF0F8"
             },
             "line": {
              "color": "white"
             }
            },
            "header": {
             "fill": {
              "color": "#C8D4E3"
             },
             "line": {
              "color": "white"
             }
            },
            "type": "table"
           }
          ]
         },
         "layout": {
          "annotationdefaults": {
           "arrowcolor": "#2a3f5f",
           "arrowhead": 0,
           "arrowwidth": 1
          },
          "autotypenumbers": "strict",
          "coloraxis": {
           "colorbar": {
            "outlinewidth": 0,
            "ticks": ""
           }
          },
          "colorscale": {
           "diverging": [
            [
             0,
             "#8e0152"
            ],
            [
             0.1,
             "#c51b7d"
            ],
            [
             0.2,
             "#de77ae"
            ],
            [
             0.3,
             "#f1b6da"
            ],
            [
             0.4,
             "#fde0ef"
            ],
            [
             0.5,
             "#f7f7f7"
            ],
            [
             0.6,
             "#e6f5d0"
            ],
            [
             0.7,
             "#b8e186"
            ],
            [
             0.8,
             "#7fbc41"
            ],
            [
             0.9,
             "#4d9221"
            ],
            [
             1,
             "#276419"
            ]
           ],
           "sequential": [
            [
             0,
             "#0d0887"
            ],
            [
             0.1111111111111111,
             "#46039f"
            ],
            [
             0.2222222222222222,
             "#7201a8"
            ],
            [
             0.3333333333333333,
             "#9c179e"
            ],
            [
             0.4444444444444444,
             "#bd3786"
            ],
            [
             0.5555555555555556,
             "#d8576b"
            ],
            [
             0.6666666666666666,
             "#ed7953"
            ],
            [
             0.7777777777777778,
             "#fb9f3a"
            ],
            [
             0.8888888888888888,
             "#fdca26"
            ],
            [
             1,
             "#f0f921"
            ]
           ],
           "sequentialminus": [
            [
             0,
             "#0d0887"
            ],
            [
             0.1111111111111111,
             "#46039f"
            ],
            [
             0.2222222222222222,
             "#7201a8"
            ],
            [
             0.3333333333333333,
             "#9c179e"
            ],
            [
             0.4444444444444444,
             "#bd3786"
            ],
            [
             0.5555555555555556,
             "#d8576b"
            ],
            [
             0.6666666666666666,
             "#ed7953"
            ],
            [
             0.7777777777777778,
             "#fb9f3a"
            ],
            [
             0.8888888888888888,
             "#fdca26"
            ],
            [
             1,
             "#f0f921"
            ]
           ]
          },
          "colorway": [
           "#636efa",
           "#EF553B",
           "#00cc96",
           "#ab63fa",
           "#FFA15A",
           "#19d3f3",
           "#FF6692",
           "#B6E880",
           "#FF97FF",
           "#FECB52"
          ],
          "font": {
           "color": "#2a3f5f"
          },
          "geo": {
           "bgcolor": "white",
           "lakecolor": "white",
           "landcolor": "#E5ECF6",
           "showlakes": true,
           "showland": true,
           "subunitcolor": "white"
          },
          "hoverlabel": {
           "align": "left"
          },
          "hovermode": "closest",
          "mapbox": {
           "style": "light"
          },
          "paper_bgcolor": "white",
          "plot_bgcolor": "#E5ECF6",
          "polar": {
           "angularaxis": {
            "gridcolor": "white",
            "linecolor": "white",
            "ticks": ""
           },
           "bgcolor": "#E5ECF6",
           "radialaxis": {
            "gridcolor": "white",
            "linecolor": "white",
            "ticks": ""
           }
          },
          "scene": {
           "xaxis": {
            "backgroundcolor": "#E5ECF6",
            "gridcolor": "white",
            "gridwidth": 2,
            "linecolor": "white",
            "showbackground": true,
            "ticks": "",
            "zerolinecolor": "white"
           },
           "yaxis": {
            "backgroundcolor": "#E5ECF6",
            "gridcolor": "white",
            "gridwidth": 2,
            "linecolor": "white",
            "showbackground": true,
            "ticks": "",
            "zerolinecolor": "white"
           },
           "zaxis": {
            "backgroundcolor": "#E5ECF6",
            "gridcolor": "white",
            "gridwidth": 2,
            "linecolor": "white",
            "showbackground": true,
            "ticks": "",
            "zerolinecolor": "white"
           }
          },
          "shapedefaults": {
           "line": {
            "color": "#2a3f5f"
           }
          },
          "ternary": {
           "aaxis": {
            "gridcolor": "white",
            "linecolor": "white",
            "ticks": ""
           },
           "baxis": {
            "gridcolor": "white",
            "linecolor": "white",
            "ticks": ""
           },
           "bgcolor": "#E5ECF6",
           "caxis": {
            "gridcolor": "white",
            "linecolor": "white",
            "ticks": ""
           }
          },
          "title": {
           "x": 0.05
          },
          "xaxis": {
           "automargin": true,
           "gridcolor": "white",
           "linecolor": "white",
           "ticks": "",
           "title": {
            "standoff": 15
           },
           "zerolinecolor": "white",
           "zerolinewidth": 2
          },
          "yaxis": {
           "automargin": true,
           "gridcolor": "white",
           "linecolor": "white",
           "ticks": "",
           "title": {
            "standoff": 15
           },
           "zerolinecolor": "white",
           "zerolinewidth": 2
          }
         }
        },
        "title": {
         "text": "Vectores en Terreno Agrícola"
        }
       }
      }
     },
     "metadata": {},
     "output_type": "display_data"
    }
   ],
   "source": [
    "import plotly.express as px\n",
    "fig = px.scatter_3d(df, x='x', y='y', z='z', title='Vectores en Terreno Agrícola')\n",
    "fig.show() "
   ]
  },
  {
   "cell_type": "markdown",
   "id": "0c45b218",
   "metadata": {},
   "source": [
    "  \n",
    "- **Analizar superficies:** Convertir puntos en superficies (ej: área de cobertura de riego). "
   ]
  },
  {
   "cell_type": "code",
   "execution_count": 12,
   "id": "b0e04e8c",
   "metadata": {},
   "outputs": [
    {
     "data": {
      "application/vnd.plotly.v1+json": {
       "config": {
        "plotlyServerURL": "https://plot.ly"
       },
       "data": [
        {
         "hovertemplate": "x=%{x}<br>y=%{y}<br>z=%{marker.color}<extra></extra>",
         "legendgroup": "",
         "marker": {
          "color": {
           "bdata": "AAUD",
           "dtype": "i1"
          },
          "coloraxis": "coloraxis",
          "opacity": 0.7,
          "symbol": "circle"
         },
         "mode": "markers",
         "name": "",
         "scene": "scene",
         "showlegend": false,
         "type": "scatter3d",
         "x": {
          "bdata": "AQID",
          "dtype": "i1"
         },
         "y": {
          "bdata": "AwQF",
          "dtype": "i1"
         },
         "z": {
          "bdata": "AAUD",
          "dtype": "i1"
         }
        }
       ],
       "layout": {
        "coloraxis": {
         "colorbar": {
          "title": {
           "text": "z"
          }
         },
         "colorscale": [
          [
           0,
           "#0d0887"
          ],
          [
           0.1111111111111111,
           "#46039f"
          ],
          [
           0.2222222222222222,
           "#7201a8"
          ],
          [
           0.3333333333333333,
           "#9c179e"
          ],
          [
           0.4444444444444444,
           "#bd3786"
          ],
          [
           0.5555555555555556,
           "#d8576b"
          ],
          [
           0.6666666666666666,
           "#ed7953"
          ],
          [
           0.7777777777777778,
           "#fb9f3a"
          ],
          [
           0.8888888888888888,
           "#fdca26"
          ],
          [
           1,
           "#f0f921"
          ]
         ]
        },
        "legend": {
         "tracegroupgap": 0
        },
        "scene": {
         "domain": {
          "x": [
           0,
           1
          ],
          "y": [
           0,
           1
          ]
         },
         "xaxis": {
          "title": {
           "text": "x"
          }
         },
         "yaxis": {
          "title": {
           "text": "y"
          }
         },
         "zaxis": {
          "title": {
           "text": "z"
          }
         }
        },
        "template": {
         "data": {
          "bar": [
           {
            "error_x": {
             "color": "#2a3f5f"
            },
            "error_y": {
             "color": "#2a3f5f"
            },
            "marker": {
             "line": {
              "color": "#E5ECF6",
              "width": 0.5
             },
             "pattern": {
              "fillmode": "overlay",
              "size": 10,
              "solidity": 0.2
             }
            },
            "type": "bar"
           }
          ],
          "barpolar": [
           {
            "marker": {
             "line": {
              "color": "#E5ECF6",
              "width": 0.5
             },
             "pattern": {
              "fillmode": "overlay",
              "size": 10,
              "solidity": 0.2
             }
            },
            "type": "barpolar"
           }
          ],
          "carpet": [
           {
            "aaxis": {
             "endlinecolor": "#2a3f5f",
             "gridcolor": "white",
             "linecolor": "white",
             "minorgridcolor": "white",
             "startlinecolor": "#2a3f5f"
            },
            "baxis": {
             "endlinecolor": "#2a3f5f",
             "gridcolor": "white",
             "linecolor": "white",
             "minorgridcolor": "white",
             "startlinecolor": "#2a3f5f"
            },
            "type": "carpet"
           }
          ],
          "choropleth": [
           {
            "colorbar": {
             "outlinewidth": 0,
             "ticks": ""
            },
            "type": "choropleth"
           }
          ],
          "contour": [
           {
            "colorbar": {
             "outlinewidth": 0,
             "ticks": ""
            },
            "colorscale": [
             [
              0,
              "#0d0887"
             ],
             [
              0.1111111111111111,
              "#46039f"
             ],
             [
              0.2222222222222222,
              "#7201a8"
             ],
             [
              0.3333333333333333,
              "#9c179e"
             ],
             [
              0.4444444444444444,
              "#bd3786"
             ],
             [
              0.5555555555555556,
              "#d8576b"
             ],
             [
              0.6666666666666666,
              "#ed7953"
             ],
             [
              0.7777777777777778,
              "#fb9f3a"
             ],
             [
              0.8888888888888888,
              "#fdca26"
             ],
             [
              1,
              "#f0f921"
             ]
            ],
            "type": "contour"
           }
          ],
          "contourcarpet": [
           {
            "colorbar": {
             "outlinewidth": 0,
             "ticks": ""
            },
            "type": "contourcarpet"
           }
          ],
          "heatmap": [
           {
            "colorbar": {
             "outlinewidth": 0,
             "ticks": ""
            },
            "colorscale": [
             [
              0,
              "#0d0887"
             ],
             [
              0.1111111111111111,
              "#46039f"
             ],
             [
              0.2222222222222222,
              "#7201a8"
             ],
             [
              0.3333333333333333,
              "#9c179e"
             ],
             [
              0.4444444444444444,
              "#bd3786"
             ],
             [
              0.5555555555555556,
              "#d8576b"
             ],
             [
              0.6666666666666666,
              "#ed7953"
             ],
             [
              0.7777777777777778,
              "#fb9f3a"
             ],
             [
              0.8888888888888888,
              "#fdca26"
             ],
             [
              1,
              "#f0f921"
             ]
            ],
            "type": "heatmap"
           }
          ],
          "histogram": [
           {
            "marker": {
             "pattern": {
              "fillmode": "overlay",
              "size": 10,
              "solidity": 0.2
             }
            },
            "type": "histogram"
           }
          ],
          "histogram2d": [
           {
            "colorbar": {
             "outlinewidth": 0,
             "ticks": ""
            },
            "colorscale": [
             [
              0,
              "#0d0887"
             ],
             [
              0.1111111111111111,
              "#46039f"
             ],
             [
              0.2222222222222222,
              "#7201a8"
             ],
             [
              0.3333333333333333,
              "#9c179e"
             ],
             [
              0.4444444444444444,
              "#bd3786"
             ],
             [
              0.5555555555555556,
              "#d8576b"
             ],
             [
              0.6666666666666666,
              "#ed7953"
             ],
             [
              0.7777777777777778,
              "#fb9f3a"
             ],
             [
              0.8888888888888888,
              "#fdca26"
             ],
             [
              1,
              "#f0f921"
             ]
            ],
            "type": "histogram2d"
           }
          ],
          "histogram2dcontour": [
           {
            "colorbar": {
             "outlinewidth": 0,
             "ticks": ""
            },
            "colorscale": [
             [
              0,
              "#0d0887"
             ],
             [
              0.1111111111111111,
              "#46039f"
             ],
             [
              0.2222222222222222,
              "#7201a8"
             ],
             [
              0.3333333333333333,
              "#9c179e"
             ],
             [
              0.4444444444444444,
              "#bd3786"
             ],
             [
              0.5555555555555556,
              "#d8576b"
             ],
             [
              0.6666666666666666,
              "#ed7953"
             ],
             [
              0.7777777777777778,
              "#fb9f3a"
             ],
             [
              0.8888888888888888,
              "#fdca26"
             ],
             [
              1,
              "#f0f921"
             ]
            ],
            "type": "histogram2dcontour"
           }
          ],
          "mesh3d": [
           {
            "colorbar": {
             "outlinewidth": 0,
             "ticks": ""
            },
            "type": "mesh3d"
           }
          ],
          "parcoords": [
           {
            "line": {
             "colorbar": {
              "outlinewidth": 0,
              "ticks": ""
             }
            },
            "type": "parcoords"
           }
          ],
          "pie": [
           {
            "automargin": true,
            "type": "pie"
           }
          ],
          "scatter": [
           {
            "fillpattern": {
             "fillmode": "overlay",
             "size": 10,
             "solidity": 0.2
            },
            "type": "scatter"
           }
          ],
          "scatter3d": [
           {
            "line": {
             "colorbar": {
              "outlinewidth": 0,
              "ticks": ""
             }
            },
            "marker": {
             "colorbar": {
              "outlinewidth": 0,
              "ticks": ""
             }
            },
            "type": "scatter3d"
           }
          ],
          "scattercarpet": [
           {
            "marker": {
             "colorbar": {
              "outlinewidth": 0,
              "ticks": ""
             }
            },
            "type": "scattercarpet"
           }
          ],
          "scattergeo": [
           {
            "marker": {
             "colorbar": {
              "outlinewidth": 0,
              "ticks": ""
             }
            },
            "type": "scattergeo"
           }
          ],
          "scattergl": [
           {
            "marker": {
             "colorbar": {
              "outlinewidth": 0,
              "ticks": ""
             }
            },
            "type": "scattergl"
           }
          ],
          "scattermap": [
           {
            "marker": {
             "colorbar": {
              "outlinewidth": 0,
              "ticks": ""
             }
            },
            "type": "scattermap"
           }
          ],
          "scattermapbox": [
           {
            "marker": {
             "colorbar": {
              "outlinewidth": 0,
              "ticks": ""
             }
            },
            "type": "scattermapbox"
           }
          ],
          "scatterpolar": [
           {
            "marker": {
             "colorbar": {
              "outlinewidth": 0,
              "ticks": ""
             }
            },
            "type": "scatterpolar"
           }
          ],
          "scatterpolargl": [
           {
            "marker": {
             "colorbar": {
              "outlinewidth": 0,
              "ticks": ""
             }
            },
            "type": "scatterpolargl"
           }
          ],
          "scatterternary": [
           {
            "marker": {
             "colorbar": {
              "outlinewidth": 0,
              "ticks": ""
             }
            },
            "type": "scatterternary"
           }
          ],
          "surface": [
           {
            "colorbar": {
             "outlinewidth": 0,
             "ticks": ""
            },
            "colorscale": [
             [
              0,
              "#0d0887"
             ],
             [
              0.1111111111111111,
              "#46039f"
             ],
             [
              0.2222222222222222,
              "#7201a8"
             ],
             [
              0.3333333333333333,
              "#9c179e"
             ],
             [
              0.4444444444444444,
              "#bd3786"
             ],
             [
              0.5555555555555556,
              "#d8576b"
             ],
             [
              0.6666666666666666,
              "#ed7953"
             ],
             [
              0.7777777777777778,
              "#fb9f3a"
             ],
             [
              0.8888888888888888,
              "#fdca26"
             ],
             [
              1,
              "#f0f921"
             ]
            ],
            "type": "surface"
           }
          ],
          "table": [
           {
            "cells": {
             "fill": {
              "color": "#EBF0F8"
             },
             "line": {
              "color": "white"
             }
            },
            "header": {
             "fill": {
              "color": "#C8D4E3"
             },
             "line": {
              "color": "white"
             }
            },
            "type": "table"
           }
          ]
         },
         "layout": {
          "annotationdefaults": {
           "arrowcolor": "#2a3f5f",
           "arrowhead": 0,
           "arrowwidth": 1
          },
          "autotypenumbers": "strict",
          "coloraxis": {
           "colorbar": {
            "outlinewidth": 0,
            "ticks": ""
           }
          },
          "colorscale": {
           "diverging": [
            [
             0,
             "#8e0152"
            ],
            [
             0.1,
             "#c51b7d"
            ],
            [
             0.2,
             "#de77ae"
            ],
            [
             0.3,
             "#f1b6da"
            ],
            [
             0.4,
             "#fde0ef"
            ],
            [
             0.5,
             "#f7f7f7"
            ],
            [
             0.6,
             "#e6f5d0"
            ],
            [
             0.7,
             "#b8e186"
            ],
            [
             0.8,
             "#7fbc41"
            ],
            [
             0.9,
             "#4d9221"
            ],
            [
             1,
             "#276419"
            ]
           ],
           "sequential": [
            [
             0,
             "#0d0887"
            ],
            [
             0.1111111111111111,
             "#46039f"
            ],
            [
             0.2222222222222222,
             "#7201a8"
            ],
            [
             0.3333333333333333,
             "#9c179e"
            ],
            [
             0.4444444444444444,
             "#bd3786"
            ],
            [
             0.5555555555555556,
             "#d8576b"
            ],
            [
             0.6666666666666666,
             "#ed7953"
            ],
            [
             0.7777777777777778,
             "#fb9f3a"
            ],
            [
             0.8888888888888888,
             "#fdca26"
            ],
            [
             1,
             "#f0f921"
            ]
           ],
           "sequentialminus": [
            [
             0,
             "#0d0887"
            ],
            [
             0.1111111111111111,
             "#46039f"
            ],
            [
             0.2222222222222222,
             "#7201a8"
            ],
            [
             0.3333333333333333,
             "#9c179e"
            ],
            [
             0.4444444444444444,
             "#bd3786"
            ],
            [
             0.5555555555555556,
             "#d8576b"
            ],
            [
             0.6666666666666666,
             "#ed7953"
            ],
            [
             0.7777777777777778,
             "#fb9f3a"
            ],
            [
             0.8888888888888888,
             "#fdca26"
            ],
            [
             1,
             "#f0f921"
            ]
           ]
          },
          "colorway": [
           "#636efa",
           "#EF553B",
           "#00cc96",
           "#ab63fa",
           "#FFA15A",
           "#19d3f3",
           "#FF6692",
           "#B6E880",
           "#FF97FF",
           "#FECB52"
          ],
          "font": {
           "color": "#2a3f5f"
          },
          "geo": {
           "bgcolor": "white",
           "lakecolor": "white",
           "landcolor": "#E5ECF6",
           "showlakes": true,
           "showland": true,
           "subunitcolor": "white"
          },
          "hoverlabel": {
           "align": "left"
          },
          "hovermode": "closest",
          "mapbox": {
           "style": "light"
          },
          "paper_bgcolor": "white",
          "plot_bgcolor": "#E5ECF6",
          "polar": {
           "angularaxis": {
            "gridcolor": "white",
            "linecolor": "white",
            "ticks": ""
           },
           "bgcolor": "#E5ECF6",
           "radialaxis": {
            "gridcolor": "white",
            "linecolor": "white",
            "ticks": ""
           }
          },
          "scene": {
           "xaxis": {
            "backgroundcolor": "#E5ECF6",
            "gridcolor": "white",
            "gridwidth": 2,
            "linecolor": "white",
            "showbackground": true,
            "ticks": "",
            "zerolinecolor": "white"
           },
           "yaxis": {
            "backgroundcolor": "#E5ECF6",
            "gridcolor": "white",
            "gridwidth": 2,
            "linecolor": "white",
            "showbackground": true,
            "ticks": "",
            "zerolinecolor": "white"
           },
           "zaxis": {
            "backgroundcolor": "#E5ECF6",
            "gridcolor": "white",
            "gridwidth": 2,
            "linecolor": "white",
            "showbackground": true,
            "ticks": "",
            "zerolinecolor": "white"
           }
          },
          "shapedefaults": {
           "line": {
            "color": "#2a3f5f"
           }
          },
          "ternary": {
           "aaxis": {
            "gridcolor": "white",
            "linecolor": "white",
            "ticks": ""
           },
           "baxis": {
            "gridcolor": "white",
            "linecolor": "white",
            "ticks": ""
           },
           "bgcolor": "#E5ECF6",
           "caxis": {
            "gridcolor": "white",
            "linecolor": "white",
            "ticks": ""
           }
          },
          "title": {
           "x": 0.05
          },
          "xaxis": {
           "automargin": true,
           "gridcolor": "white",
           "linecolor": "white",
           "ticks": "",
           "title": {
            "standoff": 15
           },
           "zerolinecolor": "white",
           "zerolinewidth": 2
          },
          "yaxis": {
           "automargin": true,
           "gridcolor": "white",
           "linecolor": "white",
           "ticks": "",
           "title": {
            "standoff": 15
           },
           "zerolinecolor": "white",
           "zerolinewidth": 2
          }
         }
        },
        "title": {
         "text": "Mapa de Alturas en Terreno Agrícola"
        }
       }
      }
     },
     "metadata": {},
     "output_type": "display_data"
    }
   ],
   "source": [
    " \n",
    "fig = px.scatter_3d(df, x='x', y='y', z='z', size_max=10, opacity=0.7, \n",
    "                      color='z', title='Mapa de Alturas en Terreno Agrícola')\n",
    "    \n",
    "fig.show() \n",
    "\n"
   ]
  },
  {
   "cell_type": "markdown",
   "id": "05b7bd43",
   "metadata": {},
   "source": [
    "\n",
    "### **Ejemplo Práctico Adaptado al Bajo Cauca**  \n",
    "**Problema real:** *\"Visualizar la altura del agua en dos pozos de riego durante una sequía\"*."
   ]
  },
  {
   "cell_type": "code",
   "execution_count": 13,
   "id": "a3725eba",
   "metadata": {},
   "outputs": [
    {
     "data": {
      "application/vnd.plotly.v1+json": {
       "config": {
        "plotlyServerURL": "https://plot.ly"
       },
       "data": [
        {
         "hovertemplate": "Este (m)=%{x}<br>Norte (m)=%{y}<br>Nivel (m)=%{z}<extra></extra>",
         "legendgroup": "",
         "marker": {
          "color": "#636efa",
          "symbol": "circle"
         },
         "mode": "markers",
         "name": "",
         "scene": "scene",
         "showlegend": false,
         "type": "scatter3d",
         "x": {
          "bdata": "eACWAA==",
          "dtype": "i2"
         },
         "y": {
          "bdata": "UGQ=",
          "dtype": "i1"
         },
         "z": {
          "bdata": "AAAAAAAAAEAAAAAAAADgPw==",
          "dtype": "f8"
         }
        }
       ],
       "layout": {
        "legend": {
         "tracegroupgap": 0
        },
        "scene": {
         "domain": {
          "x": [
           0,
           1
          ],
          "y": [
           0,
           1
          ]
         },
         "xaxis": {
          "title": {
           "text": "Este (m)"
          }
         },
         "yaxis": {
          "title": {
           "text": "Norte (m)"
          }
         },
         "zaxis": {
          "title": {
           "text": "Nivel (m)"
          }
         }
        },
        "template": {
         "data": {
          "bar": [
           {
            "error_x": {
             "color": "#2a3f5f"
            },
            "error_y": {
             "color": "#2a3f5f"
            },
            "marker": {
             "line": {
              "color": "#E5ECF6",
              "width": 0.5
             },
             "pattern": {
              "fillmode": "overlay",
              "size": 10,
              "solidity": 0.2
             }
            },
            "type": "bar"
           }
          ],
          "barpolar": [
           {
            "marker": {
             "line": {
              "color": "#E5ECF6",
              "width": 0.5
             },
             "pattern": {
              "fillmode": "overlay",
              "size": 10,
              "solidity": 0.2
             }
            },
            "type": "barpolar"
           }
          ],
          "carpet": [
           {
            "aaxis": {
             "endlinecolor": "#2a3f5f",
             "gridcolor": "white",
             "linecolor": "white",
             "minorgridcolor": "white",
             "startlinecolor": "#2a3f5f"
            },
            "baxis": {
             "endlinecolor": "#2a3f5f",
             "gridcolor": "white",
             "linecolor": "white",
             "minorgridcolor": "white",
             "startlinecolor": "#2a3f5f"
            },
            "type": "carpet"
           }
          ],
          "choropleth": [
           {
            "colorbar": {
             "outlinewidth": 0,
             "ticks": ""
            },
            "type": "choropleth"
           }
          ],
          "contour": [
           {
            "colorbar": {
             "outlinewidth": 0,
             "ticks": ""
            },
            "colorscale": [
             [
              0,
              "#0d0887"
             ],
             [
              0.1111111111111111,
              "#46039f"
             ],
             [
              0.2222222222222222,
              "#7201a8"
             ],
             [
              0.3333333333333333,
              "#9c179e"
             ],
             [
              0.4444444444444444,
              "#bd3786"
             ],
             [
              0.5555555555555556,
              "#d8576b"
             ],
             [
              0.6666666666666666,
              "#ed7953"
             ],
             [
              0.7777777777777778,
              "#fb9f3a"
             ],
             [
              0.8888888888888888,
              "#fdca26"
             ],
             [
              1,
              "#f0f921"
             ]
            ],
            "type": "contour"
           }
          ],
          "contourcarpet": [
           {
            "colorbar": {
             "outlinewidth": 0,
             "ticks": ""
            },
            "type": "contourcarpet"
           }
          ],
          "heatmap": [
           {
            "colorbar": {
             "outlinewidth": 0,
             "ticks": ""
            },
            "colorscale": [
             [
              0,
              "#0d0887"
             ],
             [
              0.1111111111111111,
              "#46039f"
             ],
             [
              0.2222222222222222,
              "#7201a8"
             ],
             [
              0.3333333333333333,
              "#9c179e"
             ],
             [
              0.4444444444444444,
              "#bd3786"
             ],
             [
              0.5555555555555556,
              "#d8576b"
             ],
             [
              0.6666666666666666,
              "#ed7953"
             ],
             [
              0.7777777777777778,
              "#fb9f3a"
             ],
             [
              0.8888888888888888,
              "#fdca26"
             ],
             [
              1,
              "#f0f921"
             ]
            ],
            "type": "heatmap"
           }
          ],
          "histogram": [
           {
            "marker": {
             "pattern": {
              "fillmode": "overlay",
              "size": 10,
              "solidity": 0.2
             }
            },
            "type": "histogram"
           }
          ],
          "histogram2d": [
           {
            "colorbar": {
             "outlinewidth": 0,
             "ticks": ""
            },
            "colorscale": [
             [
              0,
              "#0d0887"
             ],
             [
              0.1111111111111111,
              "#46039f"
             ],
             [
              0.2222222222222222,
              "#7201a8"
             ],
             [
              0.3333333333333333,
              "#9c179e"
             ],
             [
              0.4444444444444444,
              "#bd3786"
             ],
             [
              0.5555555555555556,
              "#d8576b"
             ],
             [
              0.6666666666666666,
              "#ed7953"
             ],
             [
              0.7777777777777778,
              "#fb9f3a"
             ],
             [
              0.8888888888888888,
              "#fdca26"
             ],
             [
              1,
              "#f0f921"
             ]
            ],
            "type": "histogram2d"
           }
          ],
          "histogram2dcontour": [
           {
            "colorbar": {
             "outlinewidth": 0,
             "ticks": ""
            },
            "colorscale": [
             [
              0,
              "#0d0887"
             ],
             [
              0.1111111111111111,
              "#46039f"
             ],
             [
              0.2222222222222222,
              "#7201a8"
             ],
             [
              0.3333333333333333,
              "#9c179e"
             ],
             [
              0.4444444444444444,
              "#bd3786"
             ],
             [
              0.5555555555555556,
              "#d8576b"
             ],
             [
              0.6666666666666666,
              "#ed7953"
             ],
             [
              0.7777777777777778,
              "#fb9f3a"
             ],
             [
              0.8888888888888888,
              "#fdca26"
             ],
             [
              1,
              "#f0f921"
             ]
            ],
            "type": "histogram2dcontour"
           }
          ],
          "mesh3d": [
           {
            "colorbar": {
             "outlinewidth": 0,
             "ticks": ""
            },
            "type": "mesh3d"
           }
          ],
          "parcoords": [
           {
            "line": {
             "colorbar": {
              "outlinewidth": 0,
              "ticks": ""
             }
            },
            "type": "parcoords"
           }
          ],
          "pie": [
           {
            "automargin": true,
            "type": "pie"
           }
          ],
          "scatter": [
           {
            "fillpattern": {
             "fillmode": "overlay",
             "size": 10,
             "solidity": 0.2
            },
            "type": "scatter"
           }
          ],
          "scatter3d": [
           {
            "line": {
             "colorbar": {
              "outlinewidth": 0,
              "ticks": ""
             }
            },
            "marker": {
             "colorbar": {
              "outlinewidth": 0,
              "ticks": ""
             }
            },
            "type": "scatter3d"
           }
          ],
          "scattercarpet": [
           {
            "marker": {
             "colorbar": {
              "outlinewidth": 0,
              "ticks": ""
             }
            },
            "type": "scattercarpet"
           }
          ],
          "scattergeo": [
           {
            "marker": {
             "colorbar": {
              "outlinewidth": 0,
              "ticks": ""
             }
            },
            "type": "scattergeo"
           }
          ],
          "scattergl": [
           {
            "marker": {
             "colorbar": {
              "outlinewidth": 0,
              "ticks": ""
             }
            },
            "type": "scattergl"
           }
          ],
          "scattermap": [
           {
            "marker": {
             "colorbar": {
              "outlinewidth": 0,
              "ticks": ""
             }
            },
            "type": "scattermap"
           }
          ],
          "scattermapbox": [
           {
            "marker": {
             "colorbar": {
              "outlinewidth": 0,
              "ticks": ""
             }
            },
            "type": "scattermapbox"
           }
          ],
          "scatterpolar": [
           {
            "marker": {
             "colorbar": {
              "outlinewidth": 0,
              "ticks": ""
             }
            },
            "type": "scatterpolar"
           }
          ],
          "scatterpolargl": [
           {
            "marker": {
             "colorbar": {
              "outlinewidth": 0,
              "ticks": ""
             }
            },
            "type": "scatterpolargl"
           }
          ],
          "scatterternary": [
           {
            "marker": {
             "colorbar": {
              "outlinewidth": 0,
              "ticks": ""
             }
            },
            "type": "scatterternary"
           }
          ],
          "surface": [
           {
            "colorbar": {
             "outlinewidth": 0,
             "ticks": ""
            },
            "colorscale": [
             [
              0,
              "#0d0887"
             ],
             [
              0.1111111111111111,
              "#46039f"
             ],
             [
              0.2222222222222222,
              "#7201a8"
             ],
             [
              0.3333333333333333,
              "#9c179e"
             ],
             [
              0.4444444444444444,
              "#bd3786"
             ],
             [
              0.5555555555555556,
              "#d8576b"
             ],
             [
              0.6666666666666666,
              "#ed7953"
             ],
             [
              0.7777777777777778,
              "#fb9f3a"
             ],
             [
              0.8888888888888888,
              "#fdca26"
             ],
             [
              1,
              "#f0f921"
             ]
            ],
            "type": "surface"
           }
          ],
          "table": [
           {
            "cells": {
             "fill": {
              "color": "#EBF0F8"
             },
             "line": {
              "color": "white"
             }
            },
            "header": {
             "fill": {
              "color": "#C8D4E3"
             },
             "line": {
              "color": "white"
             }
            },
            "type": "table"
           }
          ]
         },
         "layout": {
          "annotationdefaults": {
           "arrowcolor": "#2a3f5f",
           "arrowhead": 0,
           "arrowwidth": 1
          },
          "autotypenumbers": "strict",
          "coloraxis": {
           "colorbar": {
            "outlinewidth": 0,
            "ticks": ""
           }
          },
          "colorscale": {
           "diverging": [
            [
             0,
             "#8e0152"
            ],
            [
             0.1,
             "#c51b7d"
            ],
            [
             0.2,
             "#de77ae"
            ],
            [
             0.3,
             "#f1b6da"
            ],
            [
             0.4,
             "#fde0ef"
            ],
            [
             0.5,
             "#f7f7f7"
            ],
            [
             0.6,
             "#e6f5d0"
            ],
            [
             0.7,
             "#b8e186"
            ],
            [
             0.8,
             "#7fbc41"
            ],
            [
             0.9,
             "#4d9221"
            ],
            [
             1,
             "#276419"
            ]
           ],
           "sequential": [
            [
             0,
             "#0d0887"
            ],
            [
             0.1111111111111111,
             "#46039f"
            ],
            [
             0.2222222222222222,
             "#7201a8"
            ],
            [
             0.3333333333333333,
             "#9c179e"
            ],
            [
             0.4444444444444444,
             "#bd3786"
            ],
            [
             0.5555555555555556,
             "#d8576b"
            ],
            [
             0.6666666666666666,
             "#ed7953"
            ],
            [
             0.7777777777777778,
             "#fb9f3a"
            ],
            [
             0.8888888888888888,
             "#fdca26"
            ],
            [
             1,
             "#f0f921"
            ]
           ],
           "sequentialminus": [
            [
             0,
             "#0d0887"
            ],
            [
             0.1111111111111111,
             "#46039f"
            ],
            [
             0.2222222222222222,
             "#7201a8"
            ],
            [
             0.3333333333333333,
             "#9c179e"
            ],
            [
             0.4444444444444444,
             "#bd3786"
            ],
            [
             0.5555555555555556,
             "#d8576b"
            ],
            [
             0.6666666666666666,
             "#ed7953"
            ],
            [
             0.7777777777777778,
             "#fb9f3a"
            ],
            [
             0.8888888888888888,
             "#fdca26"
            ],
            [
             1,
             "#f0f921"
            ]
           ]
          },
          "colorway": [
           "#636efa",
           "#EF553B",
           "#00cc96",
           "#ab63fa",
           "#FFA15A",
           "#19d3f3",
           "#FF6692",
           "#B6E880",
           "#FF97FF",
           "#FECB52"
          ],
          "font": {
           "color": "#2a3f5f"
          },
          "geo": {
           "bgcolor": "white",
           "lakecolor": "white",
           "landcolor": "#E5ECF6",
           "showlakes": true,
           "showland": true,
           "subunitcolor": "white"
          },
          "hoverlabel": {
           "align": "left"
          },
          "hovermode": "closest",
          "mapbox": {
           "style": "light"
          },
          "paper_bgcolor": "white",
          "plot_bgcolor": "#E5ECF6",
          "polar": {
           "angularaxis": {
            "gridcolor": "white",
            "linecolor": "white",
            "ticks": ""
           },
           "bgcolor": "#E5ECF6",
           "radialaxis": {
            "gridcolor": "white",
            "linecolor": "white",
            "ticks": ""
           }
          },
          "scene": {
           "xaxis": {
            "backgroundcolor": "#E5ECF6",
            "gridcolor": "white",
            "gridwidth": 2,
            "linecolor": "white",
            "showbackground": true,
            "ticks": "",
            "zerolinecolor": "white"
           },
           "yaxis": {
            "backgroundcolor": "#E5ECF6",
            "gridcolor": "white",
            "gridwidth": 2,
            "linecolor": "white",
            "showbackground": true,
            "ticks": "",
            "zerolinecolor": "white"
           },
           "zaxis": {
            "backgroundcolor": "#E5ECF6",
            "gridcolor": "white",
            "gridwidth": 2,
            "linecolor": "white",
            "showbackground": true,
            "ticks": "",
            "zerolinecolor": "white"
           }
          },
          "shapedefaults": {
           "line": {
            "color": "#2a3f5f"
           }
          },
          "ternary": {
           "aaxis": {
            "gridcolor": "white",
            "linecolor": "white",
            "ticks": ""
           },
           "baxis": {
            "gridcolor": "white",
            "linecolor": "white",
            "ticks": ""
           },
           "bgcolor": "#E5ECF6",
           "caxis": {
            "gridcolor": "white",
            "linecolor": "white",
            "ticks": ""
           }
          },
          "title": {
           "x": 0.05
          },
          "xaxis": {
           "automargin": true,
           "gridcolor": "white",
           "linecolor": "white",
           "ticks": "",
           "title": {
            "standoff": 15
           },
           "zerolinecolor": "white",
           "zerolinewidth": 2
          },
          "yaxis": {
           "automargin": true,
           "gridcolor": "white",
           "linecolor": "white",
           "ticks": "",
           "title": {
            "standoff": 15
           },
           "zerolinecolor": "white",
           "zerolinewidth": 2
          }
         }
        },
        "title": {
         "text": "Monitoreo de Niveles de Agua en Pozos"
        }
       }
      }
     },
     "metadata": {},
     "output_type": "display_data"
    }
   ],
   "source": [
    "  \n",
    "df = pd.DataFrame({\n",
    "    'x': [120, 150],  # Posición en metros (coordenada este)\n",
    "    'y': [80, 100],   # Posición en metros (coordenada norte)\n",
    "    'z': [2, 0.5]     # Nivel de agua (metros)\n",
    "})\n",
    "fig = px.scatter_3d(df, x='x', y='y', z='z', \n",
    "                    title='Monitoreo de Niveles de Agua en Pozos',\n",
    "                    labels={'z': 'Nivel (m)', 'x': 'Este (m)', 'y': 'Norte (m)'})\n",
    "fig.show()\n",
    " "
   ]
  },
  {
   "cell_type": "markdown",
   "id": "5be66f69",
   "metadata": {},
   "source": [
    " \n",
    "**Discusión en clase:**  \n",
    "- ¿Cómo afecta la diferencia de altura (`z`) al diseño de un sistema de bombeo?  \n",
    "- ¿Qué vectores representarían la fuerza necesaria para mover agua entre pozos?  \n",
    "\n",
    "---\n"
   ]
  },
  {
   "cell_type": "markdown",
   "id": "3927a5aa",
   "metadata": {},
   "source": [
    "\n",
    "### **Conclusión Didáctica**  \n",
    "Este código **no es solo un gráfico**, es una **herramienta de pensamiento espacial** que:  \n",
    "1. **Concretiza** vectores 3D en problemas agrarios.  \n",
    "2. **Fomenta preguntas** sobre optimización de recursos.  \n",
    "3. **Prepara** para usar Python en análisis geoespaciales avanzados (ej: QGIS, drones).  \n",
    "\n",
    "¿Quieres profundizar en cómo vincularlo con algún tema específico del currículo? \n"
   ]
  },
  {
   "cell_type": "markdown",
   "id": "3e677033",
   "metadata": {},
   "source": [
    "La **intención didáctica** de esta actividad en Jupyter Notebook es lograr que los estudiantes:\n",
    "\n",
    "### **1. Visualización Concreta de Vectores 3D en Contextos Agrarios**  \n",
    "- **Objetivo:** Transformar conceptos abstractos (vectores 3D) en representaciones tangibles vinculadas a problemas reales del agro (ej: topografía, diseño de riego).  \n",
    "- **Mecanismo:** Usar `plotly.express` para crear gráficos 3D interactivos que muestren vectores como puntos en un espacio tridimensional, simulando:  \n",
    "  - Coordenadas de terreno (`x`, `y` = posición horizontal; `z` = altura o pendiente).  \n",
    "  - Trayectorias de maquinaria agrícola o flujo de agua.  \n",
    "\n",
    "### **2. Integración de Herramientas Computacionales en la Solución de Problemas**  \n",
    "- **Habilidad desarrollada:** Uso de Python (librerías como Pandas y Plotly) para procesar y visualizar datos espaciales relevantes en ingeniería agropecuaria.  \n",
    "- **ABPP (Aprendizaje Basado en Problemas y Proyectos):**  \n",
    "  - Los datos en el DataFrame (`df`) pueden ser reemplazados por mediciones reales de un terreno (ej: altimetrías del Bajo Cauca).  \n",
    "  - Extensión natural: Añadir más puntos para modelar curvas de nivel o rutas de siembra.  \n",
    "\n",
    "### **3. Puente entre Álgebra Vectorial y Aplicaciones Prácticas**  \n",
    "- **Relación con la teoría:**  \n",
    "  - Las columnas `[x, y, z]` representan las componentes de vectores (ej: dirección de surcos, fuerza de vientos).  \n",
    "  - **Extensión conceptual:** "
   ]
  },
  {
   "cell_type": "code",
   "execution_count": 20,
   "id": "75cd8656",
   "metadata": {},
   "outputs": [],
   "source": [
    " \n",
    "\n",
    "# Calcular la norma (magnitud) del vector\n",
    "df['magnitud'] = np.sqrt(df['x']**2 + df['y']**2 + df['z']**2)\n",
    "    "
   ]
  },
  {
   "cell_type": "code",
   "execution_count": 21,
   "id": "572dfcce",
   "metadata": {},
   "outputs": [
    {
     "data": {
      "application/vnd.microsoft.datawrangler.viewer.v0+json": {
       "columns": [
        {
         "name": "index",
         "rawType": "int64",
         "type": "integer"
        },
        {
         "name": "x",
         "rawType": "int64",
         "type": "integer"
        },
        {
         "name": "y",
         "rawType": "int64",
         "type": "integer"
        },
        {
         "name": "z",
         "rawType": "float64",
         "type": "float"
        },
        {
         "name": "magnitud",
         "rawType": "float64",
         "type": "float"
        }
       ],
       "conversionMethod": "pd.DataFrame",
       "ref": "7ea5e2ac-11f4-4072-ac6e-d6d2dcafaa58",
       "rows": [
        [
         "0",
         "120",
         "80",
         "2.0",
         "144.23591785682234"
        ],
        [
         "1",
         "150",
         "100",
         "0.5",
         "180.27825714711133"
        ]
       ],
       "shape": {
        "columns": 4,
        "rows": 2
       }
      },
      "text/html": [
       "<div>\n",
       "<style scoped>\n",
       "    .dataframe tbody tr th:only-of-type {\n",
       "        vertical-align: middle;\n",
       "    }\n",
       "\n",
       "    .dataframe tbody tr th {\n",
       "        vertical-align: top;\n",
       "    }\n",
       "\n",
       "    .dataframe thead th {\n",
       "        text-align: right;\n",
       "    }\n",
       "</style>\n",
       "<table border=\"1\" class=\"dataframe\">\n",
       "  <thead>\n",
       "    <tr style=\"text-align: right;\">\n",
       "      <th></th>\n",
       "      <th>x</th>\n",
       "      <th>y</th>\n",
       "      <th>z</th>\n",
       "      <th>magnitud</th>\n",
       "    </tr>\n",
       "  </thead>\n",
       "  <tbody>\n",
       "    <tr>\n",
       "      <th>0</th>\n",
       "      <td>120</td>\n",
       "      <td>80</td>\n",
       "      <td>2.0</td>\n",
       "      <td>144.235918</td>\n",
       "    </tr>\n",
       "    <tr>\n",
       "      <th>1</th>\n",
       "      <td>150</td>\n",
       "      <td>100</td>\n",
       "      <td>0.5</td>\n",
       "      <td>180.278257</td>\n",
       "    </tr>\n",
       "  </tbody>\n",
       "</table>\n",
       "</div>"
      ],
      "text/plain": [
       "     x    y    z    magnitud\n",
       "0  120   80  2.0  144.235918\n",
       "1  150  100  0.5  180.278257"
      ]
     },
     "execution_count": 21,
     "metadata": {},
     "output_type": "execute_result"
    }
   ],
   "source": [
    "df"
   ]
  },
  {
   "cell_type": "markdown",
   "id": "eca7a262",
   "metadata": {},
   "source": [
    "  \n",
    "    Esto conecta con la fórmula $||\\vec{v}|| = \\sqrt{x^2 + y^2 + z^2}$ vista en clase.  \n"
   ]
  },
  {
   "cell_type": "markdown",
   "id": "08ce0ed2",
   "metadata": {},
   "source": [
    "\n",
    "### **4. Fomento de la Experimentación**  \n",
    "- **STEAM (Enfoque interdisciplinar):**  \n",
    "  - **Ciencia:** Análisis de datos espaciales.  \n",
    "  - **Tecnología:** Uso de Python/Jupyter.  \n",
    "  - **Arte:** Diseño de visualizaciones claras y estéticas.  \n",
    "- **Invita a modificar el código:**  \n",
    "  - Cambiar valores para simular diferentes escenarios (ej: `z = [0, -5]` para pendientes negativas).  \n",
    "  - Añadir animaciones con `sliders` para mostrar cambios dinámicos (uso de recursos hídricos).  \n"
   ]
  },
  {
   "cell_type": "markdown",
   "id": "cc9e04b9",
   "metadata": {},
   "source": [
    "\n",
    "### **5. Preparación para Proyectos Complejos**  \n",
    "- **Base para proyectos evaluativos:**  \n",
    "  - Ejemplo: *\"Usen este código como base para modelar el área de influencia de un sistema de riego por aspersión en 3D\"*.  \n",
    "  - Conexión con otros temas: Superficies cuádricas (elipsoides para silos) o cálculo de ángulos entre vectores (orientación de paneles solares).  \n"
   ]
  },
  {
   "cell_type": "markdown",
   "id": "227b4ba6",
   "metadata": {},
   "source": [
    "\n",
    "### **Ejemplo de Ampliación Didáctica:**  \n"
   ]
  },
  {
   "cell_type": "code",
   "execution_count": 24,
   "id": "e849bdcd",
   "metadata": {},
   "outputs": [
    {
     "data": {
      "application/vnd.jupyter.widget-view+json": {
       "model_id": "d5345a4948de41ad9cb352b95060808c",
       "version_major": 2,
       "version_minor": 0
      },
      "text/plain": [
       "interactive(children=(IntSlider(value=5, description='x1', max=10), IntSlider(value=5, description='y1', max=1…"
      ]
     },
     "metadata": {},
     "output_type": "display_data"
    },
    {
     "data": {
      "text/plain": [
       "<function __main__.<lambda>(x1, y1, z1)>"
      ]
     },
     "execution_count": 24,
     "metadata": {},
     "output_type": "execute_result"
    }
   ],
   "source": [
    "\n",
    "# Añadir interactividad con ipywidgets\n",
    "widgets.interact(lambda x1, y1, z1: px.scatter_3d(\n",
    "        pd.DataFrame({'x': [x1, 2], 'y': [y1, 4], 'z': [z1, 5]}), \n",
    "        title='Ajuste Manual de Vectores').show(),\n",
    "    x1=(0, 10), y1=(0, 10), z1=(0, 10))\n",
    "\n"
   ]
  },
  {
   "cell_type": "markdown",
   "id": "4f9870f7",
   "metadata": {},
   "source": [
    "**Intención:** Permitir que los estudiantes exploren cómo cambian las configuraciones espaciales al modificar parámetros.  \n"
   ]
  },
  {
   "cell_type": "markdown",
   "id": "4f8eb6f1",
   "metadata": {},
   "source": [
    "\n",
    "---  \n",
    "### **Conclusión**  \n",
    "Esta actividad no solo enseña vectores 3D, sino que:  \n",
    "1. **Contextualiza** las matemáticas en el agro.  \n",
    "2. **Desarrolla** habilidades digitales críticas para ingenieros agrónomos modernos.  \n",
    "3. **Motiva** mediante la creación de soluciones visuales e interactivas.  \n",
    "\n",
    "¿Quieres ajustar la actividad para enfatizar otro aspecto específico? "
   ]
  },
  {
   "cell_type": "markdown",
   "id": "bb584a9b",
   "metadata": {},
   "source": [
    "\n",
    "---\n",
    "\n",
    "## **7. Canción/Poema**  \n",
    "*\"Con vectores y Python, el agro es emoción,  \n",
    "midiendo surcos y altura, con matemática pura.  \n",
    "¡Oh, vector tridimensional, tu poder es fenomenal!\"*  \n",
    "\n",
    "---\n"
   ]
  },
  {
   "cell_type": "markdown",
   "id": "eb9f34d6",
   "metadata": {},
   "source": [
    "\n",
    "## **8. Tareas**  \n",
    "- **Ejercicio:** Usar `ipywidgets` para crear un slider que ajuste la dirección de un vector de riego:"
   ]
  },
  {
   "cell_type": "code",
   "execution_count": 29,
   "id": "0b0b21c8",
   "metadata": {},
   "outputs": [
    {
     "data": {
      "application/vnd.jupyter.widget-view+json": {
       "model_id": "73d7a0615f4e497cb31f6df61227f328",
       "version_major": 2,
       "version_minor": 0
      },
      "text/plain": [
       "interactive(children=(FloatSlider(value=3.141592653589793, description='angle', max=6.283185307179586), Output…"
      ]
     },
     "metadata": {},
     "output_type": "display_data"
    },
    {
     "data": {
      "text/plain": [
       "<function __main__.plot_vector(angle)>"
      ]
     },
     "execution_count": 29,
     "metadata": {},
     "output_type": "execute_result"
    }
   ],
   "source": [
    "  \n",
    "import plotly.express as px\n",
    "import numpy as np\n",
    "import matplotlib.pyplot as plt\n",
    "import ipywidgets as widgets\n",
    "\n",
    "def plot_vector(angle):\n",
    "    plt.quiver(0, 0, np.cos(angle), np.sin(angle))\n",
    "widgets.interact(plot_vector, angle=(0, 2*np.pi))\n",
    "\n",
    "\n",
    "\n"
   ]
  },
  {
   "cell_type": "markdown",
   "id": "ef0fc2bc",
   "metadata": {},
   "source": [
    "\n",
    "## **9. Evaluación**  \n",
    "### **Proyectos:**  \n",
    "1. **Modelo 3D de un silo con control térmico** (usando ecuaciones vectoriales).  \n",
    "2. **Algoritmo de corrección GPS para tractores** (con producto cruz).  \n"
   ]
  },
  {
   "cell_type": "markdown",
   "id": "d4510c6d",
   "metadata": {},
   "source": [
    "\n",
    "### **Quiz Ejemplo:**  \n",
    "1. ¿Qué representa la norma de un vector en un terreno agrícola?  \n",
    "2. Calcule el ángulo entre los vectores $\\vec{a} = [1, 0, 2]$ y $\\vec{b} = [-1, 1, 1]$.  \n"
   ]
  },
  {
   "cell_type": "markdown",
   "id": "09d4f9e4",
   "metadata": {},
   "source": [
    "\n",
    "### **Parcial:**  \n",
    "- Problema: *\"Diseñe un sistema de riego vectorial para una ladera del Bajo Cauca usando Python.\"*  \n",
    "\n"
   ]
  },
  {
   "cell_type": "markdown",
   "id": "18dbfa2f",
   "metadata": {},
   "source": [
    "A continuación te presento un **taller de clase para estudiantes de Ingeniería Agropecuaria** que busca evaluar los conocimientos sobre vectores 2D y 3D, integrando **GeoGebra** como herramienta tecnológica y aplicando las matemáticas al diseño agrícola y a la nivelación de terrenos.\n",
    "\n"
   ]
  },
  {
   "cell_type": "markdown",
   "id": "339f184e",
   "metadata": {},
   "source": [
    "### **Taller evaluativo: Vectores en 2D y 3D aplicados al diseño agrícola**\n"
   ]
  },
  {
   "cell_type": "markdown",
   "id": "49439ecc",
   "metadata": {},
   "source": [
    "\n",
    "**Curso:** Cálculo Vectorial o Matemáticas para Ingeniería\n",
    "**Duración:** 2 horas (una clase práctica)\n",
    "**Recursos:** Computadores con acceso a GeoGebra 3D, libreta de apuntes, calculadora científica\n",
    "**Evaluación:** Individual (con posible espacio de coevaluación en grupos de 2 estudiantes)\n",
    "\n"
   ]
  },
  {
   "cell_type": "markdown",
   "id": "0164c098",
   "metadata": {},
   "source": [
    "\n",
    "\n",
    "### **Objetivos de aprendizaje**\n",
    "\n",
    "1. Representar y operar vectores en 2D y 3D utilizando GeoGebra.\n",
    "2. Aplicar conceptos vectoriales para modelar el diseño de una siembra en \"tres bolillos\".\n",
    "3. Calcular el volumen de tierra necesario para nivelar un terreno inclinado, empleando operaciones con vectores y análisis de planos.\n",
    "\n"
   ]
  },
  {
   "cell_type": "markdown",
   "id": "2f5d83ed",
   "metadata": {},
   "source": [
    "## Parte 1: Exploración y Representación de Vectores (30 minutos)\n"
   ]
  },
  {
   "cell_type": "markdown",
   "id": "4eed730f",
   "metadata": {},
   "source": [
    "\n",
    "**Actividad:**\n",
    "\n",
    "1. Abre GeoGebra 3D ([https://www.geogebra.org/3d](https://www.geogebra.org/3d))\n",
    "2. Representa los siguientes vectores en 3D:\n",
    "\n",
    "   * **A = (3, 2, 0)**\n",
    "   * **B = (-1, 4, 0)**\n",
    "   * **C = (0, 0, 5)**\n"
   ]
  },
  {
   "cell_type": "code",
   "execution_count": 14,
   "id": "673d34b5",
   "metadata": {},
   "outputs": [
    {
     "data": {
      "application/vnd.plotly.v1+json": {
       "config": {
        "plotlyServerURL": "https://plot.ly"
       },
       "data": [
        {
         "line": {
          "color": "blue",
          "width": 6
         },
         "marker": {
          "color": "blue",
          "size": 4
         },
         "mode": "lines+markers+text",
         "name": "A",
         "text": [
          "",
          "A"
         ],
         "textposition": "top center",
         "type": "scatter3d",
         "x": [
          0,
          3
         ],
         "y": [
          0,
          2
         ],
         "z": [
          0,
          0
         ]
        },
        {
         "line": {
          "color": "green",
          "width": 6
         },
         "marker": {
          "color": "green",
          "size": 4
         },
         "mode": "lines+markers+text",
         "name": "B",
         "text": [
          "",
          "B"
         ],
         "textposition": "top center",
         "type": "scatter3d",
         "x": [
          0,
          -1
         ],
         "y": [
          0,
          4
         ],
         "z": [
          0,
          0
         ]
        },
        {
         "line": {
          "color": "red",
          "width": 6
         },
         "marker": {
          "color": "red",
          "size": 4
         },
         "mode": "lines+markers+text",
         "name": "C",
         "text": [
          "",
          "C"
         ],
         "textposition": "top center",
         "type": "scatter3d",
         "x": [
          0,
          0
         ],
         "y": [
          0,
          0
         ],
         "z": [
          0,
          5
         ]
        }
       ],
       "layout": {
        "scene": {
         "aspectmode": "cube",
         "xaxis": {
          "title": {
           "text": "X"
          }
         },
         "yaxis": {
          "title": {
           "text": "Y"
          }
         },
         "zaxis": {
          "title": {
           "text": "Z"
          }
         }
        },
        "showlegend": true,
        "template": {
         "data": {
          "bar": [
           {
            "error_x": {
             "color": "#2a3f5f"
            },
            "error_y": {
             "color": "#2a3f5f"
            },
            "marker": {
             "line": {
              "color": "#E5ECF6",
              "width": 0.5
             },
             "pattern": {
              "fillmode": "overlay",
              "size": 10,
              "solidity": 0.2
             }
            },
            "type": "bar"
           }
          ],
          "barpolar": [
           {
            "marker": {
             "line": {
              "color": "#E5ECF6",
              "width": 0.5
             },
             "pattern": {
              "fillmode": "overlay",
              "size": 10,
              "solidity": 0.2
             }
            },
            "type": "barpolar"
           }
          ],
          "carpet": [
           {
            "aaxis": {
             "endlinecolor": "#2a3f5f",
             "gridcolor": "white",
             "linecolor": "white",
             "minorgridcolor": "white",
             "startlinecolor": "#2a3f5f"
            },
            "baxis": {
             "endlinecolor": "#2a3f5f",
             "gridcolor": "white",
             "linecolor": "white",
             "minorgridcolor": "white",
             "startlinecolor": "#2a3f5f"
            },
            "type": "carpet"
           }
          ],
          "choropleth": [
           {
            "colorbar": {
             "outlinewidth": 0,
             "ticks": ""
            },
            "type": "choropleth"
           }
          ],
          "contour": [
           {
            "colorbar": {
             "outlinewidth": 0,
             "ticks": ""
            },
            "colorscale": [
             [
              0,
              "#0d0887"
             ],
             [
              0.1111111111111111,
              "#46039f"
             ],
             [
              0.2222222222222222,
              "#7201a8"
             ],
             [
              0.3333333333333333,
              "#9c179e"
             ],
             [
              0.4444444444444444,
              "#bd3786"
             ],
             [
              0.5555555555555556,
              "#d8576b"
             ],
             [
              0.6666666666666666,
              "#ed7953"
             ],
             [
              0.7777777777777778,
              "#fb9f3a"
             ],
             [
              0.8888888888888888,
              "#fdca26"
             ],
             [
              1,
              "#f0f921"
             ]
            ],
            "type": "contour"
           }
          ],
          "contourcarpet": [
           {
            "colorbar": {
             "outlinewidth": 0,
             "ticks": ""
            },
            "type": "contourcarpet"
           }
          ],
          "heatmap": [
           {
            "colorbar": {
             "outlinewidth": 0,
             "ticks": ""
            },
            "colorscale": [
             [
              0,
              "#0d0887"
             ],
             [
              0.1111111111111111,
              "#46039f"
             ],
             [
              0.2222222222222222,
              "#7201a8"
             ],
             [
              0.3333333333333333,
              "#9c179e"
             ],
             [
              0.4444444444444444,
              "#bd3786"
             ],
             [
              0.5555555555555556,
              "#d8576b"
             ],
             [
              0.6666666666666666,
              "#ed7953"
             ],
             [
              0.7777777777777778,
              "#fb9f3a"
             ],
             [
              0.8888888888888888,
              "#fdca26"
             ],
             [
              1,
              "#f0f921"
             ]
            ],
            "type": "heatmap"
           }
          ],
          "histogram": [
           {
            "marker": {
             "pattern": {
              "fillmode": "overlay",
              "size": 10,
              "solidity": 0.2
             }
            },
            "type": "histogram"
           }
          ],
          "histogram2d": [
           {
            "colorbar": {
             "outlinewidth": 0,
             "ticks": ""
            },
            "colorscale": [
             [
              0,
              "#0d0887"
             ],
             [
              0.1111111111111111,
              "#46039f"
             ],
             [
              0.2222222222222222,
              "#7201a8"
             ],
             [
              0.3333333333333333,
              "#9c179e"
             ],
             [
              0.4444444444444444,
              "#bd3786"
             ],
             [
              0.5555555555555556,
              "#d8576b"
             ],
             [
              0.6666666666666666,
              "#ed7953"
             ],
             [
              0.7777777777777778,
              "#fb9f3a"
             ],
             [
              0.8888888888888888,
              "#fdca26"
             ],
             [
              1,
              "#f0f921"
             ]
            ],
            "type": "histogram2d"
           }
          ],
          "histogram2dcontour": [
           {
            "colorbar": {
             "outlinewidth": 0,
             "ticks": ""
            },
            "colorscale": [
             [
              0,
              "#0d0887"
             ],
             [
              0.1111111111111111,
              "#46039f"
             ],
             [
              0.2222222222222222,
              "#7201a8"
             ],
             [
              0.3333333333333333,
              "#9c179e"
             ],
             [
              0.4444444444444444,
              "#bd3786"
             ],
             [
              0.5555555555555556,
              "#d8576b"
             ],
             [
              0.6666666666666666,
              "#ed7953"
             ],
             [
              0.7777777777777778,
              "#fb9f3a"
             ],
             [
              0.8888888888888888,
              "#fdca26"
             ],
             [
              1,
              "#f0f921"
             ]
            ],
            "type": "histogram2dcontour"
           }
          ],
          "mesh3d": [
           {
            "colorbar": {
             "outlinewidth": 0,
             "ticks": ""
            },
            "type": "mesh3d"
           }
          ],
          "parcoords": [
           {
            "line": {
             "colorbar": {
              "outlinewidth": 0,
              "ticks": ""
             }
            },
            "type": "parcoords"
           }
          ],
          "pie": [
           {
            "automargin": true,
            "type": "pie"
           }
          ],
          "scatter": [
           {
            "fillpattern": {
             "fillmode": "overlay",
             "size": 10,
             "solidity": 0.2
            },
            "type": "scatter"
           }
          ],
          "scatter3d": [
           {
            "line": {
             "colorbar": {
              "outlinewidth": 0,
              "ticks": ""
             }
            },
            "marker": {
             "colorbar": {
              "outlinewidth": 0,
              "ticks": ""
             }
            },
            "type": "scatter3d"
           }
          ],
          "scattercarpet": [
           {
            "marker": {
             "colorbar": {
              "outlinewidth": 0,
              "ticks": ""
             }
            },
            "type": "scattercarpet"
           }
          ],
          "scattergeo": [
           {
            "marker": {
             "colorbar": {
              "outlinewidth": 0,
              "ticks": ""
             }
            },
            "type": "scattergeo"
           }
          ],
          "scattergl": [
           {
            "marker": {
             "colorbar": {
              "outlinewidth": 0,
              "ticks": ""
             }
            },
            "type": "scattergl"
           }
          ],
          "scattermap": [
           {
            "marker": {
             "colorbar": {
              "outlinewidth": 0,
              "ticks": ""
             }
            },
            "type": "scattermap"
           }
          ],
          "scattermapbox": [
           {
            "marker": {
             "colorbar": {
              "outlinewidth": 0,
              "ticks": ""
             }
            },
            "type": "scattermapbox"
           }
          ],
          "scatterpolar": [
           {
            "marker": {
             "colorbar": {
              "outlinewidth": 0,
              "ticks": ""
             }
            },
            "type": "scatterpolar"
           }
          ],
          "scatterpolargl": [
           {
            "marker": {
             "colorbar": {
              "outlinewidth": 0,
              "ticks": ""
             }
            },
            "type": "scatterpolargl"
           }
          ],
          "scatterternary": [
           {
            "marker": {
             "colorbar": {
              "outlinewidth": 0,
              "ticks": ""
             }
            },
            "type": "scatterternary"
           }
          ],
          "surface": [
           {
            "colorbar": {
             "outlinewidth": 0,
             "ticks": ""
            },
            "colorscale": [
             [
              0,
              "#0d0887"
             ],
             [
              0.1111111111111111,
              "#46039f"
             ],
             [
              0.2222222222222222,
              "#7201a8"
             ],
             [
              0.3333333333333333,
              "#9c179e"
             ],
             [
              0.4444444444444444,
              "#bd3786"
             ],
             [
              0.5555555555555556,
              "#d8576b"
             ],
             [
              0.6666666666666666,
              "#ed7953"
             ],
             [
              0.7777777777777778,
              "#fb9f3a"
             ],
             [
              0.8888888888888888,
              "#fdca26"
             ],
             [
              1,
              "#f0f921"
             ]
            ],
            "type": "surface"
           }
          ],
          "table": [
           {
            "cells": {
             "fill": {
              "color": "#EBF0F8"
             },
             "line": {
              "color": "white"
             }
            },
            "header": {
             "fill": {
              "color": "#C8D4E3"
             },
             "line": {
              "color": "white"
             }
            },
            "type": "table"
           }
          ]
         },
         "layout": {
          "annotationdefaults": {
           "arrowcolor": "#2a3f5f",
           "arrowhead": 0,
           "arrowwidth": 1
          },
          "autotypenumbers": "strict",
          "coloraxis": {
           "colorbar": {
            "outlinewidth": 0,
            "ticks": ""
           }
          },
          "colorscale": {
           "diverging": [
            [
             0,
             "#8e0152"
            ],
            [
             0.1,
             "#c51b7d"
            ],
            [
             0.2,
             "#de77ae"
            ],
            [
             0.3,
             "#f1b6da"
            ],
            [
             0.4,
             "#fde0ef"
            ],
            [
             0.5,
             "#f7f7f7"
            ],
            [
             0.6,
             "#e6f5d0"
            ],
            [
             0.7,
             "#b8e186"
            ],
            [
             0.8,
             "#7fbc41"
            ],
            [
             0.9,
             "#4d9221"
            ],
            [
             1,
             "#276419"
            ]
           ],
           "sequential": [
            [
             0,
             "#0d0887"
            ],
            [
             0.1111111111111111,
             "#46039f"
            ],
            [
             0.2222222222222222,
             "#7201a8"
            ],
            [
             0.3333333333333333,
             "#9c179e"
            ],
            [
             0.4444444444444444,
             "#bd3786"
            ],
            [
             0.5555555555555556,
             "#d8576b"
            ],
            [
             0.6666666666666666,
             "#ed7953"
            ],
            [
             0.7777777777777778,
             "#fb9f3a"
            ],
            [
             0.8888888888888888,
             "#fdca26"
            ],
            [
             1,
             "#f0f921"
            ]
           ],
           "sequentialminus": [
            [
             0,
             "#0d0887"
            ],
            [
             0.1111111111111111,
             "#46039f"
            ],
            [
             0.2222222222222222,
             "#7201a8"
            ],
            [
             0.3333333333333333,
             "#9c179e"
            ],
            [
             0.4444444444444444,
             "#bd3786"
            ],
            [
             0.5555555555555556,
             "#d8576b"
            ],
            [
             0.6666666666666666,
             "#ed7953"
            ],
            [
             0.7777777777777778,
             "#fb9f3a"
            ],
            [
             0.8888888888888888,
             "#fdca26"
            ],
            [
             1,
             "#f0f921"
            ]
           ]
          },
          "colorway": [
           "#636efa",
           "#EF553B",
           "#00cc96",
           "#ab63fa",
           "#FFA15A",
           "#19d3f3",
           "#FF6692",
           "#B6E880",
           "#FF97FF",
           "#FECB52"
          ],
          "font": {
           "color": "#2a3f5f"
          },
          "geo": {
           "bgcolor": "white",
           "lakecolor": "white",
           "landcolor": "#E5ECF6",
           "showlakes": true,
           "showland": true,
           "subunitcolor": "white"
          },
          "hoverlabel": {
           "align": "left"
          },
          "hovermode": "closest",
          "mapbox": {
           "style": "light"
          },
          "paper_bgcolor": "white",
          "plot_bgcolor": "#E5ECF6",
          "polar": {
           "angularaxis": {
            "gridcolor": "white",
            "linecolor": "white",
            "ticks": ""
           },
           "bgcolor": "#E5ECF6",
           "radialaxis": {
            "gridcolor": "white",
            "linecolor": "white",
            "ticks": ""
           }
          },
          "scene": {
           "xaxis": {
            "backgroundcolor": "#E5ECF6",
            "gridcolor": "white",
            "gridwidth": 2,
            "linecolor": "white",
            "showbackground": true,
            "ticks": "",
            "zerolinecolor": "white"
           },
           "yaxis": {
            "backgroundcolor": "#E5ECF6",
            "gridcolor": "white",
            "gridwidth": 2,
            "linecolor": "white",
            "showbackground": true,
            "ticks": "",
            "zerolinecolor": "white"
           },
           "zaxis": {
            "backgroundcolor": "#E5ECF6",
            "gridcolor": "white",
            "gridwidth": 2,
            "linecolor": "white",
            "showbackground": true,
            "ticks": "",
            "zerolinecolor": "white"
           }
          },
          "shapedefaults": {
           "line": {
            "color": "#2a3f5f"
           }
          },
          "ternary": {
           "aaxis": {
            "gridcolor": "white",
            "linecolor": "white",
            "ticks": ""
           },
           "baxis": {
            "gridcolor": "white",
            "linecolor": "white",
            "ticks": ""
           },
           "bgcolor": "#E5ECF6",
           "caxis": {
            "gridcolor": "white",
            "linecolor": "white",
            "ticks": ""
           }
          },
          "title": {
           "x": 0.05
          },
          "xaxis": {
           "automargin": true,
           "gridcolor": "white",
           "linecolor": "white",
           "ticks": "",
           "title": {
            "standoff": 15
           },
           "zerolinecolor": "white",
           "zerolinewidth": 2
          },
          "yaxis": {
           "automargin": true,
           "gridcolor": "white",
           "linecolor": "white",
           "ticks": "",
           "title": {
            "standoff": 15
           },
           "zerolinecolor": "white",
           "zerolinewidth": 2
          }
         }
        },
        "title": {
         "text": "Representación 3D de los vectores A, B y C"
        }
       }
      }
     },
     "metadata": {},
     "output_type": "display_data"
    }
   ],
   "source": [
    "import numpy as np\n",
    "\n",
    "import plotly.graph_objects as go\n",
    "\n",
    "# Definir los vectores\n",
    "A = np.array([3, 2, 0])\n",
    "B = np.array([-1, 4, 0])\n",
    "C = np.array([0, 0, 5])\n",
    "\n",
    "# Origen\n",
    "O = np.array([0, 0, 0])\n",
    "\n",
    "# Crear la figura\n",
    "fig = go.Figure()\n",
    "\n",
    "# Vector A\n",
    "fig.add_trace(go.Scatter3d(\n",
    "    x=[O[0], A[0]],\n",
    "    y=[O[1], A[1]],\n",
    "    z=[O[2], A[2]],\n",
    "    mode='lines+markers+text',\n",
    "    marker=dict(size=4, color='blue'),\n",
    "    line=dict(color='blue', width=6),\n",
    "    name='A',\n",
    "    text=['', 'A'],\n",
    "    textposition='top center'\n",
    "))\n",
    "\n",
    "# Vector B\n",
    "fig.add_trace(go.Scatter3d(\n",
    "    x=[O[0], B[0]],\n",
    "    y=[O[1], B[1]],\n",
    "    z=[O[2], B[2]],\n",
    "    mode='lines+markers+text',\n",
    "    marker=dict(size=4, color='green'),\n",
    "    line=dict(color='green', width=6),\n",
    "    name='B',\n",
    "    text=['', 'B'],\n",
    "    textposition='top center'\n",
    "))\n",
    "\n",
    "# Vector C\n",
    "fig.add_trace(go.Scatter3d(\n",
    "    x=[O[0], C[0]],\n",
    "    y=[O[1], C[1]],\n",
    "    z=[O[2], C[2]],\n",
    "    mode='lines+markers+text',\n",
    "    marker=dict(size=4, color='red'),\n",
    "    line=dict(color='red', width=6),\n",
    "    name='C',\n",
    "    text=['', 'C'],\n",
    "    textposition='top center'\n",
    "))\n",
    "\n",
    "# Configuración de la gráfica\n",
    "fig.update_layout(\n",
    "    scene=dict(\n",
    "        xaxis_title='X',\n",
    "        yaxis_title='Y',\n",
    "        zaxis_title='Z',\n",
    "        aspectmode='cube'\n",
    "    ),\n",
    "    title='Representación 3D de los vectores A, B y C',\n",
    "    showlegend=True\n",
    ")\n",
    "\n",
    "fig.show()"
   ]
  },
  {
   "cell_type": "markdown",
   "id": "cf72c3d6",
   "metadata": {},
   "source": [
    "3. Encuentra el vector **R = A + B + C** y represéntalo gráficamente en GeoGebra.\n"
   ]
  },
  {
   "cell_type": "code",
   "execution_count": 15,
   "id": "c24851bf",
   "metadata": {},
   "outputs": [
    {
     "data": {
      "application/vnd.plotly.v1+json": {
       "config": {
        "plotlyServerURL": "https://plot.ly"
       },
       "data": [
        {
         "line": {
          "color": "blue",
          "width": 6
         },
         "marker": {
          "color": "blue",
          "size": 4
         },
         "mode": "lines+markers+text",
         "name": "A",
         "text": [
          "",
          "A"
         ],
         "textposition": "top center",
         "type": "scatter3d",
         "x": [
          0,
          3
         ],
         "y": [
          0,
          2
         ],
         "z": [
          0,
          0
         ]
        },
        {
         "line": {
          "color": "green",
          "width": 6
         },
         "marker": {
          "color": "green",
          "size": 4
         },
         "mode": "lines+markers+text",
         "name": "B",
         "text": [
          "",
          "B"
         ],
         "textposition": "top center",
         "type": "scatter3d",
         "x": [
          0,
          -1
         ],
         "y": [
          0,
          4
         ],
         "z": [
          0,
          0
         ]
        },
        {
         "line": {
          "color": "red",
          "width": 6
         },
         "marker": {
          "color": "red",
          "size": 4
         },
         "mode": "lines+markers+text",
         "name": "C",
         "text": [
          "",
          "C"
         ],
         "textposition": "top center",
         "type": "scatter3d",
         "x": [
          0,
          0
         ],
         "y": [
          0,
          0
         ],
         "z": [
          0,
          5
         ]
        },
        {
         "line": {
          "color": "orange",
          "dash": "dash",
          "width": 6
         },
         "marker": {
          "color": "orange",
          "size": 4
         },
         "mode": "lines+markers+text",
         "name": "R = A+B+C",
         "text": [
          "",
          "R"
         ],
         "textposition": "top center",
         "type": "scatter3d",
         "x": [
          0,
          2
         ],
         "y": [
          0,
          6
         ],
         "z": [
          0,
          5
         ]
        }
       ],
       "layout": {
        "scene": {
         "aspectmode": "cube",
         "xaxis": {
          "title": {
           "text": "X"
          }
         },
         "yaxis": {
          "title": {
           "text": "Y"
          }
         },
         "zaxis": {
          "title": {
           "text": "Z"
          }
         }
        },
        "showlegend": true,
        "template": {
         "data": {
          "bar": [
           {
            "error_x": {
             "color": "#2a3f5f"
            },
            "error_y": {
             "color": "#2a3f5f"
            },
            "marker": {
             "line": {
              "color": "#E5ECF6",
              "width": 0.5
             },
             "pattern": {
              "fillmode": "overlay",
              "size": 10,
              "solidity": 0.2
             }
            },
            "type": "bar"
           }
          ],
          "barpolar": [
           {
            "marker": {
             "line": {
              "color": "#E5ECF6",
              "width": 0.5
             },
             "pattern": {
              "fillmode": "overlay",
              "size": 10,
              "solidity": 0.2
             }
            },
            "type": "barpolar"
           }
          ],
          "carpet": [
           {
            "aaxis": {
             "endlinecolor": "#2a3f5f",
             "gridcolor": "white",
             "linecolor": "white",
             "minorgridcolor": "white",
             "startlinecolor": "#2a3f5f"
            },
            "baxis": {
             "endlinecolor": "#2a3f5f",
             "gridcolor": "white",
             "linecolor": "white",
             "minorgridcolor": "white",
             "startlinecolor": "#2a3f5f"
            },
            "type": "carpet"
           }
          ],
          "choropleth": [
           {
            "colorbar": {
             "outlinewidth": 0,
             "ticks": ""
            },
            "type": "choropleth"
           }
          ],
          "contour": [
           {
            "colorbar": {
             "outlinewidth": 0,
             "ticks": ""
            },
            "colorscale": [
             [
              0,
              "#0d0887"
             ],
             [
              0.1111111111111111,
              "#46039f"
             ],
             [
              0.2222222222222222,
              "#7201a8"
             ],
             [
              0.3333333333333333,
              "#9c179e"
             ],
             [
              0.4444444444444444,
              "#bd3786"
             ],
             [
              0.5555555555555556,
              "#d8576b"
             ],
             [
              0.6666666666666666,
              "#ed7953"
             ],
             [
              0.7777777777777778,
              "#fb9f3a"
             ],
             [
              0.8888888888888888,
              "#fdca26"
             ],
             [
              1,
              "#f0f921"
             ]
            ],
            "type": "contour"
           }
          ],
          "contourcarpet": [
           {
            "colorbar": {
             "outlinewidth": 0,
             "ticks": ""
            },
            "type": "contourcarpet"
           }
          ],
          "heatmap": [
           {
            "colorbar": {
             "outlinewidth": 0,
             "ticks": ""
            },
            "colorscale": [
             [
              0,
              "#0d0887"
             ],
             [
              0.1111111111111111,
              "#46039f"
             ],
             [
              0.2222222222222222,
              "#7201a8"
             ],
             [
              0.3333333333333333,
              "#9c179e"
             ],
             [
              0.4444444444444444,
              "#bd3786"
             ],
             [
              0.5555555555555556,
              "#d8576b"
             ],
             [
              0.6666666666666666,
              "#ed7953"
             ],
             [
              0.7777777777777778,
              "#fb9f3a"
             ],
             [
              0.8888888888888888,
              "#fdca26"
             ],
             [
              1,
              "#f0f921"
             ]
            ],
            "type": "heatmap"
           }
          ],
          "histogram": [
           {
            "marker": {
             "pattern": {
              "fillmode": "overlay",
              "size": 10,
              "solidity": 0.2
             }
            },
            "type": "histogram"
           }
          ],
          "histogram2d": [
           {
            "colorbar": {
             "outlinewidth": 0,
             "ticks": ""
            },
            "colorscale": [
             [
              0,
              "#0d0887"
             ],
             [
              0.1111111111111111,
              "#46039f"
             ],
             [
              0.2222222222222222,
              "#7201a8"
             ],
             [
              0.3333333333333333,
              "#9c179e"
             ],
             [
              0.4444444444444444,
              "#bd3786"
             ],
             [
              0.5555555555555556,
              "#d8576b"
             ],
             [
              0.6666666666666666,
              "#ed7953"
             ],
             [
              0.7777777777777778,
              "#fb9f3a"
             ],
             [
              0.8888888888888888,
              "#fdca26"
             ],
             [
              1,
              "#f0f921"
             ]
            ],
            "type": "histogram2d"
           }
          ],
          "histogram2dcontour": [
           {
            "colorbar": {
             "outlinewidth": 0,
             "ticks": ""
            },
            "colorscale": [
             [
              0,
              "#0d0887"
             ],
             [
              0.1111111111111111,
              "#46039f"
             ],
             [
              0.2222222222222222,
              "#7201a8"
             ],
             [
              0.3333333333333333,
              "#9c179e"
             ],
             [
              0.4444444444444444,
              "#bd3786"
             ],
             [
              0.5555555555555556,
              "#d8576b"
             ],
             [
              0.6666666666666666,
              "#ed7953"
             ],
             [
              0.7777777777777778,
              "#fb9f3a"
             ],
             [
              0.8888888888888888,
              "#fdca26"
             ],
             [
              1,
              "#f0f921"
             ]
            ],
            "type": "histogram2dcontour"
           }
          ],
          "mesh3d": [
           {
            "colorbar": {
             "outlinewidth": 0,
             "ticks": ""
            },
            "type": "mesh3d"
           }
          ],
          "parcoords": [
           {
            "line": {
             "colorbar": {
              "outlinewidth": 0,
              "ticks": ""
             }
            },
            "type": "parcoords"
           }
          ],
          "pie": [
           {
            "automargin": true,
            "type": "pie"
           }
          ],
          "scatter": [
           {
            "fillpattern": {
             "fillmode": "overlay",
             "size": 10,
             "solidity": 0.2
            },
            "type": "scatter"
           }
          ],
          "scatter3d": [
           {
            "line": {
             "colorbar": {
              "outlinewidth": 0,
              "ticks": ""
             }
            },
            "marker": {
             "colorbar": {
              "outlinewidth": 0,
              "ticks": ""
             }
            },
            "type": "scatter3d"
           }
          ],
          "scattercarpet": [
           {
            "marker": {
             "colorbar": {
              "outlinewidth": 0,
              "ticks": ""
             }
            },
            "type": "scattercarpet"
           }
          ],
          "scattergeo": [
           {
            "marker": {
             "colorbar": {
              "outlinewidth": 0,
              "ticks": ""
             }
            },
            "type": "scattergeo"
           }
          ],
          "scattergl": [
           {
            "marker": {
             "colorbar": {
              "outlinewidth": 0,
              "ticks": ""
             }
            },
            "type": "scattergl"
           }
          ],
          "scattermap": [
           {
            "marker": {
             "colorbar": {
              "outlinewidth": 0,
              "ticks": ""
             }
            },
            "type": "scattermap"
           }
          ],
          "scattermapbox": [
           {
            "marker": {
             "colorbar": {
              "outlinewidth": 0,
              "ticks": ""
             }
            },
            "type": "scattermapbox"
           }
          ],
          "scatterpolar": [
           {
            "marker": {
             "colorbar": {
              "outlinewidth": 0,
              "ticks": ""
             }
            },
            "type": "scatterpolar"
           }
          ],
          "scatterpolargl": [
           {
            "marker": {
             "colorbar": {
              "outlinewidth": 0,
              "ticks": ""
             }
            },
            "type": "scatterpolargl"
           }
          ],
          "scatterternary": [
           {
            "marker": {
             "colorbar": {
              "outlinewidth": 0,
              "ticks": ""
             }
            },
            "type": "scatterternary"
           }
          ],
          "surface": [
           {
            "colorbar": {
             "outlinewidth": 0,
             "ticks": ""
            },
            "colorscale": [
             [
              0,
              "#0d0887"
             ],
             [
              0.1111111111111111,
              "#46039f"
             ],
             [
              0.2222222222222222,
              "#7201a8"
             ],
             [
              0.3333333333333333,
              "#9c179e"
             ],
             [
              0.4444444444444444,
              "#bd3786"
             ],
             [
              0.5555555555555556,
              "#d8576b"
             ],
             [
              0.6666666666666666,
              "#ed7953"
             ],
             [
              0.7777777777777778,
              "#fb9f3a"
             ],
             [
              0.8888888888888888,
              "#fdca26"
             ],
             [
              1,
              "#f0f921"
             ]
            ],
            "type": "surface"
           }
          ],
          "table": [
           {
            "cells": {
             "fill": {
              "color": "#EBF0F8"
             },
             "line": {
              "color": "white"
             }
            },
            "header": {
             "fill": {
              "color": "#C8D4E3"
             },
             "line": {
              "color": "white"
             }
            },
            "type": "table"
           }
          ]
         },
         "layout": {
          "annotationdefaults": {
           "arrowcolor": "#2a3f5f",
           "arrowhead": 0,
           "arrowwidth": 1
          },
          "autotypenumbers": "strict",
          "coloraxis": {
           "colorbar": {
            "outlinewidth": 0,
            "ticks": ""
           }
          },
          "colorscale": {
           "diverging": [
            [
             0,
             "#8e0152"
            ],
            [
             0.1,
             "#c51b7d"
            ],
            [
             0.2,
             "#de77ae"
            ],
            [
             0.3,
             "#f1b6da"
            ],
            [
             0.4,
             "#fde0ef"
            ],
            [
             0.5,
             "#f7f7f7"
            ],
            [
             0.6,
             "#e6f5d0"
            ],
            [
             0.7,
             "#b8e186"
            ],
            [
             0.8,
             "#7fbc41"
            ],
            [
             0.9,
             "#4d9221"
            ],
            [
             1,
             "#276419"
            ]
           ],
           "sequential": [
            [
             0,
             "#0d0887"
            ],
            [
             0.1111111111111111,
             "#46039f"
            ],
            [
             0.2222222222222222,
             "#7201a8"
            ],
            [
             0.3333333333333333,
             "#9c179e"
            ],
            [
             0.4444444444444444,
             "#bd3786"
            ],
            [
             0.5555555555555556,
             "#d8576b"
            ],
            [
             0.6666666666666666,
             "#ed7953"
            ],
            [
             0.7777777777777778,
             "#fb9f3a"
            ],
            [
             0.8888888888888888,
             "#fdca26"
            ],
            [
             1,
             "#f0f921"
            ]
           ],
           "sequentialminus": [
            [
             0,
             "#0d0887"
            ],
            [
             0.1111111111111111,
             "#46039f"
            ],
            [
             0.2222222222222222,
             "#7201a8"
            ],
            [
             0.3333333333333333,
             "#9c179e"
            ],
            [
             0.4444444444444444,
             "#bd3786"
            ],
            [
             0.5555555555555556,
             "#d8576b"
            ],
            [
             0.6666666666666666,
             "#ed7953"
            ],
            [
             0.7777777777777778,
             "#fb9f3a"
            ],
            [
             0.8888888888888888,
             "#fdca26"
            ],
            [
             1,
             "#f0f921"
            ]
           ]
          },
          "colorway": [
           "#636efa",
           "#EF553B",
           "#00cc96",
           "#ab63fa",
           "#FFA15A",
           "#19d3f3",
           "#FF6692",
           "#B6E880",
           "#FF97FF",
           "#FECB52"
          ],
          "font": {
           "color": "#2a3f5f"
          },
          "geo": {
           "bgcolor": "white",
           "lakecolor": "white",
           "landcolor": "#E5ECF6",
           "showlakes": true,
           "showland": true,
           "subunitcolor": "white"
          },
          "hoverlabel": {
           "align": "left"
          },
          "hovermode": "closest",
          "mapbox": {
           "style": "light"
          },
          "paper_bgcolor": "white",
          "plot_bgcolor": "#E5ECF6",
          "polar": {
           "angularaxis": {
            "gridcolor": "white",
            "linecolor": "white",
            "ticks": ""
           },
           "bgcolor": "#E5ECF6",
           "radialaxis": {
            "gridcolor": "white",
            "linecolor": "white",
            "ticks": ""
           }
          },
          "scene": {
           "xaxis": {
            "backgroundcolor": "#E5ECF6",
            "gridcolor": "white",
            "gridwidth": 2,
            "linecolor": "white",
            "showbackground": true,
            "ticks": "",
            "zerolinecolor": "white"
           },
           "yaxis": {
            "backgroundcolor": "#E5ECF6",
            "gridcolor": "white",
            "gridwidth": 2,
            "linecolor": "white",
            "showbackground": true,
            "ticks": "",
            "zerolinecolor": "white"
           },
           "zaxis": {
            "backgroundcolor": "#E5ECF6",
            "gridcolor": "white",
            "gridwidth": 2,
            "linecolor": "white",
            "showbackground": true,
            "ticks": "",
            "zerolinecolor": "white"
           }
          },
          "shapedefaults": {
           "line": {
            "color": "#2a3f5f"
           }
          },
          "ternary": {
           "aaxis": {
            "gridcolor": "white",
            "linecolor": "white",
            "ticks": ""
           },
           "baxis": {
            "gridcolor": "white",
            "linecolor": "white",
            "ticks": ""
           },
           "bgcolor": "#E5ECF6",
           "caxis": {
            "gridcolor": "white",
            "linecolor": "white",
            "ticks": ""
           }
          },
          "title": {
           "x": 0.05
          },
          "xaxis": {
           "automargin": true,
           "gridcolor": "white",
           "linecolor": "white",
           "ticks": "",
           "title": {
            "standoff": 15
           },
           "zerolinecolor": "white",
           "zerolinewidth": 2
          },
          "yaxis": {
           "automargin": true,
           "gridcolor": "white",
           "linecolor": "white",
           "ticks": "",
           "title": {
            "standoff": 15
           },
           "zerolinecolor": "white",
           "zerolinewidth": 2
          }
         }
        },
        "title": {
         "text": "Representación 3D de los vectores A, B y C"
        }
       }
      }
     },
     "metadata": {},
     "output_type": "display_data"
    }
   ],
   "source": [
    "# Calcular el vector suma\n",
    "R = A + B + C\n",
    "\n",
    "# Agregar el vector suma al gráfico existente\n",
    "fig.add_trace(\n",
    "    go.Scatter3d(\n",
    "        x=[O[0], R[0]],\n",
    "        y=[O[1], R[1]],\n",
    "        z=[O[2], R[2]],\n",
    "        mode='lines+markers+text',\n",
    "        marker=dict(size=4, color='orange'),\n",
    "        line=dict(color='orange', width=6, dash='dash'),\n",
    "        name='R = A+B+C',\n",
    "        text=['', 'R'],\n",
    "        textposition='top center'\n",
    "    )\n",
    ")\n",
    "\n",
    "fig.show()"
   ]
  },
  {
   "cell_type": "markdown",
   "id": "57425ff7",
   "metadata": {},
   "source": [
    "4. Calcula el módulo de cada vector y el ángulo entre A y B usando producto punto y funciones de usuario de python\n"
   ]
  },
  {
   "cell_type": "code",
   "execution_count": 4,
   "id": "4b8352f5",
   "metadata": {},
   "outputs": [
    {
     "name": "stdout",
     "output_type": "stream",
     "text": [
      "Módulo de A: 3.61\n",
      "Módulo de B: 4.12\n",
      "Módulo de C: 5.00\n",
      "Módulo de R: 8.06\n",
      "Ángulo entre A y B: 70.35 grados\n"
     ]
    }
   ],
   "source": [
    "def modulo(v):\n",
    "    return np.linalg.norm(v)\n",
    "\n",
    "def angulo_entre_vectores(u, v):\n",
    "    cos_theta = np.dot(u, v) / (modulo(u) * modulo(v))\n",
    "    return np.degrees(np.arccos(cos_theta))\n",
    "\n",
    "mod_A = modulo(A)\n",
    "mod_B = modulo(B)\n",
    "mod_C = modulo(C)\n",
    "mod_R = modulo(R)\n",
    "angulo_AB = angulo_entre_vectores(A, B)\n",
    "\n",
    "print(f\"Módulo de A: {mod_A:.2f}\")\n",
    "print(f\"Módulo de B: {mod_B:.2f}\")\n",
    "print(f\"Módulo de C: {mod_C:.2f}\")\n",
    "print(f\"Módulo de R: {mod_R:.2f}\")\n",
    "print(f\"Ángulo entre A y B: {angulo_AB:.2f} grados\")"
   ]
  },
  {
   "cell_type": "markdown",
   "id": "2f876206",
   "metadata": {},
   "source": [
    "5. Realiza una captura de pantalla del gráfico y adjunta tus cálculos en la libreta.\n",
    "\n",
    "**Evaluación:** Claridad en representación y exactitud en operaciones vectoriales.\n",
    "\n"
   ]
  },
  {
   "cell_type": "markdown",
   "id": "7d29652d",
   "metadata": {},
   "source": [
    "\n",
    "\n",
    "## Parte 2: Aplicación agrícola – Diseño en tres bolillos (45 minutos)\n",
    "\n",
    "**Contexto:**\n",
    "Un sistema de siembra en \"tres bolillos\" busca un acomodo de plantas con mayor eficiencia espacial. Se basa en colocar plantas formando triángulos equiláteros.\n"
   ]
  },
  {
   "cell_type": "markdown",
   "id": "cd48f571",
   "metadata": {},
   "source": [
    "\n",
    "**Actividad:**\n",
    "\n",
    "1. Representa en el plano XY una parcela de **10 m × 10 m** en GeoGebra.\n"
   ]
  },
  {
   "cell_type": "code",
   "execution_count": 18,
   "id": "8f530f77",
   "metadata": {},
   "outputs": [
    {
     "data": {
      "application/vnd.plotly.v1+json": {
       "config": {
        "plotlyServerURL": "https://plot.ly"
       },
       "data": [
        {
         "fill": "toself",
         "line": {
          "color": "green",
          "width": 3
         },
         "mode": "lines",
         "name": "Parcela 10x10 m",
         "type": "scatter",
         "x": [
          0,
          10,
          10,
          0,
          0
         ],
         "y": [
          0,
          0,
          10,
          10,
          0
         ]
        }
       ],
       "layout": {
        "height": 500,
        "showlegend": false,
        "template": {
         "data": {
          "bar": [
           {
            "error_x": {
             "color": "#2a3f5f"
            },
            "error_y": {
             "color": "#2a3f5f"
            },
            "marker": {
             "line": {
              "color": "#E5ECF6",
              "width": 0.5
             },
             "pattern": {
              "fillmode": "overlay",
              "size": 10,
              "solidity": 0.2
             }
            },
            "type": "bar"
           }
          ],
          "barpolar": [
           {
            "marker": {
             "line": {
              "color": "#E5ECF6",
              "width": 0.5
             },
             "pattern": {
              "fillmode": "overlay",
              "size": 10,
              "solidity": 0.2
             }
            },
            "type": "barpolar"
           }
          ],
          "carpet": [
           {
            "aaxis": {
             "endlinecolor": "#2a3f5f",
             "gridcolor": "white",
             "linecolor": "white",
             "minorgridcolor": "white",
             "startlinecolor": "#2a3f5f"
            },
            "baxis": {
             "endlinecolor": "#2a3f5f",
             "gridcolor": "white",
             "linecolor": "white",
             "minorgridcolor": "white",
             "startlinecolor": "#2a3f5f"
            },
            "type": "carpet"
           }
          ],
          "choropleth": [
           {
            "colorbar": {
             "outlinewidth": 0,
             "ticks": ""
            },
            "type": "choropleth"
           }
          ],
          "contour": [
           {
            "colorbar": {
             "outlinewidth": 0,
             "ticks": ""
            },
            "colorscale": [
             [
              0,
              "#0d0887"
             ],
             [
              0.1111111111111111,
              "#46039f"
             ],
             [
              0.2222222222222222,
              "#7201a8"
             ],
             [
              0.3333333333333333,
              "#9c179e"
             ],
             [
              0.4444444444444444,
              "#bd3786"
             ],
             [
              0.5555555555555556,
              "#d8576b"
             ],
             [
              0.6666666666666666,
              "#ed7953"
             ],
             [
              0.7777777777777778,
              "#fb9f3a"
             ],
             [
              0.8888888888888888,
              "#fdca26"
             ],
             [
              1,
              "#f0f921"
             ]
            ],
            "type": "contour"
           }
          ],
          "contourcarpet": [
           {
            "colorbar": {
             "outlinewidth": 0,
             "ticks": ""
            },
            "type": "contourcarpet"
           }
          ],
          "heatmap": [
           {
            "colorbar": {
             "outlinewidth": 0,
             "ticks": ""
            },
            "colorscale": [
             [
              0,
              "#0d0887"
             ],
             [
              0.1111111111111111,
              "#46039f"
             ],
             [
              0.2222222222222222,
              "#7201a8"
             ],
             [
              0.3333333333333333,
              "#9c179e"
             ],
             [
              0.4444444444444444,
              "#bd3786"
             ],
             [
              0.5555555555555556,
              "#d8576b"
             ],
             [
              0.6666666666666666,
              "#ed7953"
             ],
             [
              0.7777777777777778,
              "#fb9f3a"
             ],
             [
              0.8888888888888888,
              "#fdca26"
             ],
             [
              1,
              "#f0f921"
             ]
            ],
            "type": "heatmap"
           }
          ],
          "histogram": [
           {
            "marker": {
             "pattern": {
              "fillmode": "overlay",
              "size": 10,
              "solidity": 0.2
             }
            },
            "type": "histogram"
           }
          ],
          "histogram2d": [
           {
            "colorbar": {
             "outlinewidth": 0,
             "ticks": ""
            },
            "colorscale": [
             [
              0,
              "#0d0887"
             ],
             [
              0.1111111111111111,
              "#46039f"
             ],
             [
              0.2222222222222222,
              "#7201a8"
             ],
             [
              0.3333333333333333,
              "#9c179e"
             ],
             [
              0.4444444444444444,
              "#bd3786"
             ],
             [
              0.5555555555555556,
              "#d8576b"
             ],
             [
              0.6666666666666666,
              "#ed7953"
             ],
             [
              0.7777777777777778,
              "#fb9f3a"
             ],
             [
              0.8888888888888888,
              "#fdca26"
             ],
             [
              1,
              "#f0f921"
             ]
            ],
            "type": "histogram2d"
           }
          ],
          "histogram2dcontour": [
           {
            "colorbar": {
             "outlinewidth": 0,
             "ticks": ""
            },
            "colorscale": [
             [
              0,
              "#0d0887"
             ],
             [
              0.1111111111111111,
              "#46039f"
             ],
             [
              0.2222222222222222,
              "#7201a8"
             ],
             [
              0.3333333333333333,
              "#9c179e"
             ],
             [
              0.4444444444444444,
              "#bd3786"
             ],
             [
              0.5555555555555556,
              "#d8576b"
             ],
             [
              0.6666666666666666,
              "#ed7953"
             ],
             [
              0.7777777777777778,
              "#fb9f3a"
             ],
             [
              0.8888888888888888,
              "#fdca26"
             ],
             [
              1,
              "#f0f921"
             ]
            ],
            "type": "histogram2dcontour"
           }
          ],
          "mesh3d": [
           {
            "colorbar": {
             "outlinewidth": 0,
             "ticks": ""
            },
            "type": "mesh3d"
           }
          ],
          "parcoords": [
           {
            "line": {
             "colorbar": {
              "outlinewidth": 0,
              "ticks": ""
             }
            },
            "type": "parcoords"
           }
          ],
          "pie": [
           {
            "automargin": true,
            "type": "pie"
           }
          ],
          "scatter": [
           {
            "fillpattern": {
             "fillmode": "overlay",
             "size": 10,
             "solidity": 0.2
            },
            "type": "scatter"
           }
          ],
          "scatter3d": [
           {
            "line": {
             "colorbar": {
              "outlinewidth": 0,
              "ticks": ""
             }
            },
            "marker": {
             "colorbar": {
              "outlinewidth": 0,
              "ticks": ""
             }
            },
            "type": "scatter3d"
           }
          ],
          "scattercarpet": [
           {
            "marker": {
             "colorbar": {
              "outlinewidth": 0,
              "ticks": ""
             }
            },
            "type": "scattercarpet"
           }
          ],
          "scattergeo": [
           {
            "marker": {
             "colorbar": {
              "outlinewidth": 0,
              "ticks": ""
             }
            },
            "type": "scattergeo"
           }
          ],
          "scattergl": [
           {
            "marker": {
             "colorbar": {
              "outlinewidth": 0,
              "ticks": ""
             }
            },
            "type": "scattergl"
           }
          ],
          "scattermap": [
           {
            "marker": {
             "colorbar": {
              "outlinewidth": 0,
              "ticks": ""
             }
            },
            "type": "scattermap"
           }
          ],
          "scattermapbox": [
           {
            "marker": {
             "colorbar": {
              "outlinewidth": 0,
              "ticks": ""
             }
            },
            "type": "scattermapbox"
           }
          ],
          "scatterpolar": [
           {
            "marker": {
             "colorbar": {
              "outlinewidth": 0,
              "ticks": ""
             }
            },
            "type": "scatterpolar"
           }
          ],
          "scatterpolargl": [
           {
            "marker": {
             "colorbar": {
              "outlinewidth": 0,
              "ticks": ""
             }
            },
            "type": "scatterpolargl"
           }
          ],
          "scatterternary": [
           {
            "marker": {
             "colorbar": {
              "outlinewidth": 0,
              "ticks": ""
             }
            },
            "type": "scatterternary"
           }
          ],
          "surface": [
           {
            "colorbar": {
             "outlinewidth": 0,
             "ticks": ""
            },
            "colorscale": [
             [
              0,
              "#0d0887"
             ],
             [
              0.1111111111111111,
              "#46039f"
             ],
             [
              0.2222222222222222,
              "#7201a8"
             ],
             [
              0.3333333333333333,
              "#9c179e"
             ],
             [
              0.4444444444444444,
              "#bd3786"
             ],
             [
              0.5555555555555556,
              "#d8576b"
             ],
             [
              0.6666666666666666,
              "#ed7953"
             ],
             [
              0.7777777777777778,
              "#fb9f3a"
             ],
             [
              0.8888888888888888,
              "#fdca26"
             ],
             [
              1,
              "#f0f921"
             ]
            ],
            "type": "surface"
           }
          ],
          "table": [
           {
            "cells": {
             "fill": {
              "color": "#EBF0F8"
             },
             "line": {
              "color": "white"
             }
            },
            "header": {
             "fill": {
              "color": "#C8D4E3"
             },
             "line": {
              "color": "white"
             }
            },
            "type": "table"
           }
          ]
         },
         "layout": {
          "annotationdefaults": {
           "arrowcolor": "#2a3f5f",
           "arrowhead": 0,
           "arrowwidth": 1
          },
          "autotypenumbers": "strict",
          "coloraxis": {
           "colorbar": {
            "outlinewidth": 0,
            "ticks": ""
           }
          },
          "colorscale": {
           "diverging": [
            [
             0,
             "#8e0152"
            ],
            [
             0.1,
             "#c51b7d"
            ],
            [
             0.2,
             "#de77ae"
            ],
            [
             0.3,
             "#f1b6da"
            ],
            [
             0.4,
             "#fde0ef"
            ],
            [
             0.5,
             "#f7f7f7"
            ],
            [
             0.6,
             "#e6f5d0"
            ],
            [
             0.7,
             "#b8e186"
            ],
            [
             0.8,
             "#7fbc41"
            ],
            [
             0.9,
             "#4d9221"
            ],
            [
             1,
             "#276419"
            ]
           ],
           "sequential": [
            [
             0,
             "#0d0887"
            ],
            [
             0.1111111111111111,
             "#46039f"
            ],
            [
             0.2222222222222222,
             "#7201a8"
            ],
            [
             0.3333333333333333,
             "#9c179e"
            ],
            [
             0.4444444444444444,
             "#bd3786"
            ],
            [
             0.5555555555555556,
             "#d8576b"
            ],
            [
             0.6666666666666666,
             "#ed7953"
            ],
            [
             0.7777777777777778,
             "#fb9f3a"
            ],
            [
             0.8888888888888888,
             "#fdca26"
            ],
            [
             1,
             "#f0f921"
            ]
           ],
           "sequentialminus": [
            [
             0,
             "#0d0887"
            ],
            [
             0.1111111111111111,
             "#46039f"
            ],
            [
             0.2222222222222222,
             "#7201a8"
            ],
            [
             0.3333333333333333,
             "#9c179e"
            ],
            [
             0.4444444444444444,
             "#bd3786"
            ],
            [
             0.5555555555555556,
             "#d8576b"
            ],
            [
             0.6666666666666666,
             "#ed7953"
            ],
            [
             0.7777777777777778,
             "#fb9f3a"
            ],
            [
             0.8888888888888888,
             "#fdca26"
            ],
            [
             1,
             "#f0f921"
            ]
           ]
          },
          "colorway": [
           "#636efa",
           "#EF553B",
           "#00cc96",
           "#ab63fa",
           "#FFA15A",
           "#19d3f3",
           "#FF6692",
           "#B6E880",
           "#FF97FF",
           "#FECB52"
          ],
          "font": {
           "color": "#2a3f5f"
          },
          "geo": {
           "bgcolor": "white",
           "lakecolor": "white",
           "landcolor": "#E5ECF6",
           "showlakes": true,
           "showland": true,
           "subunitcolor": "white"
          },
          "hoverlabel": {
           "align": "left"
          },
          "hovermode": "closest",
          "mapbox": {
           "style": "light"
          },
          "paper_bgcolor": "white",
          "plot_bgcolor": "#E5ECF6",
          "polar": {
           "angularaxis": {
            "gridcolor": "white",
            "linecolor": "white",
            "ticks": ""
           },
           "bgcolor": "#E5ECF6",
           "radialaxis": {
            "gridcolor": "white",
            "linecolor": "white",
            "ticks": ""
           }
          },
          "scene": {
           "xaxis": {
            "backgroundcolor": "#E5ECF6",
            "gridcolor": "white",
            "gridwidth": 2,
            "linecolor": "white",
            "showbackground": true,
            "ticks": "",
            "zerolinecolor": "white"
           },
           "yaxis": {
            "backgroundcolor": "#E5ECF6",
            "gridcolor": "white",
            "gridwidth": 2,
            "linecolor": "white",
            "showbackground": true,
            "ticks": "",
            "zerolinecolor": "white"
           },
           "zaxis": {
            "backgroundcolor": "#E5ECF6",
            "gridcolor": "white",
            "gridwidth": 2,
            "linecolor": "white",
            "showbackground": true,
            "ticks": "",
            "zerolinecolor": "white"
           }
          },
          "shapedefaults": {
           "line": {
            "color": "#2a3f5f"
           }
          },
          "ternary": {
           "aaxis": {
            "gridcolor": "white",
            "linecolor": "white",
            "ticks": ""
           },
           "baxis": {
            "gridcolor": "white",
            "linecolor": "white",
            "ticks": ""
           },
           "bgcolor": "#E5ECF6",
           "caxis": {
            "gridcolor": "white",
            "linecolor": "white",
            "ticks": ""
           }
          },
          "title": {
           "x": 0.05
          },
          "xaxis": {
           "automargin": true,
           "gridcolor": "white",
           "linecolor": "white",
           "ticks": "",
           "title": {
            "standoff": 15
           },
           "zerolinecolor": "white",
           "zerolinewidth": 2
          },
          "yaxis": {
           "automargin": true,
           "gridcolor": "white",
           "linecolor": "white",
           "ticks": "",
           "title": {
            "standoff": 15
           },
           "zerolinecolor": "white",
           "zerolinewidth": 2
          }
         }
        },
        "title": {
         "text": "Parcela de 10 m × 10 m en el plano XY"
        },
        "width": 500,
        "xaxis": {
         "range": [
          -1,
          11
         ],
         "scaleanchor": "y",
         "scaleratio": 1,
         "title": {
          "text": "X (m)"
         }
        },
        "yaxis": {
         "range": [
          -1,
          11
         ],
         "title": {
          "text": "Y (m)"
         }
        }
       }
      }
     },
     "metadata": {},
     "output_type": "display_data"
    }
   ],
   "source": [
    "import plotly.graph_objects as go\n",
    "\n",
    "# Crear los vértices de la parcela (cuadrado de 10x10 m)\n",
    "x = [0, 10, 10, 0, 0]\n",
    "y = [0, 0, 10, 10, 0]\n",
    "\n",
    "fig_parcela = go.Figure()\n",
    "\n",
    "# Dibujar el contorno de la parcela\n",
    "fig_parcela.add_trace(go.Scatter(\n",
    "    x=x, y=y, mode='lines', fill='toself',\n",
    "    line=dict(color='green', width=3),\n",
    "    name='Parcela 10x10 m'\n",
    "))\n",
    "\n",
    "# Configurar el diseño\n",
    "fig_parcela.update_layout(\n",
    "    title='Parcela de 10 m × 10 m en el plano XY',\n",
    "    xaxis_title='X (m)',\n",
    "    yaxis_title='Y (m)',\n",
    "    xaxis=dict(range=[-1, 11], scaleanchor=\"y\", scaleratio=1),\n",
    "    yaxis=dict(range=[-1, 11]),\n",
    "    width=500, height=500,\n",
    "    showlegend=False\n",
    ")\n",
    "\n",
    "fig_parcela.show()"
   ]
  },
  {
   "cell_type": "markdown",
   "id": "d5a0aa2b",
   "metadata": {},
   "source": [
    "2. Simula una siembra donde cada planta está separada 1.5 m de sus vecinas, en forma de triángulos equiláteros.\n"
   ]
  },
  {
   "cell_type": "code",
   "execution_count": 19,
   "id": "cd6f96c7",
   "metadata": {},
   "outputs": [
    {
     "data": {
      "application/vnd.plotly.v1+json": {
       "config": {
        "plotlyServerURL": "https://plot.ly"
       },
       "data": [
        {
         "fill": "toself",
         "line": {
          "color": "green",
          "width": 3
         },
         "mode": "lines",
         "name": "Parcela 10x10 m",
         "type": "scatter",
         "x": [
          0,
          10,
          10,
          0,
          0
         ],
         "y": [
          0,
          0,
          10,
          10,
          0
         ]
        },
        {
         "marker": {
          "color": "brown",
          "size": 10,
          "symbol": "circle"
         },
         "mode": "markers",
         "name": "Plantas",
         "type": "scatter",
         "x": [
          0.75,
          2.25,
          3.75,
          5.25,
          6.75,
          8.25,
          1.5,
          3,
          4.5,
          6,
          7.5,
          9,
          0.75,
          2.25,
          3.75,
          5.25,
          6.75,
          8.25,
          1.5,
          3,
          4.5,
          6,
          7.5,
          9,
          0.75,
          2.25,
          3.75,
          5.25,
          6.75,
          8.25,
          1.5,
          3,
          4.5,
          6,
          7.5,
          9,
          0.75,
          2.25,
          3.75,
          5.25,
          6.75,
          8.25
         ],
         "y": [
          0.75,
          0.75,
          0.75,
          0.75,
          0.75,
          0.75,
          2.049038105676658,
          2.049038105676658,
          2.049038105676658,
          2.049038105676658,
          2.049038105676658,
          2.049038105676658,
          3.348076211353316,
          3.348076211353316,
          3.348076211353316,
          3.348076211353316,
          3.348076211353316,
          3.348076211353316,
          4.647114317029974,
          4.647114317029974,
          4.647114317029974,
          4.647114317029974,
          4.647114317029974,
          4.647114317029974,
          5.946152422706632,
          5.946152422706632,
          5.946152422706632,
          5.946152422706632,
          5.946152422706632,
          5.946152422706632,
          7.24519052838329,
          7.24519052838329,
          7.24519052838329,
          7.24519052838329,
          7.24519052838329,
          7.24519052838329,
          8.544228634059948,
          8.544228634059948,
          8.544228634059948,
          8.544228634059948,
          8.544228634059948,
          8.544228634059948
         ]
        }
       ],
       "layout": {
        "height": 500,
        "showlegend": false,
        "template": {
         "data": {
          "bar": [
           {
            "error_x": {
             "color": "#2a3f5f"
            },
            "error_y": {
             "color": "#2a3f5f"
            },
            "marker": {
             "line": {
              "color": "#E5ECF6",
              "width": 0.5
             },
             "pattern": {
              "fillmode": "overlay",
              "size": 10,
              "solidity": 0.2
             }
            },
            "type": "bar"
           }
          ],
          "barpolar": [
           {
            "marker": {
             "line": {
              "color": "#E5ECF6",
              "width": 0.5
             },
             "pattern": {
              "fillmode": "overlay",
              "size": 10,
              "solidity": 0.2
             }
            },
            "type": "barpolar"
           }
          ],
          "carpet": [
           {
            "aaxis": {
             "endlinecolor": "#2a3f5f",
             "gridcolor": "white",
             "linecolor": "white",
             "minorgridcolor": "white",
             "startlinecolor": "#2a3f5f"
            },
            "baxis": {
             "endlinecolor": "#2a3f5f",
             "gridcolor": "white",
             "linecolor": "white",
             "minorgridcolor": "white",
             "startlinecolor": "#2a3f5f"
            },
            "type": "carpet"
           }
          ],
          "choropleth": [
           {
            "colorbar": {
             "outlinewidth": 0,
             "ticks": ""
            },
            "type": "choropleth"
           }
          ],
          "contour": [
           {
            "colorbar": {
             "outlinewidth": 0,
             "ticks": ""
            },
            "colorscale": [
             [
              0,
              "#0d0887"
             ],
             [
              0.1111111111111111,
              "#46039f"
             ],
             [
              0.2222222222222222,
              "#7201a8"
             ],
             [
              0.3333333333333333,
              "#9c179e"
             ],
             [
              0.4444444444444444,
              "#bd3786"
             ],
             [
              0.5555555555555556,
              "#d8576b"
             ],
             [
              0.6666666666666666,
              "#ed7953"
             ],
             [
              0.7777777777777778,
              "#fb9f3a"
             ],
             [
              0.8888888888888888,
              "#fdca26"
             ],
             [
              1,
              "#f0f921"
             ]
            ],
            "type": "contour"
           }
          ],
          "contourcarpet": [
           {
            "colorbar": {
             "outlinewidth": 0,
             "ticks": ""
            },
            "type": "contourcarpet"
           }
          ],
          "heatmap": [
           {
            "colorbar": {
             "outlinewidth": 0,
             "ticks": ""
            },
            "colorscale": [
             [
              0,
              "#0d0887"
             ],
             [
              0.1111111111111111,
              "#46039f"
             ],
             [
              0.2222222222222222,
              "#7201a8"
             ],
             [
              0.3333333333333333,
              "#9c179e"
             ],
             [
              0.4444444444444444,
              "#bd3786"
             ],
             [
              0.5555555555555556,
              "#d8576b"
             ],
             [
              0.6666666666666666,
              "#ed7953"
             ],
             [
              0.7777777777777778,
              "#fb9f3a"
             ],
             [
              0.8888888888888888,
              "#fdca26"
             ],
             [
              1,
              "#f0f921"
             ]
            ],
            "type": "heatmap"
           }
          ],
          "histogram": [
           {
            "marker": {
             "pattern": {
              "fillmode": "overlay",
              "size": 10,
              "solidity": 0.2
             }
            },
            "type": "histogram"
           }
          ],
          "histogram2d": [
           {
            "colorbar": {
             "outlinewidth": 0,
             "ticks": ""
            },
            "colorscale": [
             [
              0,
              "#0d0887"
             ],
             [
              0.1111111111111111,
              "#46039f"
             ],
             [
              0.2222222222222222,
              "#7201a8"
             ],
             [
              0.3333333333333333,
              "#9c179e"
             ],
             [
              0.4444444444444444,
              "#bd3786"
             ],
             [
              0.5555555555555556,
              "#d8576b"
             ],
             [
              0.6666666666666666,
              "#ed7953"
             ],
             [
              0.7777777777777778,
              "#fb9f3a"
             ],
             [
              0.8888888888888888,
              "#fdca26"
             ],
             [
              1,
              "#f0f921"
             ]
            ],
            "type": "histogram2d"
           }
          ],
          "histogram2dcontour": [
           {
            "colorbar": {
             "outlinewidth": 0,
             "ticks": ""
            },
            "colorscale": [
             [
              0,
              "#0d0887"
             ],
             [
              0.1111111111111111,
              "#46039f"
             ],
             [
              0.2222222222222222,
              "#7201a8"
             ],
             [
              0.3333333333333333,
              "#9c179e"
             ],
             [
              0.4444444444444444,
              "#bd3786"
             ],
             [
              0.5555555555555556,
              "#d8576b"
             ],
             [
              0.6666666666666666,
              "#ed7953"
             ],
             [
              0.7777777777777778,
              "#fb9f3a"
             ],
             [
              0.8888888888888888,
              "#fdca26"
             ],
             [
              1,
              "#f0f921"
             ]
            ],
            "type": "histogram2dcontour"
           }
          ],
          "mesh3d": [
           {
            "colorbar": {
             "outlinewidth": 0,
             "ticks": ""
            },
            "type": "mesh3d"
           }
          ],
          "parcoords": [
           {
            "line": {
             "colorbar": {
              "outlinewidth": 0,
              "ticks": ""
             }
            },
            "type": "parcoords"
           }
          ],
          "pie": [
           {
            "automargin": true,
            "type": "pie"
           }
          ],
          "scatter": [
           {
            "fillpattern": {
             "fillmode": "overlay",
             "size": 10,
             "solidity": 0.2
            },
            "type": "scatter"
           }
          ],
          "scatter3d": [
           {
            "line": {
             "colorbar": {
              "outlinewidth": 0,
              "ticks": ""
             }
            },
            "marker": {
             "colorbar": {
              "outlinewidth": 0,
              "ticks": ""
             }
            },
            "type": "scatter3d"
           }
          ],
          "scattercarpet": [
           {
            "marker": {
             "colorbar": {
              "outlinewidth": 0,
              "ticks": ""
             }
            },
            "type": "scattercarpet"
           }
          ],
          "scattergeo": [
           {
            "marker": {
             "colorbar": {
              "outlinewidth": 0,
              "ticks": ""
             }
            },
            "type": "scattergeo"
           }
          ],
          "scattergl": [
           {
            "marker": {
             "colorbar": {
              "outlinewidth": 0,
              "ticks": ""
             }
            },
            "type": "scattergl"
           }
          ],
          "scattermap": [
           {
            "marker": {
             "colorbar": {
              "outlinewidth": 0,
              "ticks": ""
             }
            },
            "type": "scattermap"
           }
          ],
          "scattermapbox": [
           {
            "marker": {
             "colorbar": {
              "outlinewidth": 0,
              "ticks": ""
             }
            },
            "type": "scattermapbox"
           }
          ],
          "scatterpolar": [
           {
            "marker": {
             "colorbar": {
              "outlinewidth": 0,
              "ticks": ""
             }
            },
            "type": "scatterpolar"
           }
          ],
          "scatterpolargl": [
           {
            "marker": {
             "colorbar": {
              "outlinewidth": 0,
              "ticks": ""
             }
            },
            "type": "scatterpolargl"
           }
          ],
          "scatterternary": [
           {
            "marker": {
             "colorbar": {
              "outlinewidth": 0,
              "ticks": ""
             }
            },
            "type": "scatterternary"
           }
          ],
          "surface": [
           {
            "colorbar": {
             "outlinewidth": 0,
             "ticks": ""
            },
            "colorscale": [
             [
              0,
              "#0d0887"
             ],
             [
              0.1111111111111111,
              "#46039f"
             ],
             [
              0.2222222222222222,
              "#7201a8"
             ],
             [
              0.3333333333333333,
              "#9c179e"
             ],
             [
              0.4444444444444444,
              "#bd3786"
             ],
             [
              0.5555555555555556,
              "#d8576b"
             ],
             [
              0.6666666666666666,
              "#ed7953"
             ],
             [
              0.7777777777777778,
              "#fb9f3a"
             ],
             [
              0.8888888888888888,
              "#fdca26"
             ],
             [
              1,
              "#f0f921"
             ]
            ],
            "type": "surface"
           }
          ],
          "table": [
           {
            "cells": {
             "fill": {
              "color": "#EBF0F8"
             },
             "line": {
              "color": "white"
             }
            },
            "header": {
             "fill": {
              "color": "#C8D4E3"
             },
             "line": {
              "color": "white"
             }
            },
            "type": "table"
           }
          ]
         },
         "layout": {
          "annotationdefaults": {
           "arrowcolor": "#2a3f5f",
           "arrowhead": 0,
           "arrowwidth": 1
          },
          "autotypenumbers": "strict",
          "coloraxis": {
           "colorbar": {
            "outlinewidth": 0,
            "ticks": ""
           }
          },
          "colorscale": {
           "diverging": [
            [
             0,
             "#8e0152"
            ],
            [
             0.1,
             "#c51b7d"
            ],
            [
             0.2,
             "#de77ae"
            ],
            [
             0.3,
             "#f1b6da"
            ],
            [
             0.4,
             "#fde0ef"
            ],
            [
             0.5,
             "#f7f7f7"
            ],
            [
             0.6,
             "#e6f5d0"
            ],
            [
             0.7,
             "#b8e186"
            ],
            [
             0.8,
             "#7fbc41"
            ],
            [
             0.9,
             "#4d9221"
            ],
            [
             1,
             "#276419"
            ]
           ],
           "sequential": [
            [
             0,
             "#0d0887"
            ],
            [
             0.1111111111111111,
             "#46039f"
            ],
            [
             0.2222222222222222,
             "#7201a8"
            ],
            [
             0.3333333333333333,
             "#9c179e"
            ],
            [
             0.4444444444444444,
             "#bd3786"
            ],
            [
             0.5555555555555556,
             "#d8576b"
            ],
            [
             0.6666666666666666,
             "#ed7953"
            ],
            [
             0.7777777777777778,
             "#fb9f3a"
            ],
            [
             0.8888888888888888,
             "#fdca26"
            ],
            [
             1,
             "#f0f921"
            ]
           ],
           "sequentialminus": [
            [
             0,
             "#0d0887"
            ],
            [
             0.1111111111111111,
             "#46039f"
            ],
            [
             0.2222222222222222,
             "#7201a8"
            ],
            [
             0.3333333333333333,
             "#9c179e"
            ],
            [
             0.4444444444444444,
             "#bd3786"
            ],
            [
             0.5555555555555556,
             "#d8576b"
            ],
            [
             0.6666666666666666,
             "#ed7953"
            ],
            [
             0.7777777777777778,
             "#fb9f3a"
            ],
            [
             0.8888888888888888,
             "#fdca26"
            ],
            [
             1,
             "#f0f921"
            ]
           ]
          },
          "colorway": [
           "#636efa",
           "#EF553B",
           "#00cc96",
           "#ab63fa",
           "#FFA15A",
           "#19d3f3",
           "#FF6692",
           "#B6E880",
           "#FF97FF",
           "#FECB52"
          ],
          "font": {
           "color": "#2a3f5f"
          },
          "geo": {
           "bgcolor": "white",
           "lakecolor": "white",
           "landcolor": "#E5ECF6",
           "showlakes": true,
           "showland": true,
           "subunitcolor": "white"
          },
          "hoverlabel": {
           "align": "left"
          },
          "hovermode": "closest",
          "mapbox": {
           "style": "light"
          },
          "paper_bgcolor": "white",
          "plot_bgcolor": "#E5ECF6",
          "polar": {
           "angularaxis": {
            "gridcolor": "white",
            "linecolor": "white",
            "ticks": ""
           },
           "bgcolor": "#E5ECF6",
           "radialaxis": {
            "gridcolor": "white",
            "linecolor": "white",
            "ticks": ""
           }
          },
          "scene": {
           "xaxis": {
            "backgroundcolor": "#E5ECF6",
            "gridcolor": "white",
            "gridwidth": 2,
            "linecolor": "white",
            "showbackground": true,
            "ticks": "",
            "zerolinecolor": "white"
           },
           "yaxis": {
            "backgroundcolor": "#E5ECF6",
            "gridcolor": "white",
            "gridwidth": 2,
            "linecolor": "white",
            "showbackground": true,
            "ticks": "",
            "zerolinecolor": "white"
           },
           "zaxis": {
            "backgroundcolor": "#E5ECF6",
            "gridcolor": "white",
            "gridwidth": 2,
            "linecolor": "white",
            "showbackground": true,
            "ticks": "",
            "zerolinecolor": "white"
           }
          },
          "shapedefaults": {
           "line": {
            "color": "#2a3f5f"
           }
          },
          "ternary": {
           "aaxis": {
            "gridcolor": "white",
            "linecolor": "white",
            "ticks": ""
           },
           "baxis": {
            "gridcolor": "white",
            "linecolor": "white",
            "ticks": ""
           },
           "bgcolor": "#E5ECF6",
           "caxis": {
            "gridcolor": "white",
            "linecolor": "white",
            "ticks": ""
           }
          },
          "title": {
           "x": 0.05
          },
          "xaxis": {
           "automargin": true,
           "gridcolor": "white",
           "linecolor": "white",
           "ticks": "",
           "title": {
            "standoff": 15
           },
           "zerolinecolor": "white",
           "zerolinewidth": 2
          },
          "yaxis": {
           "automargin": true,
           "gridcolor": "white",
           "linecolor": "white",
           "ticks": "",
           "title": {
            "standoff": 15
           },
           "zerolinecolor": "white",
           "zerolinewidth": 2
          }
         }
        },
        "title": {
         "text": "Simulación de siembra en tres bolillos (triángulos equiláteros)"
        },
        "width": 500,
        "xaxis": {
         "range": [
          -1,
          11
         ],
         "scaleanchor": "y",
         "scaleratio": 1,
         "title": {
          "text": "X (m)"
         }
        },
        "yaxis": {
         "range": [
          -1,
          11
         ],
         "title": {
          "text": "Y (m)"
         }
        }
       }
      }
     },
     "metadata": {},
     "output_type": "display_data"
    }
   ],
   "source": [
    "import numpy as np\n",
    "\n",
    "# Parámetros de la parcela y siembra\n",
    "lado_parcela = 10  # metros\n",
    "distancia = 1.5    # separación entre plantas (m)\n",
    "altura_fila = distancia * np.sqrt(3) / 2  # altura del triángulo equilátero\n",
    "\n",
    "# Generar posiciones de plantas en patrón de triángulos equiláteros (\"tres bolillos\")\n",
    "plantas_x = []\n",
    "plantas_y = []\n",
    "\n",
    "fila = 0\n",
    "y_actual = distancia / 2\n",
    "while y_actual <= lado_parcela - distancia / 2:\n",
    "    # Desplazamiento en x para filas alternas (patrón hexagonal)\n",
    "    offset = 0 if fila % 2 == 0 else distancia / 2\n",
    "    x_actual = distancia / 2 + offset\n",
    "    while x_actual <= lado_parcela - distancia / 2:\n",
    "        plantas_x.append(x_actual)\n",
    "        plantas_y.append(y_actual)\n",
    "        x_actual += distancia\n",
    "    y_actual += altura_fila\n",
    "    fila += 1\n",
    "\n",
    "# Agregar las plantas a la figura de la parcela\n",
    "fig_parcela.add_trace(\n",
    "    dict(\n",
    "        type='scatter',\n",
    "        x=plantas_x,\n",
    "        y=plantas_y,\n",
    "        mode='markers',\n",
    "        marker=dict(size=10, color='brown', symbol='circle'),\n",
    "        name='Plantas'\n",
    "    )\n",
    ")\n",
    "\n",
    "fig_parcela.update_layout(title='Simulación de siembra en tres bolillos (triángulos equiláteros)')\n",
    "fig_parcela.show()"
   ]
  },
  {
   "cell_type": "code",
   "execution_count": 22,
   "id": "ddabe0d8",
   "metadata": {},
   "outputs": [
    {
     "data": {
      "application/vnd.plotly.v1+json": {
       "config": {
        "plotlyServerURL": "https://plot.ly"
       },
       "data": [
        {
         "fill": "toself",
         "line": {
          "color": "green",
          "width": 3
         },
         "mode": "lines",
         "name": "Parcela 10x10 m",
         "type": "scatter",
         "x": [
          0,
          10,
          10,
          0,
          0
         ],
         "y": [
          0,
          0,
          10,
          10,
          0
         ]
        },
        {
         "marker": {
          "color": "brown",
          "size": 10,
          "symbol": "circle"
         },
         "mode": "markers",
         "name": "Plantas",
         "type": "scatter",
         "x": [
          0.75,
          2.25,
          3.75,
          5.25,
          6.75,
          8.25,
          1.5,
          3,
          4.5,
          6,
          7.5,
          9,
          0.75,
          2.25,
          3.75,
          5.25,
          6.75,
          8.25,
          1.5,
          3,
          4.5,
          6,
          7.5,
          9,
          0.75,
          2.25,
          3.75,
          5.25,
          6.75,
          8.25,
          1.5,
          3,
          4.5,
          6,
          7.5,
          9,
          0.75,
          2.25,
          3.75,
          5.25,
          6.75,
          8.25
         ],
         "y": [
          0.75,
          0.75,
          0.75,
          0.75,
          0.75,
          0.75,
          2.049038105676658,
          2.049038105676658,
          2.049038105676658,
          2.049038105676658,
          2.049038105676658,
          2.049038105676658,
          3.348076211353316,
          3.348076211353316,
          3.348076211353316,
          3.348076211353316,
          3.348076211353316,
          3.348076211353316,
          4.647114317029974,
          4.647114317029974,
          4.647114317029974,
          4.647114317029974,
          4.647114317029974,
          4.647114317029974,
          5.946152422706632,
          5.946152422706632,
          5.946152422706632,
          5.946152422706632,
          5.946152422706632,
          5.946152422706632,
          7.24519052838329,
          7.24519052838329,
          7.24519052838329,
          7.24519052838329,
          7.24519052838329,
          7.24519052838329,
          8.544228634059948,
          8.544228634059948,
          8.544228634059948,
          8.544228634059948,
          8.544228634059948,
          8.544228634059948
         ]
        },
        {
         "fill": "toself",
         "fillcolor": "rgba(255,200,0,0.2)",
         "line": {
          "color": "orange",
          "width": 1
         },
         "mode": "lines",
         "showlegend": false,
         "type": "scatter",
         "x": {
          "bdata": "ViYsdD3b+T8rExa6nu3yP1izpxeFSdQ/WGXCQtezvb9Os6cXhUnUPygTFrqe7fI/ViYsdD3b+T8=",
          "dtype": "f8"
         },
         "y": {
          "bdata": "AAAAAAAA6D8AAAAAAAD4PwAAAAAAAPg/AQAAAAAA6D8AAAAAAACgPAAAAAAAAMC8/v//////5z8=",
          "dtype": "f8"
         }
        },
        {
         "fill": "toself",
         "fillcolor": "rgba(255,200,0,0.2)",
         "line": {
          "color": "orange",
          "width": 1
         },
         "mode": "lines",
         "showlegend": false,
         "type": "scatter",
         "x": {
          "bdata": "KxMWup7tCECWCQtdz3YFQNbs6UVhEv0/qtnTi8Ik9j/U7OlFYRL9P5QJC13PdgVAKxMWup7tCEA=",
          "dtype": "f8"
         },
         "y": {
          "bdata": "AAAAAAAA6D8AAAAAAAD4PwAAAAAAAPg/AQAAAAAA6D8AAAAAAACgPAAAAAAAAMC8/v//////5z8=",
          "dtype": "f8"
         }
        },
        {
         "fill": "toself",
         "fillcolor": "rgba(255,200,0,0.2)",
         "line": {
          "color": "orange",
          "width": 1
         },
         "mode": "lines",
         "showlegend": false,
         "type": "scatter",
         "x": {
          "bdata": "lQkLXc92EkDLhIWuZ7sQQGv29KIwiQpA1ezpRWESB0Bq9vSiMIkKQMqEha5nuxBAlQkLXc92EkA=",
          "dtype": "f8"
         },
         "y": {
          "bdata": "AAAAAAAA6D8AAAAAAAD4PwAAAAAAAPg/AQAAAAAA6D8AAAAAAACgPAAAAAAAAMC8/v//////5z8=",
          "dtype": "f8"
         }
        },
        {
         "fill": "toself",
         "fillcolor": "rgba(255,200,0,0.2)",
         "line": {
          "color": "orange",
          "width": 1
         },
         "mode": "lines",
         "showlegend": false,
         "type": "scatter",
         "x": {
          "bdata": "lQkLXc92GEDLhIWuZ7sWQDZ7elGYRBNAa/b0ojCJEUA1e3pRmEQTQMqEha5nuxZAlQkLXc92GEA=",
          "dtype": "f8"
         },
         "y": {
          "bdata": "AAAAAAAA6D8AAAAAAAD4PwAAAAAAAPg/AQAAAAAA6D8AAAAAAACgPAAAAAAAAMC8/v//////5z8=",
          "dtype": "f8"
         }
        },
        {
         "fill": "toself",
         "fillcolor": "rgba(255,200,0,0.2)",
         "line": {
          "color": "orange",
          "width": 1
         },
         "mode": "lines",
         "showlegend": false,
         "type": "scatter",
         "x": {
          "bdata": "lQkLXc92HkDLhIWuZ7scQDZ7elGYRBlAa/b0ojCJF0A1e3pRmEQZQMqEha5nuxxAlQkLXc92HkA=",
          "dtype": "f8"
         },
         "y": {
          "bdata": "AAAAAAAA6D8AAAAAAAD4PwAAAAAAAPg/AQAAAAAA6D8AAAAAAACgPAAAAAAAAMC8/v//////5z8=",
          "dtype": "f8"
         }
        },
        {
         "fill": "toself",
         "fillcolor": "rgba(255,200,0,0.2)",
         "line": {
          "color": "orange",
          "width": 1
         },
         "mode": "lines",
         "showlegend": false,
         "type": "scatter",
         "x": {
          "bdata": "y4SFrmc7IkBlwkLXs10hQDZ7elGYRB9Aa/b0ojCJHUA1e3pRmEQfQGXCQtezXSFAy4SFrmc7IkA=",
          "dtype": "f8"
         },
         "y": {
          "bdata": "AAAAAAAA6D8AAAAAAAD4PwAAAAAAAPg/AQAAAAAA6D8AAAAAAACgPAAAAAAAAMC8/v//////5z8=",
          "dtype": "f8"
         }
        },
        {
         "fill": "toself",
         "fillcolor": "rgba(255,200,0,0.2)",
         "line": {
          "color": "orange",
          "width": 1
         },
         "mode": "lines",
         "showlegend": false,
         "type": "scatter",
         "x": {
          "bdata": "KxMWup7tAkArExa6nu3+P9bs6UVhEvE/VbOnF4VJ5D/U7OlFYRLxPygTFrqe7f4/KxMWup7tAkA=",
          "dtype": "f8"
         },
         "y": {
          "bdata": "wBwhF25kAEDAHCEXbmQGQMAcIRduZAZAwBwhF25kAECAOUIu3Mj0P345Qi7cyPQ/wBwhF25kAEA=",
          "dtype": "f8"
         }
        },
        {
         "fill": "toself",
         "fillcolor": "rgba(255,200,0,0.2)",
         "line": {
          "color": "orange",
          "width": 1
         },
         "mode": "lines",
         "showlegend": false,
         "type": "scatter",
         "x": {
          "bdata": "KxMWup7tDkCWCQtdz3YLQGv29KIwiQRA1ezpRWESAUBq9vSiMIkEQJQJC13PdgtAKxMWup7tDkA=",
          "dtype": "f8"
         },
         "y": {
          "bdata": "wBwhF25kAEDAHCEXbmQGQMAcIRduZAZAwBwhF25kAECAOUIu3Mj0P345Qi7cyPQ/wBwhF25kAEA=",
          "dtype": "f8"
         }
        },
        {
         "fill": "toself",
         "fillcolor": "rgba(255,200,0,0.2)",
         "line": {
          "color": "orange",
          "width": 1
         },
         "mode": "lines",
         "showlegend": false,
         "type": "scatter",
         "x": {
          "bdata": "lQkLXc92FUDLhIWuZ7sTQDZ7elGYRBBA1ezpRWESDUA1e3pRmEQQQMqEha5nuxNAlQkLXc92FUA=",
          "dtype": "f8"
         },
         "y": {
          "bdata": "wBwhF25kAEDAHCEXbmQGQMAcIRduZAZAwBwhF25kAECAOUIu3Mj0P345Qi7cyPQ/wBwhF25kAEA=",
          "dtype": "f8"
         }
        },
        {
         "fill": "toself",
         "fillcolor": "rgba(255,200,0,0.2)",
         "line": {
          "color": "orange",
          "width": 1
         },
         "mode": "lines",
         "showlegend": false,
         "type": "scatter",
         "x": {
          "bdata": "lQkLXc92G0DLhIWuZ7sZQDZ7elGYRBZAa/b0ojCJFEA1e3pRmEQWQMqEha5nuxlAlQkLXc92G0A=",
          "dtype": "f8"
         },
         "y": {
          "bdata": "wBwhF25kAEDAHCEXbmQGQMAcIRduZAZAwBwhF25kAECAOUIu3Mj0P345Qi7cyPQ/wBwhF25kAEA=",
          "dtype": "f8"
         }
        },
        {
         "fill": "toself",
         "fillcolor": "rgba(255,200,0,0.2)",
         "line": {
          "color": "orange",
          "width": 1
         },
         "mode": "lines",
         "showlegend": false,
         "type": "scatter",
         "x": {
          "bdata": "y4SFrme7IEDLhIWuZ7sfQDZ7elGYRBxAa/b0ojCJGkA1e3pRmEQcQMqEha5nux9Ay4SFrme7IEA=",
          "dtype": "f8"
         },
         "y": {
          "bdata": "wBwhF25kAEDAHCEXbmQGQMAcIRduZAZAwBwhF25kAECAOUIu3Mj0P345Qi7cyPQ/wBwhF25kAEA=",
          "dtype": "f8"
         }
        },
        {
         "fill": "toself",
         "fillcolor": "rgba(255,200,0,0.2)",
         "line": {
          "color": "orange",
          "width": 1
         },
         "mode": "lines",
         "showlegend": false,
         "type": "scatter",
         "x": {
          "bdata": "y4SFrme7I0BlwkLXs90iQJs9vShMIiFANXt6UZhEIECaPb0oTCIhQGXCQtez3SJAy4SFrme7I0A=",
          "dtype": "f8"
         },
         "y": {
          "bdata": "wBwhF25kAEDAHCEXbmQGQMAcIRduZAZAwBwhF25kAECAOUIu3Mj0P345Qi7cyPQ/wBwhF25kAEA=",
          "dtype": "f8"
         }
        },
        {
         "fill": "toself",
         "fillcolor": "rgba(255,200,0,0.2)",
         "line": {
          "color": "orange",
          "width": 1
         },
         "mode": "lines",
         "showlegend": false,
         "type": "scatter",
         "x": {
          "bdata": "ViYsdD3b+T8rExa6nu3yP1izpxeFSdQ/WGXCQtezvb9Os6cXhUnUPygTFrqe7fI/ViYsdD3b+T8=",
          "dtype": "f8"
         },
         "y": {
          "bdata": "gDlCLtzICkDAHCEXbmQQQMAcIRduZBBAgDlCLtzICkCAOUIu3MgEQH85Qi7cyARAgDlCLtzICkA=",
          "dtype": "f8"
         }
        },
        {
         "fill": "toself",
         "fillcolor": "rgba(255,200,0,0.2)",
         "line": {
          "color": "orange",
          "width": 1
         },
         "mode": "lines",
         "showlegend": false,
         "type": "scatter",
         "x": {
          "bdata": "KxMWup7tCECWCQtdz3YFQNbs6UVhEv0/qtnTi8Ik9j/U7OlFYRL9P5QJC13PdgVAKxMWup7tCEA=",
          "dtype": "f8"
         },
         "y": {
          "bdata": "gDlCLtzICkDAHCEXbmQQQMAcIRduZBBAgDlCLtzICkCAOUIu3MgEQH85Qi7cyARAgDlCLtzICkA=",
          "dtype": "f8"
         }
        },
        {
         "fill": "toself",
         "fillcolor": "rgba(255,200,0,0.2)",
         "line": {
          "color": "orange",
          "width": 1
         },
         "mode": "lines",
         "showlegend": false,
         "type": "scatter",
         "x": {
          "bdata": "lQkLXc92EkDLhIWuZ7sQQGv29KIwiQpA1ezpRWESB0Bq9vSiMIkKQMqEha5nuxBAlQkLXc92EkA=",
          "dtype": "f8"
         },
         "y": {
          "bdata": "gDlCLtzICkDAHCEXbmQQQMAcIRduZBBAgDlCLtzICkCAOUIu3MgEQH85Qi7cyARAgDlCLtzICkA=",
          "dtype": "f8"
         }
        },
        {
         "fill": "toself",
         "fillcolor": "rgba(255,200,0,0.2)",
         "line": {
          "color": "orange",
          "width": 1
         },
         "mode": "lines",
         "showlegend": false,
         "type": "scatter",
         "x": {
          "bdata": "lQkLXc92GEDLhIWuZ7sWQDZ7elGYRBNAa/b0ojCJEUA1e3pRmEQTQMqEha5nuxZAlQkLXc92GEA=",
          "dtype": "f8"
         },
         "y": {
          "bdata": "gDlCLtzICkDAHCEXbmQQQMAcIRduZBBAgDlCLtzICkCAOUIu3MgEQH85Qi7cyARAgDlCLtzICkA=",
          "dtype": "f8"
         }
        },
        {
         "fill": "toself",
         "fillcolor": "rgba(255,200,0,0.2)",
         "line": {
          "color": "orange",
          "width": 1
         },
         "mode": "lines",
         "showlegend": false,
         "type": "scatter",
         "x": {
          "bdata": "lQkLXc92HkDLhIWuZ7scQDZ7elGYRBlAa/b0ojCJF0A1e3pRmEQZQMqEha5nuxxAlQkLXc92HkA=",
          "dtype": "f8"
         },
         "y": {
          "bdata": "gDlCLtzICkDAHCEXbmQQQMAcIRduZBBAgDlCLtzICkCAOUIu3MgEQH85Qi7cyARAgDlCLtzICkA=",
          "dtype": "f8"
         }
        },
        {
         "fill": "toself",
         "fillcolor": "rgba(255,200,0,0.2)",
         "line": {
          "color": "orange",
          "width": 1
         },
         "mode": "lines",
         "showlegend": false,
         "type": "scatter",
         "x": {
          "bdata": "y4SFrmc7IkBlwkLXs10hQDZ7elGYRB9Aa/b0ojCJHUA1e3pRmEQfQGXCQtezXSFAy4SFrmc7IkA=",
          "dtype": "f8"
         },
         "y": {
          "bdata": "gDlCLtzICkDAHCEXbmQQQMAcIRduZBBAgDlCLtzICkCAOUIu3MgEQH85Qi7cyARAgDlCLtzICkA=",
          "dtype": "f8"
         }
        },
        {
         "fill": "toself",
         "fillcolor": "rgba(255,200,0,0.2)",
         "line": {
          "color": "orange",
          "width": 1
         },
         "mode": "lines",
         "showlegend": false,
         "type": "scatter",
         "x": {
          "bdata": "KxMWup7tAkArExa6nu3+P9bs6UVhEvE/VbOnF4VJ5D/U7OlFYRLxPygTFrqe7f4/KxMWup7tAkA=",
          "dtype": "f8"
         },
         "y": {
          "bdata": "IKuxIqWWEkAgq7EipZYVQCCrsSKllhVAIKuxIqWWEkBAVmNFSi0PQD9WY0VKLQ9AIKuxIqWWEkA=",
          "dtype": "f8"
         }
        },
        {
         "fill": "toself",
         "fillcolor": "rgba(255,200,0,0.2)",
         "line": {
          "color": "orange",
          "width": 1
         },
         "mode": "lines",
         "showlegend": false,
         "type": "scatter",
         "x": {
          "bdata": "KxMWup7tDkCWCQtdz3YLQGv29KIwiQRA1ezpRWESAUBq9vSiMIkEQJQJC13PdgtAKxMWup7tDkA=",
          "dtype": "f8"
         },
         "y": {
          "bdata": "IKuxIqWWEkAgq7EipZYVQCCrsSKllhVAIKuxIqWWEkBAVmNFSi0PQD9WY0VKLQ9AIKuxIqWWEkA=",
          "dtype": "f8"
         }
        },
        {
         "fill": "toself",
         "fillcolor": "rgba(255,200,0,0.2)",
         "line": {
          "color": "orange",
          "width": 1
         },
         "mode": "lines",
         "showlegend": false,
         "type": "scatter",
         "x": {
          "bdata": "lQkLXc92FUDLhIWuZ7sTQDZ7elGYRBBA1ezpRWESDUA1e3pRmEQQQMqEha5nuxNAlQkLXc92FUA=",
          "dtype": "f8"
         },
         "y": {
          "bdata": "IKuxIqWWEkAgq7EipZYVQCCrsSKllhVAIKuxIqWWEkBAVmNFSi0PQD9WY0VKLQ9AIKuxIqWWEkA=",
          "dtype": "f8"
         }
        },
        {
         "fill": "toself",
         "fillcolor": "rgba(255,200,0,0.2)",
         "line": {
          "color": "orange",
          "width": 1
         },
         "mode": "lines",
         "showlegend": false,
         "type": "scatter",
         "x": {
          "bdata": "lQkLXc92G0DLhIWuZ7sZQDZ7elGYRBZAa/b0ojCJFEA1e3pRmEQWQMqEha5nuxlAlQkLXc92G0A=",
          "dtype": "f8"
         },
         "y": {
          "bdata": "IKuxIqWWEkAgq7EipZYVQCCrsSKllhVAIKuxIqWWEkBAVmNFSi0PQD9WY0VKLQ9AIKuxIqWWEkA=",
          "dtype": "f8"
         }
        },
        {
         "fill": "toself",
         "fillcolor": "rgba(255,200,0,0.2)",
         "line": {
          "color": "orange",
          "width": 1
         },
         "mode": "lines",
         "showlegend": false,
         "type": "scatter",
         "x": {
          "bdata": "y4SFrme7IEDLhIWuZ7sfQDZ7elGYRBxAa/b0ojCJGkA1e3pRmEQcQMqEha5nux9Ay4SFrme7IEA=",
          "dtype": "f8"
         },
         "y": {
          "bdata": "IKuxIqWWEkAgq7EipZYVQCCrsSKllhVAIKuxIqWWEkBAVmNFSi0PQD9WY0VKLQ9AIKuxIqWWEkA=",
          "dtype": "f8"
         }
        },
        {
         "fill": "toself",
         "fillcolor": "rgba(255,200,0,0.2)",
         "line": {
          "color": "orange",
          "width": 1
         },
         "mode": "lines",
         "showlegend": false,
         "type": "scatter",
         "x": {
          "bdata": "y4SFrme7I0BlwkLXs90iQJs9vShMIiFANXt6UZhEIECaPb0oTCIhQGXCQtez3SJAy4SFrme7I0A=",
          "dtype": "f8"
         },
         "y": {
          "bdata": "IKuxIqWWEkAgq7EipZYVQCCrsSKllhVAIKuxIqWWEkBAVmNFSi0PQD9WY0VKLQ9AIKuxIqWWEkA=",
          "dtype": "f8"
         }
        },
        {
         "fill": "toself",
         "fillcolor": "rgba(255,200,0,0.2)",
         "line": {
          "color": "orange",
          "width": 1
         },
         "mode": "lines",
         "showlegend": false,
         "type": "scatter",
         "x": {
          "bdata": "ViYsdD3b+T8rExa6nu3yP1izpxeFSdQ/WGXCQtezvb9Os6cXhUnUPygTFrqe7fI/ViYsdD3b+T8=",
          "dtype": "f8"
         },
         "y": {
          "bdata": "gDlCLtzIF0CAOUIu3MgaQIA5Qi7cyBpAgDlCLtzIF0CAOUIu3MgUQIA5Qi7cyBRAgDlCLtzIF0A=",
          "dtype": "f8"
         }
        },
        {
         "fill": "toself",
         "fillcolor": "rgba(255,200,0,0.2)",
         "line": {
          "color": "orange",
          "width": 1
         },
         "mode": "lines",
         "showlegend": false,
         "type": "scatter",
         "x": {
          "bdata": "KxMWup7tCECWCQtdz3YFQNbs6UVhEv0/qtnTi8Ik9j/U7OlFYRL9P5QJC13PdgVAKxMWup7tCEA=",
          "dtype": "f8"
         },
         "y": {
          "bdata": "gDlCLtzIF0CAOUIu3MgaQIA5Qi7cyBpAgDlCLtzIF0CAOUIu3MgUQIA5Qi7cyBRAgDlCLtzIF0A=",
          "dtype": "f8"
         }
        },
        {
         "fill": "toself",
         "fillcolor": "rgba(255,200,0,0.2)",
         "line": {
          "color": "orange",
          "width": 1
         },
         "mode": "lines",
         "showlegend": false,
         "type": "scatter",
         "x": {
          "bdata": "lQkLXc92EkDLhIWuZ7sQQGv29KIwiQpA1ezpRWESB0Bq9vSiMIkKQMqEha5nuxBAlQkLXc92EkA=",
          "dtype": "f8"
         },
         "y": {
          "bdata": "gDlCLtzIF0CAOUIu3MgaQIA5Qi7cyBpAgDlCLtzIF0CAOUIu3MgUQIA5Qi7cyBRAgDlCLtzIF0A=",
          "dtype": "f8"
         }
        },
        {
         "fill": "toself",
         "fillcolor": "rgba(255,200,0,0.2)",
         "line": {
          "color": "orange",
          "width": 1
         },
         "mode": "lines",
         "showlegend": false,
         "type": "scatter",
         "x": {
          "bdata": "lQkLXc92GEDLhIWuZ7sWQDZ7elGYRBNAa/b0ojCJEUA1e3pRmEQTQMqEha5nuxZAlQkLXc92GEA=",
          "dtype": "f8"
         },
         "y": {
          "bdata": "gDlCLtzIF0CAOUIu3MgaQIA5Qi7cyBpAgDlCLtzIF0CAOUIu3MgUQIA5Qi7cyBRAgDlCLtzIF0A=",
          "dtype": "f8"
         }
        },
        {
         "fill": "toself",
         "fillcolor": "rgba(255,200,0,0.2)",
         "line": {
          "color": "orange",
          "width": 1
         },
         "mode": "lines",
         "showlegend": false,
         "type": "scatter",
         "x": {
          "bdata": "lQkLXc92HkDLhIWuZ7scQDZ7elGYRBlAa/b0ojCJF0A1e3pRmEQZQMqEha5nuxxAlQkLXc92HkA=",
          "dtype": "f8"
         },
         "y": {
          "bdata": "gDlCLtzIF0CAOUIu3MgaQIA5Qi7cyBpAgDlCLtzIF0CAOUIu3MgUQIA5Qi7cyBRAgDlCLtzIF0A=",
          "dtype": "f8"
         }
        },
        {
         "fill": "toself",
         "fillcolor": "rgba(255,200,0,0.2)",
         "line": {
          "color": "orange",
          "width": 1
         },
         "mode": "lines",
         "showlegend": false,
         "type": "scatter",
         "x": {
          "bdata": "y4SFrmc7IkBlwkLXs10hQDZ7elGYRB9Aa/b0ojCJHUA1e3pRmEQfQGXCQtezXSFAy4SFrmc7IkA=",
          "dtype": "f8"
         },
         "y": {
          "bdata": "gDlCLtzIF0CAOUIu3MgaQIA5Qi7cyBpAgDlCLtzIF0CAOUIu3MgUQIA5Qi7cyBRAgDlCLtzIF0A=",
          "dtype": "f8"
         }
        },
        {
         "fill": "toself",
         "fillcolor": "rgba(255,200,0,0.2)",
         "line": {
          "color": "orange",
          "width": 1
         },
         "mode": "lines",
         "showlegend": false,
         "type": "scatter",
         "x": {
          "bdata": "KxMWup7tAkArExa6nu3+P9bs6UVhEvE/VbOnF4VJ5D/U7OlFYRLxPygTFrqe7f4/KxMWup7tAkA=",
          "dtype": "f8"
         },
         "y": {
          "bdata": "4MfSORP7HEDgx9I5E/sfQODH0jkT+x9A4MfSORP7HEDgx9I5E/sZQODH0jkT+xlA4MfSORP7HEA=",
          "dtype": "f8"
         }
        },
        {
         "fill": "toself",
         "fillcolor": "rgba(255,200,0,0.2)",
         "line": {
          "color": "orange",
          "width": 1
         },
         "mode": "lines",
         "showlegend": false,
         "type": "scatter",
         "x": {
          "bdata": "KxMWup7tDkCWCQtdz3YLQGv29KIwiQRA1ezpRWESAUBq9vSiMIkEQJQJC13PdgtAKxMWup7tDkA=",
          "dtype": "f8"
         },
         "y": {
          "bdata": "4MfSORP7HEDgx9I5E/sfQODH0jkT+x9A4MfSORP7HEDgx9I5E/sZQODH0jkT+xlA4MfSORP7HEA=",
          "dtype": "f8"
         }
        },
        {
         "fill": "toself",
         "fillcolor": "rgba(255,200,0,0.2)",
         "line": {
          "color": "orange",
          "width": 1
         },
         "mode": "lines",
         "showlegend": false,
         "type": "scatter",
         "x": {
          "bdata": "lQkLXc92FUDLhIWuZ7sTQDZ7elGYRBBA1ezpRWESDUA1e3pRmEQQQMqEha5nuxNAlQkLXc92FUA=",
          "dtype": "f8"
         },
         "y": {
          "bdata": "4MfSORP7HEDgx9I5E/sfQODH0jkT+x9A4MfSORP7HEDgx9I5E/sZQODH0jkT+xlA4MfSORP7HEA=",
          "dtype": "f8"
         }
        },
        {
         "fill": "toself",
         "fillcolor": "rgba(255,200,0,0.2)",
         "line": {
          "color": "orange",
          "width": 1
         },
         "mode": "lines",
         "showlegend": false,
         "type": "scatter",
         "x": {
          "bdata": "lQkLXc92G0DLhIWuZ7sZQDZ7elGYRBZAa/b0ojCJFEA1e3pRmEQWQMqEha5nuxlAlQkLXc92G0A=",
          "dtype": "f8"
         },
         "y": {
          "bdata": "4MfSORP7HEDgx9I5E/sfQODH0jkT+x9A4MfSORP7HEDgx9I5E/sZQODH0jkT+xlA4MfSORP7HEA=",
          "dtype": "f8"
         }
        },
        {
         "fill": "toself",
         "fillcolor": "rgba(255,200,0,0.2)",
         "line": {
          "color": "orange",
          "width": 1
         },
         "mode": "lines",
         "showlegend": false,
         "type": "scatter",
         "x": {
          "bdata": "y4SFrme7IEDLhIWuZ7sfQDZ7elGYRBxAa/b0ojCJGkA1e3pRmEQcQMqEha5nux9Ay4SFrme7IEA=",
          "dtype": "f8"
         },
         "y": {
          "bdata": "4MfSORP7HEDgx9I5E/sfQODH0jkT+x9A4MfSORP7HEDgx9I5E/sZQODH0jkT+xlA4MfSORP7HEA=",
          "dtype": "f8"
         }
        },
        {
         "fill": "toself",
         "fillcolor": "rgba(255,200,0,0.2)",
         "line": {
          "color": "orange",
          "width": 1
         },
         "mode": "lines",
         "showlegend": false,
         "type": "scatter",
         "x": {
          "bdata": "y4SFrme7I0BlwkLXs90iQJs9vShMIiFANXt6UZhEIECaPb0oTCIhQGXCQtez3SJAy4SFrme7I0A=",
          "dtype": "f8"
         },
         "y": {
          "bdata": "4MfSORP7HEDgx9I5E/sfQODH0jkT+x9A4MfSORP7HEDgx9I5E/sZQODH0jkT+xlA4MfSORP7HEA=",
          "dtype": "f8"
         }
        },
        {
         "fill": "toself",
         "fillcolor": "rgba(255,200,0,0.2)",
         "line": {
          "color": "orange",
          "width": 1
         },
         "mode": "lines",
         "showlegend": false,
         "type": "scatter",
         "x": {
          "bdata": "ViYsdD3b+T8rExa6nu3yP1izpxeFSdQ/WGXCQtezvb9Os6cXhUnUPygTFrqe7fI/ViYsdD3b+T8=",
          "dtype": "f8"
         },
         "y": {
          "bdata": "IKuxIqUWIUAgq7EipZYiQCCrsSKlliJAIKuxIqUWIUBAVmNFSi0fQEBWY0VKLR9AIKuxIqUWIUA=",
          "dtype": "f8"
         }
        },
        {
         "fill": "toself",
         "fillcolor": "rgba(255,200,0,0.2)",
         "line": {
          "color": "orange",
          "width": 1
         },
         "mode": "lines",
         "showlegend": false,
         "type": "scatter",
         "x": {
          "bdata": "KxMWup7tCECWCQtdz3YFQNbs6UVhEv0/qtnTi8Ik9j/U7OlFYRL9P5QJC13PdgVAKxMWup7tCEA=",
          "dtype": "f8"
         },
         "y": {
          "bdata": "IKuxIqUWIUAgq7EipZYiQCCrsSKlliJAIKuxIqUWIUBAVmNFSi0fQEBWY0VKLR9AIKuxIqUWIUA=",
          "dtype": "f8"
         }
        },
        {
         "fill": "toself",
         "fillcolor": "rgba(255,200,0,0.2)",
         "line": {
          "color": "orange",
          "width": 1
         },
         "mode": "lines",
         "showlegend": false,
         "type": "scatter",
         "x": {
          "bdata": "lQkLXc92EkDLhIWuZ7sQQGv29KIwiQpA1ezpRWESB0Bq9vSiMIkKQMqEha5nuxBAlQkLXc92EkA=",
          "dtype": "f8"
         },
         "y": {
          "bdata": "IKuxIqUWIUAgq7EipZYiQCCrsSKlliJAIKuxIqUWIUBAVmNFSi0fQEBWY0VKLR9AIKuxIqUWIUA=",
          "dtype": "f8"
         }
        },
        {
         "fill": "toself",
         "fillcolor": "rgba(255,200,0,0.2)",
         "line": {
          "color": "orange",
          "width": 1
         },
         "mode": "lines",
         "showlegend": false,
         "type": "scatter",
         "x": {
          "bdata": "lQkLXc92GEDLhIWuZ7sWQDZ7elGYRBNAa/b0ojCJEUA1e3pRmEQTQMqEha5nuxZAlQkLXc92GEA=",
          "dtype": "f8"
         },
         "y": {
          "bdata": "IKuxIqUWIUAgq7EipZYiQCCrsSKlliJAIKuxIqUWIUBAVmNFSi0fQEBWY0VKLR9AIKuxIqUWIUA=",
          "dtype": "f8"
         }
        },
        {
         "fill": "toself",
         "fillcolor": "rgba(255,200,0,0.2)",
         "line": {
          "color": "orange",
          "width": 1
         },
         "mode": "lines",
         "showlegend": false,
         "type": "scatter",
         "x": {
          "bdata": "lQkLXc92HkDLhIWuZ7scQDZ7elGYRBlAa/b0ojCJF0A1e3pRmEQZQMqEha5nuxxAlQkLXc92HkA=",
          "dtype": "f8"
         },
         "y": {
          "bdata": "IKuxIqUWIUAgq7EipZYiQCCrsSKlliJAIKuxIqUWIUBAVmNFSi0fQEBWY0VKLR9AIKuxIqUWIUA=",
          "dtype": "f8"
         }
        },
        {
         "fill": "toself",
         "fillcolor": "rgba(255,200,0,0.2)",
         "line": {
          "color": "orange",
          "width": 1
         },
         "mode": "lines",
         "showlegend": false,
         "type": "scatter",
         "x": {
          "bdata": "y4SFrmc7IkBlwkLXs10hQDZ7elGYRB9Aa/b0ojCJHUA1e3pRmEQfQGXCQtezXSFAy4SFrmc7IkA=",
          "dtype": "f8"
         },
         "y": {
          "bdata": "IKuxIqUWIUAgq7EipZYiQCCrsSKlliJAIKuxIqUWIUBAVmNFSi0fQEBWY0VKLR9AIKuxIqUWIUA=",
          "dtype": "f8"
         }
        },
        {
         "fill": "toself",
         "fillcolor": "rgba(255,200,0,0.2)",
         "line": {
          "color": "orange",
          "width": 1
         },
         "mode": "lines",
         "showlegend": false,
         "type": "scatter",
         "x": {
          "bdata": "AAAAAAAA+D8AAAAAAADyPwMAAAAAANg/AAAAAAAAAAD6///////XP/7///////E/AAAAAAAA+D8=",
          "dtype": "f8"
         },
         "y": {
          "bdata": "AAAAAAAA6D/AHCEXbmT2P8AcIRduZPY/AQAAAAAA6D8INO6NHrm5P/Az7o0eubk//v//////5z8=",
          "dtype": "f8"
         }
        },
        {
         "fill": "toself",
         "fillcolor": "rgba(255,200,0,0.2)",
         "line": {
          "color": "orange",
          "width": 1
         },
         "mode": "lines",
         "showlegend": false,
         "type": "scatter",
         "x": {
          "bdata": "AAAAAAAACEAAAAAAAAAFQAEAAAAAAP4/AAAAAAAA+D/+///////9P////////wRAAAAAAAAACEA=",
          "dtype": "f8"
         },
         "y": {
          "bdata": "AAAAAAAA6D/AHCEXbmT2P8AcIRduZPY/AQAAAAAA6D8INO6NHrm5P/Az7o0eubk//v//////5z8=",
          "dtype": "f8"
         }
        },
        {
         "fill": "toself",
         "fillcolor": "rgba(255,200,0,0.2)",
         "line": {
          "color": "orange",
          "width": 1
         },
         "mode": "lines",
         "showlegend": false,
         "type": "scatter",
         "x": {
          "bdata": "AAAAAAAAEkAAAAAAAIAQQAAAAAAAAAtAAAAAAAAACED///////8KQP//////fxBAAAAAAAAAEkA=",
          "dtype": "f8"
         },
         "y": {
          "bdata": "AAAAAAAA6D/AHCEXbmT2P8AcIRduZPY/AQAAAAAA6D8INO6NHrm5P/Az7o0eubk//v//////5z8=",
          "dtype": "f8"
         }
        },
        {
         "fill": "toself",
         "fillcolor": "rgba(255,200,0,0.2)",
         "line": {
          "color": "orange",
          "width": 1
         },
         "mode": "lines",
         "showlegend": false,
         "type": "scatter",
         "x": {
          "bdata": "AAAAAAAAGEAAAAAAAIAWQAAAAAAAgBNAAAAAAAAAEkAAAAAAAIATQP//////fxZAAAAAAAAAGEA=",
          "dtype": "f8"
         },
         "y": {
          "bdata": "AAAAAAAA6D/AHCEXbmT2P8AcIRduZPY/AQAAAAAA6D8INO6NHrm5P/Az7o0eubk//v//////5z8=",
          "dtype": "f8"
         }
        },
        {
         "fill": "toself",
         "fillcolor": "rgba(255,200,0,0.2)",
         "line": {
          "color": "orange",
          "width": 1
         },
         "mode": "lines",
         "showlegend": false,
         "type": "scatter",
         "x": {
          "bdata": "AAAAAAAAHkAAAAAAAIAcQAAAAAAAgBlAAAAAAAAAGEAAAAAAAIAZQP//////fxxAAAAAAAAAHkA=",
          "dtype": "f8"
         },
         "y": {
          "bdata": "AAAAAAAA6D/AHCEXbmT2P8AcIRduZPY/AQAAAAAA6D8INO6NHrm5P/Az7o0eubk//v//////5z8=",
          "dtype": "f8"
         }
        },
        {
         "fill": "toself",
         "fillcolor": "rgba(255,200,0,0.2)",
         "line": {
          "color": "orange",
          "width": 1
         },
         "mode": "lines",
         "showlegend": false,
         "type": "scatter",
         "x": {
          "bdata": "AAAAAAAAIkAAAAAAAEAhQAAAAAAAgB9AAAAAAAAAHkAAAAAAAIAfQAAAAAAAQCFAAAAAAAAAIkA=",
          "dtype": "f8"
         },
         "y": {
          "bdata": "AAAAAAAA6D/AHCEXbmT2P8AcIRduZPY/AQAAAAAA6D8INO6NHrm5P/Az7o0eubk//v//////5z8=",
          "dtype": "f8"
         }
        },
        {
         "fill": "toself",
         "fillcolor": "rgba(255,200,0,0.2)",
         "line": {
          "color": "orange",
          "width": 1
         },
         "mode": "lines",
         "showlegend": false,
         "type": "scatter",
         "x": {
          "bdata": "AAAAAAAAAkAAAAAAAAD+PwEAAAAAAPI/AAAAAAAA6D/+///////xP/7///////0/AAAAAAAAAkA=",
          "dtype": "f8"
         },
         "y": {
          "bdata": "wBwhF25kAEAgq7EipZYFQCCrsSKllgVAwBwhF25kAEDAHCEXbmT2P78cIRduZPY/wBwhF25kAEA=",
          "dtype": "f8"
         }
        },
        {
         "fill": "toself",
         "fillcolor": "rgba(255,200,0,0.2)",
         "line": {
          "color": "orange",
          "width": 1
         },
         "mode": "lines",
         "showlegend": false,
         "type": "scatter",
         "x": {
          "bdata": "AAAAAAAADkAAAAAAAAALQAAAAAAAAAVAAAAAAAAAAkD///////8EQP///////wpAAAAAAAAADkA=",
          "dtype": "f8"
         },
         "y": {
          "bdata": "wBwhF25kAEAgq7EipZYFQCCrsSKllgVAwBwhF25kAEDAHCEXbmT2P78cIRduZPY/wBwhF25kAEA=",
          "dtype": "f8"
         }
        },
        {
         "fill": "toself",
         "fillcolor": "rgba(255,200,0,0.2)",
         "line": {
          "color": "orange",
          "width": 1
         },
         "mode": "lines",
         "showlegend": false,
         "type": "scatter",
         "x": {
          "bdata": "AAAAAAAAFUAAAAAAAIATQAAAAAAAgBBAAAAAAAAADkAAAAAAAIAQQP//////fxNAAAAAAAAAFUA=",
          "dtype": "f8"
         },
         "y": {
          "bdata": "wBwhF25kAEAgq7EipZYFQCCrsSKllgVAwBwhF25kAEDAHCEXbmT2P78cIRduZPY/wBwhF25kAEA=",
          "dtype": "f8"
         }
        },
        {
         "fill": "toself",
         "fillcolor": "rgba(255,200,0,0.2)",
         "line": {
          "color": "orange",
          "width": 1
         },
         "mode": "lines",
         "showlegend": false,
         "type": "scatter",
         "x": {
          "bdata": "AAAAAAAAG0AAAAAAAIAZQAAAAAAAgBZAAAAAAAAAFUAAAAAAAIAWQP//////fxlAAAAAAAAAG0A=",
          "dtype": "f8"
         },
         "y": {
          "bdata": "wBwhF25kAEAgq7EipZYFQCCrsSKllgVAwBwhF25kAEDAHCEXbmT2P78cIRduZPY/wBwhF25kAEA=",
          "dtype": "f8"
         }
        },
        {
         "fill": "toself",
         "fillcolor": "rgba(255,200,0,0.2)",
         "line": {
          "color": "orange",
          "width": 1
         },
         "mode": "lines",
         "showlegend": false,
         "type": "scatter",
         "x": {
          "bdata": "AAAAAACAIEAAAAAAAIAfQAAAAAAAgBxAAAAAAAAAG0AAAAAAAIAcQP//////fx9AAAAAAACAIEA=",
          "dtype": "f8"
         },
         "y": {
          "bdata": "wBwhF25kAEAgq7EipZYFQCCrsSKllgVAwBwhF25kAEDAHCEXbmT2P78cIRduZPY/wBwhF25kAEA=",
          "dtype": "f8"
         }
        },
        {
         "fill": "toself",
         "fillcolor": "rgba(255,200,0,0.2)",
         "line": {
          "color": "orange",
          "width": 1
         },
         "mode": "lines",
         "showlegend": false,
         "type": "scatter",
         "x": {
          "bdata": "AAAAAACAI0AAAAAAAMAiQAAAAAAAQCFAAAAAAACAIEAAAAAAAEAhQAAAAAAAwCJAAAAAAACAI0A=",
          "dtype": "f8"
         },
         "y": {
          "bdata": "wBwhF25kAEAgq7EipZYFQCCrsSKllgVAwBwhF25kAEDAHCEXbmT2P78cIRduZPY/wBwhF25kAEA=",
          "dtype": "f8"
         }
        },
        {
         "fill": "toself",
         "fillcolor": "rgba(255,200,0,0.2)",
         "line": {
          "color": "orange",
          "width": 1
         },
         "mode": "lines",
         "showlegend": false,
         "type": "scatter",
         "x": {
          "bdata": "AAAAAAAA+D8AAAAAAADyPwMAAAAAANg/AAAAAAAAAAD6///////XP/7///////E/AAAAAAAA+D8=",
          "dtype": "f8"
         },
         "y": {
          "bdata": "gDlCLtzICkDgx9I5E/sPQODH0jkT+w9AgDlCLtzICkAgq7EipZYFQCCrsSKllgVAgDlCLtzICkA=",
          "dtype": "f8"
         }
        },
        {
         "fill": "toself",
         "fillcolor": "rgba(255,200,0,0.2)",
         "line": {
          "color": "orange",
          "width": 1
         },
         "mode": "lines",
         "showlegend": false,
         "type": "scatter",
         "x": {
          "bdata": "AAAAAAAACEAAAAAAAAAFQAEAAAAAAP4/AAAAAAAA+D/+///////9P////////wRAAAAAAAAACEA=",
          "dtype": "f8"
         },
         "y": {
          "bdata": "gDlCLtzICkDgx9I5E/sPQODH0jkT+w9AgDlCLtzICkAgq7EipZYFQCCrsSKllgVAgDlCLtzICkA=",
          "dtype": "f8"
         }
        },
        {
         "fill": "toself",
         "fillcolor": "rgba(255,200,0,0.2)",
         "line": {
          "color": "orange",
          "width": 1
         },
         "mode": "lines",
         "showlegend": false,
         "type": "scatter",
         "x": {
          "bdata": "AAAAAAAAEkAAAAAAAIAQQAAAAAAAAAtAAAAAAAAACED///////8KQP//////fxBAAAAAAAAAEkA=",
          "dtype": "f8"
         },
         "y": {
          "bdata": "gDlCLtzICkDgx9I5E/sPQODH0jkT+w9AgDlCLtzICkAgq7EipZYFQCCrsSKllgVAgDlCLtzICkA=",
          "dtype": "f8"
         }
        },
        {
         "fill": "toself",
         "fillcolor": "rgba(255,200,0,0.2)",
         "line": {
          "color": "orange",
          "width": 1
         },
         "mode": "lines",
         "showlegend": false,
         "type": "scatter",
         "x": {
          "bdata": "AAAAAAAAGEAAAAAAAIAWQAAAAAAAgBNAAAAAAAAAEkAAAAAAAIATQP//////fxZAAAAAAAAAGEA=",
          "dtype": "f8"
         },
         "y": {
          "bdata": "gDlCLtzICkDgx9I5E/sPQODH0jkT+w9AgDlCLtzICkAgq7EipZYFQCCrsSKllgVAgDlCLtzICkA=",
          "dtype": "f8"
         }
        },
        {
         "fill": "toself",
         "fillcolor": "rgba(255,200,0,0.2)",
         "line": {
          "color": "orange",
          "width": 1
         },
         "mode": "lines",
         "showlegend": false,
         "type": "scatter",
         "x": {
          "bdata": "AAAAAAAAHkAAAAAAAIAcQAAAAAAAgBlAAAAAAAAAGEAAAAAAAIAZQP//////fxxAAAAAAAAAHkA=",
          "dtype": "f8"
         },
         "y": {
          "bdata": "gDlCLtzICkDgx9I5E/sPQODH0jkT+w9AgDlCLtzICkAgq7EipZYFQCCrsSKllgVAgDlCLtzICkA=",
          "dtype": "f8"
         }
        },
        {
         "fill": "toself",
         "fillcolor": "rgba(255,200,0,0.2)",
         "line": {
          "color": "orange",
          "width": 1
         },
         "mode": "lines",
         "showlegend": false,
         "type": "scatter",
         "x": {
          "bdata": "AAAAAAAAIkAAAAAAAEAhQAAAAAAAgB9AAAAAAAAAHkAAAAAAAIAfQAAAAAAAQCFAAAAAAAAAIkA=",
          "dtype": "f8"
         },
         "y": {
          "bdata": "gDlCLtzICkDgx9I5E/sPQODH0jkT+w9AgDlCLtzICkAgq7EipZYFQCCrsSKllgVAgDlCLtzICkA=",
          "dtype": "f8"
         }
        },
        {
         "fill": "toself",
         "fillcolor": "rgba(255,200,0,0.2)",
         "line": {
          "color": "orange",
          "width": 1
         },
         "mode": "lines",
         "showlegend": false,
         "type": "scatter",
         "x": {
          "bdata": "AAAAAAAAAkAAAAAAAAD+PwEAAAAAAPI/AAAAAAAA6D/+///////xP/7///////0/AAAAAAAAAkA=",
          "dtype": "f8"
         },
         "y": {
          "bdata": "IKuxIqWWEkBQ8nmowC8VQFDyeajALxVAIKuxIqWWEkDgx9I5E/sPQODH0jkT+w9AIKuxIqWWEkA=",
          "dtype": "f8"
         }
        },
        {
         "fill": "toself",
         "fillcolor": "rgba(255,200,0,0.2)",
         "line": {
          "color": "orange",
          "width": 1
         },
         "mode": "lines",
         "showlegend": false,
         "type": "scatter",
         "x": {
          "bdata": "AAAAAAAADkAAAAAAAAALQAAAAAAAAAVAAAAAAAAAAkD///////8EQP///////wpAAAAAAAAADkA=",
          "dtype": "f8"
         },
         "y": {
          "bdata": "IKuxIqWWEkBQ8nmowC8VQFDyeajALxVAIKuxIqWWEkDgx9I5E/sPQODH0jkT+w9AIKuxIqWWEkA=",
          "dtype": "f8"
         }
        },
        {
         "fill": "toself",
         "fillcolor": "rgba(255,200,0,0.2)",
         "line": {
          "color": "orange",
          "width": 1
         },
         "mode": "lines",
         "showlegend": false,
         "type": "scatter",
         "x": {
          "bdata": "AAAAAAAAFUAAAAAAAIATQAAAAAAAgBBAAAAAAAAADkAAAAAAAIAQQP//////fxNAAAAAAAAAFUA=",
          "dtype": "f8"
         },
         "y": {
          "bdata": "IKuxIqWWEkBQ8nmowC8VQFDyeajALxVAIKuxIqWWEkDgx9I5E/sPQODH0jkT+w9AIKuxIqWWEkA=",
          "dtype": "f8"
         }
        },
        {
         "fill": "toself",
         "fillcolor": "rgba(255,200,0,0.2)",
         "line": {
          "color": "orange",
          "width": 1
         },
         "mode": "lines",
         "showlegend": false,
         "type": "scatter",
         "x": {
          "bdata": "AAAAAAAAG0AAAAAAAIAZQAAAAAAAgBZAAAAAAAAAFUAAAAAAAIAWQP//////fxlAAAAAAAAAG0A=",
          "dtype": "f8"
         },
         "y": {
          "bdata": "IKuxIqWWEkBQ8nmowC8VQFDyeajALxVAIKuxIqWWEkDgx9I5E/sPQODH0jkT+w9AIKuxIqWWEkA=",
          "dtype": "f8"
         }
        },
        {
         "fill": "toself",
         "fillcolor": "rgba(255,200,0,0.2)",
         "line": {
          "color": "orange",
          "width": 1
         },
         "mode": "lines",
         "showlegend": false,
         "type": "scatter",
         "x": {
          "bdata": "AAAAAACAIEAAAAAAAIAfQAAAAAAAgBxAAAAAAAAAG0AAAAAAAIAcQP//////fx9AAAAAAACAIEA=",
          "dtype": "f8"
         },
         "y": {
          "bdata": "IKuxIqWWEkBQ8nmowC8VQFDyeajALxVAIKuxIqWWEkDgx9I5E/sPQODH0jkT+w9AIKuxIqWWEkA=",
          "dtype": "f8"
         }
        },
        {
         "fill": "toself",
         "fillcolor": "rgba(255,200,0,0.2)",
         "line": {
          "color": "orange",
          "width": 1
         },
         "mode": "lines",
         "showlegend": false,
         "type": "scatter",
         "x": {
          "bdata": "AAAAAACAI0AAAAAAAMAiQAAAAAAAQCFAAAAAAACAIEAAAAAAAEAhQAAAAAAAwCJAAAAAAACAI0A=",
          "dtype": "f8"
         },
         "y": {
          "bdata": "IKuxIqWWEkBQ8nmowC8VQFDyeajALxVAIKuxIqWWEkDgx9I5E/sPQODH0jkT+w9AIKuxIqWWEkA=",
          "dtype": "f8"
         }
        },
        {
         "fill": "toself",
         "fillcolor": "rgba(255,200,0,0.2)",
         "line": {
          "color": "orange",
          "width": 1
         },
         "mode": "lines",
         "showlegend": false,
         "type": "scatter",
         "x": {
          "bdata": "AAAAAAAA+D8AAAAAAADyPwMAAAAAANg/AAAAAAAAAAD6///////XP/7///////E/AAAAAAAA+D8=",
          "dtype": "f8"
         },
         "y": {
          "bdata": "gDlCLtzIF0CwgAq092EaQLCACrT3YRpAgDlCLtzIF0BQ8nmowC8VQFDyeajALxVAgDlCLtzIF0A=",
          "dtype": "f8"
         }
        },
        {
         "fill": "toself",
         "fillcolor": "rgba(255,200,0,0.2)",
         "line": {
          "color": "orange",
          "width": 1
         },
         "mode": "lines",
         "showlegend": false,
         "type": "scatter",
         "x": {
          "bdata": "AAAAAAAACEAAAAAAAAAFQAEAAAAAAP4/AAAAAAAA+D/+///////9P////////wRAAAAAAAAACEA=",
          "dtype": "f8"
         },
         "y": {
          "bdata": "gDlCLtzIF0CwgAq092EaQLCACrT3YRpAgDlCLtzIF0BQ8nmowC8VQFDyeajALxVAgDlCLtzIF0A=",
          "dtype": "f8"
         }
        },
        {
         "fill": "toself",
         "fillcolor": "rgba(255,200,0,0.2)",
         "line": {
          "color": "orange",
          "width": 1
         },
         "mode": "lines",
         "showlegend": false,
         "type": "scatter",
         "x": {
          "bdata": "AAAAAAAAEkAAAAAAAIAQQAAAAAAAAAtAAAAAAAAACED///////8KQP//////fxBAAAAAAAAAEkA=",
          "dtype": "f8"
         },
         "y": {
          "bdata": "gDlCLtzIF0CwgAq092EaQLCACrT3YRpAgDlCLtzIF0BQ8nmowC8VQFDyeajALxVAgDlCLtzIF0A=",
          "dtype": "f8"
         }
        },
        {
         "fill": "toself",
         "fillcolor": "rgba(255,200,0,0.2)",
         "line": {
          "color": "orange",
          "width": 1
         },
         "mode": "lines",
         "showlegend": false,
         "type": "scatter",
         "x": {
          "bdata": "AAAAAAAAGEAAAAAAAIAWQAAAAAAAgBNAAAAAAAAAEkAAAAAAAIATQP//////fxZAAAAAAAAAGEA=",
          "dtype": "f8"
         },
         "y": {
          "bdata": "gDlCLtzIF0CwgAq092EaQLCACrT3YRpAgDlCLtzIF0BQ8nmowC8VQFDyeajALxVAgDlCLtzIF0A=",
          "dtype": "f8"
         }
        },
        {
         "fill": "toself",
         "fillcolor": "rgba(255,200,0,0.2)",
         "line": {
          "color": "orange",
          "width": 1
         },
         "mode": "lines",
         "showlegend": false,
         "type": "scatter",
         "x": {
          "bdata": "AAAAAAAAHkAAAAAAAIAcQAAAAAAAgBlAAAAAAAAAGEAAAAAAAIAZQP//////fxxAAAAAAAAAHkA=",
          "dtype": "f8"
         },
         "y": {
          "bdata": "gDlCLtzIF0CwgAq092EaQLCACrT3YRpAgDlCLtzIF0BQ8nmowC8VQFDyeajALxVAgDlCLtzIF0A=",
          "dtype": "f8"
         }
        },
        {
         "fill": "toself",
         "fillcolor": "rgba(255,200,0,0.2)",
         "line": {
          "color": "orange",
          "width": 1
         },
         "mode": "lines",
         "showlegend": false,
         "type": "scatter",
         "x": {
          "bdata": "AAAAAAAAIkAAAAAAAEAhQAAAAAAAgB9AAAAAAAAAHkAAAAAAAIAfQAAAAAAAQCFAAAAAAAAAIkA=",
          "dtype": "f8"
         },
         "y": {
          "bdata": "gDlCLtzIF0CwgAq092EaQLCACrT3YRpAgDlCLtzIF0BQ8nmowC8VQFDyeajALxVAgDlCLtzIF0A=",
          "dtype": "f8"
         }
        },
        {
         "fill": "toself",
         "fillcolor": "rgba(255,200,0,0.2)",
         "line": {
          "color": "orange",
          "width": 1
         },
         "mode": "lines",
         "showlegend": false,
         "type": "scatter",
         "x": {
          "bdata": "AAAAAAAAAkAAAAAAAAD+PwEAAAAAAPI/AAAAAAAA6D/+///////xP/7///////0/AAAAAAAAAkA=",
          "dtype": "f8"
         },
         "y": {
          "bdata": "4MfSORP7HEAQD5u/LpQfQBAPm78ulB9A4MfSORP7HECwgAq092EaQLCACrT3YRpA4MfSORP7HEA=",
          "dtype": "f8"
         }
        },
        {
         "fill": "toself",
         "fillcolor": "rgba(255,200,0,0.2)",
         "line": {
          "color": "orange",
          "width": 1
         },
         "mode": "lines",
         "showlegend": false,
         "type": "scatter",
         "x": {
          "bdata": "AAAAAAAADkAAAAAAAAALQAAAAAAAAAVAAAAAAAAAAkD///////8EQP///////wpAAAAAAAAADkA=",
          "dtype": "f8"
         },
         "y": {
          "bdata": "4MfSORP7HEAQD5u/LpQfQBAPm78ulB9A4MfSORP7HECwgAq092EaQLCACrT3YRpA4MfSORP7HEA=",
          "dtype": "f8"
         }
        },
        {
         "fill": "toself",
         "fillcolor": "rgba(255,200,0,0.2)",
         "line": {
          "color": "orange",
          "width": 1
         },
         "mode": "lines",
         "showlegend": false,
         "type": "scatter",
         "x": {
          "bdata": "AAAAAAAAFUAAAAAAAIATQAAAAAAAgBBAAAAAAAAADkAAAAAAAIAQQP//////fxNAAAAAAAAAFUA=",
          "dtype": "f8"
         },
         "y": {
          "bdata": "4MfSORP7HEAQD5u/LpQfQBAPm78ulB9A4MfSORP7HECwgAq092EaQLCACrT3YRpA4MfSORP7HEA=",
          "dtype": "f8"
         }
        },
        {
         "fill": "toself",
         "fillcolor": "rgba(255,200,0,0.2)",
         "line": {
          "color": "orange",
          "width": 1
         },
         "mode": "lines",
         "showlegend": false,
         "type": "scatter",
         "x": {
          "bdata": "AAAAAAAAG0AAAAAAAIAZQAAAAAAAgBZAAAAAAAAAFUAAAAAAAIAWQP//////fxlAAAAAAAAAG0A=",
          "dtype": "f8"
         },
         "y": {
          "bdata": "4MfSORP7HEAQD5u/LpQfQBAPm78ulB9A4MfSORP7HECwgAq092EaQLCACrT3YRpA4MfSORP7HEA=",
          "dtype": "f8"
         }
        },
        {
         "fill": "toself",
         "fillcolor": "rgba(255,200,0,0.2)",
         "line": {
          "color": "orange",
          "width": 1
         },
         "mode": "lines",
         "showlegend": false,
         "type": "scatter",
         "x": {
          "bdata": "AAAAAACAIEAAAAAAAIAfQAAAAAAAgBxAAAAAAAAAG0AAAAAAAIAcQP//////fx9AAAAAAACAIEA=",
          "dtype": "f8"
         },
         "y": {
          "bdata": "4MfSORP7HEAQD5u/LpQfQBAPm78ulB9A4MfSORP7HECwgAq092EaQLCACrT3YRpA4MfSORP7HEA=",
          "dtype": "f8"
         }
        },
        {
         "fill": "toself",
         "fillcolor": "rgba(255,200,0,0.2)",
         "line": {
          "color": "orange",
          "width": 1
         },
         "mode": "lines",
         "showlegend": false,
         "type": "scatter",
         "x": {
          "bdata": "AAAAAACAI0AAAAAAAMAiQAAAAAAAQCFAAAAAAACAIEAAAAAAAEAhQAAAAAAAwCJAAAAAAACAI0A=",
          "dtype": "f8"
         },
         "y": {
          "bdata": "4MfSORP7HEAQD5u/LpQfQBAPm78ulB9A4MfSORP7HECwgAq092EaQLCACrT3YRpA4MfSORP7HEA=",
          "dtype": "f8"
         }
        },
        {
         "fill": "toself",
         "fillcolor": "rgba(255,200,0,0.2)",
         "line": {
          "color": "orange",
          "width": 1
         },
         "mode": "lines",
         "showlegend": false,
         "type": "scatter",
         "x": {
          "bdata": "AAAAAAAA+D8AAAAAAADyPwMAAAAAANg/AAAAAAAAAAD6///////XP/7///////E/AAAAAAAA+D8=",
          "dtype": "f8"
         },
         "y": {
          "bdata": "IKuxIqUWIUC4zpXlMmMiQLjOleUyYyJAIKuxIqUWIUAQD5u/LpQfQBAPm78ulB9AIKuxIqUWIUA=",
          "dtype": "f8"
         }
        },
        {
         "fill": "toself",
         "fillcolor": "rgba(255,200,0,0.2)",
         "line": {
          "color": "orange",
          "width": 1
         },
         "mode": "lines",
         "showlegend": false,
         "type": "scatter",
         "x": {
          "bdata": "AAAAAAAACEAAAAAAAAAFQAEAAAAAAP4/AAAAAAAA+D/+///////9P////////wRAAAAAAAAACEA=",
          "dtype": "f8"
         },
         "y": {
          "bdata": "IKuxIqUWIUC4zpXlMmMiQLjOleUyYyJAIKuxIqUWIUAQD5u/LpQfQBAPm78ulB9AIKuxIqUWIUA=",
          "dtype": "f8"
         }
        },
        {
         "fill": "toself",
         "fillcolor": "rgba(255,200,0,0.2)",
         "line": {
          "color": "orange",
          "width": 1
         },
         "mode": "lines",
         "showlegend": false,
         "type": "scatter",
         "x": {
          "bdata": "AAAAAAAAEkAAAAAAAIAQQAAAAAAAAAtAAAAAAAAACED///////8KQP//////fxBAAAAAAAAAEkA=",
          "dtype": "f8"
         },
         "y": {
          "bdata": "IKuxIqUWIUC4zpXlMmMiQLjOleUyYyJAIKuxIqUWIUAQD5u/LpQfQBAPm78ulB9AIKuxIqUWIUA=",
          "dtype": "f8"
         }
        },
        {
         "fill": "toself",
         "fillcolor": "rgba(255,200,0,0.2)",
         "line": {
          "color": "orange",
          "width": 1
         },
         "mode": "lines",
         "showlegend": false,
         "type": "scatter",
         "x": {
          "bdata": "AAAAAAAAGEAAAAAAAIAWQAAAAAAAgBNAAAAAAAAAEkAAAAAAAIATQP//////fxZAAAAAAAAAGEA=",
          "dtype": "f8"
         },
         "y": {
          "bdata": "IKuxIqUWIUC4zpXlMmMiQLjOleUyYyJAIKuxIqUWIUAQD5u/LpQfQBAPm78ulB9AIKuxIqUWIUA=",
          "dtype": "f8"
         }
        },
        {
         "fill": "toself",
         "fillcolor": "rgba(255,200,0,0.2)",
         "line": {
          "color": "orange",
          "width": 1
         },
         "mode": "lines",
         "showlegend": false,
         "type": "scatter",
         "x": {
          "bdata": "AAAAAAAAHkAAAAAAAIAcQAAAAAAAgBlAAAAAAAAAGEAAAAAAAIAZQP//////fxxAAAAAAAAAHkA=",
          "dtype": "f8"
         },
         "y": {
          "bdata": "IKuxIqUWIUC4zpXlMmMiQLjOleUyYyJAIKuxIqUWIUAQD5u/LpQfQBAPm78ulB9AIKuxIqUWIUA=",
          "dtype": "f8"
         }
        },
        {
         "fill": "toself",
         "fillcolor": "rgba(255,200,0,0.2)",
         "line": {
          "color": "orange",
          "width": 1
         },
         "mode": "lines",
         "showlegend": false,
         "type": "scatter",
         "x": {
          "bdata": "AAAAAAAAIkAAAAAAAEAhQAAAAAAAgB9AAAAAAAAAHkAAAAAAAIAfQAAAAAAAQCFAAAAAAAAAIkA=",
          "dtype": "f8"
         },
         "y": {
          "bdata": "IKuxIqUWIUC4zpXlMmMiQLjOleUyYyJAIKuxIqUWIUAQD5u/LpQfQBAPm78ulB9AIKuxIqUWIUA=",
          "dtype": "f8"
         }
        }
       ],
       "layout": {
        "height": 500,
        "showlegend": false,
        "template": {
         "data": {
          "bar": [
           {
            "error_x": {
             "color": "#2a3f5f"
            },
            "error_y": {
             "color": "#2a3f5f"
            },
            "marker": {
             "line": {
              "color": "#E5ECF6",
              "width": 0.5
             },
             "pattern": {
              "fillmode": "overlay",
              "size": 10,
              "solidity": 0.2
             }
            },
            "type": "bar"
           }
          ],
          "barpolar": [
           {
            "marker": {
             "line": {
              "color": "#E5ECF6",
              "width": 0.5
             },
             "pattern": {
              "fillmode": "overlay",
              "size": 10,
              "solidity": 0.2
             }
            },
            "type": "barpolar"
           }
          ],
          "carpet": [
           {
            "aaxis": {
             "endlinecolor": "#2a3f5f",
             "gridcolor": "white",
             "linecolor": "white",
             "minorgridcolor": "white",
             "startlinecolor": "#2a3f5f"
            },
            "baxis": {
             "endlinecolor": "#2a3f5f",
             "gridcolor": "white",
             "linecolor": "white",
             "minorgridcolor": "white",
             "startlinecolor": "#2a3f5f"
            },
            "type": "carpet"
           }
          ],
          "choropleth": [
           {
            "colorbar": {
             "outlinewidth": 0,
             "ticks": ""
            },
            "type": "choropleth"
           }
          ],
          "contour": [
           {
            "colorbar": {
             "outlinewidth": 0,
             "ticks": ""
            },
            "colorscale": [
             [
              0,
              "#0d0887"
             ],
             [
              0.1111111111111111,
              "#46039f"
             ],
             [
              0.2222222222222222,
              "#7201a8"
             ],
             [
              0.3333333333333333,
              "#9c179e"
             ],
             [
              0.4444444444444444,
              "#bd3786"
             ],
             [
              0.5555555555555556,
              "#d8576b"
             ],
             [
              0.6666666666666666,
              "#ed7953"
             ],
             [
              0.7777777777777778,
              "#fb9f3a"
             ],
             [
              0.8888888888888888,
              "#fdca26"
             ],
             [
              1,
              "#f0f921"
             ]
            ],
            "type": "contour"
           }
          ],
          "contourcarpet": [
           {
            "colorbar": {
             "outlinewidth": 0,
             "ticks": ""
            },
            "type": "contourcarpet"
           }
          ],
          "heatmap": [
           {
            "colorbar": {
             "outlinewidth": 0,
             "ticks": ""
            },
            "colorscale": [
             [
              0,
              "#0d0887"
             ],
             [
              0.1111111111111111,
              "#46039f"
             ],
             [
              0.2222222222222222,
              "#7201a8"
             ],
             [
              0.3333333333333333,
              "#9c179e"
             ],
             [
              0.4444444444444444,
              "#bd3786"
             ],
             [
              0.5555555555555556,
              "#d8576b"
             ],
             [
              0.6666666666666666,
              "#ed7953"
             ],
             [
              0.7777777777777778,
              "#fb9f3a"
             ],
             [
              0.8888888888888888,
              "#fdca26"
             ],
             [
              1,
              "#f0f921"
             ]
            ],
            "type": "heatmap"
           }
          ],
          "histogram": [
           {
            "marker": {
             "pattern": {
              "fillmode": "overlay",
              "size": 10,
              "solidity": 0.2
             }
            },
            "type": "histogram"
           }
          ],
          "histogram2d": [
           {
            "colorbar": {
             "outlinewidth": 0,
             "ticks": ""
            },
            "colorscale": [
             [
              0,
              "#0d0887"
             ],
             [
              0.1111111111111111,
              "#46039f"
             ],
             [
              0.2222222222222222,
              "#7201a8"
             ],
             [
              0.3333333333333333,
              "#9c179e"
             ],
             [
              0.4444444444444444,
              "#bd3786"
             ],
             [
              0.5555555555555556,
              "#d8576b"
             ],
             [
              0.6666666666666666,
              "#ed7953"
             ],
             [
              0.7777777777777778,
              "#fb9f3a"
             ],
             [
              0.8888888888888888,
              "#fdca26"
             ],
             [
              1,
              "#f0f921"
             ]
            ],
            "type": "histogram2d"
           }
          ],
          "histogram2dcontour": [
           {
            "colorbar": {
             "outlinewidth": 0,
             "ticks": ""
            },
            "colorscale": [
             [
              0,
              "#0d0887"
             ],
             [
              0.1111111111111111,
              "#46039f"
             ],
             [
              0.2222222222222222,
              "#7201a8"
             ],
             [
              0.3333333333333333,
              "#9c179e"
             ],
             [
              0.4444444444444444,
              "#bd3786"
             ],
             [
              0.5555555555555556,
              "#d8576b"
             ],
             [
              0.6666666666666666,
              "#ed7953"
             ],
             [
              0.7777777777777778,
              "#fb9f3a"
             ],
             [
              0.8888888888888888,
              "#fdca26"
             ],
             [
              1,
              "#f0f921"
             ]
            ],
            "type": "histogram2dcontour"
           }
          ],
          "mesh3d": [
           {
            "colorbar": {
             "outlinewidth": 0,
             "ticks": ""
            },
            "type": "mesh3d"
           }
          ],
          "parcoords": [
           {
            "line": {
             "colorbar": {
              "outlinewidth": 0,
              "ticks": ""
             }
            },
            "type": "parcoords"
           }
          ],
          "pie": [
           {
            "automargin": true,
            "type": "pie"
           }
          ],
          "scatter": [
           {
            "fillpattern": {
             "fillmode": "overlay",
             "size": 10,
             "solidity": 0.2
            },
            "type": "scatter"
           }
          ],
          "scatter3d": [
           {
            "line": {
             "colorbar": {
              "outlinewidth": 0,
              "ticks": ""
             }
            },
            "marker": {
             "colorbar": {
              "outlinewidth": 0,
              "ticks": ""
             }
            },
            "type": "scatter3d"
           }
          ],
          "scattercarpet": [
           {
            "marker": {
             "colorbar": {
              "outlinewidth": 0,
              "ticks": ""
             }
            },
            "type": "scattercarpet"
           }
          ],
          "scattergeo": [
           {
            "marker": {
             "colorbar": {
              "outlinewidth": 0,
              "ticks": ""
             }
            },
            "type": "scattergeo"
           }
          ],
          "scattergl": [
           {
            "marker": {
             "colorbar": {
              "outlinewidth": 0,
              "ticks": ""
             }
            },
            "type": "scattergl"
           }
          ],
          "scattermap": [
           {
            "marker": {
             "colorbar": {
              "outlinewidth": 0,
              "ticks": ""
             }
            },
            "type": "scattermap"
           }
          ],
          "scattermapbox": [
           {
            "marker": {
             "colorbar": {
              "outlinewidth": 0,
              "ticks": ""
             }
            },
            "type": "scattermapbox"
           }
          ],
          "scatterpolar": [
           {
            "marker": {
             "colorbar": {
              "outlinewidth": 0,
              "ticks": ""
             }
            },
            "type": "scatterpolar"
           }
          ],
          "scatterpolargl": [
           {
            "marker": {
             "colorbar": {
              "outlinewidth": 0,
              "ticks": ""
             }
            },
            "type": "scatterpolargl"
           }
          ],
          "scatterternary": [
           {
            "marker": {
             "colorbar": {
              "outlinewidth": 0,
              "ticks": ""
             }
            },
            "type": "scatterternary"
           }
          ],
          "surface": [
           {
            "colorbar": {
             "outlinewidth": 0,
             "ticks": ""
            },
            "colorscale": [
             [
              0,
              "#0d0887"
             ],
             [
              0.1111111111111111,
              "#46039f"
             ],
             [
              0.2222222222222222,
              "#7201a8"
             ],
             [
              0.3333333333333333,
              "#9c179e"
             ],
             [
              0.4444444444444444,
              "#bd3786"
             ],
             [
              0.5555555555555556,
              "#d8576b"
             ],
             [
              0.6666666666666666,
              "#ed7953"
             ],
             [
              0.7777777777777778,
              "#fb9f3a"
             ],
             [
              0.8888888888888888,
              "#fdca26"
             ],
             [
              1,
              "#f0f921"
             ]
            ],
            "type": "surface"
           }
          ],
          "table": [
           {
            "cells": {
             "fill": {
              "color": "#EBF0F8"
             },
             "line": {
              "color": "white"
             }
            },
            "header": {
             "fill": {
              "color": "#C8D4E3"
             },
             "line": {
              "color": "white"
             }
            },
            "type": "table"
           }
          ]
         },
         "layout": {
          "annotationdefaults": {
           "arrowcolor": "#2a3f5f",
           "arrowhead": 0,
           "arrowwidth": 1
          },
          "autotypenumbers": "strict",
          "coloraxis": {
           "colorbar": {
            "outlinewidth": 0,
            "ticks": ""
           }
          },
          "colorscale": {
           "diverging": [
            [
             0,
             "#8e0152"
            ],
            [
             0.1,
             "#c51b7d"
            ],
            [
             0.2,
             "#de77ae"
            ],
            [
             0.3,
             "#f1b6da"
            ],
            [
             0.4,
             "#fde0ef"
            ],
            [
             0.5,
             "#f7f7f7"
            ],
            [
             0.6,
             "#e6f5d0"
            ],
            [
             0.7,
             "#b8e186"
            ],
            [
             0.8,
             "#7fbc41"
            ],
            [
             0.9,
             "#4d9221"
            ],
            [
             1,
             "#276419"
            ]
           ],
           "sequential": [
            [
             0,
             "#0d0887"
            ],
            [
             0.1111111111111111,
             "#46039f"
            ],
            [
             0.2222222222222222,
             "#7201a8"
            ],
            [
             0.3333333333333333,
             "#9c179e"
            ],
            [
             0.4444444444444444,
             "#bd3786"
            ],
            [
             0.5555555555555556,
             "#d8576b"
            ],
            [
             0.6666666666666666,
             "#ed7953"
            ],
            [
             0.7777777777777778,
             "#fb9f3a"
            ],
            [
             0.8888888888888888,
             "#fdca26"
            ],
            [
             1,
             "#f0f921"
            ]
           ],
           "sequentialminus": [
            [
             0,
             "#0d0887"
            ],
            [
             0.1111111111111111,
             "#46039f"
            ],
            [
             0.2222222222222222,
             "#7201a8"
            ],
            [
             0.3333333333333333,
             "#9c179e"
            ],
            [
             0.4444444444444444,
             "#bd3786"
            ],
            [
             0.5555555555555556,
             "#d8576b"
            ],
            [
             0.6666666666666666,
             "#ed7953"
            ],
            [
             0.7777777777777778,
             "#fb9f3a"
            ],
            [
             0.8888888888888888,
             "#fdca26"
            ],
            [
             1,
             "#f0f921"
            ]
           ]
          },
          "colorway": [
           "#636efa",
           "#EF553B",
           "#00cc96",
           "#ab63fa",
           "#FFA15A",
           "#19d3f3",
           "#FF6692",
           "#B6E880",
           "#FF97FF",
           "#FECB52"
          ],
          "font": {
           "color": "#2a3f5f"
          },
          "geo": {
           "bgcolor": "white",
           "lakecolor": "white",
           "landcolor": "#E5ECF6",
           "showlakes": true,
           "showland": true,
           "subunitcolor": "white"
          },
          "hoverlabel": {
           "align": "left"
          },
          "hovermode": "closest",
          "mapbox": {
           "style": "light"
          },
          "paper_bgcolor": "white",
          "plot_bgcolor": "#E5ECF6",
          "polar": {
           "angularaxis": {
            "gridcolor": "white",
            "linecolor": "white",
            "ticks": ""
           },
           "bgcolor": "#E5ECF6",
           "radialaxis": {
            "gridcolor": "white",
            "linecolor": "white",
            "ticks": ""
           }
          },
          "scene": {
           "xaxis": {
            "backgroundcolor": "#E5ECF6",
            "gridcolor": "white",
            "gridwidth": 2,
            "linecolor": "white",
            "showbackground": true,
            "ticks": "",
            "zerolinecolor": "white"
           },
           "yaxis": {
            "backgroundcolor": "#E5ECF6",
            "gridcolor": "white",
            "gridwidth": 2,
            "linecolor": "white",
            "showbackground": true,
            "ticks": "",
            "zerolinecolor": "white"
           },
           "zaxis": {
            "backgroundcolor": "#E5ECF6",
            "gridcolor": "white",
            "gridwidth": 2,
            "linecolor": "white",
            "showbackground": true,
            "ticks": "",
            "zerolinecolor": "white"
           }
          },
          "shapedefaults": {
           "line": {
            "color": "#2a3f5f"
           }
          },
          "ternary": {
           "aaxis": {
            "gridcolor": "white",
            "linecolor": "white",
            "ticks": ""
           },
           "baxis": {
            "gridcolor": "white",
            "linecolor": "white",
            "ticks": ""
           },
           "bgcolor": "#E5ECF6",
           "caxis": {
            "gridcolor": "white",
            "linecolor": "white",
            "ticks": ""
           }
          },
          "title": {
           "x": 0.05
          },
          "xaxis": {
           "automargin": true,
           "gridcolor": "white",
           "linecolor": "white",
           "ticks": "",
           "title": {
            "standoff": 15
           },
           "zerolinecolor": "white",
           "zerolinewidth": 2
          },
          "yaxis": {
           "automargin": true,
           "gridcolor": "white",
           "linecolor": "white",
           "ticks": "",
           "title": {
            "standoff": 15
           },
           "zerolinecolor": "white",
           "zerolinewidth": 2
          }
         }
        },
        "title": {
         "text": "Superficie ocupada por cada planta (tres bolillos)"
        },
        "width": 500,
        "xaxis": {
         "range": [
          -1,
          11
         ],
         "scaleanchor": "y",
         "scaleratio": 1,
         "title": {
          "text": "X (m)"
         }
        },
        "yaxis": {
         "range": [
          -1,
          11
         ],
         "title": {
          "text": "Y (m)"
         }
        }
       }
      }
     },
     "metadata": {},
     "output_type": "display_data"
    }
   ],
   "source": [
    "import plotly.graph_objects as go\n",
    "\n",
    "# Área ocupada por cada planta en diseño triangular (hexágono regular)\n",
    "radio = 0.75  # Radio del círculo inscrito en el hexágono\n",
    "hex_x = []\n",
    "hex_y = []\n",
    "for px, py in zip(plantas_x, plantas_y):\n",
    "    # Coordenadas del hexágono centrado en (px, py)\n",
    "    theta = np.linspace(0, 2 * np.pi, 7)\n",
    "    hx = px + radio * np.cos(theta)\n",
    "    hy = py + radio * np.sin(theta)\n",
    "    hex_x.append(hx)\n",
    "    hex_y.append(hy)\n",
    "    fig_parcela.add_trace(go.Scatter(\n",
    "        x=hx, y=hy,\n",
    "        mode='lines',\n",
    "        fill='toself',\n",
    "        fillcolor='rgba(255,200,0,0.2)',\n",
    "        line=dict(color='orange', width=1),\n",
    "        showlegend=False\n",
    "    ))\n",
    "\n",
    "fig_parcela.update_layout(title='Superficie ocupada por cada planta (tres bolillos)')\n",
    "fig_parcela.show()"
   ]
  },
  {
   "cell_type": "code",
   "execution_count": 21,
   "id": "889a57a6",
   "metadata": {},
   "outputs": [],
   "source": [
    "def area_triangulo_equilatero(lado):\n",
    "    \"\"\"\n",
    "    Calcula el área de un triángulo equilátero dado el valor de su lado.\n",
    "    \n",
    "    Parámetros:\n",
    "        lado (float): Longitud del lado del triángulo.\n",
    "        \n",
    "    Retorna:\n",
    "        float: Área del triángulo equilátero.\n",
    "    \"\"\"\n",
    "    return (np.sqrt(3) / 4) * lado ** 2"
   ]
  },
  {
   "cell_type": "code",
   "execution_count": 28,
   "id": "fce1dade",
   "metadata": {},
   "outputs": [
    {
     "data": {
      "text/plain": [
       "np.float64(1.2730573435631247)"
      ]
     },
     "execution_count": 28,
     "metadata": {},
     "output_type": "execute_result"
    }
   ],
   "source": [
    "area_triangulo_equilatero(0.7)*6"
   ]
  },
  {
   "cell_type": "code",
   "execution_count": 29,
   "id": "da9b9d67",
   "metadata": {},
   "outputs": [
    {
     "data": {
      "text/plain": [
       "2.25"
      ]
     },
     "execution_count": 29,
     "metadata": {},
     "output_type": "execute_result"
    }
   ],
   "source": [
    "1.5*1.5"
   ]
  },
  {
   "cell_type": "markdown",
   "id": "da066f74",
   "metadata": {},
   "source": [
    "3. Usa vectores para describir los desplazamientos desde una planta hasta las vecinas (por ejemplo, los vectores de desplazamiento entre centros de los triángulos).\n"
   ]
  },
  {
   "cell_type": "code",
   "execution_count": 19,
   "id": "0a92b845",
   "metadata": {},
   "outputs": [
    {
     "data": {
      "application/vnd.plotly.v1+json": {
       "config": {
        "plotlyServerURL": "https://plot.ly"
       },
       "data": [
        {
         "fill": "toself",
         "line": {
          "color": "green",
          "width": 3
         },
         "mode": "lines",
         "name": "Parcela 10x10 m",
         "type": "scatter",
         "x": [
          0,
          10,
          10,
          0,
          0
         ],
         "y": [
          0,
          0,
          10,
          10,
          0
         ]
        },
        {
         "marker": {
          "color": "brown",
          "size": 10,
          "symbol": "circle"
         },
         "mode": "markers",
         "name": "Plantas",
         "type": "scatter",
         "x": [
          0.75,
          2.25,
          3.75,
          5.25,
          6.75,
          8.25,
          1.5,
          3,
          4.5,
          6,
          7.5,
          9,
          0.75,
          2.25,
          3.75,
          5.25,
          6.75,
          8.25,
          1.5,
          3,
          4.5,
          6,
          7.5,
          9,
          0.75,
          2.25,
          3.75,
          5.25,
          6.75,
          8.25,
          1.5,
          3,
          4.5,
          6,
          7.5,
          9,
          0.75,
          2.25,
          3.75,
          5.25,
          6.75,
          8.25
         ],
         "y": [
          0.75,
          0.75,
          0.75,
          0.75,
          0.75,
          0.75,
          2.049038105676658,
          2.049038105676658,
          2.049038105676658,
          2.049038105676658,
          2.049038105676658,
          2.049038105676658,
          3.348076211353316,
          3.348076211353316,
          3.348076211353316,
          3.348076211353316,
          3.348076211353316,
          3.348076211353316,
          4.647114317029974,
          4.647114317029974,
          4.647114317029974,
          4.647114317029974,
          4.647114317029974,
          4.647114317029974,
          5.946152422706632,
          5.946152422706632,
          5.946152422706632,
          5.946152422706632,
          5.946152422706632,
          5.946152422706632,
          7.24519052838329,
          7.24519052838329,
          7.24519052838329,
          7.24519052838329,
          7.24519052838329,
          7.24519052838329,
          8.544228634059948,
          8.544228634059948,
          8.544228634059948,
          8.544228634059948,
          8.544228634059948,
          8.544228634059948
         ]
        },
        {
         "line": {
          "color": "royalblue",
          "width": 2
         },
         "mode": "lines",
         "showlegend": false,
         "type": "scatter",
         "x": [
          0.75,
          2.25
         ],
         "y": [
          0.75,
          0.75
         ]
        },
        {
         "line": {
          "color": "royalblue",
          "width": 2
         },
         "mode": "lines",
         "showlegend": false,
         "type": "scatter",
         "x": [
          0.75,
          1.5
         ],
         "y": [
          0.75,
          2.049038105676658
         ]
        },
        {
         "line": {
          "color": "royalblue",
          "width": 2
         },
         "mode": "lines",
         "showlegend": false,
         "type": "scatter",
         "x": [
          0.75,
          0
         ],
         "y": [
          0.75,
          2.049038105676658
         ]
        },
        {
         "line": {
          "color": "royalblue",
          "width": 2
         },
         "mode": "lines",
         "showlegend": false,
         "type": "scatter",
         "x": [
          2.25,
          3.75
         ],
         "y": [
          0.75,
          0.75
         ]
        },
        {
         "line": {
          "color": "royalblue",
          "width": 2
         },
         "mode": "lines",
         "showlegend": false,
         "type": "scatter",
         "x": [
          2.25,
          3
         ],
         "y": [
          0.75,
          2.049038105676658
         ]
        },
        {
         "line": {
          "color": "royalblue",
          "width": 2
         },
         "mode": "lines",
         "showlegend": false,
         "type": "scatter",
         "x": [
          2.25,
          1.5
         ],
         "y": [
          0.75,
          2.049038105676658
         ]
        },
        {
         "line": {
          "color": "royalblue",
          "width": 2
         },
         "mode": "lines",
         "showlegend": false,
         "type": "scatter",
         "x": [
          3.75,
          5.25
         ],
         "y": [
          0.75,
          0.75
         ]
        },
        {
         "line": {
          "color": "royalblue",
          "width": 2
         },
         "mode": "lines",
         "showlegend": false,
         "type": "scatter",
         "x": [
          3.75,
          4.5
         ],
         "y": [
          0.75,
          2.049038105676658
         ]
        },
        {
         "line": {
          "color": "royalblue",
          "width": 2
         },
         "mode": "lines",
         "showlegend": false,
         "type": "scatter",
         "x": [
          3.75,
          3
         ],
         "y": [
          0.75,
          2.049038105676658
         ]
        },
        {
         "line": {
          "color": "royalblue",
          "width": 2
         },
         "mode": "lines",
         "showlegend": false,
         "type": "scatter",
         "x": [
          5.25,
          6.75
         ],
         "y": [
          0.75,
          0.75
         ]
        },
        {
         "line": {
          "color": "royalblue",
          "width": 2
         },
         "mode": "lines",
         "showlegend": false,
         "type": "scatter",
         "x": [
          5.25,
          6
         ],
         "y": [
          0.75,
          2.049038105676658
         ]
        },
        {
         "line": {
          "color": "royalblue",
          "width": 2
         },
         "mode": "lines",
         "showlegend": false,
         "type": "scatter",
         "x": [
          5.25,
          4.5
         ],
         "y": [
          0.75,
          2.049038105676658
         ]
        },
        {
         "line": {
          "color": "royalblue",
          "width": 2
         },
         "mode": "lines",
         "showlegend": false,
         "type": "scatter",
         "x": [
          6.75,
          8.25
         ],
         "y": [
          0.75,
          0.75
         ]
        },
        {
         "line": {
          "color": "royalblue",
          "width": 2
         },
         "mode": "lines",
         "showlegend": false,
         "type": "scatter",
         "x": [
          6.75,
          7.5
         ],
         "y": [
          0.75,
          2.049038105676658
         ]
        },
        {
         "line": {
          "color": "royalblue",
          "width": 2
         },
         "mode": "lines",
         "showlegend": false,
         "type": "scatter",
         "x": [
          6.75,
          6
         ],
         "y": [
          0.75,
          2.049038105676658
         ]
        },
        {
         "line": {
          "color": "royalblue",
          "width": 2
         },
         "mode": "lines",
         "showlegend": false,
         "type": "scatter",
         "x": [
          8.25,
          9.75
         ],
         "y": [
          0.75,
          0.75
         ]
        },
        {
         "line": {
          "color": "royalblue",
          "width": 2
         },
         "mode": "lines",
         "showlegend": false,
         "type": "scatter",
         "x": [
          8.25,
          9
         ],
         "y": [
          0.75,
          2.049038105676658
         ]
        },
        {
         "line": {
          "color": "royalblue",
          "width": 2
         },
         "mode": "lines",
         "showlegend": false,
         "type": "scatter",
         "x": [
          8.25,
          7.5
         ],
         "y": [
          0.75,
          2.049038105676658
         ]
        }
       ],
       "layout": {
        "height": 500,
        "showlegend": false,
        "template": {
         "data": {
          "bar": [
           {
            "error_x": {
             "color": "#2a3f5f"
            },
            "error_y": {
             "color": "#2a3f5f"
            },
            "marker": {
             "line": {
              "color": "#E5ECF6",
              "width": 0.5
             },
             "pattern": {
              "fillmode": "overlay",
              "size": 10,
              "solidity": 0.2
             }
            },
            "type": "bar"
           }
          ],
          "barpolar": [
           {
            "marker": {
             "line": {
              "color": "#E5ECF6",
              "width": 0.5
             },
             "pattern": {
              "fillmode": "overlay",
              "size": 10,
              "solidity": 0.2
             }
            },
            "type": "barpolar"
           }
          ],
          "carpet": [
           {
            "aaxis": {
             "endlinecolor": "#2a3f5f",
             "gridcolor": "white",
             "linecolor": "white",
             "minorgridcolor": "white",
             "startlinecolor": "#2a3f5f"
            },
            "baxis": {
             "endlinecolor": "#2a3f5f",
             "gridcolor": "white",
             "linecolor": "white",
             "minorgridcolor": "white",
             "startlinecolor": "#2a3f5f"
            },
            "type": "carpet"
           }
          ],
          "choropleth": [
           {
            "colorbar": {
             "outlinewidth": 0,
             "ticks": ""
            },
            "type": "choropleth"
           }
          ],
          "contour": [
           {
            "colorbar": {
             "outlinewidth": 0,
             "ticks": ""
            },
            "colorscale": [
             [
              0,
              "#0d0887"
             ],
             [
              0.1111111111111111,
              "#46039f"
             ],
             [
              0.2222222222222222,
              "#7201a8"
             ],
             [
              0.3333333333333333,
              "#9c179e"
             ],
             [
              0.4444444444444444,
              "#bd3786"
             ],
             [
              0.5555555555555556,
              "#d8576b"
             ],
             [
              0.6666666666666666,
              "#ed7953"
             ],
             [
              0.7777777777777778,
              "#fb9f3a"
             ],
             [
              0.8888888888888888,
              "#fdca26"
             ],
             [
              1,
              "#f0f921"
             ]
            ],
            "type": "contour"
           }
          ],
          "contourcarpet": [
           {
            "colorbar": {
             "outlinewidth": 0,
             "ticks": ""
            },
            "type": "contourcarpet"
           }
          ],
          "heatmap": [
           {
            "colorbar": {
             "outlinewidth": 0,
             "ticks": ""
            },
            "colorscale": [
             [
              0,
              "#0d0887"
             ],
             [
              0.1111111111111111,
              "#46039f"
             ],
             [
              0.2222222222222222,
              "#7201a8"
             ],
             [
              0.3333333333333333,
              "#9c179e"
             ],
             [
              0.4444444444444444,
              "#bd3786"
             ],
             [
              0.5555555555555556,
              "#d8576b"
             ],
             [
              0.6666666666666666,
              "#ed7953"
             ],
             [
              0.7777777777777778,
              "#fb9f3a"
             ],
             [
              0.8888888888888888,
              "#fdca26"
             ],
             [
              1,
              "#f0f921"
             ]
            ],
            "type": "heatmap"
           }
          ],
          "histogram": [
           {
            "marker": {
             "pattern": {
              "fillmode": "overlay",
              "size": 10,
              "solidity": 0.2
             }
            },
            "type": "histogram"
           }
          ],
          "histogram2d": [
           {
            "colorbar": {
             "outlinewidth": 0,
             "ticks": ""
            },
            "colorscale": [
             [
              0,
              "#0d0887"
             ],
             [
              0.1111111111111111,
              "#46039f"
             ],
             [
              0.2222222222222222,
              "#7201a8"
             ],
             [
              0.3333333333333333,
              "#9c179e"
             ],
             [
              0.4444444444444444,
              "#bd3786"
             ],
             [
              0.5555555555555556,
              "#d8576b"
             ],
             [
              0.6666666666666666,
              "#ed7953"
             ],
             [
              0.7777777777777778,
              "#fb9f3a"
             ],
             [
              0.8888888888888888,
              "#fdca26"
             ],
             [
              1,
              "#f0f921"
             ]
            ],
            "type": "histogram2d"
           }
          ],
          "histogram2dcontour": [
           {
            "colorbar": {
             "outlinewidth": 0,
             "ticks": ""
            },
            "colorscale": [
             [
              0,
              "#0d0887"
             ],
             [
              0.1111111111111111,
              "#46039f"
             ],
             [
              0.2222222222222222,
              "#7201a8"
             ],
             [
              0.3333333333333333,
              "#9c179e"
             ],
             [
              0.4444444444444444,
              "#bd3786"
             ],
             [
              0.5555555555555556,
              "#d8576b"
             ],
             [
              0.6666666666666666,
              "#ed7953"
             ],
             [
              0.7777777777777778,
              "#fb9f3a"
             ],
             [
              0.8888888888888888,
              "#fdca26"
             ],
             [
              1,
              "#f0f921"
             ]
            ],
            "type": "histogram2dcontour"
           }
          ],
          "mesh3d": [
           {
            "colorbar": {
             "outlinewidth": 0,
             "ticks": ""
            },
            "type": "mesh3d"
           }
          ],
          "parcoords": [
           {
            "line": {
             "colorbar": {
              "outlinewidth": 0,
              "ticks": ""
             }
            },
            "type": "parcoords"
           }
          ],
          "pie": [
           {
            "automargin": true,
            "type": "pie"
           }
          ],
          "scatter": [
           {
            "fillpattern": {
             "fillmode": "overlay",
             "size": 10,
             "solidity": 0.2
            },
            "type": "scatter"
           }
          ],
          "scatter3d": [
           {
            "line": {
             "colorbar": {
              "outlinewidth": 0,
              "ticks": ""
             }
            },
            "marker": {
             "colorbar": {
              "outlinewidth": 0,
              "ticks": ""
             }
            },
            "type": "scatter3d"
           }
          ],
          "scattercarpet": [
           {
            "marker": {
             "colorbar": {
              "outlinewidth": 0,
              "ticks": ""
             }
            },
            "type": "scattercarpet"
           }
          ],
          "scattergeo": [
           {
            "marker": {
             "colorbar": {
              "outlinewidth": 0,
              "ticks": ""
             }
            },
            "type": "scattergeo"
           }
          ],
          "scattergl": [
           {
            "marker": {
             "colorbar": {
              "outlinewidth": 0,
              "ticks": ""
             }
            },
            "type": "scattergl"
           }
          ],
          "scattermap": [
           {
            "marker": {
             "colorbar": {
              "outlinewidth": 0,
              "ticks": ""
             }
            },
            "type": "scattermap"
           }
          ],
          "scattermapbox": [
           {
            "marker": {
             "colorbar": {
              "outlinewidth": 0,
              "ticks": ""
             }
            },
            "type": "scattermapbox"
           }
          ],
          "scatterpolar": [
           {
            "marker": {
             "colorbar": {
              "outlinewidth": 0,
              "ticks": ""
             }
            },
            "type": "scatterpolar"
           }
          ],
          "scatterpolargl": [
           {
            "marker": {
             "colorbar": {
              "outlinewidth": 0,
              "ticks": ""
             }
            },
            "type": "scatterpolargl"
           }
          ],
          "scatterternary": [
           {
            "marker": {
             "colorbar": {
              "outlinewidth": 0,
              "ticks": ""
             }
            },
            "type": "scatterternary"
           }
          ],
          "surface": [
           {
            "colorbar": {
             "outlinewidth": 0,
             "ticks": ""
            },
            "colorscale": [
             [
              0,
              "#0d0887"
             ],
             [
              0.1111111111111111,
              "#46039f"
             ],
             [
              0.2222222222222222,
              "#7201a8"
             ],
             [
              0.3333333333333333,
              "#9c179e"
             ],
             [
              0.4444444444444444,
              "#bd3786"
             ],
             [
              0.5555555555555556,
              "#d8576b"
             ],
             [
              0.6666666666666666,
              "#ed7953"
             ],
             [
              0.7777777777777778,
              "#fb9f3a"
             ],
             [
              0.8888888888888888,
              "#fdca26"
             ],
             [
              1,
              "#f0f921"
             ]
            ],
            "type": "surface"
           }
          ],
          "table": [
           {
            "cells": {
             "fill": {
              "color": "#EBF0F8"
             },
             "line": {
              "color": "white"
             }
            },
            "header": {
             "fill": {
              "color": "#C8D4E3"
             },
             "line": {
              "color": "white"
             }
            },
            "type": "table"
           }
          ]
         },
         "layout": {
          "annotationdefaults": {
           "arrowcolor": "#2a3f5f",
           "arrowhead": 0,
           "arrowwidth": 1
          },
          "autotypenumbers": "strict",
          "coloraxis": {
           "colorbar": {
            "outlinewidth": 0,
            "ticks": ""
           }
          },
          "colorscale": {
           "diverging": [
            [
             0,
             "#8e0152"
            ],
            [
             0.1,
             "#c51b7d"
            ],
            [
             0.2,
             "#de77ae"
            ],
            [
             0.3,
             "#f1b6da"
            ],
            [
             0.4,
             "#fde0ef"
            ],
            [
             0.5,
             "#f7f7f7"
            ],
            [
             0.6,
             "#e6f5d0"
            ],
            [
             0.7,
             "#b8e186"
            ],
            [
             0.8,
             "#7fbc41"
            ],
            [
             0.9,
             "#4d9221"
            ],
            [
             1,
             "#276419"
            ]
           ],
           "sequential": [
            [
             0,
             "#0d0887"
            ],
            [
             0.1111111111111111,
             "#46039f"
            ],
            [
             0.2222222222222222,
             "#7201a8"
            ],
            [
             0.3333333333333333,
             "#9c179e"
            ],
            [
             0.4444444444444444,
             "#bd3786"
            ],
            [
             0.5555555555555556,
             "#d8576b"
            ],
            [
             0.6666666666666666,
             "#ed7953"
            ],
            [
             0.7777777777777778,
             "#fb9f3a"
            ],
            [
             0.8888888888888888,
             "#fdca26"
            ],
            [
             1,
             "#f0f921"
            ]
           ],
           "sequentialminus": [
            [
             0,
             "#0d0887"
            ],
            [
             0.1111111111111111,
             "#46039f"
            ],
            [
             0.2222222222222222,
             "#7201a8"
            ],
            [
             0.3333333333333333,
             "#9c179e"
            ],
            [
             0.4444444444444444,
             "#bd3786"
            ],
            [
             0.5555555555555556,
             "#d8576b"
            ],
            [
             0.6666666666666666,
             "#ed7953"
            ],
            [
             0.7777777777777778,
             "#fb9f3a"
            ],
            [
             0.8888888888888888,
             "#fdca26"
            ],
            [
             1,
             "#f0f921"
            ]
           ]
          },
          "colorway": [
           "#636efa",
           "#EF553B",
           "#00cc96",
           "#ab63fa",
           "#FFA15A",
           "#19d3f3",
           "#FF6692",
           "#B6E880",
           "#FF97FF",
           "#FECB52"
          ],
          "font": {
           "color": "#2a3f5f"
          },
          "geo": {
           "bgcolor": "white",
           "lakecolor": "white",
           "landcolor": "#E5ECF6",
           "showlakes": true,
           "showland": true,
           "subunitcolor": "white"
          },
          "hoverlabel": {
           "align": "left"
          },
          "hovermode": "closest",
          "mapbox": {
           "style": "light"
          },
          "paper_bgcolor": "white",
          "plot_bgcolor": "#E5ECF6",
          "polar": {
           "angularaxis": {
            "gridcolor": "white",
            "linecolor": "white",
            "ticks": ""
           },
           "bgcolor": "#E5ECF6",
           "radialaxis": {
            "gridcolor": "white",
            "linecolor": "white",
            "ticks": ""
           }
          },
          "scene": {
           "xaxis": {
            "backgroundcolor": "#E5ECF6",
            "gridcolor": "white",
            "gridwidth": 2,
            "linecolor": "white",
            "showbackground": true,
            "ticks": "",
            "zerolinecolor": "white"
           },
           "yaxis": {
            "backgroundcolor": "#E5ECF6",
            "gridcolor": "white",
            "gridwidth": 2,
            "linecolor": "white",
            "showbackground": true,
            "ticks": "",
            "zerolinecolor": "white"
           },
           "zaxis": {
            "backgroundcolor": "#E5ECF6",
            "gridcolor": "white",
            "gridwidth": 2,
            "linecolor": "white",
            "showbackground": true,
            "ticks": "",
            "zerolinecolor": "white"
           }
          },
          "shapedefaults": {
           "line": {
            "color": "#2a3f5f"
           }
          },
          "ternary": {
           "aaxis": {
            "gridcolor": "white",
            "linecolor": "white",
            "ticks": ""
           },
           "baxis": {
            "gridcolor": "white",
            "linecolor": "white",
            "ticks": ""
           },
           "bgcolor": "#E5ECF6",
           "caxis": {
            "gridcolor": "white",
            "linecolor": "white",
            "ticks": ""
           }
          },
          "title": {
           "x": 0.05
          },
          "xaxis": {
           "automargin": true,
           "gridcolor": "white",
           "linecolor": "white",
           "ticks": "",
           "title": {
            "standoff": 15
           },
           "zerolinecolor": "white",
           "zerolinewidth": 2
          },
          "yaxis": {
           "automargin": true,
           "gridcolor": "white",
           "linecolor": "white",
           "ticks": "",
           "title": {
            "standoff": 15
           },
           "zerolinecolor": "white",
           "zerolinewidth": 2
          }
         }
        },
        "title": {
         "text": "Desplazamientos entre plantas vecinas (vectores)"
        },
        "width": 500,
        "xaxis": {
         "range": [
          -1,
          11
         ],
         "scaleanchor": "y",
         "scaleratio": 1,
         "title": {
          "text": "X (m)"
         }
        },
        "yaxis": {
         "range": [
          -1,
          11
         ],
         "title": {
          "text": "Y (m)"
         }
        }
       }
      }
     },
     "metadata": {},
     "output_type": "display_data"
    }
   ],
   "source": [
    "import plotly.graph_objects as go\n",
    "\n",
    "# Usar la figura de la parcela existente\n",
    "fig_vec = fig_parcela\n",
    "\n",
    "# Definir los desplazamientos entre plantas vecinas en el patrón de triángulo equilátero\n",
    "# Desplazamientos: derecha, arriba-derecha, arriba-izquierda\n",
    "desplazamientos = [\n",
    "    (distancia, 0),  # derecha\n",
    "    (distancia/2, altura_fila),  # arriba-derecha\n",
    "    (-distancia/2, altura_fila)  # arriba-izquierda\n",
    "]\n",
    "\n",
    "# Seleccionar algunas plantas para mostrar los vectores (por ejemplo, las 6 primeras)\n",
    "num_vectores = 6\n",
    "for i in range(num_vectores):\n",
    "    x0, y0 = plantas_x[i], plantas_y[i]\n",
    "    for dx, dy in desplazamientos:\n",
    "        x1, y1 = x0 + dx, y0 + dy\n",
    "        # Solo dibujar si el destino está dentro de la parcela\n",
    "        if 0 <= x1 <= lado_parcela and 0 <= y1 <= lado_parcela:\n",
    "            fig_vec.add_trace(go.Scatter(\n",
    "                x=[x0, x1],\n",
    "                y=[y0, y1],\n",
    "                mode='lines',\n",
    "                line=dict(color='royalblue', width=2),\n",
    "                showlegend=False\n",
    "            ))\n",
    "\n",
    "fig_vec.update_layout(title='Desplazamientos entre plantas vecinas (vectores)')\n",
    "fig_vec.show()"
   ]
  },
  {
   "cell_type": "markdown",
   "id": "09d3ca4b",
   "metadata": {},
   "source": [
    "4. Cuenta cuántas plantas puedes sembrar usando este diseño (puedes usar círculos de radio pequeño para representar cada planta).\n"
   ]
  },
  {
   "cell_type": "code",
   "execution_count": 20,
   "id": "f886b1bb",
   "metadata": {},
   "outputs": [
    {
     "name": "stdout",
     "output_type": "stream",
     "text": [
      "Número total de plantas sembradas en la parcela: 42\n"
     ]
    }
   ],
   "source": [
    "# Contar cuántas plantas hay en el diseño actual\n",
    "num_plantas = len(plantas_x)\n",
    "print(f\"Número total de plantas sembradas en la parcela: {num_plantas}\")"
   ]
  },
  {
   "cell_type": "markdown",
   "id": "79220db2",
   "metadata": {},
   "source": [
    "5. Explica por qué este diseño es más eficiente que el ortogonal utilizando argumentos geométricos (área cubierta, distancia entre plantas, etc.).\n"
   ]
  },
  {
   "cell_type": "code",
   "execution_count": 21,
   "id": "14d1fa9f",
   "metadata": {},
   "outputs": [
    {
     "name": "stdout",
     "output_type": "stream",
     "text": [
      "Diseño ortogonal: 36 plantas, densidad = 0.360 plantas/m²\n",
      "Diseño tres bolillos: 42 plantas, densidad = 0.420 plantas/m²\n",
      "\n",
      "En el diseño ortogonal, las plantas se disponen en filas y columnas formando cuadrados. \n",
      "Cada planta ocupa un área de distancia². En el diseño triangular (tres bolillos), \n",
      "las plantas se disponen en filas alternadas, formando triángulos equiláteros, \n",
      "lo que permite aprovechar mejor el espacio: cada planta ocupa un área de (distancia² * sqrt(3)/2), \n",
      "que es menor que en el ortogonal. Por eso, el diseño triangular permite sembrar más plantas en la misma área, \n",
      "manteniendo la misma distancia mínima entre plantas.\n",
      "\n"
     ]
    },
    {
     "data": {
      "application/vnd.plotly.v1+json": {
       "config": {
        "plotlyServerURL": "https://plot.ly"
       },
       "data": [
        {
         "fill": "toself",
         "line": {
          "color": "green",
          "width": 3
         },
         "mode": "lines",
         "name": "Parcela 10x10 m",
         "type": "scatter",
         "x": [
          0,
          10,
          10,
          0,
          0
         ],
         "y": [
          0,
          0,
          10,
          10,
          0
         ]
        },
        {
         "marker": {
          "color": "orange",
          "size": 10,
          "symbol": "circle"
         },
         "mode": "markers",
         "name": "Plantas (ortogonal)",
         "type": "scatter",
         "x": [
          0.75,
          0.75,
          0.75,
          0.75,
          0.75,
          0.75,
          2.25,
          2.25,
          2.25,
          2.25,
          2.25,
          2.25,
          3.75,
          3.75,
          3.75,
          3.75,
          3.75,
          3.75,
          5.25,
          5.25,
          5.25,
          5.25,
          5.25,
          5.25,
          6.75,
          6.75,
          6.75,
          6.75,
          6.75,
          6.75,
          8.25,
          8.25,
          8.25,
          8.25,
          8.25,
          8.25
         ],
         "y": [
          0.75,
          2.25,
          3.75,
          5.25,
          6.75,
          8.25,
          0.75,
          2.25,
          3.75,
          5.25,
          6.75,
          8.25,
          0.75,
          2.25,
          3.75,
          5.25,
          6.75,
          8.25,
          0.75,
          2.25,
          3.75,
          5.25,
          6.75,
          8.25,
          0.75,
          2.25,
          3.75,
          5.25,
          6.75,
          8.25,
          0.75,
          2.25,
          3.75,
          5.25,
          6.75,
          8.25
         ]
        }
       ],
       "layout": {
        "height": 500,
        "showlegend": false,
        "template": {
         "data": {
          "bar": [
           {
            "error_x": {
             "color": "#2a3f5f"
            },
            "error_y": {
             "color": "#2a3f5f"
            },
            "marker": {
             "line": {
              "color": "#E5ECF6",
              "width": 0.5
             },
             "pattern": {
              "fillmode": "overlay",
              "size": 10,
              "solidity": 0.2
             }
            },
            "type": "bar"
           }
          ],
          "barpolar": [
           {
            "marker": {
             "line": {
              "color": "#E5ECF6",
              "width": 0.5
             },
             "pattern": {
              "fillmode": "overlay",
              "size": 10,
              "solidity": 0.2
             }
            },
            "type": "barpolar"
           }
          ],
          "carpet": [
           {
            "aaxis": {
             "endlinecolor": "#2a3f5f",
             "gridcolor": "white",
             "linecolor": "white",
             "minorgridcolor": "white",
             "startlinecolor": "#2a3f5f"
            },
            "baxis": {
             "endlinecolor": "#2a3f5f",
             "gridcolor": "white",
             "linecolor": "white",
             "minorgridcolor": "white",
             "startlinecolor": "#2a3f5f"
            },
            "type": "carpet"
           }
          ],
          "choropleth": [
           {
            "colorbar": {
             "outlinewidth": 0,
             "ticks": ""
            },
            "type": "choropleth"
           }
          ],
          "contour": [
           {
            "colorbar": {
             "outlinewidth": 0,
             "ticks": ""
            },
            "colorscale": [
             [
              0,
              "#0d0887"
             ],
             [
              0.1111111111111111,
              "#46039f"
             ],
             [
              0.2222222222222222,
              "#7201a8"
             ],
             [
              0.3333333333333333,
              "#9c179e"
             ],
             [
              0.4444444444444444,
              "#bd3786"
             ],
             [
              0.5555555555555556,
              "#d8576b"
             ],
             [
              0.6666666666666666,
              "#ed7953"
             ],
             [
              0.7777777777777778,
              "#fb9f3a"
             ],
             [
              0.8888888888888888,
              "#fdca26"
             ],
             [
              1,
              "#f0f921"
             ]
            ],
            "type": "contour"
           }
          ],
          "contourcarpet": [
           {
            "colorbar": {
             "outlinewidth": 0,
             "ticks": ""
            },
            "type": "contourcarpet"
           }
          ],
          "heatmap": [
           {
            "colorbar": {
             "outlinewidth": 0,
             "ticks": ""
            },
            "colorscale": [
             [
              0,
              "#0d0887"
             ],
             [
              0.1111111111111111,
              "#46039f"
             ],
             [
              0.2222222222222222,
              "#7201a8"
             ],
             [
              0.3333333333333333,
              "#9c179e"
             ],
             [
              0.4444444444444444,
              "#bd3786"
             ],
             [
              0.5555555555555556,
              "#d8576b"
             ],
             [
              0.6666666666666666,
              "#ed7953"
             ],
             [
              0.7777777777777778,
              "#fb9f3a"
             ],
             [
              0.8888888888888888,
              "#fdca26"
             ],
             [
              1,
              "#f0f921"
             ]
            ],
            "type": "heatmap"
           }
          ],
          "histogram": [
           {
            "marker": {
             "pattern": {
              "fillmode": "overlay",
              "size": 10,
              "solidity": 0.2
             }
            },
            "type": "histogram"
           }
          ],
          "histogram2d": [
           {
            "colorbar": {
             "outlinewidth": 0,
             "ticks": ""
            },
            "colorscale": [
             [
              0,
              "#0d0887"
             ],
             [
              0.1111111111111111,
              "#46039f"
             ],
             [
              0.2222222222222222,
              "#7201a8"
             ],
             [
              0.3333333333333333,
              "#9c179e"
             ],
             [
              0.4444444444444444,
              "#bd3786"
             ],
             [
              0.5555555555555556,
              "#d8576b"
             ],
             [
              0.6666666666666666,
              "#ed7953"
             ],
             [
              0.7777777777777778,
              "#fb9f3a"
             ],
             [
              0.8888888888888888,
              "#fdca26"
             ],
             [
              1,
              "#f0f921"
             ]
            ],
            "type": "histogram2d"
           }
          ],
          "histogram2dcontour": [
           {
            "colorbar": {
             "outlinewidth": 0,
             "ticks": ""
            },
            "colorscale": [
             [
              0,
              "#0d0887"
             ],
             [
              0.1111111111111111,
              "#46039f"
             ],
             [
              0.2222222222222222,
              "#7201a8"
             ],
             [
              0.3333333333333333,
              "#9c179e"
             ],
             [
              0.4444444444444444,
              "#bd3786"
             ],
             [
              0.5555555555555556,
              "#d8576b"
             ],
             [
              0.6666666666666666,
              "#ed7953"
             ],
             [
              0.7777777777777778,
              "#fb9f3a"
             ],
             [
              0.8888888888888888,
              "#fdca26"
             ],
             [
              1,
              "#f0f921"
             ]
            ],
            "type": "histogram2dcontour"
           }
          ],
          "mesh3d": [
           {
            "colorbar": {
             "outlinewidth": 0,
             "ticks": ""
            },
            "type": "mesh3d"
           }
          ],
          "parcoords": [
           {
            "line": {
             "colorbar": {
              "outlinewidth": 0,
              "ticks": ""
             }
            },
            "type": "parcoords"
           }
          ],
          "pie": [
           {
            "automargin": true,
            "type": "pie"
           }
          ],
          "scatter": [
           {
            "fillpattern": {
             "fillmode": "overlay",
             "size": 10,
             "solidity": 0.2
            },
            "type": "scatter"
           }
          ],
          "scatter3d": [
           {
            "line": {
             "colorbar": {
              "outlinewidth": 0,
              "ticks": ""
             }
            },
            "marker": {
             "colorbar": {
              "outlinewidth": 0,
              "ticks": ""
             }
            },
            "type": "scatter3d"
           }
          ],
          "scattercarpet": [
           {
            "marker": {
             "colorbar": {
              "outlinewidth": 0,
              "ticks": ""
             }
            },
            "type": "scattercarpet"
           }
          ],
          "scattergeo": [
           {
            "marker": {
             "colorbar": {
              "outlinewidth": 0,
              "ticks": ""
             }
            },
            "type": "scattergeo"
           }
          ],
          "scattergl": [
           {
            "marker": {
             "colorbar": {
              "outlinewidth": 0,
              "ticks": ""
             }
            },
            "type": "scattergl"
           }
          ],
          "scattermap": [
           {
            "marker": {
             "colorbar": {
              "outlinewidth": 0,
              "ticks": ""
             }
            },
            "type": "scattermap"
           }
          ],
          "scattermapbox": [
           {
            "marker": {
             "colorbar": {
              "outlinewidth": 0,
              "ticks": ""
             }
            },
            "type": "scattermapbox"
           }
          ],
          "scatterpolar": [
           {
            "marker": {
             "colorbar": {
              "outlinewidth": 0,
              "ticks": ""
             }
            },
            "type": "scatterpolar"
           }
          ],
          "scatterpolargl": [
           {
            "marker": {
             "colorbar": {
              "outlinewidth": 0,
              "ticks": ""
             }
            },
            "type": "scatterpolargl"
           }
          ],
          "scatterternary": [
           {
            "marker": {
             "colorbar": {
              "outlinewidth": 0,
              "ticks": ""
             }
            },
            "type": "scatterternary"
           }
          ],
          "surface": [
           {
            "colorbar": {
             "outlinewidth": 0,
             "ticks": ""
            },
            "colorscale": [
             [
              0,
              "#0d0887"
             ],
             [
              0.1111111111111111,
              "#46039f"
             ],
             [
              0.2222222222222222,
              "#7201a8"
             ],
             [
              0.3333333333333333,
              "#9c179e"
             ],
             [
              0.4444444444444444,
              "#bd3786"
             ],
             [
              0.5555555555555556,
              "#d8576b"
             ],
             [
              0.6666666666666666,
              "#ed7953"
             ],
             [
              0.7777777777777778,
              "#fb9f3a"
             ],
             [
              0.8888888888888888,
              "#fdca26"
             ],
             [
              1,
              "#f0f921"
             ]
            ],
            "type": "surface"
           }
          ],
          "table": [
           {
            "cells": {
             "fill": {
              "color": "#EBF0F8"
             },
             "line": {
              "color": "white"
             }
            },
            "header": {
             "fill": {
              "color": "#C8D4E3"
             },
             "line": {
              "color": "white"
             }
            },
            "type": "table"
           }
          ]
         },
         "layout": {
          "annotationdefaults": {
           "arrowcolor": "#2a3f5f",
           "arrowhead": 0,
           "arrowwidth": 1
          },
          "autotypenumbers": "strict",
          "coloraxis": {
           "colorbar": {
            "outlinewidth": 0,
            "ticks": ""
           }
          },
          "colorscale": {
           "diverging": [
            [
             0,
             "#8e0152"
            ],
            [
             0.1,
             "#c51b7d"
            ],
            [
             0.2,
             "#de77ae"
            ],
            [
             0.3,
             "#f1b6da"
            ],
            [
             0.4,
             "#fde0ef"
            ],
            [
             0.5,
             "#f7f7f7"
            ],
            [
             0.6,
             "#e6f5d0"
            ],
            [
             0.7,
             "#b8e186"
            ],
            [
             0.8,
             "#7fbc41"
            ],
            [
             0.9,
             "#4d9221"
            ],
            [
             1,
             "#276419"
            ]
           ],
           "sequential": [
            [
             0,
             "#0d0887"
            ],
            [
             0.1111111111111111,
             "#46039f"
            ],
            [
             0.2222222222222222,
             "#7201a8"
            ],
            [
             0.3333333333333333,
             "#9c179e"
            ],
            [
             0.4444444444444444,
             "#bd3786"
            ],
            [
             0.5555555555555556,
             "#d8576b"
            ],
            [
             0.6666666666666666,
             "#ed7953"
            ],
            [
             0.7777777777777778,
             "#fb9f3a"
            ],
            [
             0.8888888888888888,
             "#fdca26"
            ],
            [
             1,
             "#f0f921"
            ]
           ],
           "sequentialminus": [
            [
             0,
             "#0d0887"
            ],
            [
             0.1111111111111111,
             "#46039f"
            ],
            [
             0.2222222222222222,
             "#7201a8"
            ],
            [
             0.3333333333333333,
             "#9c179e"
            ],
            [
             0.4444444444444444,
             "#bd3786"
            ],
            [
             0.5555555555555556,
             "#d8576b"
            ],
            [
             0.6666666666666666,
             "#ed7953"
            ],
            [
             0.7777777777777778,
             "#fb9f3a"
            ],
            [
             0.8888888888888888,
             "#fdca26"
            ],
            [
             1,
             "#f0f921"
            ]
           ]
          },
          "colorway": [
           "#636efa",
           "#EF553B",
           "#00cc96",
           "#ab63fa",
           "#FFA15A",
           "#19d3f3",
           "#FF6692",
           "#B6E880",
           "#FF97FF",
           "#FECB52"
          ],
          "font": {
           "color": "#2a3f5f"
          },
          "geo": {
           "bgcolor": "white",
           "lakecolor": "white",
           "landcolor": "#E5ECF6",
           "showlakes": true,
           "showland": true,
           "subunitcolor": "white"
          },
          "hoverlabel": {
           "align": "left"
          },
          "hovermode": "closest",
          "mapbox": {
           "style": "light"
          },
          "paper_bgcolor": "white",
          "plot_bgcolor": "#E5ECF6",
          "polar": {
           "angularaxis": {
            "gridcolor": "white",
            "linecolor": "white",
            "ticks": ""
           },
           "bgcolor": "#E5ECF6",
           "radialaxis": {
            "gridcolor": "white",
            "linecolor": "white",
            "ticks": ""
           }
          },
          "scene": {
           "xaxis": {
            "backgroundcolor": "#E5ECF6",
            "gridcolor": "white",
            "gridwidth": 2,
            "linecolor": "white",
            "showbackground": true,
            "ticks": "",
            "zerolinecolor": "white"
           },
           "yaxis": {
            "backgroundcolor": "#E5ECF6",
            "gridcolor": "white",
            "gridwidth": 2,
            "linecolor": "white",
            "showbackground": true,
            "ticks": "",
            "zerolinecolor": "white"
           },
           "zaxis": {
            "backgroundcolor": "#E5ECF6",
            "gridcolor": "white",
            "gridwidth": 2,
            "linecolor": "white",
            "showbackground": true,
            "ticks": "",
            "zerolinecolor": "white"
           }
          },
          "shapedefaults": {
           "line": {
            "color": "#2a3f5f"
           }
          },
          "ternary": {
           "aaxis": {
            "gridcolor": "white",
            "linecolor": "white",
            "ticks": ""
           },
           "baxis": {
            "gridcolor": "white",
            "linecolor": "white",
            "ticks": ""
           },
           "bgcolor": "#E5ECF6",
           "caxis": {
            "gridcolor": "white",
            "linecolor": "white",
            "ticks": ""
           }
          },
          "title": {
           "x": 0.05
          },
          "xaxis": {
           "automargin": true,
           "gridcolor": "white",
           "linecolor": "white",
           "ticks": "",
           "title": {
            "standoff": 15
           },
           "zerolinecolor": "white",
           "zerolinewidth": 2
          },
          "yaxis": {
           "automargin": true,
           "gridcolor": "white",
           "linecolor": "white",
           "ticks": "",
           "title": {
            "standoff": 15
           },
           "zerolinecolor": "white",
           "zerolinewidth": 2
          }
         }
        },
        "title": {
         "text": "Diseño ortogonal de siembra (cuadrícula)"
        },
        "width": 500,
        "xaxis": {
         "range": [
          -1,
          11
         ],
         "scaleanchor": "y",
         "scaleratio": 1,
         "title": {
          "text": "X (m)"
         }
        },
        "yaxis": {
         "range": [
          -1,
          11
         ],
         "title": {
          "text": "Y (m)"
         }
        }
       }
      }
     },
     "metadata": {},
     "output_type": "display_data"
    }
   ],
   "source": [
    "import numpy as np\n",
    "\n",
    "import plotly.graph_objects as go\n",
    "\n",
    "# Argumento geométrico de eficiencia\n",
    "# En el diseño ortogonal (cuadrícula), cada planta ocupa un cuadrado de lado igual a la distancia entre plantas.\n",
    "# En el diseño \"tres bolillos\" (triangular), cada planta ocupa un hexágono regular, equivalente a un paralelogramo de área menor por planta.\n",
    "lado_parcela = 10\n",
    "# Cálculo de densidad de plantas por metro cuadrado\n",
    "area_parcela = lado_parcela * lado_parcela\n",
    "\n",
    "# Diseño ortogonal\n",
    "n_filas_ort = int(np.floor(lado_parcela / distancia))\n",
    "n_columnas_ort = int(np.floor(lado_parcela / distancia))\n",
    "num_plantas_ort = n_filas_ort * n_columnas_ort\n",
    "densidad_ort = num_plantas_ort / area_parcela\n",
    "\n",
    "# Diseño triangular (\"tres bolillos\")\n",
    "densidad_tri = num_plantas / area_parcela\n",
    "\n",
    "print(f\"Diseño ortogonal: {num_plantas_ort} plantas, densidad = {densidad_ort:.3f} plantas/m²\")\n",
    "print(f\"Diseño tres bolillos: {num_plantas} plantas, densidad = {densidad_tri:.3f} plantas/m²\")\n",
    "\n",
    "# Explicación:\n",
    "explicacion = \"\"\"\n",
    "En el diseño ortogonal, las plantas se disponen en filas y columnas formando cuadrados. \n",
    "Cada planta ocupa un área de distancia². En el diseño triangular (tres bolillos), \n",
    "las plantas se disponen en filas alternadas, formando triángulos equiláteros, \n",
    "lo que permite aprovechar mejor el espacio: cada planta ocupa un área de (distancia² * sqrt(3)/2), \n",
    "que es menor que en el ortogonal. Por eso, el diseño triangular permite sembrar más plantas en la misma área, \n",
    "manteniendo la misma distancia mínima entre plantas.\n",
    "\"\"\"\n",
    "print(explicacion)\n",
    "\n",
    "# Trazar el diseño ortogonal con Plotly\n",
    "plantas_x_ort = []\n",
    "plantas_y_ort = []\n",
    "for i in range(n_filas_ort):\n",
    "    for j in range(n_columnas_ort):\n",
    "        plantas_x_ort.append(distancia/2 + i*distancia)\n",
    "        plantas_y_ort.append(distancia/2 + j*distancia)\n",
    "\n",
    "fig_ort = go.Figure()\n",
    "\n",
    "# Parcela\n",
    "fig_ort.add_trace(go.Scatter(\n",
    "    x=x, y=y, mode='lines', fill='toself',\n",
    "    line=dict(color='green', width=3),\n",
    "    name='Parcela 10x10 m'\n",
    "))\n",
    "\n",
    "# Plantas ortogonales\n",
    "fig_ort.add_trace(go.Scatter(\n",
    "    x=plantas_x_ort,\n",
    "    y=plantas_y_ort,\n",
    "    mode='markers',\n",
    "    marker=dict(size=10, color='orange', symbol='circle'),\n",
    "    name='Plantas (ortogonal)'\n",
    "))\n",
    "\n",
    "fig_ort.update_layout(\n",
    "    title='Diseño ortogonal de siembra (cuadrícula)',\n",
    "    xaxis_title='X (m)',\n",
    "    yaxis_title='Y (m)',\n",
    "    xaxis=dict(range=[-1, 11], scaleanchor=\"y\", scaleratio=1),\n",
    "    yaxis=dict(range=[-1, 11]),\n",
    "    width=500, height=500,\n",
    "    showlegend=False\n",
    ")\n",
    "\n",
    "fig_ort.show()"
   ]
  },
  {
   "cell_type": "markdown",
   "id": "813e8a53",
   "metadata": {},
   "source": [
    "# área ocupada por cada planta en un sembrado ortogonal \n",
    "\n"
   ]
  },
  {
   "cell_type": "code",
   "execution_count": 22,
   "id": "8ae4abba",
   "metadata": {},
   "outputs": [
    {
     "data": {
      "text/plain": [
       "1.3"
      ]
     },
     "execution_count": 22,
     "metadata": {},
     "output_type": "execute_result"
    }
   ],
   "source": [
    "round((1.5**2 - 0.75**2)**(1/2), 1)"
   ]
  },
  {
   "cell_type": "code",
   "execution_count": 23,
   "id": "6a86128e",
   "metadata": {},
   "outputs": [
    {
     "name": "stdout",
     "output_type": "stream",
     "text": [
      "Diseño ortogonal: 36 plantas, densidad = 0.360 plantas/m²\n",
      "Diseño tres bolillos: 42 plantas, densidad = 0.420 plantas/m²\n",
      "\n",
      "En el diseño ortogonal, las plantas se disponen en filas y columnas formando cuadrados. \n",
      "Cada planta ocupa un área de distancia². En el diseño triangular (tres bolillos), \n",
      "las plantas se disponen en filas alternadas, formando triángulos equiláteros, \n",
      "lo que permite aprovechar mejor el espacio: cada planta ocupa un área de (distancia² * sqrt(3)/2), \n",
      "que es menor que en el ortogonal. Por eso, el diseño triangular permite sembrar más plantas en la misma área, \n",
      "manteniendo la misma distancia mínima entre plantas.\n",
      "\n"
     ]
    },
    {
     "data": {
      "application/vnd.plotly.v1+json": {
       "config": {
        "plotlyServerURL": "https://plot.ly"
       },
       "data": [
        {
         "fill": "toself",
         "line": {
          "color": "green",
          "width": 3
         },
         "mode": "lines",
         "name": "Parcela 10x10 m",
         "type": "scatter",
         "x": [
          0,
          10,
          10,
          0,
          0
         ],
         "y": [
          0,
          0,
          10,
          10,
          0
         ]
        },
        {
         "fill": "toself",
         "line": {
          "color": "green",
          "width": 3
         },
         "mode": "lines",
         "name": "Parcela 10x10 m",
         "type": "scatter",
         "x": [
          0,
          10,
          10,
          0,
          0
         ],
         "y": [
          0,
          0,
          10,
          10,
          0
         ]
        },
        {
         "fill": "toself",
         "fillcolor": "rgba(255,200,0,0.2)",
         "line": {
          "color": "orange",
          "width": 1
         },
         "mode": "lines",
         "showlegend": false,
         "type": "scatter",
         "x": [
          0,
          1.5,
          1.5,
          0,
          0
         ],
         "y": [
          0,
          0,
          1.5,
          1.5,
          0
         ]
        },
        {
         "fill": "toself",
         "fillcolor": "rgba(255,200,0,0.2)",
         "line": {
          "color": "orange",
          "width": 1
         },
         "mode": "lines",
         "showlegend": false,
         "type": "scatter",
         "x": [
          0,
          1.5,
          1.5,
          0,
          0
         ],
         "y": [
          1.5,
          1.5,
          3,
          3,
          1.5
         ]
        },
        {
         "fill": "toself",
         "fillcolor": "rgba(255,200,0,0.2)",
         "line": {
          "color": "orange",
          "width": 1
         },
         "mode": "lines",
         "showlegend": false,
         "type": "scatter",
         "x": [
          0,
          1.5,
          1.5,
          0,
          0
         ],
         "y": [
          3,
          3,
          4.5,
          4.5,
          3
         ]
        },
        {
         "fill": "toself",
         "fillcolor": "rgba(255,200,0,0.2)",
         "line": {
          "color": "orange",
          "width": 1
         },
         "mode": "lines",
         "showlegend": false,
         "type": "scatter",
         "x": [
          0,
          1.5,
          1.5,
          0,
          0
         ],
         "y": [
          4.5,
          4.5,
          6,
          6,
          4.5
         ]
        },
        {
         "fill": "toself",
         "fillcolor": "rgba(255,200,0,0.2)",
         "line": {
          "color": "orange",
          "width": 1
         },
         "mode": "lines",
         "showlegend": false,
         "type": "scatter",
         "x": [
          0,
          1.5,
          1.5,
          0,
          0
         ],
         "y": [
          6,
          6,
          7.5,
          7.5,
          6
         ]
        },
        {
         "fill": "toself",
         "fillcolor": "rgba(255,200,0,0.2)",
         "line": {
          "color": "orange",
          "width": 1
         },
         "mode": "lines",
         "showlegend": false,
         "type": "scatter",
         "x": [
          0,
          1.5,
          1.5,
          0,
          0
         ],
         "y": [
          7.5,
          7.5,
          9,
          9,
          7.5
         ]
        },
        {
         "fill": "toself",
         "fillcolor": "rgba(255,200,0,0.2)",
         "line": {
          "color": "orange",
          "width": 1
         },
         "mode": "lines",
         "showlegend": false,
         "type": "scatter",
         "x": [
          1.5,
          3,
          3,
          1.5,
          1.5
         ],
         "y": [
          0,
          0,
          1.5,
          1.5,
          0
         ]
        },
        {
         "fill": "toself",
         "fillcolor": "rgba(255,200,0,0.2)",
         "line": {
          "color": "orange",
          "width": 1
         },
         "mode": "lines",
         "showlegend": false,
         "type": "scatter",
         "x": [
          1.5,
          3,
          3,
          1.5,
          1.5
         ],
         "y": [
          1.5,
          1.5,
          3,
          3,
          1.5
         ]
        },
        {
         "fill": "toself",
         "fillcolor": "rgba(255,200,0,0.2)",
         "line": {
          "color": "orange",
          "width": 1
         },
         "mode": "lines",
         "showlegend": false,
         "type": "scatter",
         "x": [
          1.5,
          3,
          3,
          1.5,
          1.5
         ],
         "y": [
          3,
          3,
          4.5,
          4.5,
          3
         ]
        },
        {
         "fill": "toself",
         "fillcolor": "rgba(255,200,0,0.2)",
         "line": {
          "color": "orange",
          "width": 1
         },
         "mode": "lines",
         "showlegend": false,
         "type": "scatter",
         "x": [
          1.5,
          3,
          3,
          1.5,
          1.5
         ],
         "y": [
          4.5,
          4.5,
          6,
          6,
          4.5
         ]
        },
        {
         "fill": "toself",
         "fillcolor": "rgba(255,200,0,0.2)",
         "line": {
          "color": "orange",
          "width": 1
         },
         "mode": "lines",
         "showlegend": false,
         "type": "scatter",
         "x": [
          1.5,
          3,
          3,
          1.5,
          1.5
         ],
         "y": [
          6,
          6,
          7.5,
          7.5,
          6
         ]
        },
        {
         "fill": "toself",
         "fillcolor": "rgba(255,200,0,0.2)",
         "line": {
          "color": "orange",
          "width": 1
         },
         "mode": "lines",
         "showlegend": false,
         "type": "scatter",
         "x": [
          1.5,
          3,
          3,
          1.5,
          1.5
         ],
         "y": [
          7.5,
          7.5,
          9,
          9,
          7.5
         ]
        },
        {
         "fill": "toself",
         "fillcolor": "rgba(255,200,0,0.2)",
         "line": {
          "color": "orange",
          "width": 1
         },
         "mode": "lines",
         "showlegend": false,
         "type": "scatter",
         "x": [
          3,
          4.5,
          4.5,
          3,
          3
         ],
         "y": [
          0,
          0,
          1.5,
          1.5,
          0
         ]
        },
        {
         "fill": "toself",
         "fillcolor": "rgba(255,200,0,0.2)",
         "line": {
          "color": "orange",
          "width": 1
         },
         "mode": "lines",
         "showlegend": false,
         "type": "scatter",
         "x": [
          3,
          4.5,
          4.5,
          3,
          3
         ],
         "y": [
          1.5,
          1.5,
          3,
          3,
          1.5
         ]
        },
        {
         "fill": "toself",
         "fillcolor": "rgba(255,200,0,0.2)",
         "line": {
          "color": "orange",
          "width": 1
         },
         "mode": "lines",
         "showlegend": false,
         "type": "scatter",
         "x": [
          3,
          4.5,
          4.5,
          3,
          3
         ],
         "y": [
          3,
          3,
          4.5,
          4.5,
          3
         ]
        },
        {
         "fill": "toself",
         "fillcolor": "rgba(255,200,0,0.2)",
         "line": {
          "color": "orange",
          "width": 1
         },
         "mode": "lines",
         "showlegend": false,
         "type": "scatter",
         "x": [
          3,
          4.5,
          4.5,
          3,
          3
         ],
         "y": [
          4.5,
          4.5,
          6,
          6,
          4.5
         ]
        },
        {
         "fill": "toself",
         "fillcolor": "rgba(255,200,0,0.2)",
         "line": {
          "color": "orange",
          "width": 1
         },
         "mode": "lines",
         "showlegend": false,
         "type": "scatter",
         "x": [
          3,
          4.5,
          4.5,
          3,
          3
         ],
         "y": [
          6,
          6,
          7.5,
          7.5,
          6
         ]
        },
        {
         "fill": "toself",
         "fillcolor": "rgba(255,200,0,0.2)",
         "line": {
          "color": "orange",
          "width": 1
         },
         "mode": "lines",
         "showlegend": false,
         "type": "scatter",
         "x": [
          3,
          4.5,
          4.5,
          3,
          3
         ],
         "y": [
          7.5,
          7.5,
          9,
          9,
          7.5
         ]
        },
        {
         "fill": "toself",
         "fillcolor": "rgba(255,200,0,0.2)",
         "line": {
          "color": "orange",
          "width": 1
         },
         "mode": "lines",
         "showlegend": false,
         "type": "scatter",
         "x": [
          4.5,
          6,
          6,
          4.5,
          4.5
         ],
         "y": [
          0,
          0,
          1.5,
          1.5,
          0
         ]
        },
        {
         "fill": "toself",
         "fillcolor": "rgba(255,200,0,0.2)",
         "line": {
          "color": "orange",
          "width": 1
         },
         "mode": "lines",
         "showlegend": false,
         "type": "scatter",
         "x": [
          4.5,
          6,
          6,
          4.5,
          4.5
         ],
         "y": [
          1.5,
          1.5,
          3,
          3,
          1.5
         ]
        },
        {
         "fill": "toself",
         "fillcolor": "rgba(255,200,0,0.2)",
         "line": {
          "color": "orange",
          "width": 1
         },
         "mode": "lines",
         "showlegend": false,
         "type": "scatter",
         "x": [
          4.5,
          6,
          6,
          4.5,
          4.5
         ],
         "y": [
          3,
          3,
          4.5,
          4.5,
          3
         ]
        },
        {
         "fill": "toself",
         "fillcolor": "rgba(255,200,0,0.2)",
         "line": {
          "color": "orange",
          "width": 1
         },
         "mode": "lines",
         "showlegend": false,
         "type": "scatter",
         "x": [
          4.5,
          6,
          6,
          4.5,
          4.5
         ],
         "y": [
          4.5,
          4.5,
          6,
          6,
          4.5
         ]
        },
        {
         "fill": "toself",
         "fillcolor": "rgba(255,200,0,0.2)",
         "line": {
          "color": "orange",
          "width": 1
         },
         "mode": "lines",
         "showlegend": false,
         "type": "scatter",
         "x": [
          4.5,
          6,
          6,
          4.5,
          4.5
         ],
         "y": [
          6,
          6,
          7.5,
          7.5,
          6
         ]
        },
        {
         "fill": "toself",
         "fillcolor": "rgba(255,200,0,0.2)",
         "line": {
          "color": "orange",
          "width": 1
         },
         "mode": "lines",
         "showlegend": false,
         "type": "scatter",
         "x": [
          4.5,
          6,
          6,
          4.5,
          4.5
         ],
         "y": [
          7.5,
          7.5,
          9,
          9,
          7.5
         ]
        },
        {
         "fill": "toself",
         "fillcolor": "rgba(255,200,0,0.2)",
         "line": {
          "color": "orange",
          "width": 1
         },
         "mode": "lines",
         "showlegend": false,
         "type": "scatter",
         "x": [
          6,
          7.5,
          7.5,
          6,
          6
         ],
         "y": [
          0,
          0,
          1.5,
          1.5,
          0
         ]
        },
        {
         "fill": "toself",
         "fillcolor": "rgba(255,200,0,0.2)",
         "line": {
          "color": "orange",
          "width": 1
         },
         "mode": "lines",
         "showlegend": false,
         "type": "scatter",
         "x": [
          6,
          7.5,
          7.5,
          6,
          6
         ],
         "y": [
          1.5,
          1.5,
          3,
          3,
          1.5
         ]
        },
        {
         "fill": "toself",
         "fillcolor": "rgba(255,200,0,0.2)",
         "line": {
          "color": "orange",
          "width": 1
         },
         "mode": "lines",
         "showlegend": false,
         "type": "scatter",
         "x": [
          6,
          7.5,
          7.5,
          6,
          6
         ],
         "y": [
          3,
          3,
          4.5,
          4.5,
          3
         ]
        },
        {
         "fill": "toself",
         "fillcolor": "rgba(255,200,0,0.2)",
         "line": {
          "color": "orange",
          "width": 1
         },
         "mode": "lines",
         "showlegend": false,
         "type": "scatter",
         "x": [
          6,
          7.5,
          7.5,
          6,
          6
         ],
         "y": [
          4.5,
          4.5,
          6,
          6,
          4.5
         ]
        },
        {
         "fill": "toself",
         "fillcolor": "rgba(255,200,0,0.2)",
         "line": {
          "color": "orange",
          "width": 1
         },
         "mode": "lines",
         "showlegend": false,
         "type": "scatter",
         "x": [
          6,
          7.5,
          7.5,
          6,
          6
         ],
         "y": [
          6,
          6,
          7.5,
          7.5,
          6
         ]
        },
        {
         "fill": "toself",
         "fillcolor": "rgba(255,200,0,0.2)",
         "line": {
          "color": "orange",
          "width": 1
         },
         "mode": "lines",
         "showlegend": false,
         "type": "scatter",
         "x": [
          6,
          7.5,
          7.5,
          6,
          6
         ],
         "y": [
          7.5,
          7.5,
          9,
          9,
          7.5
         ]
        },
        {
         "fill": "toself",
         "fillcolor": "rgba(255,200,0,0.2)",
         "line": {
          "color": "orange",
          "width": 1
         },
         "mode": "lines",
         "showlegend": false,
         "type": "scatter",
         "x": [
          7.5,
          9,
          9,
          7.5,
          7.5
         ],
         "y": [
          0,
          0,
          1.5,
          1.5,
          0
         ]
        },
        {
         "fill": "toself",
         "fillcolor": "rgba(255,200,0,0.2)",
         "line": {
          "color": "orange",
          "width": 1
         },
         "mode": "lines",
         "showlegend": false,
         "type": "scatter",
         "x": [
          7.5,
          9,
          9,
          7.5,
          7.5
         ],
         "y": [
          1.5,
          1.5,
          3,
          3,
          1.5
         ]
        },
        {
         "fill": "toself",
         "fillcolor": "rgba(255,200,0,0.2)",
         "line": {
          "color": "orange",
          "width": 1
         },
         "mode": "lines",
         "showlegend": false,
         "type": "scatter",
         "x": [
          7.5,
          9,
          9,
          7.5,
          7.5
         ],
         "y": [
          3,
          3,
          4.5,
          4.5,
          3
         ]
        },
        {
         "fill": "toself",
         "fillcolor": "rgba(255,200,0,0.2)",
         "line": {
          "color": "orange",
          "width": 1
         },
         "mode": "lines",
         "showlegend": false,
         "type": "scatter",
         "x": [
          7.5,
          9,
          9,
          7.5,
          7.5
         ],
         "y": [
          4.5,
          4.5,
          6,
          6,
          4.5
         ]
        },
        {
         "fill": "toself",
         "fillcolor": "rgba(255,200,0,0.2)",
         "line": {
          "color": "orange",
          "width": 1
         },
         "mode": "lines",
         "showlegend": false,
         "type": "scatter",
         "x": [
          7.5,
          9,
          9,
          7.5,
          7.5
         ],
         "y": [
          6,
          6,
          7.5,
          7.5,
          6
         ]
        },
        {
         "fill": "toself",
         "fillcolor": "rgba(255,200,0,0.2)",
         "line": {
          "color": "orange",
          "width": 1
         },
         "mode": "lines",
         "showlegend": false,
         "type": "scatter",
         "x": [
          7.5,
          9,
          9,
          7.5,
          7.5
         ],
         "y": [
          7.5,
          7.5,
          9,
          9,
          7.5
         ]
        },
        {
         "marker": {
          "color": "orange",
          "size": 10,
          "symbol": "circle"
         },
         "mode": "markers",
         "name": "Plantas (ortogonal)",
         "type": "scatter",
         "x": [
          0.75,
          0.75,
          0.75,
          0.75,
          0.75,
          0.75,
          2.25,
          2.25,
          2.25,
          2.25,
          2.25,
          2.25,
          3.75,
          3.75,
          3.75,
          3.75,
          3.75,
          3.75,
          5.25,
          5.25,
          5.25,
          5.25,
          5.25,
          5.25,
          6.75,
          6.75,
          6.75,
          6.75,
          6.75,
          6.75,
          8.25,
          8.25,
          8.25,
          8.25,
          8.25,
          8.25
         ],
         "y": [
          0.75,
          2.25,
          3.75,
          5.25,
          6.75,
          8.25,
          0.75,
          2.25,
          3.75,
          5.25,
          6.75,
          8.25,
          0.75,
          2.25,
          3.75,
          5.25,
          6.75,
          8.25,
          0.75,
          2.25,
          3.75,
          5.25,
          6.75,
          8.25,
          0.75,
          2.25,
          3.75,
          5.25,
          6.75,
          8.25,
          0.75,
          2.25,
          3.75,
          5.25,
          6.75,
          8.25
         ]
        }
       ],
       "layout": {
        "height": 500,
        "showlegend": false,
        "template": {
         "data": {
          "bar": [
           {
            "error_x": {
             "color": "#2a3f5f"
            },
            "error_y": {
             "color": "#2a3f5f"
            },
            "marker": {
             "line": {
              "color": "#E5ECF6",
              "width": 0.5
             },
             "pattern": {
              "fillmode": "overlay",
              "size": 10,
              "solidity": 0.2
             }
            },
            "type": "bar"
           }
          ],
          "barpolar": [
           {
            "marker": {
             "line": {
              "color": "#E5ECF6",
              "width": 0.5
             },
             "pattern": {
              "fillmode": "overlay",
              "size": 10,
              "solidity": 0.2
             }
            },
            "type": "barpolar"
           }
          ],
          "carpet": [
           {
            "aaxis": {
             "endlinecolor": "#2a3f5f",
             "gridcolor": "white",
             "linecolor": "white",
             "minorgridcolor": "white",
             "startlinecolor": "#2a3f5f"
            },
            "baxis": {
             "endlinecolor": "#2a3f5f",
             "gridcolor": "white",
             "linecolor": "white",
             "minorgridcolor": "white",
             "startlinecolor": "#2a3f5f"
            },
            "type": "carpet"
           }
          ],
          "choropleth": [
           {
            "colorbar": {
             "outlinewidth": 0,
             "ticks": ""
            },
            "type": "choropleth"
           }
          ],
          "contour": [
           {
            "colorbar": {
             "outlinewidth": 0,
             "ticks": ""
            },
            "colorscale": [
             [
              0,
              "#0d0887"
             ],
             [
              0.1111111111111111,
              "#46039f"
             ],
             [
              0.2222222222222222,
              "#7201a8"
             ],
             [
              0.3333333333333333,
              "#9c179e"
             ],
             [
              0.4444444444444444,
              "#bd3786"
             ],
             [
              0.5555555555555556,
              "#d8576b"
             ],
             [
              0.6666666666666666,
              "#ed7953"
             ],
             [
              0.7777777777777778,
              "#fb9f3a"
             ],
             [
              0.8888888888888888,
              "#fdca26"
             ],
             [
              1,
              "#f0f921"
             ]
            ],
            "type": "contour"
           }
          ],
          "contourcarpet": [
           {
            "colorbar": {
             "outlinewidth": 0,
             "ticks": ""
            },
            "type": "contourcarpet"
           }
          ],
          "heatmap": [
           {
            "colorbar": {
             "outlinewidth": 0,
             "ticks": ""
            },
            "colorscale": [
             [
              0,
              "#0d0887"
             ],
             [
              0.1111111111111111,
              "#46039f"
             ],
             [
              0.2222222222222222,
              "#7201a8"
             ],
             [
              0.3333333333333333,
              "#9c179e"
             ],
             [
              0.4444444444444444,
              "#bd3786"
             ],
             [
              0.5555555555555556,
              "#d8576b"
             ],
             [
              0.6666666666666666,
              "#ed7953"
             ],
             [
              0.7777777777777778,
              "#fb9f3a"
             ],
             [
              0.8888888888888888,
              "#fdca26"
             ],
             [
              1,
              "#f0f921"
             ]
            ],
            "type": "heatmap"
           }
          ],
          "histogram": [
           {
            "marker": {
             "pattern": {
              "fillmode": "overlay",
              "size": 10,
              "solidity": 0.2
             }
            },
            "type": "histogram"
           }
          ],
          "histogram2d": [
           {
            "colorbar": {
             "outlinewidth": 0,
             "ticks": ""
            },
            "colorscale": [
             [
              0,
              "#0d0887"
             ],
             [
              0.1111111111111111,
              "#46039f"
             ],
             [
              0.2222222222222222,
              "#7201a8"
             ],
             [
              0.3333333333333333,
              "#9c179e"
             ],
             [
              0.4444444444444444,
              "#bd3786"
             ],
             [
              0.5555555555555556,
              "#d8576b"
             ],
             [
              0.6666666666666666,
              "#ed7953"
             ],
             [
              0.7777777777777778,
              "#fb9f3a"
             ],
             [
              0.8888888888888888,
              "#fdca26"
             ],
             [
              1,
              "#f0f921"
             ]
            ],
            "type": "histogram2d"
           }
          ],
          "histogram2dcontour": [
           {
            "colorbar": {
             "outlinewidth": 0,
             "ticks": ""
            },
            "colorscale": [
             [
              0,
              "#0d0887"
             ],
             [
              0.1111111111111111,
              "#46039f"
             ],
             [
              0.2222222222222222,
              "#7201a8"
             ],
             [
              0.3333333333333333,
              "#9c179e"
             ],
             [
              0.4444444444444444,
              "#bd3786"
             ],
             [
              0.5555555555555556,
              "#d8576b"
             ],
             [
              0.6666666666666666,
              "#ed7953"
             ],
             [
              0.7777777777777778,
              "#fb9f3a"
             ],
             [
              0.8888888888888888,
              "#fdca26"
             ],
             [
              1,
              "#f0f921"
             ]
            ],
            "type": "histogram2dcontour"
           }
          ],
          "mesh3d": [
           {
            "colorbar": {
             "outlinewidth": 0,
             "ticks": ""
            },
            "type": "mesh3d"
           }
          ],
          "parcoords": [
           {
            "line": {
             "colorbar": {
              "outlinewidth": 0,
              "ticks": ""
             }
            },
            "type": "parcoords"
           }
          ],
          "pie": [
           {
            "automargin": true,
            "type": "pie"
           }
          ],
          "scatter": [
           {
            "fillpattern": {
             "fillmode": "overlay",
             "size": 10,
             "solidity": 0.2
            },
            "type": "scatter"
           }
          ],
          "scatter3d": [
           {
            "line": {
             "colorbar": {
              "outlinewidth": 0,
              "ticks": ""
             }
            },
            "marker": {
             "colorbar": {
              "outlinewidth": 0,
              "ticks": ""
             }
            },
            "type": "scatter3d"
           }
          ],
          "scattercarpet": [
           {
            "marker": {
             "colorbar": {
              "outlinewidth": 0,
              "ticks": ""
             }
            },
            "type": "scattercarpet"
           }
          ],
          "scattergeo": [
           {
            "marker": {
             "colorbar": {
              "outlinewidth": 0,
              "ticks": ""
             }
            },
            "type": "scattergeo"
           }
          ],
          "scattergl": [
           {
            "marker": {
             "colorbar": {
              "outlinewidth": 0,
              "ticks": ""
             }
            },
            "type": "scattergl"
           }
          ],
          "scattermap": [
           {
            "marker": {
             "colorbar": {
              "outlinewidth": 0,
              "ticks": ""
             }
            },
            "type": "scattermap"
           }
          ],
          "scattermapbox": [
           {
            "marker": {
             "colorbar": {
              "outlinewidth": 0,
              "ticks": ""
             }
            },
            "type": "scattermapbox"
           }
          ],
          "scatterpolar": [
           {
            "marker": {
             "colorbar": {
              "outlinewidth": 0,
              "ticks": ""
             }
            },
            "type": "scatterpolar"
           }
          ],
          "scatterpolargl": [
           {
            "marker": {
             "colorbar": {
              "outlinewidth": 0,
              "ticks": ""
             }
            },
            "type": "scatterpolargl"
           }
          ],
          "scatterternary": [
           {
            "marker": {
             "colorbar": {
              "outlinewidth": 0,
              "ticks": ""
             }
            },
            "type": "scatterternary"
           }
          ],
          "surface": [
           {
            "colorbar": {
             "outlinewidth": 0,
             "ticks": ""
            },
            "colorscale": [
             [
              0,
              "#0d0887"
             ],
             [
              0.1111111111111111,
              "#46039f"
             ],
             [
              0.2222222222222222,
              "#7201a8"
             ],
             [
              0.3333333333333333,
              "#9c179e"
             ],
             [
              0.4444444444444444,
              "#bd3786"
             ],
             [
              0.5555555555555556,
              "#d8576b"
             ],
             [
              0.6666666666666666,
              "#ed7953"
             ],
             [
              0.7777777777777778,
              "#fb9f3a"
             ],
             [
              0.8888888888888888,
              "#fdca26"
             ],
             [
              1,
              "#f0f921"
             ]
            ],
            "type": "surface"
           }
          ],
          "table": [
           {
            "cells": {
             "fill": {
              "color": "#EBF0F8"
             },
             "line": {
              "color": "white"
             }
            },
            "header": {
             "fill": {
              "color": "#C8D4E3"
             },
             "line": {
              "color": "white"
             }
            },
            "type": "table"
           }
          ]
         },
         "layout": {
          "annotationdefaults": {
           "arrowcolor": "#2a3f5f",
           "arrowhead": 0,
           "arrowwidth": 1
          },
          "autotypenumbers": "strict",
          "coloraxis": {
           "colorbar": {
            "outlinewidth": 0,
            "ticks": ""
           }
          },
          "colorscale": {
           "diverging": [
            [
             0,
             "#8e0152"
            ],
            [
             0.1,
             "#c51b7d"
            ],
            [
             0.2,
             "#de77ae"
            ],
            [
             0.3,
             "#f1b6da"
            ],
            [
             0.4,
             "#fde0ef"
            ],
            [
             0.5,
             "#f7f7f7"
            ],
            [
             0.6,
             "#e6f5d0"
            ],
            [
             0.7,
             "#b8e186"
            ],
            [
             0.8,
             "#7fbc41"
            ],
            [
             0.9,
             "#4d9221"
            ],
            [
             1,
             "#276419"
            ]
           ],
           "sequential": [
            [
             0,
             "#0d0887"
            ],
            [
             0.1111111111111111,
             "#46039f"
            ],
            [
             0.2222222222222222,
             "#7201a8"
            ],
            [
             0.3333333333333333,
             "#9c179e"
            ],
            [
             0.4444444444444444,
             "#bd3786"
            ],
            [
             0.5555555555555556,
             "#d8576b"
            ],
            [
             0.6666666666666666,
             "#ed7953"
            ],
            [
             0.7777777777777778,
             "#fb9f3a"
            ],
            [
             0.8888888888888888,
             "#fdca26"
            ],
            [
             1,
             "#f0f921"
            ]
           ],
           "sequentialminus": [
            [
             0,
             "#0d0887"
            ],
            [
             0.1111111111111111,
             "#46039f"
            ],
            [
             0.2222222222222222,
             "#7201a8"
            ],
            [
             0.3333333333333333,
             "#9c179e"
            ],
            [
             0.4444444444444444,
             "#bd3786"
            ],
            [
             0.5555555555555556,
             "#d8576b"
            ],
            [
             0.6666666666666666,
             "#ed7953"
            ],
            [
             0.7777777777777778,
             "#fb9f3a"
            ],
            [
             0.8888888888888888,
             "#fdca26"
            ],
            [
             1,
             "#f0f921"
            ]
           ]
          },
          "colorway": [
           "#636efa",
           "#EF553B",
           "#00cc96",
           "#ab63fa",
           "#FFA15A",
           "#19d3f3",
           "#FF6692",
           "#B6E880",
           "#FF97FF",
           "#FECB52"
          ],
          "font": {
           "color": "#2a3f5f"
          },
          "geo": {
           "bgcolor": "white",
           "lakecolor": "white",
           "landcolor": "#E5ECF6",
           "showlakes": true,
           "showland": true,
           "subunitcolor": "white"
          },
          "hoverlabel": {
           "align": "left"
          },
          "hovermode": "closest",
          "mapbox": {
           "style": "light"
          },
          "paper_bgcolor": "white",
          "plot_bgcolor": "#E5ECF6",
          "polar": {
           "angularaxis": {
            "gridcolor": "white",
            "linecolor": "white",
            "ticks": ""
           },
           "bgcolor": "#E5ECF6",
           "radialaxis": {
            "gridcolor": "white",
            "linecolor": "white",
            "ticks": ""
           }
          },
          "scene": {
           "xaxis": {
            "backgroundcolor": "#E5ECF6",
            "gridcolor": "white",
            "gridwidth": 2,
            "linecolor": "white",
            "showbackground": true,
            "ticks": "",
            "zerolinecolor": "white"
           },
           "yaxis": {
            "backgroundcolor": "#E5ECF6",
            "gridcolor": "white",
            "gridwidth": 2,
            "linecolor": "white",
            "showbackground": true,
            "ticks": "",
            "zerolinecolor": "white"
           },
           "zaxis": {
            "backgroundcolor": "#E5ECF6",
            "gridcolor": "white",
            "gridwidth": 2,
            "linecolor": "white",
            "showbackground": true,
            "ticks": "",
            "zerolinecolor": "white"
           }
          },
          "shapedefaults": {
           "line": {
            "color": "#2a3f5f"
           }
          },
          "ternary": {
           "aaxis": {
            "gridcolor": "white",
            "linecolor": "white",
            "ticks": ""
           },
           "baxis": {
            "gridcolor": "white",
            "linecolor": "white",
            "ticks": ""
           },
           "bgcolor": "#E5ECF6",
           "caxis": {
            "gridcolor": "white",
            "linecolor": "white",
            "ticks": ""
           }
          },
          "title": {
           "x": 0.05
          },
          "xaxis": {
           "automargin": true,
           "gridcolor": "white",
           "linecolor": "white",
           "ticks": "",
           "title": {
            "standoff": 15
           },
           "zerolinecolor": "white",
           "zerolinewidth": 2
          },
          "yaxis": {
           "automargin": true,
           "gridcolor": "white",
           "linecolor": "white",
           "ticks": "",
           "title": {
            "standoff": 15
           },
           "zerolinecolor": "white",
           "zerolinewidth": 2
          }
         }
        },
        "title": {
         "text": "Área ocupada por cada planta en diseño ortogonal"
        },
        "width": 500,
        "xaxis": {
         "range": [
          -1,
          11
         ],
         "scaleanchor": "y",
         "scaleratio": 1,
         "title": {
          "text": "X (m)"
         }
        },
        "yaxis": {
         "range": [
          -1,
          11
         ],
         "title": {
          "text": "Y (m)"
         }
        }
       }
      }
     },
     "metadata": {},
     "output_type": "display_data"
    }
   ],
   "source": [
    "import numpy as np\n",
    "\n",
    "import plotly.graph_objects as go\n",
    "\n",
    "# Argumento geométrico de eficiencia\n",
    "# En el diseño ortogonal (cuadrícula), cada planta ocupa un cuadrado de lado igual a la distancia entre plantas.\n",
    "# En el diseño \"tres bolillos\" (triangular), cada planta ocupa un hexágono regular, equivalente a un paralelogramo de área menor por planta.\n",
    "\n",
    "# Cálculo de densidad de plantas por metro cuadrado\n",
    "area_parcela = lado_parcela * lado_parcela\n",
    "\n",
    "# Diseño ortogonal\n",
    "n_filas_ort = int(np.floor(lado_parcela / distancia))\n",
    "n_columnas_ort = int(np.floor(lado_parcela / distancia))\n",
    "num_plantas_ort = n_filas_ort * n_columnas_ort\n",
    "densidad_ort = num_plantas_ort / area_parcela\n",
    "\n",
    "# Diseño triangular (\"tres bolillos\")\n",
    "densidad_tri = num_plantas / area_parcela\n",
    "\n",
    "print(f\"Diseño ortogonal: {num_plantas_ort} plantas, densidad = {densidad_ort:.3f} plantas/m²\")\n",
    "print(f\"Diseño tres bolillos: {num_plantas} plantas, densidad = {densidad_tri:.3f} plantas/m²\")\n",
    "\n",
    "# Explicación:\n",
    "explicacion = \"\"\"\n",
    "En el diseño ortogonal, las plantas se disponen en filas y columnas formando cuadrados. \n",
    "Cada planta ocupa un área de distancia². En el diseño triangular (tres bolillos), \n",
    "las plantas se disponen en filas alternadas, formando triángulos equiláteros, \n",
    "lo que permite aprovechar mejor el espacio: cada planta ocupa un área de (distancia² * sqrt(3)/2), \n",
    "que es menor que en el ortogonal. Por eso, el diseño triangular permite sembrar más plantas en la misma área, \n",
    "manteniendo la misma distancia mínima entre plantas.\n",
    "\"\"\"\n",
    "print(explicacion)\n",
    "\n",
    "# Trazar el diseño ortogonal con Plotly\n",
    "plantas_x_ort = []\n",
    "plantas_y_ort = []\n",
    "for i in range(n_filas_ort):\n",
    "    for j in range(n_columnas_ort):\n",
    "        plantas_x_ort.append(distancia/2 + i*distancia)\n",
    "        plantas_y_ort.append(distancia/2 + j*distancia)\n",
    "\n",
    "fig_ort = go.Figure()\n",
    "\n",
    "\n",
    "# Parcela\n",
    "fig_ort_area.add_trace(go.Scatter(\n",
    "    x=x, y=y, mode='lines', fill='toself',\n",
    "    line=dict(color='green', width=3),\n",
    "    name='Parcela 10x10 m'\n",
    "))\n",
    "\n",
    "# Dibujar el área ocupada por cada planta (cuadrado centrado en cada planta)\n",
    "for px, py in zip(plantas_x_ort, plantas_y_ort):\n",
    "    square_x = [px - distancia/2, px + distancia/2, px + distancia/2, px - distancia/2, px - distancia/2]\n",
    "    square_y = [py - distancia/2, py - distancia/2, py + distancia/2, py + distancia/2, py - distancia/2]\n",
    "    fig_ort_area.add_trace(go.Scatter(\n",
    "        x=square_x, y=square_y, mode='lines', fill='toself',\n",
    "        fillcolor='rgba(255,200,0,0.2)', line=dict(color='orange', width=1),\n",
    "        showlegend=False\n",
    "    ))\n",
    "\n",
    "# Plantas ortogonales\n",
    "fig_ort_area.add_trace(go.Scatter(\n",
    "    x=plantas_x_ort,\n",
    "    y=plantas_y_ort,\n",
    "    mode='markers',\n",
    "    marker=dict(size=10, color='orange', symbol='circle'),\n",
    "    name='Plantas (ortogonal)'\n",
    "))\n",
    "\n",
    "fig_ort_area.update_layout(\n",
    "    title='Área ocupada por cada planta en diseño ortogonal',\n",
    "    xaxis_title='X (m)',\n",
    "    yaxis_title='Y (m)',\n",
    "    xaxis=dict(range=[-1, 11], scaleanchor=\"y\", scaleratio=1),\n",
    "    yaxis=dict(range=[-1, 11]),\n",
    "    width=500, height=500,\n",
    "    showlegend=False\n",
    ")\n",
    "\n",
    "fig_ort_area.show()"
   ]
  },
  {
   "cell_type": "markdown",
   "id": "0130e248",
   "metadata": {},
   "source": [
    "\n",
    "**Evaluación:** Uso de vectores para modelar los desplazamientos, precisión en el diseño y claridad en la argumentación.\n",
    "\n",
    "---\n",
    "\n",
    "## 🌄 Parte 3: Aplicación topográfica – Volumen de tierra para nivelación (45 minutos)\n",
    "\n",
    "**Contexto:**\n",
    "Un terreno inclinado tiene forma de un prisma con base rectangular de **20 m × 15 m**, y una pendiente que eleva uno de los lados 3 metros respecto al opuesto. Se desea nivelar el terreno para sembrar.\n",
    "\n",
    "**Actividad:**\n",
    "\n",
    "1. Representa el terreno en 3D en GeoGebra como un prisma inclinado (usa vectores o coordenadas de vértices).\n",
    "2. Define el plano inclinado como una superficie plana dada por una ecuación vectorial.\n",
    "3. Define el plano horizontal que representará el terreno nivelado.\n",
    "4. Calcula el volumen de tierra que debe ser removido o agregado para nivelar el terreno. Usa la fórmula del volumen del prisma o integra si se desea más precisión.\n",
    "5. Explica cómo este cálculo puede ayudar a determinar costos y maquinaria requerida para la nivelación del terreno.\n",
    "\n",
    "**Evaluación:** Coherencia geométrica en la representación 3D, precisión del cálculo de volumen y argumentación de su utilidad en el contexto agropecuario.\n",
    "\n",
    "---\n",
    "\n",
    "### 📋 Rúbrica de evaluación\n",
    "\n",
    "| Criterio                                   | Peso | Excelente (5) | Bueno (4) | Básico (3) | Insuficiente (1-2) |\n",
    "| ------------------------------------------ | ---- | ------------- | --------- | ---------- | ------------------ |\n",
    "| Representación gráfica en GeoGebra         | 20%  |               |           |            |                    |\n",
    "| Cálculos vectoriales correctos             | 20%  |               |           |            |                    |\n",
    "| Diseño del patrón de siembra en 3 bolillos | 20%  |               |           |            |                    |\n",
    "| Cálculo del volumen en terreno inclinado   | 20%  |               |           |            |                    |\n",
    "| Argumentación y aplicación agropecuaria    | 20%  |               |           |            |                    |\n",
    "\n",
    "---\n",
    "\n",
    "### 💡 Extensión (opcional para estudiantes destacados)\n",
    "\n",
    "Usa Python con `matplotlib` o `plotly` para replicar una de las actividades del taller y presenta un video corto explicando tu proceso.\n",
    "\n",
    "\n",
    "\n"
   ]
  },
  {
   "cell_type": "markdown",
   "id": "3a5e2f40",
   "metadata": {},
   "source": [
    "\n",
    "\n",
    "### 🎯 **Objetivos de aprendizaje**\n",
    "\n",
    "1. Representar y operar vectores en 2D y 3D utilizando GeoGebra.\n",
    "2. Aplicar conceptos vectoriales para modelar el diseño de una siembra en \"tres bolillos\".\n",
    "3. Calcular el volumen de tierra necesario para nivelar un terreno inclinado, empleando operaciones con vectores y análisis de planos.\n",
    "\n",
    "---\n",
    "\n",
    "## 🛠️ Parte 1: Exploración y Representación de Vectores (30 minutos)\n",
    "\n",
    "**Actividad:**\n",
    "\n",
    "1. Abre GeoGebra 3D ([https://www.geogebra.org/3d](https://www.geogebra.org/3d))\n",
    "2. Representa los siguientes vectores en 3D:\n",
    "\n",
    "   * **A = (3, 2, 0)**\n",
    "   * **B = (-1, 4, 0)**\n",
    "   * **C = (0, 0, 5)**\n",
    "3. Encuentra el vector **R = A + B + C** y represéntalo gráficamente en GeoGebra.\n",
    "4. Calcula el módulo de cada vector y el ángulo entre A y B usando producto punto.\n",
    "5. Realiza una captura de pantalla del gráfico y adjunta tus cálculos en la libreta.\n",
    "\n",
    "**Evaluación:** Claridad en representación y exactitud en operaciones vectoriales.\n",
    "\n",
    "---\n",
    "\n",
    "## 🌱 Parte 2: Aplicación agrícola – Diseño en tres bolillos (45 minutos)\n",
    "\n",
    "**Contexto:**\n",
    "Un sistema de siembra en \"tres bolillos\" busca un acomodo de plantas con mayor eficiencia espacial. Se basa en colocar plantas formando triángulos equiláteros.\n",
    "\n",
    "**Actividad:**\n",
    "\n",
    "1. Representa en el plano XY una parcela de **10 m × 10 m** en GeoGebra.\n",
    "2. Simula una siembra donde cada planta está separada 1.5 m de sus vecinas, en forma de triángulos equiláteros.\n",
    "3. Usa vectores para describir los desplazamientos desde una planta hasta las vecinas (por ejemplo, los vectores de desplazamiento entre centros de los triángulos).\n",
    "4. Cuenta cuántas plantas puedes sembrar usando este diseño (puedes usar círculos de radio pequeño para representar cada planta).\n",
    "5. Explica por qué este diseño es más eficiente que el ortogonal utilizando argumentos geométricos (área cubierta, distancia entre plantas, etc.).\n",
    "\n",
    "**Evaluación:** Uso de vectores para modelar los desplazamientos, precisión en el diseño y claridad en la argumentación.\n",
    "\n",
    "---\n",
    "\n",
    "## 🌄 Parte 3: Aplicación topográfica – Volumen de tierra para nivelación (45 minutos)\n",
    "\n",
    "**Contexto:**\n",
    "Un terreno inclinado tiene forma de un prisma con base rectangular de **20 m × 15 m**, y una pendiente que eleva uno de los lados 3 metros respecto al opuesto. Se desea nivelar el terreno para sembrar.\n",
    "\n",
    "**Actividad:**\n",
    "\n",
    "1. Representa el terreno en 3D en GeoGebra como un prisma inclinado (usa vectores o coordenadas de vértices).\n",
    "2. Define el plano inclinado como una superficie plana dada por una ecuación vectorial.\n",
    "3. Define el plano horizontal que representará el terreno nivelado.\n",
    "4. Calcula el volumen de tierra que debe ser removido o agregado para nivelar el terreno. Usa la fórmula del volumen del prisma o integra si se desea más precisión.\n",
    "5. Explica cómo este cálculo puede ayudar a determinar costos y maquinaria requerida para la nivelación del terreno.\n",
    "\n",
    "**Evaluación:** Coherencia geométrica en la representación 3D, precisión del cálculo de volumen y argumentación de su utilidad en el contexto agropecuario.\n",
    "\n",
    "---\n",
    "\n",
    "### 📋 Rúbrica de evaluación\n",
    "\n",
    "| Criterio                                   | Peso | Excelente (5) | Bueno (4) | Básico (3) | Insuficiente (1-2) |\n",
    "| ------------------------------------------ | ---- | ------------- | --------- | ---------- | ------------------ |\n",
    "| Representación gráfica en GeoGebra         | 20%  |               |           |            |                    |\n",
    "| Cálculos vectoriales correctos             | 20%  |               |           |            |                    |\n",
    "| Diseño del patrón de siembra en 3 bolillos | 20%  |               |           |            |                    |\n",
    "| Cálculo del volumen en terreno inclinado   | 20%  |               |           |            |                    |\n",
    "| Argumentación y aplicación agropecuaria    | 20%  |               |           |            |                    |\n",
    "\n",
    "---\n",
    "\n",
    "### 💡 Extensión (opcional para estudiantes destacados)\n",
    "\n",
    "Usa Python con `matplotlib` o `plotly` para replicar una de las actividades del taller y presenta un video corto explicando tu proceso.\n",
    "\n",
    "---\n",
    "\n",
    "¿Deseas que prepare también un documento en PDF o un cuaderno de Jupyter con las instrucciones para tus estudiantes, Marco Julio?\n"
   ]
  },
  {
   "cell_type": "markdown",
   "id": "8be2bca4",
   "metadata": {},
   "source": [
    "\n",
    "\n",
    "## **10. Retroalimentación**  \n",
    "- **Rúbrica:** Evaluar claridad en visualizaciones y justificación matemática.  \n",
    "\n",
    "\n"
   ]
  },
  {
   "cell_type": "markdown",
   "id": "9fcde7ad",
   "metadata": {},
   "source": [
    "\n",
    "## **11. Vocabulario en Inglés**  \n",
    "- **Vector magnitude:** Norma del vector.  \n",
    "- **Cross product:** Producto cruz (para torque en maquinaria).  \n",
    "\n",
    "---\n"
   ]
  },
  {
   "cell_type": "markdown",
   "id": "acc64c97",
   "metadata": {},
   "source": [
    "\n",
    "## **12. Apéndice: Habilidades Blandas**  \n",
    "- **Trabajo en equipo:** Usar Git para colaborar en notebooks.  \n",
    "- **Inteligencia emocional:** Taller \"Cómo presentar proyectos sin ansiedad\".  \n",
    "\n",
    "---\n"
   ]
  },
  {
   "cell_type": "markdown",
   "id": "a12bda0b",
   "metadata": {},
   "source": [
    "\n",
    "## **13. Referentes APA**  \n",
    "1. Duval, R. (1999). *Representations and conversions in mathematics learning*.  \n",
    "2. Wing, J. (2006). *Computational thinking*. Communications of the ACM.  \n",
    "\n",
    "**¡Listo para implementar!** ¿Necesitas ajustar algún módulo? "
   ]
  },
  {
   "cell_type": "markdown",
   "id": "239427f7",
   "metadata": {},
   "source": [
    "# Calendario académico para los diferentes programas de pregrado de los campus regionalizados, correspondiente al primer periodo académico del año 2025, así:  \n",
    "\n",
    "\n",
    "* Límite evaluación del 40% 06 de abril de 2025\n",
    "* Terminación de clases 08 de junio de 2025\n",
    "* Exámenes finales 09 al 15 de junio de 2025\n",
    "* Habilitación y validación 16 al 22 de junio de 2025\n",
    "* Terminación oficial 23 de junio de 2025"
   ]
  },
  {
   "cell_type": "code",
   "execution_count": null,
   "id": "ec048afb",
   "metadata": {},
   "outputs": [],
   "source": []
  },
  {
   "cell_type": "markdown",
   "id": "8ba64aed",
   "metadata": {},
   "source": [
    "# Cursos que orienta el profesor Marco Julio Cañas Campillo en 2025  \n",
    "\n",
    "1. Cálculo Vectorial para Ingeniería Agropecuaria.  \n",
    "2. Análisis Numérico para Licenciatura en Matemáticas. \n",
    "3. Práctica Pedagógica V para Licenciatura en Educación Infantil\n",
    "4. Fundamentos de Lógica para Licenciatura en Matemáticas \n",
    "\n"
   ]
  },
  {
   "cell_type": "markdown",
   "id": "8d41fe58",
   "metadata": {
    "slideshow": {
     "slide_type": "slide"
    }
   },
   "source": [
    "# Horario de clases del profesor Marco\n",
    "\n",
    "* Lunes 8-12: Cálculo Vectorial\n",
    "* Martes 8-12 M: Fundamentos de Aritmética. \n",
    "* Miércoles 8 a 12 M: Fundamentos de la Lógica\n",
    "* Jueves 2 a 6 PM: Desarrollo del pensamiento matemático en la infancia. \n",
    "* Viernes 8 - 12 M: Desarrollo del pensamiento matemático en la infancia. \n",
    "* Sábados 8-12 Asesorías y espacio para retroalimentación y apoyo al trabajo independiente. "
   ]
  },
  {
   "cell_type": "markdown",
   "id": "ae114e14",
   "metadata": {
    "slideshow": {
     "slide_type": "slide"
    }
   },
   "source": [
    "# Coordinador de los cursos de la Facultad de Educación para regiones:    \n",
    "\n",
    "Andrés Vélez: regioneducacion.fedu@udea.edu.co  \n",
    "Coordinador Regiones  \n",
    "Facultad de Educación  \n",
    "Universidad de Antioquia  "
   ]
  },
  {
   "cell_type": "markdown",
   "id": "b1db4b6c",
   "metadata": {
    "slideshow": {
     "slide_type": "slide"
    }
   },
   "source": [
    "## Monitores presenciales   \n",
    "\n",
    "* Manuel San Juan Serrano:  Contactar escribiendo al correo: manuel.serrano1@udea.edu.co\n",
    "* Yeifry Sebastián Uribe: Contactar escribiendo al correo: yeifry.uribe@udea.edu.co"
   ]
  },
  {
   "cell_type": "markdown",
   "id": "39559692",
   "metadata": {
    "slideshow": {
     "slide_type": "slide"
    }
   },
   "source": [
    "Martes y jueves de 8 - 12  \n",
    "Miércoles 10 - 12 y de 2 a 4 PM  \n",
    "Sábado: 8 - 12"
   ]
  },
  {
   "cell_type": "markdown",
   "id": "10bce0d0",
   "metadata": {
    "slideshow": {
     "slide_type": "slide"
    }
   },
   "source": [
    "## Referentes "
   ]
  },
  {
   "cell_type": "markdown",
   "id": "1db3c468",
   "metadata": {
    "slideshow": {
     "slide_type": "slide"
    }
   },
   "source": [
    "* [Geometría Vectorial de Ude@](https://www.youtube.com/watch?v=_sc4HzP6MuI&list=PLarIdvSxyFn7HZLVJSW0kxCxqM4fC6C1J&index=1)\n",
    "\n",
    "* [CALCULO I DE UNA VARIABLE Ron Larson-Bruce Edwards. Mc Graw Hill. 9º Edición](https://www.academia.edu/42139251/CALCULO_I_DE_UNA_VARIABLE_Ron_Larson_Bruce_Edwards_Mc_Graw_Hill_9o_Edici%C3%B3n)   \n",
    "  \n",
    "\n",
    "* [Grajales Vanegas, L. M., Restrepo Estrada, C. E., Restrepo Ochoa, S. I., & Ruíz De Villalba, F. (2015). Matemáticas I para las ciencias económicas.](https://bibliotecadigital.udea.edu.co/handle/10495/3010)\n",
    "  \n",
    "* R. Duval y Semiosis y pensamiento humano, 2.ª ed. Cali, Colombia: Programa Editorial Universidad del Valle, 2017. [En línea]. Disponible en: https://programaeditorial.univalle.edu.co/gpd-semiosis-y-pensamiento-humano-9789587655278-63324cdb0f6b3.html\n",
    "\n",
    "* [Aylwin, C. U. (2011). Lógica, conjuntos y números. Universidad de los Andes, Consejo de Publicaciones, Colección: Ciencias Básicas, Serie: Matemáticas.](chrome-extension://efaidnbmnnnibpcajpcglclefindmkaj/https://www.u-cursos.cl/ciencias/2011/1/MC110/1/material_docente/bajar?id_material=574722)\n",
    "  \n",
    "* [Chollet, F. (2021). Deep learning with Python. Simon and Schuster.](chrome-extension://efaidnbmnnnibpcajpcglclefindmkaj/https://tanthiamhuat.wordpress.com/wp-content/uploads/2018/03/deeplearningwithpython.pdf)  \n",
    "  \n",
    "* [Watson, S., Stewart, J., & Redlin, L. (2009). Precálculo. Matemáticas para el cálculo.](https://github.com/marco-canas/calculo/blob/main/referents/1_precalculo_stewart/stewart_precalculo.pdf)  \n",
    "\n",
    "* [Purcell, E. J., Varberg, D., & Rigdon, S. E. (2007). Cálculo diferencial e integral. Pearson Educación.](https://github.com/marco-canas/calculo/blob/main/referents/purcell/purcell_calculo.pdf)\n",
    "\n",
    "  \n",
    "\n",
    "* [stewart cálculo](https://udeaeduco-my.sharepoint.com/:b:/g/personal/marco_canas_udea_edu_co/EZgXZjAp8QxPqOAim2hs6LcBNPLGjSHf-xwYnUVYkwa04w?e=RZdTCy)  \n",
    "\n",
    "\n",
    "\n",
    "\n",
    "\n",
    "* [Recomendación de la UNESCO sobre ciencia abierta](https://unesdoc.unesco.org/ark:/48223/pf0000379949_spa)\n",
    "\n",
    "* [chatGPT](https://openai.com/blog/chatgpt)  \n",
    "\n",
    "* [Géron, A. (2017). Hands-on machine learning with scikit-learn and tensorflow: Concepts. Tools, and Techniques to build intelligent systems.](chrome-extension://efaidnbmnnnibpcajpcglclefindmkaj/http://14.139.161.31/OddSem-0822-1122/Hands-On_Machine_Learning_with_Scikit-Learn-Keras-and-TensorFlow-2nd-Edition-Aurelien-Geron.pdf)   \n"
   ]
  },
  {
   "cell_type": "markdown",
   "id": "df925560",
   "metadata": {},
   "source": [
    "\n",
    "* [McKinney, W. (2012). Python for data analysis: Data wrangling with Pandas, NumPy, and IPython. \" O'Reilly Media, Inc.\".](https://wesmckinney.com/book/) "
   ]
  },
  {
   "cell_type": "markdown",
   "id": "8e65d6f9",
   "metadata": {},
   "source": [
    "# Como estudiante, encuentro que...   \n",
    "\n",
    "F: Mis Fortalezas son:     \n",
    "O: Mis Oportunidades son:    \n",
    "D: Mis Debilidades son:    \n",
    "A: Lo que Amenazas mi aprendizaje es:  "
   ]
  },
  {
   "cell_type": "markdown",
   "id": "6b9e56a8",
   "metadata": {
    "slideshow": {
     "slide_type": "slide"
    }
   },
   "source": [
    "### [Evaluamos al profesor Marco Cañas Aquí](https://forms.office.com/Pages/ResponsePage.aspx?id=IefhmYRxjkmK_7KtTlPBwkanXIs1i1FEujpsZgO6dXpUREJPV1kxUk1JV1ozTFJIQVNIQjY5WEY3US4u)"
   ]
  },
  {
   "cell_type": "markdown",
   "id": "10f43536",
   "metadata": {
    "slideshow": {
     "slide_type": "slide"
    }
   },
   "source": [
    "### Continue su aprendizaje en la siguiente clase a través del siguiente [vínculo]()"
   ]
  },
  {
   "cell_type": "markdown",
   "id": "53cc9115",
   "metadata": {
    "slideshow": {
     "slide_type": "slide"
    }
   },
   "source": [
    "## Agradecimientos  \n",
    "\n",
    "Doy gracias a Dios por la vida de mi Hijo Joseph Cañas Osorio y la madurez que ha alcanzado. Este hijo me enorgullece y me hace falta abrazarlo cada día. \n",
    "\n",
    "Y a mi esposa Yasmira Emperatriz Barboza Mogollón por su apoyo, orientación y acompañamiento. "
   ]
  },
  {
   "cell_type": "markdown",
   "id": "b6ba1c23",
   "metadata": {},
   "source": [
    "# Apéndice sobre calendarios y coordinaciones \n",
    "\n",
    "A continuación le envío el horario de la asignatura Cálculo Vectorial  \n",
    "\n",
    "Días:  \n",
    "Lunes - Hora: 7:00 a 12:00M  \n",
    "Fechas:  \n",
    "Febrero: 10-17-24                                          \n",
    " Marzo: 3-10-17-31                                                  \n",
    "Abril:7-21-28                                                   \n",
    "Mayo:5-12-19  \n",
    "\n",
    "Agradezco su apoyo, y si presenta alguna dificultad puede contactarme.  \n",
    "\n",
    "Cordialmente,  \n",
    "Juan Felipe Rivera Hernández  \n",
    "Contacto: 3106314300  "
   ]
  },
  {
   "cell_type": "markdown",
   "id": "0e66cd7c",
   "metadata": {},
   "source": [
    "# Clase de análisis numérico los Martes de 8 a 12 del medio día. "
   ]
  },
  {
   "cell_type": "markdown",
   "id": "c5ff61b1",
   "metadata": {},
   "source": []
  }
 ],
 "metadata": {
  "celltoolbar": "Slideshow",
  "kernelspec": {
   "display_name": ".venv",
   "language": "python",
   "name": "python3"
  },
  "language_info": {
   "codemirror_mode": {
    "name": "ipython",
    "version": 3
   },
   "file_extension": ".py",
   "mimetype": "text/x-python",
   "name": "python",
   "nbconvert_exporter": "python",
   "pygments_lexer": "ipython3",
   "version": "3.12.6"
  },
  "rise": {
   "enable_chalkboard": true,
   "theme": "sky",
   "transition": "zoom"
  }
 },
 "nbformat": 4,
 "nbformat_minor": 5
}
