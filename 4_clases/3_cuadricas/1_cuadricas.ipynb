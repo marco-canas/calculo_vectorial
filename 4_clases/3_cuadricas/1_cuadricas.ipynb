{
 "cells": [
  {
   "cell_type": "markdown",
   "id": "dc06dec7",
   "metadata": {
    "slideshow": {
     "slide_type": "slide"
    }
   },
   "source": [
    "<table align=\"left\">\n",
    "  <td>\n",
    "    <a href=\"https://colab.research.google.com/github/ageron/handson-ml3/blob/main/tools_numpy.ipynb\" target=\"_parent\"><img src=\"https://colab.research.google.com/assets/colab-badge.svg\" alt=\"Open In Colab\"/></a>\n",
    "  </td>\n",
    "  <td>\n",
    "    <a target=\"_blank\" href=\"https://kaggle.com/kernels/welcome?src=https://github.com/ageron/handson-ml3/blob/main/tools_numpy.ipynb\"><img src=\"https://kaggle.com/static/images/open-in-kaggle.svg\" /></a>\n",
    "  </td>\n",
    "</table>"
   ]
  },
  {
   "cell_type": "markdown",
   "id": "e0c5b198",
   "metadata": {
    "slideshow": {
     "slide_type": "slide"
    }
   },
   "source": [
    "### [Video de apoyo a la lectura interactiva y experimental de este cuaderno]()"
   ]
  },
  {
   "cell_type": "markdown",
   "id": "41e82203",
   "metadata": {
    "slideshow": {
     "slide_type": "slide"
    }
   },
   "source": [
    "### [Vínculo al programa del curso:  ]()\n",
    "\n",
    "Código del curso de Cálculo Vectorial: 5009344  "
   ]
  },
  {
   "cell_type": "markdown",
   "id": "d11ab06d",
   "metadata": {
    "slideshow": {
     "slide_type": "slide"
    }
   },
   "source": [
    "Un reconocimiento a mis estudiantes que han construido conmigo este saber pedagógico:\n",
    "\n",
    "<img src = ''> \n",
    "\n"
   ]
  },
  {
   "cell_type": "markdown",
   "id": "8a74a56c-0ce6-4ad6-b985-553fd7fb68bb",
   "metadata": {},
   "source": [
    "Reconocimiento a las profesoras destacadas en enseñanza de la matemática en Colombia\n"
   ]
  },
  {
   "cell_type": "code",
   "execution_count": 5,
   "id": "7604880f",
   "metadata": {
    "slideshow": {
     "slide_type": "slide"
    }
   },
   "outputs": [
    {
     "data": {
      "application/vnd.microsoft.datawrangler.viewer.v0+json": {
       "columns": [
        {
         "name": "index",
         "rawType": "int64",
         "type": "integer"
        },
        {
         "name": "Cedula",
         "rawType": "int64",
         "type": "integer"
        },
        {
         "name": "Nombre",
         "rawType": "object",
         "type": "string"
        },
        {
         "name": "Email",
         "rawType": "object",
         "type": "string"
        },
        {
         "name": "Asistencia",
         "rawType": "int64",
         "type": "integer"
        },
        {
         "name": "Quiz",
         "rawType": "int64",
         "type": "integer"
        }
       ],
       "conversionMethod": "pd.DataFrame",
       "ref": "f469a815-6b9d-413b-a36f-7c45693c3ff9",
       "rows": [
        [
         "0",
         "1193404816",
         "AMARIS FERNANDEZ SEBASTIAN CAMILO",
         "sebastian.amaris@udea.edu.co",
         "0",
         "3"
        ],
        [
         "1",
         "1007528664",
         "AYALA MENDOZA MARISOL YACIRA",
         "marisol.ayala@udea.edu.co",
         "0",
         "1"
        ],
        [
         "2",
         "1064188463",
         "MASS MIRANDA RIVALDO JOSE",
         "rivaldo.mass@udea.edu.co",
         "0",
         "3"
        ],
        [
         "3",
         "1066570075",
         "MONTERROSA SOTO ABRIL",
         "a.monterrosa@udea.edu.co",
         "0",
         "2"
        ]
       ],
       "shape": {
        "columns": 5,
        "rows": 4
       }
      },
      "text/html": [
       "<div>\n",
       "<style scoped>\n",
       "    .dataframe tbody tr th:only-of-type {\n",
       "        vertical-align: middle;\n",
       "    }\n",
       "\n",
       "    .dataframe tbody tr th {\n",
       "        vertical-align: top;\n",
       "    }\n",
       "\n",
       "    .dataframe thead th {\n",
       "        text-align: right;\n",
       "    }\n",
       "</style>\n",
       "<table border=\"1\" class=\"dataframe\">\n",
       "  <thead>\n",
       "    <tr style=\"text-align: right;\">\n",
       "      <th></th>\n",
       "      <th>Cedula</th>\n",
       "      <th>Nombre</th>\n",
       "      <th>Email</th>\n",
       "      <th>Asistencia</th>\n",
       "      <th>Quiz</th>\n",
       "    </tr>\n",
       "  </thead>\n",
       "  <tbody>\n",
       "    <tr>\n",
       "      <th>0</th>\n",
       "      <td>1193404816</td>\n",
       "      <td>AMARIS FERNANDEZ SEBASTIAN CAMILO</td>\n",
       "      <td>sebastian.amaris@udea.edu.co</td>\n",
       "      <td>0</td>\n",
       "      <td>3</td>\n",
       "    </tr>\n",
       "    <tr>\n",
       "      <th>1</th>\n",
       "      <td>1007528664</td>\n",
       "      <td>AYALA MENDOZA MARISOL YACIRA</td>\n",
       "      <td>marisol.ayala@udea.edu.co</td>\n",
       "      <td>0</td>\n",
       "      <td>1</td>\n",
       "    </tr>\n",
       "    <tr>\n",
       "      <th>2</th>\n",
       "      <td>1064188463</td>\n",
       "      <td>MASS MIRANDA RIVALDO JOSE</td>\n",
       "      <td>rivaldo.mass@udea.edu.co</td>\n",
       "      <td>0</td>\n",
       "      <td>3</td>\n",
       "    </tr>\n",
       "    <tr>\n",
       "      <th>3</th>\n",
       "      <td>1066570075</td>\n",
       "      <td>MONTERROSA SOTO ABRIL</td>\n",
       "      <td>a.monterrosa@udea.edu.co</td>\n",
       "      <td>0</td>\n",
       "      <td>2</td>\n",
       "    </tr>\n",
       "  </tbody>\n",
       "</table>\n",
       "</div>"
      ],
      "text/plain": [
       "       Cedula                             Nombre  \\\n",
       "0  1193404816  AMARIS FERNANDEZ SEBASTIAN CAMILO   \n",
       "1  1007528664       AYALA MENDOZA MARISOL YACIRA   \n",
       "2  1064188463          MASS MIRANDA RIVALDO JOSE   \n",
       "3  1066570075              MONTERROSA SOTO ABRIL   \n",
       "\n",
       "                          Email  Asistencia  Quiz  \n",
       "0  sebastian.amaris@udea.edu.co           0     3  \n",
       "1     marisol.ayala@udea.edu.co           0     1  \n",
       "2      rivaldo.mass@udea.edu.co           0     3  \n",
       "3      a.monterrosa@udea.edu.co           0     2  "
      ]
     },
     "execution_count": 5,
     "metadata": {},
     "output_type": "execute_result"
    }
   ],
   "source": [
    "import pandas as pd\n",
    "import numpy as np\n",
    "\n",
    "# Cargar la lista de estudiantes desde el archivo CSV\n",
    "path = 'C:/Users/marco/Documentos/docencia/groups_list/vectorial.xls'\n",
    "estudiantes = pd.read_csv(path, sep = ',')\n",
    "estudiantes.head() \n"
   ]
  },
  {
   "cell_type": "code",
   "execution_count": 6,
   "id": "c26bfb5b",
   "metadata": {},
   "outputs": [
    {
     "name": "stdout",
     "output_type": "stream",
     "text": [
      "Llamando a MASS MIRANDA RIVALDO JOSE...\n",
      "Llamando a MONTERROSA SOTO ABRIL...\n",
      "Llamando a AMARIS FERNANDEZ SEBASTIAN CAMILO...\n",
      "Llamando a AYALA MENDOZA MARISOL YACIRA...\n"
     ]
    },
    {
     "ename": "ValueError",
     "evalue": "No engine for filetype: 'xls'",
     "output_type": "error",
     "traceback": [
      "\u001b[31m---------------------------------------------------------------------------\u001b[39m",
      "\u001b[31mOptionError\u001b[39m                               Traceback (most recent call last)",
      "\u001b[36mFile \u001b[39m\u001b[32mc:\\Users\\marco\\Documentos\\docencia\\radicacion_vectorial_numerico\\.venv\\Lib\\site-packages\\pandas\\io\\excel\\_base.py:1136\u001b[39m, in \u001b[36mExcelWriter.__new__\u001b[39m\u001b[34m(cls, path, engine, date_format, datetime_format, mode, storage_options, if_sheet_exists, engine_kwargs)\u001b[39m\n\u001b[32m   1135\u001b[39m \u001b[38;5;28;01mtry\u001b[39;00m:\n\u001b[32m-> \u001b[39m\u001b[32m1136\u001b[39m     engine = \u001b[43mconfig\u001b[49m\u001b[43m.\u001b[49m\u001b[43mget_option\u001b[49m\u001b[43m(\u001b[49m\u001b[33;43mf\u001b[39;49m\u001b[33;43m\"\u001b[39;49m\u001b[33;43mio.excel.\u001b[39;49m\u001b[38;5;132;43;01m{\u001b[39;49;00m\u001b[43mext\u001b[49m\u001b[38;5;132;43;01m}\u001b[39;49;00m\u001b[33;43m.writer\u001b[39;49m\u001b[33;43m\"\u001b[39;49m\u001b[43m,\u001b[49m\u001b[43m \u001b[49m\u001b[43msilent\u001b[49m\u001b[43m=\u001b[49m\u001b[38;5;28;43;01mTrue\u001b[39;49;00m\u001b[43m)\u001b[49m\n\u001b[32m   1137\u001b[39m     \u001b[38;5;28;01mif\u001b[39;00m engine == \u001b[33m\"\u001b[39m\u001b[33mauto\u001b[39m\u001b[33m\"\u001b[39m:\n",
      "\u001b[36mFile \u001b[39m\u001b[32mc:\\Users\\marco\\Documentos\\docencia\\radicacion_vectorial_numerico\\.venv\\Lib\\site-packages\\pandas\\_config\\config.py:274\u001b[39m, in \u001b[36mCallableDynamicDoc.__call__\u001b[39m\u001b[34m(self, *args, **kwds)\u001b[39m\n\u001b[32m    273\u001b[39m \u001b[38;5;28;01mdef\u001b[39;00m\u001b[38;5;250m \u001b[39m\u001b[34m__call__\u001b[39m(\u001b[38;5;28mself\u001b[39m, *args, **kwds) -> T:\n\u001b[32m--> \u001b[39m\u001b[32m274\u001b[39m     \u001b[38;5;28;01mreturn\u001b[39;00m \u001b[38;5;28;43mself\u001b[39;49m\u001b[43m.\u001b[49m\u001b[34;43m__func__\u001b[39;49m\u001b[43m(\u001b[49m\u001b[43m*\u001b[49m\u001b[43margs\u001b[49m\u001b[43m,\u001b[49m\u001b[43m \u001b[49m\u001b[43m*\u001b[49m\u001b[43m*\u001b[49m\u001b[43mkwds\u001b[49m\u001b[43m)\u001b[49m\n",
      "\u001b[36mFile \u001b[39m\u001b[32mc:\\Users\\marco\\Documentos\\docencia\\radicacion_vectorial_numerico\\.venv\\Lib\\site-packages\\pandas\\_config\\config.py:146\u001b[39m, in \u001b[36m_get_option\u001b[39m\u001b[34m(pat, silent)\u001b[39m\n\u001b[32m    145\u001b[39m \u001b[38;5;28;01mdef\u001b[39;00m\u001b[38;5;250m \u001b[39m\u001b[34m_get_option\u001b[39m(pat: \u001b[38;5;28mstr\u001b[39m, silent: \u001b[38;5;28mbool\u001b[39m = \u001b[38;5;28;01mFalse\u001b[39;00m) -> Any:\n\u001b[32m--> \u001b[39m\u001b[32m146\u001b[39m     key = \u001b[43m_get_single_key\u001b[49m\u001b[43m(\u001b[49m\u001b[43mpat\u001b[49m\u001b[43m,\u001b[49m\u001b[43m \u001b[49m\u001b[43msilent\u001b[49m\u001b[43m)\u001b[49m\n\u001b[32m    148\u001b[39m     \u001b[38;5;66;03m# walk the nested dict\u001b[39;00m\n",
      "\u001b[36mFile \u001b[39m\u001b[32mc:\\Users\\marco\\Documentos\\docencia\\radicacion_vectorial_numerico\\.venv\\Lib\\site-packages\\pandas\\_config\\config.py:132\u001b[39m, in \u001b[36m_get_single_key\u001b[39m\u001b[34m(pat, silent)\u001b[39m\n\u001b[32m    131\u001b[39m         _warn_if_deprecated(pat)\n\u001b[32m--> \u001b[39m\u001b[32m132\u001b[39m     \u001b[38;5;28;01mraise\u001b[39;00m OptionError(\u001b[33mf\u001b[39m\u001b[33m\"\u001b[39m\u001b[33mNo such keys(s): \u001b[39m\u001b[38;5;132;01m{\u001b[39;00m\u001b[38;5;28mrepr\u001b[39m(pat)\u001b[38;5;132;01m}\u001b[39;00m\u001b[33m\"\u001b[39m)\n\u001b[32m    133\u001b[39m \u001b[38;5;28;01mif\u001b[39;00m \u001b[38;5;28mlen\u001b[39m(keys) > \u001b[32m1\u001b[39m:\n",
      "\u001b[31mOptionError\u001b[39m: No such keys(s): 'io.excel.xls.writer'",
      "\nThe above exception was the direct cause of the following exception:\n",
      "\u001b[31mValueError\u001b[39m                                Traceback (most recent call last)",
      "\u001b[36mCell\u001b[39m\u001b[36m \u001b[39m\u001b[32mIn[6]\u001b[39m\u001b[32m, line 39\u001b[39m\n\u001b[32m     36\u001b[39m     asistencia()\n\u001b[32m     38\u001b[39m \u001b[38;5;66;03m# Guardar los cambios una vez que todos los estudiantes hayan sido llamados\u001b[39;00m\n\u001b[32m---> \u001b[39m\u001b[32m39\u001b[39m \u001b[43mguardar_cambios\u001b[49m\u001b[43m(\u001b[49m\u001b[43m)\u001b[49m\n",
      "\u001b[36mCell\u001b[39m\u001b[36m \u001b[39m\u001b[32mIn[6]\u001b[39m\u001b[32m, line 31\u001b[39m, in \u001b[36mguardar_cambios\u001b[39m\u001b[34m()\u001b[39m\n\u001b[32m     30\u001b[39m \u001b[38;5;28;01mdef\u001b[39;00m\u001b[38;5;250m \u001b[39m\u001b[34mguardar_cambios\u001b[39m():\n\u001b[32m---> \u001b[39m\u001b[32m31\u001b[39m     \u001b[43mestudiantes\u001b[49m\u001b[43m.\u001b[49m\u001b[43mto_excel\u001b[49m\u001b[43m(\u001b[49m\u001b[43mpath\u001b[49m\u001b[43m,\u001b[49m\u001b[43m \u001b[49m\u001b[43mindex\u001b[49m\u001b[43m=\u001b[49m\u001b[38;5;28;43;01mFalse\u001b[39;49;00m\u001b[43m)\u001b[49m\n\u001b[32m     32\u001b[39m     \u001b[38;5;28mprint\u001b[39m(\u001b[33m\"\u001b[39m\u001b[33mCambios guardados en el archivo CSV.\u001b[39m\u001b[33m\"\u001b[39m)\n",
      "\u001b[36mFile \u001b[39m\u001b[32mc:\\Users\\marco\\Documentos\\docencia\\radicacion_vectorial_numerico\\.venv\\Lib\\site-packages\\pandas\\util\\_decorators.py:333\u001b[39m, in \u001b[36mdeprecate_nonkeyword_arguments.<locals>.decorate.<locals>.wrapper\u001b[39m\u001b[34m(*args, **kwargs)\u001b[39m\n\u001b[32m    327\u001b[39m \u001b[38;5;28;01mif\u001b[39;00m \u001b[38;5;28mlen\u001b[39m(args) > num_allow_args:\n\u001b[32m    328\u001b[39m     warnings.warn(\n\u001b[32m    329\u001b[39m         msg.format(arguments=_format_argument_list(allow_args)),\n\u001b[32m    330\u001b[39m         \u001b[38;5;167;01mFutureWarning\u001b[39;00m,\n\u001b[32m    331\u001b[39m         stacklevel=find_stack_level(),\n\u001b[32m    332\u001b[39m     )\n\u001b[32m--> \u001b[39m\u001b[32m333\u001b[39m \u001b[38;5;28;01mreturn\u001b[39;00m \u001b[43mfunc\u001b[49m\u001b[43m(\u001b[49m\u001b[43m*\u001b[49m\u001b[43margs\u001b[49m\u001b[43m,\u001b[49m\u001b[43m \u001b[49m\u001b[43m*\u001b[49m\u001b[43m*\u001b[49m\u001b[43mkwargs\u001b[49m\u001b[43m)\u001b[49m\n",
      "\u001b[36mFile \u001b[39m\u001b[32mc:\\Users\\marco\\Documentos\\docencia\\radicacion_vectorial_numerico\\.venv\\Lib\\site-packages\\pandas\\core\\generic.py:2417\u001b[39m, in \u001b[36mNDFrame.to_excel\u001b[39m\u001b[34m(self, excel_writer, sheet_name, na_rep, float_format, columns, header, index, index_label, startrow, startcol, engine, merge_cells, inf_rep, freeze_panes, storage_options, engine_kwargs)\u001b[39m\n\u001b[32m   2404\u001b[39m \u001b[38;5;28;01mfrom\u001b[39;00m\u001b[38;5;250m \u001b[39m\u001b[34;01mpandas\u001b[39;00m\u001b[34;01m.\u001b[39;00m\u001b[34;01mio\u001b[39;00m\u001b[34;01m.\u001b[39;00m\u001b[34;01mformats\u001b[39;00m\u001b[34;01m.\u001b[39;00m\u001b[34;01mexcel\u001b[39;00m\u001b[38;5;250m \u001b[39m\u001b[38;5;28;01mimport\u001b[39;00m ExcelFormatter\n\u001b[32m   2406\u001b[39m formatter = ExcelFormatter(\n\u001b[32m   2407\u001b[39m     df,\n\u001b[32m   2408\u001b[39m     na_rep=na_rep,\n\u001b[32m   (...)\u001b[39m\u001b[32m   2415\u001b[39m     inf_rep=inf_rep,\n\u001b[32m   2416\u001b[39m )\n\u001b[32m-> \u001b[39m\u001b[32m2417\u001b[39m \u001b[43mformatter\u001b[49m\u001b[43m.\u001b[49m\u001b[43mwrite\u001b[49m\u001b[43m(\u001b[49m\n\u001b[32m   2418\u001b[39m \u001b[43m    \u001b[49m\u001b[43mexcel_writer\u001b[49m\u001b[43m,\u001b[49m\n\u001b[32m   2419\u001b[39m \u001b[43m    \u001b[49m\u001b[43msheet_name\u001b[49m\u001b[43m=\u001b[49m\u001b[43msheet_name\u001b[49m\u001b[43m,\u001b[49m\n\u001b[32m   2420\u001b[39m \u001b[43m    \u001b[49m\u001b[43mstartrow\u001b[49m\u001b[43m=\u001b[49m\u001b[43mstartrow\u001b[49m\u001b[43m,\u001b[49m\n\u001b[32m   2421\u001b[39m \u001b[43m    \u001b[49m\u001b[43mstartcol\u001b[49m\u001b[43m=\u001b[49m\u001b[43mstartcol\u001b[49m\u001b[43m,\u001b[49m\n\u001b[32m   2422\u001b[39m \u001b[43m    \u001b[49m\u001b[43mfreeze_panes\u001b[49m\u001b[43m=\u001b[49m\u001b[43mfreeze_panes\u001b[49m\u001b[43m,\u001b[49m\n\u001b[32m   2423\u001b[39m \u001b[43m    \u001b[49m\u001b[43mengine\u001b[49m\u001b[43m=\u001b[49m\u001b[43mengine\u001b[49m\u001b[43m,\u001b[49m\n\u001b[32m   2424\u001b[39m \u001b[43m    \u001b[49m\u001b[43mstorage_options\u001b[49m\u001b[43m=\u001b[49m\u001b[43mstorage_options\u001b[49m\u001b[43m,\u001b[49m\n\u001b[32m   2425\u001b[39m \u001b[43m    \u001b[49m\u001b[43mengine_kwargs\u001b[49m\u001b[43m=\u001b[49m\u001b[43mengine_kwargs\u001b[49m\u001b[43m,\u001b[49m\n\u001b[32m   2426\u001b[39m \u001b[43m\u001b[49m\u001b[43m)\u001b[49m\n",
      "\u001b[36mFile \u001b[39m\u001b[32mc:\\Users\\marco\\Documentos\\docencia\\radicacion_vectorial_numerico\\.venv\\Lib\\site-packages\\pandas\\io\\formats\\excel.py:943\u001b[39m, in \u001b[36mExcelFormatter.write\u001b[39m\u001b[34m(self, writer, sheet_name, startrow, startcol, freeze_panes, engine, storage_options, engine_kwargs)\u001b[39m\n\u001b[32m    941\u001b[39m     need_save = \u001b[38;5;28;01mFalse\u001b[39;00m\n\u001b[32m    942\u001b[39m \u001b[38;5;28;01melse\u001b[39;00m:\n\u001b[32m--> \u001b[39m\u001b[32m943\u001b[39m     writer = \u001b[43mExcelWriter\u001b[49m\u001b[43m(\u001b[49m\n\u001b[32m    944\u001b[39m \u001b[43m        \u001b[49m\u001b[43mwriter\u001b[49m\u001b[43m,\u001b[49m\n\u001b[32m    945\u001b[39m \u001b[43m        \u001b[49m\u001b[43mengine\u001b[49m\u001b[43m=\u001b[49m\u001b[43mengine\u001b[49m\u001b[43m,\u001b[49m\n\u001b[32m    946\u001b[39m \u001b[43m        \u001b[49m\u001b[43mstorage_options\u001b[49m\u001b[43m=\u001b[49m\u001b[43mstorage_options\u001b[49m\u001b[43m,\u001b[49m\n\u001b[32m    947\u001b[39m \u001b[43m        \u001b[49m\u001b[43mengine_kwargs\u001b[49m\u001b[43m=\u001b[49m\u001b[43mengine_kwargs\u001b[49m\u001b[43m,\u001b[49m\n\u001b[32m    948\u001b[39m \u001b[43m    \u001b[49m\u001b[43m)\u001b[49m\n\u001b[32m    949\u001b[39m     need_save = \u001b[38;5;28;01mTrue\u001b[39;00m\n\u001b[32m    951\u001b[39m \u001b[38;5;28;01mtry\u001b[39;00m:\n",
      "\u001b[36mFile \u001b[39m\u001b[32mc:\\Users\\marco\\Documentos\\docencia\\radicacion_vectorial_numerico\\.venv\\Lib\\site-packages\\pandas\\io\\excel\\_base.py:1140\u001b[39m, in \u001b[36mExcelWriter.__new__\u001b[39m\u001b[34m(cls, path, engine, date_format, datetime_format, mode, storage_options, if_sheet_exists, engine_kwargs)\u001b[39m\n\u001b[32m   1138\u001b[39m             engine = get_default_engine(ext, mode=\u001b[33m\"\u001b[39m\u001b[33mwriter\u001b[39m\u001b[33m\"\u001b[39m)\n\u001b[32m   1139\u001b[39m     \u001b[38;5;28;01mexcept\u001b[39;00m \u001b[38;5;167;01mKeyError\u001b[39;00m \u001b[38;5;28;01mas\u001b[39;00m err:\n\u001b[32m-> \u001b[39m\u001b[32m1140\u001b[39m         \u001b[38;5;28;01mraise\u001b[39;00m \u001b[38;5;167;01mValueError\u001b[39;00m(\u001b[33mf\u001b[39m\u001b[33m\"\u001b[39m\u001b[33mNo engine for filetype: \u001b[39m\u001b[33m'\u001b[39m\u001b[38;5;132;01m{\u001b[39;00mext\u001b[38;5;132;01m}\u001b[39;00m\u001b[33m'\u001b[39m\u001b[33m\"\u001b[39m) \u001b[38;5;28;01mfrom\u001b[39;00m\u001b[38;5;250m \u001b[39m\u001b[34;01merr\u001b[39;00m\n\u001b[32m   1142\u001b[39m \u001b[38;5;66;03m# for mypy\u001b[39;00m\n\u001b[32m   1143\u001b[39m \u001b[38;5;28;01massert\u001b[39;00m engine \u001b[38;5;129;01mis\u001b[39;00m \u001b[38;5;129;01mnot\u001b[39;00m \u001b[38;5;28;01mNone\u001b[39;00m\n",
      "\u001b[31mValueError\u001b[39m: No engine for filetype: 'xls'"
     ]
    }
   ],
   "source": [
    "\n",
    "# Convertir la columna 'Nombre' a una lista de Python\n",
    "lista_estudiantes = estudiantes['Nombre'].tolist()\n",
    "\n",
    "# Función para llamar a un estudiante aleatoriamente y registrar su nota de seguimiento\n",
    "def asistencia():\n",
    "    global lista_estudiantes\n",
    "    if lista_estudiantes:\n",
    "        estudiante_aleatorio = np.random.choice(lista_estudiantes)\n",
    "        print(f\"Llamando a {estudiante_aleatorio}...\")\n",
    "        asistencia = input(f\"¿Asistió {estudiante_aleatorio}? (s/n): \").strip().lower()\n",
    "        \n",
    "        # Validación de entrada\n",
    "        if asistencia == 'n':\n",
    "            # Obtener el índice del estudiante en el DataFrame\n",
    "            indice = estudiantes[estudiantes['Nombre'] == estudiante_aleatorio].index[0]\n",
    "            # Incrementar su valor en la columna 'Parcial'\n",
    "            estudiantes.at[indice, 'Asistencia'] += 4\n",
    "            print(f\"Actualizado: {estudiante_aleatorio} ahora tiene {estudiantes.at[indice, 'Asistencia']} en la columna 'Asistencia'.\")\n",
    "        \n",
    "        elif asistencia != 's':\n",
    "            print(\"Entrada inválida. Por favor, introduce 's' para sí o 'n' para no.\")\n",
    "            return  # Volver a preguntar para el mismo estudiante si la entrada es inválida\n",
    "        \n",
    "        # Remover al estudiante de la lista para no llamarlo de nuevo\n",
    "        lista_estudiantes.remove(estudiante_aleatorio)\n",
    "    else:\n",
    "        print(\"Se han llamado a todos los estudiantes del grupo completo.\")\n",
    "\n",
    "# Función para guardar cambios al final de la sesión\n",
    "def guardar_cambios():\n",
    "    estudiantes.to_excel(path, index=False)\n",
    "    print(\"Cambios guardados en el archivo CSV.\")\n",
    "\n",
    "# Ejemplo de uso\n",
    "while lista_estudiantes:\n",
    "    asistencia()\n",
    "\n",
    "# Guardar los cambios una vez que todos los estudiantes hayan sido llamados\n",
    "guardar_cambios()\n",
    "\n"
   ]
  },
  {
   "cell_type": "code",
   "execution_count": null,
   "id": "adb9bbca",
   "metadata": {},
   "outputs": [],
   "source": [
    "import pandas as pd\n",
    "import numpy as np\n",
    "\n",
    "# Cargar la lista de estudiantes desde el archivo CSV\n",
    "path = 'C:/Users/marco/Documentos/docencia/groups_list/vectorial.xls'\n",
    "estudiantes = pd.read_excel(path)\n",
    "estudiantes.head() \n"
   ]
  },
  {
   "cell_type": "markdown",
   "id": "d7598d0a-d9b7-4ae0-b029-a0ed6ed1130b",
   "metadata": {},
   "source": [
    "\n",
    "# Principios de mi labor docente"
   ]
  },
  {
   "cell_type": "markdown",
   "id": "4f9d8cf9",
   "metadata": {
    "slideshow": {
     "slide_type": "slide"
    }
   },
   "source": [
    "## Modelo general de clase: [aula invertida](https://www3.gobiernodecanarias.org/medusa/ecoescuela/pedagotic/aprendizaje-invertido-flipped-classroom/)"
   ]
  },
  {
   "cell_type": "markdown",
   "id": "eb6ed03a",
   "metadata": {},
   "source": [
    "<img src = 'https://resources.maneuveringthemiddle.com/wp-content/uploads/2020/07/04212706/1-5.png' width = 200>  \n",
    "\n"
   ]
  },
  {
   "cell_type": "markdown",
   "id": "34319cce-a71b-4f64-aab8-b53e521efa40",
   "metadata": {},
   "source": [
    "# Metodología de enseñanza basada en problemas (ABP)\n"
   ]
  },
  {
   "cell_type": "markdown",
   "id": "c4f73d81",
   "metadata": {},
   "source": [
    "\n",
    "<img src = 'https://www.unir.net/wp-content/uploads/2020/07/aprendizaje-problemas2-1-1-1-1.jpeg' width = 200>"
   ]
  },
  {
   "cell_type": "markdown",
   "id": "841a985c-bd9b-4dd3-8e4c-893983980af2",
   "metadata": {},
   "source": [
    "# Desarrollo del pensamiento computacional con Lenguaje R y con archivos R Markdown orientado a la formación en ciencia de datos \n",
    "\n"
   ]
  },
  {
   "cell_type": "markdown",
   "id": "3d0eba94",
   "metadata": {},
   "source": [
    "\n",
    "<img src = 'https://i.ytimg.com/vi/mcG_wcR4e6M/maxresdefault.jpg' width = 200>"
   ]
  },
  {
   "cell_type": "markdown",
   "id": "65aa0404-f7ae-495e-864c-1aec01b4255e",
   "metadata": {},
   "source": [
    "# Principio de fomento a la ciencia abierta, enseñar en el acceso a los datos públicos y el uso de software de código abierto  \n"
   ]
  },
  {
   "cell_type": "markdown",
   "id": "18ae9b87",
   "metadata": {},
   "source": [
    "\n",
    "<img src = 'https://unesdoc.unesco.org/in/rest/Thumb/image?id=p%3A%3Ausmarcdef_0000379949_spa&author=UNESCO&title=Recomendaci%C3%B3n+de+la+UNESCO+sobre+la+Ciencia+Abierta&year=2021&publisher=UNESCO&TypeOfDocument=UnescoPhysicalDocument&mat=PGD&ct=true&size=512&isPhysical=1' width = 200>"
   ]
  },
  {
   "cell_type": "markdown",
   "id": "d9559f85",
   "metadata": {},
   "source": [
    "El enfoque STEAMS en educación preescolar, primaria y secundaria es una extensión del enfoque STEM (Ciencia, Tecnología, Ingeniería y Matemáticas) y su variante STEAM, que incorpora el Arte. "
   ]
  },
  {
   "cell_type": "markdown",
   "id": "72e1cfd2",
   "metadata": {},
   "source": [
    "El acrónimo STEAMS incluye:\n"
   ]
  },
  {
   "cell_type": "markdown",
   "id": "03182fd1",
   "metadata": {},
   "source": [
    "\n",
    "1. **Science (Ciencia):** Fomenta la curiosidad por el mundo natural y el desarrollo de habilidades científicas, como la observación, experimentación y análisis.\n"
   ]
  },
  {
   "cell_type": "markdown",
   "id": "1306d0fa",
   "metadata": {},
   "source": [
    "\n",
    "2. **Technology (Tecnología):** Integra herramientas tecnológicas para potenciar el aprendizaje y la resolución de problemas, promoviendo la alfabetización digital desde edades tempranas.\n"
   ]
  },
  {
   "cell_type": "markdown",
   "id": "3b1a53e8",
   "metadata": {},
   "source": [
    "\n",
    "3. **Engineering (Ingeniería):** Introduce el pensamiento lógico y la resolución de problemas estructurados, fomentando habilidades como el diseño y la construcción de soluciones.\n"
   ]
  },
  {
   "cell_type": "markdown",
   "id": "0196de87",
   "metadata": {},
   "source": [
    "\n",
    "4. **Arts (Arte):** Añade creatividad y pensamiento crítico, permitiendo a los estudiantes expresarse y explorar el aprendizaje a través de formas artísticas (plásticas, música, teatro).\n"
   ]
  },
  {
   "cell_type": "markdown",
   "id": "8bcc485a",
   "metadata": {},
   "source": [
    "\n",
    "5. **Mathematics (Matemáticas):** Refuerza las habilidades numéricas y el razonamiento lógico, fundamentales en la resolución de problemas y comprensión de conceptos abstractos.\n"
   ]
  },
  {
   "cell_type": "markdown",
   "id": "907935f4",
   "metadata": {},
   "source": [
    "\n",
    "6. **Social Sciences (Ciencias Sociales):** Incorpora la comprensión del entorno social, político, cultural y económico, promoviendo el desarrollo de la conciencia crítica sobre el mundo y su historia, además de habilidades de empatía y ciudadanía.\n"
   ]
  },
  {
   "cell_type": "markdown",
   "id": "39967d63",
   "metadata": {},
   "source": [
    "\n",
    "El enfoque STEAMS pretende desarrollar un aprendizaje **interdisciplinario** que integre estas áreas para fomentar un pensamiento más holístico y práctico. "
   ]
  },
  {
   "cell_type": "markdown",
   "id": "5145f077",
   "metadata": {},
   "source": [
    "Se busca que los estudiantes no solo aprendan conocimientos técnicos, sino también cómo aplicarlos creativa y críticamente en situaciones reales, promoviendo habilidades como el trabajo en equipo, la comunicación y la innovación. "
   ]
  },
  {
   "cell_type": "markdown",
   "id": "9d556584",
   "metadata": {},
   "source": [
    "En educación preescolar, primaria, secundaria y superior, se adapta a las diferentes etapas de desarrollo cognitivo y emocional de los estudiantes, promoviendo el aprendizaje activo y contextualizado.  \n"
   ]
  },
  {
   "cell_type": "markdown",
   "id": "0130ec1b",
   "metadata": {},
   "source": [
    "\n",
    "<img src = 'https://www.campuseducacion.com/blog/wp-content/uploads/2023/03/foto01-1.jpg' width = 200>"
   ]
  },
  {
   "cell_type": "markdown",
   "id": "9d15c10d-2c02-4158-9419-b1ed79b4c1ee",
   "metadata": {},
   "source": [
    "# Qué estamos haciendo por la internalización en esta clase y este curso  \n"
   ]
  },
  {
   "cell_type": "markdown",
   "id": "6e4feef2",
   "metadata": {},
   "source": [
    "Estas son mis acciones como docente de matemáticas en la Universidad de Antioquia con miras a la **internacionalización** de mi práctica docente y el desarrollo de competencias internacionales para mis estudiantes, ls cuales he estructurado con el siguiente enfoque:\n"
   ]
  },
  {
   "cell_type": "markdown",
   "id": "964d9de7-53ee-4255-9bcd-d8e6454f2993",
   "metadata": {},
   "source": [
    "### 1. **Visión Global en la Formación Académica**\n"
   ]
  },
  {
   "cell_type": "markdown",
   "id": "d9bdd3e2",
   "metadata": {},
   "source": [
    "   - **Competencias Internacionales**: Asegúrate de que el contenido de tus cursos fomente habilidades que sean reconocidas globalmente. "
   ]
  },
  {
   "cell_type": "markdown",
   "id": "7f734e11",
   "metadata": {},
   "source": [
    "Al educar a los estudiantes en **Python, LaTeX, Markdown y Jupyter Notebooks** y en la **introducción a la ciencia de datos y técnicas de Machine Learning**, estás proporcionando competencias altamente demandadas en los sectores tecnológicos y académicos a nivel internacional.\n"
   ]
  },
  {
   "cell_type": "markdown",
   "id": "39b55206",
   "metadata": {},
   "source": [
    "   - **Relevancia de los Contenidos**: Destaca cómo los temas que enseñas, como el **desarrollo del pensamiento computacional** y la **ciencia de datos**, están alineados con las necesidades globales actuales en diversas industrias, desde la tecnología hasta las ciencias naturales y sociales.\n"
   ]
  },
  {
   "cell_type": "markdown",
   "id": "a054599e",
   "metadata": {},
   "source": [
    "   - **Referencias a Estándares Internacionales**: Puedes vincular tu enseñanza a estándares internacionales de competencias en programación y ciencia de datos (por ejemplo, frameworks del **IEEE, ACM**, y estándares de la **data science** o la **computación en la nube**)."
   ]
  },
  {
   "cell_type": "markdown",
   "id": "0f1d110c-3142-48fe-9e7d-5fbd9e8bb931",
   "metadata": {},
   "source": [
    "### 2. **Innovación Pedagógica con Enfoque Internacional**\n"
   ]
  },
  {
   "cell_type": "markdown",
   "id": "fae6ae34",
   "metadata": {},
   "source": [
    "   - **Aula Invertida y ABP**: Presenta cómo tu enfoque de **aula invertida** y **aprendizaje basado en problemas (ABP)** permite a los estudiantes trabajar de manera autónoma y colaborativa, lo que los prepara para escenarios laborales internacionales que requieren autoaprendizaje y habilidades de resolución de problemas en equipo.\n"
   ]
  },
  {
   "cell_type": "markdown",
   "id": "c83062d9",
   "metadata": {},
   "source": [
    "   - **Uso de Jupyter Notebooks**: El uso de **Jupyter Notebooks** en tus clases no solo facilita la **integración de código, matemáticas y texto**, sino que también es una plataforma utilizada globalmente en ambientes académicos y profesionales, lo que hace a tus estudiantes más competitivos internacionalmente."
   ]
  },
  {
   "cell_type": "markdown",
   "id": "960d52b7-03cd-4eb3-965e-5cdfeb7d9f8e",
   "metadata": {},
   "source": [
    "### 3. **Tecnología y Herramientas de Uso Global**\n"
   ]
  },
  {
   "cell_type": "markdown",
   "id": "4be7269f",
   "metadata": {},
   "source": [
    "   - **Lenguaje Python**: Python es uno de los lenguajes de programación más usados a nivel mundial, tanto en la academia como en la industria. "
   ]
  },
  {
   "cell_type": "markdown",
   "id": "1c097a1d",
   "metadata": {},
   "source": [
    "Al formar a tus estudiantes en Python para ciencia de datos y machine learning, los preparas para operar en entornos tecnológicos globales.\n"
   ]
  },
  {
   "cell_type": "markdown",
   "id": "102655af",
   "metadata": {},
   "source": [
    "   - **Herramientas de Ciencia Abierta**: Resalta cómo herramientas como **GitHub**, **Google Colab** y otras plataformas de código abierto están alineadas con el movimiento de **ciencia abierta**, el cual es internacionalmente reconocido y permite que los estudiantes colaboren y compartan proyectos a nivel global."
   ]
  },
  {
   "cell_type": "markdown",
   "id": "3b2ffa32-7a6f-4545-ba7b-c6a69f51109f",
   "metadata": {},
   "source": [
    "### 4. **Investigación y Publicaciones Internacionales**\n"
   ]
  },
  {
   "cell_type": "markdown",
   "id": "bdbf52a5",
   "metadata": {},
   "source": [
    "   - **Promoción de la Investigación**: Detalla cómo promueves que tus estudiantes participen en proyectos de **investigación aplicada**, con posibilidad de publicación en revistas internacionales. "
   ]
  },
  {
   "cell_type": "markdown",
   "id": "5c6632d3",
   "metadata": {},
   "source": [
    "Esto contribuye a la reputación internacional de la Universidad de Antioquia.\n"
   ]
  },
  {
   "cell_type": "markdown",
   "id": "ea01fcbc",
   "metadata": {},
   "source": [
    "   - **Colaboraciones Internacionales**: Si has colaborado con investigadores de otras instituciones o universidades en el extranjero, menciona estos proyectos y cómo han enriquecido tu enseñanza y proporcionado a los estudiantes una visión más globalizada."
   ]
  },
  {
   "cell_type": "markdown",
   "id": "5d1e396e-aece-4bf7-9421-32fa7809eaf4",
   "metadata": {},
   "source": [
    "## 5. **Uso del Inglés para la Internacionalización**\n"
   ]
  },
  {
   "cell_type": "markdown",
   "id": "29cabf26",
   "metadata": {},
   "source": [
    "   - **Comunicación Científica en Inglés**: "
   ]
  },
  {
   "cell_type": "markdown",
   "id": "8ec53ff3",
   "metadata": {},
   "source": [
    "Fomentar el aprendizaje del inglés como lengua científica es clave para que tus estudiantes puedan acceder a publicaciones internacionales, conferencias, y material académico que no está disponible en español. "
   ]
  },
  {
   "cell_type": "markdown",
   "id": "97ba7d9c",
   "metadata": {},
   "source": [
    "Esto es esencial para que adquieran competencias que les permitan desempeñarse en cualquier contexto internacional.\n"
   ]
  },
  {
   "cell_type": "markdown",
   "id": "b831224f",
   "metadata": {},
   "source": [
    "   - **Material Bilingüe**: Al generar material educativo en Python, LaTeX y Markdown, considera ofrecer algunos de estos recursos en inglés, para que los estudiantes se familiaricen con el vocabulario técnico y científico internacional."
   ]
  },
  {
   "cell_type": "markdown",
   "id": "c6a8c3b0-426a-4692-a384-3065aea81c9a",
   "metadata": {},
   "source": [
    "### 6. **Certificaciones y Estándares Internacionales**\n"
   ]
  },
  {
   "cell_type": "markdown",
   "id": "b1f41da5",
   "metadata": {},
   "source": [
    "   - **Participación en Certificaciones Internacionales**: Impulsa que los estudiantes busquen certificaciones internacionales en Python o ciencia de datos (como las ofrecidas por **Coursera, edX,** o **Google**). "
   ]
  },
  {
   "cell_type": "markdown",
   "id": "44305ccd",
   "metadata": {},
   "source": [
    "Estas certificaciones no solo validan sus competencias, sino que también incrementan el reconocimiento de la Universidad de Antioquia en el contexto internacional.\n"
   ]
  },
  {
   "cell_type": "markdown",
   "id": "7cc66317",
   "metadata": {},
   "source": [
    "   - **Alineación con Acreditaciones Internacionales**: Vincula tu trabajo docente con los estándares de acreditación y certificación que garantizan que la universidad siga siendo reconocida internacionalmente. "
   ]
  },
  {
   "cell_type": "markdown",
   "id": "907d1fe9",
   "metadata": {},
   "source": [
    "Puedes vincularte con organizaciones internacionales que promuevan la excelencia en la educación y tecnología, como **ABET** para la acreditación en ingeniería y ciencias computacionales."
   ]
  },
  {
   "cell_type": "markdown",
   "id": "65d3d9e1-ea84-43e0-8197-a2a9c9e21594",
   "metadata": {},
   "source": [
    "### 7. **Proyectos Abiertos y Ciencia Reproducible**\n"
   ]
  },
  {
   "cell_type": "markdown",
   "id": "f03f7b20",
   "metadata": {},
   "source": [
    "   - **GitHub y Open Science**: La utilización de **GitHub** para almacenar los proyectos y materiales de enseñanza en repositorios públicos permite que otros investigadores y educadores internacionales puedan revisar y replicar tu trabajo. "
   ]
  },
  {
   "cell_type": "markdown",
   "id": "7d36af32",
   "metadata": {},
   "source": [
    "Esto contribuye a la creación de una red de colaboración científica abierta.\n"
   ]
  },
  {
   "cell_type": "markdown",
   "id": "9e5a508f",
   "metadata": {},
   "source": [
    "   - **Transparencia y Reproducibilidad**: La ciencia de datos y machine learning están profundamente ligados a la reproducibilidad. Asegura que tus estudiantes desarrollen prácticas de transparencia y documentación en la investigación, que son pilares en la comunidad científica global.\n"
   ]
  },
  {
   "cell_type": "markdown",
   "id": "215cb551",
   "metadata": {},
   "source": [
    "\n",
    "### 8. **Participación en Redes y Conferencias Internacionales**\n",
    "   - **Presentación en Conferencias Internacionales**: Destaca cómo tu participación en conferencias internacionales (como la **ASCOLFA** o eventos sobre educación en matemáticas) contribuye al prestigio de la universidad y permite que tus prácticas sean evaluadas y reconocidas a nivel global.\n"
   ]
  },
  {
   "cell_type": "markdown",
   "id": "cdf46e29",
   "metadata": {},
   "source": [
    "   - **Promoción de Estudiantes en Eventos Internacionales**: Impulsa la participación de tus estudiantes en competiciones internacionales de programación o hackathons, como los organizados por **Google**, **ACM** o **Kaggle**. "
   ]
  },
  {
   "cell_type": "markdown",
   "id": "34803c96",
   "metadata": {},
   "source": [
    "Esto no solo desarrolla sus habilidades, sino que también visibiliza el talento de la Universidad de Antioquia a nivel global.\n",
    "\n",
    "---"
   ]
  },
  {
   "cell_type": "markdown",
   "id": "233294a4-1983-4641-a7ad-866825e02315",
   "metadata": {},
   "source": [
    "Con esta estrategia, presento mis acciones docentes en términos de competencias internacionales, innovación pedagógica, tecnología, investigación y participación en redes globales, asegurando que mi práctica esté alineada con los estándares internacionales y que mis estudiantes estén preparados para competir en contextos internacionales."
   ]
  },
  {
   "cell_type": "markdown",
   "id": "77da458b",
   "metadata": {},
   "source": [
    "### **Metodología de Enseñanza: Aprendizaje Basado en Problemas y Proyectos (ABPP)**\n"
   ]
  },
  {
   "cell_type": "markdown",
   "id": "c943d273",
   "metadata": {},
   "source": [
    "\n",
    "El **Aprendizaje Basado en Problemas y Proyectos (ABPP)** es una metodología educativa que integra los enfoques del **Aprendizaje Basado en Problemas (ABP)** y el **Aprendizaje Basado en Proyectos (PBL, por sus siglas en inglés)**. "
   ]
  },
  {
   "cell_type": "markdown",
   "id": "657dbf82",
   "metadata": {},
   "source": [
    "Es especialmente útil para la formación de futuros docentes, ingenieros y administradores, ya que combina el desarrollo de habilidades prácticas con el pensamiento crítico y reflexivo. "
   ]
  },
  {
   "cell_type": "markdown",
   "id": "d9e8b1bf",
   "metadata": {},
   "source": [
    "A continuación, se presenta una descripción adaptada a la enseñanza de las matemáticas en educación infantil, Licenciatura en Matemáticas, Ingeniería Agropecuaria y Administración de Empresas:\n",
    "\n",
    "---\n"
   ]
  },
  {
   "cell_type": "markdown",
   "id": "0eeba3f5",
   "metadata": {},
   "source": [
    "\n",
    "### **1. Fundamentos del ABPP**\n"
   ]
  },
  {
   "cell_type": "markdown",
   "id": "553eabd1",
   "metadata": {},
   "source": [
    "El ABPP se basa en:\n"
   ]
  },
  {
   "cell_type": "markdown",
   "id": "2f7bb754",
   "metadata": {},
   "source": [
    "- **Resolución de Problemas Reales:** Los estudiantes analizan y resuelven problemas auténticos relacionados con su área de formación, fomentando la aplicación práctica del conocimiento.\n"
   ]
  },
  {
   "cell_type": "markdown",
   "id": "22043e34",
   "metadata": {},
   "source": [
    "- **Proyectos como Herramientas Integradoras:** Los proyectos permiten desarrollar habilidades interdisciplinarias y ofrecer soluciones concretas a los problemas planteados.\n"
   ]
  },
  {
   "cell_type": "markdown",
   "id": "d95a3d85",
   "metadata": {},
   "source": [
    "- **Aprendizaje Activo:** Los estudiantes son responsables de su aprendizaje y participan activamente en el proceso de investigación, diseño y solución.\n",
    "\n",
    "---\n"
   ]
  },
  {
   "cell_type": "markdown",
   "id": "3728d010",
   "metadata": {},
   "source": [
    "\n",
    "### **2. Aplicación del ABPP en Áreas Específicas**\n"
   ]
  },
  {
   "cell_type": "markdown",
   "id": "3876a100",
   "metadata": {},
   "source": [
    "\n",
    "#### **Educación Infantil (Licenciatura en Educación Infantil)**\n",
    "- **Enfoque:** Desarrollo del pensamiento matemático en la infancia desde contextos lúdicos, familiares y culturales.\n",
    "- **Problemas típicos:** \n",
    "  - ¿Cómo enseñar los números naturales mediante actividades prácticas y juegos?\n",
    "  - ¿Qué estrategias pueden emplearse para abordar el concepto de cantidad en edades tempranas?\n",
    "- **Proyectos:** Diseño de secuencias didácticas que usen Python, Jupyter Notebooks y materiales manipulativos para enseñar matemáticas de forma interactiva.\n",
    "- **Competencias desarrolladas:** \n",
    "  - Uso de herramientas tecnológicas para diseñar actividades educativas.\n",
    "  - Comprensión del desarrollo cognitivo infantil y su relación con las matemáticas.\n"
   ]
  },
  {
   "cell_type": "markdown",
   "id": "481f614a",
   "metadata": {},
   "source": [
    "\n",
    "#### **Licenciatura en Matemáticas**\n"
   ]
  },
  {
   "cell_type": "markdown",
   "id": "7c4e92a0",
   "metadata": {},
   "source": [
    "- **Enfoque:** Resolución de problemas matemáticos aplicados y profundización teórica en áreas como análisis matemático y modelado.\n",
    "- **Problemas típicos:**\n",
    "  - ¿Cómo se pueden resolver ecuaciones diferenciales aplicadas a modelos físicos o económicos?\n",
    "  - ¿Cómo modelar fenómenos naturales mediante funciones matemáticas?\n"
   ]
  },
  {
   "cell_type": "markdown",
   "id": "afbbbc75",
   "metadata": {},
   "source": [
    "- **Proyectos:** \n",
    "  - Desarrollo de software educativo para explorar conceptos matemáticos.\n",
    "  - Aplicación de modelado matemático para resolver problemas reales en otras disciplinas.\n",
    "- **Competencias desarrolladas:**\n",
    "  - Dominio de la matemática teórica y aplicada.\n",
    "  - Uso de tecnología para la enseñanza y la investigación.\n"
   ]
  },
  {
   "cell_type": "markdown",
   "id": "83ab236f",
   "metadata": {},
   "source": [
    "\n",
    "#### **Ingeniería Agropecuaria**\n"
   ]
  },
  {
   "cell_type": "markdown",
   "id": "d324ee9b",
   "metadata": {},
   "source": [
    "- **Enfoque:** Modelado matemático y análisis de datos para mejorar la producción agrícola y la gestión de recursos.\n",
    "- **Problemas típicos:**\n",
    "  - ¿Cómo modelar el crecimiento de cultivos considerando variables climáticas?\n",
    "  - ¿Cómo optimizar el uso del agua en sistemas de riego mediante análisis matemático?\n",
    "- **Proyectos:** \n",
    "  - Desarrollo de modelos predictivos con Python y bibliotecas de aprendizaje automático.\n",
    "  - Implementación de proyectos que combinen matemáticas y ciencias de datos para resolver problemas agrícolas.\n",
    "- **Competencias desarrolladas:**\n",
    "  - Integración de matemáticas con tecnologías avanzadas.\n",
    "  - Resolución de problemas agropecuarios mediante análisis y modelado.\n"
   ]
  },
  {
   "cell_type": "markdown",
   "id": "c4519bb3",
   "metadata": {},
   "source": [
    "\n",
    "#### **Administración de Empresas**\n"
   ]
  },
  {
   "cell_type": "markdown",
   "id": "0ab07bba",
   "metadata": {},
   "source": [
    "- **Enfoque:** Uso de las matemáticas y la ciencia de datos para la toma de decisiones estratégicas.\n",
    "- **Problemas típicos:**\n",
    "  - ¿Cómo identificar patrones de comportamiento del consumidor usando series de tiempo?\n",
    "  - ¿Qué estrategias matemáticas pueden optimizar la asignación de recursos en una empresa?\n",
    "- **Proyectos:** \n",
    "  - Implementación de modelos de análisis financiero y simulaciones.\n",
    "  - Desarrollo de dashboards interactivos para la gestión de datos empresariales.\n",
    "- **Competencias desarrolladas:**\n",
    "  - Habilidad para interpretar datos matemáticos en contextos de negocio.\n",
    "  - Capacidad para diseñar soluciones basadas en datos.\n",
    "\n",
    "---\n"
   ]
  },
  {
   "cell_type": "markdown",
   "id": "19be58d4",
   "metadata": {},
   "source": [
    "\n",
    "### **3. Beneficios del ABPP**\n"
   ]
  },
  {
   "cell_type": "markdown",
   "id": "b2bd78a8",
   "metadata": {},
   "source": [
    "- **Desarrollo de competencias clave:**\n",
    "  - Pensamiento crítico y creativo.\n",
    "  - Trabajo colaborativo.\n",
    "  - Comunicación efectiva.\n",
    "  - Uso de herramientas tecnológicas avanzadas.\n",
    "- **Adaptación al contexto laboral:** Los estudiantes aprenden a enfrentar desafíos del mundo real y a diseñar soluciones prácticas y aplicables.\n",
    "- **Flexibilidad e interdisciplinariedad:** La metodología se adapta a diversas áreas, fomentando el aprendizaje integrado.\n",
    "\n",
    "---\n"
   ]
  },
  {
   "cell_type": "markdown",
   "id": "e36034c3",
   "metadata": {},
   "source": [
    "\n",
    "### **4. Ejemplo General de Implementación**\n"
   ]
  },
  {
   "cell_type": "markdown",
   "id": "b29f2595",
   "metadata": {},
   "source": [
    "1. **Identificación del problema:** Se plantea un desafío concreto, como modelar el crecimiento poblacional de una comunidad rural (Ingeniería Agropecuaria) o diseñar una estrategia para enseñar fracciones a niños de 8 años (Educación Infantil).\n"
   ]
  },
  {
   "cell_type": "markdown",
   "id": "d3c7d899",
   "metadata": {},
   "source": [
    "2. **Formación de equipos:** Los estudiantes trabajan en grupos, distribuyendo roles y tareas.\n"
   ]
  },
  {
   "cell_type": "markdown",
   "id": "3a1c6a60",
   "metadata": {},
   "source": [
    "3. **Investigación y diseño:** Los estudiantes investigan el problema, proponen soluciones y diseñan un proyecto.\n"
   ]
  },
  {
   "cell_type": "markdown",
   "id": "48b634f1",
   "metadata": {},
   "source": [
    "4. **Implementación:** Se desarrolla el proyecto, como una herramienta tecnológica o una propuesta pedagógica.\n"
   ]
  },
  {
   "cell_type": "markdown",
   "id": "65d99da8",
   "metadata": {},
   "source": [
    "5. **Evaluación:** Los estudiantes presentan sus resultados en un informe o una exposición, recibiendo retroalimentación de sus compañeros y docentes.\n",
    "\n",
    "---\n"
   ]
  },
  {
   "cell_type": "markdown",
   "id": "5bb0e73b",
   "metadata": {},
   "source": [
    "\n",
    "El ABPP es una metodología versátil que conecta el conocimiento teórico con la práctica, preparando a los estudiantes para los retos de sus profesiones en la enseñanza de la matemática, la ingeniería y la administración."
   ]
  },
  {
   "cell_type": "markdown",
   "id": "8d97dc80",
   "metadata": {
    "slideshow": {
     "slide_type": "slide"
    }
   },
   "source": [
    "## Fomento de la lectura literaria asociada a Ingeniería agropecuaria y licenciatura en Matemáticas\n",
    "\n",
    "[Aprender a obtener el sí sin ceder]()"
   ]
  },
  {
   "cell_type": "markdown",
   "id": "96775931",
   "metadata": {
    "slideshow": {
     "slide_type": "slide"
    }
   },
   "source": [
    "## Título de la clase:  Superficies cuádricas con Python \n",
    "\n",
    "[]()"
   ]
  },
  {
   "cell_type": "code",
   "execution_count": null,
   "id": "10e55ccf",
   "metadata": {},
   "outputs": [],
   "source": [
    "# Estructura general para todas las clases  \n",
    "\n",
    "def generar_prompt(superficie_cuadrica):\n",
    "    return \"\"\" \n",
    "    Dame, por favor, un diseño de clase, con los enfoques didácticos de enseñanza: \" STEAMS y de Aprendizaje Basado en Problemas y Proyectos (ABPP)\" sobre: f\"{superficie_cuadricas}\", siguiendo la estructura:   \n",
    "\n",
    "1. Título de la clase   \n",
    "   \n",
    "2. Objetivos de aprendizaje  e indicadores del logro de estos objetivos.   \n",
    "   \n",
    "3. Un mapa conceptual que resuma la clase elaborado en Graphviz de python con nodos y edges de diferentes formas, colores y rellenos y renderizado en la siguiente ubicación:  \n",
    "    `\"C:/Users/marco/Descargas\"`.  \n",
    "   No olvides el parámetro `view = True` para el método `render()` de Graphviz. Para este mapa controla las superposiciones de los nodos con:  \n",
    "   graph [overlap=false]; // Elimina superposiciones  (puede aumentar el espacio)  \n",
    "   graph [overlap=\"scalexy\"]; // Escala el gráfico para evitar overlaps  \n",
    "   graph [overlap=\"compress\"]; // Comprime el grafo sin overlaps   \n",
    "   \n",
    "4. Contenido de la clase adaptado a lo que este curso de calculo vectorial y de varias variables le puede aportar a que los estudiantes puedan alcanzar su perfil de Ingenieros Agropecuarios de la Facultad de Ciencias Agrarias de la Universidad de Antioquia - Campus Caucasia.   \n",
    "   * Pero que este contenido parta de las propiedades físicas de las superficies cuádricas, luego pase a las propiedades geométricas para llegar finalmente a las propiedades algebraicas. Pues nuestro enfoque de enseñanza es ABPP, es decir, partimos de lo que el problema real necesita de las superficies cuádricas, para llegar al modelo matemático algebraico que permite predecir con exactitud. \n",
    "   * Estructura el contenido para estudiar a la f\"{superficie_cuadrica}\" siguiendo la secuencia: Problemas prácticas en el Agro Caucasiano donde la circunferencia puede ser aplicable $\\to$ Definición y propiedades geométricas de la circunferencia $\\to$  Definición y propiedades algebraicas de la circunferencia $\\to$ Soluciones a problemas reales del Agro en Caucasia - Antioquia utilizando la circunferencia.    \n",
    "  \n",
    "5. Elementos Epistemológicos e históricos para esta clase.  \n",
    "   \n",
    "6. Actividades de aprendizaje  \n",
    "   \n",
    "7. Incluye una canción o un poema que ayude a interiorizar y fijar los conceptos asociados a esta clase.   \n",
    "   \n",
    "8. Tarea o actividades de ejercitación y fijación  \n",
    "   \n",
    "9.  Evaluación incluyendo diez proyextos, un ejemplo de quiz y un ejemplo de parcial  \n",
    "    \n",
    "10. Diseño de actividad de retroalimentación.     \n",
    "    \n",
    "11. Dame un vocabulario y frases del idioma inglés asociadas a esta clase.   \n",
    "\n",
    "\n",
    "Pero  que este diseño sea para que el estudiante pueda aprender experimentando en cuadernos Jupyter con funciones de usuario y animaciones y visualizaciones en python. \n",
    "En particular usa Numpy, Pandas, Matplotlib.pyplot, Seaborn, Plotly, Scikit-learn, Scipy, ipywidgets, matplotlib.animation y Jupyter notebook.\" "
   ]
  },
  {
   "cell_type": "code",
   "execution_count": null,
   "id": "b1ca2ce0",
   "metadata": {},
   "outputs": [],
   "source": [
    "generar_prompt('paraboloide') "
   ]
  },
  {
   "cell_type": "code",
   "execution_count": 1,
   "id": "d8b13f6a",
   "metadata": {},
   "outputs": [],
   "source": [
    "def save_fig(nombre_archivo_imagen):\n",
    "    import os\n",
    "    import matplotlib.pyplot as plt\n",
    "    ubicacion_para_imagenes = r\"C:/Users/marco/Descargas\"\n",
    "    imagen_path = os.path.join(ubicacion_para_imagenes, nombre_archivo_imagen)\n",
    "    plt.savefig(imagen_path, bbox_inches='tight')"
   ]
  },
  {
   "cell_type": "markdown",
   "id": "3d90013a",
   "metadata": {},
   "source": [
    "# Empecemos la clase con el desarrollo de habilidades blandas y de inteligencia emocional  \n",
    "\n",
    "La resistencia de los estudiantes a preparar videos de presentación puede deberse a múltiples factores, como la falta de confianza, el miedo a la exposición, la falta de habilidades técnicas o la percepción de que la actividad no es relevante. Aquí tienes algunas estrategias pedagógicas y didácticas para abordar este problema y fomentar la participación activa:\n",
    "\n",
    "---\n"
   ]
  },
  {
   "cell_type": "markdown",
   "id": "e2c19cd4",
   "metadata": {},
   "source": [
    "\n",
    "### **1. Generar confianza y reducir el miedo**\n",
    "- **Introducción gradual**: Comienza con actividades menos exigentes, como grabaciones cortas o en grupos, antes de pedir videos individuales.\n",
    "- **Ambiente seguro**: Crea un clima de confianza donde los errores sean vistos como oportunidades de aprendizaje, no como fracasos.\n",
    "- **Modelado**: Presenta ejemplos de videos hechos por ti o por estudiantes de cursos anteriores (con su consentimiento) para mostrar que no es necesario ser perfecto.\n",
    "\n",
    "---\n"
   ]
  },
  {
   "cell_type": "markdown",
   "id": "c03c8823",
   "metadata": {},
   "source": [
    "\n",
    "### **2. Clarificar el propósito y la relevancia**\n",
    "- **Explicar el \"por qué\"**: Comunica claramente los objetivos de la actividad y cómo contribuye a su aprendizaje (por ejemplo, desarrollar habilidades de comunicación, síntesis y pensamiento crítico).\n",
    "- **Vincular con el mundo real**: Muestra cómo la creación de videos es una habilidad útil en el ámbito profesional y personal.\n",
    "\n",
    "---\n"
   ]
  },
  {
   "cell_type": "markdown",
   "id": "f1e4d4df",
   "metadata": {},
   "source": [
    "\n",
    "### **3. Simplificar el proceso técnico**\n",
    "- **Proporcionar herramientas accesibles**: Recomienda aplicaciones o programas fáciles de usar, como Canva, Flipgrid, o incluso el teléfono móvil.\n",
    "- **Tutoriales paso a paso**: Ofrece guías o videos cortos que expliquen cómo grabar, editar y compartir un video.\n",
    "- **Tiempo en clase**: Dedica una sesión para que los estudiantes practiquen la grabación y resuelvan dudas técnicas.\n",
    "\n",
    "---\n"
   ]
  },
  {
   "cell_type": "markdown",
   "id": "2b30e57c",
   "metadata": {},
   "source": [
    "\n",
    "### **4. Fomentar la creatividad y la autonomía**\n",
    "- **Flexibilidad en el formato**: Permite que los estudiantes elijan el estilo del video (presentación formal, animación, entrevista, etc.).\n",
    "- **Temas de interés**: Deja que elijan un subtema relacionado con el contenido del curso que les resulte motivador.\n",
    "- **Trabajo colaborativo**: Permite que los videos sean realizados en parejas o grupos para reducir la presión individual.\n",
    "\n",
    "---\n"
   ]
  },
  {
   "cell_type": "markdown",
   "id": "e9b33948",
   "metadata": {},
   "source": [
    "\n",
    "### **5. Integrar la actividad en la evaluación formativa**\n",
    "- **Retroalimentación constructiva**: Proporciona comentarios específicos y alentadores que destaquen los aciertos y sugieran mejoras.\n",
    "- **Autoevaluación y coevaluación**: Incluye rúbricas para que los estudiantes evalúen su propio trabajo y el de sus compañeros.\n",
    "- **Enfoque en el proceso**: Valora no solo el producto final, sino también el esfuerzo, la creatividad y la mejora continua.\n",
    "\n",
    "---\n"
   ]
  },
  {
   "cell_type": "markdown",
   "id": "1400a584",
   "metadata": {},
   "source": [
    "\n",
    "### **6. Gamificar la experiencia**\n",
    "- **Desafíos y recompensas**: Propón retos creativos (por ejemplo, \"el video más original\") y ofrece reconocimientos simbólicos.\n",
    "- **Competencias amistosas**: Organiza concursos entre grupos o equipos para fomentar la participación.\n",
    "- **Puntos extra**: Ofrece incentivos pequeños, como puntos adicionales en la evaluación, para motivar a los estudiantes.\n",
    "\n",
    "---\n"
   ]
  },
  {
   "cell_type": "markdown",
   "id": "d7b29099",
   "metadata": {},
   "source": [
    "\n",
    "### **7. Reducir la carga cognitiva**\n",
    "- **Tiempo adecuado**: Asegúrate de dar suficiente tiempo para la preparación y grabación del video.\n",
    "- **Guías claras**: Proporciona una estructura o guión básico para que los estudiantes sepan por dónde empezar.\n",
    "- **Duración limitada**: Pide videos cortos (2-3 minutos) para que la tarea no resulte abrumadora.\n",
    "\n",
    "---\n"
   ]
  },
  {
   "cell_type": "markdown",
   "id": "d8d1f4eb",
   "metadata": {},
   "source": [
    "\n",
    "### **8. Fomentar la reflexión sobre el aprendizaje**\n",
    "- **Diarios de aprendizaje**: Pide a los estudiantes que reflexionen sobre su experiencia al crear el video y cómo contribuyó a su comprensión del tema.\n",
    "- **Discusión en clase**: Dedica un espacio para compartir impresiones sobre la actividad y recoger feedback para mejorarla en el futuro.\n",
    "\n",
    "---\n"
   ]
  },
  {
   "cell_type": "markdown",
   "id": "928557b2",
   "metadata": {},
   "source": [
    "\n",
    "### **9. Incorporar el video en actividades colaborativas**\n",
    "- **Foros de discusión**: Usa los videos como punto de partida para debates en clase o en plataformas en línea.\n",
    "- **Proyectos integrados**: Combina los videos con otras actividades, como presentaciones en vivo o trabajos escritos, para darles mayor sentido.\n",
    "\n",
    "---\n"
   ]
  },
  {
   "cell_type": "markdown",
   "id": "eb9dc108",
   "metadata": {},
   "source": [
    "\n",
    "### **10. Escuchar y adaptarse**\n",
    "- **Feedback constante**: Pregunta a los estudiantes qué les gusta y qué no les gusta de la actividad, y ajusta según sus necesidades.\n",
    "- **Alternativas**: Si algunos estudiantes muestran una resistencia muy fuerte, ofrece opciones alternativas (por ejemplo, presentaciones en vivo o infografías).\n",
    "\n",
    "---\n"
   ]
  },
  {
   "cell_type": "markdown",
   "id": "074d1628",
   "metadata": {},
   "source": [
    "\n",
    "### **11. Mostrar el impacto de su trabajo**\n",
    "- **Compartir los videos**: Con el consentimiento de los estudiantes, comparte los videos en la plataforma del curso o en redes sociales educativas para que vean que su trabajo tiene un público real.\n",
    "- **Reflexión colectiva**: Analiza en clase cómo los videos ayudaron a clarificar conceptos o resolver dudas.\n",
    "\n",
    "---\n"
   ]
  },
  {
   "cell_type": "markdown",
   "id": "09683856",
   "metadata": {},
   "source": [
    "\n",
    "Al implementar estas estrategias, es importante ser paciente y flexible, ya que la resistencia puede disminuir gradualmente a medida que los estudiantes se familiarizan con la actividad y perciben su valor. ¡Buena suerte con tu curso!"
   ]
  },
  {
   "cell_type": "markdown",
   "id": "35d3fec8",
   "metadata": {},
   "source": [
    "# [Nuevo diseño de clase fruto de la asistencia a la conferencia sobre didáctica de las superficies cuádricas con GeoGebra.](https://www.youtube.com/watch?v=Dcsl2sggQtY) "
   ]
  },
  {
   "cell_type": "markdown",
   "id": "61301aa9",
   "metadata": {},
   "source": [
    "# Clase: \"Las superficies cuádricas con Python y su aplicación a Ingeniería Agropecuaria\"\n"
   ]
  },
  {
   "cell_type": "markdown",
   "id": "ba6879a9",
   "metadata": {},
   "source": [
    "\n",
    "## 1. Título de la clase\n",
    "**Exploración y Modelado con Superficies Cuádricas en Aplicaciones Agropecuarias con Python**\n"
   ]
  },
  {
   "cell_type": "markdown",
   "id": "d142c6db",
   "metadata": {},
   "source": [
    "\n",
    "## 2. Objetivos de aprendizaje e indicadores de logro\n",
    "\n",
    "### Objetivos de aprendizaje:\n",
    "1. Comprender las propiedades físicas, geométricas y algebraicas de las superficies cuádricas.\n",
    "2. Aplicar Python y bibliotecas de visualización para representar y analizar superficies cuádricas.\n",
    "3. Relacionar las superficies cuádricas con problemas agropecuarios, como la distribución del agua en terrenos irregulares y el diseño de estructuras agrícolas.\n",
    "4. Desarrollar habilidades computacionales y de modelado matemático en un contexto de aprendizaje experimental.\n",
    "\n",
    "### Indicadores de logro:\n",
    "- Identifica y clasifica superficies cuádricas según sus propiedades físicas.\n",
    "- Representa gráficamente superficies cuádricas utilizando Python y sus bibliotecas.\n",
    "- Resuelve problemas agropecuarios utilizando ecuaciones cuádricas.\n",
    "- Diseña modelos computacionales interactivos en Jupyter Notebook.\n"
   ]
  },
  {
   "cell_type": "markdown",
   "id": "d48f1591",
   "metadata": {},
   "source": [
    "\n",
    "## 3. Mapa conceptual jerárquico en Graphviz\n"
   ]
  },
  {
   "cell_type": "markdown",
   "id": "c987ae5a",
   "metadata": {},
   "source": [
    "\n",
    "Se generará un mapa conceptual en Graphviz y se guardará en la ubicación:\n"
   ]
  },
  {
   "cell_type": "code",
   "execution_count": 14,
   "id": "c246805e",
   "metadata": {},
   "outputs": [
    {
     "data": {
      "text/plain": [
       "'C:\\\\Users\\\\marco\\\\Descargas\\\\superficies_cuadricas.png'"
      ]
     },
     "execution_count": 14,
     "metadata": {},
     "output_type": "execute_result"
    }
   ],
   "source": [
    "\n",
    "from graphviz import Digraph\n",
    "\n",
    "dot = Digraph()\n",
    "\n",
    "dot.node('A', 'Superficies Cuádricas', shape='box', style='filled', fillcolor='lightblue')\n",
    "dot.node('B', 'Propiedades Físicas', shape='ellipse', style='filled', fillcolor='lightgray')\n",
    "dot.node('C', 'Propiedades Geométricas', shape='ellipse', style='filled', fillcolor='lightgray')\n",
    "dot.node('D', 'Propiedades Algebraicas', shape='ellipse', style='filled', fillcolor='lightgray')\n",
    "dot.node('E', 'Aplicaciones Agropecuarias', shape='diamond', style='filled', fillcolor='lightgreen')\n",
    "\n",
    "dot.edge('A', 'B')\n",
    "dot.edge('A', 'C')\n",
    "dot.edge('A', 'D')\n",
    "dot.edge('A', 'E')\n",
    "\n",
    "dot.render('C:\\\\Users\\\\marco\\\\Descargas\\\\superficies_cuadricas', format='png',\\\n",
    "   view = True)\n",
    "\n"
   ]
  },
  {
   "cell_type": "markdown",
   "id": "fcda68fe",
   "metadata": {},
   "source": [
    "\n",
    "## 4. Contenido de la clase\n",
    "\n",
    "1. **Propiedades Físicas**\n",
    "   - Relación entre superficies cuádricas y fenómenos agropecuarios.\n",
    "   - Modelado de suelos y reservorios de agua.\n",
    "   \n",
    "2. **Propiedades Geométricas**\n",
    "   - Curvatura y secciones cónicas.\n",
    "   - Intersecciones con planos y relevancia en ingeniería agropecuaria.\n",
    "   \n",
    "3. **Propiedades Algebraicas**\n",
    "   - Formulación general de las superficies cuádricas.\n",
    "   - Implementación computacional en Python.\n",
    "\n",
    "## 5. Elementos epistemológicos e históricos\n",
    "- Historia del estudio de superficies cuádricas desde la geometría clásica.\n",
    "- Uso moderno en la modelación digital de terrenos.\n"
   ]
  },
  {
   "cell_type": "markdown",
   "id": "442922db",
   "metadata": {},
   "source": [
    "\n",
    "## 6. Actividades de aprendizaje\n",
    "- Visualización interactiva de superficies cuádricas con Plotly.\n",
    "- Animaciones en Matplotlib para cambiar parámetros y observar efectos.\n",
    "- Implementación de modelos predictivos de distribución de agua en el terreno.\n"
   ]
  },
  {
   "cell_type": "markdown",
   "id": "08142155",
   "metadata": {},
   "source": [
    "\n",
    "## 7. Poema\n",
    "**\"Las formas de la Tierra\"**\n",
    "Las cúpulas y los valles danzan,  \n",
    "sus ecuaciones las describen al azar.  \n",
    "Hipérbolas y esferas nos muestran,  \n",
    "la más pura belleza del calcular.  \n"
   ]
  },
  {
   "cell_type": "markdown",
   "id": "27a70e2f",
   "metadata": {},
   "source": [
    "\n",
    "## 8. Tarea o actividades de ejercitación y fijación\n",
    "- Implementar un modelo de elevación del terreno con datos simulados.\n",
    "- Analizar intersecciones de superficies con líneas de nivel.\n"
   ]
  },
  {
   "cell_type": "markdown",
   "id": "5624f595",
   "metadata": {},
   "source": [
    "\n",
    "## 9. Evaluación\n",
    "### Proyectos:\n",
    "1. Modelado de un reservorio de agua.\n",
    "2. Diseño de un invernadero eficiente.\n",
    "3. Cálculo de sombra en cultivos.\n",
    "4. Predicción de acumulación de agua en terrenos.\n",
    "5. Simulación de crecimiento de plantas en distintas topografías.\n",
    "6. Estudio de escurrimiento de agua en laderas.\n",
    "7. Modelado de movimiento de plagas.\n",
    "8. Construcción de una bodega con techo parabólico.\n",
    "9. Optimización de caminos rurales.\n",
    "10. Modelado de contaminantes en el suelo.\n"
   ]
  },
  {
   "cell_type": "markdown",
   "id": "a758998e",
   "metadata": {},
   "source": [
    "\n",
    "### Quiz de ejemplo:\n",
    "Pregunta: Representa y describe la ecuación de un paraboloide hiperbólico.\n"
   ]
  },
  {
   "cell_type": "markdown",
   "id": "32bedd99",
   "metadata": {},
   "source": [
    "\n",
    "### Parcial de ejemplo:\n",
    "1. Explica la importancia de las superficies cuádricas en ingeniería agropecuaria.\n",
    "2. Modela una superficie dada en Python e interpreta los resultados.\n"
   ]
  },
  {
   "cell_type": "markdown",
   "id": "21faca25",
   "metadata": {},
   "source": [
    "\n",
    "## 10. Diseño de actividad de retroalimentación\n",
    "- Foro de discusión en Jupyter Notebook.\n",
    "- Feedback automatizado con ipywidgets.\n"
   ]
  },
  {
   "cell_type": "markdown",
   "id": "227e66bb",
   "metadata": {},
   "source": [
    "\n",
    "## 11. Vocabulario y frases en inglés\n",
    "\n",
    "- **Quadratic Surface** - Superficie cuádrica\n",
    "- **Hyperboloid** - Hiperboloide\n",
    "- **Ellipsoid** - Elipsoide\n",
    "- **Paraboloid** - Paraboloide\n",
    "- **Agricultural Engineering** - Ingeniería Agropecuaria\n",
    "- **Topographic modeling** - Modelado topográfico\n",
    "- **Water distribution** - Distribución de agua\n",
    "- **Curvature** - Curvatura\n",
    "- **Intersection** - Intersección\n",
    "- \"Quadratic surfaces help us understand and design efficient agricultural structures.\"\n",
    "- \"By modeling topographic features, we can optimize water distribution.\"\n",
    "\n",
    "Este diseño permite un aprendizaje experimental y basado en problemas utilizando Python en Jupyter Notebook, promoviendo el aprendizaje significativo y aplicado en la Ingeniería Agropecuaria.\n",
    "\n"
   ]
  },
  {
   "cell_type": "markdown",
   "id": "10bf1027",
   "metadata": {},
   "source": [
    "[Video de apoyo a la presentación de la estructura de esta clase](https://www.youtube.com/watch?v=9OOiPZNC_aE) "
   ]
  },
  {
   "cell_type": "markdown",
   "id": "2ea0d238",
   "metadata": {},
   "source": [
    "# Implementación de este nuevo diseño de clase    \n"
   ]
  },
  {
   "cell_type": "markdown",
   "id": "95e05f8f",
   "metadata": {},
   "source": [
    "\n",
    "# Clase: \"Las superficies cuádricas con Python y su aplicación a Ingeniería Agropecuaria\"\n",
    "\n",
    "## 1. Título de la clase\n",
    "**Exploración y Modelado de Superficies Cuádricas en Aplicaciones Agropecuarias con Python**\n",
    "\n",
    "## 2. Objetivos de aprendizaje e indicadores de logro\n",
    "\n",
    "### Objetivos de aprendizaje:\n",
    "1. Comprender las propiedades físicas, geométricas y algebraicas de las superficies cuádricas.\n",
    "2. Aplicar Python y bibliotecas de visualización para representar y analizar superficies cuádricas.\n",
    "3. Relacionar las superficies cuádricas con problemas agropecuarios, como la distribución del agua en terrenos irregulares y el diseño de estructuras agrícolas.\n",
    "4. Desarrollar habilidades computacionales y de modelado matemático en un contexto de aprendizaje experimental.\n",
    "\n",
    "### Indicadores de logro:\n",
    "- Identifica y clasifica superficies cuádricas según sus propiedades físicas.\n",
    "- Representa gráficamente superficies cuádricas utilizando Python y sus bibliotecas.\n",
    "- Resuelve problemas agropecuarios utilizando ecuaciones cuádricas.\n",
    "- Diseña modelos computacionales interactivos en Jupyter Notebook.\n",
    "\n",
    "## 3. Mapa conceptual jerárquico en Graphviz\n",
    "\n",
    "Se generará un mapa conceptual en Graphviz y se guardará en la ubicación:\n"
   ]
  },
  {
   "cell_type": "code",
   "execution_count": 13,
   "id": "98cfd53d",
   "metadata": {},
   "outputs": [
    {
     "data": {
      "text/plain": [
       "'C:\\\\Users\\\\marco\\\\Descargas\\\\superficies_cuadricas.png'"
      ]
     },
     "execution_count": 13,
     "metadata": {},
     "output_type": "execute_result"
    }
   ],
   "source": [
    "from graphviz import Digraph\n",
    "\n",
    "dot = Digraph()\n",
    "\n",
    "dot.node('A', 'Superficies Cuádricas', shape='box', style='filled', fillcolor='lightblue')\n",
    "dot.node('B', 'Propiedades Físicas', shape='ellipse', style='filled', fillcolor='lightgray')\n",
    "dot.node('C', 'Propiedades Geométricas', shape='ellipse', style='filled', fillcolor='lightgray')\n",
    "dot.node('D', 'Propiedades Algebraicas', shape='ellipse', style='filled', fillcolor='lightgray')\n",
    "dot.node('E', 'Aplicaciones Agropecuarias', shape='diamond', style='filled', fillcolor='lightgreen')\n",
    "\n",
    "dot.edge('A', 'B')\n",
    "dot.edge('A', 'C')\n",
    "dot.edge('A', 'D')\n",
    "dot.edge('A', 'E')\n",
    "\n",
    "dot.render('C:\\\\Users\\\\marco\\\\Descargas\\\\superficies_cuadricas', format='png', view = True)\n",
    "\n"
   ]
  },
  {
   "cell_type": "markdown",
   "id": "3ea2fc94",
   "metadata": {},
   "source": [
    "\n",
    "## 4. Contenido de la clase\n",
    "\n",
    "1. **Propiedades Físicas**\n",
    "   - Relación entre superficies cuádricas y fenómenos agropecuarios.\n",
    "   - Modelado de suelos y reservorios de agua.\n",
    "   \n",
    "2. **Propiedades Geométricas**\n",
    "   - Curvatura y secciones cónicas.\n",
    "   - Intersecciones con planos y relevancia en ingeniería agropecuaria.\n",
    "   \n",
    "3. **Propiedades Algebraicas**\n",
    "   - Formulación general de las superficies cuádricas.\n",
    "   - Implementación computacional en Python.\n",
    "\n",
    "## 5. Elementos epistemológicos e históricos\n",
    "- Historia del estudio de superficies cuádricas desde la geometría clásica.\n",
    "- Uso moderno en la modelación digital de terrenos.\n",
    "\n",
    "## 6. Actividades de aprendizaje\n",
    "- Visualización interactiva de superficies cuádricas con Plotly.\n",
    "- Animaciones en Matplotlib para cambiar parámetros y observar efectos.\n",
    "- Implementación de modelos predictivos de distribución de agua en el terreno.\n",
    "\n",
    "## 7. Poema\n",
    "**\"Las formas de la Tierra\"**\n",
    "Las cúpulas y los valles danzan,\n",
    "sus ecuaciones las describen al azar.\n",
    "Hipérbolas y esferas nos muestran,\n",
    "la más pura belleza del calcular.\n",
    "\n",
    "## 8. Tarea o actividades de ejercitación y fijación\n",
    "- Implementar un modelo de elevación del terreno con datos simulados.\n",
    "- Analizar intersecciones de superficies con líneas de nivel.\n",
    "\n",
    "## 9. Evaluación\n",
    "### Proyectos:\n",
    "1. Modelado de un reservorio de agua.\n",
    "2. Diseño de un invernadero eficiente.\n",
    "3. Cálculo de sombra en cultivos.\n",
    "4. Predicción de acumulación de agua en terrenos.\n",
    "5. Simulación de crecimiento de plantas en distintas topografías.\n",
    "6. Estudio de escurrimiento de agua en laderas.\n",
    "7. Modelado de movimiento de plagas.\n",
    "8. Construcción de una bodega con techo parabólico.\n",
    "9. Optimización de caminos rurales.\n",
    "10. Modelado de contaminantes en el suelo.\n",
    "\n",
    "### Quiz de ejemplo:\n",
    "Pregunta: Representa y describe la ecuación de un paraboloide hiperbólico.\n",
    "\n",
    "### Parcial de ejemplo:\n",
    "1. Explica la importancia de las superficies cuádricas en ingeniería agropecuaria.\n",
    "2. Modela una superficie dada en Python e interpreta los resultados.\n",
    "\n",
    "## 10. Diseño de actividad de retroalimentación\n",
    "- Foro de discusión en Jupyter Notebook.\n",
    "- Feedback automatizado con ipywidgets.\n",
    "\n",
    "## 11. Vocabulario y frases en inglés\n",
    "\n",
    "- **Quadratic Surface** - Superficie cuádrica\n",
    "- **Hyperboloid** - Hiperboloide\n",
    "- **Ellipsoid** - Elipsoide\n",
    "- **Paraboloid** - Paraboloide\n",
    "- **Agricultural Engineering** - Ingeniería Agropecuaria\n",
    "- **Topographic modeling** - Modelado topográfico\n",
    "- **Water distribution** - Distribución de agua\n",
    "- **Curvature** - Curvatura\n",
    "- **Intersection** - Intersección\n",
    "- \"Quadratic surfaces help us understand and design efficient agricultural structures.\"\n",
    "- \"By modeling topographic features, we can optimize water distribution.\"\n",
    "\n",
    "Este diseño permite un aprendizaje experimental y basado en problemas utilizando Python en Jupyter Notebook, promoviendo el aprendizaje significativo y aplicado en la Ingeniería Agropecuaria.\n",
    "\n",
    "\n",
    "\n"
   ]
  },
  {
   "cell_type": "markdown",
   "id": "4be5588c",
   "metadata": {},
   "source": [
    "# Lista de referentes didácticos que sustenten el modelo ABPP para superficies cuadricas.   \n",
    "\n",
    "\n",
    "A continuación, se presenta una lista de referentes en didáctica del cálculo vectorial y de varias variables que respaldan la implementación de un enfoque de Aprendizaje Basado en Problemas y Proyectos (ABPP). Este enfoque sigue una secuencia didáctica que transita desde las propiedades físicas (PF) de las superficies cuádricas, pasando por las propiedades geométricas (PG), hasta llegar a las propiedades algebraicas (PA), es decir, PF → PG → PA.\n",
    "\n",
    "1. Ramírez Urrego, J. H. (2016). *Secuencia didáctica para la enseñanza del álgebra vectorial a partir de la Geometría Euclidiana y Analítica* [Trabajo de grado, Universidad Nacional de Colombia]. Repositorio Institucional UNAL. https://repositorio.unal.edu.co/handle/unal/57803\n",
    "\n",
    "   Este trabajo propone una secuencia didáctica progresiva para la enseñanza del álgebra vectorial, iniciando desde conceptos geométricos hasta llegar a estructuras algebraicas formales, enfatizando la importancia de las representaciones físicas y geométricas en la comprensión de conceptos abstractos.\n",
    "\n",
    "2. Gómez Moreno, F. (2022). Aprendizaje Basado en Proyectos para el desarrollo de la competencia matemática razonamiento y argumentación en la asignatura de geometría. *Ciencia Latina Revista Científica Multidisciplinar*, 6(5). https://doi.org/10.37811/cl_rcm.v6i5.3339\n",
    "\n",
    "   Este artículo destaca la eficacia del Aprendizaje Basado en Proyectos en la enseñanza de la geometría, promoviendo un aprendizaje activo que integra diferentes áreas del conocimiento y fomenta el razonamiento y la argumentación matemática.\n",
    "\n",
    "3. Moreno, A. (2024, septiembre 23). Más trabajo en grupo, menos miedo al error o implicar a todos los profesores: las recetas para mejorar en matemáticas y lectura. *Cadena SER*. https://cadenaser.com/nacional/2024/09/23/mas-trabajo-en-grupo-menos-miedo-al-error-o-implicar-a-todos-los-profesores-las-recetas-para-mejorar-en-matematicas-y-lectura-cadena-ser/\n",
    "\n",
    "   En este artículo, Antonio Moreno, presidente del Comité Español de Matemáticas, sugiere cambiar la percepción del error en el aula para verlo como una oportunidad de aprendizaje y promover el trabajo en grupo para generar razonamiento crítico, aspectos clave en metodologías ABPP.\n",
    "\n",
    "4. Ramírez Urrego, J. H. (2016). *Secuencia didáctica para la enseñanza del álgebra vectorial a partir de la Geometría Euclidiana y Analítica* [Trabajo de grado, Universidad Nacional de Colombia]. Repositorio Institucional UNAL. https://repositorio.unal.edu.co/handle/unal/57803\n",
    "\n",
    "   Este trabajo propone una secuencia didáctica que inicia con la comprensión de conceptos geométricos y físicos, avanzando hacia representaciones algebraicas, facilitando la transición de lo concreto a lo abstracto en el aprendizaje del álgebra vectorial.\n",
    "\n",
    "5. Gómez Moreno, F. (2022). Aprendizaje Basado en Proyectos para el desarrollo de la competencia matemática razonamiento y argumentación en la asignatura de geometría. *Ciencia Latina Revista Científica Multidisciplinar*, 6(5). https://doi.org/10.37811/cl_rcm.v6i5.3339\n",
    "\n",
    "   Este artículo presenta una estrategia didáctica basada en proyectos que integra áreas como lenguaje, educación artística y matemática, promoviendo un aprendizaje interdisciplinar y contextualizado en la enseñanza de la geometría.\n",
    "\n",
    "Estos referentes respaldan la implementación de una secuencia didáctica que transita desde las propiedades físicas, pasando por las geométricas, hasta las algebraicas en la enseñanza de superficies cuádricas, dentro de un enfoque de Aprendizaje Basado en Problemas y Proyectos. \n"
   ]
  },
  {
   "cell_type": "markdown",
   "id": "6bb94a5a",
   "metadata": {},
   "source": [
    "# Diseño de Clase: Las Superficies Cuádricas con Python\n"
   ]
  },
  {
   "cell_type": "markdown",
   "id": "5a8edb9a",
   "metadata": {},
   "source": [
    "\n",
    "## 1. Título de la Clase\n",
    "**Explorando las Superficies Cuádricas con Python: Visualización y Aplicaciones en la Ingeniería Agropecuaria**\n",
    "\n",
    "---\n"
   ]
  },
  {
   "cell_type": "markdown",
   "id": "710d1243",
   "metadata": {},
   "source": [
    "\n",
    "## 2. Objetivos de Aprendizaje e Indicadores del Logro\n",
    "\n",
    "### **Objetivos de Aprendizaje**\n"
   ]
  },
  {
   "cell_type": "markdown",
   "id": "c9310623",
   "metadata": {},
   "source": [
    "1. Comprender la clasificación y las ecuaciones generales de las superficies cuádricas.\n",
    "2. Visualizar superficies cuádricas mediante el uso de Python y bibliotecas de visualización.\n",
    "3. Aplicar el conocimiento de superficies cuádricas en problemas relacionados con la Ingeniería Agropecuaria.\n",
    "4. Fomentar el aprendizaje basado en problemas y proyectos mediante la modelización de superficies cuádricas.\n"
   ]
  },
  {
   "cell_type": "markdown",
   "id": "03f4b7d1",
   "metadata": {},
   "source": [
    "\n",
    "### **Indicadores del Logro**\n",
    "- Identifica y clasifica correctamente los diferentes tipos de superficies cuádricas.\n",
    "- Implementa funciones en Python para graficar y analizar superficies cuádricas.\n",
    "- Diseña experimentos en Jupyter Notebook utilizando herramientas de visualización interactivas.\n",
    "- Aplica el concepto de superficies cuádricas en problemas agropecuarios, como modelado del terreno y distribución del agua en cultivos.\n",
    "\n",
    "---\n"
   ]
  },
  {
   "cell_type": "markdown",
   "id": "4d8f2e8a",
   "metadata": {},
   "source": [
    "\n",
    "## 3. Mapa Conceptual Jerárquico en Graphviz\n",
    "\n",
    "El siguiente código genera un mapa conceptual en Graphviz y lo guarda en la ruta especificada:\n"
   ]
  },
  {
   "cell_type": "code",
   "execution_count": 9,
   "id": "e6d1ad1b",
   "metadata": {},
   "outputs": [
    {
     "data": {
      "text/plain": [
       "'C:\\\\Users\\\\marco\\\\Descargas\\\\superficies_cuadricas.png'"
      ]
     },
     "execution_count": 9,
     "metadata": {},
     "output_type": "execute_result"
    }
   ],
   "source": [
    "from graphviz import Digraph\n",
    "\n",
    "dot = Digraph('Superficies Cuadricas')\n",
    "\n",
    "dot.attr(size='10')\n",
    "dot.node('SC', 'Superficies Cuádricas', shape='box', style='filled', fillcolor='lightblue')\n",
    "\n",
    "dot.node('E1', 'Ecuación General', shape='ellipse', style='filled', fillcolor='lightgray')\n",
    "dot.node('T1', 'Superficie Elipsoidal', shape='diamond', style='filled', fillcolor='lightgreen')\n",
    "dot.node('T2', 'Superficie Hiperbólica', shape='diamond', style='filled', fillcolor='orange')\n",
    "dot.node('T3', 'Paraboloide', shape='diamond', style='filled', fillcolor='yellow')\n",
    "\n",
    "dot.edge('SC', 'E1')\n",
    "dot.edge('SC', 'T1')\n",
    "dot.edge('SC', 'T2')\n",
    "dot.edge('SC', 'T3')\n",
    "\n",
    "ruta_guardado = r\"C:\\Users\\marco\\Descargas\\superficies_cuadricas\"\n",
    "\n",
    "dot.render(ruta_guardado, format='png', view=True)\n",
    "\n"
   ]
  },
  {
   "cell_type": "markdown",
   "id": "4c4e0656",
   "metadata": {},
   "source": [
    "\n",
    "---\n",
    "\n",
    "## 4. Contenido de la Clase\n",
    "- Definición y ecuaciones generales de las superficies cuádricas.\n",
    "- Tipos de superficies cuádricas: elipsoides, hiperboloides, paraboloides.\n",
    "- Aplicaciones en Ingeniería Agropecuaria: modelado del relieve y almacenamiento de agua.\n",
    "- Implementación en Python:\n",
    "  - Creación de funciones para graficar superficies.\n",
    "  - Uso de widgets interactivos en Jupyter Notebook.\n",
    "\n",
    "---\n"
   ]
  },
  {
   "cell_type": "markdown",
   "id": "7d9aac8a",
   "metadata": {},
   "source": [
    "\n",
    "## 5. Elementos Epistemológicos e Históricos\n",
    "- Desarrollo histórico de las superficies cuádricas desde la geometría analítica de Descartes.\n",
    "- Aplicaciones modernas en modelado matemático y visualización computacional.\n",
    "\n",
    "---\n"
   ]
  },
  {
   "cell_type": "markdown",
   "id": "49ea521b",
   "metadata": {},
   "source": [
    "\n",
    "## 6. Actividades de Aprendizaje\n",
    "1. **Experimentos en Jupyter Notebook**: Gráficas interactivas de superficies cuádricas.\n",
    "2. **Análisis de Terrenos**: Modelar la forma de una zona de cultivo.\n",
    "3. **Desafío de Programación**: Implementar una función en Python que genere cualquier superficie cuádrica a partir de sus parámetros.\n",
    "\n",
    "---\n"
   ]
  },
  {
   "cell_type": "markdown",
   "id": "865ef0ee",
   "metadata": {},
   "source": [
    "\n",
    "## 7. Canción o Poema\n",
    "**Poema Matemático**: *Las Curvas del Espacio*\n",
    "\n",
    "> Entre curvas y ecuaciones,  \n",
    "> surgen formas en tres dimensiones.  \n",
    "> Desde un elipsoide hasta un paraboloide,  \n",
    "> el cálculo nos da el horizonte.\n",
    "\n",
    "---\n"
   ]
  },
  {
   "cell_type": "markdown",
   "id": "d6476440",
   "metadata": {},
   "source": [
    "\n",
    "## 8. Tarea o Actividades de Ejercitación\n",
    "- Resolver ejercicios de clasificación de superficies cuádricas.\n",
    "- Implementar una función en Python para graficar hiperboloides.\n",
    "- Analizar la utilidad de superficies cuádricas en Ingeniería Agropecuaria.\n",
    "\n",
    "---\n"
   ]
  },
  {
   "cell_type": "markdown",
   "id": "5343b388",
   "metadata": {},
   "source": [
    "\n",
    "## 9. Evaluación\n",
    "### **Proyectos**\n",
    "1. Modelado de un sistema de riego basado en paraboloides.\n",
    "2. Aplicación de hiperboloides en almacenamiento de granos.\n",
    "\n",
    "### **Ejemplo de Quiz**\n",
    "- Pregunta: Identifique y grafique la superficie cuádrica definida por la ecuación \n",
    "  $$ x^2 + y^2 - z^2 = 1.$$\n"
   ]
  },
  {
   "cell_type": "markdown",
   "id": "d5ce7322",
   "metadata": {},
   "source": [
    "\n",
    "### **Ejemplo de Parcial**\n",
    "- Problema de modelado agropecuario con superficies cuádricas.\n",
    "\n",
    "---\n"
   ]
  },
  {
   "cell_type": "markdown",
   "id": "10bbb515",
   "metadata": {},
   "source": [
    "\n",
    "## 10. Diseño de Actividad de Retroalimentación\n",
    "- Discusión en clase sobre la aplicación de las superficies cuádricas en la Ingeniería Agropecuaria.\n",
    "- Uso de simulaciones en Python para reforzar conceptos.\n",
    "\n",
    "---\n"
   ]
  },
  {
   "cell_type": "markdown",
   "id": "df24aa29",
   "metadata": {},
   "source": [
    "\n",
    "## 11. Vocabulario y Frases en Inglés\n",
    "- **Quadratic Surfaces** (Superficies Cuádricas)\n",
    "- **Ellipsoid** (Elipsoide)\n",
    "- **Hyperboloid** (Hiperboloide)\n",
    "- **Paraboloid** (Paraboloide)\n",
    "- **Agricultural Engineering Applications** (Aplicaciones en Ingeniería Agropecuaria)\n",
    "- **Surface Modeling** (Modelado de Superficies)\n",
    "\n",
    "---\n",
    "\n"
   ]
  },
  {
   "cell_type": "markdown",
   "id": "30255bb4",
   "metadata": {},
   "source": [
    "[Video de apoyo a la presentación de la estructura de esta clase]()"
   ]
  },
  {
   "cell_type": "markdown",
   "id": "a8a30026",
   "metadata": {},
   "source": [
    "# Implementación de esta estructura de clase  \n",
    "\n"
   ]
  },
  {
   "cell_type": "markdown",
   "id": "6542221e",
   "metadata": {},
   "source": [
    "# Diseño de Clase: Las Superficies Cuádricas con Python\n"
   ]
  },
  {
   "cell_type": "markdown",
   "id": "378c12fa",
   "metadata": {},
   "source": [
    "\n",
    "## 1. Título de la Clase\n",
    "**Explorando las Superficies Cuádricas con Python: Visualización y Aplicaciones en la Ingeniería Agropecuaria**\n",
    "\n",
    "---\n"
   ]
  },
  {
   "cell_type": "markdown",
   "id": "8da50853",
   "metadata": {},
   "source": [
    "\n",
    "## 2. Objetivos de Aprendizaje e Indicadores del Logro\n",
    "\n",
    "### **Objetivos de Aprendizaje**\n",
    "1. Comprender la clasificación y las ecuaciones generales de las superficies cuádricas.\n",
    "2. Visualizar superficies cuádricas mediante el uso de Python y bibliotecas de visualización.\n",
    "3. Aplicar el conocimiento de superficies cuádricas en problemas relacionados con la Ingeniería Agropecuaria.\n",
    "4. Fomentar el aprendizaje basado en problemas y proyectos mediante la modelización de superficies cuádricas.\n",
    "\n",
    "### **Indicadores del Logro**\n",
    "- Identifica y clasifica correctamente los diferentes tipos de superficies cuádricas.\n",
    "- Implementa funciones en Python para graficar y analizar superficies cuádricas.\n",
    "- Diseña experimentos en Jupyter Notebook utilizando herramientas de visualización interactivas.\n",
    "- Aplica el concepto de superficies cuádricas en problemas agropecuarios, como modelado del terreno y distribución del agua en cultivos.\n",
    "\n",
    "---\n"
   ]
  },
  {
   "cell_type": "markdown",
   "id": "d88ab13d",
   "metadata": {},
   "source": [
    "\n",
    "## 3. Mapa Conceptual Jerárquico en Graphviz\n",
    "\n",
    "El siguiente código genera un mapa conceptual en Graphviz y lo guarda en la ruta especificada:\n"
   ]
  },
  {
   "cell_type": "code",
   "execution_count": 11,
   "id": "46183e53",
   "metadata": {},
   "outputs": [
    {
     "data": {
      "text/plain": [
       "'C:\\\\Users\\\\marco\\\\Descargas\\\\superficies_cuadricas.png'"
      ]
     },
     "execution_count": 11,
     "metadata": {},
     "output_type": "execute_result"
    }
   ],
   "source": [
    "from graphviz import Digraph\n",
    "\n",
    "dot = Digraph('Superficies Cuadricas')\n",
    "\n",
    "dot.attr(size='10')\n",
    "dot.node('SC', 'Superficies Cuádricas', shape='box', style='filled', fillcolor='lightblue')\n",
    "\n",
    "dot.node('E1', 'Ecuación General', shape='ellipse', style='filled', fillcolor='lightgray')\n",
    "dot.node('T1', 'Superficie Elipsoidal', shape='diamond', style='filled', fillcolor='lightgreen')\n",
    "dot.node('T2', 'Superficie Hiperbólica', shape='diamond', style='filled', fillcolor='orange')\n",
    "dot.node('T3', 'Paraboloide', shape='diamond', style='filled', fillcolor='yellow')\n",
    "\n",
    "dot.edge('SC', 'E1')\n",
    "dot.edge('SC', 'T1')\n",
    "dot.edge('SC', 'T2')\n",
    "dot.edge('SC', 'T3')\n",
    "\n",
    "ruta_guardado = r\"C:\\Users\\marco\\Descargas\\superficies_cuadricas\"\n",
    "dot.render(ruta_guardado, format='png', view = True)\n",
    "\n"
   ]
  },
  {
   "cell_type": "markdown",
   "id": "d69546d7",
   "metadata": {},
   "source": [
    "\n",
    "---\n",
    "\n",
    "## 4. Contenido de la Clase\n",
    "- Definición y ecuaciones generales de las superficies cuádricas.\n",
    "- Tipos de superficies cuádricas: elipsoides, hiperboloides, paraboloides.\n",
    "- Aplicaciones en Ingeniería Agropecuaria: modelado del relieve y almacenamiento de agua.\n",
    "- Implementación en Python:\n",
    "  - Creación de funciones para graficar superficies.\n",
    "  - Uso de widgets interactivos en Jupyter Notebook.\n",
    "\n",
    "---\n"
   ]
  },
  {
   "cell_type": "markdown",
   "id": "d38c71d5",
   "metadata": {},
   "source": [
    "\n",
    "## 5. Elementos Epistemológicos e Históricos\n",
    "- Desarrollo histórico de las superficies cuádricas desde la geometría analítica de Descartes.\n",
    "- Aplicaciones modernas en modelado matemático y visualización computacional.\n",
    "\n",
    "---\n"
   ]
  },
  {
   "cell_type": "markdown",
   "id": "0bb6cfce",
   "metadata": {},
   "source": [
    "\n",
    "## 6. Actividades de Aprendizaje\n",
    "1. **Experimentos en Jupyter Notebook**: Gráficas interactivas de superficies cuádricas.\n",
    "2. **Análisis de Terrenos**: Modelar la forma de una zona de cultivo.\n",
    "3. **Desafío de Programación**: Implementar una función en Python que genere cualquier superficie cuádrica a partir de sus parámetros.\n",
    "\n",
    "---\n"
   ]
  },
  {
   "cell_type": "markdown",
   "id": "39d11123",
   "metadata": {},
   "source": [
    "\n",
    "## 7. Canción o Poema\n",
    "**Poema Matemático**: *Las Curvas del Espacio*\n",
    "\n",
    "> Entre curvas y ecuaciones,\n",
    "> surgen formas en tres dimensiones.\n",
    "> Desde un elipsoide hasta un paraboloide,\n",
    "> el cálculo nos da el horizonte.\n",
    "\n",
    "---\n"
   ]
  },
  {
   "cell_type": "markdown",
   "id": "6abbb317",
   "metadata": {},
   "source": [
    "\n",
    "## 8. Tarea o Actividades de Ejercitación\n",
    "- Resolver ejercicios de clasificación de superficies cuádricas.\n",
    "- Implementar una función en Python para graficar hiperboloides.\n",
    "- Analizar la utilidad de superficies cuádricas en Ingeniería Agropecuaria.\n",
    "- Elabora una animación con ipywidgets para mostrar las trazas de un hiperboloide.\n",
    "- Elabora una animación con ipywidgets para mostrar las trazas de un paraboloide circular generadas por un plano perpendicular al eje del paraboloide.\n",
    "\n",
    "---\n"
   ]
  },
  {
   "cell_type": "markdown",
   "id": "9e08e7c3",
   "metadata": {},
   "source": [
    "\n",
    "## 9. Evaluación\n",
    "### **Proyectos**\n",
    "1. Modelado de un sistema de riego basado en paraboloides.\n",
    "2. Aplicación de hiperboloides en almacenamiento de granos.\n",
    "\n",
    "### **Ejemplo de Quiz**\n",
    "- Pregunta: Identifique y grafique la superficie cuádrica definida por la ecuación $x^2 + y^2 - z^2 = 1$.\n",
    "\n",
    "### **Ejemplo de Parcial**\n",
    "- Problema de modelado agropecuario con superficies cuádricas.\n",
    "- Problemas de descripción de la intersección de superficies cuádricas con planos. \n",
    "\n",
    "---\n"
   ]
  },
  {
   "cell_type": "markdown",
   "id": "6417d4d4",
   "metadata": {},
   "source": [
    "\n",
    "## 10. Diseño de Actividad de Retroalimentación\n",
    "- Discusión en clase sobre la aplicación de las superficies cuádricas en la Ingeniería Agropecuaria.\n",
    "- Uso de simulaciones en Python para reforzar conceptos.\n",
    "\n",
    "---\n"
   ]
  },
  {
   "cell_type": "markdown",
   "id": "982ae98b",
   "metadata": {},
   "source": [
    "\n",
    "## 11. Vocabulario y Frases en Inglés\n",
    "- **Quadratic Surfaces** (Superficies Cuádricas)\n",
    "- **Ellipsoid** (Elipsoide)\n",
    "- **Hyperboloid** (Hiperboloide)\n",
    "- **Paraboloid** (Paraboloide)\n",
    "- **Agricultural Engineering Applications** (Aplicaciones en Ingeniería Agropecuaria)\n",
    "- **Surface Modeling** (Modelado de Superficies)\n",
    "\n",
    "---\n",
    "\n"
   ]
  },
  {
   "cell_type": "markdown",
   "id": "239427f7",
   "metadata": {},
   "source": [
    "# ARTÍCULO 1. Definir el calendario académico para los diferentes programas de pregrado de los campus\n",
    "regionalizados, correspondiente al primer periodo académico del año 2025, así:\n",
    "* Oferta 28 de enero de 2025\n",
    "* Matrícula 30 de enero de 2025\n",
    "* Ajustes 03 al 10 de febrero de 2025\n",
    "* Inicio de clases 10 de febrero de 2025\n",
    "* Límite evaluación del 40% 06 de abril de 2025\n",
    "* Terminación de clases 08 de junio de 2025\n",
    "* Exámenes finales 09 al 15 de junio de 2025\n",
    "* Habilitación y validación 16 al 22 de junio de 2025\n",
    "* Terminación oficial 23 de junio de 2025"
   ]
  },
  {
   "cell_type": "code",
   "execution_count": null,
   "id": "ec048afb",
   "metadata": {},
   "outputs": [],
   "source": []
  },
  {
   "cell_type": "code",
   "execution_count": null,
   "id": "c804f8d3",
   "metadata": {},
   "outputs": [],
   "source": []
  },
  {
   "cell_type": "code",
   "execution_count": null,
   "id": "cc539357",
   "metadata": {},
   "outputs": [],
   "source": []
  },
  {
   "cell_type": "markdown",
   "id": "740f3401",
   "metadata": {
    "slideshow": {
     "slide_type": "slide"
    }
   },
   "source": [
    "# Componente de manejo de calculadora Casio asociado al objetivo de aprendizaje de esta clase  \n",
    "\n",
    "## Pasos para lograr el objetivo de aprendizaje con la experimentación en la calculadora Casio 991LA cw  "
   ]
  },
  {
   "cell_type": "markdown",
   "id": "8ba64aed",
   "metadata": {},
   "source": [
    "# Cursos que orienta el profesor Marco Julio Cañas Campillo en 2025  \n",
    "\n",
    "1. Práctica Pedagógica V para Licenciatura en Educación Infantil\n",
    "2. Fundamentos de Lógica para Licenciatura en Matemáticas \n",
    "3. Análisis Numérico para Licenciatura en Matemáticas. \n",
    "4. Cálculo Vectorial para Ingeniería Agropecuaria"
   ]
  },
  {
   "cell_type": "markdown",
   "id": "8d41fe58",
   "metadata": {
    "slideshow": {
     "slide_type": "slide"
    }
   },
   "source": [
    "# Horario de clases del profesor Marco\n",
    "\n",
    "* Lunes 8-12: Cálculo Vectorial\n",
    "* Martes 8-12 M: Fundamentos de Aritmética. \n",
    "* Miércoles 8 a 12 M: Fundamentos de la Lógica\n",
    "* Jueves 2 a 6 PM: Desarrollo del pensamiento matemático en la infancia. \n",
    "* Viernes 8 - 12 M: Desarrollo del pensamiento matemático en la infancia. \n",
    "* Sábados 8-12 Asesorías y espacio para retroalimentación y apoyo al trabajo independiente. "
   ]
  },
  {
   "cell_type": "markdown",
   "id": "ae114e14",
   "metadata": {
    "slideshow": {
     "slide_type": "slide"
    }
   },
   "source": [
    "# Horarios de monitoría y asesoría  \n",
    "\n",
    "Coordinador de los cursos de la Facultad de Educación para regiones:    \n",
    "\n",
    "Andrés Vélez: regioneducacion.fedu@udea.edu.co  \n",
    "Coordinador Regiones  \n",
    "Facultad de Educación  \n",
    "Universidad de Antioquia  "
   ]
  },
  {
   "cell_type": "markdown",
   "id": "b1db4b6c",
   "metadata": {
    "slideshow": {
     "slide_type": "slide"
    }
   },
   "source": [
    "## Monitores presenciales   \n",
    "\n",
    "* Manuel San Juan Serrano:  Contactar escribiendo al correo: manuel.serrano1@udea.edu.co\n",
    "* Yeifry Sebastián Uribe: Contactar escribiendo al correo: yeifry.uribe@udea.edu.co"
   ]
  },
  {
   "cell_type": "markdown",
   "id": "39559692",
   "metadata": {
    "slideshow": {
     "slide_type": "slide"
    }
   },
   "source": [
    "Martes y jueves de 8 - 12  \n",
    "Miércoles 10 - 12 y de 2 a 4 PM  \n",
    "Sábado: 8 - 12"
   ]
  },
  {
   "cell_type": "markdown",
   "id": "10bce0d0",
   "metadata": {
    "slideshow": {
     "slide_type": "slide"
    }
   },
   "source": [
    "## Referentes "
   ]
  },
  {
   "cell_type": "markdown",
   "id": "1db3c468",
   "metadata": {
    "slideshow": {
     "slide_type": "slide"
    }
   },
   "source": [
    "* [Conferencia de la Facultad de Educación sobre didáctica de superficies cuádricas](https://www.youtube.com/watch?v=Dcsl2sggQtY)  \n",
    "  \n",
    "* [CALCULO I DE UNA VARIABLE Ron Larson-Bruce Edwards. Mc Graw Hill. 9º Edición](https://www.academia.edu/42139251/CALCULO_I_DE_UNA_VARIABLE_Ron_Larson_Bruce_Edwards_Mc_Graw_Hill_9o_Edici%C3%B3n)   \n",
    "  \n",
    "\n",
    "* [Grajales Vanegas, L. M., Restrepo Estrada, C. E., Restrepo Ochoa, S. I., & Ruíz De Villalba, F. (2015). Matemáticas I para las ciencias económicas.](https://bibliotecadigital.udea.edu.co/handle/10495/3010)\n",
    "  \n",
    "* R. Duval y Semiosis y pensamiento humano, 2.ª ed. Cali, Colombia: Programa Editorial Universidad del Valle, 2017. [En línea]. Disponible en: https://programaeditorial.univalle.edu.co/gpd-semiosis-y-pensamiento-humano-9789587655278-63324cdb0f6b3.html\n",
    "\n",
    "* [Aylwin, C. U. (2011). Lógica, conjuntos y números. Universidad de los Andes, Consejo de Publicaciones, Colección: Ciencias Básicas, Serie: Matemáticas.](chrome-extension://efaidnbmnnnibpcajpcglclefindmkaj/https://www.u-cursos.cl/ciencias/2011/1/MC110/1/material_docente/bajar?id_material=574722)\n",
    "  \n",
    "* [Chollet, F. (2021). Deep learning with Python. Simon and Schuster.](chrome-extension://efaidnbmnnnibpcajpcglclefindmkaj/https://tanthiamhuat.wordpress.com/wp-content/uploads/2018/03/deeplearningwithpython.pdf)  \n",
    "  \n",
    "* [Watson, S., Stewart, J., & Redlin, L. (2009). Precálculo. Matemáticas para el cálculo.](https://github.com/marco-canas/calculo/blob/main/referents/1_precalculo_stewart/stewart_precalculo.pdf)  \n",
    "\n",
    "* [Purcell, E. J., Varberg, D., & Rigdon, S. E. (2007). Cálculo diferencial e integral. Pearson Educación.](https://github.com/marco-canas/calculo/blob/main/referents/purcell/purcell_calculo.pdf)\n",
    "\n",
    "  \n",
    "\n",
    "* [stewart cálculo](https://udeaeduco-my.sharepoint.com/:b:/g/personal/marco_canas_udea_edu_co/EZgXZjAp8QxPqOAim2hs6LcBNPLGjSHf-xwYnUVYkwa04w?e=RZdTCy)  \n",
    "\n",
    "\n",
    "\n",
    "\n",
    "\n",
    "* [Recomendación de la UNESCO sobre ciencia abierta](https://unesdoc.unesco.org/ark:/48223/pf0000379949_spa)\n",
    "\n",
    "* [chatGPT](https://openai.com/blog/chatgpt)  \n",
    "\n",
    "* [Géron, A. (2017). Hands-on machine learning with scikit-learn and tensorflow: Concepts. Tools, and Techniques to build intelligent systems.](chrome-extension://efaidnbmnnnibpcajpcglclefindmkaj/http://14.139.161.31/OddSem-0822-1122/Hands-On_Machine_Learning_with_Scikit-Learn-Keras-and-TensorFlow-2nd-Edition-Aurelien-Geron.pdf)   \n"
   ]
  },
  {
   "cell_type": "markdown",
   "id": "df925560",
   "metadata": {},
   "source": [
    "\n",
    "* [McKinney, W. (2012). Python for data analysis: Data wrangling with Pandas, NumPy, and IPython. \" O'Reilly Media, Inc.\".](https://wesmckinney.com/book/) "
   ]
  },
  {
   "cell_type": "markdown",
   "id": "8e65d6f9",
   "metadata": {},
   "source": [
    "# Como estudiante, encuentro que...   \n",
    "\n",
    "F: Mis Fortalezas son:     \n",
    "O: Mis Oportunidades son:    \n",
    "D: Mis Debilidades son:    \n",
    "A: Lo que Amenazas mi aprendizaje es:  "
   ]
  },
  {
   "cell_type": "markdown",
   "id": "6b9e56a8",
   "metadata": {
    "slideshow": {
     "slide_type": "slide"
    }
   },
   "source": [
    "### [Evaluamos al profesor Marco Cañas Aquí](https://forms.office.com/Pages/ResponsePage.aspx?id=IefhmYRxjkmK_7KtTlPBwkanXIs1i1FEujpsZgO6dXpUREJPV1kxUk1JV1ozTFJIQVNIQjY5WEY3US4u)"
   ]
  },
  {
   "cell_type": "markdown",
   "id": "10f43536",
   "metadata": {
    "slideshow": {
     "slide_type": "slide"
    }
   },
   "source": [
    "### Continue su aprendizaje en la siguiente clase a través del siguiente [vínculo]()"
   ]
  },
  {
   "cell_type": "markdown",
   "id": "53cc9115",
   "metadata": {
    "slideshow": {
     "slide_type": "slide"
    }
   },
   "source": [
    "## Agradecimientos  \n",
    "\n",
    "Doy gracias a Dios por la vida de mi Hijo Joseph Cañas Osorio y la madurez que ha alcanzado. Este hijo me enorgullece y me hace falta abrazarlo cada día. \n",
    "\n",
    "Y a mi esposa Yasmira Emperatriz Barboza Mogollón por su apoyo, orientación y acompañamiento. "
   ]
  },
  {
   "cell_type": "markdown",
   "id": "b6ba1c23",
   "metadata": {},
   "source": [
    "# Apéndice sobre calendarios y coordinaciones \n",
    "\n",
    "A continuación le envío el horario de la asignatura Cálculo Vectorial  \n",
    "\n",
    "Días:  \n",
    "Lunes - Hora: 7:00 a 12:00M  \n",
    "Fechas:  \n",
    "Febrero: 10-17-24                                          \n",
    " Marzo: 3-10-17-31                                                  \n",
    "Abril:7-21-28                                                   \n",
    "Mayo:5-12-19  \n",
    "\n",
    "Agradezco su apoyo, y si presenta alguna dificultad puede contactarme.  \n",
    "\n",
    "Cordialmente,  \n",
    "Juan Felipe Rivera Hernández  \n",
    "Contacto: 3106314300  "
   ]
  },
  {
   "cell_type": "markdown",
   "id": "0e66cd7c",
   "metadata": {},
   "source": [
    "# Clase de análisis numérico los Martes de 8 a 12 del medio día. "
   ]
  }
 ],
 "metadata": {
  "celltoolbar": "Slideshow",
  "kernelspec": {
   "display_name": ".venv",
   "language": "python",
   "name": "python3"
  },
  "language_info": {
   "codemirror_mode": {
    "name": "ipython",
    "version": 3
   },
   "file_extension": ".py",
   "mimetype": "text/x-python",
   "name": "python",
   "nbconvert_exporter": "python",
   "pygments_lexer": "ipython3",
   "version": "3.12.6"
  },
  "rise": {
   "enable_chalkboard": true,
   "theme": "sky",
   "transition": "zoom"
  }
 },
 "nbformat": 4,
 "nbformat_minor": 5
}
