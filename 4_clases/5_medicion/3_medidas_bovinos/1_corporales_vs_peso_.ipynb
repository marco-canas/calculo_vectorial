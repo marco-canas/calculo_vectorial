{
 "cells": [
  {
   "cell_type": "markdown",
   "id": "dc06dec7",
   "metadata": {
    "slideshow": {
     "slide_type": "slide"
    }
   },
   "source": [
    "<table align=\"left\">\n",
    "  <td>\n",
    "    <a href=\"https://colab.research.google.com/github/marco-canas/calculo_vectorial/blob/main/4_clases/5_medicion/3_medidas_bovinos/1_corporales_vs_peso_.ipynb\" target=\"_parent\"><img src=\"https://colab.research.google.com/assets/colab-badge.svg\" alt=\"Open In Colab\"/></a>\n",
    "  </td>\n",
    "</table>"
   ]
  },
  {
   "cell_type": "markdown",
   "id": "e0c5b198",
   "metadata": {
    "slideshow": {
     "slide_type": "slide"
    }
   },
   "source": [
    "### [Video de apoyo a la lectura interactiva y experimental de este cuaderno]()"
   ]
  },
  {
   "cell_type": "markdown",
   "id": "41e82203",
   "metadata": {
    "slideshow": {
     "slide_type": "slide"
    }
   },
   "source": [
    "## [Vínculo al programa del curso:  ]()\n",
    "\n"
   ]
  },
  {
   "cell_type": "markdown",
   "id": "d11ab06d",
   "metadata": {
    "slideshow": {
     "slide_type": "slide"
    }
   },
   "source": [
    "Un reconocimiento a mis estudiantes que han construido conmigo este saber pedagógico:\n",
    "\n",
    "<img src = ''> \n",
    "\n"
   ]
  },
  {
   "cell_type": "markdown",
   "id": "96775931",
   "metadata": {
    "slideshow": {
     "slide_type": "slide"
    }
   },
   "source": [
    "## Título de la clase: Cómo estimar el peso de un Bovino a través de sus medidas corporales    \n",
    "\n"
   ]
  },
  {
   "cell_type": "markdown",
   "id": "1d38dd4e",
   "metadata": {
    "slideshow": {
     "slide_type": "slide"
    }
   },
   "source": [
    "### Objetivo de aprendizaje (Enunciar, de manera corta sencilla y clara para todos los asistentes)\n",
    "\n",
    "* Automatizar con una función de usuario de python, la estimación del peso de un bovino en Caucasia. "
   ]
  },
  {
   "cell_type": "markdown",
   "id": "990e8a3c",
   "metadata": {},
   "source": [
    "# Prompt   \n",
    "\n",
    "Dame, por favor, el nombre de cada una de las medidas corporales de un bobino en Caucasia Antioquia y dime cómo conjugar las diferentes medidas corporales de un bobino para estimar su peso"
   ]
  },
  {
   "cell_type": "markdown",
   "id": "4202d12e",
   "metadata": {},
   "source": [
    "A continuación doy una lista de las **medidas corporales más comunes utilizadas en bovinos (bobinos)** en regiones como **Caucasia, Antioquia**, y luego te explico cómo se pueden **conjugar esas medidas para estimar el peso vivo del animal**, especialmente en contextos rurales donde no se cuenta con báscula.\n",
    "\n",
    "---\n"
   ]
  },
  {
   "cell_type": "markdown",
   "id": "1699ddf8",
   "metadata": {},
   "source": [
    "\n",
    "## 🐄 Medidas corporales comunes en bobinos\n",
    "\n",
    "1. **Perímetro torácico (PT)**  \n",
    "   - También llamado circunferencia torácica o perímetro del pecho.  \n",
    "   - Se mide rodeando el cuerpo del animal justo detrás de las patas delanteras, pasando por la parte más ancha del tórax.\n",
    "\n",
    "2. **Longitud corporal (LC)**  \n",
    "   - También llamada longitud del tronco o largo del cuerpo.  \n",
    "   - Desde la punta del hombro (escápula) hasta la base de la cola.\n",
    "\n",
    "3. **Altura a la cruz (AC)**  \n",
    "   - Es la altura desde el suelo hasta el punto más alto del lomo, entre los hombros.\n",
    "\n",
    "4. **Ancho de pecho (AP)**  \n",
    "   - Distancia entre los puntos más externos del pecho, vista de frente.\n",
    "\n",
    "5. **Ancho de grupa (AG)**  \n",
    "   - Medido entre los extremos de los huesos de la cadera (iliones).\n",
    "\n",
    "6. **Altura de grupa (AGr)**  \n",
    "   - Desde el suelo hasta la parte más alta de la grupa (cadera).\n",
    "\n",
    "7. **Profundidad torácica (PTor)**  \n",
    "   - Desde la cruz hasta el esternón.\n",
    "\n",
    "---\n"
   ]
  },
  {
   "cell_type": "markdown",
   "id": "ddb408e6",
   "metadata": {},
   "source": [
    "\n",
    "## ⚖️ Estimación del peso vivo en bovinos\n",
    "\n",
    "Cuando no se dispone de báscula, se pueden usar **fórmulas empíricas** basadas en el **perímetro torácico** y otras medidas. Estas fórmulas han sido ajustadas para diferentes razas y condiciones. En el caso de bovinos criollos o cebúes en regiones cálidas como **Caucasia**, una fórmula bastante usada es:\n",
    "\n",
    "---\n"
   ]
  },
  {
   "cell_type": "markdown",
   "id": "400c76eb",
   "metadata": {},
   "source": [
    "\n",
    "### Fórmula de Shaeffer (ajustada para clima tropical)\n",
    "$$\n",
    "\\text{Peso (kg)} = \\frac{(PT)^2 \\times LC}{300}\n",
    "$$\n",
    "\n",
    "- PT: perímetro torácico en **cm**  \n",
    "- LC: longitud corporal en **cm**\n",
    "\n",
    "Esta fórmula es bastante usada en ganaderías de zonas como el Bajo Cauca.\n",
    "\n",
    "---\n"
   ]
  },
  {
   "cell_type": "markdown",
   "id": "8bc49e59",
   "metadata": {},
   "source": [
    "\n",
    "### Fórmula más simple (solo con perímetro torácico)\n",
    "\n",
    "$$\n",
    "\\text{Peso (kg)} = (PT - 70) \\times 2.5\n",
    "$$\n",
    "\n",
    "> Esta fórmula es más práctica para animales adultos y se usa con una cinta métrica ganadera.\n",
    "\n",
    "---\n"
   ]
  },
  {
   "cell_type": "markdown",
   "id": "737e2823",
   "metadata": {},
   "source": [
    "\n",
    "## ✅ ¿Cómo tomar las medidas?\n",
    "\n",
    "- Usa una **cinta métrica flexible**.\n",
    "- Asegúrate de que el animal esté en una **superficie plana** y esté **quieto**.\n",
    "- Toma **mínimo dos mediciones** para reducir el error.\n",
    "\n",
    "\n",
    "\n"
   ]
  },
  {
   "cell_type": "markdown",
   "id": "85fd62ad",
   "metadata": {},
   "source": [
    "# Prompt 2 \n",
    "\n",
    "Por favor, ayúdame a programar una calculadora en Python para estimar el peso según estas fórmulas y ayúdame también a crear una app sencilla en Jupyter para mis estudiantes de Ingeniería Agropecuaria. "
   ]
  },
  {
   "cell_type": "markdown",
   "id": "574005f5",
   "metadata": {},
   "source": [
    "\n",
    "## 1. **Calculadora en Python para estimar el peso de un bovino**\n",
    "\n",
    "Aquí tienes una función en Python que permite estimar el peso de un bovino usando:\n",
    "\n",
    "- Solo el **Perímetro Torácico**\n",
    "- El **Perímetro Torácico** y la **Longitud Corporal**\n"
   ]
  },
  {
   "cell_type": "code",
   "execution_count": null,
   "id": "8a2814ca",
   "metadata": {},
   "outputs": [
    {
     "name": "stdout",
     "output_type": "stream",
     "text": [
      "Peso estimado solo con PT: 200.0\n",
      "Peso estimado con PT y LC: 9000.0\n"
     ]
    }
   ],
   "source": [
    "\n",
    "def estimar_peso_bovino(perimetro_toracico_cm, longitud_corporal_cm=None):\n",
    "    \"\"\"\n",
    "    Estima el peso vivo de un bovino a partir de medidas corporales.\n",
    "    \n",
    "    Parámetros:\n",
    "    - perimetro_toracico_cm: Perímetro torácico en centímetros.\n",
    "    - longitud_corporal_cm: Longitud corporal en centímetros (opcional).\n",
    "    \n",
    "    Retorna:\n",
    "    - Peso estimado en kilogramos.\n",
    "    \"\"\"\n",
    "    if longitud_corporal_cm:\n",
    "        # Fórmula de Shaeffer ajustada\n",
    "        peso_estimado = (perimetro_toracico_cm ** 2 * longitud_corporal_cm) / 300\n",
    "    else:\n",
    "        # Fórmula práctica solo con PT\n",
    "        peso_estimado = (perimetro_toracico_cm - 70) * 2.5\n",
    "    \n",
    "    return round(peso_estimado, 2)\n"
   ]
  },
  {
   "cell_type": "code",
   "execution_count": null,
   "id": "cf8665f8",
   "metadata": {},
   "outputs": [],
   "source": [
    "\n",
    "# Ejemplos de uso:\n",
    "print(\"Peso estimado solo con PT:\", estimar_peso_bovino(150))  # solo PT\n",
    "print(\"Peso estimado con PT y LC:\", estimar_peso_bovino(150, 120))  # PT y LC\n",
    "\n"
   ]
  },
  {
   "cell_type": "markdown",
   "id": "60c111f1",
   "metadata": {},
   "source": [
    "\n",
    "---\n",
    "\n",
    "## 2. **App sencilla en Jupyter con widgets interactivos (ipywidgets)**\n",
    "\n",
    "Esta app permite a los estudiantes mover los controles deslizantes y ver en tiempo real el peso estimado del bovino.\n"
   ]
  },
  {
   "cell_type": "code",
   "execution_count": null,
   "id": "3c840a02",
   "metadata": {},
   "outputs": [],
   "source": [
    "\n",
    "import ipywidgets as widgets\n",
    "from IPython.display import display, Markdown\n",
    "\n",
    "def calcular_y_mostrar_peso(pt, lc):\n",
    "    if lc == 0:\n",
    "        peso = (pt - 70) * 2.5\n",
    "        display(Markdown(f\"**Peso estimado usando solo PT:** `{peso:.2f} kg`\"))\n",
    "    else:\n",
    "        peso = (pt ** 2 * lc) / 300\n",
    "        display(Markdown(f\"**Peso estimado usando PT y LC:** `{peso:.2f} kg`\"))\n",
    "\n",
    "# Widgets interactivos\n",
    "pt_slider = widgets.IntSlider(value=150, min=100, max=220, step=1, description='PT (cm):')\n",
    "lc_slider = widgets.IntSlider(value=120, min=0, max=200, step=1, description='LC (cm):')\n",
    "\n",
    "ui = widgets.VBox([pt_slider, lc_slider])\n",
    "out = widgets.interactive_output(calcular_y_mostrar_peso, {'pt': pt_slider, 'lc': lc_slider})\n",
    "\n",
    "display(Markdown(\"## 🐄 Calculadora de Peso para Bovinos\"))\n",
    "display(Markdown(\"Ajusta las medidas para estimar el peso del animal. Si la **longitud corporal (LC)** es 0, se usará solo el **perímetro torácico (PT)**.\"))\n",
    "display(ui, out)\n",
    "\n"
   ]
  },
  {
   "cell_type": "markdown",
   "id": "4be962cd",
   "metadata": {},
   "source": [
    "\n",
    "\n",
    "## ¿Qué sigue?\n",
    "\n",
    "Como tarea:\n",
    "\n",
    "- Convertir esto en una **aplicación web simple con Streamlit**.\n",
    "- Subirlo a tu **repositorio de GitHub** para que los estudiantes lo consulten.\n",
    "- Crear un **video corto explicativo** para tu canal DiMathData.\n",
    "\n"
   ]
  },
  {
   "cell_type": "markdown",
   "id": "10bce0d0",
   "metadata": {
    "slideshow": {
     "slide_type": "slide"
    }
   },
   "source": [
    "## Referentes "
   ]
  },
  {
   "cell_type": "markdown",
   "id": "1db3c468",
   "metadata": {
    "slideshow": {
     "slide_type": "slide"
    }
   },
   "source": [
    "* [stewart precálculo](https://udeaeduco-my.sharepoint.com/:b:/g/personal/marco_canas_udea_edu_co/ERHIq62I6qFNrmxy6LZb8ZMBci7kUsyNME1nIh9yCBMJ_w?e=0zMSla)  \n",
    "\n",
    "* [stewart cálculo](https://udeaeduco-my.sharepoint.com/:b:/g/personal/marco_canas_udea_edu_co/EZgXZjAp8QxPqOAim2hs6LcBNPLGjSHf-xwYnUVYkwa04w?e=RZdTCy)  \n",
    "\n",
    "* [larson](https://udeaeduco-my.sharepoint.com/:b:/g/personal/marco_canas_udea_edu_co/ES71ChFeO9ZDhW3TwC5Ijk8BjxUK3Pdqz_fjHxTTFAfIAg?e=VDEjfu)\n",
    "\n",
    "* [uzcategui](https://udeaeduco-my.sharepoint.com/:b:/g/personal/marco_canas_udea_edu_co/ETDikm-lVl1Or8XoEo9oyh0BEti9Zs8le-f0D-dBdtZmbA?e=bBsoyQ)\n",
    "\n",
    "* [Cálculo de Purcell](https://udeaeduco-my.sharepoint.com/:b:/g/personal/marco_canas_udea_edu_co/ES60UB4h-QFFqqRQUFmkpWcBIgoLBJeqTfZjNajWNWSeJA?e=9NxjKJ)\n",
    "\n",
    "* [Recomendación de la UNESCO sobre ciencia abierta](https://unesdoc.unesco.org/ark:/48223/pf0000379949_spa)\n",
    "\n",
    "* [Fórmulas más comunes en latex](https://wiki.geogebra.org/es/C%C3%B3digo_LaTeX_para_las_f%C3%B3rmulas_m%C3%A1s_comunes) \n",
    "\n",
    "* [chatGPT](https://openai.com/blog/chatgpt)  \n",
    "\n",
    "* Géron, A. (2017). Hands-on machine learning with scikit-learn and tensorflow: Concepts. Tools, and Techniques to build intelligent systems.[Geron, Aurelien. Hands on Machine Learning](https://udeaeduco-my.sharepoint.com/:b:/g/personal/marco_canas_udea_edu_co/Ecet27yjQzZIlT1Y_Bc2erkBUhbeYuIe6HG8i1FYZRlZww?e=dlvZ4v)  \n",
    "\n",
    "* McKinney, W. (2012). Python for data analysis: Data wrangling with Pandas, NumPy, and IPython. \" O'Reilly Media, Inc.\".[Wes Mackinney. ](https://udeaeduco-my.sharepoint.com/:b:/g/personal/marco_canas_udea_edu_co/EVbi5JIeBl9ErbiUnZfGe8YBhNTnZ8sxTK5hjIOPK4UpGw?e=fFclah)  \n",
    "\n",
    "* [Ledezma, C., Font, V., & Sala-Sebastià, G. MODELIZACIÓN MATEMÁTICA DESDE UNA ARTICULACIÓN TEÓRICA ENTRE LOS ENFOQUES COGNITIVO Y ONTO-SEMIÓTICO.](https://www.researchgate.net/profile/Carlos-Ledezma-4/publication/376076920_Modelizacion_matematica_desde_una_articulacion_teorica_entre_los_enfoques_cognitivo_y_onto-semiotico/links/6568cb363fa26f66f43b292a/Modelizacion-matematica-desde-una-articulacion-teorica-entre-los-enfoques-cognitivo-y-onto-semiotico.pdf)"
   ]
  },
  {
   "cell_type": "markdown",
   "id": "45c59aa9",
   "metadata": {},
   "source": [
    "[Autoevaluemonos para hacernos concientes de nuestro aprendizaje y en lo que debemos enfocarnos en mejorar]()  \n",
    "\n",
    "¡Claro! Aquí tienes una lista de preguntas de selección múltiple para una autoevaluación en un curso de cálculo con un enfoque pedagógico de aula invertida. Estas preguntas abarcan los objetivos de desarrollo del pensamiento variacional, pensamiento computacional a través de Python, capacidad de comunicación científica con LaTeX, Git y el uso de cuadernos Jupyter, así como la promoción de políticas de ciencia libre. \n",
    "\n",
    "1. **Pensamiento Variacional:**\n",
    "   a. ¿Qué significa el término \"variación\" en el contexto del pensamiento variacional?\n",
    "   b. ¿Cómo se relaciona el cálculo con el pensamiento variacional?\n",
    "   c. ¿Puede proporcionar un ejemplo práctico que ilustre el concepto de variación en un problema de cálculo?\n",
    "\n",
    "2. **Pensamiento Computacional (Python):**\n",
    "   a. ¿Cuál es el propósito principal de utilizar Python en un curso de cálculo?\n",
    "   b. ¿Cómo se puede utilizar Python para resolver problemas matemáticos complejos?\n",
    "   c. Menciona al menos dos ventajas de usar Python en comparación con otros lenguajes de programación en el contexto del cálculo.\n",
    "\n",
    "3. **Comunicación Científica (LaTeX):**\n",
    "   a. ¿Por qué es importante utilizar LaTeX para la comunicación científica en matemáticas y ciencias?\n",
    "   b. Enumera al menos tres comandos básicos de LaTeX utilizados para escribir ecuaciones matemáticas.\n",
    "   c. ¿Cómo mejorarías la presentación visual de una fórmula matemática utilizando LaTeX?\n",
    "\n",
    "4. **Gestión de Versiones (Git):**\n",
    "   a. ¿Cuál es el propósito principal de utilizar Git en el desarrollo de proyectos científicos?\n",
    "   b. Explica el concepto de \"commit\" en Git.\n",
    "   c. ¿Cómo resolverías un conflicto de fusión (merge conflict) en Git?\n",
    "\n",
    "5. **Cuadernos Jupyter:**\n",
    "   a. ¿Cuáles son las ventajas de utilizar cuadernos Jupyter en comparación con otros entornos de desarrollo?\n",
    "   b. Describe cómo se integra el código Python y la documentación en un cuaderno Jupyter.\n",
    "   c. ¿Cómo compartirías un cuaderno Jupyter con tus compañeros de clase utilizando GitHub?\n",
    "\n",
    "6. **Promoción de Políticas de Ciencia Libre:**\n",
    "   a. ¿Cuáles son los beneficios de utilizar plataformas como GitHub y YouTube para compartir recursos científicos?\n",
    "   b. ¿Cómo podrías contribuir a la promoción de la ciencia libre en tu comunidad académica?\n",
    "   c. ¿Por qué es importante la transparencia y accesibilidad en la investigación científica?\n",
    "\n",
    "Estas preguntas están diseñadas para evaluar la comprensión de los estudiantes en diversos aspectos del curso, abarcando desde los conceptos matemáticos hasta las habilidades tecnológicas y la conciencia sobre la ciencia libre."
   ]
  },
  {
   "cell_type": "markdown",
   "id": "6b9e56a8",
   "metadata": {
    "slideshow": {
     "slide_type": "slide"
    }
   },
   "source": [
    "### [Evaluamos al profesor Marco Cañas Aquí](https://forms.office.com/Pages/ResponsePage.aspx?id=IefhmYRxjkmK_7KtTlPBwkanXIs1i1FEujpsZgO6dXpUREJPV1kxUk1JV1ozTFJIQVNIQjY5WEY3US4u)"
   ]
  },
  {
   "cell_type": "markdown",
   "id": "050b9508",
   "metadata": {},
   "source": [
    "# Aportes de mis estudiantes a la metodología del curso  \n",
    "1. \n",
    "\n",
    "Sus opiniones y aportes son muy importantes para mi. Pues esta es una investigación educativa y un servicio de enseñanza para ustedes. Ustedes son la razón de ser de mi actividad docente. Dios los bendiga. "
   ]
  },
  {
   "cell_type": "markdown",
   "id": "6c4af91f",
   "metadata": {},
   "source": [
    "# Aportes de mis colegas docentes a la metodología que estoy aplicando en mis cursos. "
   ]
  },
  {
   "cell_type": "markdown",
   "id": "071afa04",
   "metadata": {
    "slideshow": {
     "slide_type": "slide"
    }
   },
   "source": [
    "## [Evaluación luego de alcanzar estos objetivos de aprendizaje]()"
   ]
  },
  {
   "cell_type": "markdown",
   "id": "10f43536",
   "metadata": {
    "slideshow": {
     "slide_type": "slide"
    }
   },
   "source": [
    "### Continue su aprendizaje en la siguiente clase a través del siguiente [vínculo]()"
   ]
  },
  {
   "cell_type": "markdown",
   "id": "af751e30",
   "metadata": {
    "slideshow": {
     "slide_type": "slide"
    }
   },
   "source": [
    "# Conjeturas pedagógicas fruto de la aplicación del modelo de aprendizaje invertido y del enfoque hacia la ciencia de datos con python\n",
    "\n",
    "1. Todo cálculo o resultado debe ser interpretado en una línea markdown del cuaderno Jupyter, inmediatamente después de la enunciación del resultado y después de la presentación de una tabla o gráfico bidimensional, de tal menera que el estudiante explicite la comprensión verbal del resultado y las inferencias o estrategias que este resultado le sugieren.  \n",
    "\n",
    "2. Debo colocar las conjeturas pedagógicas, que el uso en el aula de [ChatGPT](https://openai.com/blog/chatgpt/) traiga para la enseñanza y el aprendizaje de las matemáticas. \n",
    "\n",
    "3. Promover ciencia abierta en clase de matemáticas puede ser pidiendo a los estudiantes, tomar nota en clase pero en cuadernos Jupyter y entregar siempre al final de cada clase su cuaderno con todas las notas y experimentaciones de clase replicadas. \n",
    "4. Profesor Marco, ¿ha contemplado la posibilidad de intercambio de experiencias de aprendizaje y aplicación de Python al día a día con comfama? (Estudio Trabajo Social y allí, en comfama, aprendí los fundamentos, lo básico de Python)\n",
    "\n",
    "¿Conoce si en la Universidad de Antioquia hay medios para poder aprender Swift/XCODE? (Para programar para dispositivos de Apple)\n",
    "5. Debo considerar la metodología ABP, es decir, diseñar las clase bajo la metodología de Aprendizaje Basado en Problemas. \n",
    "\n"
   ]
  },
  {
   "cell_type": "markdown",
   "id": "53cc9115",
   "metadata": {
    "slideshow": {
     "slide_type": "slide"
    }
   },
   "source": [
    "## Agradecimientos  \n",
    "\n",
    "Doy gracias a Dios por la vida de mi Hijo Joseph Cañas Osorio y la madurez que ha alcanzado.\n",
    "\n",
    "Y a mi esposa Yasmira por su apoyo, orientación y acompañamiento. "
   ]
  }
 ],
 "metadata": {
  "celltoolbar": "Slideshow",
  "kernelspec": {
   "display_name": ".venv",
   "language": "python",
   "name": "python3"
  },
  "language_info": {
   "codemirror_mode": {
    "name": "ipython",
    "version": 3
   },
   "file_extension": ".py",
   "mimetype": "text/x-python",
   "name": "python",
   "nbconvert_exporter": "python",
   "pygments_lexer": "ipython3",
   "version": "3.12.6"
  },
  "rise": {
   "enable_chalkboard": true,
   "theme": "sky",
   "transition": "zoom"
  }
 },
 "nbformat": 4,
 "nbformat_minor": 5
}
