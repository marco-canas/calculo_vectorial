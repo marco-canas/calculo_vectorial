{
 "cells": [
  {
   "cell_type": "markdown",
   "id": "dc06dec7",
   "metadata": {
    "slideshow": {
     "slide_type": "slide"
    }
   },
   "source": [
    "<table align=\"left\">\n",
    "  <td>\n",
    "    <a href=\"https://colab.research.google.com/github/marco-canas/didactica_ciencia_datos/blob/main/1_curso_machine_learning/1_evaluacion_oral_tarea_quiz_parcial.ipynb\" target=\"_parent\"><img src=\"https://colab.research.google.com/assets/colab-badge.svg\" alt=\"Open In Colab\"/></a>\n",
    "  </td>\n",
    "  <td>\n",
    "    <a target=\"_blank\" href=\"https://kaggle.com/kernels/welcome?src=https://github.com/marco-canas/didactica_ciencia_datos/blob/main/1_curso_machine_learning/1_evaluacion_oral_tarea_quiz_parcial.ipynb\"><img src=\"https://kaggle.com/static/images/open-in-kaggle.svg\" /></a>\n",
    "  </td>\n",
    "</table>"
   ]
  },
  {
   "cell_type": "markdown",
   "id": "e0c5b198",
   "metadata": {
    "slideshow": {
     "slide_type": "slide"
    }
   },
   "source": [
    "### [Video de apoyo a la lectura interactiva y experimental de este cuaderno]()"
   ]
  },
  {
   "cell_type": "markdown",
   "id": "41e82203",
   "metadata": {
    "slideshow": {
     "slide_type": "slide"
    }
   },
   "source": [
    "## [Vínculo al programa del curso:  ]()"
   ]
  },
  {
   "cell_type": "markdown",
   "id": "ca46c23b",
   "metadata": {
    "slideshow": {
     "slide_type": "slide"
    }
   },
   "source": [
    "# Modelo general de clase: [aula invertida](https://www3.gobiernodecanarias.org/medusa/ecoescuela/pedagotic/aprendizaje-invertido-flipped-classroom/)\n"
   ]
  },
  {
   "cell_type": "markdown",
   "id": "7f9be90f",
   "metadata": {
    "slideshow": {
     "slide_type": "slide"
    }
   },
   "source": [
    "# Fomento de la lectura literaria asociada a Ingeniería agropecuaria y licenciatura en Matemáticas y administración de empresas\n",
    "\n",
    "[Hábitos atómicos](https://github.com/marco-canas/habitos_atomicos/blob/main/13_como_dejar_de_postergar_usando_la_regla_de_los_dos_minutos/1_13_como_dejar_de_postergar_usando_la_regla_de_los_dos_minutos.ipynb)"
   ]
  },
  {
   "cell_type": "markdown",
   "id": "96775931",
   "metadata": {
    "slideshow": {
     "slide_type": "slide"
    }
   },
   "source": [
    "# Título de la clase: Realización evaluación oral, de Tareas en cuadernos Jupyter, Quiz o Parcial de selección múltiple o de preguntas cerradas.  \n",
    "\n"
   ]
  },
  {
   "cell_type": "markdown",
   "id": "cf101603",
   "metadata": {},
   "source": [
    "# Prompt para pedir el diseño de evaluación de acuerdo a la metodología de \"Enseñanza basada en proyectos\"  \n",
    "\n",
    "Dame, por favor, una propuesta de evaluación de esta clase bajo la metodología de enseñanza: \"Aprendizaje basado en proyectos\". Pero además incluye una evaluación escrita tipo quiz y una tipo parcial. "
   ]
  },
  {
   "cell_type": "markdown",
   "id": "388ab32f",
   "metadata": {},
   "source": [
    "\n",
    "### **1. Título de la Clase**  \n",
    "**\"Hipérbolas en el Campo: Geometría que Siembra Soluciones\"**  \n",
    "\n",
    "---\n"
   ]
  },
  {
   "cell_type": "markdown",
   "id": "7a65e05a",
   "metadata": {},
   "source": [
    "\n",
    "### **2. Objetivos de Aprendizaje e Indicadores**  \n",
    "- **Objetivo 1:** Modelar sistemas de riego hiperbólicos usando propiedades geométricas.  \n",
    "  *Indicador:* Simulación en Python de cobertura de aspersores con Plotly 3D.  \n",
    "- **Objetivo 2:** Analizar trayectorias hiperbólicas en navegación GPS para maquinaria agrícola.  \n",
    "  *Indicador:* Cálculo de diferencias temporales entre satélites usando $ \\frac{x^2}{a^2} - \\frac{y^2}{b^2} = 1 $.  \n",
    "- **Objetivo 3:** Diseñar silos de almacenamiento con secciones hiperbólicas para optimización térmica.  \n",
    "  *Indicador:* Gráfico interactivo con ipywidgets variando parámetros $a$ y $b$.  \n",
    "\n",
    "---\n",
    "\n",
    "### **3. Mapa Conceptual Jerárquico (Graphviz)**  \n"
   ]
  },
  {
   "cell_type": "code",
   "execution_count": 2,
   "id": "fa516ef2",
   "metadata": {},
   "outputs": [
    {
     "data": {
      "text/plain": [
       "'C:\\\\Users\\\\marco\\\\Descargas\\\\hiperbola_agro.png'"
      ]
     },
     "execution_count": 2,
     "metadata": {},
     "output_type": "execute_result"
    }
   ],
   "source": [
    "\n",
    "from graphviz import Digraph\n",
    "\n",
    "dot = Digraph(comment='Hipérbola Agropecuaria', format='png', engine='dot')\n",
    "dot.attr('graph', overlap='false', rankdir='TB')  # Jerarquía Top-Bottom\n",
    "\n",
    "# Nodos principales\n",
    "dot.node('A', 'Hipérbola\\nen Ingeniería Agropecuaria', shape='ellipse', style='filled', fillcolor='#CDEAC0')\n",
    "dot.node('B', 'Aplicaciones\\nReales', shape='box', fillcolor='#FFF3B0')\n",
    "dot.node('C', 'Propiedades\\nGeométricas', shape='component', fillcolor='#E2F0FB')\n",
    "dot.node('D', 'Ecuación\\nAlgebraica', shape='note', fillcolor='#F4D4E3')\n",
    "\n",
    "# Subnodos aplicaciones\n",
    "dot.node('B1', 'Sistemas de Riego\\n(Ángulo de cobertura)', shape='cylinder')\n",
    "dot.node('B2', 'Navegación GPS\\npara Tractores', shape='tab')\n",
    "dot.node('B3', 'Diseño de Silos\\nTermoregulados', shape='folder')\n",
    "\n",
    "# Subnodos propiedades\n",
    "dot.node('C1', 'Asíntotas\\n(Dirección flujo agua)', shape='triangle')\n",
    "dot.node('C2', 'Focos\\n(Puntos de control térmico)', shape='circle')\n",
    "\n",
    "# Jerarquías\n",
    "dot.edges(['AB', 'AC', 'AD'])\n",
    "dot.edges([('B','B1'), ('B', 'B2'), ('B', 'B3')])\n",
    "dot.edges([('C', 'C1'), ('C', 'C2')])\n",
    "dot.edge('C1', 'B1', label='Optimiza\\ncobertura', style='dotted')\n",
    "dot.edge('C2', 'B3', label='Control\\ntérmico', style='dashed')\n",
    "\n",
    "dot.render(directory='C:/Users/marco/Descargas', filename='hiperbola_agro', view=True)\n"
   ]
  },
  {
   "cell_type": "markdown",
   "id": "f497698c",
   "metadata": {},
   "source": [
    "```\n",
    "\n",
    "---\n"
   ]
  },
  {
   "cell_type": "markdown",
   "id": "5e7ec616",
   "metadata": {},
   "source": [
    "\n",
    "### **4. Contenido de Clase (Enfoque STEAM-Agropecuario)**  \n",
    "**Aplicación Real:** Diseño de aspersores con patrón hiperbólico para riego en cultivos de plátano (zona de Urabá Antioqueño).  \n",
    "\n",
    "**Secuencia Didáctica:**  \n",
    "1. **Problema Agrícola:**  \n",
    "   \"¿Cómo regar 5 hectáreas con 3 aspersores si el caudal es limitado?\" → Patrón hiperbólico optimiza área.  \n",
    "\n",
    "2. **Geometría Viva:**  \n",
    "   - Demostración con manguera y regadores en campo (video adjunto).  \n",
    "   - **Propiedad:** La diferencia de distancias a dos focos es constante → $|PF_1 - PF_2| = 2a$  \n",
    "\n",
    "3. **Modelo Algebraico:**  \n",
    "   $$ \\frac{x^2}{(15)^2} - \\frac{y^2}{(10)^2} = 1 $$  \n",
    "   (Donde 15m es la distancia entre aspersores y 10m el radio efectivo).  \n",
    "\n",
    "4. **Simulación Computacional:** "
   ]
  },
  {
   "cell_type": "code",
   "execution_count": 2,
   "id": "9af6e52f",
   "metadata": {},
   "outputs": [
    {
     "name": "stderr",
     "output_type": "stream",
     "text": [
      "C:\\Users\\marco\\AppData\\Local\\Temp\\ipykernel_23012\\3191881922.py:6: RuntimeWarning: invalid value encountered in sqrt\n",
      "  y = b * np.sqrt((x**2 / a**2) - 1)\n"
     ]
    },
    {
     "data": {
      "application/vnd.plotly.v1+json": {
       "config": {
        "plotlyServerURL": "https://plot.ly"
       },
       "data": [
        {
         "mode": "lines",
         "name": "Hipérbola Riego",
         "type": "scatter",
         "x": {
          "bdata": "AAAAAAAAPsBlk0022WQ9wMomm2yyyTzALrrooosuPMCTTTbZZJM7wPjggw8++DrAXXTRRRddOsDCBx988ME5wCebbLLJJjnAjC666KKLOMDwwQcffPA3wFVVVVVVVTfAuuiiiy66NsAffPDBBx82wIQPPvjggzXA6KKLLrroNMBONtlkk000wLLJJptssjPAF1100UUXM8B88MEHH3wywOGDDz744DHARhdddNFFMcCqqqqqqqowwBA++OCDDzDA6KKLLrroLsCyySabbLItwHzwwQcffCzARhdddNFFK8AQPvjggw8qwNhkk0022SjAoosuuuiiJ8Bssskmm2wmwDbZZJNNNiXAAAAAAAAAJMDKJptssskiwJRNNtlkkyHAXHTRRRddIMBMNtlkk00ewOCDDz744BvAdNFFF110GcAIH3zwwQcXwJxssskmmxTALLrooosuEsCADz744IMPwKiqqqqqqgrA0EUXXXTRBcD44IMPPvgAwED44IMPPvi/AF100UUX7b9Ak0022WTTv4CTTTbZZNM/IF100UUX7T9A+OCDDz74PwDhgw8++ABA0EUXXXTRBUCwqqqqqqoKQIAPPvjggw9AMLrooosuEkCgbLLJJpsUQAgffPDBBxdAeNFFF110GUDggw8++OAbQFA22WSTTR5AXHTRRRddIECUTTbZZJMhQMwmm2yyySJAAAAAAAAAJEA42WSTTTYlQGyyySabbCZApIsuuuiiJ0DYZJNNNtkoQBA++OCDDypASBdddNFFK0B88MEHH3wsQLTJJptssi1A6KKLLrroLkAQPvjggw8wQKyqqqqqqjBARhdddNFFMUDigw8++OAxQHzwwQcffDJAGF100UUXM0CyySabbLIzQE422WSTTTRA6qKLLrroNECEDz744IM1QCB88MEHHzZAuuiiiy66NkBWVVVVVVU3QPDBBx988DdAjC666KKLOEAom2yyySY5QMIHH3zwwTlAXnTRRRddOkD44IMPPvg6QJRNNtlkkztAMLrooosuPEDKJptsssk8QGaTTTbZZD1AAAAAAAAAPkA=",
          "dtype": "f8"
         },
         "y": {
          "bdata": "6i830QxSMUD69TB6M9owQOsJbWp6YTBAFguhd5vPL0DMFmrTLdouQHzoXa544i1Ani+EcEHoLEBcaGGqROsrQFjPdjc06ypAdcCY2rTnKUCH1pIjW+AoQClnflen1CdAvzmz8v/DJkAujckjqq0lQC5wEkO/kCRAJlYtqx1sI0CebXQ5Uj4iQERinp51BSFAe8s1wuh9H0DHSB5BXs4cQHN2I5CU8RlAwHcdnI7WFkCfVqhWdV8TQDz+VGV5nA5A3BhuKeHXA0AAAAAAAAD4/wAAAAAAAPj/AAAAAAAA+P8AAAAAAAD4/wAAAAAAAPj/AAAAAAAA+P8AAAAAAAD4/wAAAAAAAPj/AAAAAAAA+P8AAAAAAAD4/wAAAAAAAPj/AAAAAAAA+P8AAAAAAAD4/wAAAAAAAPj/AAAAAAAA+P8AAAAAAAD4/wAAAAAAAPj/AAAAAAAA+P8AAAAAAAD4/wAAAAAAAPj/AAAAAAAA+P8AAAAAAAD4/wAAAAAAAPj/AAAAAAAA+P8AAAAAAAD4/wAAAAAAAPj/AAAAAAAA+P8AAAAAAAD4/wAAAAAAAPj/AAAAAAAA+P8AAAAAAAD4/wAAAAAAAPj/AAAAAAAA+P8AAAAAAAD4/wAAAAAAAPj/AAAAAAAA+P8AAAAAAAD4/wAAAAAAAPj/AAAAAAAA+P8AAAAAAAD4/wAAAAAAAPj/AAAAAAAA+P8AAAAAAAD4/wAAAAAAAPj/AAAAAAAA+P8AAAAAAAD4/wAAAAAAAPj/AAAAAAAA+P8AAAAAAAD4/wAAAAAAAPj/3BhuKeHXA0A8/lRleZwOQKxWqFZ1XxNAwHcdnI7WFkB6diOQlPEZQMdIHkFezhxAf8s1wuh9H0BEYp6edQUhQJ5tdDlSPiJAKlYtqx1sI0AucBJDv5AkQDCNySOqrSVAvzmz8v/DJkAqZ35Xp9QnQIfWkiNb4ChAdcCY2rTnKUBaz3Y3NOsqQFxoYapE6ytAoC+EcEHoLEB86F2ueOItQM4WatMt2i5AGQuhd5vPL0DrCW1qemEwQPv1MHoz2jBA6i830QxSMUA=",
          "dtype": "f8"
         }
        },
        {
         "mode": "markers",
         "name": "Aspersores",
         "type": "scatter",
         "x": [
          -15,
          15
         ],
         "y": [
          0,
          0
         ]
        }
       ],
       "layout": {
        "template": {
         "data": {
          "bar": [
           {
            "error_x": {
             "color": "#2a3f5f"
            },
            "error_y": {
             "color": "#2a3f5f"
            },
            "marker": {
             "line": {
              "color": "#E5ECF6",
              "width": 0.5
             },
             "pattern": {
              "fillmode": "overlay",
              "size": 10,
              "solidity": 0.2
             }
            },
            "type": "bar"
           }
          ],
          "barpolar": [
           {
            "marker": {
             "line": {
              "color": "#E5ECF6",
              "width": 0.5
             },
             "pattern": {
              "fillmode": "overlay",
              "size": 10,
              "solidity": 0.2
             }
            },
            "type": "barpolar"
           }
          ],
          "carpet": [
           {
            "aaxis": {
             "endlinecolor": "#2a3f5f",
             "gridcolor": "white",
             "linecolor": "white",
             "minorgridcolor": "white",
             "startlinecolor": "#2a3f5f"
            },
            "baxis": {
             "endlinecolor": "#2a3f5f",
             "gridcolor": "white",
             "linecolor": "white",
             "minorgridcolor": "white",
             "startlinecolor": "#2a3f5f"
            },
            "type": "carpet"
           }
          ],
          "choropleth": [
           {
            "colorbar": {
             "outlinewidth": 0,
             "ticks": ""
            },
            "type": "choropleth"
           }
          ],
          "contour": [
           {
            "colorbar": {
             "outlinewidth": 0,
             "ticks": ""
            },
            "colorscale": [
             [
              0,
              "#0d0887"
             ],
             [
              0.1111111111111111,
              "#46039f"
             ],
             [
              0.2222222222222222,
              "#7201a8"
             ],
             [
              0.3333333333333333,
              "#9c179e"
             ],
             [
              0.4444444444444444,
              "#bd3786"
             ],
             [
              0.5555555555555556,
              "#d8576b"
             ],
             [
              0.6666666666666666,
              "#ed7953"
             ],
             [
              0.7777777777777778,
              "#fb9f3a"
             ],
             [
              0.8888888888888888,
              "#fdca26"
             ],
             [
              1,
              "#f0f921"
             ]
            ],
            "type": "contour"
           }
          ],
          "contourcarpet": [
           {
            "colorbar": {
             "outlinewidth": 0,
             "ticks": ""
            },
            "type": "contourcarpet"
           }
          ],
          "heatmap": [
           {
            "colorbar": {
             "outlinewidth": 0,
             "ticks": ""
            },
            "colorscale": [
             [
              0,
              "#0d0887"
             ],
             [
              0.1111111111111111,
              "#46039f"
             ],
             [
              0.2222222222222222,
              "#7201a8"
             ],
             [
              0.3333333333333333,
              "#9c179e"
             ],
             [
              0.4444444444444444,
              "#bd3786"
             ],
             [
              0.5555555555555556,
              "#d8576b"
             ],
             [
              0.6666666666666666,
              "#ed7953"
             ],
             [
              0.7777777777777778,
              "#fb9f3a"
             ],
             [
              0.8888888888888888,
              "#fdca26"
             ],
             [
              1,
              "#f0f921"
             ]
            ],
            "type": "heatmap"
           }
          ],
          "histogram": [
           {
            "marker": {
             "pattern": {
              "fillmode": "overlay",
              "size": 10,
              "solidity": 0.2
             }
            },
            "type": "histogram"
           }
          ],
          "histogram2d": [
           {
            "colorbar": {
             "outlinewidth": 0,
             "ticks": ""
            },
            "colorscale": [
             [
              0,
              "#0d0887"
             ],
             [
              0.1111111111111111,
              "#46039f"
             ],
             [
              0.2222222222222222,
              "#7201a8"
             ],
             [
              0.3333333333333333,
              "#9c179e"
             ],
             [
              0.4444444444444444,
              "#bd3786"
             ],
             [
              0.5555555555555556,
              "#d8576b"
             ],
             [
              0.6666666666666666,
              "#ed7953"
             ],
             [
              0.7777777777777778,
              "#fb9f3a"
             ],
             [
              0.8888888888888888,
              "#fdca26"
             ],
             [
              1,
              "#f0f921"
             ]
            ],
            "type": "histogram2d"
           }
          ],
          "histogram2dcontour": [
           {
            "colorbar": {
             "outlinewidth": 0,
             "ticks": ""
            },
            "colorscale": [
             [
              0,
              "#0d0887"
             ],
             [
              0.1111111111111111,
              "#46039f"
             ],
             [
              0.2222222222222222,
              "#7201a8"
             ],
             [
              0.3333333333333333,
              "#9c179e"
             ],
             [
              0.4444444444444444,
              "#bd3786"
             ],
             [
              0.5555555555555556,
              "#d8576b"
             ],
             [
              0.6666666666666666,
              "#ed7953"
             ],
             [
              0.7777777777777778,
              "#fb9f3a"
             ],
             [
              0.8888888888888888,
              "#fdca26"
             ],
             [
              1,
              "#f0f921"
             ]
            ],
            "type": "histogram2dcontour"
           }
          ],
          "mesh3d": [
           {
            "colorbar": {
             "outlinewidth": 0,
             "ticks": ""
            },
            "type": "mesh3d"
           }
          ],
          "parcoords": [
           {
            "line": {
             "colorbar": {
              "outlinewidth": 0,
              "ticks": ""
             }
            },
            "type": "parcoords"
           }
          ],
          "pie": [
           {
            "automargin": true,
            "type": "pie"
           }
          ],
          "scatter": [
           {
            "fillpattern": {
             "fillmode": "overlay",
             "size": 10,
             "solidity": 0.2
            },
            "type": "scatter"
           }
          ],
          "scatter3d": [
           {
            "line": {
             "colorbar": {
              "outlinewidth": 0,
              "ticks": ""
             }
            },
            "marker": {
             "colorbar": {
              "outlinewidth": 0,
              "ticks": ""
             }
            },
            "type": "scatter3d"
           }
          ],
          "scattercarpet": [
           {
            "marker": {
             "colorbar": {
              "outlinewidth": 0,
              "ticks": ""
             }
            },
            "type": "scattercarpet"
           }
          ],
          "scattergeo": [
           {
            "marker": {
             "colorbar": {
              "outlinewidth": 0,
              "ticks": ""
             }
            },
            "type": "scattergeo"
           }
          ],
          "scattergl": [
           {
            "marker": {
             "colorbar": {
              "outlinewidth": 0,
              "ticks": ""
             }
            },
            "type": "scattergl"
           }
          ],
          "scattermap": [
           {
            "marker": {
             "colorbar": {
              "outlinewidth": 0,
              "ticks": ""
             }
            },
            "type": "scattermap"
           }
          ],
          "scattermapbox": [
           {
            "marker": {
             "colorbar": {
              "outlinewidth": 0,
              "ticks": ""
             }
            },
            "type": "scattermapbox"
           }
          ],
          "scatterpolar": [
           {
            "marker": {
             "colorbar": {
              "outlinewidth": 0,
              "ticks": ""
             }
            },
            "type": "scatterpolar"
           }
          ],
          "scatterpolargl": [
           {
            "marker": {
             "colorbar": {
              "outlinewidth": 0,
              "ticks": ""
             }
            },
            "type": "scatterpolargl"
           }
          ],
          "scatterternary": [
           {
            "marker": {
             "colorbar": {
              "outlinewidth": 0,
              "ticks": ""
             }
            },
            "type": "scatterternary"
           }
          ],
          "surface": [
           {
            "colorbar": {
             "outlinewidth": 0,
             "ticks": ""
            },
            "colorscale": [
             [
              0,
              "#0d0887"
             ],
             [
              0.1111111111111111,
              "#46039f"
             ],
             [
              0.2222222222222222,
              "#7201a8"
             ],
             [
              0.3333333333333333,
              "#9c179e"
             ],
             [
              0.4444444444444444,
              "#bd3786"
             ],
             [
              0.5555555555555556,
              "#d8576b"
             ],
             [
              0.6666666666666666,
              "#ed7953"
             ],
             [
              0.7777777777777778,
              "#fb9f3a"
             ],
             [
              0.8888888888888888,
              "#fdca26"
             ],
             [
              1,
              "#f0f921"
             ]
            ],
            "type": "surface"
           }
          ],
          "table": [
           {
            "cells": {
             "fill": {
              "color": "#EBF0F8"
             },
             "line": {
              "color": "white"
             }
            },
            "header": {
             "fill": {
              "color": "#C8D4E3"
             },
             "line": {
              "color": "white"
             }
            },
            "type": "table"
           }
          ]
         },
         "layout": {
          "annotationdefaults": {
           "arrowcolor": "#2a3f5f",
           "arrowhead": 0,
           "arrowwidth": 1
          },
          "autotypenumbers": "strict",
          "coloraxis": {
           "colorbar": {
            "outlinewidth": 0,
            "ticks": ""
           }
          },
          "colorscale": {
           "diverging": [
            [
             0,
             "#8e0152"
            ],
            [
             0.1,
             "#c51b7d"
            ],
            [
             0.2,
             "#de77ae"
            ],
            [
             0.3,
             "#f1b6da"
            ],
            [
             0.4,
             "#fde0ef"
            ],
            [
             0.5,
             "#f7f7f7"
            ],
            [
             0.6,
             "#e6f5d0"
            ],
            [
             0.7,
             "#b8e186"
            ],
            [
             0.8,
             "#7fbc41"
            ],
            [
             0.9,
             "#4d9221"
            ],
            [
             1,
             "#276419"
            ]
           ],
           "sequential": [
            [
             0,
             "#0d0887"
            ],
            [
             0.1111111111111111,
             "#46039f"
            ],
            [
             0.2222222222222222,
             "#7201a8"
            ],
            [
             0.3333333333333333,
             "#9c179e"
            ],
            [
             0.4444444444444444,
             "#bd3786"
            ],
            [
             0.5555555555555556,
             "#d8576b"
            ],
            [
             0.6666666666666666,
             "#ed7953"
            ],
            [
             0.7777777777777778,
             "#fb9f3a"
            ],
            [
             0.8888888888888888,
             "#fdca26"
            ],
            [
             1,
             "#f0f921"
            ]
           ],
           "sequentialminus": [
            [
             0,
             "#0d0887"
            ],
            [
             0.1111111111111111,
             "#46039f"
            ],
            [
             0.2222222222222222,
             "#7201a8"
            ],
            [
             0.3333333333333333,
             "#9c179e"
            ],
            [
             0.4444444444444444,
             "#bd3786"
            ],
            [
             0.5555555555555556,
             "#d8576b"
            ],
            [
             0.6666666666666666,
             "#ed7953"
            ],
            [
             0.7777777777777778,
             "#fb9f3a"
            ],
            [
             0.8888888888888888,
             "#fdca26"
            ],
            [
             1,
             "#f0f921"
            ]
           ]
          },
          "colorway": [
           "#636efa",
           "#EF553B",
           "#00cc96",
           "#ab63fa",
           "#FFA15A",
           "#19d3f3",
           "#FF6692",
           "#B6E880",
           "#FF97FF",
           "#FECB52"
          ],
          "font": {
           "color": "#2a3f5f"
          },
          "geo": {
           "bgcolor": "white",
           "lakecolor": "white",
           "landcolor": "#E5ECF6",
           "showlakes": true,
           "showland": true,
           "subunitcolor": "white"
          },
          "hoverlabel": {
           "align": "left"
          },
          "hovermode": "closest",
          "mapbox": {
           "style": "light"
          },
          "paper_bgcolor": "white",
          "plot_bgcolor": "#E5ECF6",
          "polar": {
           "angularaxis": {
            "gridcolor": "white",
            "linecolor": "white",
            "ticks": ""
           },
           "bgcolor": "#E5ECF6",
           "radialaxis": {
            "gridcolor": "white",
            "linecolor": "white",
            "ticks": ""
           }
          },
          "scene": {
           "xaxis": {
            "backgroundcolor": "#E5ECF6",
            "gridcolor": "white",
            "gridwidth": 2,
            "linecolor": "white",
            "showbackground": true,
            "ticks": "",
            "zerolinecolor": "white"
           },
           "yaxis": {
            "backgroundcolor": "#E5ECF6",
            "gridcolor": "white",
            "gridwidth": 2,
            "linecolor": "white",
            "showbackground": true,
            "ticks": "",
            "zerolinecolor": "white"
           },
           "zaxis": {
            "backgroundcolor": "#E5ECF6",
            "gridcolor": "white",
            "gridwidth": 2,
            "linecolor": "white",
            "showbackground": true,
            "ticks": "",
            "zerolinecolor": "white"
           }
          },
          "shapedefaults": {
           "line": {
            "color": "#2a3f5f"
           }
          },
          "ternary": {
           "aaxis": {
            "gridcolor": "white",
            "linecolor": "white",
            "ticks": ""
           },
           "baxis": {
            "gridcolor": "white",
            "linecolor": "white",
            "ticks": ""
           },
           "bgcolor": "#E5ECF6",
           "caxis": {
            "gridcolor": "white",
            "linecolor": "white",
            "ticks": ""
           }
          },
          "title": {
           "x": 0.05
          },
          "xaxis": {
           "automargin": true,
           "gridcolor": "white",
           "linecolor": "white",
           "ticks": "",
           "title": {
            "standoff": 15
           },
           "zerolinecolor": "white",
           "zerolinewidth": 2
          },
          "yaxis": {
           "automargin": true,
           "gridcolor": "white",
           "linecolor": "white",
           "ticks": "",
           "title": {
            "standoff": 15
           },
           "zerolinecolor": "white",
           "zerolinewidth": 2
          }
         }
        },
        "title": {
         "text": "Sistema de Riego Hiperbólico - Cultivo de Plátano"
        }
       }
      }
     },
     "metadata": {},
     "output_type": "display_data"
    }
   ],
   "source": [
    " \n",
    "import numpy as np \n",
    "import plotly.graph_objects as go\n",
    "\n",
    "a, b = 15, 10\n",
    "x = np.linspace(-30, 30, 100)\n",
    "y = b * np.sqrt((x**2 / a**2) - 1)\n",
    "\n",
    "fig = go.Figure(data=go.Scatter(x=x, y=y, mode='lines', name='Hipérbola Riego'))\n",
    "fig.add_trace(go.Scatter(x=[-a, a], y=[0,0], mode='markers', name='Aspersores'))\n",
    "fig.update_layout(title='Sistema de Riego Hiperbólico - Cultivo de Plátano')\n",
    "fig.show()\n",
    "\n",
    "\n",
    "\n"
   ]
  },
  {
   "cell_type": "markdown",
   "id": "71102700",
   "metadata": {},
   "source": [
    "\n",
    "### **5. Historia Épica (Estilo Cuentero Antioqueño)**  \n",
    "*\"¡Oiga pues, paisano! En las montañas de Caucasia, la ingeniera María \"La Hiperbólica\" descubrió en 1998 que los viejos silos de maíz se calentaban demasiado. Usando las ideas de Apolonio de Perga (el griego de las cónicas), diseñó silos con paredes hiperbólicas que atrapaban el aire fresco. ¡Los focos de la hipérbola servían para colocar termómetros! Así nacieron los primeros silos termoregulados del Bajo Cauca. Hoy, sus ecuaciones salvan cosechas: $ \\frac{calor}{sombra} - \\frac{humedad}{viento} = 1 $.\"*  \n",
    "\n",
    "**Imágenes Sugeridas:**  \n",
    "- [Apolonio de Perga](https://ejemplo.com/apolonio.jpg)  \n",
    "- [Ing. María con Plátanos](https://ejemplo.com/maria_hiperbola.jpg)  \n",
    "\n",
    "---\n"
   ]
  },
  {
   "cell_type": "markdown",
   "id": "7c860e4c",
   "metadata": {},
   "source": [
    "\n",
    "### **6. Actividades de Aprendizaje**  \n",
    "**Jupyter Lab 1:**  \n"
   ]
  },
  {
   "cell_type": "code",
   "execution_count": null,
   "id": "07d60f79",
   "metadata": {},
   "outputs": [],
   "source": [
    "\n",
    "from ipywidgets import interactive\n",
    "\n",
    "def plot_hiperbola(a=15, b=10):\n",
    "    x = np.linspace(-3*a, 3*a, 400)\n",
    "    y = b * np.sqrt((x**2 / a**2) - 1)\n",
    "    plt.plot(x, y, 'g-', label='Área de Riego')\n",
    "    plt.scatter([-a, a], [0,0], c='red', label='Aspersores')\n",
    "    plt.title(f'Riego Hiperbólico: a={a}m, b={b}m')\n",
    "    \n",
    "interactive(plot_hiperbola, a=(5,25), b=(5,20))\n",
    "\n"
   ]
  },
  {
   "cell_type": "markdown",
   "id": "217fd0e1",
   "metadata": {},
   "source": [
    "\n",
    "**Role-Play ABP:**  \n",
    "- Grupo A: Agricultores con problema de riego desigual.  \n",
    "- Grupo B: Ingenieros que proponen solución hiperbólica.  \n",
    "- Debate con datos matemáticos y costos económicos.  \n",
    "\n",
    "---\n"
   ]
  },
  {
   "cell_type": "markdown",
   "id": "34bd3375",
   "metadata": {},
   "source": [
    "\n",
    "### **7. Poema Concreto**  \n",
    "**Ritmo: Bambuco**  \n",
    "*\"Dos focos tiene la hipérbola,  \n",
    "como dos ojos en el campo.  \n",
    "El tractorista con su GPS  \n",
    "traza rutas sin dañar el terreno.  \n",
    "\n",
    "Asíntotas son sus guías,  \n",
    "líneas que nunca tocará,  \n",
    "como el riego que moja justo  \n",
    "donde la planta lo necesitará.\"*  \n",
    "\n",
    "---\n"
   ]
  },
  {
   "cell_type": "markdown",
   "id": "4168e7c6",
   "metadata": {},
   "source": [
    "\n",
    "### **8. Tarea de Ejercitación**  \n",
    "**Problema:** Un silo hiperbólico tiene ecuación $ \\frac{x^2}{25} - \\frac{y^2}{16} = 1 $.  \n",
    "1. Calcular posición de sensores térmicos (focos).  \n",
    "2. Simular en Python cómo varía el área de almacenamiento si $b$ aumenta 20%.  \n",
    "3. Relacionar con:  \n",
    "   - **Contexto Familiar:** \"Si tu casa fuera un silo, ¿dónde colocarías ventanas usando focos?\"  \n",
    "\n",
    "---\n"
   ]
  },
  {
   "cell_type": "markdown",
   "id": "2f95e37c",
   "metadata": {},
   "source": [
    "\n",
    "# **9. Evaluación**  \n"
   ]
  },
  {
   "cell_type": "markdown",
   "id": "14e373d0",
   "metadata": {},
   "source": [
    "## **Proyectos:** "
   ]
  },
  {
   "cell_type": "markdown",
   "id": "27dfb903",
   "metadata": {},
   "source": [
    " \n",
    "1. Modelo 3D de silo hiperbólico con control térmico.  \n",
    "2. Algoritmo para corregir deriva GPS en tractores usando hipérbolas. \n",
    "3. Sistema de riego hiperbólico con GeoGebra o con Python.  \n",
    "4. Estructuras agrarias hiperbólicas para optimizar el uso de la energía solar.\n",
    "5. Aplicación de la hipérbola en la navegación de drones para monitoreo agrícola.\n",
    "6. Hivernaderos hiperbólicos para cultivos de alto valor.\n",
    "7. Proyecto sobre **La silvicultura** (el manejo científico de bosques para producción sostenible de madera, biodiversidad y servicios ecosistémicos)\n"
   ]
  },
  {
   "cell_type": "markdown",
   "id": "3f14b46c",
   "metadata": {},
   "source": [
    "# 3. Sistema de riego hiperbólico con GeoGebra o con Python. "
   ]
  },
  {
   "cell_type": "code",
   "execution_count": null,
   "id": "40b91603",
   "metadata": {
    "vscode": {
     "languageId": "yaml"
    }
   },
   "outputs": [],
   "source": [
    "El diseño de riego hiperbólico que te entregué utiliza las propiedades geométricas de la hipérbola para optimizar la cobertura de agua en un campo agrícola. Aquí está el sentido del diseño:\n",
    "\n",
    "1. **Hipérbola como Modelo Matemático**:\n",
    "    - La hipérbola es una curva definida por la ecuación $ \\frac{x^2}{a^2} - \\frac{y^2}{b^2} = 1 $. En este caso, se utiliza para modelar el patrón de riego generado por aspersores colocados en los focos de la hipérbola.\n",
    "    - Los focos están ubicados en $(-a, 0)$ y \\((a, 0)\\), y representan las posiciones de los aspersores.\n",
    "\n",
    "2. **Cobertura de Riego**:\n",
    "    - El semieje mayor ($a$) representa la distancia entre los focos dividida por 2.   \n",
    "      Esto define la separación entre los aspersores.\n",
    "    - El semieje menor ($b$) representa el radio efectivo de riego, es decir,   \n",
    "      hasta dónde puede llegar el agua en la dirección perpendicular al eje principal.\n",
    "\n",
    "3. **Optimización del Uso del Agua**:\n",
    "    - El patrón hiperbólico asegura que el agua se distribuya de manera uniforme en las áreas críticas, minimizando el desperdicio y maximizando la cobertura.\n",
    "\n",
    "4. **Visualización Interactiva**:\n",
    "    - El código genera un gráfico interactivo con Plotly, mostrando:\n",
    "      - La hipérbola superior e inferior, que representan las áreas de cobertura.\n",
    "      - Los puntos de los aspersores en los focos.\n",
    "    - Esto permite visualizar cómo se distribuye el agua en el campo.\n",
    "\n",
    "5. **Aplicación Práctica**:\n",
    "    - Este diseño es útil en la agricultura para planificar sistemas de riego eficientes, especialmente en terrenos grandes o irregulares, donde la cobertura uniforme es crucial.\n",
    "\n",
    "En resumen, este diseño combina matemáticas y tecnología para resolver problemas prácticos en la agricultura, optimizando el uso de recursos como el agua."
   ]
  },
  {
   "cell_type": "code",
   "execution_count": 5,
   "id": "d3c97a20",
   "metadata": {},
   "outputs": [
    {
     "name": "stderr",
     "output_type": "stream",
     "text": [
      "C:\\Users\\marco\\AppData\\Local\\Temp\\ipykernel_23012\\151307385.py:19: RuntimeWarning:\n",
      "\n",
      "invalid value encountered in sqrt\n",
      "\n"
     ]
    },
    {
     "data": {
      "application/vnd.plotly.v1+json": {
       "config": {
        "plotlyServerURL": "https://plot.ly"
       },
       "data": [
        {
         "mode": "lines",
         "name": "Hipérbola Superior",
         "type": "scatter",
         "x": {
          "bdata": "AAAAAAAAPsBlk0022WQ9wMomm2yyyTzALrrooosuPMCTTTbZZJM7wPjggw8++DrAXXTRRRddOsDCBx988ME5wCebbLLJJjnAjC666KKLOMDwwQcffPA3wFVVVVVVVTfAuuiiiy66NsAffPDBBx82wIQPPvjggzXA6KKLLrroNMBONtlkk000wLLJJptssjPAF1100UUXM8B88MEHH3wywOGDDz744DHARhdddNFFMcCqqqqqqqowwBA++OCDDzDA6KKLLrroLsCyySabbLItwHzwwQcffCzARhdddNFFK8AQPvjggw8qwNhkk0022SjAoosuuuiiJ8Bssskmm2wmwDbZZJNNNiXAAAAAAAAAJMDKJptssskiwJRNNtlkkyHAXHTRRRddIMBMNtlkk00ewOCDDz744BvAdNFFF110GcAIH3zwwQcXwJxssskmmxTALLrooosuEsCADz744IMPwKiqqqqqqgrA0EUXXXTRBcD44IMPPvgAwED44IMPPvi/AF100UUX7b9Ak0022WTTv4CTTTbZZNM/IF100UUX7T9A+OCDDz74PwDhgw8++ABA0EUXXXTRBUCwqqqqqqoKQIAPPvjggw9AMLrooosuEkCgbLLJJpsUQAgffPDBBxdAeNFFF110GUDggw8++OAbQFA22WSTTR5AXHTRRRddIECUTTbZZJMhQMwmm2yyySJAAAAAAAAAJEA42WSTTTYlQGyyySabbCZApIsuuuiiJ0DYZJNNNtkoQBA++OCDDypASBdddNFFK0B88MEHH3wsQLTJJptssi1A6KKLLrroLkAQPvjggw8wQKyqqqqqqjBARhdddNFFMUDigw8++OAxQHzwwQcffDJAGF100UUXM0CyySabbLIzQE422WSTTTRA6qKLLrroNECEDz744IM1QCB88MEHHzZAuuiiiy66NkBWVVVVVVU3QPDBBx988DdAjC666KKLOEAom2yyySY5QMIHH3zwwTlAXnTRRRddOkD44IMPPvg6QJRNNtlkkztAMLrooosuPEDKJptsssk8QGaTTTbZZD1AAAAAAAAAPkA=",
          "dtype": "f8"
         },
         "y": {
          "bdata": "6i830QxSMUD69TB6M9owQOsJbWp6YTBAFguhd5vPL0DMFmrTLdouQHzoXa544i1Ani+EcEHoLEBcaGGqROsrQFjPdjc06ypAdcCY2rTnKUCH1pIjW+AoQClnflen1CdAvzmz8v/DJkAujckjqq0lQC5wEkO/kCRAJlYtqx1sI0CebXQ5Uj4iQERinp51BSFAe8s1wuh9H0DHSB5BXs4cQHN2I5CU8RlAwHcdnI7WFkCfVqhWdV8TQDz+VGV5nA5A3BhuKeHXA0AAAAAAAAD4/wAAAAAAAPj/AAAAAAAA+P8AAAAAAAD4/wAAAAAAAPj/AAAAAAAA+P8AAAAAAAD4/wAAAAAAAPj/AAAAAAAA+P8AAAAAAAD4/wAAAAAAAPj/AAAAAAAA+P8AAAAAAAD4/wAAAAAAAPj/AAAAAAAA+P8AAAAAAAD4/wAAAAAAAPj/AAAAAAAA+P8AAAAAAAD4/wAAAAAAAPj/AAAAAAAA+P8AAAAAAAD4/wAAAAAAAPj/AAAAAAAA+P8AAAAAAAD4/wAAAAAAAPj/AAAAAAAA+P8AAAAAAAD4/wAAAAAAAPj/AAAAAAAA+P8AAAAAAAD4/wAAAAAAAPj/AAAAAAAA+P8AAAAAAAD4/wAAAAAAAPj/AAAAAAAA+P8AAAAAAAD4/wAAAAAAAPj/AAAAAAAA+P8AAAAAAAD4/wAAAAAAAPj/AAAAAAAA+P8AAAAAAAD4/wAAAAAAAPj/AAAAAAAA+P8AAAAAAAD4/wAAAAAAAPj/AAAAAAAA+P8AAAAAAAD4/wAAAAAAAPj/3BhuKeHXA0A8/lRleZwOQKxWqFZ1XxNAwHcdnI7WFkB6diOQlPEZQMdIHkFezhxAf8s1wuh9H0BEYp6edQUhQJ5tdDlSPiJAKlYtqx1sI0AucBJDv5AkQDCNySOqrSVAvzmz8v/DJkAqZ35Xp9QnQIfWkiNb4ChAdcCY2rTnKUBaz3Y3NOsqQFxoYapE6ytAoC+EcEHoLEB86F2ueOItQM4WatMt2i5AGQuhd5vPL0DrCW1qemEwQPv1MHoz2jBA6i830QxSMUA=",
          "dtype": "f8"
         }
        },
        {
         "mode": "lines",
         "name": "Hipérbola Inferior",
         "type": "scatter",
         "x": {
          "bdata": "AAAAAAAAPsBlk0022WQ9wMomm2yyyTzALrrooosuPMCTTTbZZJM7wPjggw8++DrAXXTRRRddOsDCBx988ME5wCebbLLJJjnAjC666KKLOMDwwQcffPA3wFVVVVVVVTfAuuiiiy66NsAffPDBBx82wIQPPvjggzXA6KKLLrroNMBONtlkk000wLLJJptssjPAF1100UUXM8B88MEHH3wywOGDDz744DHARhdddNFFMcCqqqqqqqowwBA++OCDDzDA6KKLLrroLsCyySabbLItwHzwwQcffCzARhdddNFFK8AQPvjggw8qwNhkk0022SjAoosuuuiiJ8Bssskmm2wmwDbZZJNNNiXAAAAAAAAAJMDKJptssskiwJRNNtlkkyHAXHTRRRddIMBMNtlkk00ewOCDDz744BvAdNFFF110GcAIH3zwwQcXwJxssskmmxTALLrooosuEsCADz744IMPwKiqqqqqqgrA0EUXXXTRBcD44IMPPvgAwED44IMPPvi/AF100UUX7b9Ak0022WTTv4CTTTbZZNM/IF100UUX7T9A+OCDDz74PwDhgw8++ABA0EUXXXTRBUCwqqqqqqoKQIAPPvjggw9AMLrooosuEkCgbLLJJpsUQAgffPDBBxdAeNFFF110GUDggw8++OAbQFA22WSTTR5AXHTRRRddIECUTTbZZJMhQMwmm2yyySJAAAAAAAAAJEA42WSTTTYlQGyyySabbCZApIsuuuiiJ0DYZJNNNtkoQBA++OCDDypASBdddNFFK0B88MEHH3wsQLTJJptssi1A6KKLLrroLkAQPvjggw8wQKyqqqqqqjBARhdddNFFMUDigw8++OAxQHzwwQcffDJAGF100UUXM0CyySabbLIzQE422WSTTTRA6qKLLrroNECEDz744IM1QCB88MEHHzZAuuiiiy66NkBWVVVVVVU3QPDBBx988DdAjC666KKLOEAom2yyySY5QMIHH3zwwTlAXnTRRRddOkD44IMPPvg6QJRNNtlkkztAMLrooosuPEDKJptsssk8QGaTTTbZZD1AAAAAAAAAPkA=",
          "dtype": "f8"
         },
         "y": {
          "bdata": "6i830QxSMcD69TB6M9owwOsJbWp6YTDAFguhd5vPL8DMFmrTLdouwHzoXa544i3Ani+EcEHoLMBcaGGqROsrwFjPdjc06yrAdcCY2rTnKcCH1pIjW+AowClnflen1CfAvzmz8v/DJsAujckjqq0lwC5wEkO/kCTAJlYtqx1sI8CebXQ5Uj4iwERinp51BSHAe8s1wuh9H8DHSB5BXs4cwHN2I5CU8RnAwHcdnI7WFsCfVqhWdV8TwDz+VGV5nA7A3BhuKeHXA8AAAAAAAAD4fwAAAAAAAPh/AAAAAAAA+H8AAAAAAAD4fwAAAAAAAPh/AAAAAAAA+H8AAAAAAAD4fwAAAAAAAPh/AAAAAAAA+H8AAAAAAAD4fwAAAAAAAPh/AAAAAAAA+H8AAAAAAAD4fwAAAAAAAPh/AAAAAAAA+H8AAAAAAAD4fwAAAAAAAPh/AAAAAAAA+H8AAAAAAAD4fwAAAAAAAPh/AAAAAAAA+H8AAAAAAAD4fwAAAAAAAPh/AAAAAAAA+H8AAAAAAAD4fwAAAAAAAPh/AAAAAAAA+H8AAAAAAAD4fwAAAAAAAPh/AAAAAAAA+H8AAAAAAAD4fwAAAAAAAPh/AAAAAAAA+H8AAAAAAAD4fwAAAAAAAPh/AAAAAAAA+H8AAAAAAAD4fwAAAAAAAPh/AAAAAAAA+H8AAAAAAAD4fwAAAAAAAPh/AAAAAAAA+H8AAAAAAAD4fwAAAAAAAPh/AAAAAAAA+H8AAAAAAAD4fwAAAAAAAPh/AAAAAAAA+H8AAAAAAAD4fwAAAAAAAPh/3BhuKeHXA8A8/lRleZwOwKxWqFZ1XxPAwHcdnI7WFsB6diOQlPEZwMdIHkFezhzAf8s1wuh9H8BEYp6edQUhwJ5tdDlSPiLAKlYtqx1sI8AucBJDv5AkwDCNySOqrSXAvzmz8v/DJsAqZ35Xp9QnwIfWkiNb4CjAdcCY2rTnKcBaz3Y3NOsqwFxoYapE6yvAoC+EcEHoLMB86F2ueOItwM4WatMt2i7AGQuhd5vPL8DrCW1qemEwwPv1MHoz2jDA6i830QxSMcA=",
          "dtype": "f8"
         }
        },
        {
         "mode": "markers",
         "name": "Aspersores",
         "type": "scatter",
         "x": [
          -15,
          15
         ],
         "y": [
          0,
          0
         ]
        }
       ],
       "layout": {
        "showlegend": true,
        "template": {
         "data": {
          "bar": [
           {
            "error_x": {
             "color": "#2a3f5f"
            },
            "error_y": {
             "color": "#2a3f5f"
            },
            "marker": {
             "line": {
              "color": "#E5ECF6",
              "width": 0.5
             },
             "pattern": {
              "fillmode": "overlay",
              "size": 10,
              "solidity": 0.2
             }
            },
            "type": "bar"
           }
          ],
          "barpolar": [
           {
            "marker": {
             "line": {
              "color": "#E5ECF6",
              "width": 0.5
             },
             "pattern": {
              "fillmode": "overlay",
              "size": 10,
              "solidity": 0.2
             }
            },
            "type": "barpolar"
           }
          ],
          "carpet": [
           {
            "aaxis": {
             "endlinecolor": "#2a3f5f",
             "gridcolor": "white",
             "linecolor": "white",
             "minorgridcolor": "white",
             "startlinecolor": "#2a3f5f"
            },
            "baxis": {
             "endlinecolor": "#2a3f5f",
             "gridcolor": "white",
             "linecolor": "white",
             "minorgridcolor": "white",
             "startlinecolor": "#2a3f5f"
            },
            "type": "carpet"
           }
          ],
          "choropleth": [
           {
            "colorbar": {
             "outlinewidth": 0,
             "ticks": ""
            },
            "type": "choropleth"
           }
          ],
          "contour": [
           {
            "colorbar": {
             "outlinewidth": 0,
             "ticks": ""
            },
            "colorscale": [
             [
              0,
              "#0d0887"
             ],
             [
              0.1111111111111111,
              "#46039f"
             ],
             [
              0.2222222222222222,
              "#7201a8"
             ],
             [
              0.3333333333333333,
              "#9c179e"
             ],
             [
              0.4444444444444444,
              "#bd3786"
             ],
             [
              0.5555555555555556,
              "#d8576b"
             ],
             [
              0.6666666666666666,
              "#ed7953"
             ],
             [
              0.7777777777777778,
              "#fb9f3a"
             ],
             [
              0.8888888888888888,
              "#fdca26"
             ],
             [
              1,
              "#f0f921"
             ]
            ],
            "type": "contour"
           }
          ],
          "contourcarpet": [
           {
            "colorbar": {
             "outlinewidth": 0,
             "ticks": ""
            },
            "type": "contourcarpet"
           }
          ],
          "heatmap": [
           {
            "colorbar": {
             "outlinewidth": 0,
             "ticks": ""
            },
            "colorscale": [
             [
              0,
              "#0d0887"
             ],
             [
              0.1111111111111111,
              "#46039f"
             ],
             [
              0.2222222222222222,
              "#7201a8"
             ],
             [
              0.3333333333333333,
              "#9c179e"
             ],
             [
              0.4444444444444444,
              "#bd3786"
             ],
             [
              0.5555555555555556,
              "#d8576b"
             ],
             [
              0.6666666666666666,
              "#ed7953"
             ],
             [
              0.7777777777777778,
              "#fb9f3a"
             ],
             [
              0.8888888888888888,
              "#fdca26"
             ],
             [
              1,
              "#f0f921"
             ]
            ],
            "type": "heatmap"
           }
          ],
          "histogram": [
           {
            "marker": {
             "pattern": {
              "fillmode": "overlay",
              "size": 10,
              "solidity": 0.2
             }
            },
            "type": "histogram"
           }
          ],
          "histogram2d": [
           {
            "colorbar": {
             "outlinewidth": 0,
             "ticks": ""
            },
            "colorscale": [
             [
              0,
              "#0d0887"
             ],
             [
              0.1111111111111111,
              "#46039f"
             ],
             [
              0.2222222222222222,
              "#7201a8"
             ],
             [
              0.3333333333333333,
              "#9c179e"
             ],
             [
              0.4444444444444444,
              "#bd3786"
             ],
             [
              0.5555555555555556,
              "#d8576b"
             ],
             [
              0.6666666666666666,
              "#ed7953"
             ],
             [
              0.7777777777777778,
              "#fb9f3a"
             ],
             [
              0.8888888888888888,
              "#fdca26"
             ],
             [
              1,
              "#f0f921"
             ]
            ],
            "type": "histogram2d"
           }
          ],
          "histogram2dcontour": [
           {
            "colorbar": {
             "outlinewidth": 0,
             "ticks": ""
            },
            "colorscale": [
             [
              0,
              "#0d0887"
             ],
             [
              0.1111111111111111,
              "#46039f"
             ],
             [
              0.2222222222222222,
              "#7201a8"
             ],
             [
              0.3333333333333333,
              "#9c179e"
             ],
             [
              0.4444444444444444,
              "#bd3786"
             ],
             [
              0.5555555555555556,
              "#d8576b"
             ],
             [
              0.6666666666666666,
              "#ed7953"
             ],
             [
              0.7777777777777778,
              "#fb9f3a"
             ],
             [
              0.8888888888888888,
              "#fdca26"
             ],
             [
              1,
              "#f0f921"
             ]
            ],
            "type": "histogram2dcontour"
           }
          ],
          "mesh3d": [
           {
            "colorbar": {
             "outlinewidth": 0,
             "ticks": ""
            },
            "type": "mesh3d"
           }
          ],
          "parcoords": [
           {
            "line": {
             "colorbar": {
              "outlinewidth": 0,
              "ticks": ""
             }
            },
            "type": "parcoords"
           }
          ],
          "pie": [
           {
            "automargin": true,
            "type": "pie"
           }
          ],
          "scatter": [
           {
            "fillpattern": {
             "fillmode": "overlay",
             "size": 10,
             "solidity": 0.2
            },
            "type": "scatter"
           }
          ],
          "scatter3d": [
           {
            "line": {
             "colorbar": {
              "outlinewidth": 0,
              "ticks": ""
             }
            },
            "marker": {
             "colorbar": {
              "outlinewidth": 0,
              "ticks": ""
             }
            },
            "type": "scatter3d"
           }
          ],
          "scattercarpet": [
           {
            "marker": {
             "colorbar": {
              "outlinewidth": 0,
              "ticks": ""
             }
            },
            "type": "scattercarpet"
           }
          ],
          "scattergeo": [
           {
            "marker": {
             "colorbar": {
              "outlinewidth": 0,
              "ticks": ""
             }
            },
            "type": "scattergeo"
           }
          ],
          "scattergl": [
           {
            "marker": {
             "colorbar": {
              "outlinewidth": 0,
              "ticks": ""
             }
            },
            "type": "scattergl"
           }
          ],
          "scattermap": [
           {
            "marker": {
             "colorbar": {
              "outlinewidth": 0,
              "ticks": ""
             }
            },
            "type": "scattermap"
           }
          ],
          "scattermapbox": [
           {
            "marker": {
             "colorbar": {
              "outlinewidth": 0,
              "ticks": ""
             }
            },
            "type": "scattermapbox"
           }
          ],
          "scatterpolar": [
           {
            "marker": {
             "colorbar": {
              "outlinewidth": 0,
              "ticks": ""
             }
            },
            "type": "scatterpolar"
           }
          ],
          "scatterpolargl": [
           {
            "marker": {
             "colorbar": {
              "outlinewidth": 0,
              "ticks": ""
             }
            },
            "type": "scatterpolargl"
           }
          ],
          "scatterternary": [
           {
            "marker": {
             "colorbar": {
              "outlinewidth": 0,
              "ticks": ""
             }
            },
            "type": "scatterternary"
           }
          ],
          "surface": [
           {
            "colorbar": {
             "outlinewidth": 0,
             "ticks": ""
            },
            "colorscale": [
             [
              0,
              "#0d0887"
             ],
             [
              0.1111111111111111,
              "#46039f"
             ],
             [
              0.2222222222222222,
              "#7201a8"
             ],
             [
              0.3333333333333333,
              "#9c179e"
             ],
             [
              0.4444444444444444,
              "#bd3786"
             ],
             [
              0.5555555555555556,
              "#d8576b"
             ],
             [
              0.6666666666666666,
              "#ed7953"
             ],
             [
              0.7777777777777778,
              "#fb9f3a"
             ],
             [
              0.8888888888888888,
              "#fdca26"
             ],
             [
              1,
              "#f0f921"
             ]
            ],
            "type": "surface"
           }
          ],
          "table": [
           {
            "cells": {
             "fill": {
              "color": "#EBF0F8"
             },
             "line": {
              "color": "white"
             }
            },
            "header": {
             "fill": {
              "color": "#C8D4E3"
             },
             "line": {
              "color": "white"
             }
            },
            "type": "table"
           }
          ]
         },
         "layout": {
          "annotationdefaults": {
           "arrowcolor": "#2a3f5f",
           "arrowhead": 0,
           "arrowwidth": 1
          },
          "autotypenumbers": "strict",
          "coloraxis": {
           "colorbar": {
            "outlinewidth": 0,
            "ticks": ""
           }
          },
          "colorscale": {
           "diverging": [
            [
             0,
             "#8e0152"
            ],
            [
             0.1,
             "#c51b7d"
            ],
            [
             0.2,
             "#de77ae"
            ],
            [
             0.3,
             "#f1b6da"
            ],
            [
             0.4,
             "#fde0ef"
            ],
            [
             0.5,
             "#f7f7f7"
            ],
            [
             0.6,
             "#e6f5d0"
            ],
            [
             0.7,
             "#b8e186"
            ],
            [
             0.8,
             "#7fbc41"
            ],
            [
             0.9,
             "#4d9221"
            ],
            [
             1,
             "#276419"
            ]
           ],
           "sequential": [
            [
             0,
             "#0d0887"
            ],
            [
             0.1111111111111111,
             "#46039f"
            ],
            [
             0.2222222222222222,
             "#7201a8"
            ],
            [
             0.3333333333333333,
             "#9c179e"
            ],
            [
             0.4444444444444444,
             "#bd3786"
            ],
            [
             0.5555555555555556,
             "#d8576b"
            ],
            [
             0.6666666666666666,
             "#ed7953"
            ],
            [
             0.7777777777777778,
             "#fb9f3a"
            ],
            [
             0.8888888888888888,
             "#fdca26"
            ],
            [
             1,
             "#f0f921"
            ]
           ],
           "sequentialminus": [
            [
             0,
             "#0d0887"
            ],
            [
             0.1111111111111111,
             "#46039f"
            ],
            [
             0.2222222222222222,
             "#7201a8"
            ],
            [
             0.3333333333333333,
             "#9c179e"
            ],
            [
             0.4444444444444444,
             "#bd3786"
            ],
            [
             0.5555555555555556,
             "#d8576b"
            ],
            [
             0.6666666666666666,
             "#ed7953"
            ],
            [
             0.7777777777777778,
             "#fb9f3a"
            ],
            [
             0.8888888888888888,
             "#fdca26"
            ],
            [
             1,
             "#f0f921"
            ]
           ]
          },
          "colorway": [
           "#636efa",
           "#EF553B",
           "#00cc96",
           "#ab63fa",
           "#FFA15A",
           "#19d3f3",
           "#FF6692",
           "#B6E880",
           "#FF97FF",
           "#FECB52"
          ],
          "font": {
           "color": "#2a3f5f"
          },
          "geo": {
           "bgcolor": "white",
           "lakecolor": "white",
           "landcolor": "#E5ECF6",
           "showlakes": true,
           "showland": true,
           "subunitcolor": "white"
          },
          "hoverlabel": {
           "align": "left"
          },
          "hovermode": "closest",
          "mapbox": {
           "style": "light"
          },
          "paper_bgcolor": "white",
          "plot_bgcolor": "#E5ECF6",
          "polar": {
           "angularaxis": {
            "gridcolor": "white",
            "linecolor": "white",
            "ticks": ""
           },
           "bgcolor": "#E5ECF6",
           "radialaxis": {
            "gridcolor": "white",
            "linecolor": "white",
            "ticks": ""
           }
          },
          "scene": {
           "xaxis": {
            "backgroundcolor": "#E5ECF6",
            "gridcolor": "white",
            "gridwidth": 2,
            "linecolor": "white",
            "showbackground": true,
            "ticks": "",
            "zerolinecolor": "white"
           },
           "yaxis": {
            "backgroundcolor": "#E5ECF6",
            "gridcolor": "white",
            "gridwidth": 2,
            "linecolor": "white",
            "showbackground": true,
            "ticks": "",
            "zerolinecolor": "white"
           },
           "zaxis": {
            "backgroundcolor": "#E5ECF6",
            "gridcolor": "white",
            "gridwidth": 2,
            "linecolor": "white",
            "showbackground": true,
            "ticks": "",
            "zerolinecolor": "white"
           }
          },
          "shapedefaults": {
           "line": {
            "color": "#2a3f5f"
           }
          },
          "ternary": {
           "aaxis": {
            "gridcolor": "white",
            "linecolor": "white",
            "ticks": ""
           },
           "baxis": {
            "gridcolor": "white",
            "linecolor": "white",
            "ticks": ""
           },
           "bgcolor": "#E5ECF6",
           "caxis": {
            "gridcolor": "white",
            "linecolor": "white",
            "ticks": ""
           }
          },
          "title": {
           "x": 0.05
          },
          "xaxis": {
           "automargin": true,
           "gridcolor": "white",
           "linecolor": "white",
           "ticks": "",
           "title": {
            "standoff": 15
           },
           "zerolinecolor": "white",
           "zerolinewidth": 2
          },
          "yaxis": {
           "automargin": true,
           "gridcolor": "white",
           "linecolor": "white",
           "ticks": "",
           "title": {
            "standoff": 15
           },
           "zerolinecolor": "white",
           "zerolinewidth": 2
          }
         }
        },
        "title": {
         "text": "Diseño de Sistema de Riego Hiperbólico"
        },
        "xaxis": {
         "title": {
          "text": "Distancia (m)"
         }
        },
        "yaxis": {
         "title": {
          "text": "Cobertura (m)"
         }
        }
       }
      }
     },
     "metadata": {},
     "output_type": "display_data"
    }
   ],
   "source": [
    "import numpy as np\n",
    "\n",
    "import plotly.graph_objects as go\n",
    "\n",
    "def diseno_aspersores_hiperbolico(a, b, rango_x=(-30, 30), puntos=100):\n",
    "    \"\"\"\n",
    "    Diseña un sistema de aspersores con patrón hiperbólico para riego.\n",
    "\n",
    "    Parámetros:\n",
    "    - a (int): Semieje mayor de la hipérbola (distancia entre los focos/2).\n",
    "    - b (int): Semieje menor de la hipérbola (radio efectivo de riego).\n",
    "    - rango_x (tuple): Rango de valores para el eje x.\n",
    "    - puntos (int): Número de puntos para graficar la hipérbola.\n",
    "\n",
    "    Retorna:\n",
    "    - fig (plotly.graph_objects.Figure): Gráfico interactivo del diseño.\n",
    "    \"\"\"\n",
    "    x = np.linspace(rango_x[0], rango_x[1], puntos)\n",
    "    y = b * np.sqrt((x**2 / a**2) - 1)\n",
    "    \n",
    "    # Crear figura interactiva\n",
    "    fig = go.Figure()\n",
    "    fig.add_trace(go.Scatter(x=x, y=y, mode='lines', name='Hipérbola Superior'))\n",
    "    fig.add_trace(go.Scatter(x=x, y=-y, mode='lines', name='Hipérbola Inferior'))\n",
    "    fig.add_trace(go.Scatter(x=[-a, a], y=[0, 0], mode='markers', name='Aspersores'))\n",
    "    \n",
    "    fig.update_layout(\n",
    "        title='Diseño de Sistema de Riego Hiperbólico',\n",
    "        xaxis_title='Distancia (m)',\n",
    "        yaxis_title='Cobertura (m)',\n",
    "        showlegend=True\n",
    "    )\n",
    "    \n",
    "    return fig\n",
    "\n",
    "# Ejemplo de uso\n",
    "if __name__ == \"__main__\":\n",
    "    a = 15  # Semieje mayor\n",
    "    b = 10  # Semieje menor\n",
    "    figura = diseno_aspersores_hiperbolico(a, b)\n",
    "    figura.show()"
   ]
  },
  {
   "cell_type": "markdown",
   "id": "f2a43f0b",
   "metadata": {},
   "source": [
    "\n",
    "**Quiz (3 Preguntas):**  \n",
    "1. En $ \\frac{x^2}{9} - \\frac{y^2}{4} = 1 $, las asíntotas son:  \n",
    "   a) $y = \\pm \\frac{2}{3}x$  \n"
   ]
  },
  {
   "cell_type": "markdown",
   "id": "07f4fde0",
   "metadata": {},
   "source": [
    "\n",
    "**Parcial (5 Puntos):**  \n",
    "1. Dado un sistema de riego con focos en (±8,0) y diferencia de distancias 10m, hallar ecuación.  \n",
    "\n",
    "---\n"
   ]
  },
  {
   "cell_type": "markdown",
   "id": "da52fd0c",
   "metadata": {},
   "source": [
    "\n",
    "### **10. Retroalimentación**  \n",
    "- **Taller de Errores:** Análisis colectivo de modelos computacionales fallidos.  \n",
    "- **Método 3-2-1:** 3 conceptos claros, 2 dudas, 1 analogía agrícola.  \n",
    "\n",
    "---\n"
   ]
  },
  {
   "cell_type": "markdown",
   "id": "99e08dea",
   "metadata": {},
   "source": [
    "\n",
    "### **11. Vocabulario Inglés**  \n",
    "- Hyperbola → Hipérbola  \n",
    "- Asymptotes → Asíntotas  \n",
    "- Thermal regulation → Termorregulación  \n",
    "\n",
    "---\n"
   ]
  },
  {
   "cell_type": "markdown",
   "id": "dd755690",
   "metadata": {},
   "source": [
    "\n",
    "### **12. Apéndice: Habilidades Blandas**  \n",
    "**Dinámica:**  \n",
    "- **Juego de Roles:** \"Eres un ingeniero que debe convencer a un agricultor escéptico usando modelos matemáticos\".  \n",
    "- **Técnica del Semáforo Emocional:**  \n",
    "  - **Rojo:** Identificar miedo a ecuaciones.  \n",
    "  - **Amarillo:** Practicar con ejemplos cotidianos.  \n",
    "  - **Verde:** Presentar proyectos con seguridad.  \n",
    "\n",
    "---\n"
   ]
  },
  {
   "cell_type": "markdown",
   "id": "b9151a54",
   "metadata": {},
   "source": [
    "\n",
    "### **Código Animación Hiperbólica**  \n",
    "```python\n"
   ]
  },
  {
   "cell_type": "code",
   "execution_count": 7,
   "id": "55d65c57",
   "metadata": {},
   "outputs": [
    {
     "ename": "TypeError",
     "evalue": "Animation.__init__() got an unexpected keyword argument 'bl'",
     "output_type": "error",
     "traceback": [
      "\u001b[31m---------------------------------------------------------------------------\u001b[39m",
      "\u001b[31mTypeError\u001b[39m                                 Traceback (most recent call last)",
      "\u001b[36mCell\u001b[39m\u001b[36m \u001b[39m\u001b[32mIn[7]\u001b[39m\u001b[32m, line 19\u001b[39m\n\u001b[32m     16\u001b[39m     ln.set_data(x, y)\n\u001b[32m     17\u001b[39m     \u001b[38;5;28;01mreturn\u001b[39;00m ln,\n\u001b[32m---> \u001b[39m\u001b[32m19\u001b[39m ani = \u001b[43mFuncAnimation\u001b[49m\u001b[43m(\u001b[49m\u001b[43mfig\u001b[49m\u001b[43m,\u001b[49m\u001b[43m \u001b[49m\u001b[43mupdate\u001b[49m\u001b[43m,\u001b[49m\u001b[43m \u001b[49m\u001b[43mframes\u001b[49m\u001b[43m=\u001b[49m\u001b[32;43m100\u001b[39;49m\u001b[43m,\u001b[49m\u001b[43m \u001b[49m\u001b[43minit_func\u001b[49m\u001b[43m=\u001b[49m\u001b[43minit\u001b[49m\u001b[43m,\u001b[49m\u001b[43m \u001b[49m\u001b[43mbl\u001b[49m\u001b[43m=\u001b[49m\u001b[38;5;28;43;01mTrue\u001b[39;49;00m\u001b[43m)\u001b[49m\n\u001b[32m     20\u001b[39m \u001b[38;5;28;01mfrom\u001b[39;00m\u001b[38;5;250m \u001b[39m\u001b[34;01mIPython\u001b[39;00m\u001b[34;01m.\u001b[39;00m\u001b[34;01mdisplay\u001b[39;00m\u001b[38;5;250m \u001b[39m\u001b[38;5;28;01mimport\u001b[39;00m HTML\n\u001b[32m     21\u001b[39m HTML(ani.to_jshtml())\n",
      "\u001b[36mFile \u001b[39m\u001b[32mc:\\Users\\marco\\Documentos\\docencia\\radicacion_vectorial_numerico\\.venv\\Lib\\site-packages\\matplotlib\\animation.py:1716\u001b[39m, in \u001b[36mFuncAnimation.__init__\u001b[39m\u001b[34m(self, fig, func, frames, init_func, fargs, save_count, cache_frame_data, **kwargs)\u001b[39m\n\u001b[32m   1713\u001b[39m \u001b[38;5;66;03m# Needs to be initialized so the draw functions work without checking\u001b[39;00m\n\u001b[32m   1714\u001b[39m \u001b[38;5;28mself\u001b[39m._save_seq = []\n\u001b[32m-> \u001b[39m\u001b[32m1716\u001b[39m \u001b[38;5;28;43msuper\u001b[39;49m\u001b[43m(\u001b[49m\u001b[43m)\u001b[49m\u001b[43m.\u001b[49m\u001b[34;43m__init__\u001b[39;49m\u001b[43m(\u001b[49m\u001b[43mfig\u001b[49m\u001b[43m,\u001b[49m\u001b[43m \u001b[49m\u001b[43m*\u001b[49m\u001b[43m*\u001b[49m\u001b[43mkwargs\u001b[49m\u001b[43m)\u001b[49m\n\u001b[32m   1718\u001b[39m \u001b[38;5;66;03m# Need to reset the saved seq, since right now it will contain data\u001b[39;00m\n\u001b[32m   1719\u001b[39m \u001b[38;5;66;03m# for a single frame from init, which is not what we want.\u001b[39;00m\n\u001b[32m   1720\u001b[39m \u001b[38;5;28mself\u001b[39m._save_seq = []\n",
      "\u001b[36mFile \u001b[39m\u001b[32mc:\\Users\\marco\\Documentos\\docencia\\radicacion_vectorial_numerico\\.venv\\Lib\\site-packages\\matplotlib\\animation.py:1440\u001b[39m, in \u001b[36mTimedAnimation.__init__\u001b[39m\u001b[34m(self, fig, interval, repeat_delay, repeat, event_source, *args, **kwargs)\u001b[39m\n\u001b[32m   1438\u001b[39m \u001b[38;5;28;01mif\u001b[39;00m event_source \u001b[38;5;129;01mis\u001b[39;00m \u001b[38;5;28;01mNone\u001b[39;00m:\n\u001b[32m   1439\u001b[39m     event_source = fig.canvas.new_timer(interval=\u001b[38;5;28mself\u001b[39m._interval)\n\u001b[32m-> \u001b[39m\u001b[32m1440\u001b[39m \u001b[38;5;28;43msuper\u001b[39;49m\u001b[43m(\u001b[49m\u001b[43m)\u001b[49m\u001b[43m.\u001b[49m\u001b[34;43m__init__\u001b[39;49m\u001b[43m(\u001b[49m\u001b[43mfig\u001b[49m\u001b[43m,\u001b[49m\u001b[43m \u001b[49m\u001b[43mevent_source\u001b[49m\u001b[43m=\u001b[49m\u001b[43mevent_source\u001b[49m\u001b[43m,\u001b[49m\u001b[43m \u001b[49m\u001b[43m*\u001b[49m\u001b[43margs\u001b[49m\u001b[43m,\u001b[49m\u001b[43m \u001b[49m\u001b[43m*\u001b[49m\u001b[43m*\u001b[49m\u001b[43mkwargs\u001b[49m\u001b[43m)\u001b[49m\n",
      "\u001b[31mTypeError\u001b[39m: Animation.__init__() got an unexpected keyword argument 'bl'"
     ]
    },
    {
     "data": {
      "image/png": "[encoded data removed]",
      "text/plain": [
       "<Figure size 640x480 with 1 Axes>"
      ]
     },
     "metadata": {},
     "output_type": "display_data"
    }
   ],
   "source": [
    "import matplotlib.pyplot as plt\n",
    "from matplotlib.animation import FuncAnimation\n",
    "\n",
    "fig, ax = plt.subplots()\n",
    "x = np.linspace(-30, 30, 200)\n",
    "ln, = ax.plot([], [], 'b-')\n",
    "\n",
    "def init():\n",
    "    ax.set_xlim(-30, 30)\n",
    "    ax.set_ylim(0, 20)\n",
    "    return ln,\n",
    "\n",
    "def update(frame):\n",
    "    b = frame/10  # frame varía de 1 a 100\n",
    "    y = b * np.sqrt((x**2 / 225) - 1)\n",
    "    ln.set_data(x, y)\n",
    "    return ln,\n",
    "\n",
    "ani = FuncAnimation(fig, update, frames=100, init_func=init, bl=True)\n",
    "from IPython.display import HTML\n",
    "HTML(ani.to_jshtml())\n",
    " \n"
   ]
  },
  {
   "cell_type": "markdown",
   "id": "2cebd521",
   "metadata": {},
   "source": [
    "\n",
    "Este diseño integra cálculo vectorial con aplicaciones agropecuarias reales de la región. ¿Necesitas ajustar algún componente? 🌱"
   ]
  },
  {
   "cell_type": "markdown",
   "id": "c6236d5d",
   "metadata": {},
   "source": [
    "# FODA del grupo y del profesor  \n",
    "\n",
    "* F: Fortalezas\n",
    "* O: Oportunidades\n",
    "* D: Dificultades\n",
    "* A: Amenazas."
   ]
  },
  {
   "cell_type": "markdown",
   "id": "b48f9542",
   "metadata": {},
   "source": [
    "## ¿Cómo se sintió en este espacio de enseñanza y aprendizaje?\n",
    "\n",
    "!Dios te bendiga¡"
   ]
  },
  {
   "cell_type": "markdown",
   "id": "10bce0d0",
   "metadata": {
    "slideshow": {
     "slide_type": "slide"
    }
   },
   "source": [
    "## Referentes "
   ]
  },
  {
   "cell_type": "markdown",
   "id": "d204c917",
   "metadata": {},
   "source": [
    "* [Grajales Vanegas, L. M., Restrepo Estrada, C. E., Restrepo Ochoa, S. I., & Ruíz De Villalba, F. (2015). Matemáticas I para las ciencias económicas.](https://github.com/marco-canas/fundamentos_de_la_aritmetica/blob/main/referentes/2_grajales_logica/grajales_lina_matemticas.pdf)\n",
    "  \n",
    "* Duval, R. (2004). Semiosis y pensamiento humano: registros semióticos y aprendizajes intelectuales. Universidad del Valle.\n",
    "\n",
    "* [Aylwin, C. U. (2011). Lógica, conjuntos y números. Universidad de los Andes, Consejo de Publicaciones, Colección: Ciencias Básicas, Serie: Matemáticas.](https://github.com/marco-canas/fundamentos_logica/blob/main/referentes/2_uzcategui/uscategui.pdf)\n",
    "  \n",
    "* [Chollet, F. (2021). Deep learning with Python. Simon and Schuster.](https://github.com/marco-canas/didactica_ciencia_datos/blob/main/2_referentes/chollet/Fran%C3%A7ois%20Chollet%20-%20Deep%20Learning%20with%20Python-Manning%20(2018).pdf)  \n",
    "  \n",
    "* [Watson, S., Stewart, J., & Redlin, L. (2009). Precálculo. Matemáticas para el cálculo.](https://github.com/marco-canas/calculo/blob/main/referents/1_precalculo_stewart/stewart_precalculo.pdf)  \n",
    "\n",
    "* [Purcell, E. J., Varberg, D., & Rigdon, S. E. (2007). Cálculo diferencial e integral. Pearson Educación.](https://github.com/marco-canas/calculo/blob/main/referents/purcell/purcell_calculo.pdf)\n",
    "\n",
    "  \n",
    "\n",
    "* [stewart cálculo](https://udeaeduco-my.sharepoint.com/:b:/g/personal/marco_canas_udea_edu_co/EZgXZjAp8QxPqOAim2hs6LcBNPLGjSHf-xwYnUVYkwa04w?e=RZdTCy)  \n",
    "\n",
    "* [larson](https://udeaeduco-my.sharepoint.com/:b:/g/personal/marco_canas_udea_edu_co/ES71ChFeO9ZDhW3TwC5Ijk8BjxUK3Pdqz_fjHxTTFAfIAg?e=VDEjfu)\n",
    "\n",
    "\n",
    "\n",
    "* [Recomendación de la UNESCO sobre ciencia abierta](https://unesdoc.unesco.org/ark:/48223/pf0000379949_spa)\n",
    "\n",
    "* [chatGPT](https://openai.com/blog/chatgpt)  \n",
    "\n",
    "* [Géron, A. (2017). Hands-on machine learning with scikit-learn and tensorflow: Concepts. Tools, and Techniques to build intelligent systems.](chrome-extension://efaidnbmnnnibpcajpcglclefindmkaj/http://14.139.161.31/OddSem-0822-1122/Hands-On_Machine_Learning_with_Scikit-Learn-Keras-and-TensorFlow-2nd-Edition-Aurelien-Geron.pdf)   \n"
   ]
  },
  {
   "cell_type": "markdown",
   "id": "6b9e56a8",
   "metadata": {
    "slideshow": {
     "slide_type": "slide"
    }
   },
   "source": [
    "### [Evaluamos al profesor Marco Cañas Aquí](https://forms.office.com/Pages/ResponsePage.aspx?id=IefhmYRxjkmK_7KtTlPBwkanXIs1i1FEujpsZgO6dXpUREJPV1kxUk1JV1ozTFJIQVNIQjY5WEY3US4u)"
   ]
  },
  {
   "cell_type": "markdown",
   "id": "071afa04",
   "metadata": {
    "slideshow": {
     "slide_type": "slide"
    }
   },
   "source": [
    "## [Evaluación luego de alcanzar estos objetivos de aprendizaje]()"
   ]
  },
  {
   "cell_type": "markdown",
   "id": "10f43536",
   "metadata": {
    "slideshow": {
     "slide_type": "slide"
    }
   },
   "source": [
    "### Continue su aprendizaje en la siguiente clase a través del siguiente [vínculo]()"
   ]
  }
 ],
 "metadata": {
  "celltoolbar": "Slideshow",
  "kernelspec": {
   "display_name": ".venv",
   "language": "python",
   "name": "python3"
  },
  "language_info": {
   "codemirror_mode": {
    "name": "ipython",
    "version": 3
   },
   "file_extension": ".py",
   "mimetype": "text/x-python",
   "name": "python",
   "nbconvert_exporter": "python",
   "pygments_lexer": "ipython3",
   "version": "3.12.6"
  },
  "rise": {
   "enable_chalkboard": true,
   "theme": "sky",
   "transition": "zoom"
  }
 },
 "nbformat": 4,
 "nbformat_minor": 5
}
