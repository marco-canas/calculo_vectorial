{
 "cells": [
  {
   "cell_type": "markdown",
   "id": "dc06dec7",
   "metadata": {
    "slideshow": {
     "slide_type": "slide"
    }
   },
   "source": [
    "<table align=\"left\">\n",
    "  <td>\n",
    "    <a href=\"https://colab.research.google.com/github/ageron/handson-ml3/blob/main/tools_numpy.ipynb\" target=\"_parent\"><img src=\"https://colab.research.google.com/assets/colab-badge.svg\" alt=\"Open In Colab\"/></a>\n",
    "  </td>\n",
    "  <td>\n",
    "    <a target=\"_blank\" href=\"https://kaggle.com/kernels/welcome?src=https://github.com/ageron/handson-ml3/blob/main/tools_numpy.ipynb\"><img src=\"https://kaggle.com/static/images/open-in-kaggle.svg\" /></a>\n",
    "  </td>\n",
    "</table>"
   ]
  },
  {
   "cell_type": "markdown",
   "id": "e0c5b198",
   "metadata": {
    "slideshow": {
     "slide_type": "slide"
    }
   },
   "source": [
    "### [Video de apoyo a la lectura interactiva y experimental de este cuaderno]()"
   ]
  },
  {
   "cell_type": "markdown",
   "id": "41e82203",
   "metadata": {
    "slideshow": {
     "slide_type": "slide"
    }
   },
   "source": [
    "### [Vínculo al programa del curso:  ]()\n",
    "\n",
    "Código del curso de Cálculo Vectorial: 5009344  "
   ]
  },
  {
   "cell_type": "markdown",
   "id": "d11ab06d",
   "metadata": {
    "slideshow": {
     "slide_type": "slide"
    }
   },
   "source": [
    "Un reconocimiento a mis estudiantes que han construido conmigo este saber pedagógico:\n",
    "\n",
    "<img src = ''> \n",
    "\n"
   ]
  },
  {
   "cell_type": "markdown",
   "id": "8a74a56c-0ce6-4ad6-b985-553fd7fb68bb",
   "metadata": {},
   "source": [
    "Reconocimiento a las profesoras destacadas en enseñanza de la matemática en Colombia\n"
   ]
  },
  {
   "cell_type": "code",
   "execution_count": null,
   "id": "7604880f",
   "metadata": {
    "slideshow": {
     "slide_type": "slide"
    }
   },
   "outputs": [
    {
     "name": "stdout",
     "output_type": "stream",
     "text": [
      "Llamando a ROSILLO TEJADA VANESA...\n",
      "Cambios guardados en el archivo CSV.\n",
      "Llamando a QUINONEZ CERVANTES MARIANA...\n"
     ]
    }
   ],
   "source": [
    "import pandas as pd\n",
    "import numpy as np\n",
    "\n",
    "# Cargar la lista de estudiantes desde el archivo CSV\n",
    "path = 'C:/Users/marco/Documentos/docencia/groups_list/fundamentos_aritmetica.csv'\n",
    "estudiantes = pd.read_csv(path)\n",
    "estudiantes['Parcial'] = estudiantes['Parcial'].astype(float)  # Asegurar que la columna 'Parcial' es float\n",
    "\n",
    "# Convertir la columna 'Nombre' a una lista de Python\n",
    "lista_estudiantes = estudiantes['Nombre'].tolist()\n",
    "\n",
    "# Función para llamar a un estudiante aleatoriamente y registrar su nota de seguimiento\n",
    "def asistencia():\n",
    "    global lista_estudiantes\n",
    "    if lista_estudiantes:\n",
    "        estudiante_aleatorio = np.random.choice(lista_estudiantes)\n",
    "        print(f\"Llamando a {estudiante_aleatorio}...\")\n",
    "        asistencia = input(f\"¿Asistió {estudiante_aleatorio}? (s/n): \").strip().lower()\n",
    "        \n",
    "        # Validación de entrada\n",
    "        if asistencia == 's':\n",
    "            # Obtener el índice del estudiante en el DataFrame\n",
    "            indice = estudiantes[estudiantes['Nombre'] == estudiante_aleatorio].index[0]\n",
    "            # Incrementar su valor en la columna 'Parcial'\n",
    "            estudiantes.at[indice, 'Parcial'] += 0.3\n",
    "            print(f\"Actualizado: {estudiante_aleatorio} ahora tiene {estudiantes.at[indice, 'Parcial']} en la columna 'Parcial'.\")\n",
    "        \n",
    "        elif asistencia != 'n':\n",
    "            print(\"Entrada inválida. Por favor, introduce 's' para sí o 'n' para no.\")\n",
    "            return  # Volver a preguntar para el mismo estudiante si la entrada es inválida\n",
    "        \n",
    "        # Remover al estudiante de la lista para no llamarlo de nuevo\n",
    "        lista_estudiantes.remove(estudiante_aleatorio)\n",
    "    else:\n",
    "        print(\"Se han llamado a todos los estudiantes del grupo completo.\")\n",
    "\n",
    "# Función para guardar cambios al final de la sesión\n",
    "def guardar_cambios():\n",
    "    estudiantes.to_csv(path, index=False)\n",
    "    print(\"Cambios guardados en el archivo CSV.\")\n",
    "\n",
    "# Ejemplo de uso\n",
    "while lista_estudiantes:\n",
    "    asistencia()\n",
    "\n",
    "# Guardar los cambios una vez que todos los estudiantes hayan sido llamados\n",
    "guardar_cambios()\n",
    "\n"
   ]
  },
  {
   "cell_type": "markdown",
   "id": "d7598d0a-d9b7-4ae0-b029-a0ed6ed1130b",
   "metadata": {},
   "source": [
    "\n",
    "# Principios de mi labor docente"
   ]
  },
  {
   "cell_type": "markdown",
   "id": "4f9d8cf9",
   "metadata": {
    "slideshow": {
     "slide_type": "slide"
    }
   },
   "source": [
    "## Modelo general de clase: [aula invertida](https://www3.gobiernodecanarias.org/medusa/ecoescuela/pedagotic/aprendizaje-invertido-flipped-classroom/)"
   ]
  },
  {
   "cell_type": "markdown",
   "id": "eb6ed03a",
   "metadata": {},
   "source": [
    "<img src = 'https://resources.maneuveringthemiddle.com/wp-content/uploads/2020/07/04212706/1-5.png' width = 200>  \n",
    "\n"
   ]
  },
  {
   "cell_type": "markdown",
   "id": "34319cce-a71b-4f64-aab8-b53e521efa40",
   "metadata": {},
   "source": [
    "# Metodología de enseñanza basada en problemas (ABP)\n"
   ]
  },
  {
   "cell_type": "markdown",
   "id": "c4f73d81",
   "metadata": {},
   "source": [
    "\n",
    "<img src = 'https://www.unir.net/wp-content/uploads/2020/07/aprendizaje-problemas2-1-1-1-1.jpeg' width = 200>"
   ]
  },
  {
   "cell_type": "markdown",
   "id": "841a985c-bd9b-4dd3-8e4c-893983980af2",
   "metadata": {},
   "source": [
    "# Desarrollo del pensamiento computacional con Lenguaje R y con archivos R Markdown orientado a la formación en ciencia de datos \n",
    "\n"
   ]
  },
  {
   "cell_type": "markdown",
   "id": "3d0eba94",
   "metadata": {},
   "source": [
    "\n",
    "<img src = 'https://i.ytimg.com/vi/mcG_wcR4e6M/maxresdefault.jpg' width = 200>"
   ]
  },
  {
   "cell_type": "markdown",
   "id": "65aa0404-f7ae-495e-864c-1aec01b4255e",
   "metadata": {},
   "source": [
    "# Principio de fomento a la ciencia abierta, enseñar en el acceso a los datos públicos y el uso de software de código abierto  \n"
   ]
  },
  {
   "cell_type": "markdown",
   "id": "18ae9b87",
   "metadata": {},
   "source": [
    "\n",
    "<img src = 'https://unesdoc.unesco.org/in/rest/Thumb/image?id=p%3A%3Ausmarcdef_0000379949_spa&author=UNESCO&title=Recomendaci%C3%B3n+de+la+UNESCO+sobre+la+Ciencia+Abierta&year=2021&publisher=UNESCO&TypeOfDocument=UnescoPhysicalDocument&mat=PGD&ct=true&size=512&isPhysical=1' width = 200>"
   ]
  },
  {
   "cell_type": "markdown",
   "id": "d9559f85",
   "metadata": {},
   "source": [
    "El enfoque STEAMS en educación preescolar, primaria y secundaria es una extensión del enfoque STEM (Ciencia, Tecnología, Ingeniería y Matemáticas) y su variante STEAM, que incorpora el Arte. "
   ]
  },
  {
   "cell_type": "markdown",
   "id": "72e1cfd2",
   "metadata": {},
   "source": [
    "El acrónimo STEAMS incluye:\n"
   ]
  },
  {
   "cell_type": "markdown",
   "id": "03182fd1",
   "metadata": {},
   "source": [
    "\n",
    "1. **Science (Ciencia):** Fomenta la curiosidad por el mundo natural y el desarrollo de habilidades científicas, como la observación, experimentación y análisis.\n"
   ]
  },
  {
   "cell_type": "markdown",
   "id": "1306d0fa",
   "metadata": {},
   "source": [
    "\n",
    "2. **Technology (Tecnología):** Integra herramientas tecnológicas para potenciar el aprendizaje y la resolución de problemas, promoviendo la alfabetización digital desde edades tempranas.\n"
   ]
  },
  {
   "cell_type": "markdown",
   "id": "3b1a53e8",
   "metadata": {},
   "source": [
    "\n",
    "3. **Engineering (Ingeniería):** Introduce el pensamiento lógico y la resolución de problemas estructurados, fomentando habilidades como el diseño y la construcción de soluciones.\n"
   ]
  },
  {
   "cell_type": "markdown",
   "id": "0196de87",
   "metadata": {},
   "source": [
    "\n",
    "4. **Arts (Arte):** Añade creatividad y pensamiento crítico, permitiendo a los estudiantes expresarse y explorar el aprendizaje a través de formas artísticas (plásticas, música, teatro).\n"
   ]
  },
  {
   "cell_type": "markdown",
   "id": "8bcc485a",
   "metadata": {},
   "source": [
    "\n",
    "5. **Mathematics (Matemáticas):** Refuerza las habilidades numéricas y el razonamiento lógico, fundamentales en la resolución de problemas y comprensión de conceptos abstractos.\n"
   ]
  },
  {
   "cell_type": "markdown",
   "id": "907935f4",
   "metadata": {},
   "source": [
    "\n",
    "6. **Social Sciences (Ciencias Sociales):** Incorpora la comprensión del entorno social, político, cultural y económico, promoviendo el desarrollo de la conciencia crítica sobre el mundo y su historia, además de habilidades de empatía y ciudadanía.\n"
   ]
  },
  {
   "cell_type": "markdown",
   "id": "39967d63",
   "metadata": {},
   "source": [
    "\n",
    "El enfoque STEAMS pretende desarrollar un aprendizaje **interdisciplinario** que integre estas áreas para fomentar un pensamiento más holístico y práctico. "
   ]
  },
  {
   "cell_type": "markdown",
   "id": "5145f077",
   "metadata": {},
   "source": [
    "Se busca que los estudiantes no solo aprendan conocimientos técnicos, sino también cómo aplicarlos creativa y críticamente en situaciones reales, promoviendo habilidades como el trabajo en equipo, la comunicación y la innovación. "
   ]
  },
  {
   "cell_type": "markdown",
   "id": "9d556584",
   "metadata": {},
   "source": [
    "En educación preescolar, primaria, secundaria y superior, se adapta a las diferentes etapas de desarrollo cognitivo y emocional de los estudiantes, promoviendo el aprendizaje activo y contextualizado.  \n"
   ]
  },
  {
   "cell_type": "markdown",
   "id": "0130ec1b",
   "metadata": {},
   "source": [
    "\n",
    "<img src = 'https://www.campuseducacion.com/blog/wp-content/uploads/2023/03/foto01-1.jpg' width = 200>"
   ]
  },
  {
   "cell_type": "markdown",
   "id": "9d15c10d-2c02-4158-9419-b1ed79b4c1ee",
   "metadata": {},
   "source": [
    "# Qué estamos haciendo por la internalización en esta clase y este curso  \n"
   ]
  },
  {
   "cell_type": "markdown",
   "id": "6e4feef2",
   "metadata": {},
   "source": [
    "Estas son mis acciones como docente de matemáticas en la Universidad de Antioquia con miras a la **internacionalización** de mi práctica docente y el desarrollo de competencias internacionales para mis estudiantes, ls cuales he estructurado con el siguiente enfoque:\n"
   ]
  },
  {
   "cell_type": "markdown",
   "id": "964d9de7-53ee-4255-9bcd-d8e6454f2993",
   "metadata": {},
   "source": [
    "### 1. **Visión Global en la Formación Académica**\n"
   ]
  },
  {
   "cell_type": "markdown",
   "id": "d9bdd3e2",
   "metadata": {},
   "source": [
    "   - **Competencias Internacionales**: Asegúrate de que el contenido de tus cursos fomente habilidades que sean reconocidas globalmente. Al educar a los estudiantes en **Python, LaTeX, Markdown y Jupyter Notebooks** y en la **introducción a la ciencia de datos y técnicas de Machine Learning**, estás proporcionando competencias altamente demandadas en los sectores tecnológicos y académicos a nivel internacional.\n"
   ]
  },
  {
   "cell_type": "markdown",
   "id": "39b55206",
   "metadata": {},
   "source": [
    "   - **Relevancia de los Contenidos**: Destaca cómo los temas que enseñas, como el **desarrollo del pensamiento computacional** y la **ciencia de datos**, están alineados con las necesidades globales actuales en diversas industrias, desde la tecnología hasta las ciencias naturales y sociales.\n"
   ]
  },
  {
   "cell_type": "markdown",
   "id": "a054599e",
   "metadata": {},
   "source": [
    "   - **Referencias a Estándares Internacionales**: Puedes vincular tu enseñanza a estándares internacionales de competencias en programación y ciencia de datos (por ejemplo, frameworks del **IEEE, ACM**, y estándares de la **data science** o la **computación en la nube**)."
   ]
  },
  {
   "cell_type": "markdown",
   "id": "0f1d110c-3142-48fe-9e7d-5fbd9e8bb931",
   "metadata": {},
   "source": [
    "### 2. **Innovación Pedagógica con Enfoque Internacional**\n"
   ]
  },
  {
   "cell_type": "markdown",
   "id": "fae6ae34",
   "metadata": {},
   "source": [
    "   - **Aula Invertida y ABP**: Presenta cómo tu enfoque de **aula invertida** y **aprendizaje basado en problemas (ABP)** permite a los estudiantes trabajar de manera autónoma y colaborativa, lo que los prepara para escenarios laborales internacionales que requieren autoaprendizaje y habilidades de resolución de problemas en equipo.\n"
   ]
  },
  {
   "cell_type": "markdown",
   "id": "c83062d9",
   "metadata": {},
   "source": [
    "   - **Uso de Jupyter Notebooks**: El uso de **Jupyter Notebooks** en tus clases no solo facilita la **integración de código, matemáticas y texto**, sino que también es una plataforma utilizada globalmente en ambientes académicos y profesionales, lo que hace a tus estudiantes más competitivos internacionalmente."
   ]
  },
  {
   "cell_type": "markdown",
   "id": "960d52b7-03cd-4eb3-965e-5cdfeb7d9f8e",
   "metadata": {},
   "source": [
    "### 3. **Tecnología y Herramientas de Uso Global**\n"
   ]
  },
  {
   "cell_type": "markdown",
   "id": "4be7269f",
   "metadata": {},
   "source": [
    "   - **Lenguaje Python**: Python es uno de los lenguajes de programación más usados a nivel mundial, tanto en la academia como en la industria. Al formar a tus estudiantes en Python para ciencia de datos y machine learning, los preparas para operar en entornos tecnológicos globales.\n"
   ]
  },
  {
   "cell_type": "markdown",
   "id": "102655af",
   "metadata": {},
   "source": [
    "   - **Herramientas de Ciencia Abierta**: Resalta cómo herramientas como **GitHub**, **Google Colab** y otras plataformas de código abierto están alineadas con el movimiento de **ciencia abierta**, el cual es internacionalmente reconocido y permite que los estudiantes colaboren y compartan proyectos a nivel global."
   ]
  },
  {
   "cell_type": "markdown",
   "id": "3b2ffa32-7a6f-4545-ba7b-c6a69f51109f",
   "metadata": {},
   "source": [
    "### 4. **Investigación y Publicaciones Internacionales**\n"
   ]
  },
  {
   "cell_type": "markdown",
   "id": "bdbf52a5",
   "metadata": {},
   "source": [
    "   - **Promoción de la Investigación**: Detalla cómo promueves que tus estudiantes participen en proyectos de **investigación aplicada**, con posibilidad de publicación en revistas internacionales. Esto contribuye a la reputación internacional de la Universidad de Antioquia.\n"
   ]
  },
  {
   "cell_type": "markdown",
   "id": "ea01fcbc",
   "metadata": {},
   "source": [
    "   - **Colaboraciones Internacionales**: Si has colaborado con investigadores de otras instituciones o universidades en el extranjero, menciona estos proyectos y cómo han enriquecido tu enseñanza y proporcionado a los estudiantes una visión más globalizada."
   ]
  },
  {
   "cell_type": "markdown",
   "id": "5d1e396e-aece-4bf7-9421-32fa7809eaf4",
   "metadata": {},
   "source": [
    "## 5. **Uso del Inglés para la Internacionalización**\n"
   ]
  },
  {
   "cell_type": "markdown",
   "id": "29cabf26",
   "metadata": {},
   "source": [
    "   - **Comunicación Científica en Inglés**: "
   ]
  },
  {
   "cell_type": "markdown",
   "id": "8ec53ff3",
   "metadata": {},
   "source": [
    "Fomentar el aprendizaje del inglés como lengua científica es clave para que tus estudiantes puedan acceder a publicaciones internacionales, conferencias, y material académico que no está disponible en español. Esto es esencial para que adquieran competencias que les permitan desempeñarse en cualquier contexto internacional.\n"
   ]
  },
  {
   "cell_type": "markdown",
   "id": "b831224f",
   "metadata": {},
   "source": [
    "   - **Material Bilingüe**: Al generar material educativo en Python, LaTeX y Markdown, considera ofrecer algunos de estos recursos en inglés, para que los estudiantes se familiaricen con el vocabulario técnico y científico internacional."
   ]
  },
  {
   "cell_type": "markdown",
   "id": "c6a8c3b0-426a-4692-a384-3065aea81c9a",
   "metadata": {},
   "source": [
    "### 6. **Certificaciones y Estándares Internacionales**\n"
   ]
  },
  {
   "cell_type": "markdown",
   "id": "b1f41da5",
   "metadata": {},
   "source": [
    "   - **Participación en Certificaciones Internacionales**: Impulsa que los estudiantes busquen certificaciones internacionales en Python o ciencia de datos (como las ofrecidas por **Coursera, edX,** o **Google**). Estas certificaciones no solo validan sus competencias, sino que también incrementan el reconocimiento de la Universidad de Antioquia en el contexto internacional.\n"
   ]
  },
  {
   "cell_type": "markdown",
   "id": "7cc66317",
   "metadata": {},
   "source": [
    "   - **Alineación con Acreditaciones Internacionales**: Vincula tu trabajo docente con los estándares de acreditación y certificación que garantizan que la universidad siga siendo reconocida internacionalmente. Puedes vincularte con organizaciones internacionales que promuevan la excelencia en la educación y tecnología, como **ABET** para la acreditación en ingeniería y ciencias computacionales."
   ]
  },
  {
   "cell_type": "markdown",
   "id": "65d3d9e1-ea84-43e0-8197-a2a9c9e21594",
   "metadata": {},
   "source": [
    "### 7. **Proyectos Abiertos y Ciencia Reproducible**\n"
   ]
  },
  {
   "cell_type": "markdown",
   "id": "f03f7b20",
   "metadata": {},
   "source": [
    "   - **GitHub y Open Science**: La utilización de **GitHub** para almacenar los proyectos y materiales de enseñanza en repositorios públicos permite que otros investigadores y educadores internacionales puedan revisar y replicar tu trabajo. Esto contribuye a la creación de una red de colaboración científica abierta.\n"
   ]
  },
  {
   "cell_type": "markdown",
   "id": "85144bdc",
   "metadata": {},
   "source": [
    "   - **Transparencia y Reproducibilidad**: La ciencia de datos y machine learning están profundamente ligados a la reproducibilidad. Asegura que tus estudiantes desarrollen prácticas de transparencia y documentación en la investigación, que son pilares en la comunidad científica global.\n"
   ]
  },
  {
   "cell_type": "markdown",
   "id": "215cb551",
   "metadata": {},
   "source": [
    "\n",
    "### 8. **Participación en Redes y Conferencias Internacionales**\n",
    "   - **Presentación en Conferencias Internacionales**: Destaca cómo tu participación en conferencias internacionales (como la **ASCOLFA** o eventos sobre educación en matemáticas) contribuye al prestigio de la universidad y permite que tus prácticas sean evaluadas y reconocidas a nivel global.\n"
   ]
  },
  {
   "cell_type": "markdown",
   "id": "cdf46e29",
   "metadata": {},
   "source": [
    "   - **Promoción de Estudiantes en Eventos Internacionales**: Impulsa la participación de tus estudiantes en competiciones internacionales de programación o hackathons, como los organizados por **Google**, **ACM** o **Kaggle**. "
   ]
  },
  {
   "cell_type": "markdown",
   "id": "eed92224",
   "metadata": {},
   "source": [
    "Esto no solo desarrolla sus habilidades, sino que también visibiliza el talento de la Universidad de Antioquia a nivel global.\n",
    "\n",
    "---"
   ]
  },
  {
   "cell_type": "markdown",
   "id": "233294a4-1983-4641-a7ad-866825e02315",
   "metadata": {},
   "source": [
    "Con esta estrategia, presento mis acciones docentes en términos de competencias internacionales, innovación pedagógica, tecnología, investigación y participación en redes globales, asegurando que mi práctica esté alineada con los estándares internacionales y que tus estudiantes estén preparados para competir en contextos internacionales."
   ]
  },
  {
   "cell_type": "markdown",
   "id": "77da458b",
   "metadata": {},
   "source": [
    "### **Metodología de Enseñanza: Aprendizaje Basado en Problemas y Proyectos (ABPP)**\n"
   ]
  },
  {
   "cell_type": "markdown",
   "id": "c943d273",
   "metadata": {},
   "source": [
    "\n",
    "El **Aprendizaje Basado en Problemas y Proyectos (ABPP)** es una metodología educativa que integra los enfoques del **Aprendizaje Basado en Problemas (ABP)** y el **Aprendizaje Basado en Proyectos (PBL, por sus siglas en inglés)**. "
   ]
  },
  {
   "cell_type": "markdown",
   "id": "4901f163",
   "metadata": {},
   "source": [
    "Es especialmente útil para la formación de futuros docentes, ingenieros y administradores, ya que combina el desarrollo de habilidades prácticas con el pensamiento crítico y reflexivo. "
   ]
  },
  {
   "cell_type": "markdown",
   "id": "3bed3d91",
   "metadata": {},
   "source": [
    "A continuación, se presenta una descripción adaptada a la enseñanza de las matemáticas en educación infantil, Licenciatura en Matemáticas, Ingeniería Agropecuaria y Administración de Empresas:\n",
    "\n",
    "---\n"
   ]
  },
  {
   "cell_type": "markdown",
   "id": "0eeba3f5",
   "metadata": {},
   "source": [
    "\n",
    "### **1. Fundamentos del ABPP**\n",
    "El ABPP se basa en:\n",
    "- **Resolución de Problemas Reales:** Los estudiantes analizan y resuelven problemas auténticos relacionados con su área de formación, fomentando la aplicación práctica del conocimiento.\n",
    "- **Proyectos como Herramientas Integradoras:** Los proyectos permiten desarrollar habilidades interdisciplinarias y ofrecer soluciones concretas a los problemas planteados.\n",
    "- **Aprendizaje Activo:** Los estudiantes son responsables de su aprendizaje y participan activamente en el proceso de investigación, diseño y solución.\n",
    "\n",
    "---\n"
   ]
  },
  {
   "cell_type": "markdown",
   "id": "3728d010",
   "metadata": {},
   "source": [
    "\n",
    "### **2. Aplicación del ABPP en Áreas Específicas**\n",
    "\n",
    "#### **Educación Infantil (Licenciatura en Educación Infantil)**\n"
   ]
  },
  {
   "cell_type": "markdown",
   "id": "93e48ba1",
   "metadata": {},
   "source": [
    "- **Enfoque:** Desarrollo del pensamiento matemático en la infancia desde contextos lúdicos, familiares y culturales.\n",
    "- **Problemas típicos:** \n",
    "  - ¿Cómo enseñar los números naturales mediante actividades prácticas y juegos?\n",
    "  - ¿Qué estrategias pueden emplearse para abordar el concepto de cantidad en edades tempranas?\n",
    "- **Proyectos:** Diseño de secuencias didácticas que usen Python, Jupyter Notebooks y materiales manipulativos para enseñar matemáticas de forma interactiva.\n"
   ]
  },
  {
   "cell_type": "markdown",
   "id": "8dff0d6e",
   "metadata": {},
   "source": [
    "- **Competencias desarrolladas:** \n",
    "  - Uso de herramientas tecnológicas para diseñar actividades educativas.\n",
    "  - Comprensión del desarrollo cognitivo infantil y su relación con las matemáticas.\n"
   ]
  },
  {
   "cell_type": "markdown",
   "id": "481f614a",
   "metadata": {},
   "source": [
    "\n",
    "#### **Licenciatura en Matemáticas**\n",
    "- **Enfoque:** Resolución de problemas matemáticos aplicados y profundización teórica en áreas como análisis matemático y modelado.\n",
    "- **Problemas típicos:**\n",
    "  - ¿Cómo se pueden resolver ecuaciones diferenciales aplicadas a modelos físicos o económicos?\n",
    "  - ¿Cómo modelar fenómenos naturales mediante funciones matemáticas?\n"
   ]
  },
  {
   "cell_type": "markdown",
   "id": "27733e7a",
   "metadata": {},
   "source": [
    "- **Proyectos:** \n",
    "  - Desarrollo de software educativo para explorar conceptos matemáticos.\n",
    "  - Aplicación de modelado matemático para resolver problemas reales en otras disciplinas.\n",
    "- **Competencias desarrolladas:**\n",
    "  - Dominio de la matemática teórica y aplicada.\n",
    "  - Uso de tecnología para la enseñanza y la investigación.\n"
   ]
  },
  {
   "cell_type": "markdown",
   "id": "83ab236f",
   "metadata": {},
   "source": [
    "\n",
    "#### **Ingeniería Agropecuaria**\n",
    "- **Enfoque:** Modelado matemático y análisis de datos para mejorar la producción agrícola y la gestión de recursos.\n",
    "- **Problemas típicos:**\n",
    "  - ¿Cómo modelar el crecimiento de cultivos considerando variables climáticas?\n",
    "  - ¿Cómo optimizar el uso del agua en sistemas de riego mediante análisis matemático?\n"
   ]
  },
  {
   "cell_type": "markdown",
   "id": "65f47372",
   "metadata": {},
   "source": [
    "- **Proyectos:** \n",
    "  - Desarrollo de modelos predictivos con Python y bibliotecas de aprendizaje automático.\n",
    "  - Implementación de proyectos que combinen matemáticas y ciencias de datos para resolver problemas agrícolas.\n",
    "- **Competencias desarrolladas:**\n",
    "  - Integración de matemáticas con tecnologías avanzadas.\n",
    "  - Resolución de problemas agropecuarios mediante análisis y modelado.\n"
   ]
  },
  {
   "cell_type": "markdown",
   "id": "c4519bb3",
   "metadata": {},
   "source": [
    "\n",
    "#### **Administración de Empresas**\n",
    "- **Enfoque:** Uso de las matemáticas y la ciencia de datos para la toma de decisiones estratégicas.\n",
    "- **Problemas típicos:**\n",
    "  - ¿Cómo identificar patrones de comportamiento del consumidor usando series de tiempo?\n",
    "  - ¿Qué estrategias matemáticas pueden optimizar la asignación de recursos en una empresa?\n"
   ]
  },
  {
   "cell_type": "markdown",
   "id": "3de7dea3",
   "metadata": {},
   "source": [
    "- **Proyectos:** \n",
    "  - Implementación de modelos de análisis financiero y simulaciones.\n",
    "  - Desarrollo de dashboards interactivos para la gestión de datos empresariales.\n",
    "- **Competencias desarrolladas:**\n",
    "  - Habilidad para interpretar datos matemáticos en contextos de negocio.\n",
    "  - Capacidad para diseñar soluciones basadas en datos.\n",
    "\n",
    "---\n"
   ]
  },
  {
   "cell_type": "markdown",
   "id": "19be58d4",
   "metadata": {},
   "source": [
    "\n",
    "### **3. Beneficios del ABPP**\n"
   ]
  },
  {
   "cell_type": "markdown",
   "id": "853df154",
   "metadata": {},
   "source": [
    "- **Desarrollo de competencias clave:**\n",
    "  - Pensamiento crítico y creativo.\n",
    "  - Trabajo colaborativo.\n",
    "  - Comunicación efectiva.\n",
    "  - Uso de herramientas tecnológicas avanzadas.\n",
    "- **Adaptación al contexto laboral:** Los estudiantes aprenden a enfrentar desafíos del mundo real y a diseñar soluciones prácticas y aplicables.\n",
    "- **Flexibilidad e interdisciplinariedad:** La metodología se adapta a diversas áreas, fomentando el aprendizaje integrado.\n",
    "\n",
    "---\n"
   ]
  },
  {
   "cell_type": "markdown",
   "id": "e36034c3",
   "metadata": {},
   "source": [
    "\n",
    "### **4. Ejemplo General de Implementación**\n"
   ]
  },
  {
   "cell_type": "markdown",
   "id": "af597ddc",
   "metadata": {},
   "source": [
    "1. **Identificación del problema:** Se plantea un desafío concreto, como modelar el crecimiento poblacional de una comunidad rural (Ingeniería Agropecuaria) o diseñar una estrategia para enseñar fracciones a niños de 8 años (Educación Infantil).\n",
    "2. **Formación de equipos:** Los estudiantes trabajan en grupos, distribuyendo roles y tareas.\n"
   ]
  },
  {
   "cell_type": "markdown",
   "id": "c330549d",
   "metadata": {},
   "source": [
    "3. **Investigación y diseño:** Los estudiantes investigan el problema, proponen soluciones y diseñan un proyecto.\n",
    "4. **Implementación:** Se desarrolla el proyecto, como una herramienta tecnológica o una propuesta pedagógica.\n",
    "5. **Evaluación:** Los estudiantes presentan sus resultados en un informe o una exposición, recibiendo retroalimentación de sus compañeros y docentes.\n",
    "\n",
    "---\n",
    "\n",
    "El ABPP es una metodología versátil que conecta el conocimiento teórico con la práctica, preparando a los estudiantes para los retos de sus profesiones en la enseñanza de la matemática, la ingeniería y la administración."
   ]
  },
  {
   "cell_type": "markdown",
   "id": "8d97dc80",
   "metadata": {
    "slideshow": {
     "slide_type": "slide"
    }
   },
   "source": [
    "## Fomento de la lectura literaria asociada a Ingeniería agropecuaria y licenciatura en Matemáticas\n",
    "\n",
    "[Aprender a obtener el sí sin ceder]()"
   ]
  },
  {
   "cell_type": "markdown",
   "id": "96775931",
   "metadata": {
    "slideshow": {
     "slide_type": "slide"
    }
   },
   "source": [
    "## Título de la clase: Elipse \n",
    "\n",
    "<img src = 'https://assets.isu.pub/document-structure/210503213434-4fc60eb26e700fb65577014bcd2fe588/v1/f8c9f9f785fa9b92abcd89f4256a7a0d.jpg?width=720&quality=85%2C50'>\n",
    "\n",
    "[]()"
   ]
  },
  {
   "cell_type": "markdown",
   "id": "1d38dd4e",
   "metadata": {
    "slideshow": {
     "slide_type": "slide"
    }
   },
   "source": [
    "### Objetivo de aprendizaje \n"
   ]
  },
  {
   "cell_type": "code",
   "execution_count": 9,
   "id": "28bae6cb",
   "metadata": {},
   "outputs": [],
   "source": [
    "def save_fig(nombre_archivo_imagen):\n",
    "    import os \n",
    "    import matplotlib.pyplot as plt \n",
    "    ubicacion_para_imagenes = r\"C:/Users/marco/Downloads\"\n",
    "    imagen_path = os.path.join(ubicacion_para_imagenes, nombre_archivo_imagen)\n",
    "    plt.savefig(imagen_path, bbox_inches='tight')"
   ]
  },
  {
   "cell_type": "markdown",
   "id": "10e55ccf",
   "metadata": {},
   "source": [
    "# Estructura general para todas las clases\n",
    "\n",
    "Dame, por favor, un diseño de clase, con los enfoques didácticos de enseñanza: \" STEAMS y de Aprendizaje Basado en Problemas y Proyectos (ABPP)\" sobre: **\"La Elipse como sección cónica aplicable a problemas Agrarios en el Bajo Cauca Antioqueño\"**, siguiendo la estructura:   \n",
    "\n",
    "1. Título de la clase   \n",
    "   \n",
    "2. Objetivos de aprendizaje  e indicadores del logro de estos objetivos.   \n",
    "   \n",
    "3. Un mapa conceptual que resuma la clase elaborado en Graphviz de python con nodos y edges de diferentes formas, colores y rellenos y renderizado en la siguiente ubicación:  \n",
    "    `\"C:/Users/marco/Descargas\"`.  \n",
    "   No olvides el parámetro `view = True` para el método `render()` de Graphviz. Para este mapa controla las superposiciones de los nodos con:  \n",
    "   graph [overlap=false]; // Elimina superposiciones  (puede aumentar el espacio)  \n",
    "   graph [overlap=\"scalexy\"]; // Escala el gráfico para evitar overlaps  \n",
    "   graph [overlap=\"compress\"]; // Comprime el grafo sin overlaps   \n",
    "   \n",
    "4. Contenido de la clase adaptado a lo que este curso de calculo vectorial y de varias variables le puede aportar a que los estudiantes puedan alcanzar su perfil de   \n",
    "   Ingenieros Agropecuarios de la Facultad de Ciencias Agrarias  de la Universidad de Antioquia - Campus Caucasia. Estructura el contenido para estudiar a la **Elipse** siguiendo la secuencia: Problemas prácticas en el Agro Caucasiano donde la **Elipse** puede ser aplicable $\\to$ Definición y propiedades geométricas de la **Elipse** $\\to$  Definición y propiedades algebraicas de la **Elipse** $\\to$ Soluciones a problemas reales del Agro en Caucasia - Antioquia utilizando la **Elipse**.    \n",
    "   \n",
    "5. Dame elementos históricos y epistemológicos asociados a esta clase, pero contados como un cuento al estilo de un cuentero antioqueño en Colombia. Incluye imágenes de los protagonistas históricos de esta clase.   \n",
    "   \n",
    "6. Actividades de aprendizaje.    \n",
    "     - Diseña una actividad de aprendizaje a través del uso de la Calculadora Casio 991 LA cw  \n",
    "     - Diseña una actividad de aprendizaje a través del uso de GeoGebra.\n",
    "     - Diseña una actividad de aprendizaje a través del uso de Python y Jupyter Notebook.\n",
    "  \n",
    "7. Incluye una canción o un poema que ayude a interiorizar y fijar los conceptos asociados a esta clase.   \n",
    "   \n",
    "   \n",
    "8. Tarea o actividades de ejercitación y fijación  \n",
    " \n",
    "9.  Evaluación incluyendo diez proyectos, un ejemplo de quiz (de tres preguntas) y un ejemplo de parcial (de cinco puntos). Diseña la clase un proyectos como:  \n",
    "      1. Modelo 3D de silo **Elíptico** con control térmico.  \n",
    "      2. Algoritmo para corregir deriva GPS en tractores usando **Elípses**. \n",
    "      3. Sistema de riego **Elíptico** con GeoGebra o con Python.  \n",
    "      4. Estructuras agrarias **Elípticas** para optimizar el uso de la energía solar.\n",
    "      5. Aplicación de la **Elípse** en la navegación de drones para monitoreo agrícola.\n",
    "      6. Hivernaderos **Elípticos** para cultivos de alto valor.\n",
    "      7. Proyecto sobre **La silvicultura** (el manejo científico de bosques para producción sostenible de madera, biodiversidad y servicios ecosistémicos). \n",
    "      8. Proyecto de ciencia de datos con python o R para el servicio y desarrollo agrario. \n",
    "   \n",
    "10. Diseño de actividad de retroalimentación.    \n",
    "     \n",
    "11. Dame un vocabulario y frases del idioma inglés asociadas a esta clase.    \n",
    "    \n",
    "12.  Incluye apéndice para la clase sobre desarrollo de habilidades para trabajar en equipo y de asertividad y empatía para relacionarnos. También elementos de la inteligencia emocional para presentar pruebas sin temor y sin realizar fraude en ellas.    \n",
    "     \n",
    "13. Incluye 10 referentes en didáctica de la matemática que estén de acuerdo a la propuesta didáctica de esta clase. Adiciona a estos referentes a Raymond Duval (Representaciones y cambios de representación para la adquisición de conceptos matemáticos) y a Jeannette Wing (Desarrollo del pensamiento computacional). Dejame todos estos referentes ordenados de acuerdo a las normas APA. Dejame todos estos referentes ordenados de acuerdo a las normas APA. Incluye las citaciones a estos referentes a medida que vallas diseñando la clase.    \n",
    "\n",
    "\n",
    "Pero  que este diseño sea para que el estudiante pueda aprender experimentando en cuadernos Jupyter con funciones de usuario y animaciones y visualizaciones en python. En particular utiliza para el diseño de clase a Numpy, Pandas, SymPy, Matplotlib.pyplot, Seaborn, Plotly, ipywidgets, matplotlib.animation y Jupyter Notebook.    \n",
    "\n",
    "Cada vez que utilices `matplotlib.animacion` no olvides incluir el uso de `IPython. display` para la rederización de estas animaciones a través de Jupyter Notebook.   \n",
    "\n",
    "No olvides darme los diseños de clase con las ecuaciones matemáticas delimitadas con signo de dolar $ para que VS Code si me renderize estas expresiones del lenguaje latex. Cuando vallas a utilizar ipywidgets ten en cuenta la siguiente importación inicial para garantizar que la visualización interactiva si se renderize en VS Code:  \n",
    "import numpy as np  \n",
    "import matplotlib.pyplot as plt  \n",
    "import ipywidgets as widgets  \n",
    "from IPython.display import display, clear_output  \n",
    "from matplotlib.patches import Rectangle  \n",
    "\n",
    "# Configuración inicial para visualización estática  \n",
    "%matplotlib inline "
   ]
  },
  {
   "cell_type": "markdown",
   "id": "d0d907c4",
   "metadata": {},
   "source": [
    "# **Diseño de Clase: \"La Elipse como Sección Cónica Aplicable a Problemas Agrarios en el Bajo Cauca Antioqueño\"**\n"
   ]
  },
  {
   "cell_type": "markdown",
   "id": "39383b45",
   "metadata": {},
   "source": [
    "\n",
    "## **1. Título de la Clase**\n",
    "**\"Elipses en el Agro: Optimización de Cultivos y Diseño de Infraestructura en el Bajo Cauca\"**\n",
    "\n",
    "## **2. Objetivos de Aprendizaje e Indicadores**\n",
    "### **Objetivos:**\n",
    "- Comprender las propiedades geométricas y algebraicas de la elipse.\n",
    "- Aplicar el concepto de elipse a problemas reales en agricultura y silvicultura.\n",
    "- Desarrollar habilidades computacionales para modelar sistemas elípticos con Python.\n",
    "\n",
    "### **Indicadores de Logro:**\n",
    "- El estudiante modela sistemas de riego elípticos usando GeoGebra y Python.\n",
    "- Resuelve problemas de optimización de espacio en cultivos usando ecuaciones elípticas.\n",
    "- Diseña estructuras agrarias elípticas para maximizar exposición solar.\n",
    "\n",
    "## **3. Mapa Conceptual (Graphviz)**\n"
   ]
  },
  {
   "cell_type": "markdown",
   "id": "bbb6ebd8",
   "metadata": {},
   "source": [
    "```python\n",
    "from graphviz import Digraph\n",
    "\n",
    "dot = Digraph(comment='Elipse en el Agro', \n",
    "              graph_attr={'overlap': 'scalexy', 'rankdir': 'TB', 'splines': 'true'})\n",
    "\n",
    "# Nodos\n",
    "dot.node('A', 'Elipse en el Agro', shape='ellipse', style='filled', fillcolor='#FFD700')\n",
    "dot.node('B', 'Definición Geométrica', shape='box', fillcolor='#ADD8E6')\n",
    "dot.node('C', 'Ecuación Canónica', shape='box', fillcolor='#90EE90')\n",
    "dot.node('D', 'Aplicaciones en el Bajo Cauca', shape='diamond', fillcolor='#FFA07A')\n",
    "\n",
    "# Conexiones\n",
    "dot.edges(['AB', 'AC', 'AD'])\n",
    "dot.edge('B', 'D', label='Diseño de Riego', color='red')\n",
    "dot.edge('C', 'D', label='Optimización de Espacio', color='blue')\n",
    "\n",
    "dot.render(directory='C:/Users/marco/Descargas', filename='mapa_elipse', format='png', view=True)\n",
    "```\n"
   ]
  },
  {
   "cell_type": "markdown",
   "id": "7c9b377d",
   "metadata": {},
   "source": [
    "\n",
    "## **4. Contenido de la Clase**\n",
    "### **Secuencia Didáctica:**\n",
    "1. **Problemas Prácticos:**\n",
    "   - Ejemplo: \"¿Cómo diseñar un sistema de riego por aspersión que cubra un área elíptica de 1 hectárea?\"\n",
    "\n",
    "2. **Definición Geométrica:**\n",
    "   - La elipse como lugar geométrico: $PF_1 + PF_2 = 2a$\n",
    "   - Visualización en Python:\n",
    "     ```python\n",
    "     import matplotlib.pyplot as plt\n",
    "     import numpy as np\n",
    "     \n",
    "     theta = np.linspace(0, 2*np.pi, 100)\n",
    "     a, b = 5, 3\n",
    "     x = a * np.cos(theta)\n",
    "     y = b * np.sin(theta)\n",
    "     \n",
    "     plt.plot(x, y)\n",
    "     plt.gca().set_aspect('equal')\n",
    "     plt.title('Elipse: a=5, b=3')\n",
    "     plt.show()\n",
    "     ```\n"
   ]
  },
  {
   "cell_type": "markdown",
   "id": "6065f64f",
   "metadata": {},
   "source": [
    "\n",
    "3. **Ecuación Canónica:**\n",
    "   $$\\frac{(x-h)^2}{a^2} + \\frac{(y-k)^2}{b^2} = 1$$\n",
    "\n",
    "4. **Aplicaciones Prácticas:**\n",
    "   - Diseño de invernaderos elípticos para optimizar luz solar.\n",
    "   - Trayectorias de drones para monitoreo de cultivos.\n",
    "\n",
    "## **5. Historia y Epistemología**\n",
    "*\"¡Ajá, pues! Resulta que allá por el 1600, Kepler descubrió que los planetas no giraban en círculos perfectos sino en elipses. Y así como los planetas, don José, un agricultor del Cauca, vio que sus mejores cultivos crecían en patrones elípticos, siguiendo el curso del sol y el agua.\"*\n"
   ]
  },
  {
   "cell_type": "markdown",
   "id": "3300122c",
   "metadata": {},
   "source": [
    "\n",
    "**Imágenes:** Johannes Kepler y Apolonio de Perga (padre de las cónicas).\n"
   ]
  },
  {
   "cell_type": "markdown",
   "id": "e75a81b2",
   "metadata": {},
   "source": [
    "\n",
    "## **6. Actividades de Aprendizaje**\n",
    "### **a. Calculadora Casio 991 LA cw:**\n",
    "- Calcular el área de un cultivo elíptico: $A = \\pi a b$\n",
    "\n",
    "### **b. GeoGebra:**\n",
    "- Construir un modelo interactivo de riego por aspersión elíptico.\n",
    "\n",
    "### **c. Python (Jupyter Notebook):**\n"
   ]
  },
  {
   "cell_type": "markdown",
   "id": "70cafc29",
   "metadata": {},
   "source": [
    "```python\n",
    "from matplotlib.animation import FuncAnimation\n",
    "from IPython.display import HTML\n",
    "\n",
    "fig, ax = plt.subplots()\n",
    "ax.set_xlim(-6, 6)\n",
    "ax.set_ylim(-4, 4)\n",
    "\n",
    "line, = ax.plot([], [], lw=2)\n",
    "\n",
    "def init():\n",
    "    line.set_data([], [])\n",
    "    return line,\n",
    "\n",
    "def animate(i):\n",
    "    a = 5 + 0.1*i\n",
    "    x = a * np.cos(theta)\n",
    "    y = 3 * np.sin(theta)\n",
    "    line.set_data(x, y)\n",
    "    return line,\n",
    "\n",
    "anim = FuncAnimation(fig, animate, init_func=init,\n",
    "                     frames=20, interval=200, blit=True)\n",
    "HTML(anim.to_jshtml())\n",
    "```\n",
    "\n",
    "## **7. Canción/Poema**\n",
    "*\"La elipse es curva cerrada, dos focos tiene señalada, \n",
    "en el campo se aplica, cuando el riego se complica. \n",
    "¡Oh, elipse poderosa, tu forma es tan armoniosa!\"*\n",
    "\n",
    "## **8. Tareas**\n",
    "- Usar `ipywidgets` para explorar cómo cambia la forma de la elipse al variar a y b:\n",
    "  ```python\n",
    "  def plot_elipse(a, b):\n",
    "      x = a * np.cos(theta)\n",
    "      y = b * np.sin(theta)\n",
    "      plt.plot(x, y)\n",
    "      plt.gca().set_aspect('equal')\n",
    "  \n",
    "  widgets.interact(plot_elipse, a=(1, 10), b=(1, 10))\n",
    "  ```\n"
   ]
  },
  {
   "cell_type": "markdown",
   "id": "7bd81f79",
   "metadata": {},
   "source": [
    "\n",
    "## **9. Evaluación**\n",
    "### **Proyectos:**\n",
    "1. Diseño de un silo elíptico para almacenamiento de granos.\n",
    "2. Algoritmo para optimizar rutas de tractores usando elipses.\n"
   ]
  },
  {
   "cell_type": "markdown",
   "id": "042263df",
   "metadata": {},
   "source": [
    "# Proyecto de distribución de terreno sembrado en porciones elípticas.  \n",
    "\n",
    "Prompt: Dame un módulo de python en un archivo .py congigurado como una función de usuario de Python que diseñe una distribución de terreno sembrado en porciones elipticas, de tal menera que esta distribución optimice el área sembrada y el riego de la misma. Dos de los argumentos o parámetros para esta función de usuario debe ser las dimensiones del terreno en las dimensiones usuales en el Bajo cauca Antioqueño. "
   ]
  },
  {
   "cell_type": "code",
   "execution_count": 8,
   "id": "f7c36d63",
   "metadata": {},
   "outputs": [
    {
     "ename": "FileNotFoundError",
     "evalue": "[Errno 2] No such file or directory: 'C:/Users/marco/Descargas\\\\distribucion_terreno_eliptico.png'",
     "output_type": "error",
     "traceback": [
      "\u001b[31m---------------------------------------------------------------------------\u001b[39m",
      "\u001b[31mFileNotFoundError\u001b[39m                         Traceback (most recent call last)",
      "\u001b[36mCell\u001b[39m\u001b[36m \u001b[39m\u001b[32mIn[8]\u001b[39m\u001b[32m, line 54\u001b[39m\n\u001b[32m     51\u001b[39m filas = \u001b[32m4\u001b[39m\n\u001b[32m     52\u001b[39m columnas = \u001b[32m6\u001b[39m\n\u001b[32m---> \u001b[39m\u001b[32m54\u001b[39m \u001b[43mdistribuir_terreno_eliptico\u001b[49m\u001b[43m(\u001b[49m\u001b[43mlargo_terreno\u001b[49m\u001b[43m,\u001b[49m\u001b[43m \u001b[49m\u001b[43mancho_terreno\u001b[49m\u001b[43m,\u001b[49m\u001b[43m \u001b[49m\u001b[43mfilas\u001b[49m\u001b[43m,\u001b[49m\u001b[43m \u001b[49m\u001b[43mcolumnas\u001b[49m\u001b[43m)\u001b[49m\n",
      "\u001b[36mCell\u001b[39m\u001b[36m \u001b[39m\u001b[32mIn[8]\u001b[39m\u001b[32m, line 43\u001b[39m, in \u001b[36mdistribuir_terreno_eliptico\u001b[39m\u001b[34m(largo, ancho, num_filas, num_columnas)\u001b[39m\n\u001b[32m     40\u001b[39m         ax.add_patch(elipse)\n\u001b[32m     42\u001b[39m plt.grid(\u001b[38;5;28;01mTrue\u001b[39;00m)\n\u001b[32m---> \u001b[39m\u001b[32m43\u001b[39m \u001b[43msave_fig\u001b[49m\u001b[43m(\u001b[49m\u001b[33;43m\"\u001b[39;49m\u001b[33;43mdistribucion_terreno_eliptico.png\u001b[39;49m\u001b[33;43m\"\u001b[39;49m\u001b[43m)\u001b[49m\n\u001b[32m     44\u001b[39m plt.show()\n",
      "\u001b[36mCell\u001b[39m\u001b[36m \u001b[39m\u001b[32mIn[7]\u001b[39m\u001b[32m, line 6\u001b[39m, in \u001b[36msave_fig\u001b[39m\u001b[34m(nombre_archivo_imagen)\u001b[39m\n\u001b[32m      4\u001b[39m ubicacion_para_imagenes = \u001b[33mr\u001b[39m\u001b[33m\"\u001b[39m\u001b[33mC:/Users/marco/Descargas\u001b[39m\u001b[33m\"\u001b[39m\n\u001b[32m      5\u001b[39m imagen_path = os.path.join(ubicacion_para_imagenes, nombre_archivo_imagen)\n\u001b[32m----> \u001b[39m\u001b[32m6\u001b[39m \u001b[43mplt\u001b[49m\u001b[43m.\u001b[49m\u001b[43msavefig\u001b[49m\u001b[43m(\u001b[49m\u001b[43mimagen_path\u001b[49m\u001b[43m,\u001b[49m\u001b[43m \u001b[49m\u001b[43mbbox_inches\u001b[49m\u001b[43m=\u001b[49m\u001b[33;43m'\u001b[39;49m\u001b[33;43mtight\u001b[39;49m\u001b[33;43m'\u001b[39;49m\u001b[43m)\u001b[49m\n",
      "\u001b[36mFile \u001b[39m\u001b[32mc:\\Users\\marco\\Documentos\\docencia\\radicacion_vectorial_numerico\\.venv\\Lib\\site-packages\\matplotlib\\pyplot.py:1243\u001b[39m, in \u001b[36msavefig\u001b[39m\u001b[34m(*args, **kwargs)\u001b[39m\n\u001b[32m   1240\u001b[39m fig = gcf()\n\u001b[32m   1241\u001b[39m \u001b[38;5;66;03m# savefig default implementation has no return, so mypy is unhappy\u001b[39;00m\n\u001b[32m   1242\u001b[39m \u001b[38;5;66;03m# presumably this is here because subclasses can return?\u001b[39;00m\n\u001b[32m-> \u001b[39m\u001b[32m1243\u001b[39m res = \u001b[43mfig\u001b[49m\u001b[43m.\u001b[49m\u001b[43msavefig\u001b[49m\u001b[43m(\u001b[49m\u001b[43m*\u001b[49m\u001b[43margs\u001b[49m\u001b[43m,\u001b[49m\u001b[43m \u001b[49m\u001b[43m*\u001b[49m\u001b[43m*\u001b[49m\u001b[43mkwargs\u001b[49m\u001b[43m)\u001b[49m  \u001b[38;5;66;03m# type: ignore[func-returns-value]\u001b[39;00m\n\u001b[32m   1244\u001b[39m fig.canvas.draw_idle()  \u001b[38;5;66;03m# Need this if 'transparent=True', to reset colors.\u001b[39;00m\n\u001b[32m   1245\u001b[39m \u001b[38;5;28;01mreturn\u001b[39;00m res\n",
      "\u001b[36mFile \u001b[39m\u001b[32mc:\\Users\\marco\\Documentos\\docencia\\radicacion_vectorial_numerico\\.venv\\Lib\\site-packages\\matplotlib\\figure.py:3490\u001b[39m, in \u001b[36mFigure.savefig\u001b[39m\u001b[34m(self, fname, transparent, **kwargs)\u001b[39m\n\u001b[32m   3488\u001b[39m     \u001b[38;5;28;01mfor\u001b[39;00m ax \u001b[38;5;129;01min\u001b[39;00m \u001b[38;5;28mself\u001b[39m.axes:\n\u001b[32m   3489\u001b[39m         _recursively_make_axes_transparent(stack, ax)\n\u001b[32m-> \u001b[39m\u001b[32m3490\u001b[39m \u001b[38;5;28;43mself\u001b[39;49m\u001b[43m.\u001b[49m\u001b[43mcanvas\u001b[49m\u001b[43m.\u001b[49m\u001b[43mprint_figure\u001b[49m\u001b[43m(\u001b[49m\u001b[43mfname\u001b[49m\u001b[43m,\u001b[49m\u001b[43m \u001b[49m\u001b[43m*\u001b[49m\u001b[43m*\u001b[49m\u001b[43mkwargs\u001b[49m\u001b[43m)\u001b[49m\n",
      "\u001b[36mFile \u001b[39m\u001b[32mc:\\Users\\marco\\Documentos\\docencia\\radicacion_vectorial_numerico\\.venv\\Lib\\site-packages\\matplotlib\\backend_bases.py:2184\u001b[39m, in \u001b[36mFigureCanvasBase.print_figure\u001b[39m\u001b[34m(self, filename, dpi, facecolor, edgecolor, orientation, format, bbox_inches, pad_inches, bbox_extra_artists, backend, **kwargs)\u001b[39m\n\u001b[32m   2180\u001b[39m \u001b[38;5;28;01mtry\u001b[39;00m:\n\u001b[32m   2181\u001b[39m     \u001b[38;5;66;03m# _get_renderer may change the figure dpi (as vector formats\u001b[39;00m\n\u001b[32m   2182\u001b[39m     \u001b[38;5;66;03m# force the figure dpi to 72), so we need to set it again here.\u001b[39;00m\n\u001b[32m   2183\u001b[39m     \u001b[38;5;28;01mwith\u001b[39;00m cbook._setattr_cm(\u001b[38;5;28mself\u001b[39m.figure, dpi=dpi):\n\u001b[32m-> \u001b[39m\u001b[32m2184\u001b[39m         result = \u001b[43mprint_method\u001b[49m\u001b[43m(\u001b[49m\n\u001b[32m   2185\u001b[39m \u001b[43m            \u001b[49m\u001b[43mfilename\u001b[49m\u001b[43m,\u001b[49m\n\u001b[32m   2186\u001b[39m \u001b[43m            \u001b[49m\u001b[43mfacecolor\u001b[49m\u001b[43m=\u001b[49m\u001b[43mfacecolor\u001b[49m\u001b[43m,\u001b[49m\n\u001b[32m   2187\u001b[39m \u001b[43m            \u001b[49m\u001b[43medgecolor\u001b[49m\u001b[43m=\u001b[49m\u001b[43medgecolor\u001b[49m\u001b[43m,\u001b[49m\n\u001b[32m   2188\u001b[39m \u001b[43m            \u001b[49m\u001b[43morientation\u001b[49m\u001b[43m=\u001b[49m\u001b[43morientation\u001b[49m\u001b[43m,\u001b[49m\n\u001b[32m   2189\u001b[39m \u001b[43m            \u001b[49m\u001b[43mbbox_inches_restore\u001b[49m\u001b[43m=\u001b[49m\u001b[43m_bbox_inches_restore\u001b[49m\u001b[43m,\u001b[49m\n\u001b[32m   2190\u001b[39m \u001b[43m            \u001b[49m\u001b[43m*\u001b[49m\u001b[43m*\u001b[49m\u001b[43mkwargs\u001b[49m\u001b[43m)\u001b[49m\n\u001b[32m   2191\u001b[39m \u001b[38;5;28;01mfinally\u001b[39;00m:\n\u001b[32m   2192\u001b[39m     \u001b[38;5;28;01mif\u001b[39;00m bbox_inches \u001b[38;5;129;01mand\u001b[39;00m restore_bbox:\n",
      "\u001b[36mFile \u001b[39m\u001b[32mc:\\Users\\marco\\Documentos\\docencia\\radicacion_vectorial_numerico\\.venv\\Lib\\site-packages\\matplotlib\\backend_bases.py:2040\u001b[39m, in \u001b[36mFigureCanvasBase._switch_canvas_and_return_print_method.<locals>.<lambda>\u001b[39m\u001b[34m(*args, **kwargs)\u001b[39m\n\u001b[32m   2036\u001b[39m     optional_kws = {  \u001b[38;5;66;03m# Passed by print_figure for other renderers.\u001b[39;00m\n\u001b[32m   2037\u001b[39m         \u001b[33m\"\u001b[39m\u001b[33mdpi\u001b[39m\u001b[33m\"\u001b[39m, \u001b[33m\"\u001b[39m\u001b[33mfacecolor\u001b[39m\u001b[33m\"\u001b[39m, \u001b[33m\"\u001b[39m\u001b[33medgecolor\u001b[39m\u001b[33m\"\u001b[39m, \u001b[33m\"\u001b[39m\u001b[33morientation\u001b[39m\u001b[33m\"\u001b[39m,\n\u001b[32m   2038\u001b[39m         \u001b[33m\"\u001b[39m\u001b[33mbbox_inches_restore\u001b[39m\u001b[33m\"\u001b[39m}\n\u001b[32m   2039\u001b[39m     skip = optional_kws - {*inspect.signature(meth).parameters}\n\u001b[32m-> \u001b[39m\u001b[32m2040\u001b[39m     print_method = functools.wraps(meth)(\u001b[38;5;28;01mlambda\u001b[39;00m *args, **kwargs: \u001b[43mmeth\u001b[49m\u001b[43m(\u001b[49m\n\u001b[32m   2041\u001b[39m \u001b[43m        \u001b[49m\u001b[43m*\u001b[49m\u001b[43margs\u001b[49m\u001b[43m,\u001b[49m\u001b[43m \u001b[49m\u001b[43m*\u001b[49m\u001b[43m*\u001b[49m\u001b[43m{\u001b[49m\u001b[43mk\u001b[49m\u001b[43m:\u001b[49m\u001b[43m \u001b[49m\u001b[43mv\u001b[49m\u001b[43m \u001b[49m\u001b[38;5;28;43;01mfor\u001b[39;49;00m\u001b[43m \u001b[49m\u001b[43mk\u001b[49m\u001b[43m,\u001b[49m\u001b[43m \u001b[49m\u001b[43mv\u001b[49m\u001b[43m \u001b[49m\u001b[38;5;129;43;01min\u001b[39;49;00m\u001b[43m \u001b[49m\u001b[43mkwargs\u001b[49m\u001b[43m.\u001b[49m\u001b[43mitems\u001b[49m\u001b[43m(\u001b[49m\u001b[43m)\u001b[49m\u001b[43m \u001b[49m\u001b[38;5;28;43;01mif\u001b[39;49;00m\u001b[43m \u001b[49m\u001b[43mk\u001b[49m\u001b[43m \u001b[49m\u001b[38;5;129;43;01mnot\u001b[39;49;00m\u001b[43m \u001b[49m\u001b[38;5;129;43;01min\u001b[39;49;00m\u001b[43m \u001b[49m\u001b[43mskip\u001b[49m\u001b[43m}\u001b[49m\u001b[43m)\u001b[49m)\n\u001b[32m   2042\u001b[39m \u001b[38;5;28;01melse\u001b[39;00m:  \u001b[38;5;66;03m# Let third-parties do as they see fit.\u001b[39;00m\n\u001b[32m   2043\u001b[39m     print_method = meth\n",
      "\u001b[36mFile \u001b[39m\u001b[32mc:\\Users\\marco\\Documentos\\docencia\\radicacion_vectorial_numerico\\.venv\\Lib\\site-packages\\matplotlib\\backends\\backend_agg.py:481\u001b[39m, in \u001b[36mFigureCanvasAgg.print_png\u001b[39m\u001b[34m(self, filename_or_obj, metadata, pil_kwargs)\u001b[39m\n\u001b[32m    434\u001b[39m \u001b[38;5;28;01mdef\u001b[39;00m\u001b[38;5;250m \u001b[39m\u001b[34mprint_png\u001b[39m(\u001b[38;5;28mself\u001b[39m, filename_or_obj, *, metadata=\u001b[38;5;28;01mNone\u001b[39;00m, pil_kwargs=\u001b[38;5;28;01mNone\u001b[39;00m):\n\u001b[32m    435\u001b[39m \u001b[38;5;250m    \u001b[39m\u001b[33;03m\"\"\"\u001b[39;00m\n\u001b[32m    436\u001b[39m \u001b[33;03m    Write the figure to a PNG file.\u001b[39;00m\n\u001b[32m    437\u001b[39m \n\u001b[32m   (...)\u001b[39m\u001b[32m    479\u001b[39m \u001b[33;03m        *metadata*, including the default 'Software' key.\u001b[39;00m\n\u001b[32m    480\u001b[39m \u001b[33;03m    \"\"\"\u001b[39;00m\n\u001b[32m--> \u001b[39m\u001b[32m481\u001b[39m     \u001b[38;5;28;43mself\u001b[39;49m\u001b[43m.\u001b[49m\u001b[43m_print_pil\u001b[49m\u001b[43m(\u001b[49m\u001b[43mfilename_or_obj\u001b[49m\u001b[43m,\u001b[49m\u001b[43m \u001b[49m\u001b[33;43m\"\u001b[39;49m\u001b[33;43mpng\u001b[39;49m\u001b[33;43m\"\u001b[39;49m\u001b[43m,\u001b[49m\u001b[43m \u001b[49m\u001b[43mpil_kwargs\u001b[49m\u001b[43m,\u001b[49m\u001b[43m \u001b[49m\u001b[43mmetadata\u001b[49m\u001b[43m)\u001b[49m\n",
      "\u001b[36mFile \u001b[39m\u001b[32mc:\\Users\\marco\\Documentos\\docencia\\radicacion_vectorial_numerico\\.venv\\Lib\\site-packages\\matplotlib\\backends\\backend_agg.py:430\u001b[39m, in \u001b[36mFigureCanvasAgg._print_pil\u001b[39m\u001b[34m(self, filename_or_obj, fmt, pil_kwargs, metadata)\u001b[39m\n\u001b[32m    425\u001b[39m \u001b[38;5;250m\u001b[39m\u001b[33;03m\"\"\"\u001b[39;00m\n\u001b[32m    426\u001b[39m \u001b[33;03mDraw the canvas, then save it using `.image.imsave` (to which\u001b[39;00m\n\u001b[32m    427\u001b[39m \u001b[33;03m*pil_kwargs* and *metadata* are forwarded).\u001b[39;00m\n\u001b[32m    428\u001b[39m \u001b[33;03m\"\"\"\u001b[39;00m\n\u001b[32m    429\u001b[39m FigureCanvasAgg.draw(\u001b[38;5;28mself\u001b[39m)\n\u001b[32m--> \u001b[39m\u001b[32m430\u001b[39m \u001b[43mmpl\u001b[49m\u001b[43m.\u001b[49m\u001b[43mimage\u001b[49m\u001b[43m.\u001b[49m\u001b[43mimsave\u001b[49m\u001b[43m(\u001b[49m\n\u001b[32m    431\u001b[39m \u001b[43m    \u001b[49m\u001b[43mfilename_or_obj\u001b[49m\u001b[43m,\u001b[49m\u001b[43m \u001b[49m\u001b[38;5;28;43mself\u001b[39;49m\u001b[43m.\u001b[49m\u001b[43mbuffer_rgba\u001b[49m\u001b[43m(\u001b[49m\u001b[43m)\u001b[49m\u001b[43m,\u001b[49m\u001b[43m \u001b[49m\u001b[38;5;28;43mformat\u001b[39;49m\u001b[43m=\u001b[49m\u001b[43mfmt\u001b[49m\u001b[43m,\u001b[49m\u001b[43m \u001b[49m\u001b[43morigin\u001b[49m\u001b[43m=\u001b[49m\u001b[33;43m\"\u001b[39;49m\u001b[33;43mupper\u001b[39;49m\u001b[33;43m\"\u001b[39;49m\u001b[43m,\u001b[49m\n\u001b[32m    432\u001b[39m \u001b[43m    \u001b[49m\u001b[43mdpi\u001b[49m\u001b[43m=\u001b[49m\u001b[38;5;28;43mself\u001b[39;49m\u001b[43m.\u001b[49m\u001b[43mfigure\u001b[49m\u001b[43m.\u001b[49m\u001b[43mdpi\u001b[49m\u001b[43m,\u001b[49m\u001b[43m \u001b[49m\u001b[43mmetadata\u001b[49m\u001b[43m=\u001b[49m\u001b[43mmetadata\u001b[49m\u001b[43m,\u001b[49m\u001b[43m \u001b[49m\u001b[43mpil_kwargs\u001b[49m\u001b[43m=\u001b[49m\u001b[43mpil_kwargs\u001b[49m\u001b[43m)\u001b[49m\n",
      "\u001b[36mFile \u001b[39m\u001b[32mc:\\Users\\marco\\Documentos\\docencia\\radicacion_vectorial_numerico\\.venv\\Lib\\site-packages\\matplotlib\\image.py:1644\u001b[39m, in \u001b[36mimsave\u001b[39m\u001b[34m(fname, arr, vmin, vmax, cmap, format, origin, dpi, metadata, pil_kwargs)\u001b[39m\n\u001b[32m   1642\u001b[39m pil_kwargs.setdefault(\u001b[33m\"\u001b[39m\u001b[33mformat\u001b[39m\u001b[33m\"\u001b[39m, \u001b[38;5;28mformat\u001b[39m)\n\u001b[32m   1643\u001b[39m pil_kwargs.setdefault(\u001b[33m\"\u001b[39m\u001b[33mdpi\u001b[39m\u001b[33m\"\u001b[39m, (dpi, dpi))\n\u001b[32m-> \u001b[39m\u001b[32m1644\u001b[39m \u001b[43mimage\u001b[49m\u001b[43m.\u001b[49m\u001b[43msave\u001b[49m\u001b[43m(\u001b[49m\u001b[43mfname\u001b[49m\u001b[43m,\u001b[49m\u001b[43m \u001b[49m\u001b[43m*\u001b[49m\u001b[43m*\u001b[49m\u001b[43mpil_kwargs\u001b[49m\u001b[43m)\u001b[49m\n",
      "\u001b[36mFile \u001b[39m\u001b[32mc:\\Users\\marco\\Documentos\\docencia\\radicacion_vectorial_numerico\\.venv\\Lib\\site-packages\\PIL\\Image.py:2591\u001b[39m, in \u001b[36mImage.save\u001b[39m\u001b[34m(self, fp, format, **params)\u001b[39m\n\u001b[32m   2589\u001b[39m         fp = builtins.open(filename, \u001b[33m\"\u001b[39m\u001b[33mr+b\u001b[39m\u001b[33m\"\u001b[39m)\n\u001b[32m   2590\u001b[39m     \u001b[38;5;28;01melse\u001b[39;00m:\n\u001b[32m-> \u001b[39m\u001b[32m2591\u001b[39m         fp = \u001b[43mbuiltins\u001b[49m\u001b[43m.\u001b[49m\u001b[43mopen\u001b[49m\u001b[43m(\u001b[49m\u001b[43mfilename\u001b[49m\u001b[43m,\u001b[49m\u001b[43m \u001b[49m\u001b[33;43m\"\u001b[39;49m\u001b[33;43mw+b\u001b[39;49m\u001b[33;43m\"\u001b[39;49m\u001b[43m)\u001b[49m\n\u001b[32m   2592\u001b[39m \u001b[38;5;28;01melse\u001b[39;00m:\n\u001b[32m   2593\u001b[39m     fp = cast(IO[\u001b[38;5;28mbytes\u001b[39m], fp)\n",
      "\u001b[31mFileNotFoundError\u001b[39m: [Errno 2] No such file or directory: 'C:/Users/marco/Descargas\\\\distribucion_terreno_eliptico.png'"
     ]
    },
    {
     "data": {
      "image/png": "[encoded data removed]",
      "text/plain": [
       "<Figure size 1000x600 with 1 Axes>"
      ]
     },
     "metadata": {},
     "output_type": "display_data"
    }
   ],
   "source": [
    "import numpy as np\n",
    "from matplotlib.patches import Ellipse\n",
    "\n",
    "import matplotlib.pyplot as plt\n",
    "\n",
    "def distribuir_terreno_eliptico(largo, ancho, num_filas, num_columnas):\n",
    "    \"\"\"\n",
    "    Diseña una distribución de terreno sembrado en porciones elípticas para optimizar el área sembrada y el riego.\n",
    "\n",
    "    Args:\n",
    "        largo (float): Largo del terreno en metros.\n",
    "        ancho (float): Ancho del terreno en metros.\n",
    "        num_filas (int): Número de filas de elipses.\n",
    "        num_columnas (int): Número de columnas de elipses.\n",
    "\n",
    "    Returns:\n",
    "        None: Genera un gráfico con la distribución de las porciones elípticas.\n",
    "    \"\"\"\n",
    "    # Dimensiones de cada elipse\n",
    "    a = largo / (2 * num_columnas)  # Semieje mayor\n",
    "    b = ancho / (2 * num_filas)     # Semieje menor\n",
    "\n",
    "    # Coordenadas del centro de cada elipse\n",
    "    x_centros = np.linspace(a, largo - a, num_columnas)\n",
    "    y_centros = np.linspace(b, ancho - b, num_filas)\n",
    "\n",
    "    # Crear el gráfico\n",
    "    fig, ax = plt.subplots(figsize=(10, 6))\n",
    "    ax.set_xlim(0, largo)\n",
    "    ax.set_ylim(0, ancho)\n",
    "    ax.set_aspect('equal')\n",
    "    ax.set_title('Distribución de Terreno en Porciones Elípticas')\n",
    "    ax.set_xlabel('Largo del terreno (m)')\n",
    "    ax.set_ylabel('Ancho del terreno (m)')\n",
    "\n",
    "    # Dibujar las elipses\n",
    "    for x in x_centros:\n",
    "        for y in y_centros:\n",
    "            elipse = Ellipse((x, y), width=2*a, height=2*b, edgecolor='blue', facecolor='lightblue', alpha=0.5)\n",
    "            ax.add_patch(elipse)\n",
    "\n",
    "    plt.grid(True)\n",
    "    save_fig(\"distribucion_terreno_eliptico.png\")\n",
    "    plt.show()\n",
    "\n",
    "# Ejemplo de uso\n",
    "if __name__ == \"__main__\":\n",
    "    # Dimensiones típicas del terreno en el Bajo Cauca Antioqueño\n",
    "    largo_terreno = 100  # metros\n",
    "    ancho_terreno = 50   # metros\n",
    "    filas = 4\n",
    "    columnas = 6\n",
    "\n",
    "    distribuir_terreno_eliptico(largo_terreno, ancho_terreno, filas, columnas)"
   ]
  },
  {
   "cell_type": "markdown",
   "id": "c609eb59",
   "metadata": {},
   "source": [
    "\n",
    "### **Quiz Ejemplo:**\n",
    "1. ¿Cuál es la excentricidad de una elipse con a=5 y b=3?\n",
    "2. Demuestre que la ecuación $\\frac{x^2}{25} + \\frac{y^2}{9} = 1$ representa una elipse.\n",
    "\n",
    "### **Parcial:**\n",
    "- Problema: \"Diseñe un sistema de riego elíptico para una finca de 2 hectáreas.\"\n",
    "\n",
    "## **10. Retroalimentación**\n",
    "- **Rúbrica:** Evaluar precisión matemática y creatividad en las soluciones.\n",
    "\n",
    "## **11. Vocabulario en Inglés**\n",
    "- **Ellipse:** Elipse\n",
    "- **Foci:** Focos\n",
    "- **Eccentricity:** Excentricidad\n",
    "\n",
    "## **12. Apéndice: Habilidades Blandas**\n",
    "- Taller: \"Cómo presentar proyectos agrícolas con bases matemáticas sólidas\"\n",
    "- Dinámica: \"Trabajo en equipo para resolver problemas agrarios complejos\"\n",
    "\n",
    "## **13. Referentes APA**\n",
    "1. Duval, R. (1999). *Representations and conversions in mathematics learning.*\n",
    "2. Wing, J. (2006). *Computational thinking.* Communications of the ACM.\n",
    "3. National Research Council. (2001). *Adding it up: Helping children learn mathematics.*\n",
    "\n",
    "**¡Listo para implementar!** ¿Necesitas ajustar algún componente específico? 😊"
   ]
  },
  {
   "cell_type": "markdown",
   "id": "80174c78",
   "metadata": {},
   "source": [
    "[Video de apoyo a la presentación de la estructura de esta clase]()"
   ]
  },
  {
   "cell_type": "markdown",
   "id": "a5efe611",
   "metadata": {},
   "source": [
    "# Implementación de esta clase  \n",
    "\n",
    "# **Diseño de Clase: \"La Elipse como Sección Cónica Aplicable a Problemas Agrarios en el Bajo Cauca Antioqueño\"**\n",
    "\n",
    "## **1. Título de la Clase**\n",
    "**\"Elipses en el Agro: Optimización de Cultivos y Diseño de Infraestructura en el Bajo Cauca\"**\n",
    "\n",
    "## **2. Objetivos de Aprendizaje e Indicadores**\n",
    "### **Objetivos:**\n",
    "- Comprender las propiedades geométricas y algebraicas de la elipse.\n",
    "- Aplicar el concepto de elipse a problemas reales en agricultura y silvicultura.\n",
    "- Desarrollar habilidades computacionales para modelar sistemas elípticos con Python.\n",
    "\n",
    "### **Indicadores de Logro:**\n",
    "- El estudiante modela sistemas de riego elípticos usando GeoGebra y Python.\n",
    "- Resuelve problemas de optimización de espacio en cultivos usando ecuaciones elípticas.\n",
    "- Diseña estructuras agrarias elípticas para maximizar exposición solar.\n"
   ]
  },
  {
   "cell_type": "markdown",
   "id": "5ab45088",
   "metadata": {},
   "source": [
    "\n",
    "## **3. Mapa Conceptual (Graphviz)**\n"
   ]
  },
  {
   "cell_type": "code",
   "execution_count": null,
   "id": "a9840176",
   "metadata": {},
   "outputs": [],
   "source": [
    "from graphviz import Digraph\n",
    "\n",
    "dot = Digraph(comment='Elipse en el Agro', \n",
    "              graph_attr={'overlap': 'scalexy', 'rankdir': 'TB', 'splines': 'true'})\n",
    "\n",
    "# Nodos\n",
    "dot.node('A', 'Elipse en el Agro', shape='ellipse', style='filled', fillcolor='#FFD700')\n",
    "dot.node('B', 'Definición Geométrica', shape='box', fillcolor='#ADD8E6')\n",
    "dot.node('C', 'Ecuación Canónica', shape='box', fillcolor='#90EE90')\n",
    "dot.node('D', 'Aplicaciones en el Bajo Cauca', shape='diamond', fillcolor='#FFA07A')\n",
    "\n",
    "# Conexiones\n",
    "dot.edges(['AB', 'AC', 'AD'])\n",
    "dot.edge('B', 'D', label='Diseño de Riego', color='red')\n",
    "dot.edge('C', 'D', label='Optimización de Espacio', color='blue')\n",
    "\n",
    "dot.render(directory='C:/Users/marco/Descargas', filename='mapa_elipse', format='png', view=True)\n",
    "\n"
   ]
  },
  {
   "cell_type": "markdown",
   "id": "0309ea07",
   "metadata": {},
   "source": [
    "\n",
    "## **4. Contenido de la Clase**\n",
    "### **Secuencia Didáctica:**\n",
    "1. **Problemas Prácticos:**\n",
    "   - Ejemplo: \"¿Cómo diseñar un sistema de riego por aspersión que cubra un área elíptica de 1 hectárea?\"\n",
    "\n",
    "2. **Definición Geométrica:**\n",
    "   - La elipse como lugar geométrico: $PF_1 + PF_2 = 2a$\n",
    "   - Visualización en Python:\n",
    "     ```python\n",
    "     import matplotlib.pyplot as plt\n",
    "     import numpy as np\n",
    "     \n",
    "     theta = np.linspace(0, 2*np.pi, 100)\n",
    "     a, b = 5, 3\n",
    "     x = a * np.cos(theta)\n",
    "     y = b * np.sin(theta)\n",
    "     \n",
    "     plt.plot(x, y)\n",
    "     plt.gca().set_aspect('equal')\n",
    "     plt.title('Elipse: a=5, b=3')\n",
    "     plt.show()\n",
    "     ```\n"
   ]
  },
  {
   "cell_type": "markdown",
   "id": "cb8b1bd0",
   "metadata": {},
   "source": [
    "\n",
    "3. **Ecuación Canónica:**\n",
    "   $$\\frac{(x-h)^2}{a^2} + \\frac{(y-k)^2}{b^2} = 1$$\n",
    "\n",
    "4. **Aplicaciones Prácticas:**\n",
    "   - Diseño de invernaderos elípticos para optimizar luz solar.\n",
    "   - Trayectorias de drones para monitoreo de cultivos.\n",
    "\n",
    "## **5. Historia y Epistemología**\n",
    "*\"¡Ajá, pues! Resulta que allá por el 1600, Kepler descubrió que los planetas no giraban en círculos perfectos sino en elipses. Y así como los planetas, don José, un agricultor del Cauca, vio que sus mejores cultivos crecían en patrones elípticos, siguiendo el curso del sol y el agua.\"*\n",
    "\n",
    "**Imágenes:** Johannes Kepler y Apolonio de Perga (padre de las cónicas).\n",
    "\n",
    "## **6. Actividades de Aprendizaje**\n",
    "### **a. Calculadora Casio 991 LA cw:**\n",
    "- Calcular el área de un cultivo elíptico: $A = \\pi a b$\n",
    "\n",
    "### **b. GeoGebra:**\n",
    "- Construir un modelo interactivo de riego por aspersión elíptico.\n",
    "\n",
    "### **c. Python (Jupyter Notebook):**\n"
   ]
  },
  {
   "cell_type": "markdown",
   "id": "053de8e6",
   "metadata": {},
   "source": [
    "```python\n",
    "from matplotlib.animation import FuncAnimation\n",
    "from IPython.display import HTML\n",
    "\n",
    "fig, ax = plt.subplots()\n",
    "ax.set_xlim(-6, 6)\n",
    "ax.set_ylim(-4, 4)\n",
    "\n",
    "line, = ax.plot([], [], lw=2)\n",
    "\n",
    "def init():\n",
    "    line.set_data([], [])\n",
    "    return line,\n",
    "\n",
    "def animate(i):\n",
    "    a = 5 + 0.1*i\n",
    "    x = a * np.cos(theta)\n",
    "    y = 3 * np.sin(theta)\n",
    "    line.set_data(x, y)\n",
    "    return line,\n",
    "\n",
    "anim = FuncAnimation(fig, animate, init_func=init,\n",
    "                     frames=20, interval=200, blit=True)\n",
    "HTML(anim.to_jshtml())\n",
    "```\n"
   ]
  },
  {
   "cell_type": "markdown",
   "id": "7174cf68",
   "metadata": {},
   "source": [
    "\n",
    "## **7. Canción/Poema**\n",
    "*\"La elipse es curva cerrada, dos focos tiene señalada, \n",
    "en el campo se aplica, cuando el riego se complica. \n",
    "¡Oh, elipse poderosa, tu forma es tan armoniosa!\"*\n"
   ]
  },
  {
   "cell_type": "markdown",
   "id": "6d01626d",
   "metadata": {},
   "source": [
    "\n",
    "## **8. Tareas**\n",
    "- Usar `ipywidgets` para explorar cómo cambia la forma de la elipse al variar a y b:\n"
   ]
  },
  {
   "cell_type": "markdown",
   "id": "056019c7",
   "metadata": {},
   "source": [
    "  ```python\n",
    "  def plot_elipse(a, b):\n",
    "      x = a * np.cos(theta)\n",
    "      y = b * np.sin(theta)\n",
    "      plt.plot(x, y)\n",
    "      plt.gca().set_aspect('equal')\n",
    "  \n",
    "  widgets.interact(plot_elipse, a=(1, 10), b=(1, 10))\n",
    "  ```\n"
   ]
  },
  {
   "cell_type": "markdown",
   "id": "efe088fa",
   "metadata": {},
   "source": [
    "\n",
    "## **9. Evaluación**\n",
    "### **Proyectos:**\n",
    "1. Diseño de un silo elíptico para almacenamiento de granos.\n",
    "2. Algoritmo para optimizar rutas de tractores usando elipses.\n"
   ]
  },
  {
   "cell_type": "markdown",
   "id": "c827f59d",
   "metadata": {},
   "source": [
    "# Proyecto de distribución de terreno sembrado en porciones elípticas.  \n",
    "\n",
    "Prompt: Dame un módulo de python en un archivo .py congigurado como una función de usuario de Python que diseñe una distribución de terreno sembrado en porciones elipticas, de tal menera que esta distribución optimice el área sembrada y el riego de la misma. Dos de los argumentos o parámetros para esta función de usuario debe ser las dimensiones del terreno en las dimensiones usuales en el Bajo cauca Antioqueño. "
   ]
  },
  {
   "cell_type": "code",
   "execution_count": 6,
   "id": "8e4cd5d8",
   "metadata": {},
   "outputs": [
    {
     "ename": "NameError",
     "evalue": "name 'save_fig' is not defined",
     "output_type": "error",
     "traceback": [
      "\u001b[31m---------------------------------------------------------------------------\u001b[39m",
      "\u001b[31mNameError\u001b[39m                                 Traceback (most recent call last)",
      "\u001b[36mCell\u001b[39m\u001b[36m \u001b[39m\u001b[32mIn[6]\u001b[39m\u001b[32m, line 54\u001b[39m\n\u001b[32m     51\u001b[39m filas = \u001b[32m4\u001b[39m\n\u001b[32m     52\u001b[39m columnas = \u001b[32m6\u001b[39m\n\u001b[32m---> \u001b[39m\u001b[32m54\u001b[39m \u001b[43mdistribuir_terreno_eliptico\u001b[49m\u001b[43m(\u001b[49m\u001b[43mlargo_terreno\u001b[49m\u001b[43m,\u001b[49m\u001b[43m \u001b[49m\u001b[43mancho_terreno\u001b[49m\u001b[43m,\u001b[49m\u001b[43m \u001b[49m\u001b[43mfilas\u001b[49m\u001b[43m,\u001b[49m\u001b[43m \u001b[49m\u001b[43mcolumnas\u001b[49m\u001b[43m)\u001b[49m\n",
      "\u001b[36mCell\u001b[39m\u001b[36m \u001b[39m\u001b[32mIn[6]\u001b[39m\u001b[32m, line 43\u001b[39m, in \u001b[36mdistribuir_terreno_eliptico\u001b[39m\u001b[34m(largo, ancho, num_filas, num_columnas)\u001b[39m\n\u001b[32m     40\u001b[39m         ax.add_patch(elipse)\n\u001b[32m     42\u001b[39m plt.grid(\u001b[38;5;28;01mTrue\u001b[39;00m)\n\u001b[32m---> \u001b[39m\u001b[32m43\u001b[39m \u001b[43msave_fig\u001b[49m(\u001b[33m\"\u001b[39m\u001b[33mdistribucion_terreno_eliptico.png\u001b[39m\u001b[33m\"\u001b[39m)\n\u001b[32m     44\u001b[39m plt.show()\n",
      "\u001b[31mNameError\u001b[39m: name 'save_fig' is not defined"
     ]
    },
    {
     "data": {
      "image/png": "[encoded data removed]",
      "text/plain": [
       "<Figure size 1000x600 with 1 Axes>"
      ]
     },
     "metadata": {},
     "output_type": "display_data"
    }
   ],
   "source": [
    "import numpy as np\n",
    "from matplotlib.patches import Ellipse\n",
    "\n",
    "import matplotlib.pyplot as plt\n",
    "\n",
    "def distribuir_terreno_eliptico(largo, ancho, num_filas, num_columnas):\n",
    "    \"\"\"\n",
    "    Diseña una distribución de terreno sembrado en porciones elípticas para optimizar el área sembrada y el riego.\n",
    "\n",
    "    Args:\n",
    "        largo (float): Largo del terreno en metros.\n",
    "        ancho (float): Ancho del terreno en metros.\n",
    "        num_filas (int): Número de filas de elipses.\n",
    "        num_columnas (int): Número de columnas de elipses.\n",
    "\n",
    "    Returns:\n",
    "        None: Genera un gráfico con la distribución de las porciones elípticas.\n",
    "    \"\"\"\n",
    "    # Dimensiones de cada elipse\n",
    "    a = largo / (2 * num_columnas)  # Semieje mayor\n",
    "    b = ancho / (2 * num_filas)     # Semieje menor\n",
    "\n",
    "    # Coordenadas del centro de cada elipse\n",
    "    x_centros = np.linspace(a, largo - a, num_columnas)\n",
    "    y_centros = np.linspace(b, ancho - b, num_filas)\n",
    "\n",
    "    # Crear el gráfico\n",
    "    fig, ax = plt.subplots(figsize=(10, 6))\n",
    "    ax.set_xlim(0, largo)\n",
    "    ax.set_ylim(0, ancho)\n",
    "    ax.set_aspect('equal')\n",
    "    ax.set_title('Distribución de Terreno en Porciones Elípticas')\n",
    "    ax.set_xlabel('Largo del terreno (m)')\n",
    "    ax.set_ylabel('Ancho del terreno (m)')\n",
    "\n",
    "    # Dibujar las elipses\n",
    "    for x in x_centros:\n",
    "        for y in y_centros:\n",
    "            elipse = Ellipse((x, y), width=2*a, height=2*b, edgecolor='blue', facecolor='lightblue', alpha=0.5)\n",
    "            ax.add_patch(elipse)\n",
    "\n",
    "    plt.grid(True)\n",
    "    save_fig(\"distribucion_terreno_eliptico.png\")\n",
    "    plt.show()\n",
    "\n",
    "# Ejemplo de uso\n",
    "if __name__ == \"__main__\":\n",
    "    # Dimensiones típicas del terreno en el Bajo Cauca Antioqueño\n",
    "    largo_terreno = 100  # metros\n",
    "    ancho_terreno = 50   # metros\n",
    "    filas = 4\n",
    "    columnas = 6\n",
    "\n",
    "    distribuir_terreno_eliptico(largo_terreno, ancho_terreno, filas, columnas)"
   ]
  },
  {
   "cell_type": "markdown",
   "id": "c364c42e",
   "metadata": {},
   "source": [
    "\n",
    "### **Quiz Ejemplo:**\n",
    "1. ¿Cuál es la excentricidad de una elipse con a=5 y b=3?\n",
    "2. Demuestre que la ecuación $\\frac{x^2}{25} + \\frac{y^2}{9} = 1$ representa una elipse.\n",
    "\n",
    "### **Parcial:**\n",
    "- Problema: \"Diseñe un sistema de riego elíptico para una finca de 2 hectáreas.\"\n",
    "\n",
    "## **10. Retroalimentación**\n",
    "- **Rúbrica:** Evaluar precisión matemática y creatividad en las soluciones.\n",
    "\n",
    "## **11. Vocabulario en Inglés**\n",
    "- **Ellipse:** Elipse\n",
    "- **Foci:** Focos\n",
    "- **Eccentricity:** Excentricidad\n",
    "\n",
    "## **12. Apéndice: Habilidades Blandas**\n",
    "- Taller: \"Cómo presentar proyectos agrícolas con bases matemáticas sólidas\"\n",
    "- Dinámica: \"Trabajo en equipo para resolver problemas agrarios complejos\"\n",
    "\n",
    "## **13. Referentes APA**\n",
    "1. Duval, R. (1999). *Representations and conversions in mathematics learning.*\n",
    "2. Wing, J. (2006). *Computational thinking.* Communications of the ACM.\n",
    "3. National Research Council. (2001). *Adding it up: Helping children learn mathematics.*\n",
    "\n",
    "**¡Listo para implementar!** ¿Necesitas ajustar algún componente específico? 😊"
   ]
  },
  {
   "cell_type": "markdown",
   "id": "239427f7",
   "metadata": {},
   "source": [
    "# Calendario académico para los diferentes programas de pregrado de los campus regionalizados, correspondiente al primer periodo académico del año 2025, así:  \n",
    "\n",
    "\n",
    "* Límite evaluación del 40% 06 de abril de 2025\n",
    "* Terminación de clases 08 de junio de 2025\n",
    "* Exámenes finales 09 al 15 de junio de 2025\n",
    "* Habilitación y validación 16 al 22 de junio de 2025\n",
    "* Terminación oficial 23 de junio de 2025"
   ]
  },
  {
   "cell_type": "code",
   "execution_count": null,
   "id": "ec048afb",
   "metadata": {},
   "outputs": [],
   "source": []
  },
  {
   "cell_type": "code",
   "execution_count": null,
   "id": "c804f8d3",
   "metadata": {},
   "outputs": [],
   "source": []
  },
  {
   "cell_type": "code",
   "execution_count": null,
   "id": "cc539357",
   "metadata": {},
   "outputs": [],
   "source": []
  },
  {
   "cell_type": "markdown",
   "id": "740f3401",
   "metadata": {
    "slideshow": {
     "slide_type": "slide"
    }
   },
   "source": [
    "# Componente de manejo de calculadora Casio asociado al objetivo de aprendizaje de esta clase  \n",
    "\n",
    "## Pasos para lograr el objetivo de aprendizaje con la experimentación en la calculadora Casio 991LA cw  "
   ]
  },
  {
   "cell_type": "markdown",
   "id": "8ba64aed",
   "metadata": {},
   "source": [
    "# Cursos que orienta el profesor Marco Julio Cañas Campillo en 2025  \n",
    "\n",
    "1. Práctica Pedagógica V para Licenciatura en Educación Infantil\n",
    "2. Fundamentos de Lógica para Licenciatura en Matemáticas \n",
    "3. Análisis Numérico para Licenciatura en Matemáticas. \n",
    "4. Cálculo Vectorial para Ingeniería Agropecuaria"
   ]
  },
  {
   "cell_type": "markdown",
   "id": "8d41fe58",
   "metadata": {
    "slideshow": {
     "slide_type": "slide"
    }
   },
   "source": [
    "# Horario de clases del profesor Marco\n",
    "\n",
    "* Lunes 8-12: Cálculo Vectorial\n",
    "* Martes 8-12 M: Fundamentos de Aritmética. \n",
    "* Miércoles 8 a 12 M: Fundamentos de la Lógica\n",
    "* Jueves 2 a 6 PM: Desarrollo del pensamiento matemático en la infancia. \n",
    "* Viernes 8 - 12 M: Desarrollo del pensamiento matemático en la infancia. \n",
    "* Sábados 8-12 Asesorías y espacio para retroalimentación y apoyo al trabajo independiente. "
   ]
  },
  {
   "cell_type": "markdown",
   "id": "ae114e14",
   "metadata": {
    "slideshow": {
     "slide_type": "slide"
    }
   },
   "source": [
    "# Horarios de monitoría y asesoría  \n",
    "\n",
    "Coordinador de los cursos de la Facultad de Educación para regiones:    \n",
    "\n",
    "Andrés Vélez: regioneducacion.fedu@udea.edu.co  \n",
    "Coordinador Regiones  \n",
    "Facultad de Educación  \n",
    "Universidad de Antioquia  "
   ]
  },
  {
   "cell_type": "markdown",
   "id": "b1db4b6c",
   "metadata": {
    "slideshow": {
     "slide_type": "slide"
    }
   },
   "source": [
    "## Monitores presenciales   \n",
    "\n",
    "* Manuel San Juan Serrano:  Contactar escribiendo al correo: manuel.serrano1@udea.edu.co\n",
    "* Yeifry Sebastián Uribe: Contactar escribiendo al correo: yeifry.uribe@udea.edu.co"
   ]
  },
  {
   "cell_type": "markdown",
   "id": "39559692",
   "metadata": {
    "slideshow": {
     "slide_type": "slide"
    }
   },
   "source": [
    "Martes y jueves de 8 - 12  \n",
    "Miércoles 10 - 12 y de 2 a 4 PM  \n",
    "Sábado: 8 - 12"
   ]
  },
  {
   "cell_type": "markdown",
   "id": "10bce0d0",
   "metadata": {
    "slideshow": {
     "slide_type": "slide"
    }
   },
   "source": [
    "## Referentes "
   ]
  },
  {
   "cell_type": "markdown",
   "id": "1db3c468",
   "metadata": {
    "slideshow": {
     "slide_type": "slide"
    }
   },
   "source": [
    "* [CALCULO I DE UNA VARIABLE Ron Larson-Bruce Edwards. Mc Graw Hill. 9º Edición](https://www.academia.edu/42139251/CALCULO_I_DE_UNA_VARIABLE_Ron_Larson_Bruce_Edwards_Mc_Graw_Hill_9o_Edici%C3%B3n)   \n",
    "  \n",
    "\n",
    "* [Grajales Vanegas, L. M., Restrepo Estrada, C. E., Restrepo Ochoa, S. I., & Ruíz De Villalba, F. (2015). Matemáticas I para las ciencias económicas.](https://bibliotecadigital.udea.edu.co/handle/10495/3010)\n",
    "  \n",
    "* R. Duval y Semiosis y pensamiento humano, 2.ª ed. Cali, Colombia: Programa Editorial Universidad del Valle, 2017. [En línea]. Disponible en: https://programaeditorial.univalle.edu.co/gpd-semiosis-y-pensamiento-humano-9789587655278-63324cdb0f6b3.html\n",
    "\n",
    "* [Aylwin, C. U. (2011). Lógica, conjuntos y números. Universidad de los Andes, Consejo de Publicaciones, Colección: Ciencias Básicas, Serie: Matemáticas.](chrome-extension://efaidnbmnnnibpcajpcglclefindmkaj/https://www.u-cursos.cl/ciencias/2011/1/MC110/1/material_docente/bajar?id_material=574722)\n",
    "  \n",
    "* [Chollet, F. (2021). Deep learning with Python. Simon and Schuster.](chrome-extension://efaidnbmnnnibpcajpcglclefindmkaj/https://tanthiamhuat.wordpress.com/wp-content/uploads/2018/03/deeplearningwithpython.pdf)  \n",
    "  \n",
    "* [Watson, S., Stewart, J., & Redlin, L. (2009). Precálculo. Matemáticas para el cálculo.](https://github.com/marco-canas/calculo/blob/main/referents/1_precalculo_stewart/stewart_precalculo.pdf)  \n",
    "\n",
    "* [Purcell, E. J., Varberg, D., & Rigdon, S. E. (2007). Cálculo diferencial e integral. Pearson Educación.](https://github.com/marco-canas/calculo/blob/main/referents/purcell/purcell_calculo.pdf)\n",
    "\n",
    "  \n",
    "\n",
    "* [stewart cálculo](https://udeaeduco-my.sharepoint.com/:b:/g/personal/marco_canas_udea_edu_co/EZgXZjAp8QxPqOAim2hs6LcBNPLGjSHf-xwYnUVYkwa04w?e=RZdTCy)  \n",
    "\n",
    "\n",
    "\n",
    "\n",
    "\n",
    "* [Recomendación de la UNESCO sobre ciencia abierta](https://unesdoc.unesco.org/ark:/48223/pf0000379949_spa)\n",
    "\n",
    "* [chatGPT](https://openai.com/blog/chatgpt)  \n",
    "\n",
    "* [Géron, A. (2017). Hands-on machine learning with scikit-learn and tensorflow: Concepts. Tools, and Techniques to build intelligent systems.](chrome-extension://efaidnbmnnnibpcajpcglclefindmkaj/http://14.139.161.31/OddSem-0822-1122/Hands-On_Machine_Learning_with_Scikit-Learn-Keras-and-TensorFlow-2nd-Edition-Aurelien-Geron.pdf)   \n"
   ]
  },
  {
   "cell_type": "markdown",
   "id": "df925560",
   "metadata": {},
   "source": [
    "\n",
    "* [McKinney, W. (2012). Python for data analysis: Data wrangling with Pandas, NumPy, and IPython. \" O'Reilly Media, Inc.\".](https://wesmckinney.com/book/) "
   ]
  },
  {
   "cell_type": "markdown",
   "id": "8e65d6f9",
   "metadata": {},
   "source": [
    "# Como estudiante, encuentro que...   \n",
    "\n",
    "F: Mis Fortalezas son:     \n",
    "O: Mis Oportunidades son:    \n",
    "D: Mis Debilidades son:    \n",
    "A: Lo que Amenazas mi aprendizaje es:  "
   ]
  },
  {
   "cell_type": "markdown",
   "id": "6b9e56a8",
   "metadata": {
    "slideshow": {
     "slide_type": "slide"
    }
   },
   "source": [
    "### [Evaluamos al profesor Marco Cañas Aquí](https://forms.office.com/Pages/ResponsePage.aspx?id=IefhmYRxjkmK_7KtTlPBwkanXIs1i1FEujpsZgO6dXpUREJPV1kxUk1JV1ozTFJIQVNIQjY5WEY3US4u)"
   ]
  },
  {
   "cell_type": "markdown",
   "id": "10f43536",
   "metadata": {
    "slideshow": {
     "slide_type": "slide"
    }
   },
   "source": [
    "### Continue su aprendizaje en la siguiente clase a través del siguiente [vínculo]()"
   ]
  },
  {
   "cell_type": "markdown",
   "id": "53cc9115",
   "metadata": {
    "slideshow": {
     "slide_type": "slide"
    }
   },
   "source": [
    "## Agradecimientos  \n",
    "\n",
    "Doy gracias a Dios por la vida de mi Hijo Joseph Cañas Osorio y la madurez que ha alcanzado. Este hijo me enorgullece y me hace falta abrazarlo cada día. \n",
    "\n",
    "Y a mi esposa Yasmira Emperatriz Barboza Mogollón por su apoyo, orientación y acompañamiento. "
   ]
  },
  {
   "cell_type": "markdown",
   "id": "b6ba1c23",
   "metadata": {},
   "source": [
    "# Apéndice sobre calendarios y coordinaciones \n",
    "\n",
    "A continuación le envío el horario de la asignatura Cálculo Vectorial  \n",
    "\n",
    "Días:  \n",
    "Lunes - Hora: 7:00 a 12:00M  \n",
    "Fechas:  \n",
    "Febrero: 10-17-24                                          \n",
    " Marzo: 3-10-17-31                                                  \n",
    "Abril:7-21-28                                                   \n",
    "Mayo:5-12-19  \n",
    "\n",
    "Agradezco su apoyo, y si presenta alguna dificultad puede contactarme.  \n",
    "\n",
    "Cordialmente,  \n",
    "Juan Felipe Rivera Hernández  \n",
    "Contacto: 3106314300  "
   ]
  },
  {
   "cell_type": "markdown",
   "id": "0e66cd7c",
   "metadata": {},
   "source": [
    "# Clase de análisis numérico los Martes de 8 a 12 del medio día. "
   ]
  },
  {
   "cell_type": "markdown",
   "id": "c5ff61b1",
   "metadata": {},
   "source": []
  }
 ],
 "metadata": {
  "celltoolbar": "Slideshow",
  "kernelspec": {
   "display_name": ".venv",
   "language": "python",
   "name": "python3"
  },
  "language_info": {
   "codemirror_mode": {
    "name": "ipython",
    "version": 3
   },
   "file_extension": ".py",
   "mimetype": "text/x-python",
   "name": "python",
   "nbconvert_exporter": "python",
   "pygments_lexer": "ipython3",
   "version": "3.12.6"
  },
  "rise": {
   "enable_chalkboard": true,
   "theme": "sky",
   "transition": "zoom"
  }
 },
 "nbformat": 4,
 "nbformat_minor": 5
}
