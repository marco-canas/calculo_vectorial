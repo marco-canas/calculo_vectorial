{
 "cells": [
  {
   "cell_type": "markdown",
   "id": "dc06dec7",
   "metadata": {
    "slideshow": {
     "slide_type": "slide"
    }
   },
   "source": [
    "<table align=\"left\">\n",
    "  <td>\n",
    "    <a href=\"https://colab.research.google.com/github/marco-canas/didactica_ciencia_datos/blob/main/1_curso_machine_learning/1_evaluacion_oral_tarea_quiz_parcial.ipynb\" target=\"_parent\"><img src=\"https://colab.research.google.com/assets/colab-badge.svg\" alt=\"Open In Colab\"/></a>\n",
    "  </td>\n",
    "  <td>\n",
    "    <a target=\"_blank\" href=\"https://kaggle.com/kernels/welcome?src=https://github.com/marco-canas/didactica_ciencia_datos/blob/main/1_curso_machine_learning/1_evaluacion_oral_tarea_quiz_parcial.ipynb\"><img src=\"https://kaggle.com/static/images/open-in-kaggle.svg\" /></a>\n",
    "  </td>\n",
    "</table>"
   ]
  },
  {
   "cell_type": "markdown",
   "id": "e0c5b198",
   "metadata": {
    "slideshow": {
     "slide_type": "slide"
    }
   },
   "source": [
    "### [Video de apoyo a la lectura interactiva y experimental de este cuaderno]()"
   ]
  },
  {
   "cell_type": "markdown",
   "id": "41e82203",
   "metadata": {
    "slideshow": {
     "slide_type": "slide"
    }
   },
   "source": [
    "## [Vínculo al programa del curso:  ]()"
   ]
  },
  {
   "cell_type": "markdown",
   "id": "ca46c23b",
   "metadata": {
    "slideshow": {
     "slide_type": "slide"
    }
   },
   "source": [
    "# Modelo general de clase: [aula invertida](https://www3.gobiernodecanarias.org/medusa/ecoescuela/pedagotic/aprendizaje-invertido-flipped-classroom/)\n"
   ]
  },
  {
   "cell_type": "markdown",
   "id": "7f9be90f",
   "metadata": {
    "slideshow": {
     "slide_type": "slide"
    }
   },
   "source": [
    "# Fomento de la lectura literaria asociada a Ingeniería agropecuaria y licenciatura en Matemáticas y administración de empresas\n",
    "\n",
    "[Hábitos atómicos](https://github.com/marco-canas/habitos_atomicos/blob/main/13_como_dejar_de_postergar_usando_la_regla_de_los_dos_minutos/1_13_como_dejar_de_postergar_usando_la_regla_de_los_dos_minutos.ipynb)"
   ]
  },
  {
   "cell_type": "markdown",
   "id": "96775931",
   "metadata": {
    "slideshow": {
     "slide_type": "slide"
    }
   },
   "source": [
    "# Título de la clase: Realización evaluación oral, de Tareas en cuadernos Jupyter, Quiz o Parcial de selección múltiple o de preguntas cerradas.  \n",
    "\n"
   ]
  },
  {
   "cell_type": "markdown",
   "id": "cf101603",
   "metadata": {},
   "source": [
    "# Prompt para pedir el diseño de evaluación de acuerdo a la metodología de \"Enseñanza basada en proyectos\"  \n",
    "\n",
    "Dame, por favor, una propuesta de evaluación de esta clase bajo la metodología de enseñanza: \"Aprendizaje basado en proyectos\". Pero además incluye una evaluación escrita tipo quiz y una tipo parcial. "
   ]
  },
  {
   "cell_type": "markdown",
   "id": "42797498",
   "metadata": {},
   "source": [
    "# **Diseño de Clase: La Parábola desde el Cálculo Vectorial y de Varias Variables**\n",
    "\n",
    "## **1. Título de la clase**\n",
    "**La Parábola, vista desde el Cálculo Vectorial y de Varias Variables, como Sección Cónica y sus Aplicaciones a las Ciencias Agrarias**\n",
    "\n",
    "---\n",
    "\n",
    "## **2. Objetivos de Aprendizaje e Indicadores de Logro**\n",
    "\n",
    "### **Objetivos de Aprendizaje:**\n",
    "1. Analizar las propiedades físicas, geométricas y algebraicas de la parábola desde el cálculo vectorial y de varias variables.\n",
    "2. Explorar aplicaciones de la parábola en Ingeniería Agropecuaria.\n",
    "3. Implementar simulaciones interactivas en Jupyter Notebook con Python para visualizar conceptos.\n",
    "4. Resolver problemas agrarios mediante modelos matemáticos basados en la parábola.\n",
    "\n",
    "### **Indicadores de Logro:**\n",
    "- El estudiante describe las propiedades físicas y geométricas de la parábola.\n",
    "- Modela sistemas agrarios utilizando ecuaciones de la parábola en Python.\n",
    "- Desarrolla animaciones y visualizaciones interactivas para interpretar soluciones matemáticas.\n",
    "- Implementa modelos predictivos basados en ecuaciones parabólicas.\n",
    "\n",
    "---\n",
    "\n",
    "## **3. Mapa Conceptual Jerárquico en Graphviz**\n",
    "\n",
    "```python\n",
    "from graphviz import Digraph\n",
    "\n",
    "dot = Digraph()\n",
    "dot.attr(dpi='300')\n",
    "\n",
    "# Nodos\n",
    "nodes = {\n",
    "    'P': ('Parábola', 'ellipse', 'lightblue'),\n",
    "    'PF': ('Propiedades Físicas', 'box', 'yellow'),\n",
    "    'PG': ('Propiedades Geométricas', 'diamond', 'green'),\n",
    "    'PA': ('Propiedades Algebraicas', 'parallelogram', 'orange'),\n",
    "    'AP': ('Aplicaciones en Ing. Agropecuaria', 'hexagon', 'pink')\n",
    "}\n",
    "\n",
    "for key, (label, shape, color) in nodes.items():\n",
    "    dot.node(key, label, shape=shape, style='filled', fillcolor=color)\n",
    "\n",
    "# Conexiones\n",
    "edges = [('P', 'PF'), ('P', 'PG'), ('P', 'PA'), ('PA', 'AP')]\n",
    "for edge in edges:\n",
    "    dot.edge(*edge)\n",
    "\n",
    "# Renderizado\n",
    "output_path = \"C:\\\\Users\\\\marco\\\\Descargas\\\\mapa_conceptual\"\n",
    "dot.render(output_path, format='png', cleanup=False)\n",
    "```\n",
    "\n",
    "---\n",
    "\n",
    "## **4. Contenido de la Clase**\n",
    "### **4.1 Propiedades Físicas de la Parábola**\n",
    "- Reflexión de ondas en estructuras agrarias.\n",
    "- Concentración de energía solar en sistemas de riego.\n",
    "- Propagación de nutrientes en superficies parabólicas.\n",
    "\n",
    "### **4.2 Propiedades Geométricas de la Parábola**\n",
    "- Definición de foco, directriz y excentricidad.\n",
    "- Curvatura y derivadas en el cálculo vectorial.\n",
    "- Visualización interactiva en Python.\n",
    "\n",
    "### **4.3 Propiedades Algebraicas de la Parábola**\n",
    "- Ecuación general y transformaciones.\n",
    "- Aproximaciones numéricas.\n",
    "- Implementación en Python.\n",
    "\n",
    "---\n",
    "\n",
    "## **5. Elementos Epistemológicos e Históricos**\n",
    "- Contribuciones de Apolonio de Perga.\n",
    "- Uso de parábolas en la ingeniería moderna.\n",
    "\n",
    "---\n",
    "\n",
    "## **6. Actividades de Aprendizaje**\n",
    "- Simulaciones con Python.\n",
    "- Modelado de riego eficiente.\n",
    "- Creación de modelos parabólicos.\n",
    "\n",
    "---\n",
    "\n",
    "## **7. Poema**\n",
    "\n",
    "*El sol en la tierra reflejado,*  \n",
    "*por la parábola bien concentrado.*  \n",
    "*El agua en su curso canalizado,*  \n",
    "*en la ciencia agraria bien aplicado.*  \n",
    "\n",
    "---\n",
    "\n",
    "## **8. Tarea o Actividades de Ejercitación y Fijación**\n",
    "1. Resolver ecuaciones de parábolas en Python.\n",
    "2. Simular la reflexión de luz en superficies parabólicas.\n",
    "3. Construir una animación del crecimiento de cultivos.\n",
    "\n",
    "---\n",
    "\n",
    "## **9. Evaluación**\n",
    "### **Proyectos:**\n",
    "1. Modelado de sistemas de riego.\n",
    "2. Simulación de reflejos parabólicos.\n",
    "3. Análisis de estructuras parabólicas en invernaderos.\n",
    "4. Predicción de flujo de agua.\n",
    "5. Implementación de modelos energéticos.\n",
    "6. Desarrollo de estructuras de sombra.\n",
    "7. Diseño de sistemas de recolección de agua.\n",
    "8. Creación de algoritmos de optimización.\n",
    "9. Análisis de temperatura en superficies parabólicas.\n",
    "10. Predicción del comportamiento de cultivos.\n",
    "\n",
    "### **Quiz:**\n",
    "- Pregunta: **Determina el tipo de sección cónica dada la ecuación** $Ax^2 + Bxy + Cy^2 + Dx + Ey + F = 0$.\n",
    "\n",
    "### **Parcial:**\n",
    "- Implementación en Python de un modelo parabólico aplicado a la agronomía.\n",
    "\n",
    "---\n",
    "\n",
    "## **10. Diseño de Actividad de Retroalimentación**\n",
    "- Discusión sobre aplicaciones reales.\n",
    "- Revisión de notebooks en GitHub.\n",
    "\n",
    "---\n",
    "\n",
    "## **11. Vocabulario y Frases en Inglés**\n",
    "- **Parabolic Reflection** (Reflexión parabólica)\n",
    "- **Focus and Directrix** (Foco y Directriz)\n",
    "- **Irrigation Systems** (Sistemas de riego)\n",
    "- **Energy Concentration** (Concentración de energía)\n",
    "\n",
    "**Frases:**\n",
    "- *Parabolic shapes are efficient in energy concentration.*\n",
    "- *Agricultural irrigation can be optimized using parabolic trajectories.*\n",
    "- *The vertex of a parabola is a key point in its geometric properties.*\n",
    "\n"
   ]
  },
  {
   "cell_type": "markdown",
   "id": "fb9402bb",
   "metadata": {
    "slideshow": {
     "slide_type": "slide"
    }
   },
   "source": [
    "## Estrategias propuestas para la solución de las dificultades de aprendizaje detectadas"
   ]
  },
  {
   "cell_type": "markdown",
   "id": "2dd3bd5c",
   "metadata": {
    "slideshow": {
     "slide_type": "slide"
    }
   },
   "source": []
  },
  {
   "cell_type": "markdown",
   "id": "c6236d5d",
   "metadata": {},
   "source": [
    "# FODA del grupo y del profesor  \n",
    "\n",
    "* F: Fortalezas\n",
    "* O: Oportunidades\n",
    "* D: Dificultades\n",
    "* A: Amenazas."
   ]
  },
  {
   "cell_type": "markdown",
   "id": "b48f9542",
   "metadata": {},
   "source": [
    "## ¿Cómo se sintió en este espacio de enseñanza y aprendizaje?\n",
    "\n",
    "!Dios te bendiga¡"
   ]
  },
  {
   "cell_type": "markdown",
   "id": "10bce0d0",
   "metadata": {
    "slideshow": {
     "slide_type": "slide"
    }
   },
   "source": [
    "## Referentes "
   ]
  },
  {
   "cell_type": "markdown",
   "id": "d204c917",
   "metadata": {},
   "source": [
    "* [Grajales Vanegas, L. M., Restrepo Estrada, C. E., Restrepo Ochoa, S. I., & Ruíz De Villalba, F. (2015). Matemáticas I para las ciencias económicas.](https://github.com/marco-canas/fundamentos_de_la_aritmetica/blob/main/referentes/2_grajales_logica/grajales_lina_matemticas.pdf)\n",
    "  \n",
    "* Duval, R. (2004). Semiosis y pensamiento humano: registros semióticos y aprendizajes intelectuales. Universidad del Valle.\n",
    "\n",
    "* [Aylwin, C. U. (2011). Lógica, conjuntos y números. Universidad de los Andes, Consejo de Publicaciones, Colección: Ciencias Básicas, Serie: Matemáticas.](https://github.com/marco-canas/fundamentos_logica/blob/main/referentes/2_uzcategui/uscategui.pdf)\n",
    "  \n",
    "* [Chollet, F. (2021). Deep learning with Python. Simon and Schuster.](https://github.com/marco-canas/didactica_ciencia_datos/blob/main/2_referentes/chollet/Fran%C3%A7ois%20Chollet%20-%20Deep%20Learning%20with%20Python-Manning%20(2018).pdf)  \n",
    "  \n",
    "* [Watson, S., Stewart, J., & Redlin, L. (2009). Precálculo. Matemáticas para el cálculo.](https://github.com/marco-canas/calculo/blob/main/referents/1_precalculo_stewart/stewart_precalculo.pdf)  \n",
    "\n",
    "* [Purcell, E. J., Varberg, D., & Rigdon, S. E. (2007). Cálculo diferencial e integral. Pearson Educación.](https://github.com/marco-canas/calculo/blob/main/referents/purcell/purcell_calculo.pdf)\n",
    "\n",
    "  \n",
    "\n",
    "* [stewart cálculo](https://udeaeduco-my.sharepoint.com/:b:/g/personal/marco_canas_udea_edu_co/EZgXZjAp8QxPqOAim2hs6LcBNPLGjSHf-xwYnUVYkwa04w?e=RZdTCy)  \n",
    "\n",
    "* [larson](https://udeaeduco-my.sharepoint.com/:b:/g/personal/marco_canas_udea_edu_co/ES71ChFeO9ZDhW3TwC5Ijk8BjxUK3Pdqz_fjHxTTFAfIAg?e=VDEjfu)\n",
    "\n",
    "\n",
    "\n",
    "* [Recomendación de la UNESCO sobre ciencia abierta](https://unesdoc.unesco.org/ark:/48223/pf0000379949_spa)\n",
    "\n",
    "* [chatGPT](https://openai.com/blog/chatgpt)  \n",
    "\n",
    "* [Géron, A. (2017). Hands-on machine learning with scikit-learn and tensorflow: Concepts. Tools, and Techniques to build intelligent systems.](chrome-extension://efaidnbmnnnibpcajpcglclefindmkaj/http://14.139.161.31/OddSem-0822-1122/Hands-On_Machine_Learning_with_Scikit-Learn-Keras-and-TensorFlow-2nd-Edition-Aurelien-Geron.pdf)   \n"
   ]
  },
  {
   "cell_type": "markdown",
   "id": "6b9e56a8",
   "metadata": {
    "slideshow": {
     "slide_type": "slide"
    }
   },
   "source": [
    "### [Evaluamos al profesor Marco Cañas Aquí](https://forms.office.com/Pages/ResponsePage.aspx?id=IefhmYRxjkmK_7KtTlPBwkanXIs1i1FEujpsZgO6dXpUREJPV1kxUk1JV1ozTFJIQVNIQjY5WEY3US4u)"
   ]
  },
  {
   "cell_type": "markdown",
   "id": "071afa04",
   "metadata": {
    "slideshow": {
     "slide_type": "slide"
    }
   },
   "source": [
    "## [Evaluación luego de alcanzar estos objetivos de aprendizaje]()"
   ]
  },
  {
   "cell_type": "markdown",
   "id": "10f43536",
   "metadata": {
    "slideshow": {
     "slide_type": "slide"
    }
   },
   "source": [
    "### Continue su aprendizaje en la siguiente clase a través del siguiente [vínculo]()"
   ]
  },
  {
   "cell_type": "markdown",
   "id": "af751e30",
   "metadata": {
    "slideshow": {
     "slide_type": "slide"
    }
   },
   "source": [
    "# Conjeturas pedagógicas fruto de la aplicación del modelo de aprendizaje invertido y del enfoque hacia la ciencia de datos con python\n",
    "\n",
    "1. Todo cálculo o resultado debe ser interpretado en una línea markdown del cuaderno Jupyter, inmediatamente después de la enunciación del resultado y después de la presentación de una tabla o gráfico bidimensional, de tal menera que el estudiante explicite la comprensión verbal del resultado y las inferencias o estrategias que este resultado le sugieren.   "
   ]
  }
 ],
 "metadata": {
  "celltoolbar": "Slideshow",
  "kernelspec": {
   "display_name": "Python 3 (ipykernel)",
   "language": "python",
   "name": "python3"
  },
  "language_info": {
   "codemirror_mode": {
    "name": "ipython",
    "version": 3
   },
   "file_extension": ".py",
   "mimetype": "text/x-python",
   "name": "python",
   "nbconvert_exporter": "python",
   "pygments_lexer": "ipython3",
   "version": "3.10.12"
  },
  "rise": {
   "enable_chalkboard": true,
   "theme": "sky",
   "transition": "zoom"
  }
 },
 "nbformat": 4,
 "nbformat_minor": 5
}
