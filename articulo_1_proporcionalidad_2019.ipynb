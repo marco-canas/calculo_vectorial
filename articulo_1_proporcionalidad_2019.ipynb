{
 "cells": [
  {
   "cell_type": "markdown",
   "metadata": {},
   "source": [
    "<table align=\"left\">\n",
    "  <td>\n",
    "    <a href=\"https://colab.research.google.com/github/marco-canas/4_didactica_aritmetica/blob/main/modelo_general_clase_aula_invertida.ipynb\" target=\"_parent\"><img src=\"https://colab.research.google.com/assets/colab-badge.svg\" alt=\"Open In Colab\"/></a>\n",
    "  </td>\n",
    "</table>"
   ]
  },
  {
   "cell_type": "markdown",
   "metadata": {},
   "source": []
  },
  {
   "cell_type": "markdown",
   "metadata": {},
   "source": [
    "# Artículo 1 sobre proporcionalidad"
   ]
  },
  {
   "cell_type": "markdown",
   "metadata": {},
   "source": [
    "La necesidad de conjugación de las perspectivas geométrica, algebraica y numérica para la comprensión y adquisición del concepto de proporcionalidad"
   ]
  },
  {
   "cell_type": "markdown",
   "metadata": {},
   "source": [
    "Necesidad de la conjugación de las aproximaciones aritmética y algebraica al concepto de\n",
    "proporcionalidad \n",
    "\n",
    "Marco Julio Cañas C.  \n",
    "\n",
    "Universidad de Antioquia – Colombia  \n"
   ]
  },
  {
   "cell_type": "markdown",
   "metadata": {},
   "source": [
    "\n",
    "Una de las nociones fundamentales en educación superior y en el ejercicio profesional es la proporcionalidad (Mochón, 2012), sin embargo, los estudiantes presentan serias dificultades para su aplicación en contextos matemáticos y reales ya que solo tienen presente el esquema de la regla de tres, el cual es insuficiente para la adquisición y utilización comprensiva del concepto de proporcionalidad. Se considera que la presencia de este solo esquema en los estudiantes, es debido a la línea de enseñanza básica, media y superior seguida o implementada. Como una alternativa para este problema se presenta aquí una reflexión sobre la necesidad de conjugar una aproximación aritmética y una aproximación algebraica al concepto de proporcionalidad fundamentando esta propuesta en la hipótesis de que la adquisición de un concepto matemático requiere de vincular múltiples\n",
    "representaciones de él, lo que precisamente permite la conjugación de estas dos perspectivas."
   ]
  },
  {
   "cell_type": "markdown",
   "metadata": {},
   "source": [
    "## Clasificación de este parrafo: \n",
    "\n"
   ]
  },
  {
   "cell_type": "code",
   "execution_count": null,
   "metadata": {},
   "outputs": [],
   "source": []
  },
  {
   "cell_type": "markdown",
   "metadata": {},
   "source": []
  },
  {
   "cell_type": "code",
   "execution_count": null,
   "metadata": {},
   "outputs": [],
   "source": []
  }
 ],
 "metadata": {
  "language_info": {
   "name": "python"
  },
  "orig_nbformat": 4
 },
 "nbformat": 4,
 "nbformat_minor": 2
}
