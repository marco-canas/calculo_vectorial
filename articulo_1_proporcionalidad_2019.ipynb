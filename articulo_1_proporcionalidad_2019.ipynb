{
 "cells": [
  {
   "cell_type": "markdown",
   "metadata": {},
   "source": [
    "<table align=\"left\">\n",
    "  <td>\n",
    "    <a href=\"https://colab.research.google.com/github/marco-canas/4_didactica_aritmetica/blob/main/modelo_general_clase_aula_invertida.ipynb\" target=\"_parent\"><img src=\"https://colab.research.google.com/assets/colab-badge.svg\" alt=\"Open In Colab\"/></a>\n",
    "  </td>\n",
    "</table>"
   ]
  },
  {
   "cell_type": "markdown",
   "metadata": {},
   "source": [
    "### [Video de apoyo]()"
   ]
  },
  {
   "cell_type": "markdown",
   "metadata": {},
   "source": [
    "# Artículo 1 sobre proporcionalidad"
   ]
  },
  {
   "cell_type": "markdown",
   "metadata": {},
   "source": [
    "Una de las nociones fundamentales en educación superior y en el ejercicio profesional es la proporcionalidad (Mochón, 2012), sin embargo, los estudiantes presentan serias dificultades para su aplicación en contextos matemáticos y reales ya que solo tienen presente el esquema de la regla de tres, el cual es insuficiente para la adquisición y utilización comprensiva del concepto de\n",
    "proporcionalidad. Se considera que la presencia de este solo esquema en los estudiantes, es debido a la línea de enseñanza básica, media y superior seguida o implementada. Como una alternativa para este problema se presenta aquí una reflexión sobre la necesidad de conjugar una aproximación aritmética y una aproximación algebraica al concepto de proporcionalidad fundamentando esta propuesta en la hipótesis de que la adquisición de un concepto matemático requiere de vincular múltiples representaciones de él, lo que precisamente permite la conjugación de estas dos perspectivas."
   ]
  },
  {
   "cell_type": "markdown",
   "metadata": {},
   "source": [
    "### Clasificaciín de este párrafo: Aportes didácticos en educación\n",
    "\n",
    "Hace referencia a las contribuciones y enfoques específicos relacionados con la planificación, organización y entrega de la enseñanza. El aporte didáctico se basa en los principios, enfoques pedagógicos, disciplinares entre otros. \n",
    "\n"
   ]
  },
  {
   "cell_type": "markdown",
   "metadata": {},
   "source": [
    "Las concepciones erróneas de los estudiantes, acerca de las propiedades de las relaciones de proporcionalidad, y el bajo desempeño académico en cuanto a la aplicabilidad del concepto de proporcionalidad, es el punto de partida de este capítulo reflexivo, debido a que en la aproximación al concepto de proporcionalidad solo se utilice la completación de tablas y el esquema de regla de tres. Con base en lo anterior se argumenta aquí la pertinencia de la articulación de dos perspectivas para la adquisición comprensiva de la noción de proporcionalidad en educación media y superior. Se reconoce que en la educación básica solo es aplicable una aproximación aritmética al desarrollo del razonamiento proporcional. En primera instancia se reflexiona sobre los hechos de aula que motivaron este trabajo. Hice un diagnóstico de las dificultades de los estudiantes desde una perspectiva algebraica, es decir, desde una perspectiva que define a las relaciones de proporcionalidad como relaciones multiplicativas representadas por funciones lineales que pasan por el origen (y = f(x) = kx) o por funciones racionales del tipo en la ecuación (1).\n",
    "\n",
    "$$ y = f(x) = \\frac{k}{x} $$"
   ]
  },
  {
   "cell_type": "markdown",
   "metadata": {},
   "source": [
    "### Clasificaciín de este párrafo: Aportes didácticos en educación\n",
    "\n",
    "Hace referencia a las contribuciones y enfoques específicos relacionados con la planificación, organización y entrega de la enseñanza. El aporte didáctico se basa en los principios, enfoques pedagógicos, disciplinares entre otros. \n"
   ]
  },
  {
   "cell_type": "code",
   "execution_count": null,
   "metadata": {
    "vscode": {
     "languageId": "plaintext"
    }
   },
   "outputs": [],
   "source": []
  },
  {
   "cell_type": "code",
   "execution_count": null,
   "metadata": {
    "vscode": {
     "languageId": "plaintext"
    }
   },
   "outputs": [],
   "source": []
  },
  {
   "cell_type": "code",
   "execution_count": null,
   "metadata": {
    "vscode": {
     "languageId": "plaintext"
    }
   },
   "outputs": [],
   "source": []
  },
  {
   "cell_type": "code",
   "execution_count": null,
   "metadata": {
    "vscode": {
     "languageId": "plaintext"
    }
   },
   "outputs": [],
   "source": []
  },
  {
   "cell_type": "code",
   "execution_count": null,
   "metadata": {
    "vscode": {
     "languageId": "plaintext"
    }
   },
   "outputs": [],
   "source": []
  }
 ],
 "metadata": {
  "language_info": {
   "name": "python"
  },
  "orig_nbformat": 4
 },
 "nbformat": 4,
 "nbformat_minor": 2
}
