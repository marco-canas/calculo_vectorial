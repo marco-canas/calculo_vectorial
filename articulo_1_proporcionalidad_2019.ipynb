{
 "cells": [
  {
   "cell_type": "markdown",
   "metadata": {},
   "source": [
    "<table align=\"left\">\n",
    "  <td>\n",
    "    <a href=\"https://colab.research.google.com/github/marco-canas/4_didactica_aritmetica/blob/main/modelo_general_clase_aula_invertida.ipynb\" target=\"_parent\"><img src=\"https://colab.research.google.com/assets/colab-badge.svg\" alt=\"Open In Colab\"/></a>\n",
    "  </td>\n",
    "</table>"
   ]
  },
  {
   "cell_type": "markdown",
   "metadata": {},
   "source": [
    "### [Video de apoyo]()"
   ]
  },
  {
   "cell_type": "markdown",
   "metadata": {},
   "source": [
    "# Artículo 1 sobre proporcionalidad"
   ]
  },
  {
   "cell_type": "markdown",
   "metadata": {},
   "source": [
    "Una de las nociones fundamentales en educación superior y en el ejercicio profesional es la proporcionalidad (Mochón, 2012), sin embargo, los estudiantes presentan serias dificultades para su aplicación en contextos matemáticos y reales ya que solo tienen presente el esquema de la regla de tres, el cual es insuficiente para la adquisición y utilización comprensiva del concepto de\n",
    "proporcionalidad. Se considera que la presencia de este solo esquema en los estudiantes, es debido a la línea de enseñanza básica, media y superior seguida o implementada. Como una alternativa para este problema se presenta aquí una reflexión sobre la necesidad de conjugar una aproximación aritmética y una aproximación algebraica al concepto de proporcionalidad fundamentando esta propuesta en la hipótesis de que la adquisición de un concepto matemático requiere de vincular múltiples representaciones de él, lo que precisamente permite la conjugación de estas dos perspectivas."
   ]
  },
  {
   "cell_type": "markdown",
   "metadata": {},
   "source": [
    "### Clasificaciín de este párrafo: Aportes didácticos en educación\n",
    "\n",
    "Hace referencia a las contribuciones y enfoques específicos relacionados con la planificación, organización y entrega de la enseñanza. El aporte didáctico se basa en los principios, enfoques pedagógicos, disciplinares entre otros. \n",
    "\n"
   ]
  },
  {
   "cell_type": "markdown",
   "metadata": {},
   "source": [
    "Las concepciones erróneas de los estudiantes, acerca de las propiedades de las relaciones de proporcionalidad, y el bajo desempeño académico en cuanto a la aplicabilidad del concepto de proporcionalidad, es el punto de partida de este capítulo reflexivo, debido a que en la aproximación al concepto de proporcionalidad solo se utilice la completación de tablas y el esquema de regla de tres. Con base en lo anterior se argumenta aquí la pertinencia de la articulación de dos perspectivas para la adquisición comprensiva de la noción de proporcionalidad en educación media y superior. Se reconoce que en la educación básica solo es aplicable una aproximación aritmética al desarrollo del razonamiento proporcional. En primera instancia se reflexiona sobre los hechos de aula que motivaron este trabajo. Hice un diagnóstico de las dificultades de los estudiantes desde una perspectiva algebraica, es decir, desde una perspectiva que define a las relaciones de proporcionalidad como relaciones multiplicativas representadas por funciones lineales que pasan por el origen (y = f(x) = kx) o por funciones racionales del tipo en la ecuación (1).\n",
    "\n",
    "$$ y = f(x) = \\frac{k}{x} $$\n",
    "\n",
    "Seguidamente, se realizó una revisión de textos escolares en educación media y superior y las conclusiones de este trabajo. Este diagnóstico del estado general de conceptualización y desarrollo de las competencias para aplicar los conceptos de proporcionalidad en la cotidianidad, en contextos académicos y profesionales llevó a considerar que el proceso de enseñanza del concepto de proporcionalidad requiere cuestionar la enseñanza del mismo. Así, este trabajo, enmarcado en la línea de investigación en educación matemática, busca el crecimiento profesional de los profesores y la mejora de la práctica en el aula. La constitución mundial de esta línea de investigación ha implicado la creación de revistas especializadas para el profesorado que representan algunas de las altas investigaciones que en esta área se realizan.\n",
    "Zamorano (2015) destaca que la demanda de la enseñanza de la matemática en los últimos tiempos es muy alta debido a la masificación de la escuela en todo el mundo, lo que exige aprender matemática de calidad. Este aprendizaje pide preparación de los profesores y la investigación sobre su enseñanza. Este mismo autor argumenta también la necesidad de determinar qué conocimientos necesita el profesor para enseñar. Se requiere pues diseñar formas adecuadas para representar y formular los contenidos y conceptos de tal manera que sean comprensibles para que puedan hacerse dueños del concepto que se les presente. Es por ello que he pensado que la representación y formulación del concepto de proporcionalidad desde una sinergia entre dos perspectivas: la aritmética, donde se representan las relaciones de proporcionalidad a través de tablas e igualdad de razones y esquema de regla de tres, y la algebraica, donde se representan las relaciones de proporcionalidad a través de funciones lineales y racionales, lleva a la adquisición comprensiva del concepto de proporcionalidad.  \n",
    "\n",
    "Comparto con Duval (2004) que el mayor conocimiento de la matemática y la articulación de diferentes perspectivas, enriquece los procesos de conceptualización con múltiples sistemas de representación. Y es la riqueza de sistemas de representación y la conversión entre ellos la que contribuye a la adquisición significativa y competente de los conceptos. Es así como esta propuesta está basada en el vínculo del concepto de proporcionalidad con el de función lineal y función racional, de tal manera que se pueda valer de las múltiples representaciones y propiedades que tienen para aportar a la conceptualización adecuada y desarrollo potencial del razonamiento proporcional.\n",
    "Vamos a ejemplificar con funciones y = f(p) donde p representará el precio de algún artículo y denotaré con la letra r a los porcentajes, y utilizaré la representación decimal de estos, por ejemplo: r = 0.5 se refiere al 50 %. Esto lo hago\n",
    "con una intención didáctica que facilite la lectura. Los hechos que describiré son inspirados por texto universitario de Álgebra y trigonometría de (Buriticá, 2009)."
   ]
  },
  {
   "cell_type": "markdown",
   "metadata": {},
   "source": [
    "### Clasificaciín de este párrafo: Aportes didácticos en educación\n",
    "\n",
    "Hace referencia a las contribuciones y enfoques específicos relacionados con la planificación, organización y entrega de la enseñanza. El aporte didáctico se basa en los principios, enfoques pedagógicos, disciplinares entre otros. \n"
   ]
  },
  {
   "cell_type": "code",
   "execution_count": null,
   "metadata": {
    "vscode": {
     "languageId": "plaintext"
    }
   },
   "outputs": [],
   "source": []
  },
  {
   "cell_type": "code",
   "execution_count": null,
   "metadata": {
    "vscode": {
     "languageId": "plaintext"
    }
   },
   "outputs": [],
   "source": []
  },
  {
   "cell_type": "code",
   "execution_count": null,
   "metadata": {
    "vscode": {
     "languageId": "plaintext"
    }
   },
   "outputs": [],
   "source": []
  },
  {
   "cell_type": "code",
   "execution_count": null,
   "metadata": {
    "vscode": {
     "languageId": "plaintext"
    }
   },
   "outputs": [],
   "source": []
  },
  {
   "cell_type": "code",
   "execution_count": null,
   "metadata": {
    "vscode": {
     "languageId": "plaintext"
    }
   },
   "outputs": [],
   "source": []
  }
 ],
 "metadata": {
  "language_info": {
   "name": "python"
  },
  "orig_nbformat": 4
 },
 "nbformat": 4,
 "nbformat_minor": 2
}
