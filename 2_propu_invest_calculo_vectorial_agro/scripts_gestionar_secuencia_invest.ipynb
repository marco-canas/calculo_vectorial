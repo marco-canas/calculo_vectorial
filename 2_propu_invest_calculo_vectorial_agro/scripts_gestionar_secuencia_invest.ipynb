{
 "cells": [
  {
   "cell_type": "markdown",
   "metadata": {},
   "source": [
    "# Scripts para Gestionar la secuencia didáctica de esta investigación  \n"
   ]
  },
  {
   "cell_type": "markdown",
   "metadata": {},
   "source": [
    "Para crear la estructura de carpetas y archivos `.md` en la ruta especificada (`C:\\Users\\marco\\Documentos\\docencia\\radicacion_vectorial_numerico\\5_vectorial\\2_propu_invest_calculo_vectorial_agro`), puedes usar el siguiente script en Python. Este script generará la estructura de carpetas y archivos basada en la secuencia de acciones que has descrito en tu investigación educativa.\n",
    "\n",
    "---\n"
   ]
  },
  {
   "cell_type": "markdown",
   "metadata": {},
   "source": [
    "\n",
    "### **Script en Python**\n"
   ]
  },
  {
   "cell_type": "code",
   "execution_count": 1,
   "metadata": {},
   "outputs": [
    {
     "name": "stdout",
     "output_type": "stream",
     "text": [
      "Archivo creado: C:\\Users\\marco\\Documentos\\docencia\\radicacion_vectorial_numerico\\5_vectorial\\2_propu_invest_calculo_vectorial_agro\\1_contexto_y_justificacion\\necesidad_identificada.md\n",
      "Archivo creado: C:\\Users\\marco\\Documentos\\docencia\\radicacion_vectorial_numerico\\5_vectorial\\2_propu_invest_calculo_vectorial_agro\\1_contexto_y_justificacion\\innovacion_propuesta.md\n",
      "Archivo creado: C:\\Users\\marco\\Documentos\\docencia\\radicacion_vectorial_numerico\\5_vectorial\\2_propu_invest_calculo_vectorial_agro\\2_objetivos_de_la_investigacion\\objetivo_general.md\n",
      "Archivo creado: C:\\Users\\marco\\Documentos\\docencia\\radicacion_vectorial_numerico\\5_vectorial\\2_propu_invest_calculo_vectorial_agro\\2_objetivos_de_la_investigacion\\objetivos_especificos.md\n",
      "Archivo creado: C:\\Users\\marco\\Documentos\\docencia\\radicacion_vectorial_numerico\\5_vectorial\\2_propu_invest_calculo_vectorial_agro\\3_metodologia\\enfoque.md\n",
      "Archivo creado: C:\\Users\\marco\\Documentos\\docencia\\radicacion_vectorial_numerico\\5_vectorial\\2_propu_invest_calculo_vectorial_agro\\3_metodologia\\participantes.md\n",
      "Archivo creado: C:\\Users\\marco\\Documentos\\docencia\\radicacion_vectorial_numerico\\5_vectorial\\2_propu_invest_calculo_vectorial_agro\\3_metodologia\\instrumentos.md\n",
      "Archivo creado: C:\\Users\\marco\\Documentos\\docencia\\radicacion_vectorial_numerico\\5_vectorial\\2_propu_invest_calculo_vectorial_agro\\3_metodologia\\variables_a_medir.md\n",
      "Archivo creado: C:\\Users\\marco\\Documentos\\docencia\\radicacion_vectorial_numerico\\5_vectorial\\2_propu_invest_calculo_vectorial_agro\\4_estructura_del_curso\\modulo_1_fundamentos.md\n",
      "Archivo creado: C:\\Users\\marco\\Documentos\\docencia\\radicacion_vectorial_numerico\\5_vectorial\\2_propu_invest_calculo_vectorial_agro\\4_estructura_del_curso\\modulo_2_proyectos_abpp_steams.md\n",
      "Archivo creado: C:\\Users\\marco\\Documentos\\docencia\\radicacion_vectorial_numerico\\5_vectorial\\2_propu_invest_calculo_vectorial_agro\\4_estructura_del_curso\\modulo_3_analisis_de_datos.md\n",
      "Archivo creado: C:\\Users\\marco\\Documentos\\docencia\\radicacion_vectorial_numerico\\5_vectorial\\2_propu_invest_calculo_vectorial_agro\\5_evaluacion_del_impacto\\indicadores_clave.md\n",
      "Archivo creado: C:\\Users\\marco\\Documentos\\docencia\\radicacion_vectorial_numerico\\5_vectorial\\2_propu_invest_calculo_vectorial_agro\\5_evaluacion_del_impacto\\triangulacion_de_datos.md\n",
      "Archivo creado: C:\\Users\\marco\\Documentos\\docencia\\radicacion_vectorial_numerico\\5_vectorial\\2_propu_invest_calculo_vectorial_agro\\6_resultados_esperados\\para_estudiantes.md\n",
      "Archivo creado: C:\\Users\\marco\\Documentos\\docencia\\radicacion_vectorial_numerico\\5_vectorial\\2_propu_invest_calculo_vectorial_agro\\6_resultados_esperados\\para_la_investigacion.md\n",
      "Archivo creado: C:\\Users\\marco\\Documentos\\docencia\\radicacion_vectorial_numerico\\5_vectorial\\2_propu_invest_calculo_vectorial_agro\\7_desafios_y_mitigacion\\posibles_retos.md\n",
      "Archivo creado: C:\\Users\\marco\\Documentos\\docencia\\radicacion_vectorial_numerico\\5_vectorial\\2_propu_invest_calculo_vectorial_agro\\7_desafios_y_mitigacion\\soluciones.md\n",
      "Archivo creado: C:\\Users\\marco\\Documentos\\docencia\\radicacion_vectorial_numerico\\5_vectorial\\2_propu_invest_calculo_vectorial_agro\\8_conclusion\\conclusion.md\n",
      "Estructura de carpetas y archivos creada exitosamente.\n"
     ]
    }
   ],
   "source": [
    "import os\n",
    "\n",
    "# Ruta base donde se creará la estructura\n",
    "base_path = r\"C:\\Users\\marco\\Documentos\\docencia\\radicacion_vectorial_numerico\\5_vectorial\\2_propu_invest_calculo_vectorial_agro\"\n",
    "\n",
    "# Estructura de carpetas y archivos\n",
    "estructura = {\n",
    "    \"1_contexto_y_justificacion\": {\n",
    "        \"necesidad_identificada.md\": \"### Necesidad Identificada\\n\\n- **Gap actual**: ...\",\n",
    "        \"innovacion_propuesta.md\": \"### Innovación Propuesta\\n\\n- Integrar tres enfoques pedagógicos activos...\",\n",
    "    },\n",
    "    \"2_objetivos_de_la_investigacion\": {\n",
    "        \"objetivo_general.md\": \"### Objetivo General\\n\\n- Evaluar el impacto de la implementación combinada...\",\n",
    "        \"objetivos_especificos.md\": \"### Objetivos Específicos\\n\\n1. Medir la mejora en competencias técnicas...\",\n",
    "    },\n",
    "    \"3_metodologia\": {\n",
    "        \"enfoque.md\": \"### Enfoque\\n\\n- Investigación-acción educativa con método mixto...\",\n",
    "        \"participantes.md\": \"### Participantes\\n\\n- Estudiantes de Ingeniería Agropecuaria del Campus Caucasia...\",\n",
    "        \"instrumentos.md\": \"### Instrumentos\\n\\n- Pre-test y post-test...\",\n",
    "        \"variables_a_medir.md\": \"### Variables a Medir\\n\\n- **Independientes**: Implementación de Aula Invertida...\",\n",
    "    },\n",
    "    \"4_estructura_del_curso\": {\n",
    "        \"modulo_1_fundamentos.md\": \"### Módulo 1: Fundamentos de Cálculo Vectorial\\n\\n- **Recursos**: Videos en DIMathData...\",\n",
    "        \"modulo_2_proyectos_abpp_steams.md\": \"### Módulo 2: Proyectos ABPP + STEAMS\\n\\n- **Ejemplo de Proyecto**: Modelar el flujo de agua...\",\n",
    "        \"modulo_3_analisis_de_datos.md\": \"### Módulo 3: Análisis de Datos y Toma de Decisiones\\n\\n- **Actividad**: Usar Jupyter para analizar datos...\",\n",
    "    },\n",
    "    \"5_evaluacion_del_impacto\": {\n",
    "        \"indicadores_clave.md\": \"### Indicadores Clave\\n\\n- **Técnicos**: % de estudiantes que resuelven problemas complejos...\",\n",
    "        \"triangulacion_de_datos.md\": \"### Triangulación de Datos\\n\\n- Comparar resultados de tests, encuestas...\",\n",
    "    },\n",
    "    \"6_resultados_esperados\": {\n",
    "        \"para_estudiantes.md\": \"### Para Estudiantes\\n\\n- Dominio de cálculo vectorial aplicado...\",\n",
    "        \"para_la_investigacion.md\": \"### Para la Investigación\\n\\n- Evidencia empírica de que los enfoques combinados...\",\n",
    "    },\n",
    "    \"7_desafios_y_mitigacion\": {\n",
    "        \"posibles_retos.md\": \"### Posibles Retos\\n\\n- Resistencia al cambio pedagógico...\",\n",
    "        \"soluciones.md\": \"### Soluciones\\n\\n- Talleres introductorios sobre uso de GitHub/Colab...\",\n",
    "    },\n",
    "    \"8_conclusion\": {\n",
    "        \"conclusion.md\": \"### Conclusión\\n\\nEste enfoque busca transformar la enseñanza del cálculo vectorial...\",\n",
    "    },\n",
    "}\n",
    "\n",
    "# Función para crear carpetas y archivos\n",
    "def crear_estructura(base_path, estructura):\n",
    "    for carpeta, archivos in estructura.items():\n",
    "        # Crear carpeta\n",
    "        carpeta_path = os.path.join(base_path, carpeta)\n",
    "        os.makedirs(carpeta_path, exist_ok=True)\n",
    "        \n",
    "        # Crear archivos dentro de la carpeta\n",
    "        for nombre_archivo, contenido in archivos.items():\n",
    "            archivo_path = os.path.join(carpeta_path, nombre_archivo)\n",
    "            with open(archivo_path, \"w\", encoding=\"utf-8\") as archivo:\n",
    "                archivo.write(contenido)\n",
    "            print(f\"Archivo creado: {archivo_path}\")\n",
    "\n",
    "# Ejecutar la función\n",
    "crear_estructura(base_path, estructura)\n",
    "print(\"Estructura de carpetas y archivos creada exitosamente.\")\n",
    "\n"
   ]
  },
  {
   "cell_type": "markdown",
   "metadata": {},
   "source": [
    "\n",
    "---\n",
    "\n",
    "### **Explicación del Script**\n"
   ]
  },
  {
   "cell_type": "markdown",
   "metadata": {},
   "source": [
    "\n",
    "1. **Ruta Base (`base_path`)**:  \n",
    "   Especifica la ubicación donde se creará la estructura de carpetas y archivos.\n",
    "\n",
    "2. **Estructura de Carpetas y Archivos (`estructura`)**:  \n",
    "   - Define las carpetas principales (por ejemplo, `1_contexto_y_justificacion`, `2_objetivos_de_la_investigacion`, etc.).  \n",
    "   - Dentro de cada carpeta, se crean archivos `.md` con el contenido inicial que has proporcionado.\n",
    "\n",
    "3. **Función `crear_estructura`**:  \n",
    "   - Recorre la estructura de carpetas y archivos.  \n",
    "   - Crea las carpetas usando `os.makedirs`.  \n",
    "   - Crea los archivos `.md` y escribe el contenido proporcionado.\n",
    "\n",
    "4. **Ejecución**:  \n",
    "   - Al ejecutar el script, se generará la estructura completa de carpetas y archivos en la ruta especificada.\n",
    "\n",
    "---\n"
   ]
  },
  {
   "cell_type": "markdown",
   "metadata": {},
   "source": [
    "\n",
    "### **Estructura Generada**\n"
   ]
  },
  {
   "cell_type": "markdown",
   "metadata": {},
   "source": [
    "\n",
    "La estructura de carpetas y archivos generada será la siguiente:\n"
   ]
  },
  {
   "cell_type": "markdown",
   "metadata": {},
   "source": [
    "\n",
    "```\n",
    "C:\\Users\\marco\\Documentos\\docencia\\radicacion_vectorial_numerico\\5_vectorial\\2_propu_invest_calculo_vectorial_agro\n",
    "│\n",
    "├── 1_contexto_y_justificacion\n",
    "│   ├── necesidad_identificada.md\n",
    "│   └── innovacion_propuesta.md\n",
    "│\n",
    "├── 2_objetivos_de_la_investigacion\n",
    "│   ├── objetivo_general.md\n",
    "│   └── objetivos_especificos.md\n",
    "│\n",
    "├── 3_metodologia\n",
    "│   ├── enfoque.md\n",
    "│   ├── participantes.md\n",
    "│   ├── instrumentos.md\n",
    "│   └── variables_a_medir.md\n",
    "│\n",
    "├── 4_estructura_del_curso\n",
    "│   ├── modulo_1_fundamentos.md\n",
    "│   ├── modulo_2_proyectos_abpp_steams.md\n",
    "│   └── modulo_3_analisis_de_datos.md\n",
    "│\n",
    "├── 5_evaluacion_del_impacto\n",
    "│   ├── indicadores_clave.md\n",
    "│   └── triangulacion_de_datos.md\n",
    "│\n",
    "├── 6_resultados_esperados\n",
    "│   ├── para_estudiantes.md\n",
    "│   └── para_la_investigacion.md\n",
    "│\n",
    "├── 7_desafios_y_mitigacion\n",
    "│   ├── posibles_retos.md\n",
    "│   └── soluciones.md\n",
    "│\n",
    "└── 8_conclusion\n",
    "    └── conclusion.md\n",
    "```\n"
   ]
  },
  {
   "cell_type": "markdown",
   "metadata": {},
   "source": [
    "\n",
    "### **Cómo Usar el Script**\n",
    "\n",
    "1. Copia el script en un archivo `.py` (por ejemplo, `crear_estructura.py`).\n",
    "2. Ejecuta el script en tu entorno de Python.\n",
    "3. Verifica que la estructura de carpetas y archivos se haya creado correctamente en la ruta especificada.\n",
    "\n",
    "\n"
   ]
  },
  {
   "cell_type": "markdown",
   "metadata": {},
   "source": [
    "\n",
    "### **Notas Adicionales**\n"
   ]
  },
  {
   "cell_type": "markdown",
   "metadata": {},
   "source": [
    "\n",
    "- Si deseas modificar el contenido de los archivos `.md`, puedes editar el diccionario `estructura` en el script.\n",
    "- Asegúrate de tener permisos de escritura en la ruta especificada (`base_path`).\n"
   ]
  },
  {
   "cell_type": "code",
   "execution_count": null,
   "metadata": {},
   "outputs": [],
   "source": []
  }
 ],
 "metadata": {
  "kernelspec": {
   "display_name": ".venv",
   "language": "python",
   "name": "python3"
  },
  "language_info": {
   "codemirror_mode": {
    "name": "ipython",
    "version": 3
   },
   "file_extension": ".py",
   "mimetype": "text/x-python",
   "name": "python",
   "nbconvert_exporter": "python",
   "pygments_lexer": "ipython3",
   "version": "3.12.6"
  }
 },
 "nbformat": 4,
 "nbformat_minor": 2
}
