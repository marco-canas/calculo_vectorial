{
 "cells": [
  {
   "cell_type": "markdown",
   "metadata": {},
   "source": [
    "<table align=\"left\">\n",
    "  <td>\n",
    "    <a href=\"https://colab.research.google.com/github/marco-canas/4_didactica_aritmetica/blob/main/modelo_general_clase_aula_invertida.ipynb\" target=\"_parent\"><img src=\"https://colab.research.google.com/assets/colab-badge.svg\" alt=\"Open In Colab\"/></a>\n",
    "  </td>\n",
    "</table>"
   ]
  },
  {
   "cell_type": "markdown",
   "metadata": {},
   "source": [
    "### [Video de apoyo]()"
   ]
  },
  {
   "cell_type": "markdown",
   "metadata": {},
   "source": [
    "# Artículo 2 sobre Ventajas de la Utilización de los cuedernos Jupyter para la enseñanza de la matemática en nivel superior "
   ]
  },
  {
   "cell_type": "markdown",
   "metadata": {},
   "source": [
    "En este trabajo presentamos la reflexión sobre las ventajas de una metodología de enseñanza, mediada por Jupyter Notebook y\n",
    "GeoGebra, que permite el trabajo interactivo, el desarrollo de la capacidad argumentativa, la edición científica y la comunicación\n",
    "de aprendizajes en la educación matemática de nivel superior. Se caracterizan algunas las habilidades cognitivas asociadas a la\n",
    "argumentación y la comunicación y se presentan dos ejemplos de aplicación de la propuesta en geometría y aritmética. Estas\n",
    "habilidades cognitivas determinan una metodología de enseñanza y aprendizaje desarrollada e implementada por los autores para\n",
    "el desarrollo de competencias argumentativas y comunicativas.\n"
   ]
  },
  {
   "cell_type": "markdown",
   "metadata": {},
   "source": [
    "\n",
    "## INTRODUCCIÓN  \n"
   ]
  },
  {
   "cell_type": "markdown",
   "metadata": {},
   "source": [
    "\n",
    "Existe una gran dificultad para redactar textos científicos en nuestros estudiantes universitarios sobre todo en los textos en los que deben presentar un argumento estructurado donde deben desarrollar una idea siguiendo una línea deductiva. Sobre todo, cuando en los textos científicos hay que conjugar el lenguaje simbólico matemático, el lenguaje verbal y los textos tabulares y gráficos. Este problema se extiende hasta semestres avanzados de la formación profesional de los estudiantes en la Universidad de Antioquia.\n",
    "Para contribuir a la solución de este problema, se identifican, en esta propuesta, algunas actividades cognitivas que contribuyen al desarrollo de la capacidad para escribir y comunicar un argumento que siga una línea deductiva justificada o sustentada. Describimos las características y potencialidades de Jupyter Notebook y de GeoGebra para el desarrollo de las habilidades para argumentar y comunicar conocimiento adquirido en la formación profesional.\n",
    "Luego seguimos con la presentación de un método apropiado, de enseñanza y aprendizaje, para el desarrollo de las capacidades argumentativas y comunicativas cuando se escriben y presentan argumentos de solución de problemas de enunciado verbal en la formación matemática profesional. Para finalizar presentando con dos ejemplos de aplicación de esta propuesta y las conclusiones a las que llegamos con la implementación de esta propuesta en el aula de clases.\n"
   ]
  },
  {
   "cell_type": "markdown",
   "metadata": {},
   "source": [
    "## MARCO CONCEPTUAL  \n"
   ]
  },
  {
   "cell_type": "markdown",
   "metadata": {},
   "source": [
    "\n",
    "Identificación de algunas actividades cognitivas\n",
    "Las actividades cognitivas que contribuyen al desarrollo de las capacidades de escritura y comunicación de textos argumentativos en esta propuesta son:  \n",
    "\n",
    "* Definir: identificar y describir los elementos esenciales que distinguen a una entidad matemática de las demás y representar el objeto matemático al menos con tres de sus registros semióticos a saber: registro numérico, registro geométrico y registro algebraico (Duval, 2006). Esta actividad implica el esfuerzo de caracterizar el objeto, es decir, establecer las propiedades mínimas que lo distinguen. Además, realizar esta actividad cognitiva sugiere el camino de representación, solución y argumentación del problema que el estudiante esté resolviendo. Por ejemplo, definir\n",
    "el concepto de distancia de un punto a una recta, sugiere que para encontrar esta distancia se debe trazar la recta\n",
    "perpendicular a la recta dada que pasa por el punto dado P, luego debo determinar el punto de intersección de\n",
    "estas rectas y después calcular la distancia entre el punto dado y el punto de intersección P’. Ejemplo: Una esfera es definida por su centro y su radio o por su centro y un punto de ella.  \n",
    "\n",
    "* Ejemplificar: consiste en la capacidad de construir representantes particulares de un concepto o noción matemática. Por ejemplo, realizar el proceso de deducción de un ejemplo de una esfera tangente a plano.  \n",
    "* Establecer conjeturas: Se refiere al proceso cognitivo de reconocimiento y codificación, de manera implicativa, de\n",
    "un comportamiento o relación. Por ejemplo: cuando el estudiante observa las rectas tangentes a circunferencias y\n",
    "enuncia, de manera oral y escrita, que el ser tangentes implica la perpendicularidad del segmento radial al punto\n",
    "de tangencia y de la recta tangente.\n",
    "* Hablar o comunicar con fluidez: Consiste en la actividad de solucionar un mismo problema por diferentes caminos.\n"
   ]
  },
  {
   "cell_type": "markdown",
   "metadata": {},
   "source": [
    "### Ejemplo:   \n",
    "Cuando determinamos el radio 𝑟𝑟 de una esfera de centro dado 𝑃𝑃 tangente a un plano dado primero, utilizando el concepto de proyección de un vector sobre otro. Y segundo, resolviendo el problema utilizando el concepto de distancia de un punto a un plano. Un indicador de fluidez en la comunicación coloquial es el uso de sinónimos. En educación matemática la fluidez puede ser entendida como la capacidad de presentar en su discurso múltiples caminos de solución.  \n"
   ]
  },
  {
   "cell_type": "markdown",
   "metadata": {},
   "source": [
    "\n",
    "* Verificar: es la actividad cognitiva de establecer consistencia de los resultados con las hipótesis del problema y la\n",
    "teoría relacionada. Ejemplo: trazar la esfera, en la vista 3D de GeoGebra, con el radio deducido y observar si\n",
    "efectivamente es tangente al plano dado.\n",
    "Hemos definido cada una de estas actividades de acuerdo a su relación con el desarrollo de las capacidades de\n",
    "argumentación y comunicación. \n"
   ]
  },
  {
   "cell_type": "markdown",
   "metadata": {},
   "source": [
    "\n",
    "## 2.2 Descripción de potencialidades de Los cuadernos Jupyter Notebook para el desarrollo de la argumentación y la comunicación  \n",
    "\n",
    "En educación superior aún en la actualidad, no es muy popular el uso de entornos de desarrollo integrado tipo Jupyter Notebooks, que permitan edición sincronizada de expresiones matemáticas con alta calidad tipográfica dada por LaTeX y de expresiones o instrucciones propias de un lenguaje de programación como Python (Díaz Y Cabrera, 2018).\n",
    "Un Jupyter Notebook es una secuencia de celdas, compuesta por celdas de texto y las celdas de código. En las celdas de texto se puede usar lenguaje Markdown y LaTeX, lo que supone una ventaja grande sobre otros editores de texto científico que no gozan de la virtud de transitar con facilidad a formatos digitales de páginas web. La siguiente es una lista corta de algunas de las virtudes de los cuadernos Jupyter Notebook que aportan a la edición y comunicación científica de argumentos:  \n",
    "\n",
    "1. Líneas de texto, donde: para crear encabezados se inicializa con el carácter numeral #\n",
    "para escribir texto en negrilla se delimita el texto a resaltar con doble asterisco ** **\n",
    "para escribir letra cursiva o itálica se delimita en texto con asterisco: * *\n",
    "para escribir ecuaciones en la línea de texto se delimita a éstas con signos de pesos: $ <Ecuación> $\n",
    "para escribir ecuaciones centradas fuera de la línea de texto se delimita a estas con doble signo de pesos: $$\n",
    "<Ecuación> $$\n",
    "2. Líneas de código: sirven para definir entidades matemáticas, obtener atributos de ellas, realizar cálculos y elaborar\n",
    "gráficos. El aprender a codificar procedimientos permite centrar la enseñanza en la resolución de problemas de\n",
    "una manera sistematizada, organizada y siguiendo metodologías de trabajo y dejar de lado los tediosos\n",
    "procedimientos algorítmicos que distraen al estudiante de los objetivos generales de formación o educación al\n",
    "quitarle demasiado tiempo.\n",
    "3. La aplicación Rise: la cual es un complemento de Jupyter Notebooks, sirve para convertir texto científico en\n",
    "presentación en diapositivas y ahorrar el tiempo de elaboración de presentaciones en Powerpoint o Prezi; ya que\n",
    "esta toma el texto editado y convierte cada celda en una diapositiva.\n",
    "4. Exportar el texto científico como página web o archivo de extensión html para facilitar el compartir de los textos o\n",
    "de información científica a través de internet al poder consignar a esta en un lugar o página gratuita de la red.\n",
    "5. Exportar en PDF para facilitar la publicación de los textos en ámbitos científicos.\n"
   ]
  },
  {
   "cell_type": "markdown",
   "metadata": {},
   "source": [
    "## 2.3 Potencialidades de los sistemas de representación y sistematización de GeoGebra para el desarrollo de la argumentación y la comunicación  \n",
    "\n",
    "* Vista algebraica: Presenta, de manera instantánea, las representaciones algebraicas de todas las entidades geométricas que se tracen en 2 o 3 dimensiones.\n",
    "* Vista gráfica 2D: Es un espacio interactivo de trazado de puntos, rectas, polígonos, etc., de una manera dinámica y articulada con la vista algebraica  \n",
    "  \n",
    "* Vista gráfica 3D: Es un espacio coordenado que permite la visualización y el razonamiento con entidades geométricas como esferas, cubos, conos, etc.\n",
    "* Protocolo de construcción: Construye una secuencia lógica, grabada y que puede ser reproducida, de los pasos seguidos en la solución de un problema geométrico con las herramientas de GeoGebra.\n",
    "* Hoja de cálculo: Permite realizar análisis numérico de manera análoga a las hojas de cálculo de Excel, pero con la mejora de que esta hoja de cálculo se articula con las vistas gráficas.\n",
    "* Entrada algebraica: Permite trazar entidades geométricas de dos y tres dimensiones ingresando el nombre del comando y argumentos del mismo o ingresando la representación algebraica de la entidad geométrica.\n"
   ]
  },
  {
   "cell_type": "markdown",
   "metadata": {},
   "source": [
    "En la Figura1 se muestra los diferentes sistemas de representación geométrica de GeoGebra.\n",
    "\n"
   ]
  },
  {
   "cell_type": "markdown",
   "metadata": {},
   "source": [
    "## Clasificación hasta aquí\n",
    "\n",
    "* Tendencias_categoriales: Se entederan como las principales categorias (desarrollos teoricos) que se evidencian en la trayectoria del grupo.  \n",
    "\n",
    "* Tendencias_conceptuales: Se entenderán como las principales nociones o coceptos que han sido producidas/adoptados o discutidos en un campo específico y que influyen en la manera como se desarrollan nuevas prácticas. Palabras claves: nociones, conceptos. \n",
    "\n",
    "\n"
   ]
  },
  {
   "cell_type": "code",
   "execution_count": null,
   "metadata": {},
   "outputs": [],
   "source": []
  },
  {
   "cell_type": "code",
   "execution_count": null,
   "metadata": {},
   "outputs": [],
   "source": []
  },
  {
   "cell_type": "code",
   "execution_count": null,
   "metadata": {},
   "outputs": [],
   "source": []
  },
  {
   "cell_type": "code",
   "execution_count": null,
   "metadata": {},
   "outputs": [],
   "source": []
  },
  {
   "cell_type": "code",
   "execution_count": null,
   "metadata": {},
   "outputs": [],
   "source": []
  },
  {
   "cell_type": "code",
   "execution_count": null,
   "metadata": {},
   "outputs": [],
   "source": []
  },
  {
   "cell_type": "code",
   "execution_count": null,
   "metadata": {},
   "outputs": [],
   "source": []
  },
  {
   "cell_type": "code",
   "execution_count": null,
   "metadata": {},
   "outputs": [],
   "source": []
  },
  {
   "cell_type": "code",
   "execution_count": null,
   "metadata": {},
   "outputs": [],
   "source": []
  },
  {
   "cell_type": "code",
   "execution_count": null,
   "metadata": {},
   "outputs": [],
   "source": []
  }
 ],
 "metadata": {
  "language_info": {
   "name": "python"
  },
  "orig_nbformat": 4
 },
 "nbformat": 4,
 "nbformat_minor": 2
}
